{
 "cells": [
  {
   "cell_type": "markdown",
   "metadata": {},
   "source": [
    "매직커맨드 -> %pwd, %ls, %whos, %reset\n",
    "shell커맨드 -> !echo, !ls\n",
    "docstring -> 함수에 대한 설명\n",
    "식별자 -> 변수, 함수 등의 이름을 식별자 라고 한다. -> 변수, 함수는 snake case / 클래스는 camel case\n",
    "파이썬은 변수 선언 시, 동적타이핑이 됨. 즉, 변수 선언 시, 저장하는 값에 따라 자동으로 데이터타입이 결정됨 ( 동적 타이핑 )\n",
    "기본 데이터 타입 - int, str, bool, float / 컬렉션 데이터 타입 - list, tuple, dict\n"
   ]
  },
  {
   "cell_type": "code",
   "execution_count": 4,
   "metadata": {},
   "outputs": [
    {
     "data": {
      "text/plain": [
       "{1: 3, '3': 3}"
      ]
     },
     "execution_count": 4,
     "metadata": {},
     "output_type": "execute_result"
    }
   ],
   "source": [
    "#dict형 키 -> 정수, 문자형 / 밸류 -> 정수, 문자형, 순서 없고 마스킹은 key로 함.\n",
    "a = {1:3,'3':3}\n",
    "a"
   ]
  },
  {
   "cell_type": "code",
   "execution_count": 7,
   "metadata": {},
   "outputs": [
    {
     "name": "stdout",
     "output_type": "stream",
     "text": [
      "[(1, 'se'), (2, 'ou'), (3, 'l')] {1: 'se', 2: 'ou', 3: 'l'}\n"
     ]
    }
   ],
   "source": [
    "a = [1,2,3]\n",
    "b = ['se','ou','l']\n",
    "\n",
    "result = list(zip(a,b))\n",
    "result2 = dict(zip(a,b))\n",
    "print(result,result2)"
   ]
  },
  {
   "cell_type": "code",
   "execution_count": 8,
   "metadata": {},
   "outputs": [
    {
     "name": "stdout",
     "output_type": "stream",
     "text": [
      "0401_practice_Python.ipynb  0402_practice_Python.ipynb\r\n"
     ]
    }
   ],
   "source": [
    "%ls"
   ]
  },
  {
   "cell_type": "code",
   "execution_count": 9,
   "metadata": {},
   "outputs": [
    {
     "data": {
      "text/plain": [
       "True"
      ]
     },
     "execution_count": 9,
     "metadata": {},
     "output_type": "execute_result"
    }
   ],
   "source": [
    "not(True and False)"
   ]
  },
  {
   "cell_type": "code",
   "execution_count": 10,
   "metadata": {},
   "outputs": [
    {
     "data": {
      "text/plain": [
       "False"
      ]
     },
     "execution_count": 10,
     "metadata": {},
     "output_type": "execute_result"
    }
   ],
   "source": [
    "(True and False)"
   ]
  },
  {
   "cell_type": "code",
   "execution_count": null,
   "metadata": {},
   "outputs": [],
   "source": []
  }
 ],
 "metadata": {
  "kernelspec": {
   "display_name": "Python 3",
   "language": "python",
   "name": "python3"
  },
  "language_info": {
   "codemirror_mode": {
    "name": "ipython",
    "version": 3
   },
   "file_extension": ".py",
   "mimetype": "text/x-python",
   "name": "python",
   "nbconvert_exporter": "python",
   "pygments_lexer": "ipython3",
   "version": "3.7.4"
  }
 },
 "nbformat": 4,
 "nbformat_minor": 2
}
