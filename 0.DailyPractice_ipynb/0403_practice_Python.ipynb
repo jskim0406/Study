{
 "cells": [
  {
   "cell_type": "code",
   "execution_count": 1,
   "metadata": {},
   "outputs": [],
   "source": [
    "# 삼향연산자 -> 표현식 if 조건 else 표현"
   ]
  },
  {
   "cell_type": "code",
   "execution_count": 24,
   "metadata": {},
   "outputs": [
    {
     "name": "stdout",
     "output_type": "stream",
     "text": [
      "1 x 1 : 1 1 x 2 : 2 1 x 3 : 3 1 x 4 : 4 1 x 5 : 5 1 x 6 : 6 1 x 7 : 7 1 x 8 : 8 1 x 9 : 9 2 x 1 : 2 2 x 2 : 4 2 x 3 : 6 2 x 4 : 8 2 x 5 : 10 2 x 6 : 12 2 x 7 : 14 2 x 8 : 16 2 x 9 : 18 3 x 1 : 3 3 x 2 : 6 3 x 3 : 9 3 x 4 : 12 3 x 5 : 15 3 x 6 : 18 3 x 7 : 21 3 x 8 : 24 3 x 9 : 27 4 x 1 : 4 4 x 2 : 8 4 x 3 : 12 4 x 4 : 16 4 x 5 : 20 4 x 6 : 24 4 x 7 : 28 4 x 8 : 32 4 x 9 : 36 5 x 1 : 5 5 x 2 : 10 5 x 3 : 15 5 x 4 : 20 5 x 5 : 25 5 x 6 : 30 5 x 7 : 35 5 x 8 : 40 5 x 9 : 45 6 x 1 : 6 6 x 2 : 12 6 x 3 : 18 6 x 4 : 24 6 x 5 : 30 6 x 6 : 36 6 x 7 : 42 6 x 8 : 48 6 x 9 : 54 7 x 1 : 7 7 x 2 : 14 7 x 3 : 21 7 x 4 : 28 7 x 5 : 35 7 x 6 : 42 7 x 7 : 49 7 x 8 : 56 7 x 9 : 63 8 x 1 : 8 8 x 2 : 16 8 x 3 : 24 8 x 4 : 32 8 x 5 : 40 8 x 6 : 48 8 x 7 : 56 8 x 8 : 64 8 x 9 : 72 9 x 1 : 9 9 x 2 : 18 9 x 3 : 27 9 x 4 : 36 9 x 5 : 45 9 x 6 : 54 9 x 7 : 63 9 x 8 : 72 9 x 9 : 81 "
     ]
    }
   ],
   "source": [
    "# 구구단 표현\n",
    "\n",
    "# 1) i 1-9\n",
    "# 2) j 1-9\n",
    "# 3) i*j 연산해서 표현\n",
    "\n",
    "for i in range(1,10):\n",
    "    for j in range(1,10):\n",
    "        print(\"{} x {} : {}\".format(i,j,i*j),end=' ')"
   ]
  },
  {
   "cell_type": "code",
   "execution_count": 25,
   "metadata": {
    "scrolled": true
   },
   "outputs": [
    {
     "name": "stdout",
     "output_type": "stream",
     "text": [
      "CPU times: user 2 µs, sys: 0 ns, total: 2 µs\n",
      "Wall time: 5.72 µs\n",
      "['짝수', '홀수', '짝수', '홀수']\n"
     ]
    }
   ],
   "source": [
    "# 리스트내포 vs for문 비교 -> 리스트내포가 더 빠름. 예제는 0123 리스트에 각각 홀수인지 짝수인지 프린트하도록!\n",
    "%time\n",
    "ls = [0,1,2,3]  # iterable 데이터\n",
    "result = ['홀수' if data%2 else '짝수' for data in ls]\n",
    "print(result)"
   ]
  },
  {
   "cell_type": "code",
   "execution_count": 26,
   "metadata": {},
   "outputs": [
    {
     "name": "stdout",
     "output_type": "stream",
     "text": [
      "CPU times: user 2 µs, sys: 0 ns, total: 2 µs\n",
      "Wall time: 3.81 µs\n",
      "['짝수', '홀수', '짝수', '홀수']\n"
     ]
    }
   ],
   "source": [
    "%time\n",
    "ls_for = [0,1,2,3]\n",
    "result_for = []\n",
    "for data_for in ls_for:\n",
    "    if data_for%2:\n",
    "        result_for.append('홀수')\n",
    "    else:\n",
    "        result_for.append('짝수')\n",
    "        \n",
    "print(result_for)"
   ]
  },
  {
   "cell_type": "code",
   "execution_count": 28,
   "metadata": {},
   "outputs": [
    {
     "data": {
      "text/plain": [
       "9"
      ]
     },
     "execution_count": 28,
     "metadata": {},
     "output_type": "execute_result"
    }
   ],
   "source": [
    "# a,b => 파라미터, 4,5 => 아규먼트 (파라미터는 전달받는 값,함수 선언 시 / 아규먼트는 입력 값,함수 호출 시)\n",
    "def plus(a,b):\n",
    "    return a+b\n",
    "\n",
    "plus(4,5)"
   ]
  },
  {
   "cell_type": "code",
   "execution_count": 33,
   "metadata": {},
   "outputs": [
    {
     "data": {
      "text/plain": [
       "101"
      ]
     },
     "execution_count": 33,
     "metadata": {},
     "output_type": "execute_result"
    }
   ],
   "source": [
    "# 디폴트 파라미터 = 키워드 파라미터 모습 -> 파라미터에 기본값을 넣어 주는 것. key=value 형태로 파라미터 입력\n",
    "def plus(a,b=10):\n",
    "    return a+b\n",
    "\n",
    "plus(1,11)\n",
    "plus(1)\n",
    "plus(1,100)"
   ]
  },
  {
   "cell_type": "code",
   "execution_count": 34,
   "metadata": {},
   "outputs": [],
   "source": [
    "#return -> 반환기능 -> 반환하면 변수 = return 하면, 변수에 저장.. 따라서, 함수 연산 결과를 저장하고 싶을 때, return을 사용!"
   ]
  },
  {
   "cell_type": "code",
   "execution_count": 48,
   "metadata": {},
   "outputs": [],
   "source": [
    "# 가변길이 파라미터, 가변길이 아규먼트\n",
    "# 가변길이 파라미터 -> 파라미터 자리에 *args, **kwargs 를 넣어주고, 호출 시 아규먼트 혹은 키워드 아규먼트를 n개 넣어준다.\n",
    "# 가변길이 아규먼트 -> 아규먼트 자리에 여러개를 넣고 싶을 때 사용. iterable한 변수를 생성 후, 아규먼트 자리에 *data 만 넣어주면, data안에 있는 iterable한 요소들이 각각 하나씩 들어가게 됨.\n",
    "# 대신, 가변길이 아규먼트가 4개면, 함수의 파라미터도 4개여야 하겠지?\n",
    "# 가변길이 아규먼트 중 키워드 아규먼트 인 경우, **dictionary 이런 식으로 적는다."
   ]
  },
  {
   "cell_type": "code",
   "execution_count": 76,
   "metadata": {},
   "outputs": [
    {
     "data": {
      "text/plain": [
       "321"
      ]
     },
     "execution_count": 76,
     "metadata": {},
     "output_type": "execute_result"
    }
   ],
   "source": [
    "# A = [1,2,3,4,5,6], B = {'num1':100,'num2':200} 가 있을 때, A의 모든 요소와 B의 모든 value를 더하는 함수를 만드시오\n",
    "# 함수명 : plus\n",
    "\n",
    "A = [1,2,3,4,5,6]\n",
    "B = {'num1':100,'num2':200}\n",
    "\n",
    "def plus(*args,**kwargs):\n",
    "    return sum(args) + sum(kwargs.values())\n",
    "\n",
    "plus(*A,**B)"
   ]
  },
  {
   "cell_type": "code",
   "execution_count": 80,
   "metadata": {},
   "outputs": [
    {
     "data": {
      "text/plain": [
       "1322"
      ]
     },
     "execution_count": 80,
     "metadata": {},
     "output_type": "execute_result"
    }
   ],
   "source": [
    "# *args, **kwargs 아규먼트 -> 함수의 입력할 게 너무 많아.. 그래서 일일이 치기 힘들어.. 그냥 변수명으로 넣고 싶다. 매번 변하기도 하고.. 그럴 때 가변인자 아규먼트 사용\n",
    "\n",
    "ls = [1,2,3,4,5,6]\n",
    "ls_dic = {'a':100,'b':200}\n",
    "\n",
    "def plus2(*args,**kwargs):\n",
    "    return sum(args) + sum(kwargs.values())\n",
    "\n",
    "plus2(1,num=1000,*ls,**ls_dic)"
   ]
  },
  {
   "cell_type": "code",
   "execution_count": null,
   "metadata": {},
   "outputs": [],
   "source": []
  }
 ],
 "metadata": {
  "kernelspec": {
   "display_name": "Python 3",
   "language": "python",
   "name": "python3"
  },
  "language_info": {
   "codemirror_mode": {
    "name": "ipython",
    "version": 3
   },
   "file_extension": ".py",
   "mimetype": "text/x-python",
   "name": "python",
   "nbconvert_exporter": "python",
   "pygments_lexer": "ipython3",
   "version": "3.7.4"
  }
 },
 "nbformat": 4,
 "nbformat_minor": 2
}
