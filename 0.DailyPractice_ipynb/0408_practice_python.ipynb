{
 "cells": [
  {
   "cell_type": "markdown",
   "metadata": {},
   "source": [
    "# Day 4 진도 연속"
   ]
  },
  {
   "cell_type": "markdown",
   "metadata": {},
   "source": [
    "# Module package\n",
    "\n"
   ]
  },
  {
   "cell_type": "markdown",
   "metadata": {},
   "source": [
    "# 클래스 예제\n",
    "- 계좌 클래스 만들기\n",
    "- 변수 : 자산(asset), 이자율(interest)\n",
    "- 함수 : 인출(draw), 입금(insert), 이자추가(add_interest)\n",
    "- 인출 시, 자산 이상의 돈을 인출할 수 없다."
   ]
  },
  {
   "cell_type": "code",
   "execution_count": 60,
   "metadata": {},
   "outputs": [
    {
     "data": {
      "text/plain": [
       "10000"
      ]
     },
     "execution_count": 60,
     "metadata": {},
     "output_type": "execute_result"
    }
   ],
   "source": [
    "class Account:\n",
    "    def __init__(self,asset,interest=1.05):\n",
    "        self.asset = asset\n",
    "        self.interest = interest\n",
    "        \n",
    "    def draw(self,amount):\n",
    "        if self.asset >= amount:\n",
    "            self.asset -= amount\n",
    "            print(\"{}원이 인출되었습니다.\".format(amount))\n",
    "            \n",
    "        else:\n",
    "            print('{}원이 부족합니다.'.format((amount-self.asset)))\n",
    "        \n",
    "    def insert(self,amount):\n",
    "        self.asset += amount\n",
    "        print('{}원이 입금되었습니다.'.format(amount))\n",
    "        \n",
    "    def add_interest(self):\n",
    "        self.asset *= self.interest\n",
    "        print('{}원의 이자가 입금되었습니다.'.format((self.asset*(self.interest-1))))\n",
    "        \n",
    "    def __repr__(self):\n",
    "        return \"asset : {}, interest : {}\".format(self.asset, self.interest)\n",
    "        \n",
    "acc1 = Account(10000)\n",
    "acc1.asset"
   ]
  },
  {
   "cell_type": "code",
   "execution_count": 61,
   "metadata": {},
   "outputs": [
    {
     "data": {
      "text/plain": [
       "asset : 10000, interest : 1.05"
      ]
     },
     "execution_count": 61,
     "metadata": {},
     "output_type": "execute_result"
    }
   ],
   "source": [
    "acc1"
   ]
  },
  {
   "cell_type": "code",
   "execution_count": 62,
   "metadata": {},
   "outputs": [
    {
     "name": "stdout",
     "output_type": "stream",
     "text": [
      "2000원이 부족합니다.\n"
     ]
    }
   ],
   "source": [
    "acc1.draw(12000)"
   ]
  },
  {
   "cell_type": "code",
   "execution_count": 63,
   "metadata": {},
   "outputs": [
    {
     "name": "stdout",
     "output_type": "stream",
     "text": [
      "3000원이 인출되었습니다.\n"
     ]
    }
   ],
   "source": [
    "acc1.draw(3000)"
   ]
  },
  {
   "cell_type": "code",
   "execution_count": 64,
   "metadata": {},
   "outputs": [
    {
     "data": {
      "text/plain": [
       "asset : 7000, interest : 1.05"
      ]
     },
     "execution_count": 64,
     "metadata": {},
     "output_type": "execute_result"
    }
   ],
   "source": [
    "acc1"
   ]
  },
  {
   "cell_type": "code",
   "execution_count": 65,
   "metadata": {},
   "outputs": [
    {
     "name": "stdout",
     "output_type": "stream",
     "text": [
      "5000원이 입금되었습니다.\n"
     ]
    },
    {
     "data": {
      "text/plain": [
       "asset : 12000, interest : 1.05"
      ]
     },
     "execution_count": 65,
     "metadata": {},
     "output_type": "execute_result"
    }
   ],
   "source": [
    "acc1.insert(5000)\n",
    "acc1"
   ]
  },
  {
   "cell_type": "code",
   "execution_count": 67,
   "metadata": {
    "scrolled": true
   },
   "outputs": [
    {
     "name": "stdout",
     "output_type": "stream",
     "text": [
      "661.5000000000006원의 이자가 입금되었습니다.\n"
     ]
    },
    {
     "data": {
      "text/plain": [
       "asset : 13230.0, interest : 1.05"
      ]
     },
     "execution_count": 67,
     "metadata": {},
     "output_type": "execute_result"
    }
   ],
   "source": [
    "acc1.add_interest()\n",
    "acc1"
   ]
  },
  {
   "cell_type": "code",
   "execution_count": 68,
   "metadata": {},
   "outputs": [],
   "source": [
    "# 백준 https://www.acmicpc.net/problem/11720\n",
    "# N개의 숫자가 공백 없이 쓰여있다. 이 숫자를 모두 합해서 출력하는 프로그램을 작성하시오.\n",
    "# 입력 : 첫째 줄에 숫자의 개수 N (1 ≤ N ≤ 100)이 주어진다. 둘째 줄에 숫자 N개가 공백없이 주어진다.\n",
    "# 출력 : 입력으로 주어진 숫자 N개의 합을 출력한다.\n",
    "\n",
    "# 예)\n",
    "# 숫자갯수 : 11\n",
    "# 숫자 : 10987654321"
   ]
  },
  {
   "cell_type": "code",
   "execution_count": 94,
   "metadata": {},
   "outputs": [
    {
     "name": "stdout",
     "output_type": "stream",
     "text": [
      "(10987654321,)\n",
      "1\n"
     ]
    },
    {
     "data": {
      "text/plain": [
       "1"
      ]
     },
     "execution_count": 94,
     "metadata": {},
     "output_type": "execute_result"
    }
   ],
   "source": [
    "def accumul_sum(*args):\n",
    "    \n",
    "    num = []\n",
    "    result = 0\n",
    "    \n",
    "    print(args)\n",
    "    \n",
    "    #숫자 뭉텅이를 문자열 뭉텅이로\n",
    "    for i in range(len(args)):\n",
    "        num.append(str(args[i]))\n",
    "    \n",
    "    #문자열 뭉텅이를 하나씩 숫자로 바꿔서 누적 합 내주기\n",
    "    for i in range(len(args)):\n",
    "        print(len(args))\n",
    "        result += int(num[0][i])\n",
    "    \n",
    "    return result\n",
    "    \n",
    "accumul_sum(10987654321)"
   ]
  },
  {
   "cell_type": "code",
   "execution_count": 116,
   "metadata": {},
   "outputs": [
    {
     "name": "stdout",
     "output_type": "stream",
     "text": [
      "갯수를 입력해주세요 : 5\n",
      "숫자를 입력해주세요 : 54321\n"
     ]
    },
    {
     "data": {
      "text/plain": [
       "15"
      ]
     },
     "execution_count": 116,
     "metadata": {},
     "output_type": "execute_result"
    }
   ],
   "source": [
    "# <작업단위 처리 순서>\n",
    "# 함수선언\n",
    "# 숫자 입력받기 (갯수, 숫자)\n",
    "# 숫자 뭉텅이를 문자열 뭉텅이로 ( 문자열이어야 하나씩 떼내기 쉬워서 )\n",
    "# 문자열 뭉텅이를 문자 낱개로 분리 ( 리스트에 문자 분리해서 .append( ) )\n",
    "# 문자 낱개를 int로 변환\n",
    "# int형 숫자들을 누적 sum해서 result에 넣어 반환\n",
    "\n",
    "\n",
    "# 함수선언\n",
    "def accumul_sum():\n",
    "        \n",
    "    # 숫자 입력받기 (갯수, 숫자), input은 항상 string으로 받는다.\n",
    "    count = int(input(\"갯수를 입력해주세요 : \"))\n",
    "    number_str = input(\"숫자를 입력해주세요 : \")\n",
    "    \n",
    "    # 문자열 뭉텅이를 문자 낱개로 분리 (리스트에 문자 분리해서 .append() )\n",
    "    number_str_single = []\n",
    "    for i in range(count):\n",
    "        number_str_single += number_str[i]\n",
    "     \n",
    "    # 문자 낱개를 int로 변환\n",
    "    number_int_single = []\n",
    "    for i in range(count):\n",
    "        number_int_single.append(int(number_str_single[i]))\n",
    "        \n",
    "    # int형 숫자들을 누적 sum해서 반환\n",
    "    return sum(number_int_single)\n",
    "    \n",
    "accumul_sum()"
   ]
  },
  {
   "cell_type": "code",
   "execution_count": 105,
   "metadata": {},
   "outputs": [
    {
     "data": {
      "text/plain": [
       "[1, 2, 3]"
      ]
     },
     "execution_count": 105,
     "metadata": {},
     "output_type": "execute_result"
    }
   ],
   "source": [
    "a = ['1','2','3']\n",
    "# a = int(a)\n",
    "b = []\n",
    "\n",
    "for i in range(len(a)):\n",
    "    b.append(int(a[i]))\n",
    "    \n"
   ]
  },
  {
   "cell_type": "markdown",
   "metadata": {},
   "source": [
    "# 스터디 문제풀이"
   ]
  },
  {
   "cell_type": "code",
   "execution_count": 4,
   "metadata": {},
   "outputs": [
    {
     "data": {
      "text/plain": [
       "100"
      ]
     },
     "execution_count": 4,
     "metadata": {},
     "output_type": "execute_result"
    }
   ],
   "source": [
    "#1번\n",
    "a = 100\n",
    "b = 200\n",
    "\n",
    "b and a"
   ]
  },
  {
   "cell_type": "code",
   "execution_count": 6,
   "metadata": {},
   "outputs": [],
   "source": [
    "import numpy as np"
   ]
  },
  {
   "cell_type": "code",
   "execution_count": 13,
   "metadata": {},
   "outputs": [
    {
     "data": {
      "text/plain": [
       "array([1, 3, 5, 7, 9])"
      ]
     },
     "execution_count": 13,
     "metadata": {},
     "output_type": "execute_result"
    }
   ],
   "source": [
    "arr = np.arange(1,10)\n",
    "arr\n",
    "\n",
    "arr = arr[arr%2==1]\n",
    "arr"
   ]
  },
  {
   "cell_type": "code",
   "execution_count": null,
   "metadata": {},
   "outputs": [],
   "source": []
  },
  {
   "cell_type": "code",
   "execution_count": null,
   "metadata": {},
   "outputs": [],
   "source": []
  },
  {
   "cell_type": "code",
   "execution_count": null,
   "metadata": {},
   "outputs": [],
   "source": []
  },
  {
   "cell_type": "code",
   "execution_count": null,
   "metadata": {},
   "outputs": [],
   "source": []
  },
  {
   "cell_type": "code",
   "execution_count": null,
   "metadata": {},
   "outputs": [],
   "source": []
  },
  {
   "cell_type": "code",
   "execution_count": null,
   "metadata": {},
   "outputs": [],
   "source": []
  },
  {
   "cell_type": "code",
   "execution_count": null,
   "metadata": {},
   "outputs": [],
   "source": []
  },
  {
   "cell_type": "code",
   "execution_count": null,
   "metadata": {},
   "outputs": [],
   "source": []
  }
 ],
 "metadata": {
  "kernelspec": {
   "display_name": "Python 3",
   "language": "python",
   "name": "python3"
  },
  "language_info": {
   "codemirror_mode": {
    "name": "ipython",
    "version": 3
   },
   "file_extension": ".py",
   "mimetype": "text/x-python",
   "name": "python",
   "nbconvert_exporter": "python",
   "pygments_lexer": "ipython3",
   "version": "3.7.4"
  }
 },
 "nbformat": 4,
 "nbformat_minor": 2
}
