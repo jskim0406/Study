{
 "cells": [
  {
   "cell_type": "code",
   "execution_count": null,
   "metadata": {},
   "outputs": [],
   "source": [
    "03.04 특이값 분해\n",
    "\n",
    "1) 특이값과 특이벡터 (03.04 1page)\n",
    "\n",
    "\n",
    "\n",
    "\n",
    "\n",
    "2) 특이값 분해 행렬의 크기 (03.04 3page)\n",
    "    - 특이값 분해는 모든 행렬에 대해 가능하다. (고유값 분해는 정방행렬A에 대해 + 고유벡터set이 가역적일 때만 대각화 가능)\n",
    "    - \n",
    "\n",
    "\n",
    "3) 특이값 분해의 축소형\n",
    "    - (03.04 3page)\n",
    "    - (03.04 4page 상단)\n",
    "    \n",
    "    \n",
    "    \n",
    "    \n",
    "\n",
    "    \n",
    "4) 파이썬을 활용한 특이분해(꼭 해보기) (연습문제 3.4.1)\n",
    "\n",
    "5) 특이값과 특이벡터의 관계 (03.04 7page)\n",
    "\n",
    "\n",
    "\n",
    "\n",
    "\n",
    "6) 특이분해와 고유분해의 관계\n",
    "    - 고유분해를 고려하기 위해, 정방행렬을 만들어주자. 분산행렬을 활용!\n",
    "    - 행렬 A의 분산행렬을 만들어 생각하면 간단\n",
    "     \n",
    "7) 1차원 근사\n",
    "    - (03.04 10page, 11page)\n",
    "\n",
    "8) 1차원 근사 풀이 <- 특이값 분해 활용\n",
    "\n",
    "\n",
    "\n",
    "\n"
   ]
  },
  {
   "cell_type": "code",
   "execution_count": null,
   "metadata": {},
   "outputs": [],
   "source": []
  },
  {
   "cell_type": "code",
   "execution_count": null,
   "metadata": {},
   "outputs": [],
   "source": []
  },
  {
   "cell_type": "code",
   "execution_count": null,
   "metadata": {},
   "outputs": [],
   "source": []
  },
  {
   "cell_type": "code",
   "execution_count": null,
   "metadata": {},
   "outputs": [],
   "source": []
  },
  {
   "cell_type": "code",
   "execution_count": null,
   "metadata": {},
   "outputs": [],
   "source": []
  }
 ],
 "metadata": {
  "kernelspec": {
   "display_name": "Python 3",
   "language": "python",
   "name": "python3"
  },
  "language_info": {
   "codemirror_mode": {
    "name": "ipython",
    "version": 3
   },
   "file_extension": ".py",
   "mimetype": "text/x-python",
   "name": "python",
   "nbconvert_exporter": "python",
   "pygments_lexer": "ipython3",
   "version": "3.7.4"
  }
 },
 "nbformat": 4,
 "nbformat_minor": 2
}
