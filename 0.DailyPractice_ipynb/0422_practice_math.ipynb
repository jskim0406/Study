{
 "cells": [
  {
   "cell_type": "code",
   "execution_count": null,
   "metadata": {},
   "outputs": [],
   "source": [
    "# 연습문제 05.02\n",
    "\n",
    "연습문제 5.2.3\n",
    "연습문제 5.2.4 ( 07. 최적화기초_선형계획법_집합_20191028_03 30분 ~ )\n",
    "5.3.7 예제 -> 수기 + 코드(scipy, CVXPY 모두)\n",
    "연습문제 5.3.1 -> 이차형식 리마인드. SVM에서 사용된다니.. 꼭 손으로 다시 해보기\n",
    "연습문제 6.1.1 -> itertools 패키지 (데이터분석 시의 노가다를 해결해줄 것)\n",
    "\n",
    "\n"
   ]
  },
  {
   "cell_type": "code",
   "execution_count": 7,
   "metadata": {},
   "outputs": [],
   "source": [
    "import numpy as np\n",
    "import scipy as sp\n",
    "import pandas as pd\n",
    "import matplotlib.pylab as plt\n",
    "import seaborn as sns\n",
    "import sklearn as sk\n",
    "import statsmodels.api as sm\n",
    "from sklearn.decomposition import PCA\n",
    "import sympy"
   ]
  },
  {
   "cell_type": "code",
   "execution_count": null,
   "metadata": {},
   "outputs": [],
   "source": [
    "05.02 제한조건이 있는 최적화 문제\n",
    "\n",
    "3) 라그랑지 승수법 (라그랑지 승수 = 람다)\n",
    "\n",
    "    0) 제한식 = 0 꼴로 다듬기 (gi(x) = 0)\n",
    "    1) 등식 제한조건에 람다를 붙여 새로운 목적함수 생성\n",
    "    2) 기존 변수(x들)와 람다변수들 모두의 그레디언트벡터 = 0 으로 하는 xi*, 람다i*를 찾는다. (최적해)\n",
    "        *람다i = 0 이라면, 해당 제한등식(gi(x))는 무의미한 제한식\n",
    "\n",
    "* 라그랑지 승수(람다)의 의미\n",
    "    : 제한조건이 의미가 있으려면 람다는 0이 아니다. \n",
    "      (제한조건 유무에 관계없이 해가 같다면, 람다=0, 제한조건 없이 그냥 최적화 진행과 같음)\n",
    "      (람다=0 일때만 등식이 있을 때와 없을 때의 최적해가 같아짐)\n",
    "        \n",
    "\n",
    "4) 부등식 제한조건\n",
    "    - 제한조건인 부등식은 g(x)<= 0 으로 부등호 방향이 되도록 해야함\n",
    "    - 라그랑지 승수법을 적용해 새로운 목적함수 만들어 최적화 실시. 단 KKT 조건을 만족해야 최적해 찾을 수 있음\n",
    "    - KKT 조건 (05.02 7page)\n",
    "        1) 다변수에 대한 미분 값 = 0\n",
    "            <=> x로 미분한 값 = 0\n",
    "        2) 라그랑지 승수에 대한 미분값 = 0 or 라그랑지 승수 = 0 (05.02 9page)\n",
    "            <=> 람다 = 0 or 람다로 미분한 값 = 0\n",
    "        3) 라그랑지 승수 >= 0\n",
    "            <=> 람다 >= 0\n",
    "\n",
    "    \n",
    "    con) 람다 = 0 이면, 제한조건 없는 상태(제한조건 선과 관련 없이)에서의 최적해 찾을 것이고, \n",
    "         람다 != 0 이라면, 등식 제한조건(제한조건 선 위에서)에서 최적해를 찾을 것이다.\n",
    "        \n",
    "        \n",
    "    \n",
    "    \n",
    "05.03 선형계획법 문제와 이차계획법 문제\n",
    "\n",
    "    - 05.01 : 최초 목적함수만 주어졌을 때의 최적화\n",
    "    - 05.02 : 제한조건이 추가되었을 때의 최적화 (등식, 부등식)\n",
    "    - 05.03 : 목적함수, 제한조건이 특정한 경우의 최적화 (선형계획법 문제, 2차계획법 문제)\n",
    "\n",
    "1) 선형계획법 문제(Linear programming 문제, LP문제)\n",
    "    - 목적함수가 선형함수 인 경우 = 목적함수가 w.Tx 로 계수와 변수를 선형결합 시켜 스칼라 값을 갖는 경우 (5.3.1)\n",
    "        1) 표준형\n",
    "            - 제한조건 2개\n",
    "                Ax = b   *A = 등식 제한조건 계수행렬, b = 등식 제한조건 상수 벡터\n",
    "                x >= 0\n",
    "        \n",
    "        2) 정규형\n",
    "            - 제한조건 2개\n",
    "                Ax <= b\n",
    "                x >= 0\n",
    "                \n",
    "    \n",
    "    - 최적 생산량 예제 (최적화 중 LP문제)\n",
    "    \n",
    "    - 해결 방법 : scipy 활용 코드 / CVXPY 활용 코드(직관적이나 속도 느림)\n",
    "        \n",
    "        \n",
    "        \n",
    "2) 2차계획법 문제(Quadratic programming 문제, QD문제)\n",
    "    - LP 문제 목적함수에 이차형식만 추가됨 (5.3.13)\n",
    "    \n",
    "    - 해결 방법 : CVXOPT "
   ]
  },
  {
   "cell_type": "code",
   "execution_count": null,
   "metadata": {},
   "outputs": [],
   "source": [
    "06.01 집합\n",
    "\n",
    "1) 집합과 원소\n",
    "    - mutable : 객체 메모리 내용 변경 가능. set이 품음. (list, dict(key)나 set 자료형의 원소로 사용 불가. (06.01 1page)\n",
    "    - immutable : 내용 변경 불가. frozenset이 품음. (int, float, str, tuple)\n",
    "        \n",
    "                                           \n",
    "                                           \n",
    "                                           \n",
    "2) 집합의 크기 : Cardinality\n",
    "    - Cardinality : 원소의 갯수 (len(A) 로 알 수 있음)\n",
    "        \n",
    "3) 합집합과 교집합\n",
    "    - 합집합 : A.union(A2), A|A2\n",
    "    - 교집합 : A.intersection(A2), A&A2\n",
    "    \n",
    "4) 부분집합\n",
    "    - A.issubset(A2), A<=A2 : A가 A2의 부분집합인지 확인\n",
    "    - A < A2 : A가 진부분집합인지 확인 (진부분집합 : A<B 이지만, A!=B 일 때)\n",
    "    \n",
    "5) 차집합, 여집합\n",
    "    - A - A2, A.difference(A2)\n",
    "\n",
    "6) 공집합\n",
    "    - A = set([])\n",
    "    \n",
    "    \n",
    "7) 부분집합의 수\n",
    "    - 2**n 개\n",
    "    \n",
    "    \n",
    "8) set은 set의 원소가 될 수 없음. frozenset만 set의 원소가 될 수 있음\n",
    "\n",
    "\n",
    "        "
   ]
  },
  {
   "cell_type": "code",
   "execution_count": null,
   "metadata": {},
   "outputs": [],
   "source": []
  },
  {
   "cell_type": "code",
   "execution_count": null,
   "metadata": {},
   "outputs": [],
   "source": []
  },
  {
   "cell_type": "code",
   "execution_count": 9,
   "metadata": {},
   "outputs": [
    {
     "name": "stdout",
     "output_type": "stream",
     "text": [
      "Optimization terminated successfully.    (Exit mode 0)\n",
      "            Current function value: 4.382922108746309\n",
      "            Iterations: 11\n",
      "            Function evaluations: 72\n",
      "            Gradient evaluations: 11\n"
     ]
    },
    {
     "data": {
      "text/plain": [
       "array([9.99983654e-02, 1.63456102e-06])"
      ]
     },
     "execution_count": 9,
     "metadata": {},
     "output_type": "execute_result"
    }
   ],
   "source": [
    "# 연습문제 5.2.4\n",
    "\n",
    "def f2(x):\n",
    "    return np.sqrt((x[0] - 4) ** 2 + (x[1] - 2) ** 2)\n",
    "\n",
    "# 제한 조건 상수\n",
    "k = 0.1\n",
    "def ieq_constraint(x):\n",
    "    return np.atleast_1d(k - np.sum(np.abs(x)))\n",
    "\n",
    "\n",
    "sp.optimize.fmin_slsqp(f2, np.array([0, 0]), ieqcons=[ieq_constraint])"
   ]
  },
  {
   "cell_type": "code",
   "execution_count": 13,
   "metadata": {},
   "outputs": [
    {
     "name": "stderr",
     "output_type": "stream",
     "text": [
      "Font 'default' does not have a glyph for '\\uc81c' [U+c81c], substituting with a dummy symbol.\n",
      "Font 'default' does not have a glyph for '\\ud55c' [U+d55c], substituting with a dummy symbol.\n",
      "Font 'default' does not have a glyph for '\\uc870' [U+c870], substituting with a dummy symbol.\n",
      "Font 'default' does not have a glyph for '\\uac74' [U+ac74], substituting with a dummy symbol.\n",
      "Font 'default' does not have a glyph for '\\uc744' [U+c744], substituting with a dummy symbol.\n",
      "Font 'default' does not have a glyph for '\\uac00' [U+ac00], substituting with a dummy symbol.\n",
      "Font 'default' does not have a glyph for '\\uc9c0' [U+c9c0], substituting with a dummy symbol.\n",
      "Font 'default' does not have a glyph for '\\ub294' [U+b294], substituting with a dummy symbol.\n",
      "Font 'default' does not have a glyph for '\\ucd5c' [U+cd5c], substituting with a dummy symbol.\n",
      "Font 'default' does not have a glyph for '\\uc801' [U+c801], substituting with a dummy symbol.\n",
      "Font 'default' does not have a glyph for '\\ud654' [U+d654], substituting with a dummy symbol.\n",
      "Font 'default' does not have a glyph for '\\ubb38' [U+bb38], substituting with a dummy symbol.\n",
      "Font 'default' does not have a glyph for '\\uc81c' [U+c81c], substituting with a dummy symbol.\n",
      "Font 'default' does not have a glyph for '\\ud55c' [U+d55c], substituting with a dummy symbol.\n",
      "Font 'default' does not have a glyph for '\\uc870' [U+c870], substituting with a dummy symbol.\n",
      "Font 'default' does not have a glyph for '\\uac74' [U+ac74], substituting with a dummy symbol.\n",
      "Font 'default' does not have a glyph for '\\uc744' [U+c744], substituting with a dummy symbol.\n",
      "Font 'default' does not have a glyph for '\\uac00' [U+ac00], substituting with a dummy symbol.\n",
      "Font 'default' does not have a glyph for '\\uc9c0' [U+c9c0], substituting with a dummy symbol.\n",
      "Font 'default' does not have a glyph for '\\ub294' [U+b294], substituting with a dummy symbol.\n",
      "Font 'default' does not have a glyph for '\\ucd5c' [U+cd5c], substituting with a dummy symbol.\n",
      "Font 'default' does not have a glyph for '\\uc801' [U+c801], substituting with a dummy symbol.\n",
      "Font 'default' does not have a glyph for '\\ud654' [U+d654], substituting with a dummy symbol.\n",
      "Font 'default' does not have a glyph for '\\ubb38' [U+bb38], substituting with a dummy symbol.\n"
     ]
    },
    {
     "data": {
      "image/png": "[encoded data removed]",
      "text/plain": [
       "<Figure size 432x288 with 1 Axes>"
      ]
     },
     "metadata": {
      "needs_background": "light"
     },
     "output_type": "display_data"
    }
   ],
   "source": [
    "def f2plt(x1, x2):\n",
    "    return np.sqrt((x1 - 4) ** 2 + (x2 - 2) ** 2)\n",
    "\n",
    "\n",
    "x1 = np.linspace(-2, 5, 100)\n",
    "x2 = np.linspace(-1.5, 3, 100)\n",
    "X1, X2 = np.meshgrid(x1, x2)\n",
    "Y = f2plt(X1, X2)\n",
    "\n",
    "plt.contour(X1, X2, Y, colors=\"gray\",\n",
    "            levels=np.arange(0.5, 5, 0.5) * np.sqrt(2))\n",
    "\n",
    "# 제한 조건의 상수\n",
    "k = 0.1\n",
    "ax = plt.gca()\n",
    "x12 = np.linspace(-k, 0, 10)\n",
    "x13 = np.linspace(0, k, 10)\n",
    "ax.fill_between(x12, x12 + k, -k - x12, color='g', alpha=0.5)\n",
    "ax.fill_between(x13, x13 - k, k - x13, color='g', alpha=0.5)\n",
    "\n",
    "# 최적점 위치\n",
    "x1_sol = 1\n",
    "x2_sol = 0\n",
    "plt.plot(x1_sol, x2_sol, 'ro', ms=20)\n",
    "\n",
    "plt.xlim(-2, 5)\n",
    "plt.ylim(-1.5, 3)\n",
    "plt.xticks(np.linspace(-2, 5, 8))\n",
    "plt.yticks(np.linspace(-1, 3, 5))\n",
    "plt.xlabel(\"$x_1$\")\n",
    "plt.ylabel(\"$x_2$\")\n",
    "plt.title(\"$|x_1| + |x_2| \\leq {}$ 제한조건을 가지는 최적화 문제\".format(k))\n",
    "plt.show()"
   ]
  },
  {
   "cell_type": "code",
   "execution_count": 16,
   "metadata": {},
   "outputs": [
    {
     "data": {
      "text/plain": [
       "     con: array([], dtype=float64)\n",
       "     fun: -1399.9999948073846\n",
       " message: 'Optimization terminated successfully.'\n",
       "     nit: 6\n",
       "   slack: array([1.99999991e+02, 4.19920389e-06, 3.31137130e-07, 8.10000001e+03])\n",
       "  status: 0\n",
       " success: True\n",
       "       x: array([299.99999127, 100.0000042 ])"
      ]
     },
     "execution_count": 16,
     "metadata": {},
     "output_type": "execute_result"
    }
   ],
   "source": [
    "# 선형계획법 문제 계산 (scipy 활용)\n",
    "\n",
    "import scipy.optimize\n",
    "\n",
    "c = np.array([-3, -5])\n",
    "b = np.array([-100,-100,500,9800])\n",
    "A = np.array([[-1,0],[0,-1],[1,2],[4,5]])\n",
    "\n",
    "result = sp.optimize.linprog(c,A,b)\n",
    "result"
   ]
  },
  {
   "cell_type": "code",
   "execution_count": null,
   "metadata": {},
   "outputs": [],
   "source": [
    "conda install cvxopt"
   ]
  },
  {
   "cell_type": "code",
   "execution_count": 3,
   "metadata": {},
   "outputs": [
    {
     "name": "stdout",
     "output_type": "stream",
     "text": [
      "Collecting cvxpy\n",
      "\u001b[?25l  Downloading https://files.pythonhosted.org/packages/d2/a2/31b8c02a1b722f3713a0ea24ef8484c7f51edb0a73d44a0504140d0a624a/cvxpy-1.0.31-cp37-cp37m-macosx_10_9_x86_64.whl (746kB)\n",
      "\u001b[K     |████████████████████████████████| 747kB 65kB/s eta 0:00:013\n",
      "\u001b[?25hRequirement already satisfied: scipy>=1.1.0 in /Users/kimjeongseob/opt/anaconda3/lib/python3.7/site-packages (from cvxpy) (1.4.1)\n",
      "Requirement already satisfied: numpy>=1.15 in /Users/kimjeongseob/opt/anaconda3/lib/python3.7/site-packages (from cvxpy) (1.17.2)\n",
      "Collecting scs>=1.1.3 (from cvxpy)\n",
      "\u001b[?25l  Downloading https://files.pythonhosted.org/packages/1a/72/33be87cce255d4e9dbbfef547e9fd6ec7ee94d0d0910bb2b13badea3fbbe/scs-2.1.2.tar.gz (3.5MB)\n",
      "\u001b[K     |████████████████████████████████| 3.6MB 46kB/s eta 0:00:010     |████████████████████████▋       | 2.7MB 49kB/s eta 0:00:17\n",
      "\u001b[?25hCollecting osqp>=0.4.1 (from cvxpy)\n",
      "\u001b[?25l  Downloading https://files.pythonhosted.org/packages/38/b7/1c70a2371de41d0a0d517ec8c060e741c05c30f21a9cc5a8abc239fdd302/osqp-0.6.1-cp37-cp37m-macosx_10_9_x86_64.whl (158kB)\n",
      "\u001b[K     |████████████████████████████████| 163kB 36kB/s eta 0:00:01\n",
      "\u001b[?25hCollecting ecos>=2 (from cvxpy)\n",
      "\u001b[?25l  Downloading https://files.pythonhosted.org/packages/b9/3a/59aa93b573a22fda44402383aeddcc2a081c31e61080af3da9d11855c77a/ecos-2.0.7.post1.tar.gz (126kB)\n",
      "\u001b[K     |████████████████████████████████| 133kB 37kB/s eta 0:00:01\n",
      "\u001b[?25hCollecting multiprocess (from cvxpy)\n",
      "\u001b[?25l  Downloading https://files.pythonhosted.org/packages/58/17/5151b6ac2ac9b6276d46c33369ff814b0901872b2a0871771252f02e9192/multiprocess-0.70.9.tar.gz (1.6MB)\n",
      "\u001b[K     |████████████████████████████████| 1.6MB 37kB/s eta 0:00:015\n",
      "\u001b[?25hRequirement already satisfied: future in /Users/kimjeongseob/opt/anaconda3/lib/python3.7/site-packages (from osqp>=0.4.1->cvxpy) (0.17.1)\n",
      "Collecting dill>=0.3.1 (from multiprocess->cvxpy)\n",
      "\u001b[?25l  Downloading https://files.pythonhosted.org/packages/c7/11/345f3173809cea7f1a193bfbf02403fff250a3360e0e118a1630985e547d/dill-0.3.1.1.tar.gz (151kB)\n",
      "\u001b[K     |████████████████████████████████| 153kB 50kB/s eta 0:00:01\n",
      "\u001b[?25hBuilding wheels for collected packages: scs, ecos, multiprocess, dill\n",
      "  Building wheel for scs (setup.py) ... \u001b[?25ldone\n",
      "\u001b[?25h  Created wheel for scs: filename=scs-2.1.2-cp37-cp37m-macosx_10_9_x86_64.whl size=124433 sha256=718d6f23067e7d65c701389aceb9f5a87579974e0d7ee4a93dbc3450dc1041a7\n",
      "  Stored in directory: /Users/kimjeongseob/Library/Caches/pip/wheels/df/d0/79/37ea880586da03c620ca9ecd5e42adbd86bc6ea84363965c5f\n",
      "  Building wheel for ecos (setup.py) ... \u001b[?25ldone\n",
      "\u001b[?25h  Created wheel for ecos: filename=ecos-2.0.7.post1-cp37-cp37m-macosx_10_9_x86_64.whl size=72422 sha256=70f4122382679bc08737ab7e6ce35a21b8c5732112edfa92abb1a93c732e29c7\n",
      "  Stored in directory: /Users/kimjeongseob/Library/Caches/pip/wheels/4b/7d/90/39ff7dca0e5c06740afc993ab4209a1719fc1d616daf7af040\n",
      "  Building wheel for multiprocess (setup.py) ... \u001b[?25ldone\n",
      "\u001b[?25h  Created wheel for multiprocess: filename=multiprocess-0.70.9-cp37-none-any.whl size=108029 sha256=44f13580c6f3665f789161793c3da77e746d95940aa4b56d7ec1add67a505790\n",
      "  Stored in directory: /Users/kimjeongseob/Library/Caches/pip/wheels/96/20/ac/9f1d164f7d81787cd6f4401b1d05212807d021fbbbcc301b82\n",
      "  Building wheel for dill (setup.py) ... \u001b[?25ldone\n",
      "\u001b[?25h  Created wheel for dill: filename=dill-0.3.1.1-cp37-none-any.whl size=78533 sha256=ab604feb67ceae59e3f1f4a19bc9652c602fac89ccadac5f3dc39bf9283fa8ff\n",
      "  Stored in directory: /Users/kimjeongseob/Library/Caches/pip/wheels/59/b1/91/f02e76c732915c4015ab4010f3015469866c1eb9b14058d8e7\n",
      "Successfully built scs ecos multiprocess dill\n",
      "Installing collected packages: scs, osqp, ecos, dill, multiprocess, cvxpy\n",
      "Successfully installed cvxpy-1.0.31 dill-0.3.1.1 ecos-2.0.7.post1 multiprocess-0.70.9 osqp-0.6.1 scs-2.1.2\n",
      "Note: you may need to restart the kernel to use updated packages.\n"
     ]
    }
   ],
   "source": [
    "pip install cvxpy"
   ]
  },
  {
   "cell_type": "code",
   "execution_count": 4,
   "metadata": {},
   "outputs": [
    {
     "name": "stdout",
     "output_type": "stream",
     "text": [
      "상태: optimal\n",
      "최적값: 99.99999985631587 100.0000002233542\n"
     ]
    }
   ],
   "source": [
    "# 선형계획법 문제 계산 (Cvxpy 활용)\n",
    "\n",
    "import cvxpy as cp\n",
    "\n",
    "# 변수의 정의\n",
    "a = cp.Variable() # A 생산량\n",
    "b = cp.Variable() # B 생산량\n",
    "\n",
    "# 조건의 정의\n",
    "constraints = [\n",
    "    a >= 100,\n",
    "    b >= 100,\n",
    "    a+4*b <= 500,\n",
    "    4*a+5*b <= 9800,\n",
    "]\n",
    "\n",
    "# 문제의 정의\n",
    "obj = cp.Maximize(3*a+5*b)\n",
    "prob = cp.Problem(obj, constraints)\n",
    "\n",
    "# 계산\n",
    "prob.solve()\n",
    "\n",
    "# 결과\n",
    "print(\"상태:\",prob.status)\n",
    "print(\"최적값:\",a.value,b.value)"
   ]
  },
  {
   "cell_type": "code",
   "execution_count": 8,
   "metadata": {},
   "outputs": [
    {
     "data": {
      "text/plain": [
       "array([[0.5],\n",
       "       [0.5]])"
      ]
     },
     "execution_count": 8,
     "metadata": {},
     "output_type": "execute_result"
    }
   ],
   "source": [
    "# 이차계획법 문제 계산 (CvxOpt)\n",
    "\n",
    "from cvxopt import matrix, solvers\n",
    "\n",
    "Q = matrix(np.diag([2.0, 2.0]))\n",
    "c = matrix(np.array([0.0, 0.0]))\n",
    "A = matrix(np.array([[1.0, 1.0]]))\n",
    "b = matrix(np.array([[1.0]]))\n",
    "\n",
    "sol = solvers.qp(Q, c, A=A, b=b)\n",
    "np.array(sol['x'])"
   ]
  },
  {
   "cell_type": "code",
   "execution_count": null,
   "metadata": {},
   "outputs": [],
   "source": []
  },
  {
   "cell_type": "code",
   "execution_count": null,
   "metadata": {},
   "outputs": [],
   "source": []
  },
  {
   "cell_type": "code",
   "execution_count": null,
   "metadata": {},
   "outputs": [],
   "source": []
  }
 ],
 "metadata": {
  "kernelspec": {
   "display_name": "Python 3",
   "language": "python",
   "name": "python3"
  },
  "language_info": {
   "codemirror_mode": {
    "name": "ipython",
    "version": 3
   },
   "file_extension": ".py",
   "mimetype": "text/x-python",
   "name": "python",
   "nbconvert_exporter": "python",
   "pygments_lexer": "ipython3",
   "version": "3.7.4"
  }
 },
 "nbformat": 4,
 "nbformat_minor": 2
}
