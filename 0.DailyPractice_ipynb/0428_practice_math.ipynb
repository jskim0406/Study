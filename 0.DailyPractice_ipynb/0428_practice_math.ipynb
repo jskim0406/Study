{
 "cells": [
  {
   "cell_type": "markdown",
   "metadata": {},
   "source": [
    "정수를 담은 이차원 리스트, mylist 가 solution 함수의 파라미터로 주어집니다.\n",
    "solution 함수가 mylist 각 원소의 길이를 담은 리스트를 리턴하도록 코드를 작성해주세요.\n",
    "\n",
    "제한 조건\n",
    "mylist의 길이는 100 이하인 자연수입니다. mylist 각 원소의 길이는 100 이하인 자연수입니다. 예시 input output [[1], [2]] [1,1] [[1, 2], [3, 4], [5]] [2,2,1]"
   ]
  },
  {
   "cell_type": "code",
   "execution_count": null,
   "metadata": {},
   "outputs": [],
   "source": [
    "문제 설명\n",
    "\n",
    "숫자 a, b가 주어졌을 때 a를 b로 나눈 몫과 a를 b로 나눈 나머지를 공백으로 구분해 출력해보세요.\n",
    "\n",
    "입력 설명 입력으로는 공백으로 구분된 숫자가 두 개 주어집니다. 첫 번째 숫자는 a를 나타내며, 두 번째 숫자는 b를 나타냅니다.\n",
    "\n",
    "출력 설명 a를 b로 나눈 몫과 a를 b로 나눈 나머지를 공백으로 구분해 출력하세요.\n",
    "\n",
    "제한 조건 a와 b는 자연수입니다.\n",
    "\n",
    "입력 예 5 3\n",
    "\n",
    "출력 예 1 2"
   ]
  },
  {
   "cell_type": "code",
   "execution_count": 32,
   "metadata": {},
   "outputs": [
    {
     "ename": "SyntaxError",
     "evalue": "invalid syntax (<ipython-input-32-5a5decbb017f>, line 8)",
     "output_type": "error",
     "traceback": [
      "\u001b[0;36m  File \u001b[0;32m\"<ipython-input-32-5a5decbb017f>\"\u001b[0;36m, line \u001b[0;32m8\u001b[0m\n\u001b[0;31m    for i in *c:\u001b[0m\n\u001b[0m             ^\u001b[0m\n\u001b[0;31mSyntaxError\u001b[0m\u001b[0;31m:\u001b[0m invalid syntax\n"
     ]
    }
   ],
   "source": [
    "# # divmod함수\n",
    "# a,b = map(int, input().strip().split(' '))\n",
    "# print(*divmod(a,b))\n",
    "\n",
    "# 변수할당 시, *는 packing효과. 변수 호출 시 *는 unpacking 효과\n",
    "\n",
    "a,b,*c = [1,2,3,4,4,5,6,7,7,8,10,9,9,]\n",
    "\n"
   ]
  },
  {
   "cell_type": "code",
   "execution_count": null,
   "metadata": {},
   "outputs": [],
   "source": [
    "# 20200427\n",
    "\n",
    "### n진법으로 표기된 string을 10진법 숫자로 변환 - int 함수\n",
    "\n",
    "예시) 5진법으로 적힌 문자열 '3212'를 10진법으로 바꾸기\n",
    "\n",
    "- int(x, base = 10) 함수는 num을 base진법으로 변환하는 함수역할을 함"
   ]
  },
  {
   "cell_type": "code",
   "execution_count": 64,
   "metadata": {},
   "outputs": [
    {
     "name": "stdout",
     "output_type": "stream",
     "text": [
      "3212 5\n"
     ]
    },
    {
     "data": {
      "text/plain": [
       "432"
      ]
     },
     "execution_count": 64,
     "metadata": {},
     "output_type": "execute_result"
    }
   ],
   "source": [
    "# 3212(5) -> 2*5^0 + 1*5^1 + 2*5^2 + ..\n",
    "\n",
    "numb,base = input().strip().split(' ')\n",
    "base = int(base)\n",
    "numb_rev = numb[::-1]\n",
    "answer = 0\n",
    "\n",
    "for idx, value in enumerate(numb_rev):\n",
    "    answer += int(value) * (base**idx)\n",
    "    \n",
    "answer"
   ]
  },
  {
   "cell_type": "code",
   "execution_count": 66,
   "metadata": {},
   "outputs": [
    {
     "name": "stdout",
     "output_type": "stream",
     "text": [
      "3212 5\n"
     ]
    },
    {
     "data": {
      "text/plain": [
       "432"
      ]
     },
     "execution_count": 66,
     "metadata": {},
     "output_type": "execute_result"
    }
   ],
   "source": [
    "# int 함수 사용 -> 진법 변환 효과\n",
    "\n",
    "numb,base = input().strip().split(' ')\n",
    "base = int(base)\n",
    "\n",
    "int(numb,base)"
   ]
  },
  {
   "cell_type": "code",
   "execution_count": null,
   "metadata": {},
   "outputs": [],
   "source": [
    "# 6.2 연습문제\n",
    "\n",
    "6.2.4 연습문제 (수기, 코드)\n",
    "6.2.5 연습문제 (수기, 코드)\n",
    "6.4.1 연습문제 (수기)\n",
    "6.4.3 연습문제 (코드)\n",
    "6.4.4 연습문제 (코드)\n",
    "6.5.1 연습문제 (수기)\n",
    "6.5.3 연습문제 (수기)\n",
    "6.5.4 연습문제 (수기)\n",
    "6.5.21(사슬법칙) -> 수기로 써보기\n",
    "6.5.6 연습문제 (코드)\n",
    "피지엠파이 베이즈정리 예제 (6.6 5page)\n",
    "6.6.1 - 3 연습문제 (수기)"
   ]
  },
  {
   "cell_type": "code",
   "execution_count": 1,
   "metadata": {},
   "outputs": [
    {
     "data": {
      "text/plain": [
       "(frozenset(), frozenset({'H'}), frozenset({'T'}), frozenset({'H', 'T'}))"
      ]
     },
     "execution_count": 1,
     "metadata": {},
     "output_type": "execute_result"
    }
   ],
   "source": [
    "# 6.2.4 연습문제\n",
    " \n",
    "A = frozenset([])\n",
    "B = frozenset([\"H\"])\n",
    "C = frozenset([\"T\"])\n",
    "D = frozenset([\"H\",\"T\"])\n",
    "A,B,C,D"
   ]
  },
  {
   "cell_type": "code",
   "execution_count": 2,
   "metadata": {},
   "outputs": [],
   "source": [
    "# 6.2.5 연습문제\n",
    "\n",
    "S = frozenset([\"HH\",\"HT\",\"TH\",\"TT\"]) #1\n",
    "A0 = frozenset([]) #0\n",
    "A1 = frozenset([\"HH\"]) #1/4\n",
    "A2 = frozenset([\"HT\"]) #1/4 \n",
    "A3 = frozenset([\"TH\"]) #1/4\n",
    "A4 = frozenset([\"TT\"]) #1/4\n",
    "A5 = frozenset([\"HH\",\"HT\"]) #1/2\n",
    "A6 = frozenset([\"HH\",\"TH\"]) #1/2\n",
    "A7 = frozenset([\"HH\",\"TT\"]) #1/2\n",
    "A8 = frozenset([\"HT\",\"TH\"]) #1/2\n",
    "A9 = frozenset([\"HT\",\"TT\"]) #1/2\n",
    "A10 = frozenset([\"TH\",\"TT\"]) #1/2\n",
    "A11 = frozenset([\"HH\",\"HT\",\"TH\"]) #3/4\n",
    "A12 = frozenset([\"HH\",\"HT\",\"TT\"]) #3/4\n",
    "A13 = frozenset([\"HT\",\"TH\",\"TT\"]) #3/4\n",
    "A14 = frozenset([\"HH\",\"TH\",\"TT\"]) #3/4"
   ]
  },
  {
   "cell_type": "code",
   "execution_count": 4,
   "metadata": {},
   "outputs": [
    {
     "data": {
      "text/plain": [
       "{frozenset({'HH', 'HT', 'TH', 'TT'}): 1,\n",
       " frozenset(): 0,\n",
       " frozenset({'HH'}): 0.25,\n",
       " frozenset({'HT'}): 0.25,\n",
       " frozenset({'TH'}): 0.25,\n",
       " frozenset({'TT'}): 0.25,\n",
       " frozenset({'HH', 'HT'}): 0.5,\n",
       " frozenset({'HH', 'TH'}): 0.5,\n",
       " frozenset({'HH', 'TT'}): 0.5,\n",
       " frozenset({'HT', 'TH'}): 0.5,\n",
       " frozenset({'HT', 'TT'}): 0.5,\n",
       " frozenset({'TH', 'TT'}): 0.5,\n",
       " frozenset({'HH', 'HT', 'TH'}): 0.75,\n",
       " frozenset({'HH', 'HT', 'TT'}): 0.75,\n",
       " frozenset({'HT', 'TH', 'TT'}): 0.75,\n",
       " frozenset({'HH', 'TH', 'TT'}): 0.75}"
      ]
     },
     "execution_count": 4,
     "metadata": {},
     "output_type": "execute_result"
    }
   ],
   "source": [
    "P = {\n",
    "    S:1,\n",
    "    A0:0,\n",
    "    A1:1/4,\n",
    "    A2:1/4,\n",
    "    A3:1/4,\n",
    "    A4:1/4,\n",
    "    A5:1/2,\n",
    "    A6:1/2,\n",
    "    A7:1/2,\n",
    "    A8:1/2,\n",
    "    A9:1/2,\n",
    "    A10:1/2,\n",
    "    A11:3/4,\n",
    "    A12:3/4,\n",
    "    A13:3/4,\n",
    "    A14:3/4,\n",
    "}\n",
    "P"
   ]
  },
  {
   "cell_type": "code",
   "execution_count": 14,
   "metadata": {},
   "outputs": [
    {
     "data": {
      "text/plain": [
       "0.3333333333333333"
      ]
     },
     "execution_count": 14,
     "metadata": {},
     "output_type": "execute_result"
    }
   ],
   "source": [
    "# 6.4.1 연습문제\n",
    "\n",
    "def P(a,b):\n",
    "    \n",
    "    if a>b:\n",
    "        raise ValueError(\"a must be less than or equal to b\")\n",
    "        \n",
    "    a = np.maximum(a,0)\n",
    "    b = np.minimum(b,360)\n",
    "        \n",
    "    if b<180:\n",
    "          return 2/3*((b-a)/180)\n",
    "        \n",
    "    else:\n",
    "           if a<180:\n",
    "                return ((180-a)/180)*2/3 + ((b-180)/180)*1/3\n",
    "    return ((b-a)/180) * 1/3\n",
    "    \n",
    "\n",
    "        "
   ]
  },
  {
   "cell_type": "code",
   "execution_count": 16,
   "metadata": {},
   "outputs": [
    {
     "name": "stderr",
     "output_type": "stream",
     "text": [
      "Font 'default' does not have a glyph for '\\ub3c4' [U+b3c4], substituting with a dummy symbol.\n",
      "Font 'default' does not have a glyph for '\\ub3c4' [U+b3c4], substituting with a dummy symbol.\n"
     ]
    },
    {
     "data": {
      "image/png": "[encoded data removed]",
      "text/plain": [
       "<Figure size 432x288 with 1 Axes>"
      ]
     },
     "metadata": {
      "needs_background": "light"
     },
     "output_type": "display_data"
    }
   ],
   "source": [
    "t = np.linspace(-100, 500, 100)\n",
    "F = t / 360\n",
    "F[t < 0] = 0\n",
    "F[t > 360] = 1\n",
    "plt.plot(t, F)\n",
    "plt.ylim(-0.1, 1.1)\n",
    "plt.xticks([0, 180, 360])\n",
    "plt.title(\"누적분포함수\")\n",
    "plt.xlabel(\"$x$ (도)\")\n",
    "plt.ylabel(\"$F(x)$\")\n",
    "plt.show()"
   ]
  },
  {
   "cell_type": "code",
   "execution_count": 9,
   "metadata": {},
   "outputs": [],
   "source": [
    "from pgmpy.factors.discrete import TabularCPD"
   ]
  },
  {
   "cell_type": "code",
   "execution_count": 10,
   "metadata": {},
   "outputs": [
    {
     "name": "stdout",
     "output_type": "stream",
     "text": [
      "+------+-------+\n",
      "| X(0) | 0.998 |\n",
      "+------+-------+\n",
      "| X(1) | 0.002 |\n",
      "+------+-------+\n"
     ]
    }
   ],
   "source": [
    "cpd_X = TabularCPD('X', 2, [[1 - 0.002, 0.002]])\n",
    "print(cpd_X)"
   ]
  },
  {
   "cell_type": "code",
   "execution_count": 11,
   "metadata": {},
   "outputs": [
    {
     "name": "stdout",
     "output_type": "stream",
     "text": [
      "+------+-------+\n",
      "| X(0) | 0.998 |\n",
      "+------+-------+\n",
      "| X(1) | 0.002 |\n",
      "+------+-------+\n"
     ]
    }
   ],
   "source": [
    "from pgmpy.factors.discrete import TabularCPD\n",
    "\n",
    "cpd_X = TabularCPD('X',2,[[1-0.002,0.002]])\n",
    "print(cpd_X)"
   ]
  },
  {
   "cell_type": "code",
   "execution_count": 12,
   "metadata": {},
   "outputs": [
    {
     "name": "stdout",
     "output_type": "stream",
     "text": [
      "+------+------+------+\n",
      "| X    | X(0) | X(1) |\n",
      "+------+------+------+\n",
      "| Y(0) | 0.95 | 0.01 |\n",
      "+------+------+------+\n",
      "| Y(1) | 0.05 | 0.99 |\n",
      "+------+------+------+\n"
     ]
    }
   ],
   "source": [
    "# 확률변수 X 정의(조건부 없이)\n",
    "\n",
    "cpd_Y_on_X = TabularCPD('Y', 2, np.array([[0.95, 0.01], [0.05, 0.99]]),\n",
    "                        evidence=['X'], evidence_card=[2])\n",
    "print(cpd_Y_on_X)"
   ]
  },
  {
   "cell_type": "code",
   "execution_count": 13,
   "metadata": {},
   "outputs": [
    {
     "name": "stdout",
     "output_type": "stream",
     "text": [
      "+------+------+------+\n",
      "| X    | X(0) | X(1) |\n",
      "+------+------+------+\n",
      "| Y(0) | 0.95 | 0.01 |\n",
      "+------+------+------+\n",
      "| Y(1) | 0.05 | 0.99 |\n",
      "+------+------+------+\n"
     ]
    }
   ],
   "source": [
    "# 확률변수 Y 정의(조건부 설정)\n",
    "\n",
    "cpd_Y_on_X = TabularCPD('Y',2,np.array([[0.95,0.01],[0.05,0.99]]),evidence=[\"X\"],evidence_card=[2])\n",
    "print(cpd_Y_on_X)"
   ]
  },
  {
   "cell_type": "code",
   "execution_count": 14,
   "metadata": {},
   "outputs": [
    {
     "data": {
      "text/plain": [
       "True"
      ]
     },
     "execution_count": 14,
     "metadata": {},
     "output_type": "execute_result"
    }
   ],
   "source": [
    "# X,Y의 결합 모형인 베이지안 모델 생성을 위한 베이지안 클래스 객체 생성\n",
    "\n",
    "from pgmpy.models import BayesianModel\n",
    "\n",
    "model = BayesianModel([('X','Y')])\n",
    "model.add_cpds(cpd_X,cpd_Y_on_X)\n",
    "model.check_model()"
   ]
  },
  {
   "cell_type": "code",
   "execution_count": 17,
   "metadata": {},
   "outputs": [
    {
     "name": "stderr",
     "output_type": "stream",
     "text": [
      "Finding Elimination Order: : : 0it [00:00, ?it/s]\n",
      "0it [00:00, ?it/s]\n"
     ]
    },
    {
     "ename": "TypeError",
     "evalue": "'DiscreteFactor' object is not subscriptable",
     "output_type": "error",
     "traceback": [
      "\u001b[0;31m---------------------------------------------------------------------------\u001b[0m",
      "\u001b[0;31mTypeError\u001b[0m                                 Traceback (most recent call last)",
      "\u001b[0;32m<ipython-input-17-86a95a4365f8>\u001b[0m in \u001b[0;36m<module>\u001b[0;34m\u001b[0m\n\u001b[1;32m      6\u001b[0m \u001b[0minference\u001b[0m \u001b[0;34m=\u001b[0m \u001b[0mVariableElimination\u001b[0m\u001b[0;34m(\u001b[0m\u001b[0mmodel\u001b[0m\u001b[0;34m)\u001b[0m\u001b[0;34m\u001b[0m\u001b[0;34m\u001b[0m\u001b[0m\n\u001b[1;32m      7\u001b[0m \u001b[0mposterior\u001b[0m \u001b[0;34m=\u001b[0m \u001b[0minference\u001b[0m\u001b[0;34m.\u001b[0m\u001b[0mquery\u001b[0m\u001b[0;34m(\u001b[0m\u001b[0;34m[\u001b[0m\u001b[0;34m'X'\u001b[0m\u001b[0;34m]\u001b[0m\u001b[0;34m,\u001b[0m \u001b[0mevidence\u001b[0m\u001b[0;34m=\u001b[0m\u001b[0;34m{\u001b[0m\u001b[0;34m'Y'\u001b[0m\u001b[0;34m:\u001b[0m \u001b[0;36m1\u001b[0m\u001b[0;34m}\u001b[0m\u001b[0;34m)\u001b[0m\u001b[0;34m\u001b[0m\u001b[0;34m\u001b[0m\u001b[0m\n\u001b[0;32m----> 8\u001b[0;31m \u001b[0mprint\u001b[0m\u001b[0;34m(\u001b[0m\u001b[0mposterior\u001b[0m\u001b[0;34m[\u001b[0m\u001b[0;34m'X'\u001b[0m\u001b[0;34m]\u001b[0m\u001b[0;34m)\u001b[0m\u001b[0;34m\u001b[0m\u001b[0;34m\u001b[0m\u001b[0m\n\u001b[0m\u001b[1;32m      9\u001b[0m \u001b[0;34m\u001b[0m\u001b[0m\n\u001b[1;32m     10\u001b[0m \u001b[0;34m\u001b[0m\u001b[0m\n",
      "\u001b[0;31mTypeError\u001b[0m: 'DiscreteFactor' object is not subscriptable"
     ]
    }
   ],
   "source": [
    "# 변수제거법을 사용한 추정\n",
    "# 추정할 객체를 생성 -> 해당 객체에 메소드 query() 실행 -> 사후확률 확인 가능\n",
    "\n",
    "from pgmpy.inference import VariableElimination\n",
    "\n",
    "inference = VariableElimination(model)\n",
    "posterior = inference.query(['X'], evidence={'Y': 1})\n",
    "print(posterior['X'])\n",
    "\n",
    "\n"
   ]
  },
  {
   "cell_type": "code",
   "execution_count": null,
   "metadata": {},
   "outputs": [],
   "source": [
    "# 연습문제\n",
    "7.1.1 (코드)\n",
    "7.1.2 (코드)\n",
    "7.1.3 (코드)\n",
    "7.2.4 (수기)\n",
    "7.2.5 (수기)\n",
    "7.2.6 (수기)\n",
    "7.3.3 (코드) => 100개의 표본으로 이루어진 확률변수 X를 50개 만든다. 그리고 각 X의 X_bar를 생성해서 X와 X_bar의 히스토그램을 그려봐라\n",
    "(03. 확률적 데이터와 확률변수_기대값과 확률변수의 변환_다변수 확률변수_20191104_03 14분)\n",
    "7.2.18 식 증명\n",
    "\n",
    "\n",
    "\n",
    "\n",
    "\n"
   ]
  },
  {
   "cell_type": "code",
   "execution_count": null,
   "metadata": {},
   "outputs": [],
   "source": [
    "07.01 확률적 데이터와 확률변수\n",
    "\n",
    "1) 확률적 데이터\n",
    "    - 결정론적 데이터 : 생년월일처럼 언제든지 항상 같은 값이 나오는 데이터\n",
    "    - 확률적 데이터 : 혈압처럼 예측할 수 없는 값이 나오는 데이터\n",
    "        - 범주형 / 실수형 데이터\n",
    "\n",
    "2) 분포\n",
    "    - 분포 : 확률적 데이터의 분포\n",
    "        - count plot : 범주형 데이터의 시각화\n",
    "        - histogram : 실수형 데이터의 시각화\n",
    "        - 기술통계(descriptive statistics) : 표본평균, 표본중앙값, 표본최빈값, 표본분산, 표본표준편차, 표본왜도, 표본첨도\n",
    "        \n",
    "        \n",
    "3) 표본평균 (7.1.1)\n",
    "    - 데이터 분포의 대략적인 위치를 나타냄\n",
    "\n",
    "4) 표본중앙값 (sample median)\n",
    "    - 전체 자료를 크기 별로 정렬 시, 가장 중앙에 위치하는 값\n",
    "    - 중앙값 사용 시, 아웃라이어 영향을 줄일 수 있음\n",
    "      (소득 데이터 시, 평균은 아웃라이어으 영향을a 받지만, 중앙값은 아웃라이어가 단지 1개의 표본일 뿐.)\n",
    "        \n",
    "5) 표본최빈값\n",
    "    - 가장 빈번하게 나오는 값 (범주형 데이터에만 가능. 실수형 데이터는 연속형이라 엄밀한 의미에서 최빈값이 없음)\n",
    "    \n",
    "6) 단봉분포와 다봉분포 (uni-modal, multi-modal)\n",
    "    - 분포의 모양에서 봉우리가 하나면 uni-modal distribution\n",
    "    \n",
    "7) 대칭분포\n",
    "    - 표본평균을 기준으로 대칭이라면, 표본평균 = 표본중앙값\n",
    "    - 대칭분포면서 단봉분포라면, 표본평균 = 표본최빈값\n",
    "    - 대칭분포를 비대칭으로 만드는 데이터가 더해지면, mean > median > mode 순으로 영향을 받는다.\n",
    "    \n",
    "    so, 대칭 + uni-modal ==> mean = median = mode\n",
    "\n",
    "\n",
    "8) 분산과 표준편차\n",
    "    - 7.1.3\n",
    "    - 비편향 분산 : 7.1.4\n",
    "        \n",
    "        \n",
    "9) 파이썬을 사용한 표본분산 및 표본표분편차 계산\n",
    "    - ddof(자유도, degree of freedom)를 활용해서 np.var(x, ddof=1), np.std(x, ddof=1) 로 계산\n",
    "    \n",
    "    \n",
    "10) 표본비대칭도 (왜도, skewness)\n",
    "    - 세제곱\n",
    "    - 대칭분포 (왜도 = 0) \n",
    "    - 평균보다 왼쪽 몰림 (왜도 (-))\n",
    "    - 7.1.5, 07.01 8page\n",
    "    - sp.stats.skew(x)\n",
    "    \n",
    "    \n",
    "    \n",
    "    \n",
    "11) 표본첨도 (첨도, kurtosis)\n",
    "    - 네제곱\n",
    "    - 데이터가 중앙에 몰려있는 정도를 비교\n",
    "    - 정규분포보다 첨도가 높다면 양수, 낮으면 음수로 정의\n",
    "    - 7.1.6\n",
    "    - sp.stats.kurtosis(x)\n",
    "    \n",
    "    \n",
    "    \n",
    "    \n",
    "    \n",
    "12) 표본모멘트\n",
    "    - 표본모멘트 / 표본중앙모멘트\n",
    "    - 7.1.7 / 7.1.8\n",
    "    - 평균, 분산, 왜도, 첨도 ==> 1,2,3,4차 모멘트에서 유도된 값\n",
    "    - sp.stats.moment(x, k) (k차 모멘트)\n",
    "    \n",
    "\n",
    "\n",
    "13) 확률변수\n",
    "    - 확률변수는 데이터 생성박스 (누르면 샘플링!)\n",
    "    - 이산확률변수, 연속확률변수\n",
    "    - 그림 7.1.4\n",
    "    \n",
    "    \n",
    "\n",
    "    \n",
    "14) 확률변수를 사용한 데이터분석 <- 확률분포함수(pdf)를 추정하는 과정\n",
    "    - 확률분포가 어떻게 생겼는지 찾아내는 과정!\n",
    "    - 표본평균, 표본표준편차, 왜도, 첨도를 활용! (기술통계량 활용)\n",
    "    \n",
    "    [데이터 분석의 과정]\n",
    "    - 데이터 수집 -> 수집한 데이터의 숨겨진 확률분포함수의 모양 결정 (결정 = 추정, reverse engineering)\n",
    "    - 확률분포함수로부터 우린, 데이터 생성기(확률변수)를 갖게된 것.\n",
    "    - 이를 활용해 다음에 생성될 데이터나 데이터 특성을 예측\n",
    "    - 그림 7.1.5\n",
    "    \n",
    "    \n",
    "    \n",
    "    \n",
    "    \n",
    "\n",
    "            "
   ]
  },
  {
   "cell_type": "code",
   "execution_count": null,
   "metadata": {},
   "outputs": [],
   "source": [
    "07.02 기댓값과 확률변수의 변환\n",
    "\n",
    "1) 확률변수의 기댓값\n",
    "    - 기대값 : 확률변수의 가중평균\n",
    "      \"확률 값이 가중치, 따라서, 봉우리(확률값 가장 큰) 중심으로 가중평균 된다. \n",
    "      확률분포의 중심이 어디인지를 기대값이 알려준다.\"\n",
    "    - 7.2.5\n",
    "    \n",
    "    \n",
    "    \n",
    "2) 확률변수의 변환\n",
    "    - 우리가 얻은 데이터 값을, 각각 함수에 집어넣어 변화시켜 새로운 데이터 집합 get (7.2.7) (그림 7.2.2)\n",
    "\n",
    "    \n",
    "\n",
    "    \n",
    "    \n",
    "    \n",
    "3) 기댓값의 성질 (07.02 6page)\n",
    "\n",
    "\n",
    "\n",
    "\n",
    "4) 통계량(statistics) (07.02 6page)\n",
    "\n",
    "\n",
    "\n",
    "\n",
    "\n",
    "5) 표본평균 확률변수 (통계량 중 하나) (그림 7.2.4)\n",
    "\n",
    "\n",
    "\n",
    "\n",
    "    \n",
    "    \n",
    "6) 기대값과 표본평균의 관계\n",
    "    - 7.2.17 식\n",
    "    \n",
    "    \n",
    "    - 표본평균은 확률변수의 기댓값 근처의 값이 된다. (표본평균의 기대값이 곧 확률변수의 기대값)\n",
    "    - 모집단의 기대값(확률변수의 기대값) 근처에서 표본평5) 균이 주로 나온다.\n",
    "      (예 : 공정한 주사위 코멘트)\n",
    "    - 왜 중요하냐면, 확률변수 X의 분포를 알기 위해 E[X]를 알고 싶다. \n",
    "      이 때, 샘플링으로 얻은 표본평균의 기대값이 곧 확률변수의 기대값임을 알고, 이를 통해 분포를 유추하는 데 도움\n",
    "        \n",
    "7) 중앙값(median)\n",
    "    - F(중앙값) = 0.5 (그림 7.2.5)\n",
    "    \n",
    "    \n",
    "\n",
    "    \n",
    "\n",
    "8) 최빈값(mode)\n",
    "    - 최빈값 = arg max p(x) = 확률 값이 가장 큰 수 = 가장 많이 나오는 수"
   ]
  },
  {
   "cell_type": "markdown",
   "metadata": {},
   "source": [
    "# 알고리즘 노트"
   ]
  },
  {
   "cell_type": "code",
   "execution_count": null,
   "metadata": {},
   "outputs": [],
   "source": [
    "# 링크드리스트"
   ]
  },
  {
   "cell_type": "code",
   "execution_count": null,
   "metadata": {},
   "outputs": [],
   "source": [
    "class Node:\n",
    "    def __init__(self,data,next=None):\n",
    "        self.data=data\n",
    "        self.next=next\n",
    "        \n",
    "node1 = Node(1)\n",
    "node1.data\n",
    "\n",
    "# node와 node 연결하기\n",
    "\n",
    "node2 = Node(2)\n",
    "node1.next = node2\n",
    "\n",
    "head = node1\n",
    "node = head\n",
    "for i in range(1,1+2):\n",
    "    print(node.data)\n",
    "    node = node.next\n",
    "    \n",
    "# 노드 추가 함수 구현(제일 뒤에)\n",
    "\n",
    "def add_(data):\n",
    "    \n",
    "    head = node1\n",
    "    node = head\n",
    "    #마지막까지 탐색\n",
    "    while node.next:\n",
    "        node = node.next\n",
    "        \n",
    "    #마지막 노드에서 이제 새로 객체 생성\n",
    "    node.next = Node(data)\n",
    "    \n",
    "for i in range(3,10+1):\n",
    "    add_(i)"
   ]
  },
  {
   "cell_type": "code",
   "execution_count": 10,
   "metadata": {},
   "outputs": [
    {
     "name": "stdout",
     "output_type": "stream",
     "text": [
      "1\n",
      "2\n",
      "3\n",
      "4\n",
      "5\n",
      "6\n",
      "7\n",
      "8\n",
      "9\n",
      "10\n"
     ]
    }
   ],
   "source": [
    "head = node1\n",
    "node = head\n",
    "while node.next:\n",
    "    print(node.data)\n",
    "    node = node.next\n",
    "print(node.data)"
   ]
  },
  {
   "cell_type": "code",
   "execution_count": 11,
   "metadata": {},
   "outputs": [],
   "source": [
    "# 노드 사이에 노드 추가\n",
    "\n",
    "# 1. 새 노드 객체 생성\n",
    "\n",
    "# <노드의 연결고리를 수정>\n",
    "# 1. 2.5면 2와 3사이에 들어갈 것\n",
    "# 1. 먼저 2를 node.data로 갖고 있는 곳에서 멈추기(그래야 node.next를 바꿀 수 있다.)\n",
    "# 2. 2의 node.next를 node3으로 연결\n",
    "# 3. 2의 node.next에 저장되어 있던 주소(node.data==3인 곳을 포인트하는)로 node3.next를 지정\n",
    "# 출력해보기 (마지막 노드까지 출력되도록)"
   ]
  },
  {
   "cell_type": "code",
   "execution_count": 20,
   "metadata": {},
   "outputs": [
    {
     "name": "stdout",
     "output_type": "stream",
     "text": [
      "1 0\n",
      "2 1\n",
      "3 2\n",
      "4 3\n",
      "5 4\n",
      "6 5\n",
      "7 6\n",
      "8 7\n",
      "9 8\n",
      "10 9\n"
     ]
    }
   ],
   "source": [
    "# node를 만들어서\n",
    "# node(-1).next 를 새 노드로 지정\n",
    "# node.next = node(+1) 로 지정\n",
    "\n",
    "head = node1\n",
    "node = head\n",
    "i=0\n",
    "while node.next:\n",
    "    print(node.data,i)\n",
    "    node = node.next\n",
    "    i+=1\n",
    "print(node.data,i)"
   ]
  },
  {
   "cell_type": "code",
   "execution_count": 21,
   "metadata": {
    "scrolled": true
   },
   "outputs": [
    {
     "name": "stdout",
     "output_type": "stream",
     "text": [
      "1 0\n",
      "2 1\n",
      "2.5 2\n",
      "3 3\n",
      "4 4\n",
      "5 5\n",
      "6 6\n",
      "7 7\n",
      "8 8\n",
      "9 9\n",
      "10 10\n"
     ]
    }
   ],
   "source": [
    "node_new = Node(2.5)\n",
    "\n",
    "head = node1\n",
    "node = head\n",
    "while True:\n",
    "    if node.data == 2:\n",
    "        keep = node.next #node3의 주소가 담김\n",
    "        node.next = node_new\n",
    "        node_new.next = keep\n",
    "        break\n",
    "    else:\n",
    "        node = node.next\n",
    "\n",
    "\n",
    "    \n",
    "head = node1\n",
    "node = head\n",
    "i=0\n",
    "while node.next:\n",
    "    print(node.data,i)\n",
    "    node = node.next\n",
    "    i+=1\n",
    "print(node.data,i)"
   ]
  },
  {
   "cell_type": "code",
   "execution_count": 28,
   "metadata": {},
   "outputs": [],
   "source": [
    "class Node:\n",
    "    \n",
    "    def __init__(self,data,next=None):\n",
    "        self.data = data\n",
    "        self.next = next\n",
    "    \n",
    "class NodeMgmt:\n",
    "    \n",
    "    # NodeMgmt 클래스로 객체 생성 시, Node객체 생성 + head에 넣어주기 까지 함께!\n",
    "    def __init__(self,data):\n",
    "        self.head = Node(data)\n",
    "        \n",
    "    def add(self,data):\n",
    "        if self.head == '':\n",
    "            self.head = Node(data)\n",
    "            \n",
    "        else:\n",
    "            node = self.head\n",
    "            while node.next:\n",
    "                node = node.next\n",
    "            node.next = Node(data)\n",
    "        \n",
    "        \n",
    "    def desc(self):\n",
    "        node = self.head\n",
    "        while node.next:\n",
    "            print(node.data)\n",
    "            node = node.next\n",
    "        print(node.data)"
   ]
  },
  {
   "cell_type": "code",
   "execution_count": 30,
   "metadata": {},
   "outputs": [
    {
     "name": "stdout",
     "output_type": "stream",
     "text": [
      "0\n",
      "1\n",
      "2\n",
      "3\n",
      "4\n",
      "5\n",
      "6\n",
      "7\n",
      "8\n",
      "9\n",
      "10\n"
     ]
    }
   ],
   "source": [
    "linked = NodeMgmt(0)\n",
    "for i in range(1,10+1):\n",
    "    linked.add(i)\n",
    "linked.desc()"
   ]
  },
  {
   "cell_type": "code",
   "execution_count": null,
   "metadata": {},
   "outputs": [],
   "source": []
  },
  {
   "cell_type": "code",
   "execution_count": null,
   "metadata": {},
   "outputs": [],
   "source": []
  },
  {
   "cell_type": "code",
   "execution_count": null,
   "metadata": {},
   "outputs": [],
   "source": []
  }
 ],
 "metadata": {
  "kernelspec": {
   "display_name": "Python 3",
   "language": "python",
   "name": "python3"
  },
  "language_info": {
   "codemirror_mode": {
    "name": "ipython",
    "version": 3
   },
   "file_extension": ".py",
   "mimetype": "text/x-python",
   "name": "python",
   "nbconvert_exporter": "python",
   "pygments_lexer": "ipython3",
   "version": "3.7.4"
  }
 },
 "nbformat": 4,
 "nbformat_minor": 2
}
