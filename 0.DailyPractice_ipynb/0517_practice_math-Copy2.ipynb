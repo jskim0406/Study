{
 "cells": [
  {
   "cell_type": "markdown",
   "metadata": {},
   "source": [
    "# 06.05 정규화 선형회귀"
   ]
  },
  {
   "cell_type": "markdown",
   "metadata": {},
   "source": [
    "**정규화 선형회귀 방법**\n",
    "\n",
    "선형회귀 계수(weight)에 대한 제약조건 추가한 최적화 -> 과최적화 막음 (모델을 조금 더 부드럽게)\n",
    "\n",
    "\n",
    "1) Ridge 회귀모형\n",
    "\n",
    "2) Lasso 회귀모형\n",
    "\n",
    "3) Elastic Net 회귀모형\n",
    "\n",
    "\n",
    "**각각 하이퍼모수 '람다'(페널티)로 두고, w에 제한을 둠**\n",
    "\n",
    "*페널티가 클 수록, 정규화정도가 커짐 (1page)\n",
    "```\n",
    "\n",
    "\n",
    "\n",
    "\n",
    "\n",
    "\n",
    "\n",
    "\n",
    "\n",
    "\n",
    "\n",
    "\n",
    "\n",
    "```"
   ]
  },
  {
   "cell_type": "markdown",
   "metadata": {},
   "source": [
    "## 1. statsmodels의 정규화 회귀모형\n",
    "\n",
    "```\n",
    "\n",
    "     1) Lasso : L1_wt = 1\n",
    "     2) Ridge : L1_wt = 0\n",
    "     3) Elastic net : L1_wt = 0과 1사이\n",
    "     \n",
    "     4-6page\n",
    "     \n",
    "     \n",
    "     \n",
    "     \n",
    "     \n",
    "     \n",
    "     \n",
    "     \n",
    "     \n",
    "\n",
    "     3가지 모델의 \n",
    "     공통점 : 회귀 선의 추세는 비슷한 모습\n",
    "     차이점 : 회귀계수 추정값이 Lasso > Elastic net > Ridge 순으로 '0'이 많음\n",
    "     \n",
    "     *Lasso 는 정규화 정도가 클수록(람다 클수록) 0의 숫자가 많아짐 (Lasso path)\n",
    "     \n",
    "     \n",
    "     \n",
    "     \n",
    "```\n",
    "     "
   ]
  },
  {
   "cell_type": "markdown",
   "metadata": {},
   "source": [
    "## 2. sklearn의 정규화 회귀모형"
   ]
  },
  {
   "cell_type": "markdown",
   "metadata": {},
   "source": [
    "     - Ridge, Lasso, ElasticNet 이라는 별도의 클래스 사용\n",
    "     - 9-11 page\n",
    "\n",
    "```     \n",
    "     \n",
    "     \n",
    "     \n",
    "     \n",
    "     \n",
    "     \n",
    "     \n",
    "     \n",
    "     \n",
    "     \n",
    "     \n",
    "``` "
   ]
  },
  {
   "cell_type": "markdown",
   "metadata": {},
   "source": [
    "## 3. 정규화 모형의 장점, 의미, Lasso - Ridge 차이\n",
    "\n",
    "\n",
    "\n",
    "\n",
    "1) 정규화 모형 장점 : 안정적 모형 <=> 다중공선성 -> 조건수 커짐 -> 데이터가 조금만 커져도 추정값 변화 큼(불안정성) \n",
    "\n",
    "2) 정규화의 의미 : 정규화가 없는 최적화 문제에 부등식 제한 조건을 추가하는 것\n",
    "\n",
    "3) Ridge - Lasso 차이 (11page - 13page) \n",
    "\n",
    ": Lasso는 일부 가중치 계수를 먼저 0으로 수렴시키며 정규화 정도를 높여감 (ridge는 가중치 계수를 전부다 조금씩 축소하면서 정규화 진행)\n",
    "\n",
    "```\n",
    "\n",
    "\n",
    "\n",
    "\n",
    "\n",
    "\n",
    "\n",
    "\n",
    "\n",
    "\n",
    "\n",
    "\n",
    "\n",
    "```\n",
    "\n",
    "\n",
    "\n"
   ]
  },
  {
   "cell_type": "markdown",
   "metadata": {},
   "source": [
    "## 4. Lasso 모형의 쓸모 : 중요하지 않은 변수 먼저 0으로 수렴한다 (Lasso Path)\n",
    "\n",
    "    - 13page\n",
    "    \n",
    "```\n",
    "\n",
    "\n",
    "\n",
    "\n",
    "\n",
    "\n",
    "\n",
    "\n",
    "\n",
    "\n",
    "\n",
    "```"
   ]
  },
  {
   "cell_type": "markdown",
   "metadata": {},
   "source": [
    "## 5. Validation-Curve : 그렇다면, 페널티는 얼마를 줘야 검증성능이 제일 높을까?\n",
    "\n",
    "    - 최적 정규화\n",
    "    - validation curve 를 그려 최적 람다 찾기\n",
    "        *사실, 람다마다 test-performance를 일일이 찾아서 그래프를 그린 것\n",
    "        (18page)\n",
    "```\n",
    "\n",
    "\n",
    "\n",
    "\n",
    "\n",
    "\n",
    "\n",
    "\n",
    "\n",
    "\n",
    "\n",
    "\n",
    "\n",
    "```\n",
    "        \n",
    "        \n",
    "        \n",
    "        \n",
    "        "
   ]
  },
  {
   "cell_type": "markdown",
   "metadata": {},
   "source": [
    "## 6. Validation-Curve : 다항회귀의 최적 차수 결정\n",
    "\n",
    "    - 정규화 : 람다가 클수록 정규화 정도가 높음(제약이 큰 것)\n",
    "    - 다항회귀 : 차수가 클수록 정규화 정도가 낮음(제약이 낮은 것. 사용 가능한 계수가 많아짐) (18page)\n",
    "    \n",
    "```\n",
    "\n",
    "\n",
    "\n",
    "\n",
    "\n",
    "\n",
    "\n",
    "\n",
    "```"
   ]
  }
 ],
 "metadata": {
  "kernelspec": {
   "display_name": "Python 3",
   "language": "python",
   "name": "python3"
  },
  "language_info": {
   "codemirror_mode": {
    "name": "ipython",
    "version": 3
   },
   "file_extension": ".py",
   "mimetype": "text/x-python",
   "name": "python",
   "nbconvert_exporter": "python",
   "pygments_lexer": "ipython3",
   "version": "3.7.4"
  }
 },
 "nbformat": 4,
 "nbformat_minor": 2
}
