{
 "cells": [
  {
   "cell_type": "code",
   "execution_count": 1,
   "metadata": {},
   "outputs": [],
   "source": [
    "# 예제\n",
    "# A = [1,2,3,4,5,6], B = {'num1':100,'num2':200} 에서, A의 모든 요소와 B의 모든 value를 더하는 함수를 만드시오\n",
    "# 함수명 : plus\n",
    "# 주의사항 : *args, **kwargs 파라미터를 활용해 작성"
   ]
  },
  {
   "cell_type": "code",
   "execution_count": 82,
   "metadata": {},
   "outputs": [
    {
     "data": {
      "text/plain": [
       "int"
      ]
     },
     "execution_count": 82,
     "metadata": {},
     "output_type": "execute_result"
    }
   ],
   "source": [
    "# 예제 1\n",
    "\n",
    "A = [1,2,3,4,5,6]\n",
    "B = {'num1':100,'num2':200}\n",
    "\n",
    "def plus(*args,**kwargs):\n",
    "    return \n",
    "\n",
    "plus(1,2,3,4,5,6,num1=100,num2=200)"
   ]
  },
  {
   "cell_type": "code",
   "execution_count": 47,
   "metadata": {},
   "outputs": [
    {
     "data": {
      "text/plain": [
       "300"
      ]
     },
     "execution_count": 47,
     "metadata": {},
     "output_type": "execute_result"
    }
   ],
   "source": [
    "data=[1,2,3]\n",
    "data2={'a':100,'b':200}\n",
    "\n",
    "def plus3(num1,num2,num3,num4=10):\n",
    "    return num1+num2+num3\n",
    "\n",
    "result = plus3(*data)\n",
    "type(result)\n",
    "\n",
    "\n",
    "def plus4(a,b):\n",
    "    return a+b\n",
    "\n",
    "plus4(**data2)"
   ]
  },
  {
   "cell_type": "code",
   "execution_count": 52,
   "metadata": {},
   "outputs": [
    {
     "name": "stdout",
     "output_type": "stream",
     "text": [
      "Python is the best language.\n"
     ]
    }
   ],
   "source": [
    "# python Is the best Language' -> 'Python is the best language.'\n",
    "# 1) 모두 소문자로\n",
    "# 2) 앞글자만 대문자로\n",
    "# 3) 출력( . 포함)\n",
    "\n",
    "A = 'python Is the best Language'\n",
    "\n",
    "A = A.lower()\n",
    "A = A.replace(A[0],A[0].upper())\n",
    "\n",
    "if A[-1]!='.':\n",
    "    A = A+'.'\n",
    "    \n",
    "print(A)"
   ]
  },
  {
   "cell_type": "code",
   "execution_count": 76,
   "metadata": {},
   "outputs": [
    {
     "data": {
      "text/plain": [
       "136"
      ]
     },
     "execution_count": 76,
     "metadata": {},
     "output_type": "execute_result"
    }
   ],
   "source": [
    "A = 'a,b,c,d,e,f,g,h,i,j,k,l,m,n,o,p'\n",
    "B = list(range(1,17))\n",
    "A = A.split(',')\n",
    "\n",
    "C = dict(zip(A,B))\n",
    "\n",
    "def plus_(**kwargs):\n",
    "    return sum(kwargs.values())\n",
    "\n",
    "plus_(**C)"
   ]
  },
  {
   "cell_type": "code",
   "execution_count": 78,
   "metadata": {},
   "outputs": [
    {
     "data": {
      "text/plain": [
       "[('a', 1),\n",
       " ('b', 2),\n",
       " ('c', 3),\n",
       " ('d', 4),\n",
       " ('e', 5),\n",
       " ('f', 6),\n",
       " ('g', 7),\n",
       " ('h', 8),\n",
       " ('i', 9),\n",
       " ('j', 10),\n",
       " ('k', 11),\n",
       " ('l', 12),\n",
       " ('m', 13),\n",
       " ('n', 14),\n",
       " ('o', 15),\n",
       " ('p', 16)]"
      ]
     },
     "execution_count": 78,
     "metadata": {},
     "output_type": "execute_result"
    }
   ],
   "source": [
    "D = list(zip(A,B))\n",
    "D"
   ]
  },
  {
   "cell_type": "code",
   "execution_count": 83,
   "metadata": {},
   "outputs": [],
   "source": [
    "# # 예제2)\n",
    "# A = 'a,b,c,d,e,f,g,h,i,j,k,l,m,n,o,p'\n",
    "# B = list(range(1,17))\n",
    "# A = A.split(',')\n",
    "# C = list(zip(A,B))\n",
    "\n",
    "# 일 때,\n",
    "\n",
    "# C의 value 값 들을 모두 더하는 함수 plus1 을 작성하라."
   ]
  },
  {
   "cell_type": "code",
   "execution_count": 92,
   "metadata": {},
   "outputs": [],
   "source": [
    "def func_():\n",
    "    '''\n",
    "    1+2+3을 출력하는 함수\n",
    "    \n",
    "    '''\n",
    "    return 1+2"
   ]
  },
  {
   "cell_type": "code",
   "execution_count": 101,
   "metadata": {},
   "outputs": [
    {
     "data": {
      "text/plain": [
       "10"
      ]
     },
     "execution_count": 101,
     "metadata": {},
     "output_type": "execute_result"
    }
   ],
   "source": [
    "gv = 1000\n",
    "\n",
    "def func2():\n",
    "    global gv\n",
    "    gv = 10\n",
    "    return gv\n",
    "\n",
    "func2()"
   ]
  },
  {
   "cell_type": "code",
   "execution_count": 102,
   "metadata": {},
   "outputs": [
    {
     "data": {
      "text/plain": [
       "10"
      ]
     },
     "execution_count": 102,
     "metadata": {},
     "output_type": "execute_result"
    }
   ],
   "source": [
    "gv"
   ]
  },
  {
   "cell_type": "code",
   "execution_count": 113,
   "metadata": {},
   "outputs": [
    {
     "data": {
      "text/plain": [
       "3"
      ]
     },
     "execution_count": 113,
     "metadata": {},
     "output_type": "execute_result"
    }
   ],
   "source": [
    "def outer(a,b):\n",
    "    def inner(c,d):\n",
    "        return c+d\n",
    "    return inner(a,b)\n",
    "\n",
    "outer(1,2)"
   ]
  },
  {
   "cell_type": "code",
   "execution_count": 116,
   "metadata": {},
   "outputs": [
    {
     "data": {
      "text/plain": [
       "24"
      ]
     },
     "execution_count": 116,
     "metadata": {},
     "output_type": "execute_result"
    }
   ],
   "source": [
    "# callback function\n",
    "\n",
    "def callback_func(func1,num1,num2):\n",
    "    return func1(num1,num2)\n",
    "\n",
    "def plus(a,b):\n",
    "    return a+b\n",
    "\n",
    "def minus(a,b):\n",
    "    return a-b\n",
    "\n",
    "callback_func(plus,1,23)"
   ]
  },
  {
   "cell_type": "code",
   "execution_count": 135,
   "metadata": {},
   "outputs": [
    {
     "data": {
      "text/plain": [
       "7"
      ]
     },
     "execution_count": 135,
     "metadata": {},
     "output_type": "execute_result"
    }
   ],
   "source": [
    "callback_func(lambda a,b:a+b,3,4)"
   ]
  },
  {
   "cell_type": "code",
   "execution_count": 158,
   "metadata": {},
   "outputs": [
    {
     "ename": "TypeError",
     "evalue": "'int' object is not iterable",
     "output_type": "error",
     "traceback": [
      "\u001b[0;31m---------------------------------------------------------------------------\u001b[0m",
      "\u001b[0;31mTypeError\u001b[0m                                 Traceback (most recent call last)",
      "\u001b[0;32m<ipython-input-158-209173b05262>\u001b[0m in \u001b[0;36m<module>\u001b[0;34m\u001b[0m\n\u001b[1;32m      7\u001b[0m \u001b[0;32mfrom\u001b[0m \u001b[0mfunctools\u001b[0m \u001b[0;32mimport\u001b[0m \u001b[0mreduce\u001b[0m\u001b[0;34m\u001b[0m\u001b[0;34m\u001b[0m\u001b[0m\n\u001b[1;32m      8\u001b[0m \u001b[0;34m\u001b[0m\u001b[0m\n\u001b[0;32m----> 9\u001b[0;31m \u001b[0mlist\u001b[0m\u001b[0;34m(\u001b[0m\u001b[0mreduce\u001b[0m\u001b[0;34m(\u001b[0m\u001b[0;32mlambda\u001b[0m \u001b[0ma\u001b[0m\u001b[0;34m,\u001b[0m\u001b[0mb\u001b[0m \u001b[0;34m:\u001b[0m \u001b[0ma\u001b[0m\u001b[0;34m*\u001b[0m\u001b[0mb\u001b[0m\u001b[0;34m,\u001b[0m \u001b[0mA\u001b[0m\u001b[0;34m)\u001b[0m\u001b[0;34m)\u001b[0m\u001b[0;34m\u001b[0m\u001b[0;34m\u001b[0m\u001b[0m\n\u001b[0m\u001b[1;32m     10\u001b[0m \u001b[0;34m\u001b[0m\u001b[0m\n\u001b[1;32m     11\u001b[0m \u001b[0ma\u001b[0m \u001b[0;34m=\u001b[0m \u001b[0;36m3\u001b[0m\u001b[0;34m\u001b[0m\u001b[0;34m\u001b[0m\u001b[0m\n",
      "\u001b[0;31mTypeError\u001b[0m: 'int' object is not iterable"
     ]
    }
   ],
   "source": [
    "A = list(range(1,11))\n",
    "\n",
    "list(map(lambda a:a**2,A))\n",
    "\n",
    "list(filter(lambda a: True if a%2 else False,A))\n",
    "\n",
    "from functools import reduce\n",
    "\n",
    "list(reduce(lambda a,b : a*b, A))\n",
    "\n",
    "a = 3\n",
    "\n",
    "list(a)"
   ]
  },
  {
   "cell_type": "code",
   "execution_count": 168,
   "metadata": {},
   "outputs": [
    {
     "data": {
      "text/plain": [
       "1"
      ]
     },
     "execution_count": 168,
     "metadata": {},
     "output_type": "execute_result"
    }
   ],
   "source": [
    "# decorator 연습\n",
    "\n",
    "def plus(a,b):\n",
    "    result = a+b  #code2\n",
    "    return result\n",
    "\n",
    "def minus(a,b):\n",
    "    result = a-b   #code4\n",
    "    return result\n",
    "\n",
    "def decor(func):\n",
    "    def wrapper(*args,**kwargs):\n",
    "        print(\"추가start\")\n",
    "        result = func(*args,**kwargs)\n",
    "        print(\"추가end\")\n",
    "        return result\n",
    "    return wrapper\n",
    "\n",
    "minus(2,1)"
   ]
  },
  {
   "cell_type": "code",
   "execution_count": 169,
   "metadata": {},
   "outputs": [
    {
     "name": "stdout",
     "output_type": "stream",
     "text": [
      "추가start\n",
      "추가end\n"
     ]
    },
    {
     "data": {
      "text/plain": [
       "-1"
      ]
     },
     "execution_count": 169,
     "metadata": {},
     "output_type": "execute_result"
    }
   ],
   "source": [
    "@decor\n",
    "def minus(a,b):\n",
    "    result = a-b   #code4\n",
    "    return result\n",
    "\n",
    "minus(1,2)"
   ]
  },
  {
   "cell_type": "code",
   "execution_count": 173,
   "metadata": {},
   "outputs": [
    {
     "data": {
      "text/plain": [
       "10"
      ]
     },
     "execution_count": 173,
     "metadata": {},
     "output_type": "execute_result"
    }
   ],
   "source": [
    "# class = Dave\n",
    "# object, instance = square1\n",
    "# square1.attribute 로 class의 attribute에 접근 가능.\n",
    "\n",
    "class Dave:\n",
    "    width = 0\n",
    "    height = 0\n",
    "    color = ''\n",
    "    \n",
    "square1 = Dave()\n",
    "square2 = Dave()\n",
    "\n",
    "square1.width = 10\n",
    "square1.height = 5\n",
    "square1.color = 'red'\n",
    "\n",
    "square2.width = 7\n",
    "square2.height = 7\n",
    "square2.color = 'blue'\n",
    "\n",
    "square1.width"
   ]
  },
  {
   "cell_type": "code",
   "execution_count": 189,
   "metadata": {},
   "outputs": [
    {
     "name": "stdout",
     "output_type": "stream",
     "text": [
      "red 50\n",
      "blue 49\n",
      "None\n",
      "None\n"
     ]
    }
   ],
   "source": [
    "# 파이썬 method는 항상 첫번째 파라미터로 self를 사용\n",
    "\n",
    "#class 선언\n",
    "class quadrangle:\n",
    "    #attirbute\n",
    "    width = 0\n",
    "    height = 0\n",
    "    color = 'black'\n",
    "    \n",
    "    #method\n",
    "    def get_area(self):\n",
    "        print(self.color,self.width*self.height,sep=' ')\n",
    "    \n",
    "    def set_area(self,data1,data2,data3):\n",
    "        self.width = data1\n",
    "        self.height = data2\n",
    "        self.color = data3\n",
    "        \n",
    "# object 선언\n",
    "square1 = quadrangle()\n",
    "square2 = quadrangle()\n",
    "\n",
    "# object명.method명 / object명.attribute명\n",
    "square1.set_area(10,5,'red')\n",
    "square2.set_area(7,7,'blue')\n",
    "\n",
    "print(square1.get_area(),square2.get_area(),sep='\\n')"
   ]
  },
  {
   "cell_type": "code",
   "execution_count": null,
   "metadata": {},
   "outputs": [],
   "source": [
    "#* 위에서 작성한 Quadrangle 클래스를 기반으로 직사각형 1개 객체와 정사각형 1개 객체를 만들되, 너비(width), 높이(height), 색상(color)를 한번에 설정할 수 있는 메서드만들고, 다음 값으로 각 객체의 속성값을 변경한 후, 사각형 너비와 색상도 함께 출력하기\n",
    "# - 직사각형2개 속성: width=10, height=5, color='red'\n",
    "# - 정사각형2개 속성: width=7, height=7, color='blue'"
   ]
  },
  {
   "cell_type": "code",
   "execution_count": 193,
   "metadata": {},
   "outputs": [
    {
     "name": "stdout",
     "output_type": "stream",
     "text": [
      "Once deleted, variables cannot be recovered. Proceed (y/[n])? y\n"
     ]
    }
   ],
   "source": [
    "%reset"
   ]
  },
  {
   "cell_type": "code",
   "execution_count": 197,
   "metadata": {},
   "outputs": [
    {
     "name": "stdout",
     "output_type": "stream",
     "text": [
      "white 50\n"
     ]
    }
   ],
   "source": [
    "#def __init__ -> 생성자. object생성할 때 사용. objecdt의 데이터 설정시 활용. 즉, class에서 사용될 attribute를 설정하고, object생성 시, 여기를 통과하도록 함\n",
    "#생성자는 객체 생성시 자동 호출, 소멸자는 객체 소멸시 자동 호출\n",
    "#생성자 -> class에서 생성할 object를 생성할 때, 그 objecd의 속성 데이터를 정의할 때 활용. 즉, object생성 시 마다 자동 호출 됨\n",
    "\n",
    "class quadrangle:\n",
    "    \n",
    "    def __init__(self,width,height,color):\n",
    "        self.width = width\n",
    "        self.height = height\n",
    "        self.color = color\n",
    "        \n",
    "    def get_area(self):\n",
    "        print(self.color,self.width*self.height,sep=' ')\n",
    "        \n",
    "square1 = quadrangle(10,20,'black')\n",
    "square2 = quadrangle(5,10,'white')\n",
    "\n",
    "square2.get_area()"
   ]
  },
  {
   "cell_type": "code",
   "execution_count": null,
   "metadata": {},
   "outputs": [],
   "source": []
  },
  {
   "cell_type": "code",
   "execution_count": null,
   "metadata": {},
   "outputs": [],
   "source": []
  }
 ],
 "metadata": {
  "kernelspec": {
   "display_name": "Python 3",
   "language": "python",
   "name": "python3"
  },
  "language_info": {
   "codemirror_mode": {
    "name": "ipython",
    "version": 3
   },
   "file_extension": ".py",
   "mimetype": "text/x-python",
   "name": "python",
   "nbconvert_exporter": "python",
   "pygments_lexer": "ipython3",
   "version": "3.7.4"
  }
 },
 "nbformat": 4,
 "nbformat_minor": 2
}
