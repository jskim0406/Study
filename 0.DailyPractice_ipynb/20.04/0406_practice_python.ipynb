{
 "cells": [
  {
   "cell_type": "markdown",
   "metadata": {},
   "source": [
    "# Day 2복습"
   ]
  },
  {
   "cell_type": "code",
   "execution_count": 11,
   "metadata": {},
   "outputs": [
    {
     "name": "stdout",
     "output_type": "stream",
     "text": [
      "1 a\n",
      "2 b\n",
      "3 c\n",
      "4 d\n",
      "5 e\n"
     ]
    }
   ],
   "source": [
    "data = {\n",
    "    'a':'abc',\n",
    "    'b':'bcd',\n",
    "    'c':'cde',\n",
    "    'd':'def',\n",
    "}\n",
    "\n",
    "data_ls = ['a','b','c','d','e']\n",
    "\n",
    "# for idx, data_2 in enumerate(data_ls):\n",
    "#     print(idx+1,data_2)\n",
    "\n",
    "for idx, data_2 in zip(range(len(data_ls)),data_ls):\n",
    "    print(idx+1,data_2)"
   ]
  },
  {
   "cell_type": "code",
   "execution_count": 14,
   "metadata": {},
   "outputs": [
    {
     "data": {
      "text/plain": [
       "['b', 'c', 'd', 'e']"
      ]
     },
     "execution_count": 14,
     "metadata": {},
     "output_type": "execute_result"
    }
   ],
   "source": [
    "result = [char for char in data_ls if char!='a']\n",
    "result"
   ]
  },
  {
   "cell_type": "code",
   "execution_count": 19,
   "metadata": {},
   "outputs": [
    {
     "data": {
      "text/plain": [
       "['홀수', '짝수', '홀수', '짝수', '홀수', '짝수', '홀수', '짝수', '홀수', '짝수']"
      ]
     },
     "execution_count": 19,
     "metadata": {},
     "output_type": "execute_result"
    }
   ],
   "source": [
    "data_int = list(range(1,11))\n",
    "data_int\n",
    "\n",
    "result = ['홀수' if data%2 else '짝수' for data in data_int]\n",
    "result\n",
    "\n",
    "# result = [True표현식 if (조건문) else False표현식 for ]"
   ]
  },
  {
   "cell_type": "code",
   "execution_count": 23,
   "metadata": {},
   "outputs": [
    {
     "name": "stdout",
     "output_type": "stream",
     "text": [
      "1 x 1 = 1 1 x 2 = 2 1 x 3 = 3 1 x 4 = 4 1 x 5 = 5 1 x 6 = 6 1 x 7 = 7 1 x 8 = 8 1 x 9 = 9 2 x 1 = 2 2 x 2 = 4 2 x 3 = 6 2 x 4 = 8 2 x 5 = 10 2 x 6 = 12 2 x 7 = 14 2 x 8 = 16 2 x 9 = 18 3 x 1 = 3 3 x 2 = 6 3 x 3 = 9 3 x 4 = 12 3 x 5 = 15 3 x 6 = 18 3 x 7 = 21 3 x 8 = 24 3 x 9 = 27 4 x 1 = 4 4 x 2 = 8 4 x 3 = 12 4 x 4 = 16 4 x 5 = 20 4 x 6 = 24 4 x 7 = 28 4 x 8 = 32 4 x 9 = 36 5 x 1 = 5 5 x 2 = 10 5 x 3 = 15 5 x 4 = 20 5 x 5 = 25 5 x 6 = 30 5 x 7 = 35 5 x 8 = 40 5 x 9 = 45 6 x 1 = 6 6 x 2 = 12 6 x 3 = 18 6 x 4 = 24 6 x 5 = 30 6 x 6 = 36 6 x 7 = 42 6 x 8 = 48 6 x 9 = 54 7 x 1 = 7 7 x 2 = 14 7 x 3 = 21 7 x 4 = 28 7 x 5 = 35 7 x 6 = 42 7 x 7 = 49 7 x 8 = 56 7 x 9 = 63 8 x 1 = 8 8 x 2 = 16 8 x 3 = 24 8 x 4 = 32 8 x 5 = 40 8 x 6 = 48 8 x 7 = 56 8 x 8 = 64 8 x 9 = 72 9 x 1 = 9 9 x 2 = 18 9 x 3 = 27 9 x 4 = 36 9 x 5 = 45 9 x 6 = 54 9 x 7 = 63 9 x 8 = 72 9 x 9 = 81 "
     ]
    }
   ],
   "source": [
    "# 구구단 -> 최대한 간단하게\n",
    "\n",
    "for i in range(1,10):\n",
    "    for j in range(1,10):\n",
    "        print('{} x {} = {}'.format(i,j,i*j),end=' ')"
   ]
  },
  {
   "cell_type": "code",
   "execution_count": null,
   "metadata": {},
   "outputs": [],
   "source": [
    "# 1번) \n",
    "\n",
    "# # 예제\n",
    "# # A = [1,2,3,4,5,6], B = {'num1':100,'num2':200} 에서, A의 모든 요소와 B의 모든 value를 더하는 함수를 만드시오\n",
    "# # 함수명 : plus\n",
    "\n",
    "\n",
    "\n",
    "# # 예시 답안\n",
    "# # A = [1,2,3,4,5,6]\n",
    "# # B = {'num1':100,'num2':200}\n",
    "# # def plus(*args,**kwargs):\n",
    "# #     return sum(args) + sum(kwargs.values())\n",
    "\n",
    "# # plus(*A,**B)"
   ]
  },
  {
   "cell_type": "code",
   "execution_count": 24,
   "metadata": {},
   "outputs": [],
   "source": [
    "# 2번)\n",
    "\n",
    "# # 예제2)\n",
    "# A = 'a,b,c,d,e,f,g,h,i,j,k,l,m,n,o,p'\n",
    "# B = list(range(1,17))\n",
    "# A = A.split(',')\n",
    "# C = list(zip(A,B))\n",
    "\n",
    "# 일 때,\n",
    "\n",
    "# C의 value 값 들을 모두 더하는 함수 plus1 을 작성하라."
   ]
  },
  {
   "cell_type": "code",
   "execution_count": 43,
   "metadata": {},
   "outputs": [
    {
     "data": {
      "text/plain": [
       "321"
      ]
     },
     "execution_count": 43,
     "metadata": {},
     "output_type": "execute_result"
    }
   ],
   "source": [
    "# 1번)\n",
    "A = [1,2,3,4,5,6]\n",
    "B = {'num1':100,'num2':200}\n",
    "\n",
    "def plus(*args,**kwargs):\n",
    "     \n",
    "    return sum(args) + sum(kwargs.values())\n",
    "\n",
    "plus(*A,**B)"
   ]
  },
  {
   "cell_type": "code",
   "execution_count": 60,
   "metadata": {},
   "outputs": [
    {
     "name": "stdout",
     "output_type": "stream",
     "text": [
      "136\n"
     ]
    }
   ],
   "source": [
    "# 2번)\n",
    "A = 'a,b,c,d,e,f,g,h,i,j,k,l,m,n,o,p'\n",
    "A = A.split(',')\n",
    "B = range(1,len(A)+1)\n",
    "C = dict(zip(A,B))\n",
    "data = 0\n",
    "\n",
    "for i in C.values():\n",
    "    data += i\n",
    "\n",
    "print(data)"
   ]
  },
  {
   "cell_type": "code",
   "execution_count": 61,
   "metadata": {},
   "outputs": [],
   "source": [
    "def func1():\n",
    "    '''\n",
    "    그냥 적어봄\n",
    "    '''\n",
    "    \n",
    "    return"
   ]
  },
  {
   "cell_type": "code",
   "execution_count": 64,
   "metadata": {},
   "outputs": [
    {
     "data": {
      "text/plain": [
       "40"
      ]
     },
     "execution_count": 64,
     "metadata": {},
     "output_type": "execute_result"
    }
   ],
   "source": [
    "gv = 100000\n",
    "\n",
    "def plus(a,b):\n",
    "    global gv\n",
    "    gv = 10\n",
    "    \n",
    "    return a+b+gv\n",
    "\n",
    "plus(10,20)"
   ]
  },
  {
   "cell_type": "code",
   "execution_count": 65,
   "metadata": {},
   "outputs": [
    {
     "data": {
      "text/plain": [
       "10"
      ]
     },
     "execution_count": 65,
     "metadata": {},
     "output_type": "execute_result"
    }
   ],
   "source": [
    "gv"
   ]
  },
  {
   "cell_type": "code",
   "execution_count": 68,
   "metadata": {},
   "outputs": [
    {
     "data": {
      "text/plain": [
       "120"
      ]
     },
     "execution_count": 68,
     "metadata": {},
     "output_type": "execute_result"
    }
   ],
   "source": [
    "def outer(a,b):\n",
    "    \n",
    "    def inner(c,d):\n",
    "        return c*d\n",
    "    \n",
    "    return inner\n",
    "\n",
    "outer(10,22)(12,10)"
   ]
  },
  {
   "cell_type": "markdown",
   "metadata": {},
   "source": [
    "### callback function\n",
    "- 함수가 파라미터로 들어 가는 함수(callback function 함수)\n",
    "- inner function은 말그대로 파라미터가 아닌, 함수 안에 또다른 함수를 설정하는 것."
   ]
  },
  {
   "cell_type": "code",
   "execution_count": 73,
   "metadata": {},
   "outputs": [
    {
     "data": {
      "text/plain": [
       "38"
      ]
     },
     "execution_count": 73,
     "metadata": {},
     "output_type": "execute_result"
    }
   ],
   "source": [
    "def callback(func,a,b):\n",
    "    return func(a,b)\n",
    "\n",
    "def plus(a,b):\n",
    "    return a+b\n",
    "\n",
    "def multi(a,b):\n",
    "    return a*b\n",
    "\n",
    "callback(multi,19,2)"
   ]
  },
  {
   "cell_type": "code",
   "execution_count": 78,
   "metadata": {},
   "outputs": [
    {
     "data": {
      "text/plain": [
       "10715086071862673209484250490600018105614048117055336074437503883703510511249361224931983788156958581275946729175531468251871452856923140435984577574698574803934567774824230985421074605062371141877954182153046474983581941267398767559165543946077062914571196477686542167660429831652624386837205668069376"
      ]
     },
     "execution_count": 78,
     "metadata": {},
     "output_type": "execute_result"
    }
   ],
   "source": [
    "callback(lambda a,b:a**b,2,1000)"
   ]
  },
  {
   "cell_type": "markdown",
   "metadata": {},
   "source": [
    "# map, filter, reduce 함수 \n",
    "    - 결과 반환 시, list등으로 형변환 해줘야. 저 연산하면 데이터 타입 자체가 map, filter 가 됨\n",
    "    - reduce는 다름. 반환이 int. 그리고 from functools import reduce 로 호출해줘야함\n",
    "\n",
    "- map 함수 : map(func, iterable) func을 반복해서 적용시켜준 결과를 반환\n",
    "- filter : filter(func, iterable) func을 반복해서 적용시켜준 후 True일 때만 반환\n",
    "- reduce : reduce(func, iterable) func을 반복해서 적용시켜준 후 두 요소를 반복해서 누적 계산하며 하나씩 줄여주는 역할\n",
    "\n"
   ]
  },
  {
   "cell_type": "code",
   "execution_count": 82,
   "metadata": {},
   "outputs": [
    {
     "name": "stdout",
     "output_type": "stream",
     "text": [
      "[1, 4, 9, 16, 25, 36, 49, 64, 81, 100, 121, 144, 169, 196, 225, 256, 289, 324, 361, 400, 441, 484, 529, 576]\n"
     ]
    }
   ],
   "source": [
    "ls = list(range(1,25))\n",
    "\n",
    "ls_map = list(map(lambda x:x**2, ls))\n",
    "print(ls_map,sep=' ')"
   ]
  },
  {
   "cell_type": "code",
   "execution_count": 90,
   "metadata": {},
   "outputs": [],
   "source": [
    "ls_filter = list(filter(lambda x : x%2, ls))"
   ]
  },
  {
   "cell_type": "code",
   "execution_count": 91,
   "metadata": {},
   "outputs": [
    {
     "data": {
      "text/plain": [
       "[1, 3, 5, 7, 9, 11, 13, 15, 17, 19, 21, 23]"
      ]
     },
     "execution_count": 91,
     "metadata": {},
     "output_type": "execute_result"
    }
   ],
   "source": [
    "ls_filter"
   ]
  },
  {
   "cell_type": "code",
   "execution_count": 96,
   "metadata": {},
   "outputs": [
    {
     "data": {
      "text/plain": [
       "300"
      ]
     },
     "execution_count": 96,
     "metadata": {},
     "output_type": "execute_result"
    }
   ],
   "source": [
    "from functools import reduce\n",
    "\n",
    "ls_reduce = reduce(lambda x,y : x+y, ls)\n",
    "ls_reduce"
   ]
  },
  {
   "cell_type": "code",
   "execution_count": 97,
   "metadata": {},
   "outputs": [],
   "source": [
    "from functools import reduce"
   ]
  },
  {
   "cell_type": "markdown",
   "metadata": {},
   "source": [
    "# decorator\n",
    "\n",
    "-아이디, 비밀번호 체크하는 것 만들어보자\n"
   ]
  },
  {
   "cell_type": "code",
   "execution_count": null,
   "metadata": {},
   "outputs": [],
   "source": [
    "user = [\n",
    "    {'id':'test','pw':'1234','count':0},\n",
    "    {'id':'python','pw':'5678','count':0}\n",
    "]"
   ]
  },
  {
   "cell_type": "code",
   "execution_count": 199,
   "metadata": {},
   "outputs": [
    {
     "name": "stdout",
     "output_type": "stream",
     "text": [
      "아이디와 비밀번호를 입력하세요 : test 1234\n"
     ]
    },
    {
     "data": {
      "text/plain": [
       "3"
      ]
     },
     "execution_count": 199,
     "metadata": {},
     "output_type": "execute_result"
    }
   ],
   "source": [
    "def decor(func):\n",
    "    \n",
    "    def wrapper(*args,**kwargs):\n",
    "        #정보 받기\n",
    "        user_id, user_pw = tuple(input('아이디와 비밀번호를 입력하세요 : ').split(' '))\n",
    "        \n",
    "        #아이디가 있는지 확인\n",
    "        #있다면, 비빌번호 확인 -> 일치하면, return / 아니면 return '잘못 입력하셨습니다.'        \n",
    "        for idx, user_packing in enumerate(user):  #enumerate로 dict형으로 들어간다.\n",
    "            if (user_id == user_packing['id']) and (user_pw == user_packing['pw']):  \n",
    "                user[idx]['count'] += 1\n",
    "                return func(*args,**kwargs)\n",
    "        return '잘못 입력하셨습니다.'\n",
    "    return wrapper\n",
    "\n",
    "@decor\n",
    "def plus(a,b):\n",
    "    return a+b\n",
    "\n",
    "plus(1,2)"
   ]
  },
  {
   "cell_type": "code",
   "execution_count": 200,
   "metadata": {},
   "outputs": [
    {
     "name": "stdout",
     "output_type": "stream",
     "text": [
      "[{'id': 'test', 'pw': '1234', 'count': 5}, {'id': 'python', 'pw': '5678', 'count': 0}]\n"
     ]
    }
   ],
   "source": [
    "print(user)"
   ]
  },
  {
   "cell_type": "code",
   "execution_count": null,
   "metadata": {},
   "outputs": [],
   "source": []
  },
  {
   "cell_type": "code",
   "execution_count": 144,
   "metadata": {},
   "outputs": [
    {
     "data": {
      "text/plain": [
       "('test', '1234')"
      ]
     },
     "execution_count": 144,
     "metadata": {},
     "output_type": "execute_result"
    }
   ],
   "source": [
    "tuple(user[0].values())"
   ]
  },
  {
   "cell_type": "code",
   "execution_count": 145,
   "metadata": {},
   "outputs": [
    {
     "data": {
      "text/plain": [
       "((0, {'id': 'test', 'pw': '1234'}), (1, {'id': 'python', 'pw': '5678'}))"
      ]
     },
     "execution_count": 145,
     "metadata": {},
     "output_type": "execute_result"
    }
   ],
   "source": [
    "idx, user_init = enumerate(user)\n",
    "idx, user_init"
   ]
  },
  {
   "cell_type": "code",
   "execution_count": 146,
   "metadata": {},
   "outputs": [
    {
     "ename": "TypeError",
     "evalue": "list indices must be integers or slices, not str",
     "output_type": "error",
     "traceback": [
      "\u001b[0;31m---------------------------------------------------------------------------\u001b[0m",
      "\u001b[0;31mTypeError\u001b[0m                                 Traceback (most recent call last)",
      "\u001b[0;32m<ipython-input-146-06c377690f1b>\u001b[0m in \u001b[0;36m<module>\u001b[0;34m\u001b[0m\n\u001b[0;32m----> 1\u001b[0;31m \u001b[0muser\u001b[0m\u001b[0;34m[\u001b[0m\u001b[0;34m'id'\u001b[0m\u001b[0;34m]\u001b[0m\u001b[0;34m\u001b[0m\u001b[0;34m\u001b[0m\u001b[0m\n\u001b[0m",
      "\u001b[0;31mTypeError\u001b[0m: list indices must be integers or slices, not str"
     ]
    }
   ],
   "source": [
    "user['id']"
   ]
  },
  {
   "cell_type": "code",
   "execution_count": 150,
   "metadata": {},
   "outputs": [
    {
     "name": "stdout",
     "output_type": "stream",
     "text": [
      "0 {'id': 'test', 'pw': '1234'}\n",
      "test\n",
      "1 {'id': 'python', 'pw': '5678'}\n",
      "python\n"
     ]
    }
   ],
   "source": [
    "        for idx, user_packing in enumerate(user):\n",
    "            print(idx,user_packing)\n",
    "            print(user_packing['id'])"
   ]
  },
  {
   "cell_type": "code",
   "execution_count": null,
   "metadata": {},
   "outputs": [],
   "source": []
  },
  {
   "cell_type": "code",
   "execution_count": 3,
   "metadata": {},
   "outputs": [],
   "source": [
    "A = [1,2,3,4,5,6]\n",
    "B = {'num1':100,'num2':200}\n",
    "\n",
    "# 위와 같이 주어졌을 때, A의 모든 요소와 B의 모든 value를 더하는 함수를 작성해주세요. \n",
    "# (*args,**kwargs 파라미터, 아규먼트를 활용해 작성)\n",
    "# 함수명 : plus"
   ]
  },
  {
   "cell_type": "code",
   "execution_count": 7,
   "metadata": {},
   "outputs": [
    {
     "data": {
      "text/plain": [
       "321"
      ]
     },
     "execution_count": 7,
     "metadata": {},
     "output_type": "execute_result"
    }
   ],
   "source": [
    "def plus(*args,**kwargs):\n",
    "    \n",
    "    return sum(args) + sum(kwargs.values())\n",
    "\n",
    "plus(1,2,3,4,5,6,**B)"
   ]
  },
  {
   "cell_type": "markdown",
   "metadata": {},
   "source": [
    "# 점프투파이썬 문제풀이"
   ]
  },
  {
   "cell_type": "markdown",
   "metadata": {},
   "source": [
    "## 2장 연습문제"
   ]
  },
  {
   "cell_type": "code",
   "execution_count": 23,
   "metadata": {},
   "outputs": [
    {
     "name": "stdout",
     "output_type": "stream",
     "text": [
      "국어점수 : 80\n",
      "영어점수 : 75\n",
      "수학점수 : 55\n"
     ]
    },
    {
     "data": {
      "text/plain": [
       "70.0"
      ]
     },
     "execution_count": 23,
     "metadata": {},
     "output_type": "execute_result"
    }
   ],
   "source": [
    "#2장 1번 *\n",
    "\n",
    "a,b,c=0,0,0\n",
    "data = []\n",
    "\n",
    "#점수 입력받기, 카운트 기록\n",
    "data.append(input('국어점수 : '))\n",
    "data.append(input('영어점수 : '))\n",
    "data.append(input('수학점수 : '))\n",
    "\n",
    "#input으로 입력받으면, 자료형이 string! -> sum하려면 int로 형변환 해줘야 함\n",
    "\n",
    "#형변환\n",
    "#for i1 in len(data): -> for i in 3: 같은 것.. -> for i in range(3) 같이 해줘야 함..\n",
    "for i in range(len(data)):\n",
    "    data[i] = int(data[i])\n",
    "\n",
    "#각 점수의 합 구하기\n",
    "sum_ = sum(data)\n",
    "\n",
    "#각 점수 받은 횟수로 나눠주기\n",
    "aver_ = sum_/len(data)\n",
    "aver_"
   ]
  },
  {
   "cell_type": "code",
   "execution_count": 28,
   "metadata": {},
   "outputs": [
    {
     "name": "stdout",
     "output_type": "stream",
     "text": [
      "숫자를 입력하세요 : 13\n",
      "['홀수']\n"
     ]
    }
   ],
   "source": [
    "#2장 2번\n",
    "num = input('숫자를 입력하세요 : ')\n",
    "num = int(num)\n",
    "\n",
    "result = ['홀수' if num%2 else '짝수']\n",
    "print(result)"
   ]
  },
  {
   "cell_type": "code",
   "execution_count": 31,
   "metadata": {},
   "outputs": [
    {
     "data": {
      "text/plain": [
       "'a#b#c#d'"
      ]
     },
     "execution_count": 31,
     "metadata": {},
     "output_type": "execute_result"
    }
   ],
   "source": [
    "#2장 5번\n",
    "\n",
    "a = \"a:b:c:d\"\n",
    "a.replace(':','#')"
   ]
  },
  {
   "cell_type": "code",
   "execution_count": 35,
   "metadata": {},
   "outputs": [
    {
     "data": {
      "text/plain": [
       "[5, 4, 3, 2, 1]"
      ]
     },
     "execution_count": 35,
     "metadata": {},
     "output_type": "execute_result"
    }
   ],
   "source": [
    "#2장 6번\n",
    "\n",
    "ls = [1,3,5,4,2]\n",
    "ls.sort()\n",
    "ls[::-1]"
   ]
  },
  {
   "cell_type": "code",
   "execution_count": 37,
   "metadata": {},
   "outputs": [
    {
     "data": {
      "text/plain": [
       "'Life is too short'"
      ]
     },
     "execution_count": 37,
     "metadata": {},
     "output_type": "execute_result"
    }
   ],
   "source": [
    "#2장 7번\n",
    "\n",
    "ls = ['Life', 'is', 'too', 'short']\n",
    "ls_result = ' '.join(ls)\n",
    "ls_result"
   ]
  },
  {
   "cell_type": "code",
   "execution_count": 40,
   "metadata": {},
   "outputs": [
    {
     "data": {
      "text/plain": [
       "(1, 2, 3, 4)"
      ]
     },
     "execution_count": 40,
     "metadata": {},
     "output_type": "execute_result"
    }
   ],
   "source": [
    "#2장 8번 *\n",
    "\n",
    "tup = (1,2,3)\n",
    "tup+(4,)"
   ]
  },
  {
   "cell_type": "code",
   "execution_count": 41,
   "metadata": {},
   "outputs": [],
   "source": [
    "#2장 9번\n",
    "\n",
    "#dict형의 key 로는 변동가능한 객체인 리스트가 올 수 없다. int, str, tuple은 key로 올 수 있다."
   ]
  },
  {
   "cell_type": "code",
   "execution_count": 44,
   "metadata": {},
   "outputs": [
    {
     "data": {
      "text/plain": [
       "80"
      ]
     },
     "execution_count": 44,
     "metadata": {},
     "output_type": "execute_result"
    }
   ],
   "source": [
    "#2장 10번\n",
    "\n",
    "a = {'A':90, 'B':80, 'C':70}\n",
    "a.pop('B')"
   ]
  },
  {
   "cell_type": "code",
   "execution_count": 46,
   "metadata": {},
   "outputs": [
    {
     "data": {
      "text/plain": [
       "{1, 2, 3, 4, 5}"
      ]
     },
     "execution_count": 46,
     "metadata": {},
     "output_type": "execute_result"
    }
   ],
   "source": [
    "#2장 11번 *\n",
    "a = [1, 1, 1, 2, 2, 3, 3, 3, 4, 4, 5]\n",
    "a = set(a)\n",
    "a"
   ]
  },
  {
   "cell_type": "code",
   "execution_count": 52,
   "metadata": {},
   "outputs": [
    {
     "name": "stdout",
     "output_type": "stream",
     "text": [
      "[1, 4, 3]\n"
     ]
    }
   ],
   "source": [
    "#2장 12번 *\n",
    "\n",
    "a = b = [1,2,3]\n",
    "a[1] = 4\n",
    "print(b)"
   ]
  },
  {
   "cell_type": "markdown",
   "metadata": {},
   "source": [
    "# 3장 연습문제"
   ]
  },
  {
   "cell_type": "code",
   "execution_count": 66,
   "metadata": {},
   "outputs": [
    {
     "data": {
      "text/plain": [
       "166833"
      ]
     },
     "execution_count": 66,
     "metadata": {},
     "output_type": "execute_result"
    }
   ],
   "source": [
    "#3장 2번\n",
    "#while문을 사용해 1부터 1000까지의 자연수 중 3의 배수의 합을 구해 보자.\n",
    "#리스트 내포를 이용해 구해보자\n",
    "\n",
    "ls = [i for i in range(1,1001) if i%3==0]\n",
    "sum(ls)"
   ]
  },
  {
   "cell_type": "code",
   "execution_count": 61,
   "metadata": {},
   "outputs": [
    {
     "name": "stdout",
     "output_type": "stream",
     "text": [
      "*\n",
      "**\n",
      "***\n",
      "****\n",
      "*****\n"
     ]
    }
   ],
   "source": [
    "#3장 3번\n",
    "idx = 0\n",
    "\n",
    "while True:\n",
    "    idx += 1\n",
    "    print('*'*idx)\n",
    "    \n",
    "    if idx==5:\n",
    "        break"
   ]
  },
  {
   "cell_type": "code",
   "execution_count": 64,
   "metadata": {},
   "outputs": [
    {
     "data": {
      "text/plain": [
       "79.0"
      ]
     },
     "execution_count": 64,
     "metadata": {},
     "output_type": "execute_result"
    }
   ],
   "source": [
    "#3장 5번\n",
    "# A 학급에 총 10명의 학생이 있다. 이 학생들의 중간고사 점수는 다음과 같다.\n",
    "# [70, 60, 55, 75, 95, 90, 80, 80, 85, 100]\n",
    "# for문을 사용하여 A 학급의 평균 점수를 구해 보자.\n",
    "\n",
    "ls = [70, 60, 55, 75, 95, 90, 80, 80, 85, 100]\n",
    "idx_ls = 0\n",
    "sum_ = 0\n",
    "\n",
    "for idx, data in enumerate(ls):\n",
    "    sum_ += data\n",
    "    idx_ls = idx+1\n",
    "\n",
    "sum_/idx_ls"
   ]
  },
  {
   "cell_type": "code",
   "execution_count": 65,
   "metadata": {},
   "outputs": [
    {
     "data": {
      "text/plain": [
       "[2, 6, 10]"
      ]
     },
     "execution_count": 65,
     "metadata": {},
     "output_type": "execute_result"
    }
   ],
   "source": [
    "#3장 6번\n",
    "# 리스트 중에서 홀수에만 2를 곱하여 저장하는 다음 코드가 있다.\n",
    "\n",
    "# numbers = [1, 2, 3, 4, 5]\n",
    "# result = []\n",
    "# for n in numbers:\n",
    "#     if n % 2 == 1:\n",
    "#         result.append(n*2)\n",
    "# 위 코드를 리스트 내포(list comprehension)를 사용하여 표현해 보자.\n",
    "\n",
    "numbers = [1, 2, 3, 4, 5]\n",
    "result = [i*2 for i in numbers if i%2]\n",
    "result"
   ]
  },
  {
   "cell_type": "markdown",
   "metadata": {},
   "source": [
    "# 4장 연습문제"
   ]
  },
  {
   "cell_type": "code",
   "execution_count": null,
   "metadata": {},
   "outputs": [],
   "source": []
  }
 ],
 "metadata": {
  "kernelspec": {
   "display_name": "Python 3",
   "language": "python",
   "name": "python3"
  },
  "language_info": {
   "codemirror_mode": {
    "name": "ipython",
    "version": 3
   },
   "file_extension": ".py",
   "mimetype": "text/x-python",
   "name": "python",
   "nbconvert_exporter": "python",
   "pygments_lexer": "ipython3",
   "version": "3.7.4"
  }
 },
 "nbformat": 4,
 "nbformat_minor": 2
}
