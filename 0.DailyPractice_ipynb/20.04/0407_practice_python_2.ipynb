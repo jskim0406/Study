{
 "cells": [
  {
   "cell_type": "markdown",
   "metadata": {},
   "source": [
    "# Day 3-4복습"
   ]
  },
  {
   "cell_type": "code",
   "execution_count": 19,
   "metadata": {},
   "outputs": [
    {
     "data": {
      "text/plain": [
       "30"
      ]
     },
     "execution_count": 19,
     "metadata": {},
     "output_type": "execute_result"
    }
   ],
   "source": [
    "class Calculator:\n",
    "    \n",
    "    def __init__(self,num1,num2):\n",
    "        self.num1 = num1\n",
    "        self.num2 = num2\n",
    "        \n",
    "    def plus(self):\n",
    "        return self.num1+self.num2\n",
    "    \n",
    "calc = Calculator(10,20)\n",
    "\n",
    "calc.plus()"
   ]
  },
  {
   "cell_type": "code",
   "execution_count": 21,
   "metadata": {},
   "outputs": [
    {
     "data": {
      "text/plain": [
       "300"
      ]
     },
     "execution_count": 21,
     "metadata": {},
     "output_type": "execute_result"
    }
   ],
   "source": [
    "# Calculator 클래스에 곱셈 메소드를 추가해서 사용하고 싶다. -> 상속!\n",
    "\n",
    "class Calculator2(Calculator):\n",
    "    \n",
    "    def multi_(self):\n",
    "        return self.num1*self.num2\n",
    "\n",
    "calc2 = Calculator2(15,20)\n",
    "\n",
    "calc2.multi_()"
   ]
  },
  {
   "cell_type": "code",
   "execution_count": 33,
   "metadata": {},
   "outputs": [
    {
     "data": {
      "text/plain": [
       "['minus', 'multi_', 'plus']"
      ]
     },
     "execution_count": 33,
     "metadata": {},
     "output_type": "execute_result"
    }
   ],
   "source": [
    "result = [data for data in dir(Calculator2) if data[:2]!='__']\n",
    "result"
   ]
  },
  {
   "cell_type": "code",
   "execution_count": 34,
   "metadata": {},
   "outputs": [
    {
     "name": "stdout",
     "output_type": "stream",
     "text": [
      "35 500\n"
     ]
    }
   ],
   "source": [
    "# method overriding -> 기존 클래스의 method를 수정\n",
    "# plus 함수를 **2 로 수정하고 싶다면\n",
    "\n",
    "class Calculator3(Calculator2):\n",
    "    \n",
    "    def plus(self):\n",
    "        return (self.num1**2)+(self.num2**2)\n",
    "    \n",
    "calc3 = Calculator3(10,20)\n",
    "\n",
    "print(calc2.plus(),calc3.plus())"
   ]
  },
  {
   "cell_type": "code",
   "execution_count": 41,
   "metadata": {},
   "outputs": [
    {
     "data": {
      "text/plain": [
       "30"
      ]
     },
     "execution_count": 41,
     "metadata": {},
     "output_type": "execute_result"
    }
   ],
   "source": [
    "class Iphone:\n",
    "    \n",
    "    def __init__(self,num1):\n",
    "        self.num = num1\n",
    "        \n",
    "class Combi(Calculator,Iphone):\n",
    "    \n",
    "    def what(self):\n",
    "        print('what')\n",
    "        \n",
    "combi = Combi(10,20)\n",
    "\n",
    "combi.plus()"
   ]
  },
  {
   "cell_type": "code",
   "execution_count": 66,
   "metadata": {},
   "outputs": [
    {
     "name": "stdout",
     "output_type": "stream",
     "text": [
      "그래\n"
     ]
    },
    {
     "data": {
      "text/plain": [
       "1000"
      ]
     },
     "execution_count": 66,
     "metadata": {},
     "output_type": "execute_result"
    }
   ],
   "source": [
    "class Father:\n",
    "    \n",
    "    def __init__(self,num1):\n",
    "        self.num1 = num1\n",
    "    \n",
    "    def plus(self):\n",
    "        return self.num1*2\n",
    "    \n",
    "    def indices(self):\n",
    "        print(\"그래\")\n",
    "        return self.num1**3\n",
    "    \n",
    "class Son(Father):\n",
    "    \n",
    "    def indices(self):\n",
    "        super().indices()\n",
    "        return self.num1**3\n",
    "\n",
    "son = Son(10)\n",
    "\n",
    "son.indices()"
   ]
  },
  {
   "cell_type": "code",
   "execution_count": 90,
   "metadata": {},
   "outputs": [],
   "source": [
    "class Employee:\n",
    "    \n",
    "    def __init__(self,first,last):\n",
    "        self.first = first\n",
    "        self.last = last\n",
    "        self.email = first + '.' + last + '@email.com'\n",
    "        \n",
    "    def fullname(self):\n",
    "        return '{} {}'.format(self.first,self.last)"
   ]
  },
  {
   "cell_type": "code",
   "execution_count": 91,
   "metadata": {},
   "outputs": [],
   "source": [
    "emp_1 = Employee('John','Smith')"
   ]
  },
  {
   "cell_type": "code",
   "execution_count": 92,
   "metadata": {},
   "outputs": [
    {
     "data": {
      "text/plain": [
       "'John.Smith@email.com'"
      ]
     },
     "execution_count": 92,
     "metadata": {},
     "output_type": "execute_result"
    }
   ],
   "source": [
    "emp_1.email"
   ]
  },
  {
   "cell_type": "code",
   "execution_count": 109,
   "metadata": {},
   "outputs": [],
   "source": [
    "class Employee2(Employee):\n",
    "    \n",
    "    def __init__(self,first,last):\n",
    "        super().__init__(first,last)\n",
    "        \n",
    "    def email(self):\n",
    "        return '{}.{}@email.com'.format(self.first,self.last)"
   ]
  },
  {
   "cell_type": "code",
   "execution_count": 110,
   "metadata": {},
   "outputs": [
    {
     "ename": "TypeError",
     "evalue": "'str' object is not callable",
     "output_type": "error",
     "traceback": [
      "\u001b[0;31m---------------------------------------------------------------------------\u001b[0m",
      "\u001b[0;31mTypeError\u001b[0m                                 Traceback (most recent call last)",
      "\u001b[0;32m<ipython-input-110-5b2afd1833a2>\u001b[0m in \u001b[0;36m<module>\u001b[0;34m\u001b[0m\n\u001b[1;32m      1\u001b[0m \u001b[0memp_2\u001b[0m \u001b[0;34m=\u001b[0m \u001b[0mEmployee2\u001b[0m\u001b[0;34m(\u001b[0m\u001b[0;34m'John'\u001b[0m\u001b[0;34m,\u001b[0m\u001b[0;34m'Smith'\u001b[0m\u001b[0;34m)\u001b[0m\u001b[0;34m\u001b[0m\u001b[0;34m\u001b[0m\u001b[0m\n\u001b[0;32m----> 2\u001b[0;31m \u001b[0memp_2\u001b[0m\u001b[0;34m.\u001b[0m\u001b[0memail\u001b[0m\u001b[0;34m(\u001b[0m\u001b[0;34m)\u001b[0m\u001b[0;34m\u001b[0m\u001b[0;34m\u001b[0m\u001b[0m\n\u001b[0m",
      "\u001b[0;31mTypeError\u001b[0m: 'str' object is not callable"
     ]
    }
   ],
   "source": [
    "emp_2 = Employee2('John','Smith')\n",
    "emp_2.email()"
   ]
  },
  {
   "cell_type": "code",
   "execution_count": 111,
   "metadata": {},
   "outputs": [],
   "source": [
    "# 두잇 -> 클래스 예제 풀기\n",
    "# 진도 (4시까지)\n",
    "# 복습 (4-5)"
   ]
  },
  {
   "cell_type": "markdown",
   "metadata": {},
   "source": [
    "# 5장 연습문제 _ 두잇"
   ]
  },
  {
   "cell_type": "code",
   "execution_count": 130,
   "metadata": {},
   "outputs": [],
   "source": [
    "# 5장 1번\n",
    "class Calculator:\n",
    "    def __init__(self):\n",
    "        self.value = 0\n",
    "\n",
    "    def add(self, val):\n",
    "        self.value += val"
   ]
  },
  {
   "cell_type": "code",
   "execution_count": 131,
   "metadata": {},
   "outputs": [
    {
     "data": {
      "text/plain": [
       "3"
      ]
     },
     "execution_count": 131,
     "metadata": {},
     "output_type": "execute_result"
    }
   ],
   "source": [
    "class UpgradeCalculator(Calculator):\n",
    "    \n",
    "    def minus(self, val_minus):\n",
    "        self.value -= val_minus\n",
    "        \n",
    "cal = UpgradeCalculator()\n",
    "cal.add(10)\n",
    "cal.value\n",
    "cal.minus(7)\n",
    "cal.value"
   ]
  },
  {
   "cell_type": "code",
   "execution_count": 132,
   "metadata": {},
   "outputs": [],
   "source": [
    "# 5장 2번 *"
   ]
  },
  {
   "cell_type": "code",
   "execution_count": 138,
   "metadata": {},
   "outputs": [
    {
     "data": {
      "text/plain": [
       "100"
      ]
     },
     "execution_count": 138,
     "metadata": {},
     "output_type": "execute_result"
    }
   ],
   "source": [
    "class Calculator:\n",
    "    def __init__(self):\n",
    "        self.value = 0\n",
    "\n",
    "    def add(self, val):\n",
    "        self.value += val\n",
    "\n",
    "class MaxLimitCalculator(Calculator):\n",
    "    def add(self, val):\n",
    "        self.value += val\n",
    "        \n",
    "        if self.value+val <= 100:\n",
    "            return self.value\n",
    "        else:\n",
    "            return 100\n",
    "        \n",
    "cal = MaxLimitCalculator()\n",
    "cal.add(50)\n",
    "cal.add(60)\n",
    "cal.add(10)"
   ]
  },
  {
   "cell_type": "code",
   "execution_count": 144,
   "metadata": {},
   "outputs": [
    {
     "name": "stdout",
     "output_type": "stream",
     "text": [
      "[1, 3, 8]\n"
     ]
    }
   ],
   "source": [
    "# 5장 4번 *\n",
    "# filter와 lambda를 사용하여 리스트 [1, -2, 3, -5, 8, -3]에서 음수를 모두 제거해 보자.\n",
    "\n",
    "dataset = [1, -2, 3, -5, 8, -3]\n",
    "result = list(filter(lambda x : x>0, dataset))\n",
    "print(result)"
   ]
  },
  {
   "cell_type": "code",
   "execution_count": 145,
   "metadata": {},
   "outputs": [
    {
     "name": "stdout",
     "output_type": "stream",
     "text": [
      "[3, 6, 9, 12]\n"
     ]
    }
   ],
   "source": [
    "# 5장 6번\n",
    "# map과 lambda를 사용하여 [1, 2, 3, 4] 리스트의 각 요솟값에 3이 곱해진 리스트 [3, 6, 9, 12]를 만들어 보자.\n",
    "ls = [1,2,3,4]\n",
    "\n",
    "result = list(map(lambda x: x*3, ls))\n",
    "print(result)"
   ]
  },
  {
   "cell_type": "code",
   "execution_count": 148,
   "metadata": {},
   "outputs": [
    {
     "name": "stdout",
     "output_type": "stream",
     "text": [
      "7 -8\n"
     ]
    }
   ],
   "source": [
    "# 5장 7번\n",
    "# 다음 리스트의 최댓값과 최솟값의 합을 구해 보자.\n",
    "# [-8, 2, 7, 5, -3, 5, 0, 1]\n",
    "\n",
    "ls = [-8, 2, 7, 5, -3, 5, 0, 1]\n",
    "\n",
    "maxnum = max(ls)\n",
    "minnum = min(ls)\n",
    "\n",
    "print(maxnum,minnum)"
   ]
  },
  {
   "cell_type": "code",
   "execution_count": 150,
   "metadata": {},
   "outputs": [
    {
     "data": {
      "text/plain": [
       "5.6667"
      ]
     },
     "execution_count": 150,
     "metadata": {},
     "output_type": "execute_result"
    }
   ],
   "source": [
    "# 5장 8번\n",
    "# 17 / 3의 결과는 다음과 같다.\n",
    "# >>> 17 / 3\n",
    "# 5.666666666666667\n",
    "# 위와 같은 결괏값 5.666666666666667을 소숫점 4자리까지만 반올림하여 표시해 보자.\n",
    "\n",
    "result = round(17/3,4)\n",
    "result"
   ]
  },
  {
   "cell_type": "markdown",
   "metadata": {},
   "source": [
    "# class 복습"
   ]
  },
  {
   "cell_type": "code",
   "execution_count": 5,
   "metadata": {},
   "outputs": [
    {
     "ename": "TypeError",
     "evalue": "'NoneType' object is not callable",
     "output_type": "error",
     "traceback": [
      "\u001b[0;31m---------------------------------------------------------------------------\u001b[0m",
      "\u001b[0;31mTypeError\u001b[0m                                 Traceback (most recent call last)",
      "\u001b[0;32m<ipython-input-5-8e5f5b0fe12b>\u001b[0m in \u001b[0;36m<module>\u001b[0;34m\u001b[0m\n\u001b[1;32m     25\u001b[0m     \u001b[0;32mreturn\u001b[0m \u001b[0ma\u001b[0m\u001b[0;34m+\u001b[0m\u001b[0mb\u001b[0m\u001b[0;34m\u001b[0m\u001b[0;34m\u001b[0m\u001b[0m\n\u001b[1;32m     26\u001b[0m \u001b[0;34m\u001b[0m\u001b[0m\n\u001b[0;32m---> 27\u001b[0;31m \u001b[0mplus\u001b[0m\u001b[0;34m(\u001b[0m\u001b[0;36m1\u001b[0m\u001b[0;34m,\u001b[0m\u001b[0;36m2\u001b[0m\u001b[0;34m)\u001b[0m\u001b[0;34m\u001b[0m\u001b[0;34m\u001b[0m\u001b[0m\n\u001b[0m",
      "\u001b[0;31mTypeError\u001b[0m: 'NoneType' object is not callable"
     ]
    }
   ],
   "source": [
    "#1. 데코레이터 예제\n",
    "# userdata를 입력받아서 아이디와 패스워드를 체크하는 데코레이터 함수를 코드로 작성하시오.\n",
    "# 로그인 될 때마다 count 증가\n",
    "\n",
    "#1. 1차시도 : 에러메시지 = TypeError: 'NoneType' object is not callable\n",
    "user_datas = [\n",
    "    {'user':'test','pw':'1234', 'count':0},\n",
    "    {'user':'python','pw':'5678', 'count':0}\n",
    "]\n",
    "\n",
    "def need_login(func):\n",
    "    \n",
    "    def wrapper(*args,**kwargs):\n",
    "        \n",
    "        user_id, user_pw = input(\"ID PW : \")\n",
    "        \n",
    "        for i in range(len(user_datas)):\n",
    "            if user_id == user_datas[i]['id']:\n",
    "                if user_pw == user_datas[i]['pw']:\n",
    "                    user_datas[i]['count'] += 1\n",
    "                    return func(args,kwargs)\n",
    "        return '잘못 입력하셨습니다.'\n",
    "\n",
    "@need_login\n",
    "def plus(a,b):\n",
    "    return a+b\n",
    "\n",
    "plus(1,2)"
   ]
  },
  {
   "cell_type": "code",
   "execution_count": 8,
   "metadata": {},
   "outputs": [
    {
     "name": "stdout",
     "output_type": "stream",
     "text": [
      "ID PW : test 1234\n"
     ]
    },
    {
     "ename": "KeyError",
     "evalue": "'id'",
     "output_type": "error",
     "traceback": [
      "\u001b[0;31m---------------------------------------------------------------------------\u001b[0m",
      "\u001b[0;31mKeyError\u001b[0m                                  Traceback (most recent call last)",
      "\u001b[0;32m<ipython-input-8-492762583343>\u001b[0m in \u001b[0;36m<module>\u001b[0;34m\u001b[0m\n\u001b[1;32m     29\u001b[0m     \u001b[0;32mreturn\u001b[0m \u001b[0ma\u001b[0m\u001b[0;34m+\u001b[0m\u001b[0mb\u001b[0m\u001b[0;34m\u001b[0m\u001b[0;34m\u001b[0m\u001b[0m\n\u001b[1;32m     30\u001b[0m \u001b[0;34m\u001b[0m\u001b[0m\n\u001b[0;32m---> 31\u001b[0;31m \u001b[0mplus\u001b[0m\u001b[0;34m(\u001b[0m\u001b[0;36m1\u001b[0m\u001b[0;34m,\u001b[0m\u001b[0;36m2\u001b[0m\u001b[0;34m)\u001b[0m\u001b[0;34m\u001b[0m\u001b[0;34m\u001b[0m\u001b[0m\n\u001b[0m",
      "\u001b[0;32m<ipython-input-8-492762583343>\u001b[0m in \u001b[0;36mwrapper\u001b[0;34m(*args, **kwargs)\u001b[0m\n\u001b[1;32m     18\u001b[0m \u001b[0;34m\u001b[0m\u001b[0m\n\u001b[1;32m     19\u001b[0m         \u001b[0;32mfor\u001b[0m \u001b[0mi\u001b[0m \u001b[0;32min\u001b[0m \u001b[0mrange\u001b[0m\u001b[0;34m(\u001b[0m\u001b[0mlen\u001b[0m\u001b[0;34m(\u001b[0m\u001b[0muser_datas\u001b[0m\u001b[0;34m)\u001b[0m\u001b[0;34m)\u001b[0m\u001b[0;34m:\u001b[0m\u001b[0;34m\u001b[0m\u001b[0;34m\u001b[0m\u001b[0m\n\u001b[0;32m---> 20\u001b[0;31m             \u001b[0;32mif\u001b[0m \u001b[0muser_id\u001b[0m \u001b[0;34m==\u001b[0m \u001b[0muser_datas\u001b[0m\u001b[0;34m[\u001b[0m\u001b[0mi\u001b[0m\u001b[0;34m]\u001b[0m\u001b[0;34m[\u001b[0m\u001b[0;34m'id'\u001b[0m\u001b[0;34m]\u001b[0m\u001b[0;34m:\u001b[0m\u001b[0;34m\u001b[0m\u001b[0;34m\u001b[0m\u001b[0m\n\u001b[0m\u001b[1;32m     21\u001b[0m                 \u001b[0;32mif\u001b[0m \u001b[0muser_pw\u001b[0m \u001b[0;34m==\u001b[0m \u001b[0muser_datas\u001b[0m\u001b[0;34m[\u001b[0m\u001b[0mi\u001b[0m\u001b[0;34m]\u001b[0m\u001b[0;34m[\u001b[0m\u001b[0;34m'pw'\u001b[0m\u001b[0;34m]\u001b[0m\u001b[0;34m:\u001b[0m\u001b[0;34m\u001b[0m\u001b[0;34m\u001b[0m\u001b[0m\n\u001b[1;32m     22\u001b[0m                     \u001b[0muser_datas\u001b[0m\u001b[0;34m[\u001b[0m\u001b[0mi\u001b[0m\u001b[0;34m]\u001b[0m\u001b[0;34m[\u001b[0m\u001b[0;34m'count'\u001b[0m\u001b[0;34m]\u001b[0m \u001b[0;34m+=\u001b[0m \u001b[0;36m1\u001b[0m\u001b[0;34m\u001b[0m\u001b[0;34m\u001b[0m\u001b[0m\n",
      "\u001b[0;31mKeyError\u001b[0m: 'id'"
     ]
    }
   ],
   "source": [
    "#1. 데코레이터 예제\n",
    "# userdata를 입력받아서 아이디와 패스워드를 체크하는 데코레이터 함수를 코드로 작성하시오.\n",
    "# 로그인 될 때마다 count 증가\n",
    "\n",
    "#1. 2차시도 :\n",
    "# 수정1) line 17 -> input.split(' ') 추가\n",
    "# 수정2) line 26 -> return wrapper 추가\n",
    "# 에러메시지 -> KeyError: 'id'\n",
    "\n",
    "user_datas = [\n",
    "    {'user':'test','pw':'1234', 'count':0},\n",
    "    {'user':'python','pw':'5678', 'count':0}\n",
    "]\n",
    "\n",
    "def need_login(func):\n",
    "    \n",
    "    def wrapper(*args,**kwargs):\n",
    "        \n",
    "        user_id, user_pw = input(\"ID PW : \").split(' ')\n",
    "        \n",
    "        for i in range(len(user_datas)):\n",
    "            if user_id == user_datas[i]['id']:\n",
    "                if user_pw == user_datas[i]['pw']:\n",
    "                    user_datas[i]['count'] += 1\n",
    "                    return func(args,kwargs)\n",
    "        return '잘못 입력하셨습니다.'\n",
    "    return wrapper\n",
    "\n",
    "@need_login\n",
    "def plus(a,b):\n",
    "    return a+b\n",
    "\n",
    "plus(1,2)"
   ]
  },
  {
   "cell_type": "code",
   "execution_count": 20,
   "metadata": {},
   "outputs": [],
   "source": [
    "#1. 데코레이터 예제\n",
    "# userdata를 입력받아서 아이디와 패스워드를 체크하는 데코레이터 함수를 코드로 작성하시오.\n",
    "# 로그인 될 때마다 count 증가\n",
    "\n",
    "#1. 3차시도 :\n",
    "# 수정1) line 20 : user_datas[i]['id'] -> user_datas[i]['user']로.. 데이터셋을 제대로 안 본 것.\n",
    "# 에러메시지 : TypeError: can only concatenate tuple (not \"dict\") to tuple\n",
    "\n",
    "#2. 4차시도 : wrapper(*args, **kwargs)  -->  result func(*args, **kwargs) 가 되어야 함!\n",
    "\n",
    "# 수정2) line 27 : func(args,kwargs) -> func(*args,**kwargs)\n",
    "# wrapper(*args,**kwargs)로 받으명, wrapper안에서 args, kwargs 변수는 tuple자료형으로 존재. \n",
    "\n",
    "# 따라서, line 27의 func(args,kwargs)로 뒀다면, 결국엔 plus(1,2)가 데코레이터로 인해 wrapper로 치환되면서, return a+b 시에,\n",
    "# a와 b 모두 tuple형이어서, tuple형끼리 연산하라는 게 됨. 그래서 위와 같은 TypeError가 발생한 것. \n",
    "# 따라서, result func(*args,**kwargs)로, 원래의 *정수, **dict 형으로 되게끔 해야함.\n",
    "    \n",
    "user_datas = [\n",
    "    {'user':'test','pw':'1234', 'count':0},\n",
    "    {'user':'python','pw':'5678', 'count':0}\n",
    "]"
   ]
  },
  {
   "cell_type": "code",
   "execution_count": 23,
   "metadata": {},
   "outputs": [
    {
     "name": "stdout",
     "output_type": "stream",
     "text": [
      "ID PW : test 1234\n",
      "3\n"
     ]
    },
    {
     "data": {
      "text/plain": [
       "3"
      ]
     },
     "execution_count": 23,
     "metadata": {},
     "output_type": "execute_result"
    }
   ],
   "source": [
    "def need_login(func):\n",
    "    \n",
    "    def wrapper(*args,**kwargs):\n",
    "        \n",
    "        user_id, user_pw = input(\"ID PW : \").split(' ')\n",
    "        \n",
    "        for i in range(len(user_datas)):\n",
    "            if user_id == user_datas[i]['user']:\n",
    "                if user_pw == user_datas[i]['pw']:\n",
    "                    user_datas[i]['count'] += 1\n",
    "                    print(user_datas[i]['count'])\n",
    "                    return func(*args,**kwargs)\n",
    "        return '잘못 입력하셨습니다.'\n",
    "    return wrapper\n",
    "\n",
    "@need_login\n",
    "def plus(a,b):\n",
    "    return a+b\n",
    "\n",
    "plus(1,2)"
   ]
  },
  {
   "cell_type": "code",
   "execution_count": null,
   "metadata": {},
   "outputs": [],
   "source": []
  },
  {
   "cell_type": "code",
   "execution_count": 30,
   "metadata": {},
   "outputs": [
    {
     "data": {
      "text/plain": [
       "20"
      ]
     },
     "execution_count": 30,
     "metadata": {},
     "output_type": "execute_result"
    }
   ],
   "source": [
    "#2. 클래스 예제\n",
    "# 클래스 예제\n",
    "# 스타크래프트의 마린을 설계\n",
    "# 속성과 메소드 : 체력(40), 공격력(5), 공격\n",
    "# 마린 클래스로 마린 객체 2개를 생성해서, 마린1이 마린2를 공격하는 코드를 작성\n",
    "# attack(self, unit)\n",
    "\n",
    "\n",
    "class Marine:\n",
    "    \n",
    "    def __init__(self,health=40,attack_pow=5):\n",
    "        self.health = health\n",
    "        self.attack_pow = attack_pow\n",
    "        \n",
    "    def attack(self,unit):\n",
    "        unit.health -= self.attack_pow\n",
    "        \n",
    "marine1 = Marine()\n",
    "marine2 = Marine()\n",
    "\n",
    "marine1.attack(marine2)\n",
    "marine1.attack(marine2)\n",
    "marine1.attack(marine2)\n",
    "marine1.attack(marine2)\n",
    "\n",
    "marine2.health"
   ]
  },
  {
   "cell_type": "markdown",
   "metadata": {},
   "source": [
    "생성자 : 클래스의 객체 생성 시, 가장 먼저 자동으로 실행되는 함수. 속성 설정하는 역할\n",
    "\n",
    "def __init__(self,num1=10,num2=5):\n",
    "    self.num1 = num1\n",
    "    self.num2 = num2\n",
    "    \n",
    "marine1 = Marine(10,5)"
   ]
  },
  {
   "cell_type": "code",
   "execution_count": 37,
   "metadata": {},
   "outputs": [
    {
     "data": {
      "text/plain": [
       "12"
      ]
     },
     "execution_count": 37,
     "metadata": {},
     "output_type": "execute_result"
    }
   ],
   "source": [
    "def outer(a,b):\n",
    "    def inner(c,d):\n",
    "        return c*d\n",
    "    \n",
    "    return inner(a,b)\n",
    "\n",
    "outer(3,4)"
   ]
  },
  {
   "cell_type": "code",
   "execution_count": 46,
   "metadata": {},
   "outputs": [
    {
     "name": "stdout",
     "output_type": "stream",
     "text": [
      "0 {'user': 'test', 'pw': '1234', 'count': 0}\n",
      "1 {'user': 'python', 'pw': '5678', 'count': 0}\n"
     ]
    }
   ],
   "source": [
    "user_datas = [\n",
    "    {'user':'test','pw':'1234', 'count':0},\n",
    "    {'user':'python','pw':'5678', 'count':0}\n",
    "]\n",
    "b = range(len(user_datas))\n",
    "c = zip(b,user_datas)\n",
    "\n",
    "for i, data in c:\n",
    "    print(i, data)\n",
    "\n"
   ]
  },
  {
   "cell_type": "code",
   "execution_count": 48,
   "metadata": {},
   "outputs": [
    {
     "name": "stdout",
     "output_type": "stream",
     "text": [
      "이겨라\n",
      "하지마\n",
      "이길거야\n"
     ]
    }
   ],
   "source": [
    "class Barrack:\n",
    "    def __init__(self,health=100,attack_pow=10):\n",
    "        self.health = health\n",
    "        self.attack_pow = attack_pow\n",
    "        \n",
    "    def attack(self,unit):\n",
    "        unit.health -= self.attack_pow\n",
    "        \n",
    "    def fight(self):\n",
    "        print(\"이겨라\")\n",
    "        print(\"하지마\")\n",
    "        print(\"이길거야\")\n",
    "        \n",
    "class Hive(Barrack):\n",
    "    \n",
    "    def fight(self):\n",
    "        super().fight()\n",
    "        \n",
    "hidra = Hive()\n",
    "\n",
    "hidra.fight()"
   ]
  },
  {
   "cell_type": "code",
   "execution_count": 59,
   "metadata": {},
   "outputs": [
    {
     "data": {
      "text/plain": [
       "[2, 5, 10, 17, 26]"
      ]
     },
     "execution_count": 59,
     "metadata": {},
     "output_type": "execute_result"
    }
   ],
   "source": [
    "ls = [1,2,3,4,5]\n",
    "\n",
    "calc = lambda x : (x**2)+1\n",
    "\n",
    "result = list(map(calc,ls))\n",
    "result"
   ]
  },
  {
   "cell_type": "code",
   "execution_count": null,
   "metadata": {},
   "outputs": [],
   "source": []
  }
 ],
 "metadata": {
  "kernelspec": {
   "display_name": "Python 3",
   "language": "python",
   "name": "python3"
  },
  "language_info": {
   "codemirror_mode": {
    "name": "ipython",
    "version": 3
   },
   "file_extension": ".py",
   "mimetype": "text/x-python",
   "name": "python",
   "nbconvert_exporter": "python",
   "pygments_lexer": "ipython3",
   "version": "3.7.4"
  }
 },
 "nbformat": 4,
 "nbformat_minor": 2
}
