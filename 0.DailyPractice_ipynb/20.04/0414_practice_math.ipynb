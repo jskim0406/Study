{
 "cells": [
  {
   "cell_type": "code",
   "execution_count": 1,
   "metadata": {},
   "outputs": [],
   "source": [
    "# 수학 2일차\n",
    "# 연습문제 2.3.1 수기\n",
    "# 연습문제 2.3.3-5 수기\n",
    "# 행렬식 여인수전개 수기\n",
    "# 연습문제 2.3.7 수기\n",
    "# 연습문제 2.4.3 수기(1,2번)\n",
    "# 넘파이를 사용한 역행렬 계산 + 연립방정식 해결 코드\n",
    "# lstsq방법 활용한 연립방정식 해결 코드\n",
    "# 보스턴 집값 문제 해결 코드\n",
    "# 2.4pdf의 8페이지 방정식갯수>미지수갯수 => 해가 없을 수 있음. 열공간으로 정리해보기 수기(재량)\n",
    "# ---2강\n",
    "# 연습문제 3.1.2 수기\n",
    "# 연습문제 3.1.3 수기\n",
    "# 연습문제 3.1.4 수기\n",
    "# 연습문제 3.1.5 수기\n",
    "# 연습문제 3.1.6 수기\n",
    "\n",
    "\n"
   ]
  },
  {
   "cell_type": "code",
   "execution_count": null,
   "metadata": {},
   "outputs": [],
   "source": [
    "2.3 행렬의 성질\n",
    "\n",
    "1) 행렬의 부호(정부호)\n",
    "(positive defi, positive semi defi)\n",
    "    - 정의\n",
    "    - 행렬 예시 2개(항등행렬, 대칭행렬)\n",
    "\n",
    "2) 행렬의 크기\n",
    "    - norm 정의 (||A||p)\n",
    "    - 벡터 크기 : L2 norm\n",
    "    - 행렬 크기 : frobeniums norm\n",
    "        - 벡터의 (L2 norm)^2 = 내적값 = 벡터의 제곱합 (xT * x)\n",
    "        \n",
    "    - code) numpy로 행렬 norm 구해보기\n",
    "    \n",
    "3) norm의 4가지 성질\n",
    "    - \n",
    "    - \n",
    "    - \n",
    "    -\n",
    "        \n",
    "4) Trace = 대각합\n",
    "    - 정의\n",
    "    - 대각합은 정방행렬에서만 정의됨\n",
    "    - 항등행렬의 대각합\n",
    "    - 대각합 성질\n",
    "        - tr(AB) = tr(BA)\n",
    "        - tr(ABC) = tr(BCA) = tr(CAB) <= 'trace trick'\n",
    "        - quadratic form의 trace\n",
    "    \n",
    "5) 행렬식\n",
    "    - 정의\n",
    "    - 성질\n",
    "        - 전치행렬의 행렬식\n",
    "        - 행렬 곱의 행렬식\n",
    "        - 역행렬의 행렬식\n",
    "        \n",
    "    "
   ]
  },
  {
   "cell_type": "code",
   "execution_count": null,
   "metadata": {},
   "outputs": [],
   "source": [
    "2.4 선형 연립방정식과 역행렬\n",
    "\n",
    "1) 선형연립방정식 = 행렬과 벡터의 곱\n",
    "\n",
    "\n",
    "\n",
    "2) 역행렬\n",
    "    - 가역행렬 / 비가역행렬(특이행렬)\n",
    "    - 대각행렬의 역행렬\n",
    "    - 역행렬의 성질\n",
    "        - 전치행렬의 역행렬\n",
    "    \n",
    "    - code) 넘파이를 사용한 연립방정식 해결(역행렬 계산)\n",
    "    - code) lstsq방법 활용한 연립방정식 해결\n",
    "    \n",
    "3) 선형 연립방정식과 선형 예측모형\n",
    "    - 선형 예측모형의 가중치 벡터를 구하기 = 선형 연립방정식 풀기\n",
    "        (Xw = y, w = (X)-1 y)\n",
    "        \n",
    "    - code) 보스턴 집값 예측 문제 코딩\n",
    "    \n",
    "4) 미지수의 수와 방정식의 수\n",
    "    - 방정식의 수 = 미지수의 수\n",
    "    - 방정식의 수 < 미지수의 수\n",
    "    - 방정식의 수 > 미지수의 수 -> 최소자승법으로 근사값 구함\n"
   ]
  },
  {
   "cell_type": "code",
   "execution_count": 1,
   "metadata": {},
   "outputs": [
    {
     "ename": "SyntaxError",
     "evalue": "invalid syntax (<ipython-input-1-70bdc540c7f5>, line 1)",
     "output_type": "error",
     "traceback": [
      "\u001b[0;36m  File \u001b[0;32m\"<ipython-input-1-70bdc540c7f5>\"\u001b[0;36m, line \u001b[0;32m1\u001b[0m\n\u001b[0;31m    2.4 선형 연립방정식과 역행렬\u001b[0m\n\u001b[0m         ^\u001b[0m\n\u001b[0;31mSyntaxError\u001b[0m\u001b[0;31m:\u001b[0m invalid syntax\n"
     ]
    }
   ],
   "source": [
    "2.4 선형 연립방정식과 역행렬\n",
    "\n",
    "5) 최소제곱법\n",
    "    - 방정식 갯수 > 미지수 갯수 -> 정학한 해 구할 수 없는 경우, 최소제곱법으로 가장 근접한 답을 찾는다.\n",
    "    - Ax = b의 해(x)가 없으니, Ax와 b가 가장 근접하게 하는 해(x)를 찾는다. -> e = Ax - b 일 때, 잔차 e를 최소화 하는 해(x)를 찾는 것\n",
    "    - 잔차를 최소화 = 벡터의 최소화 = norm의 최소화 => (norm)**2 최소화와 같다 = 내적의 최소화\n",
    "    - eT*e = ||e||^2 = (norm)**2 = (Ax-b)T (Ax-b)\n",
    "    \n",
    "    - so, Ax와 b의 잔차의 최소값을 찾는다 -> 잔차의 최소값 = 잔차벡터 norm의 최소값 -> norm**2의 최소값 = 내적의 최소값 -> (Ax-b)T(Ax-b)의 최소값 찾기\n",
    "    - 이러한 문제를 최소제곱문제 라고 함.\n",
    "\n",
    "    - 최소제곱법 풀이 과정(Ax = b, x = ?)\n",
    "    \n",
    "    \n",
    "    \n",
    "    \n",
    "    \n",
    "6) 최소제곱법의 계산 => 의사역행렬 (pseudo inverse) 활용\n",
    "    - 최소제곱법 접근을 통해, Ax^ = b 를 만족하는 근사해(x^)를 찾는 데, 이 때, A의 의사역행렬을 통해 x^를 구할 수 있다.\n",
    "    - x^ = (A+)b, A+ = 의사역행렬 이라 함\n",
    "    \n",
    "    - code) 의사역행렬을 직접 계산해 최소제곱법 근사해 구하기\n",
    "    - code) np.linalg.lstsq 를 활용해 최소제곱법 근사해 구하기\n",
    "    \n",
    "    "
   ]
  },
  {
   "cell_type": "code",
   "execution_count": 2,
   "metadata": {},
   "outputs": [
    {
     "ename": "SyntaxError",
     "evalue": "invalid syntax (<ipython-input-2-0f735e756a71>, line 1)",
     "output_type": "error",
     "traceback": [
      "\u001b[0;36m  File \u001b[0;32m\"<ipython-input-2-0f735e756a71>\"\u001b[0;36m, line \u001b[0;32m1\u001b[0m\n\u001b[0;31m    3.0 고급 선형대수\u001b[0m\n\u001b[0m         ^\u001b[0m\n\u001b[0;31mSyntaxError\u001b[0m\u001b[0;31m:\u001b[0m invalid syntax\n"
     ]
    }
   ],
   "source": [
    "3.0 고급 선형대수\n",
    "3.1 선형대수와 해석기하의 기초\n",
    "\n",
    "1) 벡터의 길이\n",
    "    - ||a|| = \n",
    "    - 단위벡터\n",
    "\n",
    "2) 유클리드 거리\n",
    "    - 정의\n",
    "\n",
    "3) 벡터의 내적과 삼각함수\n",
    "    - 내적 = \n",
    "    - sin, cos = \n",
    "    \n",
    "4) 직교\n",
    "    - 정의\n",
    "    \n",
    "5) 정규직교\n",
    "    - 정의\n",
    "    - 정규직교 벡터의 역행렬 = 전치행렬\n",
    "\n",
    "6) 코사인 유사도\n",
    "    - 정의\n",
    "    - 벡터 간 거리 : 코사인 거리 / 유클리드 거리\n",
    "    "
   ]
  },
  {
   "cell_type": "markdown",
   "metadata": {},
   "source": [
    "# day2 연습문제 (코드)"
   ]
  },
  {
   "cell_type": "markdown",
   "metadata": {},
   "source": [
    "### 2.4 선형 연립방정식과 역행렬 중 최소자승문제 해결\n"
   ]
  },
  {
   "cell_type": "code",
   "execution_count": 10,
   "metadata": {},
   "outputs": [],
   "source": [
    "import numpy as np\n",
    "\n",
    "A = np.array([[1, 1, 0], [0, 1, 1], [1, 1, 1], [1, 1, 2]])\n",
    "b = np.array([[2], [2], [3], [4.1]])"
   ]
  },
  {
   "cell_type": "code",
   "execution_count": 6,
   "metadata": {},
   "outputs": [
    {
     "data": {
      "text/plain": [
       "array([[ 0.33333333, -1.        ,  0.33333333,  0.33333333],\n",
       "       [ 0.5       ,  1.        ,  0.        , -0.5       ],\n",
       "       [-0.5       ,  0.        ,  0.        ,  0.5       ]])"
      ]
     },
     "execution_count": 6,
     "metadata": {},
     "output_type": "execute_result"
    }
   ],
   "source": [
    "# x를 찾는 방법 => 1. 수도인버스 직접 계산 / 2. 직접 np.linalg.lstsq() 사용\n",
    "\n",
    "#1. 수도인버스 직접 계산\n",
    "#A+ = (A.T @ A)-1 @ A.T\n",
    "\n",
    "Apinv = np.linalg.inv(A.T@A)@A.T\n",
    "Apinv"
   ]
  },
  {
   "cell_type": "code",
   "execution_count": 9,
   "metadata": {},
   "outputs": [
    {
     "data": {
      "text/plain": [
       "array([[1.03333333],\n",
       "       [0.95      ],\n",
       "       [1.05      ]])"
      ]
     },
     "execution_count": 9,
     "metadata": {},
     "output_type": "execute_result"
    }
   ],
   "source": [
    "x = Apinv@b\n",
    "x"
   ]
  },
  {
   "cell_type": "code",
   "execution_count": 15,
   "metadata": {},
   "outputs": [
    {
     "name": "stderr",
     "output_type": "stream",
     "text": [
      "/Users/kimjeongseob/opt/anaconda3/lib/python3.7/site-packages/ipykernel_launcher.py:3: FutureWarning: `rcond` parameter will change to the default of machine precision times ``max(M, N)`` where M and N are the input matrix dimensions.\n",
      "To use the future default and silence this warning we advise to pass `rcond=None`, to keep using the old, explicitly pass `rcond=-1`.\n",
      "  This is separate from the ipykernel package so we can avoid doing imports until\n"
     ]
    },
    {
     "data": {
      "text/plain": [
       "(array([[1.03333333],\n",
       "        [0.95      ],\n",
       "        [1.05      ]]),\n",
       " array([0.00166667]),\n",
       " 3,\n",
       " array([3.35753997, 1.15123198, 0.6337115 ]))"
      ]
     },
     "execution_count": 15,
     "metadata": {},
     "output_type": "execute_result"
    }
   ],
   "source": [
    "#2. np.linalg.lstsq() 적용\n",
    "\n",
    "x, resid, rank, s = np.linalg.lstsq(A,b)\n",
    "x, resid, rank, s"
   ]
  },
  {
   "cell_type": "code",
   "execution_count": null,
   "metadata": {},
   "outputs": [],
   "source": []
  },
  {
   "cell_type": "code",
   "execution_count": null,
   "metadata": {},
   "outputs": [],
   "source": []
  },
  {
   "cell_type": "code",
   "execution_count": null,
   "metadata": {},
   "outputs": [],
   "source": []
  },
  {
   "cell_type": "code",
   "execution_count": null,
   "metadata": {},
   "outputs": [],
   "source": []
  },
  {
   "cell_type": "code",
   "execution_count": null,
   "metadata": {},
   "outputs": [],
   "source": []
  },
  {
   "cell_type": "code",
   "execution_count": null,
   "metadata": {},
   "outputs": [],
   "source": []
  }
 ],
 "metadata": {
  "kernelspec": {
   "display_name": "Python 3",
   "language": "python",
   "name": "python3"
  },
  "language_info": {
   "codemirror_mode": {
    "name": "ipython",
    "version": 3
   },
   "file_extension": ".py",
   "mimetype": "text/x-python",
   "name": "python",
   "nbconvert_exporter": "python",
   "pygments_lexer": "ipython3",
   "version": "3.7.4"
  }
 },
 "nbformat": 4,
 "nbformat_minor": 2
}
