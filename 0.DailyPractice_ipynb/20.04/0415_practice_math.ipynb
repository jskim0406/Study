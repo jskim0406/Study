{
 "cells": [
  {
   "cell_type": "code",
   "execution_count": null,
   "metadata": {},
   "outputs": [],
   "source": [
    "# 연습문제(수학 2일차 마지막)\n",
    "\n",
    "# 연습문제 3.1.8 (수기)\n",
    "# 연습문제 3.1.9 (수기\n",
    "# 연습문제 3.2.2 (수기)\n",
    "# 연습문제 3.2.3 (수기)\n",
    "\n",
    "\n",
    "# 연습문제(수학 3일차)\n",
    "\n",
    "# 연습문제 3.2.5 (수기로 랭크1행렬, 랭크2행렬 만든 후 넘파이 연산결과와 비교)\n",
    "# 연습문제 3.2.9 (수기 및 코드)\n",
    "# 연습문제 3.3.1 (수기)\n",
    "# 연습문제 3.3.2 (수기)\n",
    "# 연습문제 3.3.3 (수기)\n",
    "# 연습문제 3.3.4 (수기) -> 모르겠음\n",
    "# 연습문제 3.3.5 (코드)\n",
    "# 연습문제 3.3.6 (수기)\n",
    "# 연습문제 3.3.10 (수기)\n",
    "# 연습문제 3.4.1 (코드)\n",
    "\n"
   ]
  },
  {
   "cell_type": "code",
   "execution_count": null,
   "metadata": {},
   "outputs": [],
   "source": []
  },
  {
   "cell_type": "code",
   "execution_count": 1,
   "metadata": {},
   "outputs": [
    {
     "ename": "SyntaxError",
     "evalue": "invalid syntax (<ipython-input-1-c5535cf9baf3>, line 1)",
     "output_type": "error",
     "traceback": [
      "\u001b[0;36m  File \u001b[0;32m\"<ipython-input-1-c5535cf9baf3>\"\u001b[0;36m, line \u001b[0;32m1\u001b[0m\n\u001b[0;31m    03.01 선형대수와 해석기하의 기초\u001b[0m\n\u001b[0m              ^\u001b[0m\n\u001b[0;31mSyntaxError\u001b[0m\u001b[0;31m:\u001b[0m invalid syntax\n"
     ]
    }
   ],
   "source": [
    "03.01 선형대수와 해석기하의 기초\n",
    "\n",
    "7) 벡터의 분해와 성분\n",
    "    - a + b = c, c = a와 b로 분해될 수 있음. c라는 벡터의 분해는 (a,b)외에도 수 많은 조합으로 가능\n",
    "\n",
    "8) 정사영\n",
    "    - 정사영은 벡터와 직선(or벡터) 간 수직거리 이해에 필요\n",
    "    \n",
    "    - 벡터 a를 정사영과 직교성분으로 분해\n",
    "    - 정사영 길이 = ||a|| cos\n",
    "    - 정사영 길이 = 내적값 / ||b||\n",
    "    - 정사영 길이 = 벡터 a와 단위벡터(b의) 내적\n",
    "    - 정사영 벡터 = 정사영 길이 * 단위벡터\n",
    "    \n",
    "    - 벡터 a = a의 정사영 벡터 + a의 직교벡터\n",
    "    \n",
    "9) 직선의 방정식\n",
    "    - 벡터 w에 수직인 직선의 방정식을 구하라\n",
    "    - 그 직선과 원점사이의 거리를 구하라\n",
    "    \n",
    "    \n",
    "10) 직선과 점사이 거리\n",
    "    - 벡터 w에 수직인 직선과 x'의 거리를 구하라ㅆㅅㅁ\n"
   ]
  },
  {
   "cell_type": "code",
   "execution_count": 2,
   "metadata": {},
   "outputs": [
    {
     "ename": "SyntaxError",
     "evalue": "invalid token (<ipython-input-2-d0574353f756>, line 1)",
     "output_type": "error",
     "traceback": [
      "\u001b[0;36m  File \u001b[0;32m\"<ipython-input-2-d0574353f756>\"\u001b[0;36m, line \u001b[0;32m1\u001b[0m\n\u001b[0;31m    03. 02 좌표와 변환\u001b[0m\n\u001b[0m         ^\u001b[0m\n\u001b[0;31mSyntaxError\u001b[0m\u001b[0;31m:\u001b[0m invalid token\n"
     ]
    }
   ],
   "source": [
    "03. 02 좌표와 변환\n",
    "\n",
    "1) 선형독립과 선형종속\n",
    "    - 선형독립 : N(A)의 only solution이 영벡터\n",
    "    - 선형독립의 벡터들은 서로 직교한다. (데카르트 좌표계의 x축과 y축이 수직인 이유가 여기에 있음. 서로 직교여야 독립)\n",
    "    - 연습문제 3.2.3\n",
    "    \n",
    "2) 선형독립과 연립방정식\n",
    "    - 선형독립의 논리적 식 (3.2.13식)\n",
    "    - 선형종속의 대표적인 경우 (03.02 3page)\n",
    "        1) 벡터의 갯수가 벡터의 차원보다 크면 선형종속\n",
    "        2) 값이 같은 벡터가 있으면 선형종속\n",
    "        3) 어떤 벡터가 다른 벡터의 조합이면 선형종속\n",
    "        \n",
    "3) 랭크\n",
    "    - 랭크의 정의\n",
    "    - 열랭크와 행랭크는 항상 같다\n",
    "    - rank A <= min(M,N) *A가 M,N행렬일 때 (03.02 4page)\n",
    "    - code) rank구하는 코드\n",
    "    \n",
    "4) 풀랭크\n",
    "    - 정의\n",
    "    - Low-랭크 행렬\n",
    "        - 1랭크 행렬 : N차원 벡터x 1개를 이용해 만든 행렬 (nxn행렬은 사실 벡터1개의 복제품)\n",
    "        - 2랭크 행렬 : N차원 벡터x 2개를 이용해 만든 행렬\n",
    "        - 3랭크 행렬 : N차원 벡터x 3개를 이용해 만든 행렬\n",
    "    \n",
    "    - 랭크와 역행렬\n",
    "        - 정방행렬이 풀랭크면, 역행렬이 존재 \n",
    "            (전단사함수 <-> 역행렬 존재) (rankA=N, rankA=M, M=N => 정방행렬, 풀랭크 조건 = 역행렬 조건)\n",
    "            (즉, 모두 선형독립인 열벡터만으로 이뤄진 정방행렬 <-> 역행렬 존재)\n",
    "            (즉, 풀랭크 정방행렬 <-> 역행렬 존재)\n",
    "            \n",
    "            \n",
    "5) 벡터공간과 기저벡터\n",
    "    - 벡터공간 : 선형독립인 벡터 N개의 선형결합으로 만들어지는 집합\n",
    "    - 기저벡터 : 벡터공간을 이루는 선형독립인 벡터들\n",
    "        - 벡터공간의 차원 : 기저벡터의 갯수 (기저벡터 2개로는 2차원 column space 만들 수 있음)\n",
    "            ex) 만약, 선형독립인 3차원 벡터 2개가 주어졌다면, 2차원 column space는 만들 수 있지만, 3차원 column space는 만들 수 없다.\n",
    "            (03.02 8page)\n",
    "            \n",
    "            \n",
    "            \n",
    "    - 정리 : M차원 벡터 N개가 *선형독립* 일 때 (M x N 행렬)\n",
    "        - N = M  =>  모든 N차원 C(A) 생성 가능 (span of 벡터N개)\n",
    "        - N > M  =>  갯수가 더 많음. N개 중 일부는 선형종속. 따라서, 선형종속이다. column space 생성 불가\n",
    "        - N < M  =>  갯수가 더 적음. N차원 C(A)가능. (but, M차원 C(A)는 불가)\n",
    "            ex) 3차원 벡터 2개가 선형독립.  =>  2차원 C(A) 가능. (but, 3차원 C(A)는 불가.)\n",
    "        \n",
    "        \n",
    "6) 정사영 (shadow to 벡터공간)\n",
    "    - 정규직교인 기저벡터의 M차원 공간 정사영 (03.02 10page그림, 03.02 11page)\n",
    "        - 정사영 = \n",
    "        - 정사영 길이 = \n",
    "    \n",
    "7) 표준기저벡터\n",
    "    - e1, e2, ...\n",
    "    - 좌표 : 기저벡터를 선형조합하여 그 벡터를 나타내기 위한 계수벡터를 의미 (03.02 12page)\n",
    "        \n",
    "        \n",
    "        \n",
    "        \n",
    "        \n",
    "\n",
    "8) 변환행렬\n",
    "    - 역할 : 기저벡터의 변환, 회전 및 스케일  (03.02 17page, 03.02 19page)\n",
    "        \n",
    "        \n",
    "        \n",
    "        \n",
    "    \n",
    "\n",
    "9) 이미지변환\n",
    "    - 03.02 23page\n",
    "    - 연습문제 3.2.9 (수기 및 코드 확인)"
   ]
  },
  {
   "cell_type": "code",
   "execution_count": null,
   "metadata": {},
   "outputs": [],
   "source": [
    "03.03 고유값 분해\n",
    "\n",
    "1) 고유값과 고유벡터\n",
    "    - 정의\n",
    "\n",
    "    \n",
    "    - 고유값 분해는 정방행렬에서만 가능\n",
    "    - 행렬을 곱해서 변환 시, 방향은 변하지 않고 스케일링 효과만 있을 때, 그때의 스케일러를 고유값, 방향을 고유벡터라고 한다.\n",
    "    - 대표적으로 고유벡터를 단위벡터로 상정해서 얘기한다.\n",
    "    \n",
    "    \n",
    "2) 고유값 계산\n",
    "    - 특성방정식의 해 찾기 (03.03 2page)\n",
    "\n",
    "    \n",
    "    [고유값 갯수]\n",
    "    - N차 정방행렬의 고유값은 항상 N개 (중근 및 복소수 모두 별개라고 가정 시)\n",
    "    \n",
    "    [고유값과 trace, determinent]\n",
    "    - tr(A) = 고유값 합\n",
    "    - det(A) = 고유값 곱  *고유값 중 하나라도 존재하면, 역행렬이 존재하지 않는다. (det(A) = 0 이 될테니까)\n",
    "    \n",
    "    \n",
    "3) 고유벡터 계산\n",
    "    - 특성방정식에 고유값 넣어서 계산\n",
    "    \n",
    "    \n",
    "4) 대각화\n",
    "    - 고유값 행렬 = diag(람다i)\n",
    "    - 정방행렬 A 의 고유값분해 = 대각화 (03.03 8page) \n",
    "     \n",
    "5) 대각화 가능 조건\n",
    "    - full rank는 역행렬. 역행렬은 full rank\n",
    "    - 고유벡터행렬이 full rank. 선형독립 set이어야 한다.\n",
    "    \n",
    "6) 대칭행렬의 고유분해\n",
    "    - 대칭행렬 => orthogonal 고유벡터행렬 + 실수 고유값 갖는다. (고유값은 실수 + 고유벡터는 서로 직교)\n",
    "    - 대칭행렬은 항상 대각화가 가능함 (고유벡터 행렬이 full rank -> 고유벡터 행렬의 inverse 가능)\n",
    "    \n",
    "    - 만약, 고유벡터들이 정규화된 상태라면\n",
    "    - 대칭행렬 => orthonormal 고유벡터행렬 + 실수 고유값 갖는다. (고유값은 실수 + 고유벡터는 서로 정규직교)\n",
    "    - 고유벡터행렬 V는 정규직교행렬... 따라서,  VV.T = I  <==>  V.inv = V.T\n",
    "    \n",
    "    - 대칭행렬의 고유분해 (03.03 11page) (고유벡터들이 정규화된 정규직교벡터set 행렬 V)\n",
    "\n",
    "\n",
    "7) 대칭행렬을 랭크-1 행렬의 합으로 분해 (03.03 12page) (매우 중요)\n",
    "    - 부분행렬 3번 case로 해석 (수기로 해보기) + 예제 풀이\n",
    "\n",
    "    \n",
    "    \n",
    "    \n",
    "    \n",
    "8) 대칭행렬의 고유값 부호\n",
    "    - 대칭행렬이 양의정부호 <==> 고유값이 모두 양수 (매우 중요)\n",
    "    - 대칭행렬이 양의준정부호 <==> 고유값이 모두 양수 or 0\n",
    "    - 둘 다 증명 해보기(꼭 암기는 아니더라도, 해보기!)\n",
    "    \n",
    "    \n",
    "9) 분산행렬\n",
    "    - 분산행렬 : X.T X 인 정방행렬\n",
    "    - 분산행렬은 대칭행렬이다.\n",
    "    - 분산행렬은 양의정부호 + 고유값 >= 0 (분산행렬은 대칭행렬. 대칭행렬이 양의정부호이면, 고유값은 모두 양수)\n",
    "    - 분산행렬이 양의정부호 증명(꼭 해보기)\n",
    "    \n",
    "10) 분산행렬의 역행렬\n",
    "    - (03.03 17page) *X만 full rank라면, 역행렬 존재하지 않아도.. 그것의 분산행렬인 X.TX의 역행렬이 존재한다는 것.\n",
    "    \n",
    "    \n",
    "    \n",
    "    \n",
    "    \n",
    "    - X가 full rank가 아니라면, 분산행렬의 역행렬이 존재하지 않고 ==> 최소제곱법(Ax = b의 근사해 찾기 위한 수도인버스) 불가\n",
    "    - (03.03 17page 하단부)\n",
    "    \n",
    "    \n",
    "    \n",
    "    \n",
    "    \n",
    "    \n",
    "11) 고유분해의 성질 (03.03 18page)\n",
    "    \n",
    "    \n",
    "\n",
    "\n",
    "\n",
    "\n"
   ]
  },
  {
   "cell_type": "code",
   "execution_count": null,
   "metadata": {},
   "outputs": [],
   "source": [
    "03.04 특이값 분해\n",
    "\n",
    "1) 특이값과 특이벡터 (03.04 1page)\n",
    "\n",
    "\n",
    "\n",
    "\n",
    "\n",
    "2) 특이값 분해 행렬의 크기 (03.04 3page)\n",
    "    - 특이값 분해는 모든 행렬에 대해 가능하다. (고유값 분해는 정방행렬A에 대해 + 고유벡터set이 가역적일 때만 대각화 가능)\n",
    "    - \n",
    "\n",
    "\n",
    "3) 특이값 분해의 축소형\n",
    "    - (03.04 3page)\n",
    "    - (03.04 4page 상단)\n",
    "    \n",
    "    \n",
    "    \n",
    "    \n",
    "\n",
    "    \n",
    "4) 파이썬을 활용한 특이분해(꼭 해보기) (연습문제 3.4.1)\n",
    "\n",
    "5) 특이값과 특이벡터의 관계 (03.04 7page)\n",
    "\n",
    "\n",
    "\n",
    "\n",
    "\n",
    "6) 특이분해와 고유분해의 관계\n",
    "    - 고유분해를 고려하기 위해, 정방행렬을 만들어주자. 분산행렬을 활용!\n",
    "    - 행렬 A의 분산행렬을 만들어 생각하면 간단\n",
    "     \n",
    "7) 1차원 근사\n",
    "    - (03.04 10page, 11page)\n",
    "\n",
    "\n",
    "\n",
    "\n",
    "\n"
   ]
  },
  {
   "cell_type": "code",
   "execution_count": null,
   "metadata": {},
   "outputs": [],
   "source": []
  },
  {
   "cell_type": "markdown",
   "metadata": {},
   "source": [
    "### 연습문제 3일차"
   ]
  },
  {
   "cell_type": "code",
   "execution_count": 2,
   "metadata": {},
   "outputs": [],
   "source": [
    "import numpy as np"
   ]
  },
  {
   "cell_type": "code",
   "execution_count": 3,
   "metadata": {},
   "outputs": [
    {
     "name": "stdout",
     "output_type": "stream",
     "text": [
      "1 2\n"
     ]
    }
   ],
   "source": [
    "# 연습문제 3.2.5\n",
    "\n",
    "x1 = [[1,1],[1,1]]\n",
    "x2 = [[2,0],[0,2]]\n",
    "\n",
    "x1_rank = np.linalg.matrix_rank(x1)\n",
    "x2_rank = np.linalg.matrix_rank(x2)\n",
    "\n",
    "print(x1_rank,x2_rank)"
   ]
  },
  {
   "cell_type": "code",
   "execution_count": 14,
   "metadata": {},
   "outputs": [
    {
     "name": "stdout",
     "output_type": "stream",
     "text": [
      "[ 4. -1.]\n",
      "[[ 0.83205029 -0.70710678]\n",
      " [ 0.5547002   0.70710678]]\n"
     ]
    }
   ],
   "source": [
    "# 연습문제 3.3.5 (numpy를 활용한 고유분해)\n",
    "\n",
    "e = np.array([[2,3],[2,1]])\n",
    "e_w, e_v = np.linalg.eig(e)\n",
    "print(e_w, e_v,sep='\\n')"
   ]
  },
  {
   "cell_type": "code",
   "execution_count": 15,
   "metadata": {},
   "outputs": [
    {
     "data": {
      "text/plain": [
       "array([[ 0.72111026,  0.72111026],\n",
       "       [-0.56568542,  0.84852814]])"
      ]
     },
     "execution_count": 15,
     "metadata": {},
     "output_type": "execute_result"
    }
   ],
   "source": [
    "x = np.linalg.inv(e_v)\n",
    "x"
   ]
  },
  {
   "cell_type": "code",
   "execution_count": 62,
   "metadata": {},
   "outputs": [
    {
     "data": {
      "text/plain": [
       "array([[-0.70710678, -0.70710678],\n",
       "       [-0.70710678,  0.70710678]])"
      ]
     },
     "execution_count": 62,
     "metadata": {},
     "output_type": "execute_result"
    }
   ],
   "source": [
    "# 연습문제 3.4.1 (numpy를 활용한 특이값분해)\n",
    "\n",
    "from numpy.linalg import svd\n",
    "b = np.array([[3,2,2],[2,3,-2]])\n",
    "U, S, V_T = svd(b,full_matrices=False)\n",
    "U"
   ]
  },
  {
   "cell_type": "code",
   "execution_count": 63,
   "metadata": {},
   "outputs": [
    {
     "data": {
      "text/plain": [
       "array([[5., 0.],\n",
       "       [0., 3.]])"
      ]
     },
     "execution_count": 63,
     "metadata": {},
     "output_type": "execute_result"
    }
   ],
   "source": [
    "np.diag(S)"
   ]
  },
  {
   "cell_type": "code",
   "execution_count": 64,
   "metadata": {},
   "outputs": [
    {
     "data": {
      "text/plain": [
       "array([[-7.07106781e-01, -7.07106781e-01, -5.55111512e-17],\n",
       "       [-2.35702260e-01,  2.35702260e-01, -9.42809042e-01]])"
      ]
     },
     "execution_count": 64,
     "metadata": {},
     "output_type": "execute_result"
    }
   ],
   "source": [
    "V_T"
   ]
  },
  {
   "cell_type": "code",
   "execution_count": 65,
   "metadata": {},
   "outputs": [
    {
     "data": {
      "text/plain": [
       "array([[ 3.,  2.,  2.],\n",
       "       [ 2.,  3., -2.]])"
      ]
     },
     "execution_count": 65,
     "metadata": {},
     "output_type": "execute_result"
    }
   ],
   "source": [
    "U@np.diag(S)@V_T"
   ]
  },
  {
   "cell_type": "code",
   "execution_count": null,
   "metadata": {},
   "outputs": [],
   "source": []
  },
  {
   "cell_type": "code",
   "execution_count": null,
   "metadata": {},
   "outputs": [],
   "source": []
  },
  {
   "cell_type": "code",
   "execution_count": null,
   "metadata": {},
   "outputs": [],
   "source": []
  },
  {
   "cell_type": "code",
   "execution_count": null,
   "metadata": {},
   "outputs": [],
   "source": []
  }
 ],
 "metadata": {
  "kernelspec": {
   "display_name": "Python 3",
   "language": "python",
   "name": "python3"
  },
  "language_info": {
   "codemirror_mode": {
    "name": "ipython",
    "version": 3
   },
   "file_extension": ".py",
   "mimetype": "text/x-python",
   "name": "python",
   "nbconvert_exporter": "python",
   "pygments_lexer": "ipython3",
   "version": "3.7.4"
  }
 },
 "nbformat": 4,
 "nbformat_minor": 2
}
