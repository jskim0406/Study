{
 "cells": [
  {
   "cell_type": "code",
   "execution_count": 15,
   "metadata": {},
   "outputs": [],
   "source": [
    "import numpy as np\n",
    "import scipy as sp\n",
    "import pandas as pd\n",
    "import matplotlib.pylab as plt\n",
    "import seaborn as sns\n",
    "import sklearn as sk\n",
    "import statsmodels.api as sm\n",
    "from sklearn.decomposition import PCA\n",
    "import sympy"
   ]
  },
  {
   "cell_type": "code",
   "execution_count": 6,
   "metadata": {},
   "outputs": [
    {
     "ename": "SyntaxError",
     "evalue": "invalid syntax (<ipython-input-6-85564d2a5e2c>, line 3)",
     "output_type": "error",
     "traceback": [
      "\u001b[0;36m  File \u001b[0;32m\"<ipython-input-6-85564d2a5e2c>\"\u001b[0;36m, line \u001b[0;32m3\u001b[0m\n\u001b[0;31m    4.1.2 (수기)\u001b[0m\n\u001b[0m        ^\u001b[0m\n\u001b[0;31mSyntaxError\u001b[0m\u001b[0;31m:\u001b[0m invalid syntax\n"
     ]
    }
   ],
   "source": [
    "# 4.1 연습문제 (4일차)\n",
    "\n",
    "4.1.2 (수기)\n",
    "4.1.3 (수기)\n",
    "소프트맥스 함수 수기로 작성해보기(04.01 26페이지)\n",
    "\n",
    "\n",
    "4.2.3 (수기) -> (2)번 틀림. *합성함수 미분은 chain rule 활용해서\n",
    "4.2.4 (수기)\n",
    "4.2.5 (코드) -> 익숙치 않음. 반복해서 미분 계산 편히할 필요 있음\n",
    "4.2.6 (코드) -> 익숙치 않음. 반복해서 미분 계산 편히할 필요 있음\n",
    "4.2.11 미분 연습 (수기) \n",
    "지수, 로그, 선형조합법칙 (수기)\n",
    "4.2.17 (수기)\n",
    "4.2.19 (수기)\n",
    "\n",
    "4.3.1 (수기) -> (4)번 모르겠음. 미적분 차후 다시 공부할 필요 있음\n",
    "4.3.2 (수기) -> (2)번 모르겠음. 미적분 차후 다시 공부할 필요 있음\n",
    "4.3.3 (수기) -> 모르겠음. 미적분 차후 다시 공부할 필요 있음\n",
    "4.3.4 (코드)\n",
    "4.3.5 (코드) -> sympy, scipy(sp)모두 활용. 정적분은 수치적분과 정적분 공식활용하는 방법. 2가지가 있음. 둘다 다시 실습해볼 필요 있음\n",
    "4.3.6 (코드) -> 중적분. 다시 실습할 필요 있음\n",
    "4.4.1 (수기)\n",
    "4.4.2 (수기)\n",
    "4.4.26 (수기) 다시 써보기\n",
    "\n",
    "\n"
   ]
  },
  {
   "cell_type": "code",
   "execution_count": 12,
   "metadata": {},
   "outputs": [
    {
     "data": {
      "image/png": "[encoded data removed]",
      "text/plain": [
       "<Figure size 432x288 with 1 Axes>"
      ]
     },
     "metadata": {
      "needs_background": "light"
     },
     "output_type": "display_data"
    }
   ],
   "source": [
    "def f(x):\n",
    "    return x**3 - 3 * x**2 + x\n",
    "\n",
    "x = np.linspace(-1, 3, 400)\n",
    "y = f(x)\n",
    "\n",
    "plt.plot(x, y)\n",
    "plt.plot(0, 0, 'ro')\n",
    "plt.plot(x, x, 'r:')\n",
    "plt.plot(1, -1, 'go')\n",
    "plt.plot(x, (3*1**2-6*1+1)*(x-1)-1, 'g--')\n",
    "\n",
    "plt.xlim(-3.5, 5.5)\n",
    "plt.ylim(-4, 2)\n",
    "plt.xticks(np.arange(-3, 6))\n",
    "plt.yticks(np.arange(-4, 2))\n",
    "\n",
    "plt.annotate('', xy=(0.5, 0), xytext=(0, 0), arrowprops=dict(facecolor='gray'))\n",
    "plt.annotate('', xy=(1, 1), xytext=(1, 0), arrowprops=dict(facecolor='gray'))\n",
    "\n",
    "plt.annotate('', xy=(2, -1), xytext=(1, -1), arrowprops=dict(facecolor='gray'))\n",
    "plt.annotate('', xy=(2, -3), xytext=(2, -1), arrowprops=dict(facecolor='gray'))\n",
    "\n",
    "plt.xlabel(\"x\")\n",
    "plt.ylabel(\"f(x)\")\n",
    "plt.title(\"함수의 기울기\")\n",
    "plt.show()\n"
   ]
  },
  {
   "cell_type": "code",
   "execution_count": 13,
   "metadata": {},
   "outputs": [
    {
     "data": {
      "image/png": "[encoded data removed]",
      "text/plain": [
       "<Figure size 432x288 with 1 Axes>"
      ]
     },
     "metadata": {
      "needs_background": "light"
     },
     "output_type": "display_data"
    }
   ],
   "source": [
    "# 연습문제 4.1.3\n",
    "x = np.array([-.5, 0, 0.5, 1, 1.5, 2, 2.5]) \n",
    "y = np.array([2.5, 1, -1, -2, -1, 1, 2.5])\n",
    "\n",
    "plt.plot(x,y,\"r-\")\n",
    "plt.show()"
   ]
  },
  {
   "cell_type": "code",
   "execution_count": 34,
   "metadata": {},
   "outputs": [
    {
     "data": {
      "text/latex": [
       "$\\displaystyle a b x^{b - 1} e^{a x^{b}}$"
      ],
      "text/plain": [
       "               b\n",
       "     b - 1  a⋅x \n",
       "a⋅b⋅x     ⋅ℯ    "
      ]
     },
     "execution_count": 34,
     "metadata": {},
     "output_type": "execute_result"
    }
   ],
   "source": [
    "# 연습문제 4.2.5\n",
    "sympy.init_printing(use_latex='mathjax')\n",
    "x = sympy.symbols(\"x\")\n",
    "\n",
    "f = x**3-1\n",
    "sympy.diff(f)\n",
    "\n",
    "k = sympy.symbols(\"k\")\n",
    "f2 = sympy.log(x**2 - 3*k)\n",
    "sympy.diff(f2,x)\n",
    "\n",
    "a,b = sympy.symbols('a b')\n",
    "f3 = sympy.exp(a*(x**b))\n",
    "f3\n",
    "sympy.simplify(sympy.diff(f3,x))"
   ]
  },
  {
   "cell_type": "code",
   "execution_count": 49,
   "metadata": {},
   "outputs": [
    {
     "data": {
      "text/latex": [
       "$\\displaystyle \\left( 2 x e^{x^{2} + 2 y^{2}}, \\  4 y e^{x^{2} + 2 y^{2}}, \\  \\left(4 x^{2} + 2\\right) e^{x^{2} + 2 y^{2}}, \\  8 x y e^{x^{2} + 2 y^{2}}, \\  8 x y e^{x^{2} + 2 y^{2}}, \\  \\left(16 y^{2} + 4\\right) e^{x^{2} + 2 y^{2}}\\right)$"
      ],
      "text/plain": [
       "⎛      2      2        2      2               2      2          2      2      \n",
       "⎜     x  + 2⋅y        x  + 2⋅y   ⎛   2    ⎞  x  + 2⋅y          x  + 2⋅y       \n",
       "⎝2⋅x⋅ℯ         , 4⋅y⋅ℯ         , ⎝4⋅x  + 2⎠⋅ℯ         , 8⋅x⋅y⋅ℯ         , 8⋅x⋅\n",
       "\n",
       "    2      2                2      2⎞\n",
       "   x  + 2⋅y   ⎛    2    ⎞  x  + 2⋅y ⎟\n",
       "y⋅ℯ         , ⎝16⋅y  + 4⎠⋅ℯ         ⎠"
      ]
     },
     "execution_count": 49,
     "metadata": {},
     "output_type": "execute_result"
    }
   ],
   "source": [
    "# 연습문제 4.2.6\n",
    "\n",
    "x, y = sympy.symbols('x y')\n",
    "f = sympy.exp(x**2 + 2*y**2)\n",
    "\n",
    "# 1) x로 1차 편미분\n",
    "f1 = sympy.simplify(sympy.diff(f,x))\n",
    "# 2) y로 1차 편미분\n",
    "f2 = sympy.simplify(sympy.diff(f,y))\n",
    "# 3) xx 순서로 2차 편미분\n",
    "f3 = sympy.simplify(sympy.diff(f,x,x))\n",
    "# 4) xy 순서로 2차 편미분\n",
    "f4 = sympy.simplify(sympy.diff(f,x,y))\n",
    "# 5) yx 순서로 2차 편미분\n",
    "f5 = sympy.simplify(sympy.diff(f,y,x))\n",
    "# 6) yy 순서로 2차 편미분\n",
    "f6 = sympy.simplify(sympy.diff(f,y,y))\n",
    "\n",
    "# f4와 f5 2차미분 결과는 '슈와르츠 정리'에 의해 같다.\n",
    "f1,f2,f3,f4,f5,f6"
   ]
  },
  {
   "cell_type": "code",
   "execution_count": 50,
   "metadata": {},
   "outputs": [],
   "source": [
    "import sympy\n",
    "\n",
    "sympy.init_printing(use_latex='mathjax')"
   ]
  },
  {
   "cell_type": "code",
   "execution_count": 73,
   "metadata": {},
   "outputs": [
    {
     "data": {
      "text/latex": [
       "$\\displaystyle \\left( x^{3}, \\  x \\left(x^{2} - 3 x + 1\\right), \\  3 x^{2} + 2 x + 4 e^{x} + 5 \\log{\\left(x \\right)}, \\  \\log{\\left(x^{2} - 1 \\right)}\\right)$"
      ],
      "text/plain": [
       "⎛ 3    ⎛ 2          ⎞     2            x                ⎛ 2    ⎞⎞\n",
       "⎝x , x⋅⎝x  - 3⋅x + 1⎠, 3⋅x  + 2⋅x + 4⋅ℯ  + 5⋅log(x), log⎝x  - 1⎠⎠"
      ]
     },
     "execution_count": 73,
     "metadata": {},
     "output_type": "execute_result"
    }
   ],
   "source": [
    "# 연습문제 4.3.4\n",
    "\n",
    "# 1) 다항식 부정적분\n",
    "x = sympy.symbols('x')\n",
    "\n",
    "f1 = 3*x**2\n",
    "f2 = 3*x**2 - 6*x + 1\n",
    "f3 = 2 + 6*x + 4*sympy.exp(x) + 5/x\n",
    "f4 = 2*x/(x**2 - 1)\n",
    "sympy.simplify(sympy.integrate(f1)), sympy.simplify(sympy.integrate(f2)), sympy.simplify(sympy.integrate(f3)), sympy.simplify(sympy.integrate(f4))"
   ]
  },
  {
   "cell_type": "code",
   "execution_count": 96,
   "metadata": {},
   "outputs": [
    {
     "name": "stdout",
     "output_type": "stream",
     "text": [
      "-2.00000000000000\n",
      "(-1.9999999999999996, 2.6197460791718312e-14)\n"
     ]
    }
   ],
   "source": [
    "# 연습문제 4.3.5\n",
    "\n",
    "# 1) 다항식 정적분\n",
    "# 1-1) 정적분 공식 활용\n",
    "x = sympy.symbols('x')\n",
    "f = 3*x**2 -6*x +1\n",
    "F = sympy.integrate(f)\n",
    "print((F.subs(x,2) - F.subs(x,0)).evalf())\n",
    "\n",
    "# 1-2) 수치적분 공식 활용\n",
    "def f(x):\n",
    "    return 3*x**2 -6*x +1\n",
    "\n",
    "print(sp.integrate.quad(f,0,2))"
   ]
  },
  {
   "cell_type": "code",
   "execution_count": 97,
   "metadata": {},
   "outputs": [
    {
     "name": "stdout",
     "output_type": "stream",
     "text": [
      "88421.5029773780\n",
      "(88421.50297737827, 1.5276890734473408e-06)\n"
     ]
    }
   ],
   "source": [
    "# 연습문제 4.3.5\n",
    "\n",
    "# 2-1) 정적분 공식 활용\n",
    "f2 = 2+6*x+4*sympy.exp(x)+5/x\n",
    "F2 = sympy.integrate(f2)\n",
    "print((F2.subs(x,10)-F2.subs(x,1)).evalf())\n",
    "\n",
    "# 2-2) 수치적분 공식 활용\n",
    "def f2(x):\n",
    "    return 2+6*x+4*sympy.exp(x)+5/x\n",
    "\n",
    "print(sp.integrate.quad(f2,1,10))"
   ]
  },
  {
   "cell_type": "code",
   "execution_count": 106,
   "metadata": {},
   "outputs": [
    {
     "name": "stdout",
     "output_type": "stream",
     "text": [
      "(4.0, 4.440892098500626e-14)\n"
     ]
    }
   ],
   "source": [
    "# 연습문제 4.3.6\n",
    "\n",
    "# 중적분 (수치적분 이용)\n",
    "x,y = sympy.symbols('x y')\n",
    "def f6(x,y):\n",
    "    return 1+x*y\n",
    "\n",
    "print(sp.integrate.dblquad(f6,-1,1,lambda x:-1, lambda x:1))"
   ]
  },
  {
   "cell_type": "code",
   "execution_count": null,
   "metadata": {},
   "outputs": [],
   "source": []
  },
  {
   "cell_type": "code",
   "execution_count": null,
   "metadata": {},
   "outputs": [],
   "source": []
  },
  {
   "cell_type": "code",
   "execution_count": null,
   "metadata": {},
   "outputs": [],
   "source": []
  },
  {
   "cell_type": "code",
   "execution_count": null,
   "metadata": {},
   "outputs": [],
   "source": []
  },
  {
   "cell_type": "code",
   "execution_count": null,
   "metadata": {},
   "outputs": [],
   "source": []
  },
  {
   "cell_type": "code",
   "execution_count": null,
   "metadata": {},
   "outputs": [],
   "source": []
  },
  {
   "cell_type": "code",
   "execution_count": null,
   "metadata": {},
   "outputs": [],
   "source": []
  },
  {
   "cell_type": "code",
   "execution_count": null,
   "metadata": {},
   "outputs": [],
   "source": []
  },
  {
   "cell_type": "code",
   "execution_count": null,
   "metadata": {},
   "outputs": [],
   "source": []
  },
  {
   "cell_type": "code",
   "execution_count": null,
   "metadata": {},
   "outputs": [],
   "source": []
  },
  {
   "cell_type": "code",
   "execution_count": 8,
   "metadata": {},
   "outputs": [
    {
     "ename": "SyntaxError",
     "evalue": "invalid syntax (<ipython-input-8-4a232876200d>, line 1)",
     "output_type": "error",
     "traceback": [
      "\u001b[0;36m  File \u001b[0;32m\"<ipython-input-8-4a232876200d>\"\u001b[0;36m, line \u001b[0;32m1\u001b[0m\n\u001b[0;31m    04.01 함수\u001b[0m\n\u001b[0m           ^\u001b[0m\n\u001b[0;31mSyntaxError\u001b[0m\u001b[0;31m:\u001b[0m invalid syntax\n"
     ]
    }
   ],
   "source": [
    "04.01 함수\n",
    "\n",
    "0) 연속과 불연속\n",
    "\n",
    "불연속 : 함수의 값이 중간에 갑자기 변하는 것(discontinuous) \n",
    "    - 부호함수, 단위계단함수, 지시함수\n",
    "연속 : 그렇지 않은 것\n",
    "\n",
    "\n",
    "1. 입력이 1개인 경우    \n",
    "\n",
    "1) 부호함수\n",
    "- 입력이 양수이면 1, 음수이면 -1, 0이면 0 출력\n",
    "- np.sign()\n",
    "- 표시 : sgn(x)\n",
    "\n",
    "2) 단위계단함수\n",
    "- 양수이면 1, 아니면 0 출력\n",
    "- 직접 구현(넘파이 구현x)\n",
    "- H(x)\n",
    "\n",
    "3) 지시함수(indicator function)\n",
    "- 1 (if x==i)\n",
    "- 0 (if x!=i)\n",
    "\n",
    "\n",
    "1. 데이터분석에서 많이 사용되는 함수들\n",
    "\n",
    "1) 다항함수 (polynomial)\n",
    "\n",
    "\n",
    "2) 최대함수와 최소함수\n",
    "\n",
    "    - ReLU (Rectified Linear Unit)\n",
    "    \n",
    "3) 지수함수\n",
    "    - 단조증가 X1>X2 이면, exp(X1)>exp(X2)\n",
    "    \n",
    "4) 로지스틱함수\n",
    "    - 시그모이드 함수 중 하나 (로지스틱함수가 제일 많이 쓰임)\n",
    "    - 그래프 그려보기\n",
    "\n",
    "5) 로그함수\n",
    "    - 단조증가\n",
    "    - 확률론에서 가장 많이 사용되는 함수\n",
    "        1) 로그함수는 곱하기를 더하기로 변환함 logAB = logA + logB\n",
    "        2) 어떤 함수에 로그를 적용해도 함수의 최고점, 최저점의 위치는 변하지 않는다. (최적화 시, 로그 취한 함수에 대해 최적화 가능)\n",
    "        3) 로그함수는 0부터 1사이의 작은 값을 확대시켜 보여준다.\n",
    "        \n",
    "6) 소프트플러스 함수\n",
    "    - 지수함수와 로그함수의 결합(ReLU와 유사)\n",
    "    \n",
    "    \n",
    "2. 입력이 여러개인 경우    \n",
    "    \n",
    "7) 다변수 함수     \n",
    "    - z = f(x,y)\n",
    "    - 2차원 함수는 평면상의 지면과 같기 때문에, 3차원의 서피스 플롯(surface plot), 컨투어 플롯(contour, 등고선 plot) 으로 표현\n",
    "    \n",
    "8) 분리가능 다변수 함수\n",
    "    - 단변수 함수의 곱으로 표현 가능한 다변수 함수 = 분리가능 다변수 함수(단변수로 분리가능하다는 의미)\n",
    "    - f(x,y) = f1(x)f2(y)\n",
    "    \n",
    "\n",
    "3. 다변수 다출력 함수\n",
    "\n",
    "9) 입력과 출력모두 여러개 <== 이 경우, 출력을 벡터나 행렬로 나타낼 수 있음    ex) 소프트맥스 함수\n",
    "    - 소프트맥스 함수 : 다차원 벡터를 입력받아, 다차원 벡터를 출력\n",
    "        - 소프트맥스 함수 특징\n",
    "        1) 지수함수로 다 감싸고 있기 때문에, 출력값은 항상 양수\n",
    "        2) 각 출력값은 0과 1사이이고, 모든 출력(출력값이 여러개, 벡터를 이룸)의 합은 1이다. => 확률이 아닌 것을 확률처럼 보이게 함\n",
    "\n",
    "\n",
    "4. 함수의 평행이동, 스케일링\n",
    "\n",
    "10) 단변수함수 ( f(x) = (x+2)**2 + 2x ) 를 오른쪽으로 a만큼, 위로 b만큼 평행이동 시키기\n",
    "\n",
    "\n",
    "11) x축 방향으로 a배 만큼 늘리기 / y축 방향으로 b배 만큼 늘리기 (ex_로지스틱함수)\n"
   ]
  },
  {
   "cell_type": "code",
   "execution_count": 9,
   "metadata": {},
   "outputs": [
    {
     "ename": "SyntaxError",
     "evalue": "invalid syntax (<ipython-input-9-4ae7b80703e2>, line 1)",
     "output_type": "error",
     "traceback": [
      "\u001b[0;36m  File \u001b[0;32m\"<ipython-input-9-4ae7b80703e2>\"\u001b[0;36m, line \u001b[0;32m1\u001b[0m\n\u001b[0;31m    04.02 심파이를 사용한 함수 미분\u001b[0m\n\u001b[0m             ^\u001b[0m\n\u001b[0;31mSyntaxError\u001b[0m\u001b[0;31m:\u001b[0m invalid syntax\n"
     ]
    }
   ],
   "source": [
    "04.02 심파이를 사용한 함수 미분\n",
    "\n",
    "1) 미분 목적 1 : 예측 모형의 성능\n",
    "    - 오류의 크기 출력하는 함수 \n",
    "        손실함수(loss function), 비용함수(cost function), 오차함수(error function) \n",
    "        ==> 최적화의 대상이 되는 함수(목적함수)\n",
    "            *최적화 : 목적함수의 max값, min값을 만들어내는 모수(입력값)을 구하는 것 (미분을 통해서)\n",
    "                \n",
    "2) 기울기 (민감도, sensitivity, slope)\n",
    "            \n",
    "3) 수치미분   \n",
    "\n",
    "4) 미분\n",
    "    - 도함수(f')와 미분(f'(x))\n",
    "    - 미분 가능, 미분 불가능\n",
    "        ex) ReLU함수 -> 미분 불가능 (대안 : softplus 함수)\n",
    "        - 연속의 기준 : 함수값 = 우극한값 = 좌극한값\n",
    "        - 미분가능 기준 : 좌미분계수(h -> +0) = 우미분계수(h -> -0)\n",
    "    \n",
    "    - 상수, 거듭제곱, 로그함수, 지수함수 미분\n",
    "\n",
    "\n",
    "5) 미분 곱셈법칙, 체인룰\n",
    "\n",
    "\n",
    "6) 2차도함수와 Convexity\n",
    "    - 2차도함수 > 0  <==>  볼록\n",
    "    - 2차도함수 = 도함수의 기울기, 도함수값이 증가하면 2차도함수(기울기) 값은 양수, 감소하면 2차도함수(기울기) 값은 음수\n",
    "    - 04.02 13page, 15page\n",
    "    \n",
    "    \n",
    "    \n",
    "7) 편미분\n",
    "    - 편미분 시에는, 델타 대신 라운드를 사용해 표기\n",
    "    \n",
    "    \n",
    "8) 이차 편미분\n",
    "    - (슈와르츠 정리) f 함수가 연속 + 미분 가능하면, fxy = fyx 이다. 미분의 순서는 상관 없다.\n",
    "    - ex) ReLU함수는 미분불가능 하기 때문에 해당 안됨.\n",
    "    \n",
    "9) 테일러 정리 (=테일러 전개, 테일러 급수)\n",
    "    - 테일러 정리 = 한 점에서의 직선의 방정식\n",
    "    - 함수를 근사할 때 사용됨 (테일러 정리 = Taylor approximation)\n",
    "    \n",
    "    - 우리가 잘 모르거나 복잡한 함수를 테일러 전개를 통해 비교적 다루기 쉬운 다항함수로 대체하기 위해 쓰인다. \n",
    "      이렇게 어떤 함수를 테일러 급수로 바꿔 표현하면, 그 함수의 특성을 분석/이해하기 더 쉬운 경우가 있기 때문에 종종 쓰이는 것\n",
    "        \n",
    "    - 모든 함수를 다 테일러 급수로 표현할 수 있는건 아니고 f(x)가 x=x0인 곳에서 미분 가능하면 저렇게 표현하는 것이 가능하다.\n",
    "      즉, 함수가 모든 구역에서 미분될 필요 없고, anchor point(x0) 에서만 미분되어도 테일러 전개로 근사할 수 있다는 것이다.\n",
    "      \"테일러 급수를 활용하면 한 점에서만 미분 가능해도 함수값을 구할 수 있다\"는 것은 아주아주 매력적이다.\n",
    "\n",
    "    - 테일러 급수 식\n",
    "    \n",
    "    \n",
    "    - 테일러 급수 식 이해\n",
    "\n",
    "    \n",
    "    - 테일러 급수 식 (다변수 함수 경우)\n",
    "        \n",
    "    \n",
    "    - 맥클로린 급수 식\n",
    "    \n",
    "    \n",
    "    https://blog.naver.com/gklove77/221714468683\n",
    "        \n",
    "        \n",
    "10) sympy - symbolic 연산\n",
    "    - x라는 문자를 문자 그대로 인정하는 것(symbolize)\n",
    "    - x = 2 처럼, 문자에 숫자 대입하면 망가짐\n",
    "    "
   ]
  },
  {
   "cell_type": "code",
   "execution_count": 10,
   "metadata": {},
   "outputs": [],
   "source": [
    "import sympy\n",
    "\n",
    "# Juypter 노트북에서 수학식의 LaTeX 표현을 위해 필요함\n",
    "sympy.init_printing(use_latex='mathjax')"
   ]
  },
  {
   "cell_type": "code",
   "execution_count": 3,
   "metadata": {},
   "outputs": [
    {
     "data": {
      "text/latex": [
       "$\\displaystyle x$"
      ],
      "text/plain": [
       "x"
      ]
     },
     "execution_count": 3,
     "metadata": {},
     "output_type": "execute_result"
    }
   ],
   "source": [
    "x = sympy.symbols(\"x\")\n",
    "x"
   ]
  },
  {
   "cell_type": "code",
   "execution_count": 5,
   "metadata": {},
   "outputs": [
    {
     "data": {
      "text/latex": [
       "$\\displaystyle x e^{x}$"
      ],
      "text/plain": [
       "   x\n",
       "x⋅ℯ "
      ]
     },
     "execution_count": 5,
     "metadata": {},
     "output_type": "execute_result"
    }
   ],
   "source": [
    "f = x*sympy.exp(x)\n",
    "f"
   ]
  },
  {
   "cell_type": "code",
   "execution_count": 6,
   "metadata": {},
   "outputs": [
    {
     "data": {
      "text/latex": [
       "$\\displaystyle x e^{x} + e^{x}$"
      ],
      "text/plain": [
       "   x    x\n",
       "x⋅ℯ  + ℯ "
      ]
     },
     "execution_count": 6,
     "metadata": {},
     "output_type": "execute_result"
    }
   ],
   "source": [
    "sympy.diff(f)"
   ]
  },
  {
   "cell_type": "code",
   "execution_count": 9,
   "metadata": {},
   "outputs": [
    {
     "data": {
      "text/latex": [
       "$\\displaystyle x^{2} + 4 x y + y^{2}$"
      ],
      "text/plain": [
       " 2            2\n",
       "x  + 4⋅x⋅y + y "
      ]
     },
     "execution_count": 9,
     "metadata": {},
     "output_type": "execute_result"
    }
   ],
   "source": [
    "x,y = sympy.symbols(\"x y\")\n",
    "f = x**2 + 4*x*y + y**2\n",
    "f"
   ]
  },
  {
   "cell_type": "code",
   "execution_count": 10,
   "metadata": {},
   "outputs": [
    {
     "data": {
      "text/latex": [
       "$\\displaystyle 2 x + 4 y$"
      ],
      "text/plain": [
       "2⋅x + 4⋅y"
      ]
     },
     "execution_count": 10,
     "metadata": {},
     "output_type": "execute_result"
    }
   ],
   "source": [
    "sympy.diff(f,x)"
   ]
  },
  {
   "cell_type": "code",
   "execution_count": 11,
   "metadata": {},
   "outputs": [
    {
     "data": {
      "text/latex": [
       "$\\displaystyle 4 x + 2 y$"
      ],
      "text/plain": [
       "4⋅x + 2⋅y"
      ]
     },
     "execution_count": 11,
     "metadata": {},
     "output_type": "execute_result"
    }
   ],
   "source": [
    "sympy.diff(f,y)"
   ]
  },
  {
   "cell_type": "code",
   "execution_count": 12,
   "metadata": {},
   "outputs": [
    {
     "data": {
      "text/latex": [
       "$\\displaystyle e^{\\frac{\\left(- \\mu + x\\right)^{2}}{\\sigma^{2}}}$"
      ],
      "text/plain": [
       "         2\n",
       " (-μ + x) \n",
       " ─────────\n",
       "      2   \n",
       "     σ    \n",
       "ℯ         "
      ]
     },
     "execution_count": 12,
     "metadata": {},
     "output_type": "execute_result"
    }
   ],
   "source": [
    "x, mu, sigma = sympy.symbols('x mu sigma')\n",
    "f = sympy.exp((x-mu)**2/sigma**2)\n",
    "f"
   ]
  },
  {
   "cell_type": "code",
   "execution_count": 13,
   "metadata": {},
   "outputs": [
    {
     "data": {
      "text/latex": [
       "$\\displaystyle \\frac{\\left(- 2 \\mu + 2 x\\right) e^{\\frac{\\left(- \\mu + x\\right)^{2}}{\\sigma^{2}}}}{\\sigma^{2}}$"
      ],
      "text/plain": [
       "                      2\n",
       "              (-μ + x) \n",
       "              ─────────\n",
       "                   2   \n",
       "                  σ    \n",
       "(-2⋅μ + 2⋅x)⋅ℯ         \n",
       "───────────────────────\n",
       "            2          \n",
       "           σ           "
      ]
     },
     "execution_count": 13,
     "metadata": {},
     "output_type": "execute_result"
    }
   ],
   "source": [
    "sympy.diff(f,x)"
   ]
  },
  {
   "cell_type": "code",
   "execution_count": 14,
   "metadata": {},
   "outputs": [
    {
     "data": {
      "text/latex": [
       "$\\displaystyle \\frac{\\left(2 \\mu - 2 x\\right) e^{\\frac{\\left(- \\mu + x\\right)^{2}}{\\sigma^{2}}}}{\\sigma^{2}}$"
      ],
      "text/plain": [
       "                     2\n",
       "             (-μ + x) \n",
       "             ─────────\n",
       "                  2   \n",
       "                 σ    \n",
       "(2⋅μ - 2⋅x)⋅ℯ         \n",
       "──────────────────────\n",
       "           2          \n",
       "          σ           "
      ]
     },
     "execution_count": 14,
     "metadata": {},
     "output_type": "execute_result"
    }
   ],
   "source": [
    "sympy.diff(f,mu)"
   ]
  },
  {
   "cell_type": "code",
   "execution_count": 15,
   "metadata": {},
   "outputs": [
    {
     "data": {
      "text/latex": [
       "$\\displaystyle \\frac{2 \\left(1 + \\frac{2 \\left(\\mu - x\\right)^{2}}{\\sigma^{2}}\\right) e^{\\frac{\\left(\\mu - x\\right)^{2}}{\\sigma^{2}}}}{\\sigma^{2}}$"
      ],
      "text/plain": [
       "                           2\n",
       "                    (μ - x) \n",
       "                    ────────\n",
       "  ⎛             2⎞      2   \n",
       "  ⎜    2⋅(μ - x) ⎟     σ    \n",
       "2⋅⎜1 + ──────────⎟⋅ℯ        \n",
       "  ⎜         2    ⎟          \n",
       "  ⎝        σ     ⎠          \n",
       "────────────────────────────\n",
       "              2             \n",
       "             σ              "
      ]
     },
     "execution_count": 15,
     "metadata": {},
     "output_type": "execute_result"
    }
   ],
   "source": [
    "sympy.diff(f,x,x)"
   ]
  },
  {
   "cell_type": "code",
   "execution_count": 16,
   "metadata": {},
   "outputs": [
    {
     "ename": "SyntaxError",
     "evalue": "invalid syntax (<ipython-input-16-34575bf042bf>, line 1)",
     "output_type": "error",
     "traceback": [
      "\u001b[0;36m  File \u001b[0;32m\"<ipython-input-16-34575bf042bf>\"\u001b[0;36m, line \u001b[0;32m1\u001b[0m\n\u001b[0;31m    04.03 적분\u001b[0m\n\u001b[0m           ^\u001b[0m\n\u001b[0;31mSyntaxError\u001b[0m\u001b[0;31m:\u001b[0m invalid syntax\n"
     ]
    }
   ],
   "source": [
    "04.03 적분\n",
    "\n",
    "1) 부정정분\n",
    "    - 부정적분 : anti-derivative\n",
    "    - 편미분의 부정적분\n",
    "        4.3.6\n",
    "    \n",
    "    - 다차도함수와 다중적분 \n",
    "        4.3.10\n",
    "        \n",
    "    \n",
    "2) sympy 이용한 부정적분\n",
    "\n",
    "\n",
    "3) 정적분\n",
    "    - 면적을 구하는 것 (부정적분은 함수를 구하는 과정. 정적분은 면적(수치)를 구하는 과정)\n",
    "    - 4.3.14\n",
    "\n",
    "    \n",
    "4) 다변수 정적분\n",
    "    - 4.3.18\n",
    "    \n",
    "5) 다차원 함수의 단일 정적분\n",
    "    - 4.3.22"
   ]
  },
  {
   "cell_type": "code",
   "execution_count": 17,
   "metadata": {},
   "outputs": [
    {
     "data": {
      "text/latex": [
       "$\\displaystyle x e^{x} + e^{x}$"
      ],
      "text/plain": [
       "   x    x\n",
       "x⋅ℯ  + ℯ "
      ]
     },
     "execution_count": 17,
     "metadata": {},
     "output_type": "execute_result"
    }
   ],
   "source": [
    "f = x*sympy.exp(x) + sympy.exp(x)\n",
    "f"
   ]
  },
  {
   "cell_type": "code",
   "execution_count": 18,
   "metadata": {},
   "outputs": [
    {
     "data": {
      "text/latex": [
       "$\\displaystyle x e^{x}$"
      ],
      "text/plain": [
       "   x\n",
       "x⋅ℯ "
      ]
     },
     "execution_count": 18,
     "metadata": {},
     "output_type": "execute_result"
    }
   ],
   "source": [
    "sympy.integrate(f)"
   ]
  },
  {
   "cell_type": "code",
   "execution_count": 21,
   "metadata": {},
   "outputs": [
    {
     "ename": "SyntaxError",
     "evalue": "invalid syntax (<ipython-input-21-e15825930c9f>, line 1)",
     "output_type": "error",
     "traceback": [
      "\u001b[0;36m  File \u001b[0;32m\"<ipython-input-21-e15825930c9f>\"\u001b[0;36m, line \u001b[0;32m1\u001b[0m\n\u001b[0;31m    04.04 행렬의 미분\u001b[0m\n\u001b[0m            ^\u001b[0m\n\u001b[0;31mSyntaxError\u001b[0m\u001b[0;31m:\u001b[0m invalid syntax\n"
     ]
    }
   ],
   "source": [
    "04.04 행렬의 미분\n",
    "\n",
    "- 스칼라, 벡터, 행렬 모두 입력과 출력에 사용가능\n",
    "\n",
    "- 행렬 미분 : 행렬을 입력이나 출력으로 갖는 함수를 미분하는 것 (정확하게는 편미분을 하는 것)\n",
    "    - 분모중심 표현법(Denominator-layout notation)을 활용할 것\n",
    "    \n",
    "1) *스칼라를 벡터로 미분하는 경우*\n",
    "    - 다변수 함수 : 벡터 입력 --> 스칼라 출력 (f = 스칼라, 입력변수인 벡터로 결과값을 미분(스칼라를 미분), 편미분)\n",
    "    - 다변수 함수의 미분 : 기울기가 변수의 갯수만큼 생성(편미분)\n",
    "    - 스칼라의 벡터미분 : 그레디언트 벡터(기울기로 이루어진 벡터)\n",
    "    - 4.4.13\n",
    "    \n",
    "    \n",
    "2) 컨투어플롯, 퀴버플롯, 그레디언트 벡터\n",
    "    - 컨투어플롯 : 등고선, 2차원함수의 평면상 표기 플롯\n",
    "    - 퀴버플롯 : 벡터로 현 위치에서 경사 높은 방향 보여줌 \n",
    "      (컨투어플롯 위에 그레디언트 벡터를 화살표로 나타낸 것)\n",
    "    - 그레디언트 벡터 : 다변수 함수의 출력값(스칼라)를 벡터로 미분해서 얻은 벡터 \n",
    "      (각 원소는 1차 편미분값. 기울기. 현재 위치의 기울기. 증감 여부)\n",
    "    *3-4page\n",
    "    \n",
    "    \n",
    "    \n",
    "    \n",
    "    \n",
    "    \n",
    "    \n",
    "    \n",
    "    \n",
    "    - 퀴버플롯의 역할 : 퀴버플롯을 보고 실제 곡면의 모양을 유추할 수 있어야함\n",
    "    *4page필기\n",
    "    \n",
    "    \n",
    "    \n",
    "\n",
    "    \n",
    "    \n",
    "\n",
    "3) 행렬미분법칙\n",
    "\n",
    "    [주요 공식 정리] (04.04 11page)\n",
    "\n",
    "    \n",
    "    \n",
    "    \n",
    "    \n",
    "    \n",
    "\n",
    "\n",
    "\n",
    "    [ 스칼라를 벡터로 미분 : 다변수함수 (선형모형, 이차형식) ]\n",
    "    1) 선형모형 (W.T*x)\n",
    "        - f : 스칼라 / input : 벡터x / f를 벡터로 미분 (스칼라를 벡터로 미분)\n",
    "        - 04.04 5page\n",
    "                \n",
    "    \n",
    "    2) 이차형식 (x.T A x)\n",
    "        - f : 스칼라 / input : 벡터x / f를 벡터로 미분 (스칼라를 벡터로 미분)\n",
    "        - 04.04 6page\n",
    "    \n",
    "    *04.04 8page\n",
    "    \n",
    "    \n",
    "    \n",
    "    \n",
    "    [ 벡터를 스칼라로 미분 : 여러 함수에 입력 ]\n",
    "    - 각 벡터의 원소를 스칼라로 미분 (표시는 행벡터로 표시. 그레디언트벡터와 헷갈리지 않도록)\n",
    "    - 04.04 8page\n",
    "    \n",
    "    \n",
    "    [ 벡터를 벡터로 미분 ]\n",
    "    - 04.04 8page\n",
    "    \n",
    "    \n",
    "    \n",
    "    3) 행렬과 벡터의 곱(Ax)의 미분 : 벡터를 벡터로 미분\n",
    "    - 04.04 9page\n",
    "    \n",
    "    \n",
    "    \n",
    "    \n",
    "    - 쟈코비안 행렬 : 벡터함수를 벡터로 미분해서 생기는 행렬의 전치행렬\n",
    "        -벡터를 벡터로 미분 = 행렬\n",
    "    (04.04 9page)\n",
    "        \n",
    "        \n",
    "        \n",
    "    - 헤시안 행렬 : 다변수함수의 2차 도함수 (대칭행렬 <==> 실수 고유값)\n",
    "        -벡터를 벡터로 미분 = 행렬\n",
    "    (04.04 10page)    \n",
    "        \n",
    "        \n",
    "        \n",
    "        \n",
    "    - 스칼라를 행렬로 미분\n",
    "        - 행렬 X의 각 원소들로 스칼라를 미분해주면 그만\n",
    "        (04.04 10page)\n",
    "        \n",
    "        \n",
    "    \n",
    "    4) 행렬 곱의 대각성분\n",
    "    (04.04 11page)\n",
    "    \n",
    "    \n",
    "    \n",
    "    \n",
    "    5) 행렬식의 로그\n",
    "    (04.04 11page)\n",
    "    \n",
    "    \n",
    "    \n",
    "    \n",
    "        \n",
    "        "
   ]
  },
  {
   "cell_type": "code",
   "execution_count": null,
   "metadata": {},
   "outputs": [],
   "source": [
    "\n"
   ]
  },
  {
   "cell_type": "code",
   "execution_count": null,
   "metadata": {},
   "outputs": [],
   "source": []
  },
  {
   "cell_type": "code",
   "execution_count": null,
   "metadata": {},
   "outputs": [],
   "source": []
  },
  {
   "cell_type": "code",
   "execution_count": null,
   "metadata": {},
   "outputs": [],
   "source": []
  },
  {
   "cell_type": "code",
   "execution_count": null,
   "metadata": {},
   "outputs": [],
   "source": []
  },
  {
   "cell_type": "code",
   "execution_count": null,
   "metadata": {},
   "outputs": [],
   "source": []
  },
  {
   "cell_type": "code",
   "execution_count": null,
   "metadata": {},
   "outputs": [],
   "source": []
  }
 ],
 "metadata": {
  "kernelspec": {
   "display_name": "Python 3",
   "language": "python",
   "name": "python3"
  },
  "language_info": {
   "codemirror_mode": {
    "name": "ipython",
    "version": 3
   },
   "file_extension": ".py",
   "mimetype": "text/x-python",
   "name": "python",
   "nbconvert_exporter": "python",
   "pygments_lexer": "ipython3",
   "version": "3.7.4"
  }
 },
 "nbformat": 4,
 "nbformat_minor": 2
}
