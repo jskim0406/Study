{
 "cells": [
  {
   "cell_type": "code",
   "execution_count": 3,
   "metadata": {},
   "outputs": [],
   "source": [
    "import numpy as np\n",
    "import scipy as sp\n",
    "import pandas as pd\n",
    "import matplotlib.pylab as plt\n",
    "import seaborn as sns\n",
    "import sklearn as sk\n",
    "import statsmodels.api as sm\n",
    "from sklearn.decomposition import PCA"
   ]
  },
  {
   "cell_type": "code",
   "execution_count": null,
   "metadata": {},
   "outputs": [],
   "source": [
    "04.05 변분법\n",
    "\n",
    "- 범함수 : 입력이 함수인 것\n",
    "    ex) F[f(x)]\n",
    "    \n",
    "    \n",
    "05.01 최적화 기초\n",
    "\n",
    "1) 최적화 문제\n",
    "    - 최적화 문제 : 함수의 값을 최대화 혹은 최소화하는 변수 x의 값을 찾는 것\n",
    "    - 최적화의 대상이 되는 함수 : 목적함수 (loss, cost, error function)\n",
    "    \n",
    "2) 그리드 서치와 수치적 최적화\n",
    "    - 그리드 서치 : 가장 간단한 방법. 계산량이 많다는 단점. 가능한 x값을 모두모두 넣어 최적점을 찾는 방법\n",
    "        \n",
    "    - 수치적 최적화 : trial and error를 통해 최적점을 찾는 방법. 가능한 한 적은 횟수로 탐색하는 방법\n",
    "        [필요한 알고리즘]\n",
    "        1) 최적점인지 판단 : 기울기 필요조건 (1차 미분 : 0, 2차 미분 > 0 이면 최소값)\n",
    "            \n",
    "            *행렬의 경우 = 야코비안(1차 미분), 헤시안(2차 미분) 으로 판단\n",
    "            \n",
    "        2) 최적점이 아니라면, 다음 번에 시도할 위치를 찾는 방법 (최대경사법, 뉴턴방법, 준뉴턴방법(BFGS), CG법)\n",
    "\n",
    "        \n",
    "3) 최대경사법(steepest gradient descent)\n",
    "    - 현재 위치에서 기울기 값 만을 이용하여 다음번 위치를 결정\n",
    "    - (5.1.11) *기울기의 부호가 (-)라는 점 주의. 기울기의 (-)방향으로 진행. \n",
    "        *하산하고 싶을 때, 경사가 오르막(+)이라면, 반대방향으로 내려가야 함\n",
    "        *기울기가 음수면, x를 +방향으로 전진시킴\n",
    "        *'뮤'는 옮기는 거리의 비례상수로, step size라고 한다. 내려가는 걸음폭.\n",
    "        \n",
    "    - step size를 너무 크게 한다면, 생기는 문제는? (05.01 9page)\n",
    "    \n",
    "    - 곡면의 모양이 '계곡'처럼 생긴 경우, 어떠한 현상이 발생하고, 문제점은 무엇인가?\n",
    "    - 위의 현상을 없애기 위한 방법으로 어떠한 방법이 사용되는 가?\n",
    "    \n",
    "    \n",
    "4) 2차 도함수를 사용한 뉴턴 방법\n",
    "    - (5.1.13) *경사와 보폭(기울기와 stepsize)를 헤시안행렬-1 로 대체함\n",
    "    - 뉴턴 방법으로 보완한 2가지 (보폭과 경사)\n",
    "    \n",
    "    \n",
    "    \n",
    "5) 준 뉴턴방법\n",
    "    - 헤시안 행렬을 직접 구하기 어려울 때, 사용\n",
    "    - 그레디언트를 바로 적용하지 않고, 그레디언트에 2차 도함수 관련된 무언가를 넣어서 계산\n",
    "    \n",
    "    \n",
    "6) 전역 최적화 문제\n",
    "    - 복수의 local minimum을 갖고 있을 때, 초기값이나 step size를 잘못 주게 되면, global minimum을 찾지 못하고 종료되버리는 문제\n",
    "    - 딥러닝에선 해당되지 않지만, 머신러닝에선 전역 최적화 문제가 아래의 조건을 만족하면 '컨벡스 문제'로 귀결된다.\n",
    "    - 그리고, 컨벡스 문제는 항상 global minimum을 갖고, 이를 거의 찾을 수 있다. (컨벡스 문제가 아닌 딥러닝에서 골치가 아플 수도 있음)\n",
    "        - 컨벡스 문제일 조건 : 2차 도함수 >= 0, H가 양의 준정부호\n",
    "        \n",
    "        \n",
    "\n",
    "        \n",
    "05.02 제한조건이 있는 최적화 문제\n",
    "\n",
    "1) 제한조건 : 연립방정식 or 연립부등식\n",
    "    - 그냥 x*를 찾는 게 아니라, 제한조건을 만족하는 x*를 찾아라!\n",
    "        - 연립방정식 제한조건 : 라그랑지 승수법 사용해 최적화 해결\n",
    "        - 연립부등식 제한조건 : KKT 조건을 만족하도록 해야함\n",
    "        \n",
    "        \n",
    "2) 등식 제한조건 (05.02 1page)\n",
    "\n",
    "\n",
    "\n",
    "\n",
    "\n",
    "\n",
    "3) 라그랑지 승수법\n",
    "\n",
    "\n",
    "\n"
   ]
  },
  {
   "cell_type": "code",
   "execution_count": 1,
   "metadata": {},
   "outputs": [
    {
     "ename": "SyntaxError",
     "evalue": "invalid syntax (<ipython-input-1-f6919006f8a3>, line 3)",
     "output_type": "error",
     "traceback": [
      "\u001b[0;36m  File \u001b[0;32m\"<ipython-input-1-f6919006f8a3>\"\u001b[0;36m, line \u001b[0;32m3\u001b[0m\n\u001b[0;31m    5.1.1 (수기)\u001b[0m\n\u001b[0m        ^\u001b[0m\n\u001b[0;31mSyntaxError\u001b[0m\u001b[0;31m:\u001b[0m invalid syntax\n"
     ]
    }
   ],
   "source": [
    "# 연습문제\n",
    "\n",
    "5.1.1 (코드)\n",
    "5.2.7-8, 20-25(수기) 라그랑지 승수법 직접 해보기(제한조건 없을 때, 있을 때)\n",
    "5.2.1 (수기)\n",
    "5.2.2 (수기)\n",
    "\n",
    "\n"
   ]
  },
  {
   "cell_type": "code",
   "execution_count": 24,
   "metadata": {},
   "outputs": [
    {
     "name": "stdout",
     "output_type": "stream",
     "text": [
      "      fun: 1.1558681095145402e-16\n",
      " hess_inv: array([[0.49933673, 0.9987295 ],\n",
      "       [0.9987295 , 2.00252737]])\n",
      "      jac: array([ 4.30579052e-07, -2.14795293e-07])\n",
      "  message: 'Optimization terminated successfully.'\n",
      "     nfev: 73\n",
      "      nit: 56\n",
      "     njev: 73\n",
      "   status: 0\n",
      "  success: True\n",
      "        x: array([1., 1.])\n"
     ]
    }
   ],
   "source": [
    "# 연습문제 5.1.1\n",
    "\n",
    "def f2p(x):\n",
    "    return np.array((2*x[0]-2 - 400*x[0]*(x[1]-x[0]**2), 200*(x[1] - x[0]**2)))\n",
    "\n",
    "def f2(x):\n",
    "    return (1 - x[0])**2 + 100.0 * (x[1] - x[0]**2)**2\n",
    "\n",
    "x0 = (-2, -2)\n",
    "result = sp.optimize.minimize(f2, x0, jac=f2p)\n",
    "print(result)"
   ]
  },
  {
   "cell_type": "code",
   "execution_count": null,
   "metadata": {},
   "outputs": [],
   "source": [
    "# 5.2.7-8, 20-25(수기) 라그랑지 승수법 직접 해보기(제한조건 없을 때, 있을 때)\n",
    "\n"
   ]
  },
  {
   "cell_type": "code",
   "execution_count": null,
   "metadata": {},
   "outputs": [],
   "source": []
  },
  {
   "cell_type": "code",
   "execution_count": null,
   "metadata": {},
   "outputs": [],
   "source": []
  },
  {
   "cell_type": "code",
   "execution_count": null,
   "metadata": {},
   "outputs": [],
   "source": []
  },
  {
   "cell_type": "code",
   "execution_count": null,
   "metadata": {},
   "outputs": [],
   "source": []
  },
  {
   "cell_type": "code",
   "execution_count": null,
   "metadata": {},
   "outputs": [],
   "source": []
  },
  {
   "cell_type": "code",
   "execution_count": null,
   "metadata": {},
   "outputs": [],
   "source": []
  },
  {
   "cell_type": "code",
   "execution_count": null,
   "metadata": {},
   "outputs": [],
   "source": []
  },
  {
   "cell_type": "code",
   "execution_count": null,
   "metadata": {},
   "outputs": [],
   "source": []
  },
  {
   "cell_type": "code",
   "execution_count": null,
   "metadata": {},
   "outputs": [],
   "source": []
  }
 ],
 "metadata": {
  "kernelspec": {
   "display_name": "Python 3",
   "language": "python",
   "name": "python3"
  },
  "language_info": {
   "codemirror_mode": {
    "name": "ipython",
    "version": 3
   },
   "file_extension": ".py",
   "mimetype": "text/x-python",
   "name": "python",
   "nbconvert_exporter": "python",
   "pygments_lexer": "ipython3",
   "version": "3.7.4"
  }
 },
 "nbformat": 4,
 "nbformat_minor": 2
}
