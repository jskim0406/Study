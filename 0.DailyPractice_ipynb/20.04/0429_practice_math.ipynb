{
 "cells": [
  {
   "cell_type": "code",
   "execution_count": null,
   "metadata": {},
   "outputs": [],
   "source": [
    "# 연습문제\n",
    "\n"
   ]
  },
  {
   "cell_type": "code",
   "execution_count": 2,
   "metadata": {},
   "outputs": [
    {
     "ename": "SyntaxError",
     "evalue": "invalid syntax (<ipython-input-2-cfcd768cefda>, line 1)",
     "output_type": "error",
     "traceback": [
      "\u001b[0;36m  File \u001b[0;32m\"<ipython-input-2-cfcd768cefda>\"\u001b[0;36m, line \u001b[0;32m1\u001b[0m\n\u001b[0;31m    07.03 분산과 표준편차\u001b[0m\n\u001b[0m            ^\u001b[0m\n\u001b[0;31mSyntaxError\u001b[0m\u001b[0;31m:\u001b[0m invalid syntax\n"
     ]
    }
   ],
   "source": [
    "07.03 분산과 표준편차\n",
    "\n",
    "1) 확률분포(X)의 분산(7.3.1)\n",
    "\n",
    "\n",
    "\n",
    "2) 분산의 성질(7.3.4)\n",
    "\n",
    "\n",
    "\n",
    "3) 두 확률변수 합의 분산, Var(X+Y) (7.3.12)\n",
    "\n",
    "\n",
    "\n",
    "\n",
    "\n",
    "4) 확률변수의 독립\n",
    "    - 독립이면, 공분산 = 0\n",
    "    - 공분산 = 0 이면, Var(X+Y) = Var(X)+Var(Y)\n",
    "\n",
    "    \n",
    "\n",
    "5) 표본평균의 분산 ( Var(Xbar) )\n",
    "    - 07.03, 3page\n",
    "    \n",
    "    \n",
    "    \n",
    "    - Var(X_bar) = 1/n * Var(X) 증명 꼭 해보기\n",
    "        *E, 기대값은 선형성으로 summation에선 안으로 들어가도 무방!\n",
    "    - 07.03 4page\n",
    "    \n",
    "    \n",
    "    \n",
    "    \n",
    "    \n",
    "    \n",
    "6) 표본분산의 기대값 ( E[S**2] )\n",
    "    - var(Xbar) != S**2 (표본평균의 분산 != 표본의 분산)\n",
    "    - 7.3.20\n",
    "    \n",
    "    \n",
    "    \n",
    "    \n",
    "    \n",
    "    - 표본분산이 실제 분산보다 작아지는 이유\n",
    "        : 표본평균이 데이터가 몰린 쪽으로 편향. 따라서, 표본들의 분산 값도 작아짐 (07.03 9page)\n",
    "            \n",
    "            \n",
    "\n",
    "7) 비대칭도와 첨도\n",
    "    - 왜도 : 3차 모멘트 값에서 계산 (7.3.32)\n",
    "    - 첨도 : 4차 모멘트 값에서 계산 (7.3.32)\n",
    "        \n",
    "        \n",
    "        \n",
    "\n",
    "8) 모멘트\n",
    "    - 기댓값, 분산 모두 확률분포의 모멘트 중 하나\n",
    "    - 두 확률분포 X,Y의 1차부터 계속해서 모멘트값이 서로 같다면, 두 확률분포는 같은 확률분포이다.\n",
    "    (7.3.35)\n",
    "    \n",
    "    \n",
    "    \n",
    "    "
   ]
  },
  {
   "cell_type": "code",
   "execution_count": null,
   "metadata": {},
   "outputs": [],
   "source": [
    "07.04 다변수 확률변수\n",
    "\n",
    "1) 결합 질량함수 (joint pmf) (7.4.3)\n",
    "\n",
    "\n",
    "2) 주변 질량함수 (marginal pmf) (7.4.5)\n",
    "\n",
    "\n",
    "3) 조건부 확률질량함수 (conditional pmf) (7.4.8)\n",
    "    - 결합 pdf의 단면을 잘라 \n",
    "\n",
    "\n",
    "\n",
    "4) 다변수 연속확률변수\n",
    "    : 연속확률분포에선, 확률 정의를 단순사건으로 할 수 없음.\n",
    "    : 따라서, cdf를 먼저 정의한 후, 미분하여 pdf를 구한다.\n",
    "        \n",
    "    \n",
    "    1) 결합 cdf (7.4.10)\n",
    "    \n",
    "    \n",
    "    \n",
    "    2) 결합 pdf (7.4.14)\n",
    "    \n",
    "    \n",
    "    \n",
    "    3) 주변 pdf (7.4.16-17)\n",
    "    \n",
    "    \n",
    "    \n",
    "    4) 결합 pdf와 주변 pdf (07.04 14page)\n",
    "    \n",
    "    \n",
    "    \n",
    "    \n",
    "    \n",
    "    5) 조건부 pdf\n",
    "        - 7.4.18\n",
    "        - 결합 pdf의 단면을 각각 전체 sum이 1이 되도록 normalize!\n",
    "        - 결합 pdf의 단면의 부피(sum) = 주변 pdf, 결합 pdf의 단면(한 변수를 상수로 고정한 단면)을 면적이 1이 되도록 스케일링(주변 pdf로)\n",
    "        (07.04 5page, 14page, 15page, 17page)\n",
    "        \n",
    "        \n",
    "        \n",
    "        \n",
    "        \n",
    "        \n",
    "        \n",
    "        \n",
    "        \n",
    "        \n",
    "        \n",
    "        \n",
    "        \n",
    "        \n",
    "    \n",
    "\n",
    "\n"
   ]
  },
  {
   "cell_type": "code",
   "execution_count": 2,
   "metadata": {},
   "outputs": [],
   "source": [
    "import scipy.stats"
   ]
  },
  {
   "cell_type": "code",
   "execution_count": 3,
   "metadata": {},
   "outputs": [],
   "source": [
    "rv = sp.stats.norm()"
   ]
  },
  {
   "cell_type": "code",
   "execution_count": 4,
   "metadata": {},
   "outputs": [
    {
     "data": {
      "text/plain": [
       "<scipy.stats._distn_infrastructure.rv_frozen at 0x1297a5a50>"
      ]
     },
     "execution_count": 4,
     "metadata": {},
     "output_type": "execute_result"
    }
   ],
   "source": [
    "rv = sp.stats.norm(loc=1,scale=2)\n",
    "rv"
   ]
  },
  {
   "cell_type": "code",
   "execution_count": 9,
   "metadata": {},
   "outputs": [
    {
     "data": {
      "text/plain": [
       "[<matplotlib.lines.Line2D at 0x12a0cc250>]"
      ]
     },
     "execution_count": 9,
     "metadata": {},
     "output_type": "execute_result"
    },
    {
     "data": {
      "image/png": "[encoded data removed]",
      "text/plain": [
       "<Figure size 432x288 with 1 Axes>"
      ]
     },
     "metadata": {
      "needs_background": "light"
     },
     "output_type": "display_data"
    }
   ],
   "source": [
    "xx = np.linspace(-8,8,100)\n",
    "pdf = rv.pdf(xx)\n",
    "plt.plot(xx,pdf)"
   ]
  },
  {
   "cell_type": "code",
   "execution_count": null,
   "metadata": {},
   "outputs": [],
   "source": []
  }
 ],
 "metadata": {
  "kernelspec": {
   "display_name": "Python 3",
   "language": "python",
   "name": "python3"
  },
  "language_info": {
   "codemirror_mode": {
    "name": "ipython",
    "version": 3
   },
   "file_extension": ".py",
   "mimetype": "text/x-python",
   "name": "python",
   "nbconvert_exporter": "python",
   "pygments_lexer": "ipython3",
   "version": "3.7.4"
  }
 },
 "nbformat": 4,
 "nbformat_minor": 2
}
