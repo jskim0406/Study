{
 "cells": [
  {
   "cell_type": "code",
   "execution_count": 2,
   "metadata": {},
   "outputs": [],
   "source": [
    "from IPython.display import Image"
   ]
  },
  {
   "cell_type": "code",
   "execution_count": 3,
   "metadata": {},
   "outputs": [
    {
     "ename": "SyntaxError",
     "evalue": "invalid syntax (<ipython-input-3-f6356f633013>, line 1)",
     "output_type": "error",
     "traceback": [
      "\u001b[0;36m  File \u001b[0;32m\"<ipython-input-3-f6356f633013>\"\u001b[0;36m, line \u001b[0;32m1\u001b[0m\n\u001b[0;31m    01.01 데이터분석의 소개\u001b[0m\n\u001b[0m               ^\u001b[0m\n\u001b[0;31mSyntaxError\u001b[0m\u001b[0;31m:\u001b[0m invalid syntax\n"
     ]
    }
   ],
   "source": [
    "01.01 데이터분석의 소개\n",
    "\n",
    "- 데이터 분석 : 데이터 간의 관계 파악 or 파악된 관계를 통해 새로운 데이터 출력, 생성\n",
    "\n",
    "- 데이터 분석 : 그 목적에 따라 예측, 클러스터링, 모사 등 다양하게 분류할 수 있음\n",
    "\n",
    "1) 입력차원\n",
    "    - 입력의 갯수, 즉 숫자벡터의 크기는 중요. 이를 '입력차원' 이라함\n",
    "    - 일반적으로, 입력차원은 일단 정해지면 바꿀 수 없고, 고정되어야 한다.\n",
    "        ex) 입력차원이 64인 예측 모델을 만들었다면, 이 모형에는 128개의 숫자입력은 적용할 수 없다.\n",
    "        \n",
    "2) 문서 데이터의 입력차원 문제 <- BOW로 해결\n",
    "    - 문서데이터는 모델에 입력 시, 크기가 고정되어있지 않아 문제\n",
    "    - 문서데이터를 고정된 크기의 숫자벡터로 바꾸는 대표적인 방법 = BOW(Bag of Words)\n",
    "    - BOW : 특정한 단어를 정해놓고, 벡터를 구성. 벡터의 원소는 각 단어가 몇번 나왔는지 빈도를 나타냄    \n",
    "\n",
    "텍스트 데이터가 어떤 길이를 갖든, 입력차원은 BOW에 따른 숫자벡터로 고정됨(13p)\n",
    "\n",
    "\n",
    "\n",
    "\n",
    "\n",
    "\n",
    "\n",
    "3) 컴퓨터가 다룰 수 있는 데이터 : 숫자데이터, 범주형데이터(카테고리 데이터)  \n",
    "    - 카테고리 데이터 : 비연속적, 각 카테고리값의 크기나 가치비교가 어려움(고양이 vs 개)  \n",
    "    - 카테고리 데이터 : 카테고리 값이 가질 수 있는 경우의 수 = 클래스\n",
    "        ex) 동전 던지기 - 이진 클래스, 주사위 던지기 - 다중 클래스(클래스 6개)\n",
    "        \n",
    "4) 예측문제 : 출력하고자 하는 데이터가 숫자값/ 카테고리 값인가에 따라 회귀분석 / 예측문제로 나뉨\n",
    "\n",
    "5) 비지도 학습 : 입/출력이 구분되지 않는 데이터들의 관계 속에서 규칙을 찾아내는 것 ex)클러스터링\n",
    "\n",
    "\n",
    "    \n",
    "\n",
    "    \n"
   ]
  },
  {
   "cell_type": "code",
   "execution_count": null,
   "metadata": {},
   "outputs": [],
   "source": []
  },
  {
   "cell_type": "code",
   "execution_count": null,
   "metadata": {},
   "outputs": [],
   "source": []
  },
  {
   "cell_type": "code",
   "execution_count": null,
   "metadata": {},
   "outputs": [],
   "source": []
  },
  {
   "cell_type": "code",
   "execution_count": null,
   "metadata": {},
   "outputs": [],
   "source": []
  },
  {
   "cell_type": "code",
   "execution_count": null,
   "metadata": {},
   "outputs": [],
   "source": []
  },
  {
   "cell_type": "code",
   "execution_count": null,
   "metadata": {},
   "outputs": [],
   "source": []
  }
 ],
 "metadata": {
  "kernelspec": {
   "display_name": "Python 3",
   "language": "python",
   "name": "python3"
  },
  "language_info": {
   "codemirror_mode": {
    "name": "ipython",
    "version": 3
   },
   "file_extension": ".py",
   "mimetype": "text/x-python",
   "name": "python",
   "nbconvert_exporter": "python",
   "pygments_lexer": "ipython3",
   "version": "3.7.4"
  }
 },
 "nbformat": 4,
 "nbformat_minor": 2
}
