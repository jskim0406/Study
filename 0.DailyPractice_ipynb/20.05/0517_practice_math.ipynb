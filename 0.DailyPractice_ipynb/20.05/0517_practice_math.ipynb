{
 "cells": [
  {
   "cell_type": "markdown",
   "metadata": {},
   "source": [
    "# 04.01 선형회귀분석 예제 _ statsmodels 패키지 활용"
   ]
  },
  {
   "cell_type": "markdown",
   "metadata": {},
   "source": [
    "## 1. 보스턴 집값 데이터"
   ]
  },
  {
   "cell_type": "code",
   "execution_count": 11,
   "metadata": {
    "scrolled": true
   },
   "outputs": [
    {
     "name": "stdout",
     "output_type": "stream",
     "text": [
      "                            OLS Regression Results                            \n",
      "==============================================================================\n",
      "Dep. Variable:                   MEDV   R-squared:                       0.741\n",
      "Model:                            OLS   Adj. R-squared:                  0.734\n",
      "Method:                 Least Squares   F-statistic:                     108.1\n",
      "Date:                Sun, 17 May 2020   Prob (F-statistic):          6.72e-135\n",
      "Time:                        14:37:19   Log-Likelihood:                -1498.8\n",
      "No. Observations:                 506   AIC:                             3026.\n",
      "Df Residuals:                     492   BIC:                             3085.\n",
      "Df Model:                          13                                         \n",
      "Covariance Type:            nonrobust                                         \n",
      "==============================================================================\n",
      "                 coef    std err          t      P>|t|      [0.025      0.975]\n",
      "------------------------------------------------------------------------------\n",
      "const         36.4595      5.103      7.144      0.000      26.432      46.487\n",
      "CRIM          -0.1080      0.033     -3.287      0.001      -0.173      -0.043\n",
      "ZN             0.0464      0.014      3.382      0.001       0.019       0.073\n",
      "INDUS          0.0206      0.061      0.334      0.738      -0.100       0.141\n",
      "CHAS           2.6867      0.862      3.118      0.002       0.994       4.380\n",
      "NOX          -17.7666      3.820     -4.651      0.000     -25.272     -10.262\n",
      "RM             3.8099      0.418      9.116      0.000       2.989       4.631\n",
      "AGE            0.0007      0.013      0.052      0.958      -0.025       0.027\n",
      "DIS           -1.4756      0.199     -7.398      0.000      -1.867      -1.084\n",
      "RAD            0.3060      0.066      4.613      0.000       0.176       0.436\n",
      "TAX           -0.0123      0.004     -3.280      0.001      -0.020      -0.005\n",
      "PTRATIO       -0.9527      0.131     -7.283      0.000      -1.210      -0.696\n",
      "B              0.0093      0.003      3.467      0.001       0.004       0.015\n",
      "LSTAT         -0.5248      0.051    -10.347      0.000      -0.624      -0.425\n",
      "==============================================================================\n",
      "Omnibus:                      178.041   Durbin-Watson:                   1.078\n",
      "Prob(Omnibus):                  0.000   Jarque-Bera (JB):              783.126\n",
      "Skew:                           1.521   Prob(JB):                    8.84e-171\n",
      "Kurtosis:                       8.281   Cond. No.                     1.51e+04\n",
      "==============================================================================\n",
      "\n",
      "Warnings:\n",
      "[1] Standard Errors assume that the covariance matrix of the errors is correctly specified.\n",
      "[2] The condition number is large, 1.51e+04. This might indicate that there are\n",
      "strong multicollinearity or other numerical problems.\n"
     ]
    }
   ],
   "source": [
    "from sklearn.datasets import load_boston\n",
    "import statsmodels.api as sm\n",
    "\n",
    "\n",
    "boston = load_boston()\n",
    "dir(boston)\n",
    "\n",
    "dfx = pd.DataFrame(boston.data, columns = boston.feature_names)\n",
    "\n",
    "# 회귀분석의 특징행렬, x데이터는 꼭 상수항 추가해줘야 함!\n",
    "dfx = sm.add_constant(dfx)\n",
    "dfy = pd.DataFrame(boston.target, columns = [\"MEDV\"])\n",
    "\n",
    "model = sm.OLS(dfy,dfx)\n",
    "result = model.fit()\n",
    "print(result.summary())\n",
    "\n"
   ]
  },
  {
   "cell_type": "markdown",
   "metadata": {},
   "source": [
    "### 1) 기초 회귀분석 결과 : 보스턴 집값 데이터\n",
    "    1) Indus, Age 는 집값(종속변수)와 큰 상관관계가 없다고 추정\n",
    "    2) warning 메시지에 따라, 독립변수 간 다중공선성 or 의심됨 (Condition No. 가 너무 큼) => 변수 제거 or 스케일링 필요"
   ]
  },
  {
   "cell_type": "markdown",
   "metadata": {},
   "source": [
    "## 2. 당뇨병 진행도"
   ]
  },
  {
   "cell_type": "code",
   "execution_count": 13,
   "metadata": {},
   "outputs": [
    {
     "data": {
      "text/plain": [
       "['DESCR',\n",
       " 'data',\n",
       " 'data_filename',\n",
       " 'feature_names',\n",
       " 'target',\n",
       " 'target_filename']"
      ]
     },
     "execution_count": 13,
     "metadata": {},
     "output_type": "execute_result"
    }
   ],
   "source": [
    "from sklearn.datasets import load_diabetes\n",
    "\n",
    "diabetes = load_diabetes()\n",
    "dir(diabetes)"
   ]
  },
  {
   "cell_type": "code",
   "execution_count": 35,
   "metadata": {},
   "outputs": [
    {
     "name": "stdout",
     "output_type": "stream",
     "text": [
      "                            OLS Regression Results                            \n",
      "==============================================================================\n",
      "Dep. Variable:                      0   R-squared:                       0.518\n",
      "Model:                            OLS   Adj. R-squared:                  0.507\n",
      "Method:                 Least Squares   F-statistic:                     46.27\n",
      "Date:                Sun, 17 May 2020   Prob (F-statistic):           3.83e-62\n",
      "Time:                        14:48:56   Log-Likelihood:                -2386.0\n",
      "No. Observations:                 442   AIC:                             4794.\n",
      "Df Residuals:                     431   BIC:                             4839.\n",
      "Df Model:                          10                                         \n",
      "Covariance Type:            nonrobust                                         \n",
      "==============================================================================\n",
      "                 coef    std err          t      P>|t|      [0.025      0.975]\n",
      "------------------------------------------------------------------------------\n",
      "const        152.1335      2.576     59.061      0.000     147.071     157.196\n",
      "age          -10.0122     59.749     -0.168      0.867    -127.448     107.424\n",
      "sex         -239.8191     61.222     -3.917      0.000    -360.151    -119.488\n",
      "bmi          519.8398     66.534      7.813      0.000     389.069     650.610\n",
      "bp           324.3904     65.422      4.958      0.000     195.805     452.976\n",
      "s1          -792.1842    416.684     -1.901      0.058   -1611.169      26.801\n",
      "s2           476.7458    339.035      1.406      0.160    -189.621    1143.113\n",
      "s3           101.0446    212.533      0.475      0.635    -316.685     518.774\n",
      "s4           177.0642    161.476      1.097      0.273    -140.313     494.442\n",
      "s5           751.2793    171.902      4.370      0.000     413.409    1089.150\n",
      "s6            67.6254     65.984      1.025      0.306     -62.065     197.316\n",
      "==============================================================================\n",
      "Omnibus:                        1.506   Durbin-Watson:                   2.029\n",
      "Prob(Omnibus):                  0.471   Jarque-Bera (JB):                1.404\n",
      "Skew:                           0.017   Prob(JB):                        0.496\n",
      "Kurtosis:                       2.726   Cond. No.                         227.\n",
      "==============================================================================\n",
      "\n",
      "Warnings:\n",
      "[1] Standard Errors assume that the covariance matrix of the errors is correctly specified.\n"
     ]
    }
   ],
   "source": [
    "dfx = pd.DataFrame(diabetes.data, columns = diabetes.feature_names)\n",
    "dfx = sm.add_constant(dfx)\n",
    "dfy = pd.DataFrame(diabetes.target)\n",
    "\n",
    "\n",
    "model = sm.OLS(dfy,dfx)\n",
    "result = model.fit()\n",
    "print(result.summary())"
   ]
  },
  {
   "cell_type": "markdown",
   "metadata": {},
   "source": [
    "### 1) 기초 회귀분석 결과 : 당뇨병 데이터\n",
    "    1) age, s데이터 는 당뇨병 진행도(종속변수)와 큰 상관관계가 없다고 추정\n",
    "    2) warning 메시지에 따라, 독립변수 간 다중공선성 or 의심됨 (Condition No. 가 너무 큼) => 변수 제거 or 스케일링 필요"
   ]
  },
  {
   "cell_type": "markdown",
   "metadata": {},
   "source": [
    "## make regression 예제"
   ]
  },
  {
   "cell_type": "code",
   "execution_count": 56,
   "metadata": {},
   "outputs": [
    {
     "data": {
      "text/plain": [
       "<matplotlib.collections.PathCollection at 0x1331e69d0>"
      ]
     },
     "execution_count": 56,
     "metadata": {},
     "output_type": "execute_result"
    },
    {
     "data": {
      "image/png": "[encoded data removed]",
      "text/plain": [
       "<Figure size 432x288 with 1 Axes>"
      ]
     },
     "metadata": {
      "needs_background": "light"
     },
     "output_type": "display_data"
    }
   ],
   "source": [
    "from sklearn.datasets import make_regression\n",
    "\n",
    "X,y,w = make_regression(n_samples = 100, n_features = 1, bias = 100, noise = 10, coef=True, random_state=0)\n",
    "\n",
    "xx = np.linspace(-3,3,100)\n",
    "y0 = xx*w + 100\n",
    "plt.plot(xx,y0,\"r-\")\n",
    "plt.scatter(X,y)"
   ]
  },
  {
   "cell_type": "code",
   "execution_count": 73,
   "metadata": {},
   "outputs": [],
   "source": [
    "np.random.seed(0)\n",
    "a = np.random.rand(100).reshape(-1,10) # unifrom 에서 뽑음\n",
    "b = np.random.randn(100).reshape(-1,10) # 정규분포에서 뽑음"
   ]
  },
  {
   "cell_type": "code",
   "execution_count": 77,
   "metadata": {},
   "outputs": [
    {
     "data": {
      "text/plain": [
       "<matplotlib.collections.PathCollection at 0x1338a1810>"
      ]
     },
     "execution_count": 77,
     "metadata": {},
     "output_type": "execute_result"
    },
    {
     "data": {
      "image/png": "[encoded data removed]",
      "text/plain": [
       "<Figure size 432x288 with 1 Axes>"
      ]
     },
     "metadata": {
      "needs_background": "light"
     },
     "output_type": "display_data"
    }
   ],
   "source": [
    "plt.scatter(a,b)"
   ]
  },
  {
   "cell_type": "code",
   "execution_count": 81,
   "metadata": {},
   "outputs": [
    {
     "data": {
      "text/plain": [
       "<matplotlib.collections.PathCollection at 0x13386aa90>"
      ]
     },
     "execution_count": 81,
     "metadata": {},
     "output_type": "execute_result"
    },
    {
     "data": {
      "image/png": "[encoded data removed]",
      "text/plain": [
       "<Figure size 432x288 with 1 Axes>"
      ]
     },
     "metadata": {
      "needs_background": "light"
     },
     "output_type": "display_data"
    }
   ],
   "source": [
    "X, y, w = make_regression(\n",
    "    n_samples=100, n_features=5, n_informative=1, bias = 100, noise = 10, coef=True, random_state=0\n",
    ")\n",
    "\n",
    "plt.scatter(X[:,0],X[:,1], c=y)"
   ]
  },
  {
   "cell_type": "code",
   "execution_count": 124,
   "metadata": {
    "scrolled": true
   },
   "outputs": [
    {
     "name": "stdout",
     "output_type": "stream",
     "text": [
      "                            OLS Regression Results                            \n",
      "==============================================================================\n",
      "Dep. Variable:                      y   R-squared:                       0.959\n",
      "Model:                            OLS   Adj. R-squared:                  0.957\n",
      "Method:                 Least Squares   F-statistic:                     439.2\n",
      "Date:                Sun, 17 May 2020   Prob (F-statistic):           1.59e-63\n",
      "Time:                        18:58:23   Log-Likelihood:                -368.12\n",
      "No. Observations:                 100   AIC:                             748.2\n",
      "Df Residuals:                      94   BIC:                             763.9\n",
      "Df Model:                           5                                         \n",
      "Covariance Type:            nonrobust                                         \n",
      "==============================================================================\n",
      "                 coef    std err          t      P>|t|      [0.025      0.975]\n",
      "------------------------------------------------------------------------------\n",
      "const         97.9262      1.015     96.524      0.000      95.912      99.941\n",
      "x1            45.8449      0.996     46.040      0.000      43.868      47.822\n",
      "x2            -0.0085      0.969     -0.009      0.993      -1.932       1.915\n",
      "x3            -2.3841      1.055     -2.259      0.026      -4.479      -0.289\n",
      "x4             0.5914      1.048      0.565      0.574      -1.489       2.671\n",
      "x5            -0.6863      1.002     -0.685      0.495      -2.676       1.304\n",
      "==============================================================================\n",
      "Omnibus:                        1.153   Durbin-Watson:                   2.005\n",
      "Prob(Omnibus):                  0.562   Jarque-Bera (JB):                1.234\n",
      "Skew:                          -0.204   Prob(JB):                        0.540\n",
      "Kurtosis:                       2.641   Cond. No.                         1.35\n",
      "==============================================================================\n",
      "\n",
      "Warnings:\n",
      "[1] Standard Errors assume that the covariance matrix of the errors is correctly specified.\n"
     ]
    }
   ],
   "source": [
    "X, y, w = make_regression(\n",
    "    n_samples=100, n_features=5, n_informative = 1, bias = 100, noise = 10, coef=True, random_state=0)\n",
    "\n",
    "dfx = X\n",
    "dfx = sm.add_constant(X)\n",
    "dfy = y\n",
    "\n",
    "model = sm.OLS(dfy,dfx)\n",
    "result = model.fit()\n",
    "print(result.summary())"
   ]
  },
  {
   "cell_type": "code",
   "execution_count": null,
   "metadata": {},
   "outputs": [],
   "source": []
  },
  {
   "cell_type": "markdown",
   "metadata": {},
   "source": [
    "# 06.02 기저함수 모형과 과최적화\n",
    "\n",
    "\n",
    "**1) 비선형 모형**\n",
    "\n",
    "```\n",
    "\n",
    "기본적인 선형회귀모형 : 입력변수의 선형조합 ( $w^{T}x$ )\n",
    "\n",
    "선형회귀모형의 한계 : 비선형 데이터의 회귀모형을 만들 수 없음\n",
    "\n",
    "대안 : 비선형 회귀모형\n",
    "\n",
    "비선형 회귀모형 : x에 대해선 비선형, w에 대해선 선형 (2page 상단)\n",
    "\n",
    "    *비선형 모델을 구현하면서 선형모델의 방법론을 그대로 사용.\n",
    "    *대신, 어떤 비선형함수를 얼마나 사용할지가 중요\n",
    "    \n",
    "    \n",
    "    \n",
    "    \n",
    "    \n",
    "    \n",
    "비선형 함수 생성 => **기저함수 활용** \n",
    "\n",
    "\n",
    "\n",
    "```\n",
    "\n",
    "**2) 기저함수**\n",
    "\n",
    "```\n",
    "\n",
    "기저함수 : 함수의 수열 (규칙이 정해져 있어, 규칙에 따라 여러개의 비선형함수를 만들어낼 수 있음)\n",
    "    ex) 다항 기저함수 (2page 하단)\n",
    "    \n",
    "    \n",
    "    \n",
    "    \n",
    "    \n",
    "*비선형모형 : 가중치(모수) 갯수는 독립변수의 갯수가 아닌, 비선형함수의 갯수에 의존\n",
    "    ex) 다항 기저함수 사용 시, 2차까지 하면 가중치 갯수는 3개, 10차까지 하면 가중치 갯수는 11개\n",
    "    \n",
    "기저함수 종류 : 체비셰프 다항식, 방사 기저함수, 삼각 기저함수, 시그모이드 기저함수    \n",
    "    \n",
    "```\n",
    "\n",
    "\n",
    "**3) 과최적화**\n",
    "\n",
    "```\n",
    "\n",
    "1. 과최적화의 이유\n",
    "    1) 모형의 모수(parameter)가 과도하게 많거나\n",
    "    2) 다중공산성\n",
    "    \n",
    "2. 과최적화가 만드는 문제\n",
    "    1) non-training data 입력 시, 오차가 커짐 (cross-validation 오차)\n",
    "    2) 샘플이 조금만 달라져도 가중치 계수의 값이 크게 달라짐 (추정의 불안정성)\n",
    "        *12,13page\n",
    "        \n",
    "        \n",
    "        \n",
    "        \n",
    "        \n",
    "        \n",
    "        \n",
    "        \n",
    "        \n",
    "        \n",
    "        \n",
    "        \n",
    "        \n",
    "        \n",
    "        \n",
    "```        \n",
    "    "
   ]
  },
  {
   "cell_type": "markdown",
   "metadata": {},
   "source": [
    "# 06.03 교차검증\n",
    "\n",
    "- in-sample testing VS outofsample testing\n",
    "- 과최적화 ==>> 교차 검증 결과, 두 경우의 성능 testing 결과가 크게 다름($R^2$)"
   ]
  },
  {
   "cell_type": "markdown",
   "metadata": {},
   "source": [
    "## 1. sklearn 교차검증 \n",
    "\n",
    "1) 단순데이터 분리 \" tarin_test_split( ) \"\n",
    "\n",
    "2) 교차검증\n",
    "\n",
    "3) 교차검증 반복 \" cross_val_score( ) \"  \n",
    "        # 교안의 statsmodelsOLS 클래스 생성해, statsmodels 패키지 모형 객체 사용 가능하도록 변환\n",
    "\n",
    "```\n",
    "\n",
    "\n",
    "```\n",
    "**K-Fold 교차검증**\n",
    "\n",
    "    - 데이터 수가 적을 때, 데이터를 나눠 여러번 testing 진행 (6page 하단)\n",
    "\n",
    "```\n",
    "\n",
    "\n",
    "\n",
    "\n",
    "\n",
    "\n",
    "```\n",
    "\n",
    "\n",
    "**cross_val_score()**\n",
    "\n",
    "```\n",
    "    - 11page\n",
    "\n",
    "\n",
    "\n",
    "\n",
    "\n",
    "\n",
    "```\n",
    "\n",
    "\n",
    "**벤치마크 검증 데이터**\n",
    "\n",
    "```\n",
    "\n",
    "    - 11page\n",
    "    \n",
    "    \n",
    "    \n",
    "    \n",
    "\n",
    "```\n",
    "\n",
    "\n"
   ]
  },
  {
   "cell_type": "markdown",
   "metadata": {},
   "source": [
    "# 06.04 다중공선성과 변수 선택\n",
    "\n",
    "\n",
    "\n",
    "## 1) overfitting 주요원인 2가지\n",
    "\n",
    "```\n",
    "1) 모수 갯수가 너무 많아서\n",
    "\n",
    "2) 다중공선성 (1page 하단)\n",
    "    *x1과 x2가 거의 같은 데이터라면, 모형이 어떻게든 이를 구분하려 overfitting하게 됨\n",
    "    \n",
    "    \n",
    "    \n",
    "    \n",
    "    \n",
    "    \n",
    "3) 다중공선성에 따른 overfitting 방지법 : 독립변수 제거\n",
    "\n",
    "    - VIF 활용해 의존적인 변수 삭제 (VIF, Variance Inflation Factor)\n",
    "    - PCA를 활용한 의존적인 변수 삭제\n",
    "    - 정규화(regularized) 방법 사용\n",
    "    \n",
    "    \n",
    "```\n",
    "\n",
    "## 2) VIF\n",
    "\n",
    "```\n",
    "\n",
    "\n",
    "\n",
    "7page, 8page, 13page\n",
    "\n",
    "\n",
    "\n",
    "\n",
    "\n",
    "\n",
    "\n",
    "\n",
    "\n",
    "\n",
    "\n",
    "\n",
    "\n",
    "\n",
    "\n",
    "```"
   ]
  },
  {
   "cell_type": "code",
   "execution_count": null,
   "metadata": {},
   "outputs": [],
   "source": []
  },
  {
   "cell_type": "code",
   "execution_count": null,
   "metadata": {},
   "outputs": [],
   "source": []
  },
  {
   "cell_type": "code",
   "execution_count": null,
   "metadata": {},
   "outputs": [],
   "source": []
  },
  {
   "cell_type": "code",
   "execution_count": null,
   "metadata": {},
   "outputs": [],
   "source": []
  }
 ],
 "metadata": {
  "kernelspec": {
   "display_name": "Python 3",
   "language": "python",
   "name": "python3"
  },
  "language_info": {
   "codemirror_mode": {
    "name": "ipython",
    "version": 3
   },
   "file_extension": ".py",
   "mimetype": "text/x-python",
   "name": "python",
   "nbconvert_exporter": "python",
   "pygments_lexer": "ipython3",
   "version": "3.7.4"
  }
 },
 "nbformat": 4,
 "nbformat_minor": 2
}
