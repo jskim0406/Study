{
 "cells": [
  {
   "cell_type": "markdown",
   "metadata": {},
   "source": [
    "# 09.01 모형 결합 (Ensemble methods)\n",
    "\n",
    "    - 복수의 예측방법을 결합해 성능 개선을 하려는 방법론\n",
    "    \n",
    "    - 회귀분석과 달리, Classification에서는 여러 모형의 결합이 가능\n",
    "    - Regression은 일종의 '주관식'과 같기에, 여러명이 동시에 문제푼 답이 서로 같기 힘들다.\n",
    "    - Classification은 일종의 '객관식' 문제와 같기에, 여러 명이 동시에 시험문제를 풀면 같은 답을 낸 모델들을 확인할 수 있고, \n",
    "      이를 통해 답을 비교해볼 수 있다.\n",
    "      \n",
    "    - 장점\n",
    "        1) 단일 모형 시 보다, 성능 분산이 감소\n",
    "            ex) K-fold 검증 시, 테스트 성능이 K회차 진행 시, 성능의 편차가 심하지 않음\n",
    "            \n",
    "        2) 개별 모형이 성능이 안좋을 경우, 결합모형의 성능이 더 향상됨\n",
    "            * 결합되는 모형이 서로 독립적이어야, 결합시 성능향상 효과 가능\n",
    "        \n",
    "        \n",
    "    - 분류\n",
    "        1) 취합 방법론(aggregation methods) : Majority Voting, Bagging, Random Forest\n",
    "            * 사용할 모형의 집합이 미리 정해져있음, 같은 과정을 반복\n",
    "        \n",
    "        2) 부스팅 방법론(boosting methods) : AdaBoost, Gradient Boost\n",
    "            * 사용할 모형을 점진적으로 늘려감\n"
   ]
  },
  {
   "cell_type": "markdown",
   "metadata": {},
   "source": [
    "# 1. Majority Voting (다수결 방법)\n",
    "\n",
    "    - 가장 단순한 모형 결합\n",
    "    \n",
    "    - 독립적, 0.5 이상의 성능을 보이는 모형의 다수결 결합 -> 성능 향상\n",
    "    \n",
    "    - 전혀 다른 모형들의 결합 가능\n",
    "    - Voting 방식에 따라 -> Hard / Soft 모델로 나뉨\n",
    "        Hard voting : 단순 투표 (개별 모형의 결과 중 가장 많은 결과 채택)\n",
    "        Soft voting : 가중치 투표 (개별 모형의 조건부 확률 합 기준)"
   ]
  },
  {
   "cell_type": "markdown",
   "metadata": {},
   "source": [
    "### IRIS 데이터 연습\n",
    "\n",
    "    - 모형 결합 갯수 제한 없이\n",
    "    - K=5 인 Cross Validation\n",
    "    - test 성능 확인(모형 결합 갯수에 따른)\n",
    "    "
   ]
  },
  {
   "cell_type": "code",
   "execution_count": 7,
   "metadata": {},
   "outputs": [],
   "source": [
    "# 데이터 로드\n",
    "\n",
    "from sklearn.datasets import load_iris\n",
    "\n",
    "data = load_iris()\n",
    "dir(data)\n",
    "y = data.target\n",
    "X = data.data"
   ]
  },
  {
   "cell_type": "code",
   "execution_count": 29,
   "metadata": {
    "scrolled": true
   },
   "outputs": [
    {
     "data": {
      "text/plain": [
       "VotingClassifier(estimators=[('lr',\n",
       "                              LogisticRegression(C=1.0, class_weight=None,\n",
       "                                                 dual=False, fit_intercept=True,\n",
       "                                                 intercept_scaling=1,\n",
       "                                                 l1_ratio=None, max_iter=100,\n",
       "                                                 multi_class='warn',\n",
       "                                                 n_jobs=None, penalty='l2',\n",
       "                                                 random_state=1, solver='warn',\n",
       "                                                 tol=0.0001, verbose=0,\n",
       "                                                 warm_start=False)),\n",
       "                             ('qda',\n",
       "                              QuadraticDiscriminantAnalysis(priors=None,\n",
       "                                                            reg_param=0.0,\n",
       "                                                            store_covariance=Fa...\n",
       "                              GaussianNB(priors=None, var_smoothing=1e-09)),\n",
       "                             ('dt',\n",
       "                              DecisionTreeClassifier(class_weight=None,\n",
       "                                                     criterion='gini',\n",
       "                                                     max_depth=5,\n",
       "                                                     max_features=None,\n",
       "                                                     max_leaf_nodes=None,\n",
       "                                                     min_impurity_decrease=0.0,\n",
       "                                                     min_impurity_split=None,\n",
       "                                                     min_samples_leaf=1,\n",
       "                                                     min_samples_split=2,\n",
       "                                                     min_weight_fraction_leaf=0.0,\n",
       "                                                     presort=False,\n",
       "                                                     random_state=0,\n",
       "                                                     splitter='best'))],\n",
       "                 flatten_transform=True, n_jobs=None, voting='soft',\n",
       "                 weights=None)"
      ]
     },
     "execution_count": 29,
     "metadata": {},
     "output_type": "execute_result"
    }
   ],
   "source": [
    "# 분류 모형 결합(확률적 생성 -> QDA, 나이브베이즈(정규분포), 확률적 판별 -> 로지스틱회귀)\n",
    "\n",
    "from sklearn.linear_model import LogisticRegression\n",
    "from sklearn.naive_bayes import GaussianNB\n",
    "from sklearn.discriminant_analysis import QuadraticDiscriminantAnalysis\n",
    "from sklearn.tree import DecisionTreeClassifier\n",
    "from sklearn.ensemble import VotingClassifier\n",
    "\n",
    "model1 = LogisticRegression(random_state=1)\n",
    "model2 = QuadraticDiscriminantAnalysis()\n",
    "model3 = GaussianNB()\n",
    "model4 = DecisionTreeClassifier(max_depth=5, random_state=0)\n",
    "ensemble1 = VotingClassifier(estimators = [('lr',model1)],voting='soft')\n",
    "ensemble2 = VotingClassifier(estimators = [('lr',model1),('qda',model2)],voting='soft')                             \n",
    "ensemble3 = VotingClassifier(estimators = [('lr',model1),('qda',model2),('gnb',model3)],voting='soft')\n",
    "ensemble4 = VotingClassifier(estimators = [('lr',model1),('qda',model2),('gnb',model3),('dt',model4)],voting='soft')\n",
    "                             \n",
    "# 결합 모형으로 학습\n",
    "ensemble1.fit(X,y)\n",
    "ensemble2.fit(X,y)\n",
    "ensemble3.fit(X,y)\n",
    "ensemble4.fit(X,y)"
   ]
  },
  {
   "cell_type": "code",
   "execution_count": 30,
   "metadata": {},
   "outputs": [],
   "source": [
    "# 결합 모형 예측 결과 저장\n",
    "y_pred1 = ensemble1.predict(X)\n",
    "y_pred2 = ensemble2.predict(X)\n",
    "y_pred3 = ensemble3.predict(X)\n",
    "y_pred4 = ensemble3.predict(X)"
   ]
  },
  {
   "cell_type": "code",
   "execution_count": 41,
   "metadata": {},
   "outputs": [
    {
     "name": "stdout",
     "output_type": "stream",
     "text": [
      "[0.94, 0.97, 0.96, 0.96]\n"
     ]
    },
    {
     "data": {
      "image/png": "[encoded data removed]",
      "text/plain": [
       "<Figure size 432x288 with 1 Axes>"
      ]
     },
     "metadata": {
      "needs_background": "light"
     },
     "output_type": "display_data"
    }
   ],
   "source": [
    "# KFOLD 검증\n",
    "\n",
    "from sklearn.model_selection import KFold\n",
    "from sklearn.model_selection import cross_val_score\n",
    "\n",
    "result = []\n",
    "result.append(round(cross_val_score(ensemble1, X, y, scoring='r2', cv=5).mean(),2))\n",
    "result.append(round(cross_val_score(ensemble2, X, y, scoring='r2', cv=5).mean(),2))\n",
    "result.append(round(cross_val_score(ensemble3, X, y, scoring='r2', cv=5).mean(),2))\n",
    "result.append(round(cross_val_score(ensemble3, X, y, scoring='r2', cv=5).mean(),2))\n",
    "plt.xlabel(\"ensemble count\")\n",
    "plt.ylabel(\"Kfold CV score(R2)\")\n",
    "plt.plot(result)\n",
    "print(result)"
   ]
  },
  {
   "cell_type": "markdown",
   "metadata": {},
   "source": [
    "# 2. Bagging (배깅)\n",
    "\n",
    "    - 다수결 모형의 한계 : 조합할 수 있는 모델의 수가 한정 (파라미터 튜닝도 한계가 있음)\n",
    "    \n",
    "    - 다수결 모형 + 부트스트래핑(데이터 및 독립변수 중복 or 선택)"
   ]
  },
  {
   "cell_type": "markdown",
   "metadata": {},
   "source": [
    "### Breast_Cancer 데이터 연습\n",
    "\n",
    "    - 배깅 방식 (모형의 종류, 갯수, 방법은 자유)\n",
    "    - K=5 인 Cross Validation\n",
    "    - test 성능 확인(모형 결합 갯수에 따른)\n",
    "    "
   ]
  },
  {
   "cell_type": "code",
   "execution_count": 44,
   "metadata": {},
   "outputs": [],
   "source": [
    "# 데이터 로드\n",
    "\n",
    "from sklearn.datasets import load_breast_cancer\n",
    "data_cc = load_breast_cancer()\n",
    "X_cc = data_cc.data\n",
    "y_cc = data_cc.target"
   ]
  },
  {
   "cell_type": "code",
   "execution_count": 66,
   "metadata": {},
   "outputs": [
    {
     "data": {
      "text/plain": [
       "(569, 30)"
      ]
     },
     "execution_count": 66,
     "metadata": {},
     "output_type": "execute_result"
    }
   ],
   "source": [
    "X_cc.shape"
   ]
  },
  {
   "cell_type": "code",
   "execution_count": 77,
   "metadata": {},
   "outputs": [],
   "source": [
    "# 배깅 모델 생성\n",
    "\n",
    "from sklearn.tree import DecisionTreeClassifier\n",
    "from sklearn.linear_model import LogisticRegression\n",
    "from sklearn.ensemble import BaggingClassifier\n",
    "\n",
    "model1_cc = DecisionTreeClassifier(max_depth=10, random_state=0).fit(X_cc, y_cc)\n",
    "model2_cc = LogisticRegression(random_state=0).fit(X_cc, y_cc)\n",
    "model3_cc = BaggingClassifier(DecisionTreeClassifier(max_depth=2), n_estimators=100, random_state=0).fit(X_cc, y_cc)\n",
    "model4_cc = BaggingClassifier(LogisticRegression(), n_estimators=100, random_state=0).fit(X_cc, y_cc)\n",
    "model5_cc = BaggingClassifier(LogisticRegression(), n_estimators=100, random_state=0, bootstrap=False).fit(X_cc, y_cc)\n",
    "model6_cc = BaggingClassifier(LogisticRegression(), n_estimators=100, random_state=0, bootstrap=False, bootstrap_features=True).fit(X_cc, y_cc)\n",
    "model7_cc = BaggingClassifier(LogisticRegression(), n_estimators=100, random_state=0, bootstrap=False, max_features=0.5).fit(X_cc, y_cc)\n",
    "model8_cc = BaggingClassifier(DecisionTreeClassifier(max_depth=2), n_estimators=100, random_state=0, bootstrap=False).fit(X_cc, y_cc)\n"
   ]
  },
  {
   "cell_type": "code",
   "execution_count": 78,
   "metadata": {},
   "outputs": [
    {
     "name": "stdout",
     "output_type": "stream",
     "text": [
      "[0.92, 0.95, 0.95, 0.95, 0.95, 0.95, 0.95, 0.93]\n"
     ]
    },
    {
     "data": {
      "image/png": "[encoded data removed]",
      "text/plain": [
       "<Figure size 432x288 with 1 Axes>"
      ]
     },
     "metadata": {
      "needs_background": "light"
     },
     "output_type": "display_data"
    }
   ],
   "source": [
    "# 배깅 모델 성능 측정 - Kfold 검증( k = 5 )\n",
    "\n",
    "from sklearn.model_selection import KFold\n",
    "from sklearn.model_selection import cross_val_score\n",
    "\n",
    "result_cc = []\n",
    "result_cc.append(round(cross_val_score(model1_cc, X_cc, y_cc, scoring='accuracy', cv=5).mean(),2))\n",
    "result_cc.append(round(cross_val_score(model2_cc, X_cc, y_cc, scoring='accuracy', cv=5).mean(),2))\n",
    "result_cc.append(round(cross_val_score(model3_cc, X_cc, y_cc, scoring='accuracy', cv=5).mean(),2))\n",
    "result_cc.append(round(cross_val_score(model4_cc, X_cc, y_cc, scoring='accuracy', cv=5).mean(),2))\n",
    "result_cc.append(round(cross_val_score(model5_cc, X_cc, y_cc, scoring='accuracy', cv=5).mean(),2))\n",
    "result_cc.append(round(cross_val_score(model6_cc, X_cc, y_cc, scoring='accuracy', cv=5).mean(),2))\n",
    "result_cc.append(round(cross_val_score(model7_cc, X_cc, y_cc, scoring='accuracy', cv=5).mean(),2))\n",
    "result_cc.append(round(cross_val_score(model8_cc, X_cc, y_cc, scoring='accuracy', cv=5).mean(),2))\n",
    "\n",
    "plt.xlabel(\"model number\")\n",
    "plt.ylabel(\"Kfold CV score(R2)\")\n",
    "plt.plot(result_cc)\n",
    "print(result_cc)"
   ]
  },
  {
   "cell_type": "markdown",
   "metadata": {},
   "source": [
    "# 3. Random Forest\n",
    "\n",
    "    - Decision-Tree를 개별모형으로 사용하는 모형결합 \n",
    "    \n",
    "    - Bagging 중 subspace 접근법 (Decision-Tree 대상)"
   ]
  },
  {
   "cell_type": "markdown",
   "metadata": {},
   "source": [
    "### Breast_Cancer 데이터 연습\n",
    "\n",
    "    - Random Forest 방식\n",
    "    - K=5 인 Cross Validation\n",
    "    - test 성능 확인(모형 결합 갯수에 따른)\n",
    "    "
   ]
  },
  {
   "cell_type": "code",
   "execution_count": 81,
   "metadata": {},
   "outputs": [
    {
     "name": "stdout",
     "output_type": "stream",
     "text": [
      "[0.92, 0.97, 0.96]\n"
     ]
    },
    {
     "data": {
      "image/png": "[encoded data removed]",
      "text/plain": [
       "<Figure size 432x288 with 1 Axes>"
      ]
     },
     "metadata": {
      "needs_background": "light"
     },
     "output_type": "display_data"
    }
   ],
   "source": [
    "# Random Forest 모델의 성능이 가장 높음\n",
    "\n",
    "from sklearn.ensemble import RandomForestClassifier\n",
    "from sklearn.ensemble import ExtraTreesClassifier\n",
    "\n",
    "model1_cc_ = DecisionTreeClassifier(max_depth=10, random_state=0).fit(X_cc, y_cc)\n",
    "model2_cc_ = RandomForestClassifier(max_depth=8, n_estimators=100, random_state=0).fit(X_cc, y_cc)\n",
    "model3_cc_ = ExtraTreesClassifier(max_depth=8, n_estimators=100, random_state=0).fit(X_cc, y_cc)\n",
    "\n",
    "from sklearn.model_selection import KFold\n",
    "from sklearn.model_selection import cross_val_score\n",
    "\n",
    "result_cc_ = []\n",
    "result_cc_.append(round(cross_val_score(model1_cc_, X_cc, y_cc, scoring='accuracy', cv=5).mean(),2))\n",
    "result_cc_.append(round(cross_val_score(model2_cc_, X_cc, y_cc, scoring='accuracy', cv=5).mean(),2))\n",
    "result_cc_.append(round(cross_val_score(model3_cc_, X_cc, y_cc, scoring='accuracy', cv=5).mean(),2))\n",
    "\n",
    "plt.xlabel(\"model number\")\n",
    "plt.ylabel(\"Kfold CV score(R2)\")\n",
    "plt.plot(result_cc_)\n",
    "print(result_cc_)"
   ]
  },
  {
   "cell_type": "code",
   "execution_count": 82,
   "metadata": {
    "scrolled": false
   },
   "outputs": [
    {
     "data": {
      "text/plain": [
       "array([0.05137085, 0.02224677, 0.06317007, 0.07895922, 0.01210732,\n",
       "       0.0124311 , 0.06063895, 0.06632594, 0.0043762 , 0.00413648,\n",
       "       0.01995869, 0.00273072, 0.02459884, 0.02379606, 0.00349276,\n",
       "       0.00435099, 0.0087521 , 0.00869424, 0.00334084, 0.00404549,\n",
       "       0.09203223, 0.0182322 , 0.09842327, 0.07931864, 0.01279314,\n",
       "       0.03213589, 0.03768656, 0.13001233, 0.01270762, 0.00713449])"
      ]
     },
     "execution_count": 82,
     "metadata": {},
     "output_type": "execute_result"
    }
   ],
   "source": [
    "model3_cc_.feature_importances_"
   ]
  },
  {
   "cell_type": "code",
   "execution_count": null,
   "metadata": {},
   "outputs": [],
   "source": []
  }
 ],
 "metadata": {
  "kernelspec": {
   "display_name": "Python 3",
   "language": "python",
   "name": "python3"
  },
  "language_info": {
   "codemirror_mode": {
    "name": "ipython",
    "version": 3
   },
   "file_extension": ".py",
   "mimetype": "text/x-python",
   "name": "python",
   "nbconvert_exporter": "python",
   "pygments_lexer": "ipython3",
   "version": "3.7.4"
  }
 },
 "nbformat": 4,
 "nbformat_minor": 2
}
