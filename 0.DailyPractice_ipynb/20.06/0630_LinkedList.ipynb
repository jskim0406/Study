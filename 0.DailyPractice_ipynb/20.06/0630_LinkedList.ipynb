{
 "cells": [
  {
   "cell_type": "markdown",
   "metadata": {},
   "source": [
    "# 1. Linked List 객체 생성\n",
    "\n",
    "    - class 생성 해 객체지향적 접근"
   ]
  },
  {
   "cell_type": "code",
   "execution_count": 66,
   "metadata": {},
   "outputs": [],
   "source": [
    "class Node:\n",
    "    def __init__(self,data,next=None):\n",
    "        self.data = data\n",
    "        self.next = next"
   ]
  },
  {
   "cell_type": "code",
   "execution_count": 67,
   "metadata": {},
   "outputs": [],
   "source": [
    "node1 = Node(1)"
   ]
  },
  {
   "cell_type": "code",
   "execution_count": 68,
   "metadata": {},
   "outputs": [
    {
     "name": "stdout",
     "output_type": "stream",
     "text": [
      "1\n",
      "None\n"
     ]
    }
   ],
   "source": [
    "print(node1.data,node1.next,sep='\\n')"
   ]
  },
  {
   "cell_type": "markdown",
   "metadata": {},
   "source": [
    "# 2. Linked List 객체 간 연결"
   ]
  },
  {
   "cell_type": "code",
   "execution_count": 69,
   "metadata": {},
   "outputs": [
    {
     "name": "stdout",
     "output_type": "stream",
     "text": [
      "None\n"
     ]
    }
   ],
   "source": [
    "print(node1.next)"
   ]
  },
  {
   "cell_type": "code",
   "execution_count": 70,
   "metadata": {},
   "outputs": [],
   "source": [
    "node1 = Node(1)\n",
    "node2 = Node(2)"
   ]
  },
  {
   "cell_type": "code",
   "execution_count": 71,
   "metadata": {},
   "outputs": [],
   "source": [
    "node1.next = node2"
   ]
  },
  {
   "cell_type": "code",
   "execution_count": 72,
   "metadata": {},
   "outputs": [
    {
     "name": "stdout",
     "output_type": "stream",
     "text": [
      "<__main__.Node object at 0x1a1a943a90>\n"
     ]
    }
   ],
   "source": [
    "print(node1.next)"
   ]
  },
  {
   "cell_type": "markdown",
   "metadata": {},
   "source": [
    "# 3. Linked List 객체 추가\n",
    "\n",
    "    - add 함수를 구현 (node 객체 추가 기능)\n",
    "    - 마지막 node에 추가해보기"
   ]
  },
  {
   "cell_type": "code",
   "execution_count": 73,
   "metadata": {},
   "outputs": [],
   "source": [
    "def add(data):\n",
    "    head = node1\n",
    "    node = head\n",
    "    while node.next:\n",
    "        node = node.next\n",
    "        \n",
    "    node.next = Node(data)"
   ]
  },
  {
   "cell_type": "code",
   "execution_count": 74,
   "metadata": {},
   "outputs": [
    {
     "name": "stdout",
     "output_type": "stream",
     "text": [
      "1\n",
      "2\n"
     ]
    }
   ],
   "source": [
    "head = node1\n",
    "node = head\n",
    "\n",
    "while node.next:\n",
    "    print(node.data)\n",
    "    node = node.next\n",
    "print(node.data)"
   ]
  },
  {
   "cell_type": "code",
   "execution_count": 75,
   "metadata": {},
   "outputs": [],
   "source": [
    "add(3)"
   ]
  },
  {
   "cell_type": "code",
   "execution_count": 76,
   "metadata": {},
   "outputs": [
    {
     "name": "stdout",
     "output_type": "stream",
     "text": [
      "1\n",
      "2\n",
      "3\n"
     ]
    }
   ],
   "source": [
    "head = node1\n",
    "node = head\n",
    "\n",
    "while node.next:\n",
    "    print(node.data)\n",
    "    node = node.next\n",
    "print(node.data)"
   ]
  },
  {
   "cell_type": "code",
   "execution_count": 77,
   "metadata": {},
   "outputs": [],
   "source": [
    "add(4)"
   ]
  },
  {
   "cell_type": "code",
   "execution_count": 78,
   "metadata": {},
   "outputs": [
    {
     "name": "stdout",
     "output_type": "stream",
     "text": [
      "1\n",
      "2\n",
      "3\n",
      "4\n"
     ]
    }
   ],
   "source": [
    "head = node1\n",
    "node = head\n",
    "\n",
    "while node.next:\n",
    "    print(node.data)\n",
    "    node = node.next\n",
    "print(node.data)"
   ]
  },
  {
   "cell_type": "markdown",
   "metadata": {},
   "source": [
    "# 4. node와 node 사이 객체 추가\n",
    "\n",
    "- 2.5를 2와 3사이 추가\n",
    "- add_mid 함수 구현"
   ]
  },
  {
   "cell_type": "code",
   "execution_count": 79,
   "metadata": {},
   "outputs": [
    {
     "name": "stdout",
     "output_type": "stream",
     "text": [
      "1\n",
      "2\n",
      "3\n",
      "4\n"
     ]
    }
   ],
   "source": [
    "head = node1\n",
    "node = head\n",
    "\n",
    "while node.next:\n",
    "    print(node.data)\n",
    "    node = node.next\n",
    "print(node.data)"
   ]
  },
  {
   "cell_type": "code",
   "execution_count": 80,
   "metadata": {},
   "outputs": [],
   "source": [
    "def add_mid(first_data,last_data,input_data):\n",
    "    head = node1\n",
    "    node = head\n",
    "    \n",
    "    # first번째 node 찾기 (잘못된 코드)\n",
    "#     while node.next:\n",
    "#         if idx == first:\n",
    "#             node_last = node.next  # 3의 위치를 기억(node_last)\n",
    "#             node.next = Node(data)  # 2.5를 2의 다음위치로 지정\n",
    "#             node.next.next = node_last  # 2.5의 다음위치로 3의 위치를 지정\n",
    "#         node = node.next\n",
    "#         idx += 1\n",
    "\n",
    "\n",
    "\n",
    "    # first_data node 찾기\n",
    "    while node.next:\n",
    "        if node.data == first_data:\n",
    "            node_last = node.next\n",
    "            node.next = Node(input_data)\n",
    "            node.next.next = node_last\n",
    "            \n",
    "        node = node.next"
   ]
  },
  {
   "cell_type": "code",
   "execution_count": 81,
   "metadata": {},
   "outputs": [
    {
     "name": "stdout",
     "output_type": "stream",
     "text": [
      "1\n",
      "2\n",
      "3\n",
      "4\n"
     ]
    }
   ],
   "source": [
    "head = node1\n",
    "node = head\n",
    "\n",
    "while node.next:\n",
    "    print(node.data)\n",
    "    node = node.next\n",
    "print(node.data)"
   ]
  },
  {
   "cell_type": "code",
   "execution_count": 82,
   "metadata": {},
   "outputs": [],
   "source": [
    "add_mid(2,3,2.5)"
   ]
  },
  {
   "cell_type": "code",
   "execution_count": 83,
   "metadata": {},
   "outputs": [
    {
     "name": "stdout",
     "output_type": "stream",
     "text": [
      "1\n",
      "2\n",
      "2.5\n",
      "3\n",
      "4\n"
     ]
    }
   ],
   "source": [
    "head = node1\n",
    "node = head\n",
    "\n",
    "while node.next:\n",
    "    print(node.data)\n",
    "    node = node.next\n",
    "print(node.data)"
   ]
  },
  {
   "cell_type": "code",
   "execution_count": 84,
   "metadata": {},
   "outputs": [],
   "source": [
    "add_mid(3,4,3.5)"
   ]
  },
  {
   "cell_type": "code",
   "execution_count": 85,
   "metadata": {},
   "outputs": [
    {
     "name": "stdout",
     "output_type": "stream",
     "text": [
      "1\n",
      "2\n",
      "2.5\n",
      "3\n",
      "3.5\n",
      "4\n"
     ]
    }
   ],
   "source": [
    "head = node1\n",
    "node = head\n",
    "\n",
    "while node.next:\n",
    "    print(node.data)\n",
    "    node = node.next\n",
    "print(node.data)"
   ]
  },
  {
   "cell_type": "markdown",
   "metadata": {},
   "source": [
    "# 5. 종합\n",
    "\n",
    "- 클래스 1 : 객체 생성\n",
    "- 클래스 2 : 추가, 순회출력 기능"
   ]
  },
  {
   "cell_type": "code",
   "execution_count": 102,
   "metadata": {},
   "outputs": [],
   "source": [
    "class Node:\n",
    "    def __init__(self,data,next=None):\n",
    "        self.data = data\n",
    "        self.next = next\n",
    "\n",
    "class Mgmt:\n",
    "    def __init__(self,data):\n",
    "        self.head = Node(data)\n",
    "\n",
    "    def add_node(self,data):\n",
    "        node = self.head\n",
    "        \n",
    "        while node.next:\n",
    "            node = node.next\n",
    "        node.next = Node(data)\n",
    "        \n",
    "    def desc(self):\n",
    "        node = self.head\n",
    "        \n",
    "        while node.next:\n",
    "            print(node.data,sep=' ',end=' ')\n",
    "            node = node.next\n",
    "\n",
    "        print(node.data,sep=' ',end=' ')"
   ]
  },
  {
   "cell_type": "code",
   "execution_count": 103,
   "metadata": {},
   "outputs": [],
   "source": [
    "testnode1 = Mgmt(1)"
   ]
  },
  {
   "cell_type": "code",
   "execution_count": 106,
   "metadata": {},
   "outputs": [],
   "source": [
    "for i in range(2,21):\n",
    "    testnode1.add_node(i)"
   ]
  },
  {
   "cell_type": "code",
   "execution_count": 107,
   "metadata": {},
   "outputs": [
    {
     "name": "stdout",
     "output_type": "stream",
     "text": [
      "1 2 3 4 5 6 7 8 9 10 2 3 4 5 6 7 8 9 10 11 12 13 14 15 16 17 18 19 20 "
     ]
    }
   ],
   "source": [
    "testnode1.desc()"
   ]
  },
  {
   "cell_type": "markdown",
   "metadata": {},
   "source": [
    "# 6. 특정 노드를 삭제\n",
    "\n",
    "- head노드 삭제 (경우 1)\n",
    "- 마지막노드 삭제 (경우 2)\n",
    "- 중간노드 삭제 (경우 3)"
   ]
  },
  {
   "cell_type": "code",
   "execution_count": 115,
   "metadata": {},
   "outputs": [],
   "source": [
    "class Node:\n",
    "    def __init__(self,data,next=None):\n",
    "        self.data = data\n",
    "        self.next = next\n",
    "\n",
    "class Mgmt:\n",
    "    def __init__(self,data):\n",
    "        self.head = Node(data)\n",
    "\n",
    "    def add_node(self,data):\n",
    "        node = self.head\n",
    "        \n",
    "        while node.next:\n",
    "            node = node.next\n",
    "        node.next = Node(data)\n",
    "        \n",
    "    def desc(self):\n",
    "        node = self.head\n",
    "        \n",
    "        while node.next:\n",
    "            print(node.data,sep=' ',end=' ')\n",
    "            node = node.next\n",
    "\n",
    "        print(node.data,sep=' ',end=' ')\n",
    "        \n",
    "    def delete(self,data):\n",
    "        # head node 삭제 경우\n",
    "        if self.head.data == data:\n",
    "            temp = self.head # 기존 헤드 임시보관\n",
    "            self.head == self.head.next # 헤드 변경\n",
    "            del temp # 헤드 삭제\n",
    "\n",
    "        # 중간 노드 삭제 경우\n",
    "        else:\n",
    "            node = self.head\n",
    "            while node.next:\n",
    "                if node.next.data == data:\n",
    "                    temp = node.next # 기존 연결정보 보관\n",
    "                    node.next = node.next.next # 연결정보 변경\n",
    "                    del temp # 변경 전 연결정보 삭제\n",
    "                    return\n",
    "                else: \n",
    "                    node = node.next\n",
    "\n",
    "            # 마지막 노드 삭제 경우\n",
    "            node = self.head\n",
    "            while node.next:\n",
    "                if node.next.data == data:\n",
    "                    temp = node.next # 기존 연결정보 보관\n",
    "                    node.next = None # 연결정보 변경\n",
    "                    del temp # 변경 전 연결정보 삭제\n",
    "                    return\n",
    "                else:\n",
    "                    node = node.next"
   ]
  },
  {
   "cell_type": "code",
   "execution_count": 116,
   "metadata": {},
   "outputs": [],
   "source": [
    "tnode1 = Mgmt(1)"
   ]
  },
  {
   "cell_type": "code",
   "execution_count": 117,
   "metadata": {},
   "outputs": [],
   "source": [
    "for i in range(2,21):\n",
    "    tnode1.add_node(i)"
   ]
  },
  {
   "cell_type": "code",
   "execution_count": 118,
   "metadata": {},
   "outputs": [
    {
     "name": "stdout",
     "output_type": "stream",
     "text": [
      "1 2 3 4 5 6 7 8 9 10 11 12 13 14 15 16 17 18 19 20 "
     ]
    }
   ],
   "source": [
    "tnode1.desc()"
   ]
  },
  {
   "cell_type": "code",
   "execution_count": 119,
   "metadata": {},
   "outputs": [],
   "source": [
    "tnode1.delete(10)"
   ]
  },
  {
   "cell_type": "code",
   "execution_count": 120,
   "metadata": {},
   "outputs": [
    {
     "name": "stdout",
     "output_type": "stream",
     "text": [
      "1 2 3 4 5 6 7 8 9 11 12 13 14 15 16 17 18 19 20 "
     ]
    }
   ],
   "source": [
    "tnode1.desc()"
   ]
  },
  {
   "cell_type": "code",
   "execution_count": 122,
   "metadata": {},
   "outputs": [],
   "source": [
    "tnode1.add_node(21)"
   ]
  },
  {
   "cell_type": "code",
   "execution_count": 124,
   "metadata": {},
   "outputs": [
    {
     "name": "stdout",
     "output_type": "stream",
     "text": [
      "1 2 3 4 5 6 7 8 9 11 12 13 14 15 16 17 18 19 20 21 "
     ]
    }
   ],
   "source": [
    "tnode1.desc()"
   ]
  }
 ],
 "metadata": {
  "kernelspec": {
   "display_name": "Python 3",
   "language": "python",
   "name": "python3"
  },
  "language_info": {
   "codemirror_mode": {
    "name": "ipython",
    "version": 3
   },
   "file_extension": ".py",
   "mimetype": "text/x-python",
   "name": "python",
   "nbconvert_exporter": "python",
   "pygments_lexer": "ipython3",
   "version": "3.7.4"
  }
 },
 "nbformat": 4,
 "nbformat_minor": 4
}
