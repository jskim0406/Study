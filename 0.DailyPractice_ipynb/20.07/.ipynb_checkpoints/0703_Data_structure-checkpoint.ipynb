{
 "cells": [
  {
   "cell_type": "markdown",
   "metadata": {},
   "source": [
    "# 5. 해쉬 테이블\n",
    "\n",
    "### 해쉬 구조\n",
    "* Hash Table: 키(Key)에 데이터(Value)를 저장하는 데이터 구조\n",
    "  - Key를 통해 바로 데이터를 받아올 수 있으므로, 속도가 획기적으로 빨라짐\n",
    "  - 파이썬 딕셔너리(Dictionary) 타입이 해쉬 테이블의 예: Key를 가지고 바로 데이터(Value)를 꺼냄\n",
    "  - 보통 배열로 미리 Hash Table 사이즈만큼 생성 후에 사용 (공간과 탐색 시간을 맞바꾸는 기법)\n",
    "  - <font color='#BF360C'>단, 파이썬에서는 해쉬를 별도 구현할 이유가 없음 - 딕셔너리 타입을 사용하면 됨</font>\n",
    "  \n",
    "### 알아둘 용어\n",
    "* 해쉬(Hash): 임의 값을 고정 길이로 변환하는 것\n",
    "* 해쉬 테이블(Hash Table): 키 값의 연산에 의해 직접 접근이 가능한 데이터 구조\n",
    "* 해싱 함수(Hashing Function): Key에 대해 산술 연산을 이용해 데이터 위치를 찾을 수 있는 함수\n",
    "* 해쉬 값(Hash Value) 또는 해쉬 주소(Hash Address): Key를 해싱 함수로 연산해서, 해쉬 값을 알아내고, 이를 기반으로 해쉬 테이블에서 해당 Key에 대한 데이터 위치를 일관성있게 찾을 수 있음\n",
    "* 슬롯(Slot): 한 개의 데이터를 저장할 수 있는 공간\n",
    "* 저장할 데이터에 대해 Key를 추출할 수 있는 별도 함수도 존재할 수 있음\n",
    "<img src=\"https://www.fun-coding.org/00_Images/hash.png\" width=400 />\n",
    "\n",
    "### 자료 구조 해쉬 테이블의 장단점과 주요 용도\n",
    "- 장점\n",
    "  - 데이터 저장/읽기 속도가 빠르다. (검색 속도가 빠르다.)\n",
    "  - 해쉬는 키에 대한 데이터가 있는지(중복) 확인이 쉬움\n",
    "- 단점 \n",
    "  - 일반적으로 저장공간이 좀더 많이 필요하다.\n",
    "  - **여러 키에 해당하는 주소가 동일할 경우 충돌을 해결하기 위한 별도 자료구조가 필요함**\n",
    "- 주요 용도\n",
    "  - 검색이 많이 필요한 경우\n",
    "  - 저장, 삭제, 읽기가 빈번한 경우\n",
    "  - 캐쉬 구현시 (중복 확인이 쉽기 때문)"
   ]
  },
  {
   "cell_type": "markdown",
   "metadata": {},
   "source": [
    "### 1) hash table 만들기"
   ]
  },
  {
   "cell_type": "code",
   "execution_count": 1,
   "metadata": {},
   "outputs": [
    {
     "data": {
      "text/plain": [
       "[0, 0, 0, 0, 0, 0, 0, 0, 0, 0]"
      ]
     },
     "execution_count": 1,
     "metadata": {},
     "output_type": "execute_result"
    }
   ],
   "source": [
    "hash_table = [0 for i in range(10)]\n",
    "hash_table"
   ]
  },
  {
   "cell_type": "markdown",
   "metadata": {},
   "source": [
    "### 2) hash function 만들기\n",
    "- 다양한 해쉬 함수 고안 기법이 있음 \n",
    "- 가장 간단한 방식이 Division 법 (나누기를 통한 나머지 값을 사용하는 기법)"
   ]
  },
  {
   "cell_type": "code",
   "execution_count": 3,
   "metadata": {},
   "outputs": [],
   "source": [
    "# hash function 역할 : key -> hash value(address = key%5)\n",
    "\n",
    "def hash_function(key):\n",
    "    return key%5"
   ]
  },
  {
   "cell_type": "markdown",
   "metadata": {},
   "source": [
    "### 3) hash table에 값 저장 및 호출"
   ]
  },
  {
   "cell_type": "markdown",
   "metadata": {},
   "source": [
    "#### 3-1) key 생성 : key-generating function 활용\n",
    "\n"
   ]
  },
  {
   "cell_type": "code",
   "execution_count": 4,
   "metadata": {},
   "outputs": [],
   "source": [
    "data1 = 'Andy'\n",
    "data2 = 'Dave'\n",
    "data3 = 'Trumph'"
   ]
  },
  {
   "cell_type": "code",
   "execution_count": 7,
   "metadata": {},
   "outputs": [
    {
     "data": {
      "text/plain": [
       "65"
      ]
     },
     "execution_count": 7,
     "metadata": {},
     "output_type": "execute_result"
    }
   ],
   "source": [
    "# 각 data(문자)자체를 key로 쓰지 않고, 각각을 특정한 함수를 적용, 변환해 key로 생성\n",
    "# 문자이기 때문에, ASCII코드로 변환해 key로 사용할 것\n",
    "\n",
    "key1 = ord(data1[0])\n",
    "key1"
   ]
  },
  {
   "cell_type": "markdown",
   "metadata": {},
   "source": [
    "#### 3-2) 데이터 저장 : data -> key -> function -> hash value(address)생성 -> address에 value를 저장"
   ]
  },
  {
   "cell_type": "code",
   "execution_count": 10,
   "metadata": {},
   "outputs": [],
   "source": [
    "def store_data(data,value):\n",
    "    key = ord(data[0])\n",
    "    address = hash_function(key)\n",
    "    hash_table[address] = value"
   ]
  },
  {
   "cell_type": "code",
   "execution_count": 12,
   "metadata": {},
   "outputs": [],
   "source": [
    "store_data('Andy', '01055553333')\n",
    "store_data('Dave', '01044443333')\n",
    "store_data('Trump', '01022223333')"
   ]
  },
  {
   "cell_type": "markdown",
   "metadata": {},
   "source": [
    "#### 3-3) 데이터 호출"
   ]
  },
  {
   "cell_type": "code",
   "execution_count": 13,
   "metadata": {},
   "outputs": [],
   "source": [
    "def call_value(data):\n",
    "    key = ord(data[0])\n",
    "    address = hash_function(key)\n",
    "    print(hash_table[address])"
   ]
  },
  {
   "cell_type": "code",
   "execution_count": 15,
   "metadata": {},
   "outputs": [
    {
     "name": "stdout",
     "output_type": "stream",
     "text": [
      "01055553333\n"
     ]
    }
   ],
   "source": [
    "call_value('Andy')"
   ]
  },
  {
   "cell_type": "markdown",
   "metadata": {},
   "source": [
    "### 4) Practice\n",
    "\n",
    "1. 해쉬 키 생성: hash(data)\n",
    "2. 해쉬 함수: key % 8"
   ]
  },
  {
   "cell_type": "code",
   "execution_count": 17,
   "metadata": {},
   "outputs": [
    {
     "data": {
      "text/plain": [
       "[0, 0, 0, 0, 0, 0, 0, 0, 0, 0]"
      ]
     },
     "execution_count": 17,
     "metadata": {},
     "output_type": "execute_result"
    }
   ],
   "source": [
    "hash_table = [0 for i in range(10)]\n",
    "hash_table"
   ]
  },
  {
   "cell_type": "markdown",
   "metadata": {},
   "source": [
    "#### 4-1) key 생성함수 및 hash_function 정의"
   ]
  },
  {
   "cell_type": "code",
   "execution_count": null,
   "metadata": {},
   "outputs": [],
   "source": [
    "def get_key(data):\n",
    "    return hash(data)"
   ]
  },
  {
   "cell_type": "code",
   "execution_count": 19,
   "metadata": {},
   "outputs": [],
   "source": [
    "def hash_function(key):\n",
    "    return key%8"
   ]
  },
  {
   "cell_type": "code",
   "execution_count": 20,
   "metadata": {},
   "outputs": [
    {
     "data": {
      "text/plain": [
       "5265506647170875031"
      ]
     },
     "execution_count": 20,
     "metadata": {},
     "output_type": "execute_result"
    }
   ],
   "source": [
    "get_key('dave')"
   ]
  },
  {
   "cell_type": "markdown",
   "metadata": {},
   "source": [
    "#### 4-2) 저장 및 호출 함수 구현"
   ]
  },
  {
   "cell_type": "code",
   "execution_count": 24,
   "metadata": {},
   "outputs": [],
   "source": [
    "def store_to_slot(data,value):\n",
    "    address = hash_function(get_key(data))\n",
    "    hash_table[address] = value"
   ]
  },
  {
   "cell_type": "code",
   "execution_count": 25,
   "metadata": {},
   "outputs": [],
   "source": [
    "def read_from_slot(data):\n",
    "    address = hash_function(get_key(data))\n",
    "    return hash_table[address]"
   ]
  },
  {
   "cell_type": "markdown",
   "metadata": {},
   "source": [
    "#### 4-3) Test"
   ]
  },
  {
   "cell_type": "code",
   "execution_count": 29,
   "metadata": {},
   "outputs": [],
   "source": [
    "store_to_slot('dave',12345)\n",
    "store_to_slot('spring',21053)\n",
    "store_to_slot('fall',32345)\n",
    "store_to_slot('summer',42345)"
   ]
  },
  {
   "cell_type": "code",
   "execution_count": 30,
   "metadata": {},
   "outputs": [
    {
     "data": {
      "text/plain": [
       "12345"
      ]
     },
     "execution_count": 30,
     "metadata": {},
     "output_type": "execute_result"
    }
   ],
   "source": [
    "read_from_slot('dave')"
   ]
  },
  {
   "cell_type": "code",
   "execution_count": 31,
   "metadata": {},
   "outputs": [
    {
     "data": {
      "text/plain": [
       "[0, 21053, 42345, 0, 0, 32345, 0, 12345, 0, 0]"
      ]
     },
     "execution_count": 31,
     "metadata": {},
     "output_type": "execute_result"
    }
   ],
   "source": [
    "hash_table"
   ]
  },
  {
   "cell_type": "markdown",
   "metadata": {},
   "source": [
    "### 5) 충돌(collision)을 고려한 해쉬 알고리즘\n",
    "\n",
    "\n",
    "- 충돌(collision) : address가 같아 저장 내용이 서로 '충돌'하는 것\n",
    "\n",
    "\n",
    "- **다른 저장 공간을 찾아줘야 함**\n",
    "    \n",
    "    \n",
    "        1. 수평적 방향 (chaining 기법, open hasing) : hash_table의 뒤에 추가로 리스트(링크드 리스트) 연결시켜 공간 창출\n",
    "        2. 수직적 방향 (linear probing 기법, close hasing) : 기존 hash_table 내 빈 공간에 저장"
   ]
  },
  {
   "cell_type": "markdown",
   "metadata": {},
   "source": [
    "#### 5-1) Chaining 기법\n",
    "\n",
    "- 수평적 방향 (chaining 기법, open hasing) : hash_table의 뒤에 추가로 리스트(링크드 리스트) 연결시켜 공간 창출"
   ]
  },
  {
   "cell_type": "markdown",
   "metadata": {},
   "source": [
    "**hash_table생성, key생성, hash_function 정의, 저장 def, read def**"
   ]
  },
  {
   "cell_type": "code",
   "execution_count": 8,
   "metadata": {},
   "outputs": [],
   "source": [
    "hash_table = [0 for i in range(8)]\n",
    "\n",
    "def get_key(data):\n",
    "    return hash(data)\n",
    "\n",
    "def hash_function(key):\n",
    "    return key%8\n",
    "\n",
    "def save_data(data,value):\n",
    "    index_key = get_key(data)\n",
    "    address = hash_function(index_key)\n",
    "    \n",
    "    # 만약, slot이 차있다면, 충돌 방지를 위해 수평적 공간 추가해주기\n",
    "    if hash_table[address] != 0:\n",
    "        \n",
    "        # 만약 같은 key인 slot이 있다면, update해주기\n",
    "        for i in range(len(hash_table[address])):\n",
    "            if hash_table[address][i][0] == index_key:\n",
    "                hash_table[address][i][1] = value\n",
    "                return\n",
    "        \n",
    "        # 같은 키 slot이 없다면, 추가로 공간 할당 + 저장해주기\n",
    "            hash_table[address].append([index_key,value])\n",
    "\n",
    "    # 만약, slot이 비어있다면, 바로 채우기\n",
    "    else:\n",
    "        hash_table[address] = [[index_key,value]]\n",
    "         \n",
    "            \n",
    "def read_data(data):\n",
    "    index_key = get_key(data)\n",
    "    address = hash_function(index_key)\n",
    "    \n",
    "    # 만약, slot이 차있다면, 수평적 탐색하며 key가 같으면 value반환, 없다면 none 반환\n",
    "    if hash_table[address] != 0:\n",
    "        for i in range(len(hash_table[address])):\n",
    "            if hash_table[address][i][0] == index_key:\n",
    "                return hash_table[address][i][1]\n",
    "        return None\n",
    "\n",
    "    # 만약, slot이 비어있다면, 없다는 것이니까 none 반환\n",
    "    else:\n",
    "        return None"
   ]
  },
  {
   "cell_type": "code",
   "execution_count": 28,
   "metadata": {},
   "outputs": [
    {
     "name": "stdout",
     "output_type": "stream",
     "text": [
      "6\n",
      "6\n"
     ]
    }
   ],
   "source": [
    "print (hash('dk') % 8)\n",
    "print (hash('ddf') % 8)"
   ]
  },
  {
   "cell_type": "code",
   "execution_count": 29,
   "metadata": {},
   "outputs": [],
   "source": [
    "save_data('dk', '01200123123')\n",
    "save_data('da', '3333333333')\n",
    "save_data('ddf', '4333433334')"
   ]
  },
  {
   "cell_type": "code",
   "execution_count": 30,
   "metadata": {},
   "outputs": [
    {
     "data": {
      "text/plain": [
       "'01200123123'"
      ]
     },
     "execution_count": 30,
     "metadata": {},
     "output_type": "execute_result"
    }
   ],
   "source": [
    "read_data('dk')"
   ]
  },
  {
   "cell_type": "code",
   "execution_count": 31,
   "metadata": {},
   "outputs": [
    {
     "data": {
      "text/plain": [
       "'4333433334'"
      ]
     },
     "execution_count": 31,
     "metadata": {},
     "output_type": "execute_result"
    }
   ],
   "source": [
    "read_data('ddf')"
   ]
  },
  {
   "cell_type": "markdown",
   "metadata": {},
   "source": [
    "**'dk'와 'ddf'는 address가 같아, 충돌이 예상되지만, chaining 기법으로 이를 해결해냈음을 확인할 수 있다**"
   ]
  },
  {
   "cell_type": "markdown",
   "metadata": {},
   "source": [
    "#### 5-2) Linear probing 기법\n",
    "\n",
    "- 수직적 방향 (linear probing 기법, close hasing) : 기존 hash_table 내 빈 공간에 저장"
   ]
  },
  {
   "cell_type": "markdown",
   "metadata": {},
   "source": [
    "**hash_table생성, key생성, hash_function 정의, 저장 def, read def**"
   ]
  },
  {
   "cell_type": "code",
   "execution_count": 36,
   "metadata": {},
   "outputs": [],
   "source": [
    "hash_table = [0 for i in range(8)]\n",
    "\n",
    "def get_key(data):\n",
    "    return hash(data)\n",
    "\n",
    "def hash_function(key):\n",
    "    return key%8\n",
    "\n",
    "def save_data(data,value):\n",
    "    index_key = get_key(data)\n",
    "    address = hash_function(index_key)\n",
    "    \n",
    "    # 만약, slot이 차있다면, 충돌 방지를 위해 수직적 탐색하며 빈 slot에 저장하기\n",
    "    if hash_table[address] != 0:\n",
    "        \n",
    "        # 만약 같은 key인 slot이 있다면, update해주기\n",
    "        for i in range(address,len(hash_table)):\n",
    "            if hash_table[i] != 0:\n",
    "                if hash_table[i][0] == index_key:\n",
    "                    hash_table[i][1] = value\n",
    "                    return\n",
    "                \n",
    "        # 같은 키 slot이 없다면, 기존의 공간 중 빈 공간에 저장해주기\n",
    "            else:\n",
    "                hash_table[i] = [index_key,value]\n",
    "    # 만약, slot이 비어있다면, 그대로 저장\n",
    "    else:            \n",
    "        hash_table[address] = [index_key,value]\n",
    "            \n",
    "            \n",
    "def read_data(data):\n",
    "    index_key = get_key(data)\n",
    "    address = hash_function(index_key)\n",
    "    \n",
    "    # 만약, slot이 차있다면, 수직적 탐색하며 key가 같으면 value반환, 없다면 none 반환\n",
    "    if hash_table[address] != 0:\n",
    "        for i in range(address,len(hash_table)):\n",
    "            if hash_table[i][0] == index_key:\n",
    "                return hash_table[i][1]\n",
    "            \n",
    "            elif hash_table[i][0] == 0:\n",
    "                return None\n",
    "        return None\n",
    "\n",
    "    # 만약, slot이 비어있다면, 없다는 것이니까 none 반환\n",
    "    else:\n",
    "        return None"
   ]
  },
  {
   "cell_type": "code",
   "execution_count": 37,
   "metadata": {},
   "outputs": [
    {
     "name": "stdout",
     "output_type": "stream",
     "text": [
      "6\n",
      "6\n"
     ]
    }
   ],
   "source": [
    "print (hash('dk') % 8)\n",
    "print (hash('ddf') % 8)"
   ]
  },
  {
   "cell_type": "code",
   "execution_count": 38,
   "metadata": {},
   "outputs": [],
   "source": [
    "save_data('dk', '01200123123')\n",
    "save_data('da', '3333333333')\n",
    "save_data('ddf', '4333433334')"
   ]
  },
  {
   "cell_type": "code",
   "execution_count": 39,
   "metadata": {},
   "outputs": [
    {
     "data": {
      "text/plain": [
       "'01200123123'"
      ]
     },
     "execution_count": 39,
     "metadata": {},
     "output_type": "execute_result"
    }
   ],
   "source": [
    "read_data('dk')"
   ]
  },
  {
   "cell_type": "code",
   "execution_count": 40,
   "metadata": {},
   "outputs": [
    {
     "data": {
      "text/plain": [
       "'4333433334'"
      ]
     },
     "execution_count": 40,
     "metadata": {},
     "output_type": "execute_result"
    }
   ],
   "source": [
    "read_data('ddf')"
   ]
  },
  {
   "cell_type": "markdown",
   "metadata": {},
   "source": [
    "**'dk'와 'ddf'는 address가 같아, 충돌이 예상되지만, linear probing 기법으로 이를 해결해냈음을 확인할 수 있다**"
   ]
  }
 ],
 "metadata": {
  "kernelspec": {
   "display_name": "Python 3",
   "language": "python",
   "name": "python3"
  },
  "language_info": {
   "codemirror_mode": {
    "name": "ipython",
    "version": 3
   },
   "file_extension": ".py",
   "mimetype": "text/x-python",
   "name": "python",
   "nbconvert_exporter": "python",
   "pygments_lexer": "ipython3",
   "version": "3.7.4"
  }
 },
 "nbformat": 4,
 "nbformat_minor": 4
}
