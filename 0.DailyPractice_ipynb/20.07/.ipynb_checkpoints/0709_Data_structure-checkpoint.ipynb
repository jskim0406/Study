{
 "cells": [
  {
   "cell_type": "markdown",
   "metadata": {},
   "source": [
    "# 힙 자료구조 복습\n",
    "\n",
    "```\n",
    "\n",
    "[노드 클래스 생성]\n",
    "\n",
    "    - 배열(리스트) 자료구조 활용\n",
    "    - 완전 이진 트리 구조 : .append 로 삽입. 최하단 왼쪽 노드부터 채워나가는 구조\n",
    "    - 힙 구조 : 최대힙, 최소힙\n",
    "        - 최대힙 : 부모노드가 항상 자식노드들 보다는 큰 힙 구조. 검색 시, root노드가 최대값\n",
    "        - 최소힙 : 부모노드가 항상 자식노드들 보다는 작읍 힙 구조. 검색 시, root노드가 최소값\n",
    "        \n",
    "    - 삽입\n",
    "        1) .append로 완전이진트리에 맞게 insert\n",
    "        2) move_up 함수 적용 -> 현 노드 vs 부모노드 비교로 최대힙 구조에 맞게 판단(T/F return)\n",
    "        3) swap + index 변경\n",
    "    \n",
    "    - 삭제\n",
    "        1) root노드 삭제 (popped index = 1) => returned_data = root노드, del root노드\n",
    "        2) move(last -> root)\n",
    "        3) move_down 함수 적용 -> 현 노드 vs 자식노드들 중 큰 노드 비교로 최대힙 구조에 맞게 판단(T/F return)\n",
    "        \n",
    "            ㄱ. 자식노드가 왼쪽도 없을 때\n",
    "            ㄴ. 자식노드가 왼쪽만 있을 때\n",
    "            ㄷ. 자식노드가 둘 다 있을 때\n",
    "            \n",
    "        4) swap + index 변경\n",
    "        \n",
    "            ㄱ. 자식노드가 왼쪽도 없을 때\n",
    "            ㄴ. 자식노드가 왼쪽만 있을 때\n",
    "            ㄷ. 자식노드가 둘 다 있을 때\n",
    "```\n"
   ]
  },
  {
   "cell_type": "code",
   "execution_count": 20,
   "metadata": {},
   "outputs": [],
   "source": [
    "class Heap:\n",
    "    def __init__(self,data):\n",
    "        self.heap_array = list()\n",
    "        self.heap_array.append(None)\n",
    "        self.heap_array.append(data)\n",
    "        \n",
    "    def move_up(self,index_inserted):\n",
    "        if index_inserted <= 1:\n",
    "            return False\n",
    "        \n",
    "        if self.heap_array[index_inserted] > self.heap_array[index_inserted//2]:\n",
    "            return True\n",
    "        else:\n",
    "            return False\n",
    "\n",
    "    def insert(self,data):\n",
    "        \n",
    "#         1) .append로 완전이진트리에 맞게 insert\n",
    "        self.heap_array.append(data)\n",
    "    \n",
    "#         2) move_up 함수 적용 -> 현 노드 vs 부모노드 비교로 최대힙 구조에 맞게 판단(T/F return)\n",
    "#         3) swap + index 변경     \n",
    "        index_inserted = len(self.heap_array) - 1\n",
    "    \n",
    "        while self.move_up(index_inserted):\n",
    "\n",
    "            self.heap_array[index_inserted],self.heap_array[index_inserted//2]=self.heap_array[index_inserted//2],self.heap_array[index_inserted]\n",
    "            index_inserted = index_inserted//2\n",
    "\n",
    "          \n",
    "    def move_down(self,popped_index):\n",
    "        \n",
    "        # 자식노드가 왼쪽도 없을 떄 = 터미널 노드일 때\n",
    "        if popped_index*2 >= len(self.heap_array):\n",
    "            return False\n",
    "        \n",
    "        # 자식노드가 왼쪽만 있을 때\n",
    "        elif popped_index*2 + 1 >= len(self.heap_array):\n",
    "            if self.heap_array[popped_index*2] > self.heap_array[popped_index]:\n",
    "                return True\n",
    "            else:\n",
    "                return False\n",
    "        # 자식노드가 둘 다 있을 때    \n",
    "        else:\n",
    "            # 왼쪽 노드가 클 때\n",
    "            if self.heap_array[popped_index*2] > self.heap_array[popped_index*2+1]:\n",
    "                if self.heap_array[popped_index*2] > self.heap_array[popped_index]:\n",
    "                    return True\n",
    "                else:\n",
    "                    return False\n",
    "            else:\n",
    "                if self.heap_array[popped_index*2+1] > self.heap_array[popped_index]:\n",
    "                    return True\n",
    "                else:\n",
    "                    return False\n",
    "            \n",
    "    def pop(self):\n",
    "        \n",
    "        popped_index = 1\n",
    "        returned_data = self.heap_array[1] # 20, self.heap_array[1]\n",
    "        self.heap_array[1] = self.heap_array[-1] # move last to root\n",
    "        del self.heap_array[-1]\n",
    "        \n",
    "        while self.move_down(popped_index):\n",
    "            if popped_index*2 >= len(self.heap_array):\n",
    "                return True\n",
    "\n",
    "            # 자식노드가 왼쪽만 있을 때\n",
    "            if popped_index*2 + 1 >= len(self.heap_array):\n",
    "                if self.heap_array[popped_index*2] > self.heap_array[popped_index]:\n",
    "                    self.heap_array[popped_index*2],self.heap_array[popped_index]=self.heap_array[popped_index],self.heap_array[popped_index*2]\n",
    "                    popped_index = popped_index*2\n",
    "                \n",
    "                else:\n",
    "                    return True\n",
    "            # 자식노드가 둘 다 있을 때    \n",
    "            else:\n",
    "                # 왼쪽 노드가 클 때\n",
    "                if self.heap_array[popped_index*2] > self.heap_array[popped_index*2+1]:\n",
    "                    if self.heap_array[popped_index*2] > self.heap_array[popped_index]:\n",
    "                        self.heap_array[popped_index*2],self.heap_array[popped_index]=self.heap_array[popped_index],self.heap_array[popped_index*2]\n",
    "                        popped_index = popped_index*2\n",
    "                    else:\n",
    "                        return True\n",
    "\n",
    "                else:\n",
    "                    if self.heap_array[popped_index*2+1] > self.heap_array[popped_index]:\n",
    "                        self.heap_array[popped_index*2+1],self.heap_array[popped_index]=self.heap_array[popped_index],self.heap_array[popped_index*2+1]\n",
    "                        popped_index = popped_index*2+1\n",
    "                    else:\n",
    "                        return True\n",
    "                    \n",
    "        return returned_data\n",
    "            "
   ]
  },
  {
   "cell_type": "code",
   "execution_count": 24,
   "metadata": {},
   "outputs": [
    {
     "data": {
      "text/plain": [
       "[None, 20, 10, 15, 5, 4, 8]"
      ]
     },
     "execution_count": 24,
     "metadata": {},
     "output_type": "execute_result"
    }
   ],
   "source": [
    "heap = Heap(15)\n",
    "heap.insert(10)\n",
    "heap.insert(8)\n",
    "heap.insert(5)\n",
    "heap.insert(4)\n",
    "heap.insert(20)\n",
    "heap.heap_array"
   ]
  },
  {
   "cell_type": "code",
   "execution_count": 25,
   "metadata": {},
   "outputs": [
    {
     "data": {
      "text/plain": [
       "20"
      ]
     },
     "execution_count": 25,
     "metadata": {},
     "output_type": "execute_result"
    }
   ],
   "source": [
    "heap.pop()"
   ]
  },
  {
   "cell_type": "code",
   "execution_count": 26,
   "metadata": {},
   "outputs": [
    {
     "data": {
      "text/plain": [
       "[None, 15, 10, 8, 5, 4]"
      ]
     },
     "execution_count": 26,
     "metadata": {},
     "output_type": "execute_result"
    }
   ],
   "source": [
    "heap.heap_array"
   ]
  },
  {
   "cell_type": "code",
   "execution_count": null,
   "metadata": {},
   "outputs": [],
   "source": []
  },
  {
   "cell_type": "code",
   "execution_count": null,
   "metadata": {},
   "outputs": [],
   "source": [
    "5\n",
    "1 1\n",
    "2 3\n",
    "3 4\n",
    "9 8\n",
    "5 2"
   ]
  },
  {
   "cell_type": "code",
   "execution_count": null,
   "metadata": {},
   "outputs": [],
   "source": [
    "# a = int(input())\n",
    "\n",
    "# for i in range(1,10):\n",
    "#     print('{} * {} = {}'.format(a,i,a*i))"
   ]
  },
  {
   "cell_type": "code",
   "execution_count": 34,
   "metadata": {},
   "outputs": [
    {
     "name": "stdout",
     "output_type": "stream",
     "text": [
      "5\n",
      "1 1\n",
      "2 3\n",
      "3 4\n",
      "9 8\n",
      "5 2\n",
      "2\n",
      "5\n",
      "7\n",
      "17\n",
      "7\n"
     ]
    }
   ],
   "source": [
    "t = input()\n",
    "t = int(t)\n",
    "result = []\n",
    "for i in range(t):\n",
    "    a,b = input().split(' ')\n",
    "    a = int(a)\n",
    "    b = int(b)\n",
    "    result.append(a+b)\n",
    "    \n",
    "for i in range(t):\n",
    "    print(result[i])"
   ]
  },
  {
   "cell_type": "code",
   "execution_count": 37,
   "metadata": {},
   "outputs": [
    {
     "name": "stdout",
     "output_type": "stream",
     "text": [
      "3\n",
      "6\n"
     ]
    }
   ],
   "source": [
    "n = int(input())\n",
    "summation = 0\n",
    "for i in range(1,n+1):\n",
    "    summation += i\n",
    "\n",
    "print(summation)"
   ]
  },
  {
   "cell_type": "code",
   "execution_count": null,
   "metadata": {},
   "outputs": [],
   "source": [
    "5\n",
    "1 1\n",
    "12 34\n",
    "5 500\n",
    "40 60\n",
    "1000 1000"
   ]
  },
  {
   "cell_type": "code",
   "execution_count": 81,
   "metadata": {},
   "outputs": [
    {
     "name": "stdout",
     "output_type": "stream",
     "text": [
      "5\n"
     ]
    }
   ],
   "source": [
    "import sys\n",
    "\n",
    "n = int(input())\n",
    "\n",
    "a = [sys.stdin for _ in range(n)]\n",
    "\n",
    "  \n",
    "for _ in range(n):\n",
    "    print()"
   ]
  },
  {
   "cell_type": "code",
   "execution_count": 82,
   "metadata": {},
   "outputs": [],
   "source": [
    "a = [sys.stdin.readline() for _ in range(n)]"
   ]
  },
  {
   "cell_type": "code",
   "execution_count": 83,
   "metadata": {},
   "outputs": [
    {
     "data": {
      "text/plain": [
       "['', '', '', '', '']"
      ]
     },
     "execution_count": 83,
     "metadata": {},
     "output_type": "execute_result"
    }
   ],
   "source": [
    "a"
   ]
  },
  {
   "cell_type": "code",
   "execution_count": null,
   "metadata": {},
   "outputs": [],
   "source": []
  },
  {
   "cell_type": "code",
   "execution_count": null,
   "metadata": {},
   "outputs": [],
   "source": []
  },
  {
   "cell_type": "code",
   "execution_count": null,
   "metadata": {},
   "outputs": [],
   "source": []
  },
  {
   "cell_type": "code",
   "execution_count": null,
   "metadata": {},
   "outputs": [],
   "source": []
  },
  {
   "cell_type": "code",
   "execution_count": null,
   "metadata": {},
   "outputs": [],
   "source": []
  },
  {
   "cell_type": "code",
   "execution_count": null,
   "metadata": {},
   "outputs": [],
   "source": []
  },
  {
   "cell_type": "code",
   "execution_count": null,
   "metadata": {},
   "outputs": [],
   "source": []
  },
  {
   "cell_type": "code",
   "execution_count": null,
   "metadata": {},
   "outputs": [],
   "source": []
  }
 ],
 "metadata": {
  "kernelspec": {
   "display_name": "Python 3",
   "language": "python",
   "name": "python3"
  },
  "language_info": {
   "codemirror_mode": {
    "name": "ipython",
    "version": 3
   },
   "file_extension": ".py",
   "mimetype": "text/x-python",
   "name": "python",
   "nbconvert_exporter": "python",
   "pygments_lexer": "ipython3",
   "version": "3.7.4"
  }
 },
 "nbformat": 4,
 "nbformat_minor": 4
}
