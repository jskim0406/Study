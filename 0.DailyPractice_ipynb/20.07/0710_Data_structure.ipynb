{
 "cells": [
  {
   "cell_type": "markdown",
   "metadata": {},
   "source": [
    "#### 5.1. 노드 클래스 만들기"
   ]
  },
  {
   "cell_type": "code",
   "execution_count": 4,
   "metadata": {},
   "outputs": [],
   "source": [
    "class Node:\n",
    "    def __init__(self,data):\n",
    "        self.value = data\n",
    "        self.right = None\n",
    "        self.left = None"
   ]
  },
  {
   "cell_type": "markdown",
   "metadata": {},
   "source": [
    "#### 5.2. 이진 탐색 트리에 데이터 넣기\n",
    "* 이진 탐색 트리 조건에 부합하게 데이터를 넣어야 함\n",
    "- method : insert, search\n",
    "\n",
    "    - insert\n",
    "        - 만약 현재 노드 value보다 작으면 왼쪽에, 아니면 오른쪽에\n",
    "        - 대신, \n",
    "\n",
    "\n",
    "```\n",
    "                                    왼쪽 빔 => 채우기\n",
    "                    value가 작다      왼쪽 참 => cur = cur.left => 1. current vs value로 다시 돌아가 반복\n",
    "1. current vs value                \n",
    "                    value가 크다      오른쪽 빔 => 채우기\n",
    "                                    오른쪽 참 => cur = cur.right => 1. current vs value로 다시 돌아가 반복\n",
    "```\n"
   ]
  },
  {
   "cell_type": "code",
   "execution_count": 152,
   "metadata": {},
   "outputs": [],
   "source": [
    "class Mgmt:\n",
    "    def __init__(self,data):\n",
    "        self.head = data\n",
    "        \n",
    "    def insert(self,data):\n",
    "        \n",
    "        self.current_node = self.head\n",
    "        \n",
    "        while True:\n",
    "            if self.current_node.value > data:\n",
    "                if self.current_node.left == None:\n",
    "                    self.current_node.left = Node(data)\n",
    "                    break\n",
    "                else:\n",
    "                    self.current_node = self.current_node.left\n",
    "            \n",
    "            else:\n",
    "                if self.current_node.right == None:\n",
    "                    self.current_node.right = Node(data)\n",
    "                    break\n",
    "                else:\n",
    "                    self.current_node = self.current_node.right\n",
    "                    \n",
    "                    \n",
    "    def search(self,data):\n",
    "        \n",
    "        self.current_node = self.head\n",
    "        \n",
    "        while self.current_node:\n",
    "            if self.current_node.value == data:\n",
    "                return True\n",
    "            elif self.current_node.value > data:\n",
    "                self.current_node = self.current_node.left\n",
    "            else:\n",
    "                self.current_node = self.current_node.right\n",
    "                    \n",
    "        return False\n",
    "        \n",
    "        \n",
    "    def delete(self,data):\n",
    "\n",
    "        searched = False\n",
    "        self.current_node = self.head\n",
    "        self.parent_node = self.head\n",
    "\n",
    "        # 일단 삭제할 노드 탐색\n",
    "        while self.current_node:\n",
    "            if self.current_node.value == data:\n",
    "                searched = True\n",
    "                break\n",
    "            else:\n",
    "                if self.current_node.value > data:\n",
    "                    self.parent_node = self.current_node\n",
    "                    self.current_node = self.current_node.left\n",
    "                else:\n",
    "                    self.parent_node = self.current_node\n",
    "                    self.current_node = self.current_node.right\n",
    "        if searched == False:\n",
    "            return False\n",
    "\n",
    "        # 일단, return안되고, break되었다는 건, current_node가 삭제할 노드라는 것\n",
    "        # case 1. current_node가 terminal node인 경우\n",
    "        if self.current_node.left == None and self.current_node.right == None:\n",
    "            if self.current_node.value > data:\n",
    "                self.parent_node.left = None\n",
    "            else:\n",
    "                self.parent_node.right = None\n",
    "\n",
    "        # case 2. current_node가 1 child 갖는 경우 (왼쪽 / 오른쪽 구분필요)\n",
    "        # child가 왼쪽에 하나 있는 경우\n",
    "        if self.current_node.left != None and self.current_node.right == None:\n",
    "            # current_node가 parent의 왼쪽인 경우\n",
    "            if self.parent_node.value > data:\n",
    "                self.parent_node.left = self.current_node.left\n",
    "            else:\n",
    "                self.parent_node.right = self.current_node.left\n",
    "\n",
    "        # child가 오른쪽에 하나 있는 경우\n",
    "        elif self.current_node.left == None and self.current_node.right != None:\n",
    "            # current_node가 parent의 왼쪽인 경우\n",
    "            if self.parent_node.value > data:\n",
    "                self.parent_node.left = self.current_node.right\n",
    "            else:\n",
    "                self.parent_node.right = self.current_node.right\n",
    "\n",
    "        # case 3. current_node가 2 child 갖는 경우\n",
    "        if self.current_node.left != None and self.current_node.right != None:\n",
    "\n",
    "            # 삭제할 node가 parent의 왼쪽일 경우\n",
    "            if self.current_node.value < self.parent_node.value:\n",
    "                # 일단 current의 오른쪽으로 시작\n",
    "                self.change_node = self.current_node.right\n",
    "                self.change_node_parent = self.current_node.right\n",
    "                # 탐색 시작\n",
    "                while self.change_node.left:\n",
    "                    self.change_node = self.change_node.left\n",
    "                    self.change_node_parent = self.change_node_parent.left\n",
    "\n",
    "                # 마지막 노드(change_node가 오른쪽 child 갖는다면)\n",
    "                if self.change_node.right != None:\n",
    "                    # child node 연결 정리\n",
    "                    self.change_node_parent.left = self.change_node.right\n",
    "                else:\n",
    "                    self.change_node_parent.left = None\n",
    "\n",
    "\n",
    "                # current 자리 대체\n",
    "                self.parent_node.left = self.change_node\n",
    "                self.change_node.left = self.current_node.left\n",
    "                self.change_node.right = self.current_node.right\n",
    "\n",
    "            # 삭제할 node가 parent의 오른쪽 일 경우\n",
    "            else:\n",
    "                self.change_node = self.current_node.right\n",
    "                self.change_node_parent = self.current_node.right                \n",
    "                # 탐색시작\n",
    "                while self.change_node.left:\n",
    "                    self.change_node = self.change_node.left\n",
    "                    self.change_node_parent = self.change_node_parent.left\n",
    "\n",
    "                # 마지막 노드가 오른쪽 child 갖는다면\n",
    "                if self.change_node.right != None:\n",
    "                    self.change_node_parent.left = self.change_node.right\n",
    "                else:\n",
    "                    self.change_node_parent.left = None\n",
    "\n",
    "                # current 자리 대체\n",
    "\n",
    "                self.parent_node.right = self.change_node\n",
    "                self.change_node.left = self.current_node.left\n",
    "                self.change_node.right = self.current_node.right\n",
    "\n",
    "\n",
    "\n",
    "                    "
   ]
  },
  {
   "cell_type": "code",
   "execution_count": 97,
   "metadata": {},
   "outputs": [],
   "source": [
    "head = Node(1)\n",
    "BST = Mgmt(head)\n",
    "BST.insert(2)\n",
    "BST.insert(3)\n",
    "BST.insert(0)\n",
    "BST.insert(4)\n",
    "BST.insert(8)"
   ]
  },
  {
   "cell_type": "code",
   "execution_count": 98,
   "metadata": {},
   "outputs": [
    {
     "data": {
      "text/plain": [
       "False"
      ]
     },
     "execution_count": 98,
     "metadata": {},
     "output_type": "execute_result"
    }
   ],
   "source": [
    "BST.search(-1)"
   ]
  },
  {
   "cell_type": "code",
   "execution_count": 99,
   "metadata": {},
   "outputs": [
    {
     "data": {
      "text/plain": [
       "True"
      ]
     },
     "execution_count": 99,
     "metadata": {},
     "output_type": "execute_result"
    }
   ],
   "source": [
    "BST.search(8)"
   ]
  },
  {
   "cell_type": "code",
   "execution_count": null,
   "metadata": {},
   "outputs": [],
   "source": []
  },
  {
   "cell_type": "markdown",
   "metadata": {
    "collapsed": true
   },
   "source": [
    "#### 5.4 트리 삭제"
   ]
  },
  {
   "cell_type": "markdown",
   "metadata": {},
   "source": [
    "**삭제할 node 탐색**\n",
    "\n",
    "```\n",
    "1. 순회\n",
    "2. 만약, current_node == value라면, searched = True, break\n",
    "3. 만약, current_node != value라면, self.current_node.value vs value 통해, current_node 갱신 순회\n",
    "4. 순회 끝\n",
    "\n",
    "5. 만약, searched = False 라면, return return False\n",
    "```"
   ]
  },
  {
   "cell_type": "markdown",
   "metadata": {},
   "source": [
    "**삭제**\n",
    "\n",
    "**case 1 : 삭제할 node가 terminal node인 경우**\n",
    "\n",
    "1. terminal node인지 확인\n",
    "\n",
    "```python\n",
    "if self.current_node.left == None and self.current_node.right == None:\n",
    "```\n",
    "\n",
    "2. 삭제\n",
    "\n",
    "```\n",
    "2-1. 삭제할 value가 만약 parent_node 보다 크다면 -> parent_node.right = None\n",
    "\n",
    "2-2. 삭제할 value가 만약 parent_node 보다 작다면 -> parent_node.left = None\n",
    "```"
   ]
  },
  {
   "cell_type": "markdown",
   "metadata": {},
   "source": [
    "**삭제**\n",
    "\n",
    "**case 2 : 삭제할 node가 1 child node 갖는 경우**\n",
    "\n",
    "```\n",
    "1. child가 왼쪽 / 오른쪽으로 분기\n",
    "\n",
    "1-1. child가 왼쪽인 경우\n",
    "\n",
    "    1-1-1. 삭제할 node가 왼쪽인 경우\n",
    "        1-1-1-1. child - parent 간 연결\n",
    "    1-1-2. 삭제할 node가 오른쪽인 경우\n",
    "        1-1-2-1. child - parent 간 연결\n",
    "        \n",
    "1-2. child가 오른쪽인 경우\n",
    "\n",
    "    1-2-1. 삭제할 node가 왼쪽인 경우\n",
    "        1-2-1-1. child - parent 간 연결\n",
    "    1-2-2. 삭제할 node가 오른쪽인 경우\n",
    "        1-2-1-2. child - parent 간 연결\n",
    "```            "
   ]
  },
  {
   "cell_type": "markdown",
   "metadata": {},
   "source": [
    "**삭제**\n",
    "\n",
    "**case 3-1 : 삭제할 node가 parent의 왼쪽이고, 2 child node 갖는 경우**\n",
    "\n",
    "```\n",
    "1. chagne_node / change_node_parent 설정\n",
    "2. current_node.right -> 왼쪽 순회(오른쪽의 왼쪽에서 가장 큰 것으로 올리겠다) -> change_node / change_node_parent 지속 갱신\n",
    "3. 최종 change_node의 child 유무에 따른 change_node_parent와 child의 관계 설정\n",
    "4. change_node의 위 / 왼쪽 / 오른쪽 브랜치 설정\n",
    "\n",
    "```            \n",
    "\n",
    "**case 3-2 : 삭제할 node가 parent의 오른쪽이고, 2 child node 갖는 경우 (상동)**\n",
    "\n",
    "```\n",
    "1. chagne_node / change_node_parent 설정\n",
    "2. current_node.right -> 왼쪽 순회(오른쪽의 왼쪽에서 가장 큰 것으로 올리겠다) -> change_node / change_node_parent 지속 갱신\n",
    "3. 최종 change_node의 child 유무에 따른 change_node_parent와 child의 관계 설정\n",
    "4. change_node의 위 / 왼쪽 / 오른쪽 브랜치 설정\n",
    "\n",
    "```"
   ]
  },
  {
   "cell_type": "code",
   "execution_count": null,
   "metadata": {
    "collapsed": true
   },
   "outputs": [],
   "source": []
  },
  {
   "cell_type": "markdown",
   "metadata": {
    "collapsed": true
   },
   "source": [
    "#### 5.5 종합\n",
    "\n",
    "    - class 생성\n",
    "    - insert\n",
    "    - search\n",
    "    - delete"
   ]
  },
  {
   "cell_type": "code",
   "execution_count": null,
   "metadata": {},
   "outputs": [],
   "source": [
    "# 0 ~ 999 숫자 중에서 임의로 100개를 추출해서, 이진 탐색 트리에 입력, 검색, 삭제\n",
    "import random\n",
    "\n",
    "# 0 ~ 999 중, 100 개의 숫자 랜덤 선택o\n",
    "bst_nums = set()\n",
    "while len(bst_nums) != 100:\n",
    "    bst_nums.add(random.randint(0, 999))\n",
    "# print (bst_nums)\n",
    "\n",
    "# 선택된 100개의 숫자를 이진 탐색 트리에 입력, 임의로 루트노드는 500을 넣기로 함\n",
    "head = Node(500)\n",
    "binary_tree = Mgmt(head)\n",
    "for num in bst_nums:\n",
    "    binary_tree.insert(num)\n",
    "    \n",
    "# 입력한 100개의 숫자 검색 (검색 기능 확인)\n",
    "for num in bst_nums:\n",
    "    if binary_tree.search(num) == False:\n",
    "        print ('search failed', num)\n",
    "\n",
    "# 입력한 100개의 숫자 중 10개의 숫자를 랜덤 선택\n",
    "delete_nums = set()\n",
    "bst_nums = list(bst_nums)\n",
    "while len(delete_nums) != 10:\n",
    "    delete_nums.add(bst_nums[random.randint(0, 99)])\n",
    "\n",
    "# 선택한 10개의 숫자를 삭제 (삭제 기능 확인)\n",
    "for del_num in delete_nums:\n",
    "    if binary_tree.delete(del_num) == False:\n",
    "        print('delete failed', del_num)"
   ]
  },
  {
   "cell_type": "code",
   "execution_count": null,
   "metadata": {},
   "outputs": [],
   "source": []
  },
  {
   "cell_type": "code",
   "execution_count": null,
   "metadata": {},
   "outputs": [],
   "source": []
  },
  {
   "cell_type": "code",
   "execution_count": null,
   "metadata": {},
   "outputs": [],
   "source": []
  },
  {
   "cell_type": "code",
   "execution_count": null,
   "metadata": {},
   "outputs": [],
   "source": []
  },
  {
   "cell_type": "code",
   "execution_count": null,
   "metadata": {},
   "outputs": [],
   "source": []
  }
 ],
 "metadata": {
  "kernelspec": {
   "display_name": "Python 3",
   "language": "python",
   "name": "python3"
  },
  "language_info": {
   "codemirror_mode": {
    "name": "ipython",
    "version": 3
   },
   "file_extension": ".py",
   "mimetype": "text/x-python",
   "name": "python",
   "nbconvert_exporter": "python",
   "pygments_lexer": "ipython3",
   "version": "3.7.4"
  }
 },
 "nbformat": 4,
 "nbformat_minor": 4
}
