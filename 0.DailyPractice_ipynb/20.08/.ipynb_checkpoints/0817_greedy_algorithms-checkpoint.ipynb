{
 "cells": [
  {
   "cell_type": "markdown",
   "metadata": {},
   "source": [
    "## 탐욕 알고리즘의 이해"
   ]
  },
  {
   "cell_type": "markdown",
   "metadata": {},
   "source": [
    "### 1. 탐욕 알고리즘 이란?\n",
    "- Greedy algorithm 또는 탐욕 알고리즘 이라고 불리움\n",
    "- 최적의 해에 가까운 값을 구하기 위해 사용됨\n",
    "- 여러 경우 중 하나를 결정해야할 때마다, **매순간 최적이라고 생각되는 경우를 선택**하는 방식으로 진행해서, 최종적인 값을 구하는 방식"
   ]
  },
  {
   "cell_type": "markdown",
   "metadata": {},
   "source": [
    "### 2. 탐욕 알고리즘 예\n",
    "### 문제1: 동전 문제\n",
    "  - 지불해야 하는 값이 4720원 일 때 1원 50원 100원, 500원 동전으로 동전의 수가 가장 적게 지불하시오.\n",
    "    - 가장 큰 동전부터 최대한 지불해야 하는 값을 채우는 방식으로 구현 가능\n",
    "    - 탐욕 알고리즘으로 매순간 최적이라고 생각되는 경우를 선택하면 됨"
   ]
  },
  {
   "cell_type": "markdown",
   "metadata": {},
   "source": [
    "### '동전 문제'가 greedy 전략에 적합한 이유\n",
    "\n",
    "- 제한 조건 : 가장 적은 동전 수\n",
    "    - 가장 큰 수부터 사용해서 채워나가는 것이 적절. 따라서, 매 순간 최선의 숫자(가장 큰 수)를 생각해나가면 되기 때문에, greedy 전략이 적합함"
   ]
  },
  {
   "cell_type": "code",
   "execution_count": 13,
   "metadata": {},
   "outputs": [],
   "source": [
    "data_list = [1,50,100,500]\n",
    "data_list.sort(reverse=True)\n",
    "cnt = int()\n",
    "total_cnt = int()\n",
    "result = list()\n",
    "\n",
    "def coin_problem(data_list,total_value):\n",
    "    \n",
    "    global total_cnt\n",
    "    residual = total_value\n",
    "    for data in data_list:\n",
    "        if residual < data:\n",
    "            pass\n",
    "        else:\n",
    "            cnt = int(residual/data)\n",
    "            total_cnt += cnt\n",
    "            residual -= data*cnt\n",
    "            result.append([data,cnt])\n",
    "            \n",
    "    return (total_cnt,result)"
   ]
  },
  {
   "cell_type": "code",
   "execution_count": 14,
   "metadata": {},
   "outputs": [
    {
     "data": {
      "text/plain": [
       "(31, [[500, 9], [100, 2], [1, 20]])"
      ]
     },
     "execution_count": 14,
     "metadata": {},
     "output_type": "execute_result"
    }
   ],
   "source": [
    "coin_problem(data_list,4720)"
   ]
  },
  {
   "cell_type": "markdown",
   "metadata": {},
   "source": [
    "### 문제2: 부분 배낭 문제 (Fractional Knapsack Problem)\n",
    "  - 무게 제한이 k인 배낭에 최대 가치를 가지도록 물건을 넣는 문제\n",
    "    - 각 물건은 무게(w)와 가치(v)로 표현될 수 있음\n",
    "    - 물건은 쪼갤 수 있으므로 물건의 일부분이 배낭에 넣어질 수 있음, 그래서 Fractional Knapsack Problem 으로 부름\n",
    "      - Fractional Knapsack Problem 의 반대로 물건을 쪼개서 넣을 수 없는 배낭 문제도 존재함 (0/1 Knapsack Problem 으로 부름)\n",
    "    <img src=\"https://www.fun-coding.org/00_Images/knapsack.png\">"
   ]
  },
  {
   "cell_type": "code",
   "execution_count": 29,
   "metadata": {},
   "outputs": [],
   "source": [
    "# (무게, 가치)\n",
    "data_list = [(10,10),(15,12),(20,10),(25,8),(30,5)]\n",
    "\n",
    "def knapsack_problem(data,capacity):\n",
    "    data = sorted(data,key=lambda x: x[1]/x[0])\n",
    "    result = list()\n",
    "    value = int()\n",
    "    \n",
    "    for data in data_list:\n",
    "        if capacity > data[0]:\n",
    "            capacity -= data[0]\n",
    "            result.append(['사용된 무게 : {}, 넣은 가치 : {}, 남은 무게: {}'.format(data[0],data[1],capacity)])\n",
    "            value += data[1]\n",
    "        else:\n",
    "            frac = capacity/data[0]\n",
    "            capacity -= data[0]*frac\n",
    "            result.append(['사용된 무게 : {}, 넣은 가치 : {}, 남은 무게: {}'.format(data[0],data[1],capacity)])\n",
    "            value += data[1]*frac\n",
    "    return (value,result)"
   ]
  },
  {
   "cell_type": "code",
   "execution_count": 30,
   "metadata": {},
   "outputs": [
    {
     "data": {
      "text/plain": [
       "(24.5,\n",
       " [['사용된 무게 : 10, 넣은 가치 : 10, 남은 무게: 20'],\n",
       "  ['사용된 무게 : 15, 넣은 가치 : 12, 남은 무게: 5'],\n",
       "  ['사용된 무게 : 20, 넣은 가치 : 10, 남은 무게: 0.0'],\n",
       "  ['사용된 무게 : 25, 넣은 가치 : 8, 남은 무게: 0.0'],\n",
       "  ['사용된 무게 : 30, 넣은 가치 : 5, 남은 무게: 0.0']])"
      ]
     },
     "execution_count": 30,
     "metadata": {},
     "output_type": "execute_result"
    }
   ],
   "source": [
    "knapsack_problem(data_list,30)"
   ]
  }
 ],
 "metadata": {
  "kernelspec": {
   "display_name": "Python 3",
   "language": "python",
   "name": "python3"
  },
  "language_info": {
   "codemirror_mode": {
    "name": "ipython",
    "version": 3
   },
   "file_extension": ".py",
   "mimetype": "text/x-python",
   "name": "python",
   "nbconvert_exporter": "python",
   "pygments_lexer": "ipython3",
   "version": "3.7.4"
  }
 },
 "nbformat": 4,
 "nbformat_minor": 4
}
