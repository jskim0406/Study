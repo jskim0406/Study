{
 "cells": [
  {
   "cell_type": "markdown",
   "metadata": {},
   "source": [
    "# 1. Dijkstra\n",
    "\n",
    "- 최단거리 찾기 알고리즘"
   ]
  },
  {
   "cell_type": "markdown",
   "metadata": {},
   "source": [
    "### 1) 우선순위 큐 구현 실습\n",
    "- heapq 라이브러리 활용"
   ]
  },
  {
   "cell_type": "code",
   "execution_count": 23,
   "metadata": {},
   "outputs": [],
   "source": [
    "import heapq"
   ]
  },
  {
   "cell_type": "code",
   "execution_count": 27,
   "metadata": {},
   "outputs": [
    {
     "name": "stdout",
     "output_type": "stream",
     "text": [
      "[[1, 'C'], [5, 'B'], [2, 'A'], [7, 'D']]\n"
     ]
    }
   ],
   "source": [
    "queue = []\n",
    "\n",
    "heapq.heappush(queue,[2,'A'])\n",
    "heapq.heappush(queue,[5,'B'])\n",
    "heapq.heappush(queue,[1,'C'])\n",
    "heapq.heappush(queue,[7,'D'])\n",
    "print(queue)"
   ]
  },
  {
   "cell_type": "code",
   "execution_count": 28,
   "metadata": {},
   "outputs": [
    {
     "name": "stdout",
     "output_type": "stream",
     "text": [
      "[1, 'C']\n",
      "[2, 'A']\n",
      "[5, 'B']\n",
      "[7, 'D']\n"
     ]
    }
   ],
   "source": [
    "for _ in range(len(queue)):\n",
    "    print(heapq.heappop(queue))"
   ]
  },
  {
   "cell_type": "markdown",
   "metadata": {},
   "source": [
    "### 2) 데이터 그래프 생성"
   ]
  },
  {
   "cell_type": "code",
   "execution_count": 30,
   "metadata": {},
   "outputs": [],
   "source": [
    "mygraph = {\n",
    "    'A':{'B':8,'C':1,'D':2},\n",
    "    'B':{},\n",
    "    'C':{'B':5,'D':2},\n",
    "    'D':{'E':3,'F':5},\n",
    "    'E':{'F':1},\n",
    "    'F':{'A':5},\n",
    "}"
   ]
  },
  {
   "cell_type": "code",
   "execution_count": 31,
   "metadata": {},
   "outputs": [
    {
     "data": {
      "text/plain": [
       "{'A': {'B': 8, 'C': 1, 'D': 2},\n",
       " 'B': {},\n",
       " 'C': {'B': 5, 'D': 2},\n",
       " 'D': {'E': 3, 'F': 5},\n",
       " 'E': {'F': 1},\n",
       " 'F': {'A': 5}}"
      ]
     },
     "execution_count": 31,
     "metadata": {},
     "output_type": "execute_result"
    }
   ],
   "source": [
    "mygraph"
   ]
  },
  {
   "cell_type": "markdown",
   "metadata": {},
   "source": [
    "### 3) Dijkstra 구현"
   ]
  },
  {
   "cell_type": "code",
   "execution_count": 48,
   "metadata": {},
   "outputs": [],
   "source": [
    "import heapq\n",
    "\n",
    "def dijkstra(graph,start):\n",
    "    \n",
    "    distance = {node:float('inf') for node in graph}\n",
    "    \n",
    "    distance[start] = 0\n",
    "    queue = []\n",
    "    heapq.heappush(queue,[distance[start],start])\n",
    "    # queue안에는 기준 노드와 기준 노드의 거리(root로부터)가 들어있음\n",
    "    \n",
    "    while queue:\n",
    "        current_distance,current_node = heapq.heappop(queue)\n",
    " \n",
    "        for adjacent, weight in graph[current_node].items():\n",
    "            distance_root_adjacent = current_distance + weight\n",
    "            \n",
    "            if distance_root_adjacent < distance[adjacent]:\n",
    "                distance[adjacent] = distance_root_adjacent\n",
    "                heapq.heappush(queue,[distance[adjacent],adjacent])\n",
    "\n",
    "    return distance       "
   ]
  },
  {
   "cell_type": "code",
   "execution_count": 49,
   "metadata": {},
   "outputs": [
    {
     "data": {
      "text/plain": [
       "{'A': 0, 'B': 6, 'C': 1, 'D': 2, 'E': 5, 'F': 6}"
      ]
     },
     "execution_count": 49,
     "metadata": {},
     "output_type": "execute_result"
    }
   ],
   "source": [
    "dijkstra(mygraph,'A')"
   ]
  },
  {
   "cell_type": "code",
   "execution_count": 50,
   "metadata": {},
   "outputs": [],
   "source": [
    "import heapq\n",
    "\n",
    "def dijkstra2(graph,start):\n",
    "    distance = {node : float('inf') for node in graph}\n",
    "    queue = []\n",
    "    \n",
    "    distance[start] = 0\n",
    "    heapq.heappush(queue,[distance[start],start])\n",
    "    \n",
    "    # distance를 update할 차례. 반복해야겠지\n",
    "    while queue:\n",
    "        # current_distance = root - current까지 거리 \n",
    "        current_distance,current_node = heapq.heappop(queue)\n",
    "        \n",
    "        for adjacent, weight in distance[current_node].items():\n",
    "            distance_new = current_distance + weight\n",
    "            \n",
    "            if distance_new < distance[adjacent]:\n",
    "                distance[adjacent] = distance_new\n",
    "                heapq.heappush(queue,[distance[adjacent],adjacent])\n",
    "            \n",
    "    return distance"
   ]
  },
  {
   "cell_type": "code",
   "execution_count": 51,
   "metadata": {
    "scrolled": true
   },
   "outputs": [
    {
     "data": {
      "text/plain": [
       "{'A': 0, 'B': 6, 'C': 1, 'D': 2, 'E': 5, 'F': 6}"
      ]
     },
     "execution_count": 51,
     "metadata": {},
     "output_type": "execute_result"
    }
   ],
   "source": [
    "dijkstra(mygraph,'A')"
   ]
  }
 ],
 "metadata": {
  "kernelspec": {
   "display_name": "Python 3",
   "language": "python",
   "name": "python3"
  },
  "language_info": {
   "codemirror_mode": {
    "name": "ipython",
    "version": 3
   },
   "file_extension": ".py",
   "mimetype": "text/x-python",
   "name": "python",
   "nbconvert_exporter": "python",
   "pygments_lexer": "ipython3",
   "version": "3.7.4"
  }
 },
 "nbformat": 4,
 "nbformat_minor": 4
}
