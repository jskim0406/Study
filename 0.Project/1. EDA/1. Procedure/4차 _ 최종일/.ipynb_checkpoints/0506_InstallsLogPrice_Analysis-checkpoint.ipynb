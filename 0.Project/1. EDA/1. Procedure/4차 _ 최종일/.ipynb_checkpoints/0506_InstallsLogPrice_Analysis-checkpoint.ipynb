{
 "cells": [
  {
   "cell_type": "markdown",
   "metadata": {},
   "source": [
    "https://www.kaggle.com/ahmadjaved097/analyzing-the-google-playstore"
   ]
  },
  {
   "cell_type": "code",
   "execution_count": null,
   "metadata": {},
   "outputs": [],
   "source": [
    "df = pd.read_csv('2_new.csv')\n",
    "df.tail()"
   ]
  },
  {
   "cell_type": "code",
   "execution_count": null,
   "metadata": {},
   "outputs": [],
   "source": [
    "df['Installs_log'] = np.log10(df.Installs)\n",
    "df.tail()"
   ]
  },
  {
   "cell_type": "code",
   "execution_count": null,
   "metadata": {},
   "outputs": [],
   "source": [
    "df['Installs_log'].unique()"
   ]
  },
  {
   "cell_type": "code",
   "execution_count": null,
   "metadata": {},
   "outputs": [],
   "source": [
    "df.loc[df.Installs_log == float('-inf')] = 0"
   ]
  },
  {
   "cell_type": "markdown",
   "metadata": {},
   "source": [
    "### Install의 Log 값 기반 분석"
   ]
  },
  {
   "cell_type": "code",
   "execution_count": null,
   "metadata": {
    "scrolled": false
   },
   "outputs": [],
   "source": [
    "print(df['Installs_log'].describe())\n",
    "plt.figure(figsize=(9, 8))\n",
    "sns.distplot(df['Installs_log'], color='g', bins=100, hist_kws={'alpha': 0.4});"
   ]
  },
  {
   "cell_type": "code",
   "execution_count": null,
   "metadata": {},
   "outputs": [],
   "source": [
    "# float64와 int64로 이루어진 데이터 타입 확인\n",
    "df_num = df.select_dtypes(include = ['float64', 'int64'])\n",
    "df_num.head()"
   ]
  },
  {
   "cell_type": "code",
   "execution_count": null,
   "metadata": {},
   "outputs": [],
   "source": [
    "col = ['Rating', 'reviews', 'Size', 'Type', 'Price', 'Ver_Mon', 'Ver_Year', 'And_1st_Ver', 'And_Last_Ver', 'Installs_log']\n",
    "\n",
    "df_1 = df[col]\n",
    "df_1.tail(1)"
   ]
  },
  {
   "cell_type": "code",
   "execution_count": null,
   "metadata": {},
   "outputs": [],
   "source": [
    "df_1.hist(figsize=(15, 20), bins=50, xlabelsize=8, ylabelsize=8);"
   ]
  },
  {
   "cell_type": "code",
   "execution_count": null,
   "metadata": {},
   "outputs": [],
   "source": [
    "df_1_corr = df_1.corr()['Installs_log'][:-1] # 마지막 col이 Install이라 -1까지만\n",
    "features_list = df_1_corr[abs(df_1_corr) > 0].sort_values(ascending=False)\n",
    "print(\"The following are the top {} strongly correlated values with Installs_log:\\n{}\".format(len(features_list), features_list))"
   ]
  },
  {
   "cell_type": "code",
   "execution_count": null,
   "metadata": {},
   "outputs": [],
   "source": [
    "for i in range(0, len(df_1.columns), 5):\n",
    "    sns.pairplot(data=df_1,\n",
    "                 x_vars=df_1.columns[i:i+5],\n",
    "                 y_vars=['Installs_log']\n",
    "                )"
   ]
  },
  {
   "cell_type": "code",
   "execution_count": null,
   "metadata": {},
   "outputs": [],
   "source": [
    "fig, ax = plt.subplots(round(len(col) / 3), 3, figsize= (18, 12))\n",
    "\n",
    "for i, ax in enumerate(fig.axes):\n",
    "    if i < len(col) - 1:\n",
    "        sns.regplot(x = col[i], y='Installs_log', data=df_1[col], ax=ax)"
   ]
  },
  {
   "cell_type": "code",
   "execution_count": null,
   "metadata": {},
   "outputs": [],
   "source": [
    "sns.set(style=\"ticks\", color_codes=\"True\")\n",
    "g = sns.pairplot(df_1, hue=\"Type\")"
   ]
  },
  {
   "cell_type": "markdown",
   "metadata": {},
   "source": [
    "### 유료 앱"
   ]
  },
  {
   "cell_type": "code",
   "execution_count": null,
   "metadata": {},
   "outputs": [],
   "source": [
    "df_paid = df_1.loc[df_1.Price != 0]\n",
    "df_paid.tail()"
   ]
  },
  {
   "cell_type": "code",
   "execution_count": null,
   "metadata": {},
   "outputs": [],
   "source": [
    "df_paid.hist(figsize=(15, 20), bins=50, xlabelsize=8, ylabelsize=8);"
   ]
  },
  {
   "cell_type": "code",
   "execution_count": null,
   "metadata": {},
   "outputs": [],
   "source": [
    "df_p_corr = df_paid.corr()['Installs_log'][:-1]\n",
    "features_list = df_p_corr[abs(df_p_corr) > 0].sort_values(ascending=False)\n",
    "print(\"The following are the top {} strongly correlated values with Installs_log:\\n{}\".format(len(features_list), features_list))"
   ]
  },
  {
   "cell_type": "code",
   "execution_count": null,
   "metadata": {},
   "outputs": [],
   "source": [
    "for i in range(0, len(df_paid.columns), 5):\n",
    "    sns.pairplot(data=df_paid,\n",
    "                 x_vars=df_paid.columns[i:i+5],\n",
    "                 y_vars=['Installs_log']\n",
    "                )"
   ]
  },
  {
   "cell_type": "code",
   "execution_count": null,
   "metadata": {},
   "outputs": [],
   "source": [
    "fig, ax = plt.subplots(round(len(col) / 3), 3, figsize= (18, 12))\n",
    "\n",
    "for i, ax in enumerate(fig.axes):\n",
    "    if i < len(col) - 1:\n",
    "        sns.regplot(x = col[i], y='Installs_log', data=df_paid[col], ax=ax)"
   ]
  },
  {
   "cell_type": "code",
   "execution_count": null,
   "metadata": {},
   "outputs": [],
   "source": [
    "len(df_paid)"
   ]
  },
  {
   "cell_type": "code",
   "execution_count": null,
   "metadata": {},
   "outputs": [],
   "source": [
    "df_paid.describe()"
   ]
  },
  {
   "cell_type": "markdown",
   "metadata": {},
   "source": [
    "### $250 이하"
   ]
  },
  {
   "cell_type": "code",
   "execution_count": null,
   "metadata": {},
   "outputs": [],
   "source": [
    "df_paid_2 = df_paid.loc[df_paid.Price < 250]\n",
    "df_paid_2.tail()"
   ]
  },
  {
   "cell_type": "code",
   "execution_count": null,
   "metadata": {},
   "outputs": [],
   "source": [
    "df_paid_2.hist(figsize=(15, 20), bins=50, xlabelsize=8, ylabelsize=8);"
   ]
  },
  {
   "cell_type": "code",
   "execution_count": null,
   "metadata": {},
   "outputs": [],
   "source": [
    "df_paid.info()"
   ]
  },
  {
   "cell_type": "code",
   "execution_count": null,
   "metadata": {},
   "outputs": [],
   "source": [
    "df_p2_corr = df_paid_2.corr()['Installs_log'][:-1]\n",
    "features_list = df_p2_corr[abs(df_p2_corr) > 0].sort_values(ascending=False)\n",
    "print(\"The following are the top {} strongly correlated values with Installs_log:\\n{}\".format(len(features_list), features_list))"
   ]
  },
  {
   "cell_type": "code",
   "execution_count": null,
   "metadata": {},
   "outputs": [],
   "source": [
    "for i in range(0, len(df_paid_2.columns), 5):\n",
    "    sns.pairplot(data=df_paid_2,\n",
    "                 x_vars=df_paid_2.columns[i:i+5],\n",
    "                 y_vars=['Installs_log']\n",
    "                )"
   ]
  },
  {
   "cell_type": "code",
   "execution_count": null,
   "metadata": {},
   "outputs": [],
   "source": [
    "fig, ax = plt.subplots(round(len(col) / 3), 3, figsize= (18, 12))\n",
    "\n",
    "for i, ax in enumerate(fig.axes):\n",
    "    if i < len(col) - 1:\n",
    "        sns.regplot(x = col[i], y='Installs_log', data=df_paid_2[col], ax=ax)"
   ]
  },
  {
   "cell_type": "code",
   "execution_count": null,
   "metadata": {},
   "outputs": [],
   "source": [
    "df_paid_2.describe()"
   ]
  },
  {
   "cell_type": "code",
   "execution_count": null,
   "metadata": {},
   "outputs": [],
   "source": [
    "len(df_paid_2)"
   ]
  },
  {
   "cell_type": "markdown",
   "metadata": {},
   "source": [
    "### 유료앱 $10 이하"
   ]
  },
  {
   "cell_type": "code",
   "execution_count": null,
   "metadata": {},
   "outputs": [],
   "source": [
    "df_paid_3 = df_paid.loc[df_paid.Price < 10]\n",
    "df_paid_3.tail()"
   ]
  },
  {
   "cell_type": "code",
   "execution_count": null,
   "metadata": {},
   "outputs": [],
   "source": [
    "df_paid_3.hist(figsize=(15, 20), bins=50, xlabelsize=8, ylabelsize=8);"
   ]
  },
  {
   "cell_type": "code",
   "execution_count": null,
   "metadata": {},
   "outputs": [],
   "source": [
    "df_p3_corr = df_paid_3.corr()['Installs_log'][:-1]\n",
    "features_list = df_p3_corr[abs(df_p3_corr) > 0].sort_values(ascending=False)\n",
    "print(\"The following are the top {} strongly correlated values with Installs_log:\\n{}\".format(len(features_list), features_list))"
   ]
  },
  {
   "cell_type": "code",
   "execution_count": null,
   "metadata": {},
   "outputs": [],
   "source": [
    "for i in range(0, len(df_paid_3.columns), 5):\n",
    "    sns.pairplot(data=df_paid_3,\n",
    "                 x_vars=df_paid_3.columns[i:i+5],\n",
    "                 y_vars=['Installs_log']\n",
    "                )"
   ]
  },
  {
   "cell_type": "code",
   "execution_count": null,
   "metadata": {},
   "outputs": [],
   "source": [
    "fig, ax = plt.subplots(round(len(col) / 3), 3, figsize= (18, 12))\n",
    "\n",
    "for i, ax in enumerate(fig.axes):\n",
    "    if i < len(col) - 1:\n",
    "        sns.regplot(x = col[i], y='Installs_log', data=df_paid_3[col], ax=ax)"
   ]
  },
  {
   "cell_type": "code",
   "execution_count": null,
   "metadata": {},
   "outputs": [],
   "source": [
    "df_paid_3.describe()"
   ]
  },
  {
   "cell_type": "code",
   "execution_count": null,
   "metadata": {},
   "outputs": [],
   "source": [
    "len(df_paid_3)"
   ]
  },
  {
   "cell_type": "markdown",
   "metadata": {},
   "source": [
    "### 무료"
   ]
  },
  {
   "cell_type": "code",
   "execution_count": null,
   "metadata": {},
   "outputs": [],
   "source": [
    "df_free = df_1.loc[df_1.Price == 0]\n",
    "df_free.tail()"
   ]
  },
  {
   "cell_type": "code",
   "execution_count": null,
   "metadata": {},
   "outputs": [],
   "source": [
    "df_free.describe()"
   ]
  },
  {
   "cell_type": "code",
   "execution_count": null,
   "metadata": {},
   "outputs": [],
   "source": [
    "df_free.hist(figsize=(15, 20), bins=50, xlabelsize=8, ylabelsize=8);"
   ]
  },
  {
   "cell_type": "code",
   "execution_count": null,
   "metadata": {},
   "outputs": [],
   "source": [
    "df_f_corr = df_free.corr()['Installs_log'][:-1]\n",
    "features_list = df_f_corr[abs(df_f_corr) > 0].sort_values(ascending=False)\n",
    "print(\"The following are the top {} strongly correlated values with Installs_log:\\n{}\".format(len(features_list), features_list))"
   ]
  },
  {
   "cell_type": "code",
   "execution_count": null,
   "metadata": {},
   "outputs": [],
   "source": [
    "for i in range(0, len(df_free.columns), 5):\n",
    "    sns.pairplot(data=df_free,\n",
    "                 x_vars=df_free.columns[i:i+5],\n",
    "                 y_vars=['Installs_log']\n",
    "                )"
   ]
  },
  {
   "cell_type": "code",
   "execution_count": null,
   "metadata": {
    "scrolled": false
   },
   "outputs": [],
   "source": [
    "fig, ax = plt.subplots(round(len(col) / 3), 3, figsize= (18, 12))\n",
    "\n",
    "for i, ax in enumerate(fig.axes):\n",
    "    if i < len(col) - 1:\n",
    "        sns.regplot(x = col[i], y='Installs_log', data=df_free[col], ax=ax)"
   ]
  },
  {
   "cell_type": "markdown",
   "metadata": {},
   "source": [
    "### Price 기반 분석"
   ]
  },
  {
   "cell_type": "code",
   "execution_count": null,
   "metadata": {},
   "outputs": [],
   "source": [
    "col = ['Rating', 'reviews', 'Size', 'Type', 'Ver_Mon', 'Ver_Year', 'And_1st_Ver', 'And_Last_Ver', 'Installs_log', 'Price']\n",
    "\n",
    "df_2 = df[col]\n",
    "df_2.tail(1)"
   ]
  },
  {
   "cell_type": "code",
   "execution_count": null,
   "metadata": {},
   "outputs": [],
   "source": [
    "df_2.describe()"
   ]
  },
  {
   "cell_type": "code",
   "execution_count": null,
   "metadata": {},
   "outputs": [],
   "source": [
    "df_2.hist(figsize=(15, 20), bins=50, xlabelsize=8, ylabelsize=8);"
   ]
  },
  {
   "cell_type": "code",
   "execution_count": null,
   "metadata": {},
   "outputs": [],
   "source": [
    "df_2_corr = df_2.corr()['Price'][:-1]\n",
    "features_list = df_2_corr[abs(df_2_corr) > 0].sort_values(ascending=False)\n",
    "print(\"The following are the top {} strongly correlated values with Price:\\n{}\".format(len(features_list), features_list))"
   ]
  },
  {
   "cell_type": "code",
   "execution_count": null,
   "metadata": {},
   "outputs": [],
   "source": [
    "for i in range(0, len(df_2.columns), 5):\n",
    "    sns.pairplot(data=df_2,\n",
    "                 x_vars=df_2.columns[i:i+5],\n",
    "                 y_vars=['Price']\n",
    "                )"
   ]
  },
  {
   "cell_type": "code",
   "execution_count": null,
   "metadata": {},
   "outputs": [],
   "source": [
    "fig, ax = plt.subplots(round(len(col) / 3), 3, figsize= (18, 12))\n",
    "\n",
    "for i, ax in enumerate(fig.axes):\n",
    "    if i < len(col) - 1:\n",
    "        sns.regplot(x = col[i], y='Price', data=df_2[col], ax=ax)"
   ]
  },
  {
   "cell_type": "markdown",
   "metadata": {},
   "source": [
    "### Outlier 제거"
   ]
  },
  {
   "cell_type": "code",
   "execution_count": null,
   "metadata": {},
   "outputs": [],
   "source": [
    "df_out = df_2.loc[df_2.Price < 250]\n",
    "df_out.tail()"
   ]
  },
  {
   "cell_type": "code",
   "execution_count": null,
   "metadata": {},
   "outputs": [],
   "source": [
    "df_out.describe()"
   ]
  },
  {
   "cell_type": "code",
   "execution_count": null,
   "metadata": {},
   "outputs": [],
   "source": [
    "df_out.hist(figsize=(15, 20), bins=50, xlabelsize=8, ylabelsize=8);"
   ]
  },
  {
   "cell_type": "code",
   "execution_count": null,
   "metadata": {},
   "outputs": [],
   "source": [
    "df_out_corr = df_out.corr()['Price'][:-1]\n",
    "features_list = df_out_corr[abs(df_out_corr) > 0].sort_values(ascending=False)\n",
    "print(\"The following are the top {} strongly correlated values with Price:\\n{}\".format(len(features_list), features_list))"
   ]
  },
  {
   "cell_type": "code",
   "execution_count": null,
   "metadata": {},
   "outputs": [],
   "source": [
    "for i in range(0, len(df_out.columns), 5):\n",
    "    sns.pairplot(data=df_out,\n",
    "                 x_vars=df_out.columns[i:i+5],\n",
    "                 y_vars=['Price']\n",
    "                )"
   ]
  },
  {
   "cell_type": "code",
   "execution_count": null,
   "metadata": {},
   "outputs": [],
   "source": [
    "fig, ax = plt.subplots(round(len(col) / 3), 3, figsize= (18, 12))\n",
    "\n",
    "for i, ax in enumerate(fig.axes):\n",
    "    if i < len(col) - 1:\n",
    "        sns.regplot(x = col[i], y='Price', data=df_out[col], ax=ax)"
   ]
  },
  {
   "cell_type": "markdown",
   "metadata": {},
   "source": [
    "1. 가격 - 큰 correlation이 없음\n",
    "2. install log : -0.046 -> -0.129\n",
    "3. size : 0.017 -> 0.012"
   ]
  },
  {
   "cell_type": "code",
   "execution_count": null,
   "metadata": {},
   "outputs": [],
   "source": [
    "### $10 이하 유료앱"
   ]
  },
  {
   "cell_type": "code",
   "execution_count": null,
   "metadata": {},
   "outputs": [],
   "source": [
    "df_10 = df_2.loc[df_2.Price < 10]\n",
    "df_10.tail()"
   ]
  },
  {
   "cell_type": "code",
   "execution_count": null,
   "metadata": {},
   "outputs": [],
   "source": [
    "df_10.describe()"
   ]
  },
  {
   "cell_type": "code",
   "execution_count": null,
   "metadata": {},
   "outputs": [],
   "source": [
    "df_10.hist(figsize=(15, 20), bins=50, xlabelsize=8, ylabelsize=8);"
   ]
  },
  {
   "cell_type": "code",
   "execution_count": null,
   "metadata": {},
   "outputs": [],
   "source": [
    "df_10_corr = df_10.corr()['Price'][:-1]\n",
    "features_list = df_10_corr[abs(df_10_corr) > 0].sort_values(ascending=False)\n",
    "print(\"The following are the top {} strongly correlated values with Price under $10:\\n{}\".format(len(features_list), features_list))"
   ]
  },
  {
   "cell_type": "code",
   "execution_count": null,
   "metadata": {},
   "outputs": [],
   "source": [
    "for i in range(0, len(df_10.columns), 5):\n",
    "    sns.pairplot(data=df_10,\n",
    "                 x_vars=df_10.columns[i:i+5],\n",
    "                 y_vars=['Price']\n",
    "                )"
   ]
  },
  {
   "cell_type": "code",
   "execution_count": null,
   "metadata": {},
   "outputs": [],
   "source": [
    "fig, ax = plt.subplots(round(len(col) / 3), 3, figsize= (18, 12))\n",
    "\n",
    "for i, ax in enumerate(fig.axes):\n",
    "    if i < len(col) - 1:\n",
    "        sns.regplot(x = col[i], y='Price', data=df_10[col], ax=ax)"
   ]
  },
  {
   "cell_type": "code",
   "execution_count": null,
   "metadata": {},
   "outputs": [],
   "source": []
  }
 ],
 "metadata": {
  "kernelspec": {
   "display_name": "Python 3",
   "language": "python",
   "name": "python3"
  },
  "language_info": {
   "codemirror_mode": {
    "name": "ipython",
    "version": 3
   },
   "file_extension": ".py",
   "mimetype": "text/x-python",
   "name": "python",
   "nbconvert_exporter": "python",
   "pygments_lexer": "ipython3",
   "version": "3.7.4"
  }
 },
 "nbformat": 4,
 "nbformat_minor": 4
}
