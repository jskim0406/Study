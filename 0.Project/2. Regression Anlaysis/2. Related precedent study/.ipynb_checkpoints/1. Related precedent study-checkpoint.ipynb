{
 "cells": [
  {
   "cell_type": "markdown",
   "metadata": {},
   "source": [
    "# 참고연구 목록\n",
    "    : 연구 주제 관련 직, 간접적 관련 선행연구 및 참고자료 (총 22건)"
   ]
  },
  {
   "cell_type": "markdown",
   "metadata": {},
   "source": [
    "```\n",
    "1) 이종우(2014), 실업팀 선수의 연봉 결정요인 분석 : 개인종목을 중심으로. 서울대학교 대학원\n",
    "2) 권병진(2005). 미국 프로야구 Major League 선수들의 노동생산성과 연봉에 관한 연구. 서강대학교 대학원\n",
    "3) 송종우(2008). 한국 프로스포츠 선수들의 연봉에 대한 다변량적분석. 응용통계연구, 21(3), 441-45\n",
    "4) 승희배, 강기훈(2012). 한국 프로야구 선수들의 경기력과 연봉의 관계 분석. 한국데이터정보과학회지, 23(2), 285-298.\n",
    "5) 신문선(2003). 한국 프로축구 선수의 연봉산정 모델 개발. 국내박사학위논문, 세종대학교 대학원, 서울.\n",
    "6) 오광모, 이장택(2003). 데이터마이닝을 이용한 한국프로야구 선수들이 연봉에 관한 모형연구. 한국스포츠사회학회지,16(2), 295-309.\n",
    "7) 한동섭, 김정기, 김종(2007). 스포츠 스타의 이미지와 소속 팀, 보증 제품 및 사회 이미지의 관계에 관한 연구. 한국스포츠산업.경영학회지, 12(3), 155-168.\n",
    "8) 최명일(2002). 스포츠 스타 이미지 구성요인에 관한 연구. 국내석사학위논문, 한양대학교 대학원, 서울.\n",
    "9) 손동만(2018). NBA 선수 연봉구조와 선수 스타파워가 팀 퍼포먼스에 미치는 영향. 서울대학교 대학원\n",
    "10) 황선욱(2019). 주성분 기법을 활용한 NBA선수 포지션별 선수평가지수 및 연봉예측모델 개발. 동국대학교 대학원\n",
    "11) Yunus Koloğlu(2018). A Multiple Linear Regression Approach For Estimating the Market Value of Football Players in Forward Position\n",
    "12) Edward Nsolo(2018), Player valuation in European football\n",
    "13) Daniel Bratulić(2019). Predicting 2018–19 NBA’s Most Valuable Player using Machine Learning\n",
    "14) Shubham Maurya(2018). Can Linear Models predict a Footballer’s Value?\n",
    "15) Yaldo, L.(2017). Computational Estimation of Football Player Wages\n",
    "16) Oliver Müller(2017). BEYOND CROWD JUDGMENTS: DATA-DRIVEN ESTIMATION OF MARKET VALUE IN ASSOCIATION FOOTBALL\n",
    "17) 김설애(2016). 원산지국가이미지가 소비자인식 및 구매의도에 미치는 영향\n",
    "18) 문효진(2016). 국가브랜드 평판 구성요인 도출을 위한 탐색적 연구  \n",
    "19) Martin, I. M. & Eroglu, S. (1993).  Measuring a Multi-Dimensional Construct: Country Image\n",
    "20) J. David Singer(2007). 국가역량 종합지수(Composite Index of National Capability, CNIC)\n",
    "21) US News(2020). US News 최고의 나라 지수\n",
    "22) 강지원(2020). Why do Instagram Users Tag Friends in Comments\n",
    "```"
   ]
  },
  {
   "cell_type": "markdown",
   "metadata": {},
   "source": [
    "# 참고연구 분류 및 시사점\n",
    "\n",
    "**1. 데이터 측면**\n",
    "\n",
    "- 해외 축구에 대한 국내 연구는 거의 전무한 상태. 더군다나 ML알고리즘을 활용한 연구는 현재까지 발견하지 못함\n",
    "- 해외 축구에 대한 해외 연구는 회귀, ML알고리즘 활용한 연구가 다수 있어, 비교 연구하기에 적절.\n",
    "    - (대상 데이터셋은 유사하나, 방법론 측면(선형회귀, ML알고리즘 각각 1건씩)에서 다른 논문 2건 발견)\n",
    "\n",
    "```\n",
    "\n",
    "\n",
    "```"
   ]
  },
  {
   "cell_type": "markdown",
   "metadata": {},
   "source": [
    "```\n",
    "    1) 국내축구\n",
    "        - 이종우(2014), 실업팀 선수의 연봉 결정요인 분석 : 개인종목을 중심으로. 서울대학교 대학원\n",
    "        - 신문선(2003). 한국 프로축구 선수의 연봉산정 모델 개발. 국내박사학위논문, 세종대학교 대학원, 서울.\n",
    "        - 한동섭, 김정기, 김종(2007). 스포츠 스타의 이미지와 소속 팀, 보증 제품 및 사회 이미지의 관계에 관한 연구. 한국스포츠산업.경영학회지, 12(3), 155-168.\n",
    "    \n",
    "    2) 해외축구\n",
    "        - 최명일(2002). 스포츠 스타 이미지 구성요인에 관한 연구. 국내석사학위논문, 한양대학교 대학원, 서울.\n",
    "        - Yunus Koloğlu(2018). A Multiple Linear Regression Approach For Estimating the Market Value of Football Players in Forward Position\n",
    "        - Edward Nsolo(2018), Player valuation in European football\n",
    "        - Yaldo, L.(2017). Computational Estimation of Football Player Wages\n",
    "        - Shubham Maurya(2018). Can Linear Models predict a Footballer’s Value?\n",
    "        - Oliver Müller(2017). BEYOND CROWD JUDGMENTS: DATA-DRIVEN ESTIMATION OF MARKET VALUE IN ASSOCIATION FOOTBALL\n",
    "    \n",
    "    3) 타 스포츠\n",
    "        - 권병진(2005). 미국 프로야구 Major League 선수들의 노동생산성과 연봉에 관한 연구. 서강대학교 대학원\n",
    "        - 송종우(2008). 한국 프로스포츠 선수들의 연봉에 대한 다변량적분석. 응용통계연구, 21(3), 441-45\n",
    "        - 승희배, 강기훈(2012). 한국 프로야구 선수들의 경기력과 연봉의 관계 분석. 한국데이터정보과학회지, 23(2), 285-298.\n",
    "        - 오광모, 이장택(2003). 데이터마이닝을 이용한 한국프로야구 선수들이 연봉에 관한 모형연구. 한국스포츠사회학회지,16(2), 295-309.\n",
    "        - 손동만(2018). NBA 선수 연봉구조와 선수 스타파워가 팀 퍼포먼스에 미치는 영향. 서울대학교 대학원\n",
    "        - 황선욱(2019). 주성분 기법을 활용한 NBA선수 포지션별 선수평가지수 및 연봉예측모델 개발. 동국대학교 대학원\n",
    "        - Daniel Bratulić(2019). Predicting 2018–19 NBA’s Most Valuable Player using Machine Learning\n",
    "        \n",
    "```\n",
    "\n",
    "```\n",
    "\n",
    "\n",
    "```"
   ]
  },
  {
   "cell_type": "markdown",
   "metadata": {},
   "source": [
    "**2. 방법 측면 : 최근 연구에서 ML 방법론의 연구가 두드러지나, 동시에 크롤링 데이터를 토대로 한 회귀 연구도 함께 활발히 진행 중**\n",
    "\n",
    "```    \n",
    "    1) 회귀 (6개)\n",
    "        - 이종우(2014), 실업팀 선수의 연봉 결정요인 분석 : 개인종목을 중심으로. 서울대학교 대학원\n",
    "        - 신문선(2003). 한국 프로축구 선수의 연봉산정 모델 개발. 국내박사학위논문, 세종대학교 대학원, 서울.\n",
    "        - 동섭, 김정기, 김종(2007). 스포츠 스타의 이미지와 소속 팀, 보증 제품 및 사회 이미지의 관계에 관한 연구. 한국스포츠산업.경영학회지,\n",
    "        - 손동만(2018). NBA 선수 연봉구조와 선수 스타파워가 팀 퍼포먼스에 미치는 영향. 서울대학교 대학원\n",
    "        - Yunus Koloğlu(2018). A Multiple Linear Regression Approach For Estimating the Market Value of Football Players in Forward Position\n",
    "        - Shubham Maurya(2018). Can Linear Models predict a Footballer’s Value?\n",
    "        - Oliver Müller(2017). BEYOND CROWD JUDGMENTS: DATA-DRIVEN ESTIMATION OF MARKET VALUE IN ASSOCIATION FOOTBALL\n",
    "    \n",
    "    2) 주성분 분석 (2개)\n",
    "        - 승희배, 강기훈(2012). 한국 프로야구 선수들의 경기력과 연봉의 관계 분석. 한국데이터정보과학회지\n",
    "        - 황선욱(2019). 주성분 기법을 활용한 NBA선수 포지션별 선수평가지수 및 연봉예측모델 개발. 동국대학교 대학원\n",
    "        \n",
    "    \n",
    "    2) 머신러닝 (4개)\n",
    "        - 오광모, 이장택(2003). 데이터마이닝을 이용한 한국프로야구 선수들이 연봉에 관한 모형연구. 한국스포츠사회학회지,16(2)\n",
    "        - Edward Nsolo(2018), Player valuation in European football\n",
    "        - Daniel Bratulić(2019). Predicting 2018–19 NBA’s Most Valuable Player using Machine Learning\n",
    "        - Yaldo, L.(2017). Computational Estimation of Football Player Wages\n",
    "    \n",
    "```    \n",
    "   \n",
    "    "
   ]
  },
  {
   "cell_type": "markdown",
   "metadata": {},
   "source": [
    "# 선행연구 검토에서 얻은 시사점"
   ]
  },
  {
   "cell_type": "markdown",
   "metadata": {},
   "source": [
    "### 1. 선형회귀 관련\n",
    "\n",
    "1) 독립변수 간 다중공선성 확인 필요. 승희배, 강기훈(2012)\n",
    "\n",
    "2) 독립변수 selection 시, 방법론 고민 필요. Yaldo, L.(2017).\n",
    "    : Relief Attribute Evaluation\n",
    "\n",
    "3) 공격수, 수비수 간 경기력 측정 지표가 상이할 가능성 확인. 신문선(2003)\n",
    "\n",
    "4) 독립변수 분리 네이밍 참고 : 경기력 요인 / 비경기력 요인. 이종우(2014)\n",
    "\n",
    "5) 부분회귀 활용 : 주요 독립변수 영향력 확인. 신문선(2003)\n",
    "\n",
    "6) 데이터의 정규성 검정 실시 필요 (선형회귀의 정규성 가정)\n",
    "\n",
    "7) 성능 평가 방법 고민\n",
    "    : 성능 평가 시, k-fold cross validation 대신, RMSE, MAE 활용. Oliver Müller(2017)\n",
    "    : MAE, MSE, correlation coefficient, MRE"
   ]
  },
  {
   "cell_type": "markdown",
   "metadata": {},
   "source": [
    "### 2. ML 관련\n",
    "\n",
    "1) 독립변수 selection 시, 방법론 고민 필요. Edward Nsolo(2018)\n",
    "   : wrapper method, filter method\n",
    "\n",
    "2) 성능 평가 방법 고민\n",
    "    : (회귀) MAE, MSE, correlation coefficient, MRE / (ML) k-fold cross validation (accuracy, precision, recall, F1 score (or f-measure), and AUC-ROC)\n",
    "\n",
    "3) ML 측면 데이터 분석 연구 흐름 : EDA -> 전처리 -> 모형 적용 -> 성능 평가 -> 결과 산출. 오광모, 이장택(2003)\n",
    "\n",
    "4) ML 모델 구성을 CART, CART 후 NN, NN 후 CART, NN 등으로 다양하게 구성할 수 있음. 오광모, 이장택(2003)"
   ]
  },
  {
   "cell_type": "markdown",
   "metadata": {},
   "source": [
    "### 3. 주성분 분석을 통한 예측모델 가능\n",
    "\n",
    "1) 주성분 분석 -> 주요 설명 변수 추출 -> 선수 평가 모델 독립 변수에 활용. 황선욱(2019)\n",
    "\n",
    "\n",
    "\n",
    "### 4. 기타\n",
    "\n",
    "1) 농구, 야구와 달리 축구는 공신력있는 선수평가지수 및 통계량 자료(ABPR 메트릭스, 세이버 메트릭스 등)가 없음\n",
    "\n",
    "2) 연구 방향 : 연봉 예측 / 기존 선수 평가 지수 모델 개발 가능할 듯"
   ]
  },
  {
   "cell_type": "markdown",
   "metadata": {},
   "source": [
    "```\n",
    "\n",
    "\n",
    "\n",
    "\n",
    "\n",
    "\n",
    "```"
   ]
  },
  {
   "cell_type": "markdown",
   "metadata": {},
   "source": [
    "# 세부 선행연구 목록"
   ]
  },
  {
   "cell_type": "markdown",
   "metadata": {},
   "source": [
    "# 1. topic관련 : 프로스포츠 연봉 관련 연구\n",
    "\n"
   ]
  },
  {
   "cell_type": "markdown",
   "metadata": {},
   "source": [
    "# 국내연구"
   ]
  },
  {
   "cell_type": "markdown",
   "metadata": {},
   "source": [
    "**1) 이종우(2014), 실업팀 선수의 연봉 결정요인 분석 : 개인종목을 중심으로. 서울대학교 대학원**\n",
    "    - 사용 모델 : 정성적분석, 기술통계분석, 다중회귀분석(다변수 회귀분석)\n",
    "    - 종속변수 : 연봉\n",
    "    - 독립변수 : 경기력 요인 8개, 비경기력 요인 9개\n",
    "        \n",
    "        * 경기력요인 : 대회수준, 개인 경기력, 신기록 보유 여부, 선수 경기력 고려기간, 과거 경기력, 국가대표 여부, 국가대표 후보 여부, 신체 조건\n",
    "        \n",
    "        * 비경기력요인 : 종목 특성(다관왕, 종목 순위 배점), 타선수 연봉, 출신 지역, 지역내 스포츠 이벤트 개최 여부, 실업팀 연차, 실업팀 기여도, 선수 기간, 군필 여부, 감독 유형\n",
    "            \n",
    "    - 연구결과 \n",
    "        1) 연봉과 비례(경기력요인) : 전국대회, 올림픽, 세계 선수권, 기타 국제대회, 한국 신기록, 전국가대표, 신체조건\n",
    "        2) 연봉과 비례(비경기력요인) : 실업선수 경력, 전국체전 순위 배점, 관리형 감독\n"
   ]
  },
  {
   "cell_type": "markdown",
   "metadata": {},
   "source": [
    "2) 권병진(2005). 미국 프로야구 Major League 선수들의 노동생산성과 연봉에 관한 연구. 서강대학교 대학원"
   ]
  },
  {
   "cell_type": "markdown",
   "metadata": {},
   "source": [
    "3) 송종우(2008). 한국 프로스포츠 선수들의 연봉에 대한 다변량적분석. 응용통계연구, 21(3), 441-45"
   ]
  },
  {
   "cell_type": "markdown",
   "metadata": {},
   "source": [
    "**4) 승희배, 강기훈(2012). 한국 프로야구 선수들의 경기력과 연봉의 관계 분석. 한국데이터정보과학회지, 23(2), 285-298.**\n",
    "\n",
    "    - 사용 모델 : 사이버메트릭스 지수, 주성분 분석\n",
    "    \n",
    "        * 특이사항 : 독립변수 간 다중공선성 확인을 위해 \"VIF분석, 고유벡터/값 분석, PCA\"\n",
    "    \n",
    "    - 연구 결과 : \n",
    "        1) 사이버메트릭스 지수와 연봉 간 상관관계는 구단 간 차이가 있음\n",
    "        2) 사이버메트릭스 지수의 한계(수비력 반영 부족)를 미국의 방법론을 활용해 보완할 필요\n",
    "        3) 정량적 관리 방법의 우리나라의 도입 필요성 역설"
   ]
  },
  {
   "cell_type": "markdown",
   "metadata": {},
   "source": [
    "**5) 신문선(2003). 한국 프로축구 선수의 연봉산정 모델 개발. 국내박사학위논문, 세종대학교 대학원, 서울.**\n",
    "\n",
    "    - 사용 모델 : 정성분석, 기초통계량분석, 상관관계 분석, 다중회귀 분석\n",
    "    \n",
    "        * 특이사항 : 다중공선성 처리(상관관계 분석 확인으로 마무리), 부분회귀 활용, 다중회귀모델링\n",
    "        \n",
    "    - 연구 결과 :\n",
    "        1) 통합 연봉 요인(9개) : 전년도 연봉, 팀성적, 구단규모, 경기출전수, 감독평가, 국가대표, 프로경력, 득점, 도움, 결정적 방어, 연령, 교체빈도, 장래성\n",
    "        2) 포지션 별 연봉 요인 차이를 둬 분석함(공격수 및 미드필더 / 수비수 / 골키퍼)"
   ]
  },
  {
   "cell_type": "markdown",
   "metadata": {},
   "source": [
    "**6) 오광모, 이장택(2003). 데이터마이닝을 이용한 한국프로야구 선수들이 연봉에 관한 모형연구. 한국스포츠사회학회지,16(2), 295-309.**\n",
    "\n",
    "    - 사용 모델 : 데이터 마이닝(클레멘타인, answer tree), 예측 모형(비선형 : 신경망 분석, 의사결정 나무, 선형 : 회귀분석)\n",
    "    \n",
    "        * 특이사항 : 비선형 모형을 활용해 선형적으로 언급되지 않는 스타급 선수들의 연봉산정을 합리적으로 이해하고자 함\n",
    "        * 특이사항 : 투수, 타자의 독립변수 항목 다르게 설정\n",
    "        \n",
    "    - 연구 결과 :\n",
    "        1) 타자연봉 예측 : 신경망 분석, 투수연봉 예측 : 의사결정나무 가 가장 예측 성능이 좋은 모델로 확인\n",
    "        2) 관중 동원 능력, 미래 잠재 능력 등 비경기력 요인들 확인 못한 한계점 존재\n"
   ]
  },
  {
   "cell_type": "markdown",
   "metadata": {},
   "source": [
    "**7) 한동섭, 김정기, 김종(2007). 스포츠 스타의 이미지와 소속 팀, 보증 제품 및 사회 이미지의 관계에 관한 연구. 한국스포츠산업.경영학회지, 12(3), 155-168.**\n",
    "\n",
    "    - 사용 모델 : 다중회귀분석(유의미한 변수 추출)\n",
    "    \n",
    "        *특이사항 : 이미지 분석을 위해 100명의 학생 대상 이미지를 나타내는 \"형용사\" 단어 수집(총 4명의 선수(국내2명, 해외2명) 대상 조사)\n",
    "        \n",
    "    - 연구 결과 : \n",
    "        1) 스포츠 선수의 이미지가 사회, 국가 이미지에 미치는 영향력 유의미"
   ]
  },
  {
   "cell_type": "markdown",
   "metadata": {},
   "source": [
    "8) 최명일(2002). 스포츠 스타 이미지 구성요인에 관한 연구. 국내석사학위논문, 한양대학교 대학원, 서울."
   ]
  },
  {
   "cell_type": "markdown",
   "metadata": {},
   "source": [
    "**9) 손동만(2018). NBA 선수 연봉구조와 선수 스타파워가 팀 퍼포먼스에 미치는 영향. 서울대학교 대학원**\n",
    "\n",
    "    * 특이사항 : 선수 스타성 지표 활용(올스타전 투표수)\n",
    "        - 사용 모델 : 시계열 분석(GLS Regression with AR(1)\n",
    "        \n",
    "        - 연구 결과 :\n",
    "            1) 연봉 평균 비율 높을 수록 팀 성적 좋음\n",
    "            2) 연봉 격차는 팀 성적에 양적 영향\n",
    "            3) 스타파워 높을 수록 팀 성적 좋음"
   ]
  },
  {
   "cell_type": "markdown",
   "metadata": {},
   "source": [
    "**10) 황선욱(2019). 주성분 기법을 활용한 NBA선수 포지션별 선수평가지수 및 연봉예측모델 개발. 동국대학교 대학원**\n",
    "\n",
    "    * 특이사항 : 주성분 분석을 통해 주요 요인 발굴 -> 선수 평가 지수 모델 개발\n",
    "        - 사용 모델 : 주성분 분석, 회귀분석\n",
    "            * 기존의 선수평가지수(NBA대상, PER)를 대체할 새로운 선수평가지수 개발 목적\n",
    "        - 연구 결과 : 기존 PER 지수의 한계(출전시간에 반비례) 확인. 포지션별 선수 평가 지수 모델 제안."
   ]
  },
  {
   "cell_type": "markdown",
   "metadata": {},
   "source": [
    "# 해외연구"
   ]
  },
  {
   "cell_type": "markdown",
   "metadata": {},
   "source": [
    "**1) Yunus Koloğlu(2018). A Multiple Linear Regression Approach For Estimating the Market Value of Football Players in Forward Position**\n",
    "\n",
    "    - 연구 내용 : 17-18시즌 데이터, 공격수 대상, 시장가치 추정\n",
    "\n",
    "    - 사용 모델 : 다중 선형회귀 (step-wise regression)\n",
    "        *step-wise regression 참고 : https://talkingaboutme.tistory.com/entry/ML-Stepwise-Regression\n",
    "    \n",
    "    - 연구 결과 : \n",
    "        1) 리그가 시장가치에 미치는 영향 적음(그런데, 아마 축구팀 - 리그 사이 다중공선성이 있어 확인해봐야 함)\n",
    "        2) 신장, 주 발(오른쪽, 왼쪽), 국적, 득점 등이 시장 가치에 유효"
   ]
  },
  {
   "cell_type": "markdown",
   "metadata": {},
   "source": [
    "**2) Edward Nsolo(2018), Player valuation in European football**\n",
    "\n",
    "    - 연구 내용 : 성과 좋은 선수들의 스킬과 특징 확인, 성과 예측\n",
    "    \n",
    "       * 특이사항 : 성과 예측 모델의 feature selection을 위해 'filter method', 'wrapper method'를 활용\n",
    "           * ML의 feature selection\n",
    "           * wrapper method : forward selection, backward selection, step-wise selection\n",
    "https://m.blog.naver.com/PostView.nhn?blogId=euleekwon&logNo=221465108279&proxyReferer=https:%2F%2Fwww.google.com%2F\n",
    "\n",
    "    - 사용 모델 : 10개의 ML 알고리즘\n",
    "    (RandomForest, BayesNet, Logistic, DecisionTable (a decision table majority classifier), IBk, KStar (nearest neighbor with generalized distance), NaiveBayes, J48, Part, and ZeroR (predicts the majority class for nominals or the average value for numerics)\n",
    "    \n",
    "        1) 성능 측정 performace : 각 알고리즘을 10번 시행 후 평균 performance 활용\n",
    "        2) 성능 측정 지표 : accuracy, precision, recall, F1 score (or f-measure), and AUC-ROC.\n",
    "        3) feature selection : filter method, wrapper method를 통해 각각의 데이터셋 1개씩 생성\n",
    "        \n",
    "    - 연구 결과 :\n",
    "        1) 개별 선수들의 성공에 영향을 미치는 특징, 스킬셋 확인\n",
    "        2) 다른 연구와 달리, top player(10%, 25%, 50%) 집중 연구\n",
    "        3) 10개 ML 알고리즘의 예측 성능 비교 분석\n",
    "        4) 예측 성능이 포지션 별, 탑 티어별 차등화(f1 score)\n",
    "            * 공격수, 탑 티어일수록 성공 요인이 더 두드러지게 관측됨\n",
    "        5) basic ML 기법 : EPL, 분데스리가 선수 예측에 더 높은 성능(basic ML : Zero R classifier)"
   ]
  },
  {
   "cell_type": "markdown",
   "metadata": {},
   "source": [
    "**3) Daniel Bratulić(2019). Predicting 2018–19 NBA’s Most Valuable Player using Machine Learning**\n",
    "    - 컬럼 기고문 \n",
    "    - url : https://towardsdatascience.com/predicting-2018-19-nbas-most-valuable-player-using-machine-learning-512e577032e3\n",
    "    \n",
    "    - 연구 내용\n",
    "        1) 18-19 시즌, \"predicting most valualbe player\" (MVP award 예측, \"누가 받을까?\")\n",
    "        2) 문제 정의 : 랭킹화 문제. 회귀 문제로 접근해 개별 선수의 target-value(share) 예측\n",
    "\n",
    "    - 사용 모델 : Linear Regression, Ridge Regression, Gradient Boosting Regressor, Random Forest Regressor, SVR\n",
    "    \n",
    "    - 연구 결과 :\n",
    "        1) 평균적인 score 를 측정 -> MVP 선수 예측"
   ]
  },
  {
   "cell_type": "markdown",
   "metadata": {},
   "source": [
    "**4) Shubham Maurya(2018). Can Linear Models predict a Footballer’s Value?**\n",
    "\n",
    "    - 컬럼 기고문\n",
    "    - url : https://towardsdatascience.com/can-linear-models-predict-a-footballers-value-33d772211e5d\n",
    "    \n",
    "    - 연구 내용\n",
    "        1) relationship between a player’s popularity and his market value in the English Premier League\n",
    "        \n",
    "    - 사용 모델 : Linear Regression\n",
    "        *주의사항 : 위키피디아 페이지 뷰 수 -> ability 지표로 활용(상세히 기술)"
   ]
  },
  {
   "cell_type": "markdown",
   "metadata": {},
   "source": [
    "**5) Yaldo, L.(2017). Computational Estimation of Football Player Wages**\n",
    "\n",
    "    - 연구 내용 : \"an objective quantitative method to determine football players’ wages based on their skills\"\n",
    "        * 대상 : 6,082명, 2016시즌, 20개 이상의 리그(세리에A, 세리에B, ...)\n",
    "        * 리그별 분석, 저평가 선수 분석 추가로 진행\n",
    "        \n",
    "        \n",
    "    - 사용 모델 : 7개 머신러닝 알고리즘\n",
    "        Additive Regression (Friedman, 2002), \n",
    "        Decision Table (Kohavi, 1995), \n",
    "        Nearest Neighbor with a weighted condition (Aha et al., 1991), \n",
    "        K* (Cleary et al., 1995), \n",
    "        Locally Weighted Learning with Naive Bayes and Linear regression classifiers (Frank et al., 2002)\n",
    "        Random Committee (Seung et al., 1992),\n",
    "        Random Trees (Aldous, 1993) \n",
    "        \n",
    "        *주의사항 : 변수 선택에 \"Relief Attribute Evaluation\" 방법 사용됨\n",
    "        *MAE, MSE, correlation coefficient, MRE 로 성능평가('leave-one-out test strategy' 활용)\n",
    "            *참고 : https://partrita.github.io/posts/regression-error/ (회귀 오류지표 종합 설명 블로그 글)\n",
    "        \n",
    "     - 연구 결과 :\n",
    "         1) 비경기적 요인이 wage에 포함될 것으로 예상됨\n",
    "         2) 성능 평가 방법에 따라 각 모델 별 성능 평가 순위가 달라짐"
   ]
  },
  {
   "cell_type": "markdown",
   "metadata": {},
   "source": [
    "**6) Oliver Müller(2017). BEYOND CROWD JUDGMENTS: DATA-DRIVEN ESTIMATION OF MARKET VALUE IN ASSOCIATION FOOTBALL**\n",
    "\n",
    "    - 연구 내용 : \"estimate players’ market values using multilevel regression analysis\"\n",
    "                \"data-driven estimation of market value\"\n",
    "        * 대상 : 4,217명, 6 시즌 간(09-14), 상위 5개 리그\n",
    "        \n",
    "    - 사용 모델 : 회귀분석\n",
    "    \n",
    "       *주의사항 : market value의 test 시, 즉, actual data로 \"actual transfer fees\"를 market value의 대체자료로 보고 활용\n",
    "       \n",
    "       * (actual transfer fee - model) vs (actual transfer fee - crowd source[트랜스퍼마켓]) \n",
    "           *model의 train은 crowd source데이터 활용.\n",
    "    \n",
    "       *주의사항 : 성능 평가 시, k-fold cross validation 대신, RMSE, MAE 활용\n",
    "        (time-series- based evaluation approach 고민해야 할 듯)\n",
    "        \n",
    "       *주의사항 : 회귀 모델의 fitness 보기 위해, AIC, BIC, log-likelihood 값 등 확인 \n",
    "       \n",
    "       *dataset : wage자료는 트랜스퍼 마켓 데이터(크라우드 소싱 데이터)로 train\n",
    "        \n",
    "       *주의사항 : 비 경기적 요소 데이터 포함 (위키 페이지 뷰 수, 구글 이름 검색 수, 레딧 포럼 페이지 언급 수, 유튜브 동영상 수)\n",
    "       \"We used four Internet metrics to measure player popularity: the number of times a player’s Wikipedia page was viewed, how often a player’s name was searched on Google, the number of times a player’s name appeared in the ―soccer forum on Reddit, and how many videos about a player were shared on YouTube. The average player had more than 100,000 Wikipe- dia page views and more than 35,000 YouTube videos.\"\n",
    "        \n",
    "    - 연구 결과 :\n",
    "        1) crowd 예측이 어느정도 유의미함. 선수의 90%(하위 이적료)는 model의 예측이 더 fit하지만, 상위 이적료 10%는 crowd-estimate가 더 fit함을 보임 \n",
    "        2) 비 경기적 요소 중 위키, 유튜브, 레딧 이 유의미한 상관관계 보임 \n",
    "        \n"
   ]
  },
  {
   "cell_type": "markdown",
   "metadata": {},
   "source": [
    "```\n",
    "\n",
    "\n",
    "\n",
    "\n",
    "\n",
    "```"
   ]
  },
  {
   "cell_type": "markdown",
   "metadata": {},
   "source": [
    "# 2. topic 외 : 사회 이미지 및 국가 이미지 척도 인용\n"
   ]
  },
  {
   "cell_type": "markdown",
   "metadata": {},
   "source": [
    "# 국내연구"
   ]
  },
  {
   "cell_type": "markdown",
   "metadata": {},
   "source": [
    "1) 김설애(2016). 원산지국가이미지가 소비자인식 및 구매의도에 미치는 영향\n",
    "\n",
    "    - 원산지 국가 이미지과 구매의도 간 상관관계에 대한 연구\n",
    "        - 연구 방법 : 설문 조사"
   ]
  },
  {
   "cell_type": "markdown",
   "metadata": {},
   "source": [
    "2)문효진(2016). 국가브랜드 평판 구성요인 도출을 위한 탐색적 연구  \n",
    "\n",
    "    - 국가 브랜드 평판에 영향을 미치는 요인 탐구\n",
    "        - 연구 방법 : 설문 조사"
   ]
  },
  {
   "cell_type": "markdown",
   "metadata": {},
   "source": [
    "# 해외연구"
   ]
  },
  {
   "cell_type": "markdown",
   "metadata": {},
   "source": [
    "1) Martin, I. M. & Eroglu, S. (1993).  Measuring a Multi-Dimensional Construct: Country Image\n",
    "    - 국가 이미지에 영향을 주는 요소들의 항목 연구"
   ]
  },
  {
   "cell_type": "markdown",
   "metadata": {},
   "source": [
    "**2) J. David Singer(2007). 국가역량 종합지수(Composite Index of National Capability, CNIC)**\n",
    "    - 국가의 Hard Power 측정 지표\n",
    "    \n",
    "    - 결과 url : \n",
    "    https://ko.wikipedia.org/wiki/%EA%B5%AD%EA%B0%80_%EC%97%AD%EB%9F%89_%EC%A2%85%ED%95%A9_%EC%A7%80%EC%88%98\n",
    "  "
   ]
  },
  {
   "cell_type": "markdown",
   "metadata": {},
   "source": [
    "3) monocle(2018). 국가별 소프트 파워 지수\n",
    "\n",
    "    - 국가의 soft power 측정 지표\n",
    "    \n",
    "    - 결과 url :\n",
    "    https://ko.wikipedia.org/wiki/%EA%B5%AD%EA%B0%80_%EB%B8%8C%EB%9E%9C%EB%93%9C#cite_note-5\n",
    "    \n",
    "    - 구체적인 결과를 보려면, monocle 잡지를 유료 구독해야한다는 한계점\n",
    "    - 공신력 측면에서 한계 예상"
   ]
  },
  {
   "cell_type": "markdown",
   "metadata": {},
   "source": [
    "**4) US News(2020). US News 최고의 나라 지수**\n",
    "\n",
    "    - 80개국 대상 순위 (2016 - 2020, 5개년 자료)\n",
    "    - 결과 url : https://www.usnews.com/news/best-countries/overall-rankings\n",
    "    - metric url : https://www.usnews.com/news/best-countries/articles/methodology\n",
    "    "
   ]
  },
  {
   "cell_type": "markdown",
   "metadata": {},
   "source": [
    "```\n",
    "\n",
    "\n",
    "\n",
    "\n",
    "\n",
    "```"
   ]
  },
  {
   "cell_type": "markdown",
   "metadata": {},
   "source": [
    "# 3. topic 외 : SNS 데이터 분석 관련\n"
   ]
  },
  {
   "cell_type": "markdown",
   "metadata": {},
   "source": [
    "1) 강지원(2020). Why do Instagram Users Tag Friends in Comments\n",
    "\n",
    "    - instalooter : 비디오, 사진 긁어올 수 있는 루트\n",
    "    참고 url : https://blog.naver.com/moongs2chi/221612087877\n",
    "    참고 url : https://instalooter.readthedocs.io/en/latest/\n",
    "    \n",
    "    - selenium - webdriver 등"
   ]
  }
 ],
 "metadata": {
  "kernelspec": {
   "display_name": "Python 3",
   "language": "python",
   "name": "python3"
  },
  "language_info": {
   "codemirror_mode": {
    "name": "ipython",
    "version": 3
   },
   "file_extension": ".py",
   "mimetype": "text/x-python",
   "name": "python",
   "nbconvert_exporter": "python",
   "pygments_lexer": "ipython3",
   "version": "3.7.4"
  }
 },
 "nbformat": 4,
 "nbformat_minor": 2
}
