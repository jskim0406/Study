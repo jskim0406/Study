{
 "cells": [
  {
   "cell_type": "markdown",
   "metadata": {},
   "source": [
    "# 참고연구 목록\n",
    "    : 연구 주제 관련 직, 간접적 관련 선행연구 및 참고자료 (총 21건)"
   ]
  },
  {
   "cell_type": "markdown",
   "metadata": {},
   "source": [
    "```\n",
    "1) 이종우(2014), 실업팀 선수의 연봉 결정요인 분석 : 개인종목을 중심으로. 서울대학교 대학원\n",
    "2) 권병진(2005). 미국 프로야구 Major League 선수들의 노동생산성과 연봉에 관한 연구. 서강대학교 대학원\n",
    "3) 송종우(2008). 한국 프로스포츠 선수들의 연봉에 대한 다변량적분석. 응용통계연구, 21(3), 441-45\n",
    "4) 승희배, 강기훈(2012). 한국 프로야구 선수들의 경기력과 연봉의 관계 분석. 한국데이터정보과학회지, 23(2), 285-298.\n",
    "5) 신문선(2003). 한국 프로축구 선수의 연봉산정 모델 개발. 국내박사학위논문, 세종대학교 대학원, 서울.\n",
    "6) 오광모, 이장택(2003). 데이터마이닝을 이용한 한국프로야구 선수들이 연봉에 관한 모형연구. 한국스포츠사회학회지,16(2), 295-309.\n",
    "7) 한동섭, 김정기, 김종(2007). 스포츠 스타의 이미지와 소속 팀, 보증 제품 및 사회 이미지의 관계에 관한 연구. 한국스포츠산업.경영학회지, 12(3), 155-168.\n",
    "8) 최명일(2002). 스포츠 스타 이미지 구성요인에 관한 연구. 국내석사학위논문, 한양대학교 대학원, 서울.\n",
    "9) 손동만(2018). NBA 선수 연봉구조와 선수 스타파워가 팀 퍼포먼스에 미치는 영향. 서울대학교 대학원\n",
    "10) 황선욱(2019). 주성분 기법을 활용한 NBA선수 포지션별 선수평가지수 및 연봉예측모델 개발. 동국대학교 대학원\n",
    "11) Yunus Koloğlu(2018). A Multiple Linear Regression Approach For Estimating the Market Value of Football Players in Forward Position\n",
    "12) Edward Nsolo(2018), Player valuation in European football\n",
    "13) Daniel Bratulić(2019). Predicting 2018–19 NBA’s Most Valuable Player using Machine Learning\n",
    "14) Shubham Maurya(2018). Can Linear Models predict a Footballer’s Value?\n",
    "15) Yaldo, L.(2017). Computational Estimation of Football Player Wages\n",
    "16) Oliver Müller(2017). BEYOND CROWD JUDGMENTS: DATA-DRIVEN ESTIMATION OF MARKET VALUE IN ASSOCIATION FOOTBALL\n",
    "17) 김설애(2016). 원산지국가이미지가 소비자인식 및 구매의도에 미치는 영향\n",
    "18) 문효진(2016). 국가브랜드 평판 구성요인 도출을 위한 탐색적 연구  \n",
    "19) Martin, I. M. & Eroglu, S. (1993).  Measuring a Multi-Dimensional Construct: Country Image\n",
    "20) J. David Singer(2007). 국가역량 종합지수(Composite Index of National Capability, CNIC)\n",
    "21) US News(2020). US News 최고의 나라 지수\n",
    "22) 강지원(2020). Why do Instagram Users Tag Friends in Comments\n",
    "```"
   ]
  },
  {
   "cell_type": "markdown",
   "metadata": {},
   "source": [
    "# 참고연구 분류 및 시사점\n",
    "\n",
    "**1. 데이터 측면**\n",
    "\n",
    "- 해외 축구에 대한 국내 연구는 거의 전무한 상태. 더군다나 ML알고리즘을 활용한 연구는 현재까지 발견하지 못함\n",
    "- 해외 축구에 대한 해외 연구는 회귀, ML알고리즘 활용한 연구가 다수 있어, 비교 연구하기에 적절.\n",
    "    - (대상 데이터셋은 유사하나, 방법론 측면(선형회귀, ML알고리즘 각각 1건씩)에서 다른 논문 2건 발견)\n",
    "\n",
    "```\n",
    "\n",
    "\n",
    "```"
   ]
  },
  {
   "cell_type": "markdown",
   "metadata": {},
   "source": [
    "```\n",
    "    1) 국내축구\n",
    "        - 이종우(2014), 실업팀 선수의 연봉 결정요인 분석 : 개인종목을 중심으로. 서울대학교 대학원\n",
    "        - 신문선(2003). 한국 프로축구 선수의 연봉산정 모델 개발. 국내박사학위논문, 세종대학교 대학원, 서울.\n",
    "        - 한동섭, 김정기, 김종(2007). 스포츠 스타의 이미지와 소속 팀, 보증 제품 및 사회 이미지의 관계에 관한 연구. 한국스포츠산업.경영학회지, 12(3), 155-168.\n",
    "    \n",
    "    2) 해외축구\n",
    "        - 최명일(2002). 스포츠 스타 이미지 구성요인에 관한 연구. 국내석사학위논문, 한양대학교 대학원, 서울.\n",
    "        - Yunus Koloğlu(2018). A Multiple Linear Regression Approach For Estimating the Market Value of Football Players in Forward Position\n",
    "        - Edward Nsolo(2018), Player valuation in European football\n",
    "        - Yaldo, L.(2017). Computational Estimation of Football Player Wages\n",
    "        - Shubham Maurya(2018). Can Linear Models predict a Footballer’s Value?\n",
    "        - Oliver Müller(2017). BEYOND CROWD JUDGMENTS: DATA-DRIVEN ESTIMATION OF MARKET VALUE IN ASSOCIATION FOOTBALL\n",
    "    \n",
    "    3) 타 스포츠\n",
    "        - 권병진(2005). 미국 프로야구 Major League 선수들의 노동생산성과 연봉에 관한 연구. 서강대학교 대학원\n",
    "        - 송종우(2008). 한국 프로스포츠 선수들의 연봉에 대한 다변량적분석. 응용통계연구, 21(3), 441-45\n",
    "        - 승희배, 강기훈(2012). 한국 프로야구 선수들의 경기력과 연봉의 관계 분석. 한국데이터정보과학회지, 23(2), 285-298.\n",
    "        - 오광모, 이장택(2003). 데이터마이닝을 이용한 한국프로야구 선수들이 연봉에 관한 모형연구. 한국스포츠사회학회지,16(2), 295-309.\n",
    "        - 손동만(2018). NBA 선수 연봉구조와 선수 스타파워가 팀 퍼포먼스에 미치는 영향. 서울대학교 대학원\n",
    "        - 황선욱(2019). 주성분 기법을 활용한 NBA선수 포지션별 선수평가지수 및 연봉예측모델 개발. 동국대학교 대학원\n",
    "        - Daniel Bratulić(2019). Predicting 2018–19 NBA’s Most Valuable Player using Machine Learning\n",
    "        \n",
    "```\n",
    "\n",
    "```\n",
    "\n",
    "\n",
    "```"
   ]
  },
  {
   "cell_type": "markdown",
   "metadata": {},
   "source": [
    "**2. 방법 측면 : 최근 연구에서 ML 방법론의 연구가 두드러지나, 동시에 크롤링 데이터를 토대로 한 회귀 연구도 함께 활발히 진행 중**\n",
    "\n",
    "```    \n",
    "    1) 회귀 (6개)\n",
    "        - 이종우(2014), 실업팀 선수의 연봉 결정요인 분석 : 개인종목을 중심으로. 서울대학교 대학원\n",
    "        - 신문선(2003). 한국 프로축구 선수의 연봉산정 모델 개발. 국내박사학위논문, 세종대학교 대학원, 서울.\n",
    "        - 동섭, 김정기, 김종(2007). 스포츠 스타의 이미지와 소속 팀, 보증 제품 및 사회 이미지의 관계에 관한 연구. 한국스포츠산업.경영학회지,\n",
    "        - 손동만(2018). NBA 선수 연봉구조와 선수 스타파워가 팀 퍼포먼스에 미치는 영향. 서울대학교 대학원\n",
    "        - Yunus Koloğlu(2018). A Multiple Linear Regression Approach For Estimating the Market Value of Football Players in Forward Position\n",
    "        - Shubham Maurya(2018). Can Linear Models predict a Footballer’s Value?\n",
    "        - Oliver Müller(2017). BEYOND CROWD JUDGMENTS: DATA-DRIVEN ESTIMATION OF MARKET VALUE IN ASSOCIATION FOOTBALL\n",
    "    \n",
    "    2) 주성분 분석 (2개)\n",
    "        - 승희배, 강기훈(2012). 한국 프로야구 선수들의 경기력과 연봉의 관계 분석. 한국데이터정보과학회지\n",
    "        - 황선욱(2019). 주성분 기법을 활용한 NBA선수 포지션별 선수평가지수 및 연봉예측모델 개발. 동국대학교 대학원\n",
    "        \n",
    "    \n",
    "    2) 머신러닝 (4개)\n",
    "        - 오광모, 이장택(2003). 데이터마이닝을 이용한 한국프로야구 선수들이 연봉에 관한 모형연구. 한국스포츠사회학회지,16(2)\n",
    "        - Edward Nsolo(2018), Player valuation in European football\n",
    "        - Daniel Bratulić(2019). Predicting 2018–19 NBA’s Most Valuable Player using Machine Learning\n",
    "        - Yaldo, L.(2017). Computational Estimation of Football Player Wages\n",
    "    \n",
    "```    \n",
    "   \n",
    "    "
   ]
  },
  {
   "cell_type": "markdown",
   "metadata": {},
   "source": [
    "# 선행연구 검토에서 얻은 시사점"
   ]
  },
  {
   "cell_type": "markdown",
   "metadata": {},
   "source": [
    "### 1. 선형회귀 관련\n",
    "\n",
    "1) 독립변수 간 다중공선성 확인 필요. 승희배, 강기훈(2012)\n",
    "\n",
    "2) 독립변수 selection 시, 방법론 고민 필요. Yaldo, L.(2017).\n",
    "    : Relief Attribute Evaluation\n",
    "\n",
    "3) 공격수, 수비수 간 경기력 측정 지표가 상이할 가능성 확인. 신문선(2003)\n",
    "\n",
    "4) 독립변수 분리 네이밍 참고 : 경기력 요인 / 비경기력 요인. 이종우(2014)\n",
    "\n",
    "5) 부분회귀 활용 : 주요 독립변수 영향력 확인. 신문선(2003)\n",
    "\n",
    "6) 데이터의 정규성 검정 실시 필요 (선형회귀의 정규성 가정)\n",
    "\n",
    "7) 성능 평가 방법 고민\n",
    "    : 성능 평가 시, k-fold cross validation 대신, RMSE, MAE 활용. Oliver Müller(2017)\n",
    "    : MAE, MSE, correlation coefficient, MRE"
   ]
  },
  {
   "cell_type": "markdown",
   "metadata": {},
   "source": [
    "### 2. ML 관련\n",
    "\n",
    "1) 독립변수 selection 시, 방법론 고민 필요. Edward Nsolo(2018)\n",
    "   : wrapper method, filter method\n",
    "\n",
    "2) 성능 평가 방법 고민\n",
    "    : (회귀) MAE, MSE, correlation coefficient, MRE / (ML) k-fold cross validation (accuracy, precision, recall, F1 score (or f-measure), and AUC-ROC)\n",
    "\n",
    "3) ML 측면 데이터 분석 연구 흐름 : EDA -> 전처리 -> 모형 적용 -> 성능 평가 -> 결과 산출. 오광모, 이장택(2003)\n",
    "\n",
    "4) ML 모델 구성을 CART, CART 후 NN, NN 후 CART, NN 등으로 다양하게 구성할 수 있음. 오광모, 이장택(2003)"
   ]
  },
  {
   "cell_type": "markdown",
   "metadata": {},
   "source": [
    "### 3. 주성분 분석을 통한 예측모델 가능\n",
    "\n",
    "1) 주성분 분석 -> 주요 설명 변수 추출 -> 선수 평가 모델 독립 변수에 활용. 황선욱(2019)\n",
    "\n",
    "\n",
    "\n",
    "### 4. 기타\n",
    "\n",
    "1) 농구, 야구와 달리 축구는 공신력있는 선수평가지수 및 통계량 자료(ABPR 메트릭스, 세이버 메트릭스 등)가 없음\n",
    "\n",
    "2) 연구 방향 : 연봉 예측 / 기존 선수 평가 지수 모델 개발 가능할 듯"
   ]
  }
 ],
 "metadata": {
  "kernelspec": {
   "display_name": "Python 3",
   "language": "python",
   "name": "python3"
  },
  "language_info": {
   "codemirror_mode": {
    "name": "ipython",
    "version": 3
   },
   "file_extension": ".py",
   "mimetype": "text/x-python",
   "name": "python",
   "nbconvert_exporter": "python",
   "pygments_lexer": "ipython3",
   "version": "3.7.4"
  }
 },
 "nbformat": 4,
 "nbformat_minor": 2
}
