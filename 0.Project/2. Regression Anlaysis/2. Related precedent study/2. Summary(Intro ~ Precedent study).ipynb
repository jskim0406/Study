{
 "cells": [
  {
   "cell_type": "markdown",
   "metadata": {
    "slideshow": {
     "slide_type": "slide"
    }
   },
   "source": [
    "# 1. 연구배경 (The background of Research)"
   ]
  },
  {
   "cell_type": "markdown",
   "metadata": {
    "slideshow": {
     "slide_type": "subslide"
    }
   },
   "source": [
    "1. <img width=\"753\" alt=\"스크린샷 2020-06-02 오후 6 20 58\" src=\"https://user-images.githubusercontent.com/59719711/83503397-f4dc9780-a4fd-11ea-93ec-59a53ec72fb3.png\">"
   ]
  },
  {
   "cell_type": "markdown",
   "metadata": {
    "slideshow": {
     "slide_type": "subslide"
    }
   },
   "source": [
    "2. <img width=\"752\" alt=\"스크린샷 2020-06-02 오후 6 22 15\" src=\"https://user-images.githubusercontent.com/59719711/83503455-0c1b8500-a4fe-11ea-8b56-7267c354f7b2.png\">"
   ]
  },
  {
   "cell_type": "markdown",
   "metadata": {
    "slideshow": {
     "slide_type": "slide"
    }
   },
   "source": [
    "# 2. 선행 연구"
   ]
  },
  {
   "cell_type": "markdown",
   "metadata": {
    "slideshow": {
     "slide_type": "subslide"
    }
   },
   "source": [
    "# 참고연구 목록\n",
    "    : 연구 주제 관련 직, 간접적 관련 선행연구 및 참고자료 (총 22건)"
   ]
  },
  {
   "cell_type": "markdown",
   "metadata": {
    "slideshow": {
     "slide_type": "fragment"
    }
   },
   "source": [
    "```\n",
    "1) 이종우(2014), 실업팀 선수의 연봉 결정요인 분석 : 개인종목을 중심으로. 서울대학교 대학원\n",
    "2) 권병진(2005). 미국 프로야구 Major League 선수들의 노동생산성과 연봉에 관한 연구. 서강대학교 대학원\n",
    "3) 송종우(2008). 한국 프로스포츠 선수들의 연봉에 대한 다변량적분석. 응용통계연구, 21(3), 441-45\n",
    "4) 승희배, 강기훈(2012). 한국 프로야구 선수들의 경기력과 연봉의 관계 분석. 한국데이터정보과학회지, 23(2), 285-298.\n",
    "5) 신문선(2003). 한국 프로축구 선수의 연봉산정 모델 개발. 국내박사학위논문, 세종대학교 대학원, 서울.\n",
    "6) 오광모, 이장택(2003). 데이터마이닝을 이용한 한국프로야구 선수들이 연봉에 관한 모형연구. 한국스포츠사회학회지,16(2), 295-309.\n",
    "7) 한동섭, 김정기, 김종(2007). 스포츠 스타의 이미지와 소속 팀, 보증 제품 및 사회 이미지의 관계에 관한 연구. 한국스포츠산업.경영학회지, 12(3), 155-168.\n",
    "8) 최명일(2002). 스포츠 스타 이미지 구성요인에 관한 연구. 국내석사학위논문, 한양대학교 대학원, 서울.\n",
    "9) 손동만(2018). NBA 선수 연봉구조와 선수 스타파워가 팀 퍼포먼스에 미치는 영향. 서울대학교 대학원\n",
    "10) 황선욱(2019). 주성분 기법을 활용한 NBA선수 포지션별 선수평가지수 및 연봉예측모델 개발. 동국대학교 대학원\n",
    "11) Yunus Koloğlu(2018). A Multiple Linear Regression Approach For Estimating the Market Value of Football Players in Forward Position\n",
    "12) Edward Nsolo(2018), Player valuation in European football\n",
    "13) Daniel Bratulić(2019). Predicting 2018–19 NBA’s Most Valuable Player using Machine Learning\n",
    "14) Shubham Maurya(2018). Can Linear Models predict a Footballer’s Value?\n",
    "15) Yaldo, L.(2017). Computational Estimation of Football Player Wages\n",
    "16) Oliver Müller(2017). BEYOND CROWD JUDGMENTS: DATA-DRIVEN ESTIMATION OF MARKET VALUE IN ASSOCIATION FOOTBALL\n",
    "17) 김설애(2016). 원산지국가이미지가 소비자인식 및 구매의도에 미치는 영향\n",
    "18) 문효진(2016). 국가브랜드 평판 구성요인 도출을 위한 탐색적 연구  \n",
    "19) Martin, I. M. & Eroglu, S. (1993).  Measuring a Multi-Dimensional Construct: Country Image\n",
    "20) J. David Singer(2007). 국가역량 종합지수(Composite Index of National Capability, CNIC)\n",
    "21) US News(2020). US News 최고의 나라 지수\n",
    "22) 강지원(2020). Why do Instagram Users Tag Friends in Comments\n",
    "```"
   ]
  },
  {
   "cell_type": "markdown",
   "metadata": {
    "slideshow": {
     "slide_type": "subslide"
    }
   },
   "source": [
    "# 참고연구 분류 및 시사점\n",
    "\n",
    "**1. 데이터 측면**\n",
    "\n",
    "- 해외 축구에 대한 국내 연구는 거의 전무한 상태. 더군다나 ML알고리즘을 활용한 연구는 현재까지 발견하지 못함\n",
    "- 해외 축구에 대한 해외 연구는 회귀, ML알고리즘 활용한 연구가 다수 있어, 비교 연구하기에 적절.\n",
    "    - (대상 데이터셋은 유사하나, 방법론 측면(선형회귀, ML알고리즘 각각 1건씩)에서 다른 논문 2건 발견)\n",
    "\n",
    "```\n",
    "\n",
    "\n",
    "```"
   ]
  },
  {
   "cell_type": "markdown",
   "metadata": {
    "slideshow": {
     "slide_type": "fragment"
    }
   },
   "source": [
    "```\n",
    "    1) 국내축구\n",
    "        - 이종우(2014), 실업팀 선수의 연봉 결정요인 분석 : 개인종목을 중심으로. 서울대학교 대학원\n",
    "        - 신문선(2003). 한국 프로축구 선수의 연봉산정 모델 개발. 국내박사학위논문, 세종대학교 대학원, 서울.\n",
    "        - 한동섭, 김정기, 김종(2007). 스포츠 스타의 이미지와 소속 팀, 보증 제품 및 사회 이미지의 관계에 관한 연구. 한국스포츠산업.경영학회지, 12(3), 155-168.\n",
    "    \n",
    "    2) 해외축구\n",
    "        - 최명일(2002). 스포츠 스타 이미지 구성요인에 관한 연구. 국내석사학위논문, 한양대학교 대학원, 서울.\n",
    "        - Yunus Koloğlu(2018). A Multiple Linear Regression Approach For Estimating the Market Value of Football Players in Forward Position\n",
    "        - Edward Nsolo(2018), Player valuation in European football\n",
    "        - Yaldo, L.(2017). Computational Estimation of Football Player Wages\n",
    "        - Shubham Maurya(2018). Can Linear Models predict a Footballer’s Value?\n",
    "        - Oliver Müller(2017). BEYOND CROWD JUDGMENTS: DATA-DRIVEN ESTIMATION OF MARKET VALUE IN ASSOCIATION FOOTBALL\n",
    "    \n",
    "    3) 타 스포츠\n",
    "        - 권병진(2005). 미국 프로야구 Major League 선수들의 노동생산성과 연봉에 관한 연구. 서강대학교 대학원\n",
    "        - 송종우(2008). 한국 프로스포츠 선수들의 연봉에 대한 다변량적분석. 응용통계연구, 21(3), 441-45\n",
    "        - 승희배, 강기훈(2012). 한국 프로야구 선수들의 경기력과 연봉의 관계 분석. 한국데이터정보과학회지, 23(2), 285-298.\n",
    "        - 오광모, 이장택(2003). 데이터마이닝을 이용한 한국프로야구 선수들이 연봉에 관한 모형연구. 한국스포츠사회학회지,16(2), 295-309.\n",
    "        - 손동만(2018). NBA 선수 연봉구조와 선수 스타파워가 팀 퍼포먼스에 미치는 영향. 서울대학교 대학원\n",
    "        - 황선욱(2019). 주성분 기법을 활용한 NBA선수 포지션별 선수평가지수 및 연봉예측모델 개발. 동국대학교 대학원\n",
    "        - Daniel Bratulić(2019). Predicting 2018–19 NBA’s Most Valuable Player using Machine Learning\n",
    "        \n",
    "```\n",
    "\n",
    "```\n",
    "\n",
    "\n",
    "```"
   ]
  },
  {
   "cell_type": "markdown",
   "metadata": {
    "slideshow": {
     "slide_type": "subslide"
    }
   },
   "source": [
    "**2. 방법 측면 : 최근 연구에서 ML 방법론의 연구가 두드러지나, 동시에 크롤링 데이터를 토대로 한 회귀 연구도 함께 활발히 진행 중**"
   ]
  },
  {
   "cell_type": "markdown",
   "metadata": {
    "slideshow": {
     "slide_type": "fragment"
    }
   },
   "source": [
    "```    \n",
    "    1) 회귀 (6개)\n",
    "        - 이종우(2014), 실업팀 선수의 연봉 결정요인 분석 : 개인종목을 중심으로. 서울대학교 대학원\n",
    "        - 신문선(2003). 한국 프로축구 선수의 연봉산정 모델 개발. 국내박사학위논문, 세종대학교 대학원, 서울.\n",
    "        - 동섭, 김정기, 김종(2007). 스포츠 스타의 이미지와 소속 팀, 보증 제품 및 사회 이미지의 관계에 관한 연구. 한국스포츠산업.경영학회지,\n",
    "        - 손동만(2018). NBA 선수 연봉구조와 선수 스타파워가 팀 퍼포먼스에 미치는 영향. 서울대학교 대학원\n",
    "        - Yunus Koloğlu(2018). A Multiple Linear Regression Approach For Estimating the Market Value of Football Players in Forward Position\n",
    "        - Shubham Maurya(2018). Can Linear Models predict a Footballer’s Value?\n",
    "        - [선택]Oliver Müller(2017). BEYOND CROWD JUDGMENTS: DATA-DRIVEN ESTIMATION OF MARKET VALUE IN ASSOCIATION FOOTBALL\n",
    "    \n",
    "    2) 주성분 분석 (2개)\n",
    "        - 승희배, 강기훈(2012). 한국 프로야구 선수들의 경기력과 연봉의 관계 분석. 한국데이터정보과학회지\n",
    "        - 황선욱(2019). 주성분 기법을 활용한 NBA선수 포지션별 선수평가지수 및 연봉예측모델 개발. 동국대학교 대학원\n",
    "        \n",
    "    \n",
    "    2) 머신러닝 (4개)\n",
    "        - 오광모, 이장택(2003). 데이터마이닝을 이용한 한국프로야구 선수들이 연봉에 관한 모형연구. 한국스포츠사회학회지,16(2)\n",
    "        - [선택]Edward Nsolo(2018), Player valuation in European football\n",
    "        - Daniel Bratulić(2019). Predicting 2018–19 NBA’s Most Valuable Player using Machine Learning\n",
    "        - [선택]Yaldo, L.(2017). Computational Estimation of Football Player Wages\n",
    "    \n",
    "```    \n",
    "   \n",
    "    "
   ]
  },
  {
   "cell_type": "markdown",
   "metadata": {
    "slideshow": {
     "slide_type": "subslide"
    }
   },
   "source": [
    "# 선행연구 검토에서 얻은 시사점"
   ]
  },
  {
   "cell_type": "markdown",
   "metadata": {
    "slideshow": {
     "slide_type": "fragment"
    }
   },
   "source": [
    "### 1. 선형회귀 관련\n",
    "\n",
    "1) 독립변수 간 다중공선성 확인 필요. 승희배, 강기훈(2012)\n",
    "\n",
    "2) 독립변수 selection 시, 방법론 고민 필요. Yaldo, L.(2017).\n",
    "    : Relief Attribute Evaluation\n",
    "\n",
    "3) 공격수, 수비수 간 경기력 측정 지표가 상이할 가능성 확인. 신문선(2003)\n",
    "\n",
    "4) 독립변수 분리 네이밍 참고 : 경기력 요인 / 비경기력 요인. 이종우(2014)\n",
    "\n",
    "5) 부분회귀 활용 : 주요 독립변수 영향력 확인. 신문선(2003)\n",
    "\n",
    "6) 데이터의 정규성 검정 실시 필요 (선형회귀의 정규성 가정)\n",
    "\n",
    "7) 성능 평가 방법 고민\n",
    "    : 성능 평가 시, k-fold cross validation 대신, RMSE, MAE 활용. Oliver Müller(2017)\n",
    "    : MAE, MSE, correlation coefficient, MRE"
   ]
  },
  {
   "cell_type": "markdown",
   "metadata": {
    "slideshow": {
     "slide_type": "fragment"
    }
   },
   "source": [
    "### 2. ML 관련\n",
    "\n",
    "1) 독립변수 selection 시, 방법론 고민 필요. Edward Nsolo(2018)\n",
    "   : wrapper method, filter method\n",
    "\n",
    "2) 성능 평가 방법 고민\n",
    "    : (회귀) MAE, MSE, correlation coefficient, MRE / (ML) k-fold cross validation (accuracy, precision, recall, F1 score (or f-measure), and AUC-ROC)\n",
    "\n",
    "3) ML 측면 데이터 분석 연구 흐름 : EDA -> 전처리 -> 모형 적용 -> 성능 평가 -> 결과 산출. 오광모, 이장택(2003)\n",
    "\n",
    "4) ML 모델 구성을 CART, CART 후 NN, NN 후 CART, NN 등으로 다양하게 구성할 수 있음. 오광모, 이장택(2003)"
   ]
  },
  {
   "cell_type": "markdown",
   "metadata": {
    "slideshow": {
     "slide_type": "fragment"
    }
   },
   "source": [
    "### 3. 주성분 분석을 통한 예측모델 가능\n",
    "\n",
    "1) 주성분 분석 -> 주요 설명 변수 추출 -> 선수 평가 모델 독립 변수에 활용. 황선욱(2019)\n",
    "\n",
    "\n",
    "\n",
    "### 4. 기타\n",
    "\n",
    "1) 농구, 야구와 달리 축구는 공신력있는 선수평가지수 및 통계량 자료(ABPR 메트릭스, 세이버 메트릭스 등)가 없음\n",
    "\n",
    "2) 연구 방향 : 연봉 예측 / 기존 선수 평가 지수 모델 개발 가능할 듯"
   ]
  },
  {
   "cell_type": "markdown",
   "metadata": {
    "slideshow": {
     "slide_type": "slide"
    }
   },
   "source": [
    "# 2. 문제정의 (The definition of Issue)\n",
    "\n",
    "주목한 배경 : European football market 전반의 개별 선수의 능력치에 대한 적절한 시장가치를 예측하는 연구의 한계\n",
    "* 각 시즌 별, 각 리그 별 세부 연구들 존재. 하지만 전반을 통합한 연구는 부족하고 방법론에서 한정됨\n",
    "   \n",
    "### 연구 문제 : European football market 전반의 개별 선수의 능력치에 대한 적절한 시장가치를 예측 모델 연구\n",
    "* 대상 데이터 : 주요 리그 통합, 대상 기간 : 최소 5시즌 통합, 방법론 : 선형회귀 및 머신러닝 모델(결합 모형 포함)\n",
    "\n",
    "#### 회귀 모델\n",
    "\n",
    "1) 종속변수 : 유럽 주요리그 500명의 시장평가가격\n",
    "\n",
    "2) 독립변수\n",
    "\n",
    "    경기력 요인 : performance, ability stats\n",
    "    비경기력 요인 : 개인별 인지도 및 시장영향력(SNS, 위키피디아 등)\n",
    "   \n",
    "3) 사용모델 : 단순 선형회귀, 정규화 선형회귀\n",
    "    \n",
    "    "
   ]
  },
  {
   "cell_type": "markdown",
   "metadata": {
    "slideshow": {
     "slide_type": "subslide"
    }
   },
   "source": [
    "#### 제한점 (Limitation)\n",
    "    1. 2개의 다른 사이트에서 데이터 merge 과정에서 동일 독립변수임에도 불구하고 다르게 기재되어 있음 -> 고생하여 해결...\n",
    "    2. 위키피디아 데이터 크롤링 제한\n",
    "    3. 모든 선수의 몸값 시장가치 데이터 갯수 제한 (1,600만 유로 이하 시장가격 데이터 부재)\n"
   ]
  },
  {
   "cell_type": "markdown",
   "metadata": {
    "slideshow": {
     "slide_type": "subslide"
    }
   },
   "source": [
    "#### 제한점 예시 (인스타그램 크롤링)"
   ]
  },
  {
   "cell_type": "code",
   "execution_count": 22,
   "metadata": {
    "slideshow": {
     "slide_type": "subslide"
    }
   },
   "outputs": [
    {
     "name": "stdout",
     "output_type": "stream",
     "text": [
      "chris eriksen : 2041940\n",
      "cristiano ronaldo : 222091962\n",
      "lionel messi : user not verified\n",
      "wglee87 : user not verified\n"
     ]
    }
   ],
   "source": [
    "from selenium import webdriver\n",
    "from bs4 import BeautifulSoup\n",
    "import requests\n",
    "import re\n",
    "\n",
    "userList= ['chris eriksen', 'cristiano ronaldo', 'lionel messi', 'wglee87']\n",
    "\n",
    "url = 'https://www.instagram.com/'\n",
    "driver = webdriver.Chrome('/Users/kimjeongseob/Desktop/기타/chromedriver')\n",
    "driver.get(url)\n",
    "driver.implicitly_wait(3)\n",
    "\n",
    "id = 'omlet_90' #Instagram ID\n",
    "pw = 'jsacop1102' #Instagram PW\n",
    "\n",
    "driver.find_element_by_xpath('//*[@id=\"react-root\"]/section/main/article/div[2]/div[1]/div/form/div[2]/div/label/input').send_keys(id)\n",
    "driver.find_element_by_xpath('//*[@id=\"react-root\"]/section/main/article/div[2]/div[1]/div/form/div[3]/div/label/input').send_keys(pw)\n",
    "driver.find_element_by_xpath('//*[@id=\"react-root\"]/section/main/article/div[2]/div[1]/div/form/div[4]/button').click()\n",
    "\n",
    "driver.implicitly_wait(3)\n",
    "\n",
    "\n",
    "def checkInstaFollowers(user):\n",
    "    driver.find_element_by_xpath('//*[@id=\"react-root\"]/section/nav/div[2]/div/div/div[2]/input').send_keys(user)\n",
    "    driver.implicitly_wait(10)\n",
    "    driver.find_element_by_xpath('//*[@id=\"react-root\"]/section/nav/div[2]/div/div/div[2]/div[2]/div[2]/div/a[1]/div').click()\n",
    "\n",
    "    r = requests.get(driver.current_url).text\n",
    "    followers = re.search('\"edge_followed_by\":{\"count\":([0-9]+)}',r).group(1)\n",
    "\n",
    "    if (r.find('\"is_verified\":true')!=-1):\n",
    "        print('{} : {}'.format(user, followers))\n",
    "    else:\n",
    "        print('{} : user not verified'.format(user))\n",
    "\n",
    "for a in userList:\n",
    "    try:\n",
    "        checkInstaFollowers(a)\n",
    "    except AttributeError:\n",
    "        print(\"{}'s top search is returned as hashtag. Continue to next item\".format(a))"
   ]
  },
  {
   "cell_type": "markdown",
   "metadata": {
    "slideshow": {
     "slide_type": "subslide"
    }
   },
   "source": [
    "#### api-football.com 의 데이터 가져오기"
   ]
  },
  {
   "cell_type": "code",
   "execution_count": 10,
   "metadata": {
    "slideshow": {
     "slide_type": "subslide"
    }
   },
   "outputs": [
    {
     "data": {
      "text/html": [
       "<div>\n",
       "<style scoped>\n",
       "    .dataframe tbody tr th:only-of-type {\n",
       "        vertical-align: middle;\n",
       "    }\n",
       "\n",
       "    .dataframe tbody tr th {\n",
       "        vertical-align: top;\n",
       "    }\n",
       "\n",
       "    .dataframe thead th {\n",
       "        text-align: right;\n",
       "    }\n",
       "</style>\n",
       "<table border=\"1\" class=\"dataframe\">\n",
       "  <thead>\n",
       "    <tr style=\"text-align: right;\">\n",
       "      <th></th>\n",
       "      <th>player_id</th>\n",
       "      <th>player_name</th>\n",
       "      <th>firstname</th>\n",
       "      <th>lastname</th>\n",
       "      <th>number</th>\n",
       "      <th>position</th>\n",
       "      <th>age</th>\n",
       "      <th>birth_date</th>\n",
       "      <th>birth_place</th>\n",
       "      <th>birth_country</th>\n",
       "      <th>...</th>\n",
       "      <th>penalty.commited</th>\n",
       "      <th>penalty.success</th>\n",
       "      <th>penalty.missed</th>\n",
       "      <th>penalty.saved</th>\n",
       "      <th>games.appearences</th>\n",
       "      <th>games.minutes_played</th>\n",
       "      <th>games.lineups</th>\n",
       "      <th>substitutes.in</th>\n",
       "      <th>substitutes.out</th>\n",
       "      <th>substitutes.bench</th>\n",
       "    </tr>\n",
       "  </thead>\n",
       "  <tbody>\n",
       "    <tr>\n",
       "      <th>112</th>\n",
       "      <td>3</td>\n",
       "      <td>E. Oelschlägel</td>\n",
       "      <td>Eric</td>\n",
       "      <td>Oelschlägel</td>\n",
       "      <td>None</td>\n",
       "      <td>Goalkeeper</td>\n",
       "      <td>25</td>\n",
       "      <td>20/09/1995</td>\n",
       "      <td>Hoyerswerda</td>\n",
       "      <td>Germany</td>\n",
       "      <td>...</td>\n",
       "      <td>0</td>\n",
       "      <td>0</td>\n",
       "      <td>0</td>\n",
       "      <td>0</td>\n",
       "      <td>1</td>\n",
       "      <td>90</td>\n",
       "      <td>1</td>\n",
       "      <td>0</td>\n",
       "      <td>0</td>\n",
       "      <td>1</td>\n",
       "    </tr>\n",
       "    <tr>\n",
       "      <th>113</th>\n",
       "      <td>3</td>\n",
       "      <td>E. Oelschlägel</td>\n",
       "      <td>Eric</td>\n",
       "      <td>Oelschlägel</td>\n",
       "      <td>None</td>\n",
       "      <td>Goalkeeper</td>\n",
       "      <td>25</td>\n",
       "      <td>20/09/1995</td>\n",
       "      <td>Hoyerswerda</td>\n",
       "      <td>Germany</td>\n",
       "      <td>...</td>\n",
       "      <td>0</td>\n",
       "      <td>0</td>\n",
       "      <td>0</td>\n",
       "      <td>0</td>\n",
       "      <td>0</td>\n",
       "      <td>0</td>\n",
       "      <td>0</td>\n",
       "      <td>0</td>\n",
       "      <td>0</td>\n",
       "      <td>0</td>\n",
       "    </tr>\n",
       "    <tr>\n",
       "      <th>114</th>\n",
       "      <td>3</td>\n",
       "      <td>E. Oelschlägel</td>\n",
       "      <td>Eric</td>\n",
       "      <td>Oelschlägel</td>\n",
       "      <td>None</td>\n",
       "      <td>Goalkeeper</td>\n",
       "      <td>25</td>\n",
       "      <td>20/09/1995</td>\n",
       "      <td>Hoyerswerda</td>\n",
       "      <td>Germany</td>\n",
       "      <td>...</td>\n",
       "      <td>0</td>\n",
       "      <td>0</td>\n",
       "      <td>0</td>\n",
       "      <td>0</td>\n",
       "      <td>0</td>\n",
       "      <td>0</td>\n",
       "      <td>0</td>\n",
       "      <td>0</td>\n",
       "      <td>0</td>\n",
       "      <td>1</td>\n",
       "    </tr>\n",
       "    <tr>\n",
       "      <th>115</th>\n",
       "      <td>4</td>\n",
       "      <td>L. Unbehaun</td>\n",
       "      <td>Luca</td>\n",
       "      <td>Unbehaun</td>\n",
       "      <td>None</td>\n",
       "      <td>Goalkeeper</td>\n",
       "      <td>19</td>\n",
       "      <td>27/02/2001</td>\n",
       "      <td>Bochum</td>\n",
       "      <td>Germany</td>\n",
       "      <td>...</td>\n",
       "      <td>0</td>\n",
       "      <td>0</td>\n",
       "      <td>0</td>\n",
       "      <td>0</td>\n",
       "      <td>5</td>\n",
       "      <td>450</td>\n",
       "      <td>5</td>\n",
       "      <td>0</td>\n",
       "      <td>0</td>\n",
       "      <td>0</td>\n",
       "    </tr>\n",
       "    <tr>\n",
       "      <th>116</th>\n",
       "      <td>4</td>\n",
       "      <td>L. Unbehaun</td>\n",
       "      <td>Luca</td>\n",
       "      <td>Unbehaun</td>\n",
       "      <td>None</td>\n",
       "      <td>Goalkeeper</td>\n",
       "      <td>19</td>\n",
       "      <td>27/02/2001</td>\n",
       "      <td>Bochum</td>\n",
       "      <td>Germany</td>\n",
       "      <td>...</td>\n",
       "      <td>0</td>\n",
       "      <td>0</td>\n",
       "      <td>0</td>\n",
       "      <td>0</td>\n",
       "      <td>0</td>\n",
       "      <td>0</td>\n",
       "      <td>0</td>\n",
       "      <td>0</td>\n",
       "      <td>0</td>\n",
       "      <td>0</td>\n",
       "    </tr>\n",
       "    <tr>\n",
       "      <th>117</th>\n",
       "      <td>4</td>\n",
       "      <td>L. Unbehaun</td>\n",
       "      <td>Luca</td>\n",
       "      <td>Unbehaun</td>\n",
       "      <td>None</td>\n",
       "      <td>Goalkeeper</td>\n",
       "      <td>19</td>\n",
       "      <td>27/02/2001</td>\n",
       "      <td>Bochum</td>\n",
       "      <td>Germany</td>\n",
       "      <td>...</td>\n",
       "      <td>0</td>\n",
       "      <td>0</td>\n",
       "      <td>0</td>\n",
       "      <td>0</td>\n",
       "      <td>0</td>\n",
       "      <td>0</td>\n",
       "      <td>0</td>\n",
       "      <td>0</td>\n",
       "      <td>0</td>\n",
       "      <td>0</td>\n",
       "    </tr>\n",
       "    <tr>\n",
       "      <th>118</th>\n",
       "      <td>4</td>\n",
       "      <td>L. Unbehaun</td>\n",
       "      <td>Luca</td>\n",
       "      <td>Unbehaun</td>\n",
       "      <td>None</td>\n",
       "      <td>Goalkeeper</td>\n",
       "      <td>19</td>\n",
       "      <td>27/02/2001</td>\n",
       "      <td>Bochum</td>\n",
       "      <td>Germany</td>\n",
       "      <td>...</td>\n",
       "      <td>0</td>\n",
       "      <td>0</td>\n",
       "      <td>0</td>\n",
       "      <td>0</td>\n",
       "      <td>0</td>\n",
       "      <td>0</td>\n",
       "      <td>0</td>\n",
       "      <td>0</td>\n",
       "      <td>0</td>\n",
       "      <td>1</td>\n",
       "    </tr>\n",
       "    <tr>\n",
       "      <th>119</th>\n",
       "      <td>4</td>\n",
       "      <td>L. Unbehaun</td>\n",
       "      <td>Luca</td>\n",
       "      <td>Unbehaun</td>\n",
       "      <td>None</td>\n",
       "      <td>Goalkeeper</td>\n",
       "      <td>19</td>\n",
       "      <td>27/02/2001</td>\n",
       "      <td>Bochum</td>\n",
       "      <td>Germany</td>\n",
       "      <td>...</td>\n",
       "      <td>0</td>\n",
       "      <td>0</td>\n",
       "      <td>0</td>\n",
       "      <td>0</td>\n",
       "      <td>0</td>\n",
       "      <td>0</td>\n",
       "      <td>0</td>\n",
       "      <td>0</td>\n",
       "      <td>0</td>\n",
       "      <td>2</td>\n",
       "    </tr>\n",
       "    <tr>\n",
       "      <th>120</th>\n",
       "      <td>4</td>\n",
       "      <td>L. Unbehaun</td>\n",
       "      <td>Luca</td>\n",
       "      <td>Unbehaun</td>\n",
       "      <td>None</td>\n",
       "      <td>Goalkeeper</td>\n",
       "      <td>19</td>\n",
       "      <td>27/02/2001</td>\n",
       "      <td>Bochum</td>\n",
       "      <td>Germany</td>\n",
       "      <td>...</td>\n",
       "      <td>0</td>\n",
       "      <td>0</td>\n",
       "      <td>0</td>\n",
       "      <td>0</td>\n",
       "      <td>0</td>\n",
       "      <td>0</td>\n",
       "      <td>0</td>\n",
       "      <td>0</td>\n",
       "      <td>0</td>\n",
       "      <td>0</td>\n",
       "    </tr>\n",
       "    <tr>\n",
       "      <th>121</th>\n",
       "      <td>4</td>\n",
       "      <td>L. Unbehaun</td>\n",
       "      <td>Luca</td>\n",
       "      <td>Unbehaun</td>\n",
       "      <td>None</td>\n",
       "      <td>Goalkeeper</td>\n",
       "      <td>19</td>\n",
       "      <td>27/02/2001</td>\n",
       "      <td>Bochum</td>\n",
       "      <td>Germany</td>\n",
       "      <td>...</td>\n",
       "      <td>0</td>\n",
       "      <td>0</td>\n",
       "      <td>0</td>\n",
       "      <td>0</td>\n",
       "      <td>0</td>\n",
       "      <td>0</td>\n",
       "      <td>0</td>\n",
       "      <td>0</td>\n",
       "      <td>0</td>\n",
       "      <td>2</td>\n",
       "    </tr>\n",
       "  </tbody>\n",
       "</table>\n",
       "<p>10 rows × 51 columns</p>\n",
       "</div>"
      ],
      "text/plain": [
       "     player_id     player_name firstname     lastname number    position  age  \\\n",
       "112          3  E. Oelschlägel      Eric  Oelschlägel   None  Goalkeeper   25   \n",
       "113          3  E. Oelschlägel      Eric  Oelschlägel   None  Goalkeeper   25   \n",
       "114          3  E. Oelschlägel      Eric  Oelschlägel   None  Goalkeeper   25   \n",
       "115          4     L. Unbehaun      Luca     Unbehaun   None  Goalkeeper   19   \n",
       "116          4     L. Unbehaun      Luca     Unbehaun   None  Goalkeeper   19   \n",
       "117          4     L. Unbehaun      Luca     Unbehaun   None  Goalkeeper   19   \n",
       "118          4     L. Unbehaun      Luca     Unbehaun   None  Goalkeeper   19   \n",
       "119          4     L. Unbehaun      Luca     Unbehaun   None  Goalkeeper   19   \n",
       "120          4     L. Unbehaun      Luca     Unbehaun   None  Goalkeeper   19   \n",
       "121          4     L. Unbehaun      Luca     Unbehaun   None  Goalkeeper   19   \n",
       "\n",
       "     birth_date  birth_place birth_country  ... penalty.commited  \\\n",
       "112  20/09/1995  Hoyerswerda       Germany  ...                0   \n",
       "113  20/09/1995  Hoyerswerda       Germany  ...                0   \n",
       "114  20/09/1995  Hoyerswerda       Germany  ...                0   \n",
       "115  27/02/2001       Bochum       Germany  ...                0   \n",
       "116  27/02/2001       Bochum       Germany  ...                0   \n",
       "117  27/02/2001       Bochum       Germany  ...                0   \n",
       "118  27/02/2001       Bochum       Germany  ...                0   \n",
       "119  27/02/2001       Bochum       Germany  ...                0   \n",
       "120  27/02/2001       Bochum       Germany  ...                0   \n",
       "121  27/02/2001       Bochum       Germany  ...                0   \n",
       "\n",
       "    penalty.success penalty.missed penalty.saved games.appearences  \\\n",
       "112               0              0             0                 1   \n",
       "113               0              0             0                 0   \n",
       "114               0              0             0                 0   \n",
       "115               0              0             0                 5   \n",
       "116               0              0             0                 0   \n",
       "117               0              0             0                 0   \n",
       "118               0              0             0                 0   \n",
       "119               0              0             0                 0   \n",
       "120               0              0             0                 0   \n",
       "121               0              0             0                 0   \n",
       "\n",
       "     games.minutes_played games.lineups substitutes.in substitutes.out  \\\n",
       "112                    90             1              0               0   \n",
       "113                     0             0              0               0   \n",
       "114                     0             0              0               0   \n",
       "115                   450             5              0               0   \n",
       "116                     0             0              0               0   \n",
       "117                     0             0              0               0   \n",
       "118                     0             0              0               0   \n",
       "119                     0             0              0               0   \n",
       "120                     0             0              0               0   \n",
       "121                     0             0              0               0   \n",
       "\n",
       "     substitutes.bench  \n",
       "112                  1  \n",
       "113                  0  \n",
       "114                  1  \n",
       "115                  0  \n",
       "116                  0  \n",
       "117                  0  \n",
       "118                  1  \n",
       "119                  2  \n",
       "120                  0  \n",
       "121                  2  \n",
       "\n",
       "[10 rows x 51 columns]"
      ]
     },
     "execution_count": 10,
     "metadata": {},
     "output_type": "execute_result"
    }
   ],
   "source": [
    "import requests\n",
    "from pandas.io.json import json_normalize\n",
    "\n",
    "n = 0\n",
    "\n",
    "key = \"48f7b2e284msh9012636ed1a79f6p195602jsn43463503f4c9\"\n",
    "headers= {\n",
    "        'x-rapidapi-host': \"api-football-v1.p.rapidapi.com\",\n",
    "        'x-rapidapi-key': key,\n",
    "}\n",
    "\n",
    "\n",
    "\n",
    "data = pd.DataFrame()\n",
    "\n",
    "\n",
    "for i in range(0, 5):\n",
    "    response = requests.request(\"GET\", \n",
    "                                \"https://api-football-v1.p.rapidapi.com/v2/players/player/{}\".format(i), \n",
    "                                headers=headers)\n",
    "\n",
    "    json_object = response.json()\n",
    "    json_object['api']['players']\n",
    "\n",
    "    df = json_normalize(json_object['api']['players'])\n",
    "\n",
    "    data = data.append(df, ignore_index = True)\n",
    "\n",
    "    i += 1\n",
    "\n",
    "data.tail(10)"
   ]
  },
  {
   "cell_type": "markdown",
   "metadata": {
    "slideshow": {
     "slide_type": "subslide"
    }
   },
   "source": [
    "#### 트랜스퍼마켓 (Transfer Market) 데이터 크롤링(Crawling)"
   ]
  },
  {
   "cell_type": "code",
   "execution_count": 4,
   "metadata": {
    "slideshow": {
     "slide_type": "subslide"
    }
   },
   "outputs": [
    {
     "data": {
      "text/html": [
       "<div>\n",
       "<style scoped>\n",
       "    .dataframe tbody tr th:only-of-type {\n",
       "        vertical-align: middle;\n",
       "    }\n",
       "\n",
       "    .dataframe tbody tr th {\n",
       "        vertical-align: top;\n",
       "    }\n",
       "\n",
       "    .dataframe thead th {\n",
       "        text-align: right;\n",
       "    }\n",
       "</style>\n",
       "<table border=\"1\" class=\"dataframe\">\n",
       "  <thead>\n",
       "    <tr style=\"text-align: right;\">\n",
       "      <th></th>\n",
       "      <th>Name</th>\n",
       "      <th>Values</th>\n",
       "    </tr>\n",
       "  </thead>\n",
       "  <tbody>\n",
       "    <tr>\n",
       "      <th>1.0</th>\n",
       "      <td>Kylian Mbappé</td>\n",
       "      <td>€180.00m</td>\n",
       "    </tr>\n",
       "    <tr>\n",
       "      <th>2.0</th>\n",
       "      <td>Raheem Sterling</td>\n",
       "      <td>€128.00m</td>\n",
       "    </tr>\n",
       "    <tr>\n",
       "      <th>3.0</th>\n",
       "      <td>Neymar</td>\n",
       "      <td>€128.00m</td>\n",
       "    </tr>\n",
       "    <tr>\n",
       "      <th>4.0</th>\n",
       "      <td>Sadio Mané</td>\n",
       "      <td>€120.00m</td>\n",
       "    </tr>\n",
       "    <tr>\n",
       "      <th>5.0</th>\n",
       "      <td>Mohamed Salah</td>\n",
       "      <td>€120.00m</td>\n",
       "    </tr>\n",
       "    <tr>\n",
       "      <th>...</th>\n",
       "      <td>...</td>\n",
       "      <td>...</td>\n",
       "    </tr>\n",
       "    <tr>\n",
       "      <th>496.0</th>\n",
       "      <td>Andreas Pereira</td>\n",
       "      <td>€16.00m</td>\n",
       "    </tr>\n",
       "    <tr>\n",
       "      <th>497.0</th>\n",
       "      <td>André Silva</td>\n",
       "      <td>€16.00m</td>\n",
       "    </tr>\n",
       "    <tr>\n",
       "      <th>498.0</th>\n",
       "      <td>Jamie Vardy</td>\n",
       "      <td>€16.00m</td>\n",
       "    </tr>\n",
       "    <tr>\n",
       "      <th>499.0</th>\n",
       "      <td>Luca Waldschmidt</td>\n",
       "      <td>€16.00m</td>\n",
       "    </tr>\n",
       "    <tr>\n",
       "      <th>500.0</th>\n",
       "      <td>John McGinn</td>\n",
       "      <td>€16.00m</td>\n",
       "    </tr>\n",
       "  </tbody>\n",
       "</table>\n",
       "<p>500 rows × 2 columns</p>\n",
       "</div>"
      ],
      "text/plain": [
       "                   Name    Values\n",
       "1.0       Kylian Mbappé  €180.00m\n",
       "2.0     Raheem Sterling  €128.00m\n",
       "3.0              Neymar  €128.00m\n",
       "4.0          Sadio Mané  €120.00m\n",
       "5.0       Mohamed Salah  €120.00m\n",
       "...                 ...       ...\n",
       "496.0   Andreas Pereira   €16.00m\n",
       "497.0       André Silva   €16.00m\n",
       "498.0       Jamie Vardy   €16.00m\n",
       "499.0  Luca Waldschmidt   €16.00m\n",
       "500.0       John McGinn   €16.00m\n",
       "\n",
       "[500 rows x 2 columns]"
      ]
     },
     "execution_count": 4,
     "metadata": {},
     "output_type": "execute_result"
    }
   ],
   "source": [
    "from bs4 import BeautifulSoup\n",
    "import selenium\n",
    "from selenium import webdriver\n",
    "from selenium.webdriver.common.keys import Keys\n",
    "from selenium.webdriver.support.ui import WebDriverWait\n",
    "from selenium.webdriver.support import expected_conditions as EC\n",
    "from selenium.webdriver.common.by import By\n",
    "\n",
    "dataFrame= pd.DataFrame(columns=['Name', 'Values'])\n",
    "for i in range(1,20+1):\n",
    "    url = 'https://www.transfermarkt.com/spieler-statistik/wertvollstespieler/marktwertetop?ajax=yw1&page=' + str(i)\n",
    "    \n",
    "    options = webdriver.ChromeOptions()\n",
    "    options.add_argument('headless')\n",
    "    chrome_driver = '/Users/kimjeongseob/Desktop/기타/chromedriver'\n",
    "    driver = webdriver.Chrome(chrome_driver, options=options)\n",
    "    driver.implicitly_wait(3)\n",
    "    driver.get(url)\n",
    "\n",
    "    src = driver.page_source\n",
    "\n",
    "    driver.close()\n",
    "\n",
    "    resp = BeautifulSoup(src,\"html.parser\")\n",
    "#     resp = BeautifulSoup(src,\"html5lib\")\n",
    "    values_data = resp.select('table')\n",
    "    table_html = str(values_data)\n",
    "    num = 0\n",
    "    name = ' '\n",
    "    value = ' '\n",
    "    for index, row in pd.read_html(table_html)[1].iterrows():\n",
    "        if index%3 == 0:\n",
    "            num = row['#']\n",
    "            value = row['Market value']\n",
    "        elif index%3 == 1:\n",
    "            name = row['Player']\n",
    "        else : \n",
    "            dataFrame.loc[num] = [name, value]\n",
    "            \n",
    "dataFrame\n",
    "\n"
   ]
  }
 ],
 "metadata": {
  "kernelspec": {
   "display_name": "Python 3",
   "language": "python",
   "name": "python3"
  },
  "language_info": {
   "codemirror_mode": {
    "name": "ipython",
    "version": 3
   },
   "file_extension": ".py",
   "mimetype": "text/x-python",
   "name": "python",
   "nbconvert_exporter": "python",
   "pygments_lexer": "ipython3",
   "version": "3.7.4"
  }
 },
 "nbformat": 4,
 "nbformat_minor": 4
}
