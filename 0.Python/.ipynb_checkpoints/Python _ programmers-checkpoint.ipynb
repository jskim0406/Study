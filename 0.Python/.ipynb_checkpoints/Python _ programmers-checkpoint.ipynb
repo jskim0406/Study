{
 "cells": [
  {
   "cell_type": "markdown",
   "metadata": {},
   "source": [
    "# 20200423\n",
    "\n",
    "# 수강 전 예시문제\n",
    "\n",
    "- 정수를 담은 이차원 리스트, mylist 가 solution 함수의 파라미터로 주어집니다. \n",
    "\n",
    "solution 함수가 mylist 각 원소의 길이를 담은 리스트를 리턴하도록 코드를 작성해주세요.\n",
    "\n",
    "- 제한 조건\n",
    "\n",
    "mylist의 길이는 100 이하인 자연수입니다.\n",
    "mylist 각 원소의 길이는 100 이하인 자연수입니다.\n",
    "예시\n",
    "input\toutput\n",
    "[[1], [2]]\t[1,1]\n",
    "[[1, 2], [3, 4], [5]]\t[2,2,1]"
   ]
  },
  {
   "cell_type": "code",
   "execution_count": 7,
   "metadata": {},
   "outputs": [
    {
     "data": {
      "text/plain": [
       "[2, 2, 1]"
      ]
     },
     "execution_count": 7,
     "metadata": {},
     "output_type": "execute_result"
    }
   ],
   "source": [
    "# 내가 푼 코드 (C 형식)\n",
    "\n",
    "mylist = [[1,2],[3,4],[5]]\n",
    "\n",
    "def solution(mylist):\n",
    "    len_ttl = len(mylist)\n",
    "    answer = []\n",
    "    for i in range(len_ttl):\n",
    "        answer.append(len(mylist[i]))\n",
    "    return answer\n",
    "\n",
    "solution(mylist)"
   ]
  },
  {
   "cell_type": "code",
   "execution_count": 8,
   "metadata": {},
   "outputs": [
    {
     "data": {
      "text/plain": [
       "[2, 2, 1]"
      ]
     },
     "execution_count": 8,
     "metadata": {},
     "output_type": "execute_result"
    }
   ],
   "source": [
    "# 모범 코드 (파이썬 형식)\n",
    "\n",
    "def solution(mylist):\n",
    "    answer = list(map(len,mylist))\n",
    "    return answer\n",
    "\n",
    "solution(mylist)"
   ]
  },
  {
   "cell_type": "code",
   "execution_count": null,
   "metadata": {},
   "outputs": [],
   "source": []
  },
  {
   "cell_type": "markdown",
   "metadata": {},
   "source": [
    "# 20200424\n",
    "\n",
    "## divmod 함수, packing과 unpacking"
   ]
  },
  {
   "cell_type": "markdown",
   "metadata": {},
   "source": [
    "문제 설명\n",
    "\n",
    "숫자 a, b가 주어졌을 때 a를 b로 나눈 몫과 a를 b로 나눈 나머지를 공백으로 구분해 출력해보세요.\n",
    "\n",
    "- 입력 설명\n",
    "입력으로는 공백으로 구분된 숫자가 두 개 주어집니다.\n",
    "첫 번째 숫자는 a를 나타내며, 두 번째 숫자는 b를 나타냅니다.\n",
    "\n",
    "- 출력 설명\n",
    "a를 b로 나눈 몫과 a를 b로 나눈 나머지를 공백으로 구분해 출력하세요.\n",
    "\n",
    "- 제한 조건\n",
    "a와 b는 자연수입니다.\n",
    "\n",
    "- 입력 예\n",
    "5 3\n",
    "- 출력 예\n",
    "1 2"
   ]
  },
  {
   "cell_type": "code",
   "execution_count": 3,
   "metadata": {},
   "outputs": [
    {
     "name": "stdin",
     "output_type": "stream",
     "text": [
      " 5 3\n"
     ]
    },
    {
     "name": "stdout",
     "output_type": "stream",
     "text": [
      "1 2\n"
     ]
    }
   ],
   "source": [
    "# 내가 푼 코드\n",
    "\n",
    "a, b = map(int, input().strip().split(' '))\n",
    "print(a//b,a%b)"
   ]
  },
  {
   "cell_type": "code",
   "execution_count": 5,
   "metadata": {},
   "outputs": [
    {
     "name": "stdin",
     "output_type": "stream",
     "text": [
      " 5 3\n"
     ]
    },
    {
     "name": "stdout",
     "output_type": "stream",
     "text": [
      "1 2\n"
     ]
    }
   ],
   "source": [
    "# 모범 코드\n",
    "\n",
    "a, b = map(int, input().strip().split(' '))\n",
    "print(*divmod(a,b))"
   ]
  },
  {
   "cell_type": "code",
   "execution_count": null,
   "metadata": {},
   "outputs": [],
   "source": [
    "# * 의 packing과 unpacking"
   ]
  },
  {
   "cell_type": "code",
   "execution_count": 9,
   "metadata": {},
   "outputs": [
    {
     "data": {
      "text/plain": [
       "[3, 3, 4, 5, 6, 7, 7, 9, 9]"
      ]
     },
     "execution_count": 9,
     "metadata": {},
     "output_type": "execute_result"
    }
   ],
   "source": [
    "# 변수 할당 시, *는 해당 변수로 묶어서 할당해줌\n",
    "a,b,*c = [1,2,3,3,4,5,6,7,7,9,9]\n",
    "c"
   ]
  },
  {
   "cell_type": "code",
   "execution_count": 10,
   "metadata": {},
   "outputs": [
    {
     "name": "stdout",
     "output_type": "stream",
     "text": [
      "3 3 4 5 6 7 7 9 9\n"
     ]
    }
   ],
   "source": [
    "# 변수 호출 시, *는 해당 변수의 unpacking을 실시\n",
    "print(*c)"
   ]
  },
  {
   "cell_type": "code",
   "execution_count": null,
   "metadata": {},
   "outputs": [],
   "source": []
  },
  {
   "cell_type": "markdown",
   "metadata": {},
   "source": [
    "# 20200427\n",
    "\n",
    "### n진법으로 표기된 string을 10진법 숫자로 변환 - int 함수\n",
    "\n",
    "예시) 5진법으로 적힌 문자열 '3212'를 10진법으로 바꾸기\n",
    "\n",
    "- int(x, base = 10) 함수는 num을 base진법으로 변환하는 함수역할을 함"
   ]
  },
  {
   "cell_type": "code",
   "execution_count": 2,
   "metadata": {},
   "outputs": [
    {
     "name": "stdout",
     "output_type": "stream",
     "text": [
      "432\n"
     ]
    }
   ],
   "source": [
    "# 내가 푼 코드\n",
    "\n",
    "# num, base = map(int, input().strip().split(' '))\n",
    "num = '3212'\n",
    "base = 5\n",
    "num = int(num)\n",
    "\n",
    "result = []\n",
    "i = 0\n",
    "while True:\n",
    "    result.append(num%10*base**i)\n",
    "    i+=1\n",
    "    num //= 10\n",
    "    if num<1:\n",
    "        break\n",
    "print(sum(result))"
   ]
  },
  {
   "cell_type": "code",
   "execution_count": 6,
   "metadata": {},
   "outputs": [
    {
     "data": {
      "text/plain": [
       "432"
      ]
     },
     "execution_count": 6,
     "metadata": {},
     "output_type": "execute_result"
    }
   ],
   "source": [
    "# 예시코드 _ 비효율적인 코드\n",
    "\n",
    "num = '3212'\n",
    "base = 5\n",
    "\n",
    "answer = 0\n",
    "for idx, i in enumerate(num[::-1]):\n",
    "    answer += int(i) * ( base ** idx )\n",
    "answer"
   ]
  },
  {
   "cell_type": "code",
   "execution_count": 17,
   "metadata": {},
   "outputs": [
    {
     "data": {
      "text/plain": [
       "432"
      ]
     },
     "execution_count": 17,
     "metadata": {},
     "output_type": "execute_result"
    }
   ],
   "source": [
    "# 예시코드 _ pythonic code\n",
    "\n",
    "num = '3212'\n",
    "base = 5\n",
    "answer = int(num, base)\n",
    "answer"
   ]
  },
  {
   "cell_type": "code",
   "execution_count": 14,
   "metadata": {},
   "outputs": [
    {
     "name": "stdout",
     "output_type": "stream",
     "text": [
      "0 2\n",
      "1 1\n",
      "2 2\n",
      "3 3\n"
     ]
    }
   ],
   "source": []
  },
  {
   "cell_type": "code",
   "execution_count": null,
   "metadata": {},
   "outputs": [],
   "source": []
  }
 ],
 "metadata": {
  "kernelspec": {
   "display_name": "Python 3",
   "language": "python",
   "name": "python3"
  },
  "language_info": {
   "codemirror_mode": {
    "name": "ipython",
    "version": 3
   },
   "file_extension": ".py",
   "mimetype": "text/x-python",
   "name": "python",
   "nbconvert_exporter": "python",
   "pygments_lexer": "ipython3",
   "version": "3.7.4"
  }
 },
 "nbformat": 4,
 "nbformat_minor": 4
}
