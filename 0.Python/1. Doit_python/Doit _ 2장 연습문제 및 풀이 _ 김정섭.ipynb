{
 "cells": [
  {
   "cell_type": "markdown",
   "metadata": {},
   "source": [
    "# 점프투파이썬 문제풀이"
   ]
  },
  {
   "cell_type": "markdown",
   "metadata": {},
   "source": [
    "## 2장 연습문제\n",
    "- 1, 8, 11, 12번 주의\n",
    "- [url]\n",
    "- 문제 : https://wikidocs.net/42526\n",
    "- 해답 : https://wikidocs.net/12769#02"
   ]
  },
  {
   "cell_type": "markdown",
   "metadata": {},
   "source": [
    "# [문제목록 : 2장 1, 8, 11, 12번]"
   ]
  },
  {
   "cell_type": "code",
   "execution_count": null,
   "metadata": {},
   "outputs": [],
   "source": [
    "#2장 1번\n",
    "\n",
    "# Q1\n",
    "# 홍길동 씨의 과목별 점수는 다음과 같다. 홍길동 씨의 평균 점수를 구해 보자.\n",
    "\n",
    "# 과목\t점수\n",
    "# 국어\t80\n",
    "# 영어\t75\n",
    "# 수학\t55"
   ]
  },
  {
   "cell_type": "code",
   "execution_count": null,
   "metadata": {},
   "outputs": [],
   "source": [
    "#2장 8번\n",
    "\n",
    "# Q8\n",
    "# (1,2,3) 튜플에 값 4를 추가하여 (1,2,3,4)를 만들어 출력해 보자.\n",
    "# ※ 더하기(+)를 사용해 보자."
   ]
  },
  {
   "cell_type": "code",
   "execution_count": 1,
   "metadata": {},
   "outputs": [],
   "source": [
    "#2장 11번\n",
    "\n",
    "# Q11\n",
    "# a 리스트에서 중복 숫자를 제거해 보자.\n",
    "\n",
    "# a = [1, 1, 1, 2, 2, 3, 3, 3, 4, 4, 5]"
   ]
  },
  {
   "cell_type": "code",
   "execution_count": null,
   "metadata": {},
   "outputs": [],
   "source": [
    "#2장 12번\n",
    "\n",
    "# Q12\n",
    "# 파이썬은 다음처럼 동일한 값에 여러 개의 변수를 선언할 수 있다. 다음과 같이 a, b 변수를 선언한 후 a의 두 번째 요솟값을 변경하면 b 값은 어떻게 될까? 그리고 이런 결과가 오는 이유에 대해 설명해 보자.\n",
    "\n",
    "# a = b = [1, 2, 3]\n",
    "# a[1] = 4\n",
    "# print(b)"
   ]
  },
  {
   "cell_type": "code",
   "execution_count": null,
   "metadata": {},
   "outputs": [],
   "source": []
  },
  {
   "cell_type": "code",
   "execution_count": null,
   "metadata": {},
   "outputs": [],
   "source": []
  },
  {
   "cell_type": "code",
   "execution_count": null,
   "metadata": {},
   "outputs": [],
   "source": []
  },
  {
   "cell_type": "code",
   "execution_count": null,
   "metadata": {},
   "outputs": [],
   "source": []
  },
  {
   "cell_type": "code",
   "execution_count": null,
   "metadata": {},
   "outputs": [],
   "source": []
  },
  {
   "cell_type": "markdown",
   "metadata": {},
   "source": [
    "# [풀이 코드 : 2장 1, 8, 11, 12번]\n",
    "- 제가 쓴 코드이고, 효율적으로 풀기보단,, 배운 것들을 활용해서 풀려고 이것저것 써본 내용이라, 그다지 모범적인 코드는 아닙니다!\n",
    "- 교재의 풀이는 위의 url 로 가셔서 보시면 되어요!"
   ]
  },
  {
   "cell_type": "code",
   "execution_count": 23,
   "metadata": {},
   "outputs": [
    {
     "name": "stdout",
     "output_type": "stream",
     "text": [
      "국어점수 : 80\n",
      "영어점수 : 75\n",
      "수학점수 : 55\n"
     ]
    },
    {
     "data": {
      "text/plain": [
       "70.0"
      ]
     },
     "execution_count": 23,
     "metadata": {},
     "output_type": "execute_result"
    }
   ],
   "source": [
    "#2장 1번 *\n",
    "\n",
    "a,b,c=0,0,0\n",
    "data = []\n",
    "\n",
    "#점수 입력받기, 카운트 기록\n",
    "data.append(input('국어점수 : '))\n",
    "data.append(input('영어점수 : '))\n",
    "data.append(input('수학점수 : '))\n",
    "\n",
    "#input으로 입력받으면, 자료형이 string! -> sum하려면 int로 형변환 해줘야 함\n",
    "\n",
    "#형변환\n",
    "#for i1 in len(data): -> for i in 3: 같은 것.. -> for i in range(3) 같이 해줘야 함..\n",
    "for i in range(len(data)):\n",
    "    data[i] = int(data[i])\n",
    "\n",
    "#각 점수의 합 구하기\n",
    "sum_ = sum(data)\n",
    "\n",
    "#각 점수 받은 횟수로 나눠주기\n",
    "aver_ = sum_/len(data)\n",
    "aver_"
   ]
  },
  {
   "cell_type": "code",
   "execution_count": 28,
   "metadata": {},
   "outputs": [
    {
     "name": "stdout",
     "output_type": "stream",
     "text": [
      "숫자를 입력하세요 : 13\n",
      "['홀수']\n"
     ]
    }
   ],
   "source": [
    "#2장 2번\n",
    "num = input('숫자를 입력하세요 : ')\n",
    "num = int(num)\n",
    "\n",
    "result = ['홀수' if num%2 else '짝수']\n",
    "print(result)"
   ]
  },
  {
   "cell_type": "code",
   "execution_count": 31,
   "metadata": {},
   "outputs": [
    {
     "data": {
      "text/plain": [
       "'a#b#c#d'"
      ]
     },
     "execution_count": 31,
     "metadata": {},
     "output_type": "execute_result"
    }
   ],
   "source": [
    "#2장 5번\n",
    "\n",
    "a = \"a:b:c:d\"\n",
    "a.replace(':','#')"
   ]
  },
  {
   "cell_type": "code",
   "execution_count": 35,
   "metadata": {},
   "outputs": [
    {
     "data": {
      "text/plain": [
       "[5, 4, 3, 2, 1]"
      ]
     },
     "execution_count": 35,
     "metadata": {},
     "output_type": "execute_result"
    }
   ],
   "source": [
    "#2장 6번\n",
    "\n",
    "ls = [1,3,5,4,2]\n",
    "ls.sort()\n",
    "ls[::-1]"
   ]
  },
  {
   "cell_type": "code",
   "execution_count": 37,
   "metadata": {},
   "outputs": [
    {
     "data": {
      "text/plain": [
       "'Life is too short'"
      ]
     },
     "execution_count": 37,
     "metadata": {},
     "output_type": "execute_result"
    }
   ],
   "source": [
    "#2장 7번\n",
    "\n",
    "ls = ['Life', 'is', 'too', 'short']\n",
    "ls_result = ' '.join(ls)\n",
    "ls_result"
   ]
  },
  {
   "cell_type": "code",
   "execution_count": 40,
   "metadata": {},
   "outputs": [
    {
     "data": {
      "text/plain": [
       "(1, 2, 3, 4)"
      ]
     },
     "execution_count": 40,
     "metadata": {},
     "output_type": "execute_result"
    }
   ],
   "source": [
    "#2장 8번 *\n",
    "\n",
    "tup = (1,2,3)\n",
    "tup+(4,)"
   ]
  },
  {
   "cell_type": "code",
   "execution_count": 41,
   "metadata": {},
   "outputs": [],
   "source": [
    "#2장 9번\n",
    "\n",
    "#dict형의 key 로는 변동가능한 객체인 리스트가 올 수 없다. int, str, tuple은 key로 올 수 있다."
   ]
  },
  {
   "cell_type": "code",
   "execution_count": 44,
   "metadata": {},
   "outputs": [
    {
     "data": {
      "text/plain": [
       "80"
      ]
     },
     "execution_count": 44,
     "metadata": {},
     "output_type": "execute_result"
    }
   ],
   "source": [
    "#2장 10번\n",
    "\n",
    "a = {'A':90, 'B':80, 'C':70}\n",
    "a.pop('B')"
   ]
  },
  {
   "cell_type": "code",
   "execution_count": 46,
   "metadata": {},
   "outputs": [
    {
     "data": {
      "text/plain": [
       "{1, 2, 3, 4, 5}"
      ]
     },
     "execution_count": 46,
     "metadata": {},
     "output_type": "execute_result"
    }
   ],
   "source": [
    "#2장 11번 *\n",
    "a = [1, 1, 1, 2, 2, 3, 3, 3, 4, 4, 5]\n",
    "a = set(a)\n",
    "a"
   ]
  },
  {
   "cell_type": "code",
   "execution_count": 52,
   "metadata": {},
   "outputs": [
    {
     "name": "stdout",
     "output_type": "stream",
     "text": [
      "[1, 4, 3]\n"
     ]
    }
   ],
   "source": [
    "#2장 12번 *\n",
    "\n",
    "a = b = [1,2,3]\n",
    "a[1] = 4\n",
    "print(b)"
   ]
  },
  {
   "cell_type": "code",
   "execution_count": null,
   "metadata": {},
   "outputs": [],
   "source": []
  }
 ],
 "metadata": {
  "kernelspec": {
   "display_name": "Python 3",
   "language": "python",
   "name": "python3"
  },
  "language_info": {
   "codemirror_mode": {
    "name": "ipython",
    "version": 3
   },
   "file_extension": ".py",
   "mimetype": "text/x-python",
   "name": "python",
   "nbconvert_exporter": "python",
   "pygments_lexer": "ipython3",
   "version": "3.7.4"
  }
 },
 "nbformat": 4,
 "nbformat_minor": 2
}
