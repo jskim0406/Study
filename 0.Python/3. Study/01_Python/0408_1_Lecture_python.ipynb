{
 "cells": [
  {
   "cell_type": "markdown",
   "metadata": {},
   "source": [
    "# 17. Module, Package, Try_except, Numpy1_20191011_014_Day4_2부"
   ]
  },
  {
   "cell_type": "markdown",
   "metadata": {},
   "source": [
    "## Magic method 정리\n",
    "\n",
    "- 클래스 생성 후, 클래스 object의 기본 연산기능 보강할 때 활용 가능 주목!\n",
    "- object를 더할 때, plus(1,2) 함수 쓰지 않고, num1 + num2 로도 연산이 가능!\n",
    "\n",
    "- 비교\n",
    "    - \\__eq__(==), \\__ne__(!=)\n",
    "    - \\__lt__(<, less than), \\__gt__(>, greater than), \\__le__(<=, less or equal), \\__ge__(>=, gre or equal)\n",
    "- 연산\n",
    "    - \\__add__(+), \\__sub__(-), \\__mul__(*), \\__truediv__(/)\n",
    "    - \\__floordiv__(//), \\__mod__(%), \\__pow__(**)\n",
    "- 그외\n",
    "    - \\__repr__(object의 그냥 represent), \\__str__(object의 print)   **----> return str( )  -----> string 데이터로 리턴해줘야 함**"
   ]
  },
  {
   "cell_type": "code",
   "execution_count": 21,
   "metadata": {},
   "outputs": [],
   "source": [
    "# Magic method 사용한 클래스 정의 및 object 연산\n",
    "# 예) integer 클래스 생성"
   ]
  },
  {
   "cell_type": "raw",
   "metadata": {},
   "source": [
    "class Integer:\n",
    "    \n",
    "    def __init__(self,number):\n",
    "        self.num = number\n",
    "        \n",
    "#     def __add__(self,unit):\n",
    "#         return self.num + unit.num\n",
    "\n",
    "#     def __str__(self):\n",
    "#         return str(self.num)\n",
    "\n",
    "#     def __repr__(self):\n",
    "#         return str(self.num)\n",
    "\n",
    "num1 = Integer(1)\n",
    "num2 = Integer(2)\n",
    "\n",
    "num1+num2\n",
    "\n",
    "# 그냥 num1 + num2 하면,, 각 변수에는 1과 2가 들어가있으니, 당연히 + 연산 되어야 하는 거 아닌가 하겠지만,,\n",
    "# num1과 num2의 클래스(사용자정의 데이터타입), 데이터타입이 Integer라는 내가 정의 내린 타입이기 때문에,, __add__ 가 따로 없다.\n",
    "# 따라서, 저렇게 기본 연산자 활용하려면 magic method를 다시 재정의 해줘야 한다."
   ]
  },
  {
   "cell_type": "code",
   "execution_count": 28,
   "metadata": {},
   "outputs": [
    {
     "data": {
      "text/plain": [
       "3"
      ]
     },
     "execution_count": 28,
     "metadata": {},
     "output_type": "execute_result"
    }
   ],
   "source": [
    "a = 1\n",
    "a.__add__(2) # ====> a.num + 2.num  ==== self.num + unit.num  ===== def __add__(self, unit):"
   ]
  },
  {
   "cell_type": "code",
   "execution_count": 29,
   "metadata": {},
   "outputs": [
    {
     "data": {
      "text/plain": [
       "<__main__.Integer at 0x104eb7c90>"
      ]
     },
     "execution_count": 29,
     "metadata": {},
     "output_type": "execute_result"
    }
   ],
   "source": [
    "num1"
   ]
  },
  {
   "cell_type": "code",
   "execution_count": 30,
   "metadata": {},
   "outputs": [
    {
     "name": "stdout",
     "output_type": "stream",
     "text": [
      "<__main__.Integer object at 0x104eb7c90>\n"
     ]
    }
   ],
   "source": [
    "print(num1)"
   ]
  },
  {
   "cell_type": "markdown",
   "metadata": {},
   "source": [
    "# 1. 클래스 예제\n",
    "\n",
    "- 계좌 클래스 만들기\n",
    "- 변수 : 자산(asset), 이자율(interest)\n",
    "- 함수 : 인출(draw), 입금(interest), 이자추가(add_interest)\n",
    "- 인출 시, 자산 이상의 돈을 인출할 수 없다."
   ]
  },
  {
   "cell_type": "code",
   "execution_count": 31,
   "metadata": {},
   "outputs": [
    {
     "data": {
      "text/plain": [
       "10000"
      ]
     },
     "execution_count": 31,
     "metadata": {},
     "output_type": "execute_result"
    }
   ],
   "source": [
    "class Account:\n",
    "    def __init__(self,asset,interest=1.05):\n",
    "        self.asset = asset\n",
    "        self.interest = interest\n",
    "        \n",
    "    def draw(self,amount):\n",
    "        if self.asset >= amount:\n",
    "            self.asset -= amount\n",
    "            print(\"{}원이 인출되었습니다.\".format(amount))\n",
    "            \n",
    "        else:\n",
    "            print('{}원이 부족합니다.'.format((amount-self.asset)))\n",
    "        \n",
    "    def insert(self,amount):\n",
    "        self.asset += amount\n",
    "        print('{}원이 입금되었습니다.'.format(amount))\n",
    "        \n",
    "    def add_interest(self):\n",
    "        self.asset *= self.interest\n",
    "        print('{}원의 이자가 입금되었습니다.'.format((self.asset*(self.interest-1))))\n",
    "        \n",
    "    def __repr__(self):\n",
    "        return \"asset : {}, interest : {}\".format(self.asset, self.interest)\n",
    "        \n",
    "acc1 = Account(10000)\n",
    "acc1.asset"
   ]
  },
  {
   "cell_type": "code",
   "execution_count": 32,
   "metadata": {},
   "outputs": [
    {
     "data": {
      "text/plain": [
       "asset : 10000, interest : 1.05"
      ]
     },
     "execution_count": 32,
     "metadata": {},
     "output_type": "execute_result"
    }
   ],
   "source": [
    "acc1"
   ]
  },
  {
   "cell_type": "code",
   "execution_count": 33,
   "metadata": {},
   "outputs": [
    {
     "name": "stdout",
     "output_type": "stream",
     "text": [
      "2000원이 부족합니다.\n"
     ]
    }
   ],
   "source": [
    "acc1.draw(12000)"
   ]
  },
  {
   "cell_type": "code",
   "execution_count": 34,
   "metadata": {},
   "outputs": [
    {
     "name": "stdout",
     "output_type": "stream",
     "text": [
      "3000원이 인출되었습니다.\n"
     ]
    }
   ],
   "source": [
    "acc1.draw(3000)"
   ]
  },
  {
   "cell_type": "code",
   "execution_count": 35,
   "metadata": {},
   "outputs": [
    {
     "data": {
      "text/plain": [
       "asset : 7000, interest : 1.05"
      ]
     },
     "execution_count": 35,
     "metadata": {},
     "output_type": "execute_result"
    }
   ],
   "source": [
    "acc1"
   ]
  },
  {
   "cell_type": "code",
   "execution_count": 36,
   "metadata": {},
   "outputs": [
    {
     "name": "stdout",
     "output_type": "stream",
     "text": [
      "5000원이 입금되었습니다.\n"
     ]
    },
    {
     "data": {
      "text/plain": [
       "asset : 12000, interest : 1.05"
      ]
     },
     "execution_count": 36,
     "metadata": {},
     "output_type": "execute_result"
    }
   ],
   "source": [
    "acc1.insert(5000)\n",
    "acc1"
   ]
  },
  {
   "cell_type": "code",
   "execution_count": 37,
   "metadata": {
    "scrolled": true
   },
   "outputs": [
    {
     "name": "stdout",
     "output_type": "stream",
     "text": [
      "630.0000000000006원의 이자가 입금되었습니다.\n"
     ]
    },
    {
     "data": {
      "text/plain": [
       "asset : 12600.0, interest : 1.05"
      ]
     },
     "execution_count": 37,
     "metadata": {},
     "output_type": "execute_result"
    }
   ],
   "source": [
    "acc1.add_interest(),1\n",
    "acc1"
   ]
  },
  {
   "cell_type": "markdown",
   "metadata": {},
   "source": [
    "# Module package\n",
    "\n",
    "* 변수, 함수 < 클래스 < 모듈 < 패키지\n",
    "\n",
    "- 모듈 : 변수와 함수, 클래스를 모아놓은 ( .py ) 확장자를 가진 파일 ( 클래스 보다 조금 더 큰 범위 )\n",
    "- 패키지 : 모듈보다 한 단계 큰 기능. 모듈의 기능을 디렉토리 별로 정리해놓은 개념"
   ]
  },
  {
   "cell_type": "markdown",
   "metadata": {},
   "source": [
    "1. 모듈 생성\n",
    "2. 모듈 호출"
   ]
  },
  {
   "cell_type": "markdown",
   "metadata": {},
   "source": [
    "# 1. 모듈 생성(파일 생성)"
   ]
  },
  {
   "cell_type": "code",
   "execution_count": 237,
   "metadata": {},
   "outputs": [
    {
     "name": "stdout",
     "output_type": "stream",
     "text": [
      "0401_Lecture_python.ipynb 0406_Lecture_python.ipynb dss.py\r\n",
      "0402_Lecture_python.ipynb 0407_Lecture_python.ipynb \u001b[34mschool\u001b[m\u001b[m\r\n",
      "0403_Lecture_python.ipynb 0408_Lecture_python.ipynb\r\n"
     ]
    }
   ],
   "source": [
    "!ls"
   ]
  },
  {
   "cell_type": "code",
   "execution_count": 238,
   "metadata": {},
   "outputs": [
    {
     "name": "stdout",
     "output_type": "stream",
     "text": [
      "Overwriting dss.py\n"
     ]
    }
   ],
   "source": [
    "%%writefile dss.py\n",
    "\n",
    "# 모듈 파일 생성 (매직 커맨드 사용)\n",
    "\n",
    "# 1) %% -> 이 셀에 있는 내용에 전부다 writefile 을 적용하겠다.\n",
    "# 2) dss.py 라는 파일을 만들어서, 써있는 코드들을 이 파일에 저장하겠다.\n",
    "\n",
    "# 모듈 생성 -> 파일 저장\n",
    "# 1. 모듈 생성 (모듈 = 클래스, 함수, 변수의 set)\n",
    "\n",
    "num = 1234\n",
    "\n",
    "def disp1(msg):\n",
    "    print(\"disp1\", msg)\n",
    "    \n",
    "def disp2(msg):\n",
    "    print('disp2', msg)\n",
    "    \n",
    "class Calc:\n",
    "    def plus(self, *args):\n",
    "        return sum(args)\n"
   ]
  },
  {
   "cell_type": "code",
   "execution_count": 239,
   "metadata": {},
   "outputs": [
    {
     "name": "stdout",
     "output_type": "stream",
     "text": [
      "0401_Lecture_python.ipynb 0406_Lecture_python.ipynb dss.py\r\n",
      "0402_Lecture_python.ipynb 0407_Lecture_python.ipynb \u001b[34mschool\u001b[m\u001b[m\r\n",
      "0403_Lecture_python.ipynb 0408_Lecture_python.ipynb\r\n"
     ]
    }
   ],
   "source": [
    "!ls"
   ]
  },
  {
   "cell_type": "code",
   "execution_count": 240,
   "metadata": {},
   "outputs": [
    {
     "name": "stdout",
     "output_type": "stream",
     "text": [
      "Once deleted, variables cannot be recovered. Proceed (y/[n])? \n",
      "Nothing done.\n"
     ]
    }
   ],
   "source": [
    "%reset"
   ]
  },
  {
   "cell_type": "code",
   "execution_count": 241,
   "metadata": {},
   "outputs": [
    {
     "name": "stdout",
     "output_type": "stream",
     "text": [
      "Variable   Type      Data/Info\n",
      "------------------------------\n",
      "dss        module    <module 'school.dss.data1<...>업/school/dss/data1.py'>\n",
      "school     module    <module 'school' (namespace)>\n",
      "url        module    <module 'school.web.url' <...>수업/school/web/url.py'>\n"
     ]
    }
   ],
   "source": [
    "%whos"
   ]
  },
  {
   "cell_type": "markdown",
   "metadata": {},
   "source": [
    "# 2. 모듈 호출"
   ]
  },
  {
   "cell_type": "code",
   "execution_count": 290,
   "metadata": {},
   "outputs": [
    {
     "name": "stdout",
     "output_type": "stream",
     "text": [
      "Variable   Type        Data/Info\n",
      "--------------------------------\n",
      "Calc       type        <class 'dss.Calc'>\n",
      "calc       Calc        <dss.Calc object at 0x109abb690>\n",
      "disp1      function    <function disp1 at 0x109a88ef0>\n",
      "disp2      function    <function disp2 at 0x109ab75f0>\n",
      "dss        module      <module 'dss' from '/User<...>ᆼ/0. 스쿨 수업/dss.py'>\n",
      "num        int         1234\n",
      "school     module      <module 'school' (namespace)>\n",
      "url        module      <module 'school.web.url' <...>수업/school/web/url.py'>\n"
     ]
    }
   ],
   "source": [
    "# 모듈 호출 : import ( .py 제외한 파일명 )\n",
    "\n",
    "import dss\n",
    "%whos"
   ]
  },
  {
   "cell_type": "code",
   "execution_count": 291,
   "metadata": {},
   "outputs": [
    {
     "data": {
      "text/plain": [
       "1234"
      ]
     },
     "execution_count": 291,
     "metadata": {},
     "output_type": "execute_result"
    }
   ],
   "source": [
    "dss.num"
   ]
  },
  {
   "cell_type": "code",
   "execution_count": 292,
   "metadata": {},
   "outputs": [
    {
     "name": "stdout",
     "output_type": "stream",
     "text": [
      "disp1 안녕\n"
     ]
    }
   ],
   "source": [
    "dss.disp1('안녕')"
   ]
  },
  {
   "cell_type": "code",
   "execution_count": 293,
   "metadata": {},
   "outputs": [],
   "source": [
    "calc = dss.Calc()"
   ]
  },
  {
   "cell_type": "code",
   "execution_count": 294,
   "metadata": {},
   "outputs": [
    {
     "data": {
      "text/plain": [
       "21"
      ]
     },
     "execution_count": 294,
     "metadata": {},
     "output_type": "execute_result"
    }
   ],
   "source": [
    "calc.plus(1,2,3,4,5,6)"
   ]
  },
  {
   "cell_type": "markdown",
   "metadata": {},
   "source": [
    "# 3. 모듈 내 특정 변수, 함수 호출"
   ]
  },
  {
   "cell_type": "code",
   "execution_count": 295,
   "metadata": {},
   "outputs": [],
   "source": [
    "# import random   --> random 모듈을 불러온 것 (random.py 라는 파일의 코드(모듈 적어놓은) 가져온 것)\n",
    "# random.randint(1,5)   --> random 모듈 내 randint라는 함수를 가져온 것.\n",
    "# calc.plus         --> dss 라는 모듈의 plus라는 함수 가져온 것."
   ]
  },
  {
   "cell_type": "code",
   "execution_count": 296,
   "metadata": {},
   "outputs": [],
   "source": [
    "# 모듈 안에 특정 함수, 변수, 클래스 호출\n",
    "# '모듈.변수' 로 적지 않고, '모듈' 로 바로 호출 가능\n",
    "\n",
    "from dss import num, disp2"
   ]
  },
  {
   "cell_type": "code",
   "execution_count": 297,
   "metadata": {},
   "outputs": [
    {
     "name": "stdout",
     "output_type": "stream",
     "text": [
      "Variable   Type        Data/Info\n",
      "--------------------------------\n",
      "Calc       type        <class 'dss.Calc'>\n",
      "calc       Calc        <dss.Calc object at 0x109baed10>\n",
      "disp1      function    <function disp1 at 0x109a88ef0>\n",
      "disp2      function    <function disp2 at 0x109ab75f0>\n",
      "dss        module      <module 'dss' from '/User<...>ᆼ/0. 스쿨 수업/dss.py'>\n",
      "num        int         1234\n",
      "school     module      <module 'school' (namespace)>\n",
      "url        module      <module 'school.web.url' <...>수업/school/web/url.py'>\n"
     ]
    }
   ],
   "source": [
    "%whos"
   ]
  },
  {
   "cell_type": "code",
   "execution_count": 298,
   "metadata": {},
   "outputs": [
    {
     "data": {
      "text/plain": [
       "1234"
      ]
     },
     "execution_count": 298,
     "metadata": {},
     "output_type": "execute_result"
    }
   ],
   "source": [
    "dss.num"
   ]
  },
  {
   "cell_type": "code",
   "execution_count": 299,
   "metadata": {},
   "outputs": [
    {
     "data": {
      "text/plain": [
       "1234"
      ]
     },
     "execution_count": 299,
     "metadata": {},
     "output_type": "execute_result"
    }
   ],
   "source": [
    "num"
   ]
  },
  {
   "cell_type": "markdown",
   "metadata": {},
   "source": [
    "# 4. 모듈 내 모든 변수, 함수 호출"
   ]
  },
  {
   "cell_type": "code",
   "execution_count": 300,
   "metadata": {},
   "outputs": [
    {
     "name": "stdout",
     "output_type": "stream",
     "text": [
      "Once deleted, variables cannot be recovered. Proceed (y/[n])? \n",
      "Nothing done.\n"
     ]
    }
   ],
   "source": [
    "%reset"
   ]
  },
  {
   "cell_type": "code",
   "execution_count": 301,
   "metadata": {},
   "outputs": [
    {
     "name": "stdout",
     "output_type": "stream",
     "text": [
      "Variable   Type        Data/Info\n",
      "--------------------------------\n",
      "Calc       type        <class 'dss.Calc'>\n",
      "calc       Calc        <dss.Calc object at 0x109baed10>\n",
      "disp1      function    <function disp1 at 0x109a88ef0>\n",
      "disp2      function    <function disp2 at 0x109ab75f0>\n",
      "dss        module      <module 'dss' from '/User<...>ᆼ/0. 스쿨 수업/dss.py'>\n",
      "num        int         1234\n",
      "school     module      <module 'school' (namespace)>\n",
      "url        module      <module 'school.web.url' <...>수업/school/web/url.py'>\n"
     ]
    }
   ],
   "source": [
    "from dss import *\n",
    "\n",
    "%whos"
   ]
  },
  {
   "cell_type": "markdown",
   "metadata": {},
   "source": [
    "# 5. 패키지\n",
    "\n",
    "- 패키지 생성\n",
    "- 패키지 호출\n",
    "- setup.py 패키지 설치 파일 만들기 \n",
    "\n",
    "- 패키지(디렉토리) : 모듈(파일)"
   ]
  },
  {
   "cell_type": "markdown",
   "metadata": {},
   "source": [
    "## 1) 패키지 ( 디렉토리 (dss / web) ) 생성"
   ]
  },
  {
   "cell_type": "code",
   "execution_count": 2,
   "metadata": {},
   "outputs": [],
   "source": [
    "# !mkdir p-   --->   school 밑에 dss 디렉토리 생성\n",
    "!mkdir -p school/dss"
   ]
  },
  {
   "cell_type": "code",
   "execution_count": 3,
   "metadata": {},
   "outputs": [],
   "source": [
    "# !mkdir p-   --->   school 밑에 web 디렉토리 생성\n",
    "!mkdir -p school/web"
   ]
  },
  {
   "cell_type": "code",
   "execution_count": 4,
   "metadata": {},
   "outputs": [
    {
     "name": "stdout",
     "output_type": "stream",
     "text": [
      "\u001b[01;34mschool\u001b[00m\r\n",
      "├── \u001b[01;34mdss\u001b[00m\r\n",
      "│   ├── __init__.py\r\n",
      "│   ├── data1.py\r\n",
      "│   └── data2.py\r\n",
      "└── \u001b[01;34mweb\u001b[00m\r\n",
      "    ├── __init__.py\r\n",
      "    └── url.py\r\n",
      "\r\n",
      "2 directories, 5 files\r\n"
     ]
    }
   ],
   "source": [
    "!tree school"
   ]
  },
  {
   "cell_type": "markdown",
   "metadata": {},
   "source": [
    "### tree 설치\n",
    "- homebrew 설치\n",
    "    - homebrew : https://brew.sh/index_ko\n",
    "    - homebrew : osx 패키지 관리 설치 툴\n",
    "    - /bin/bash -c \"$(curl -fsSL https://raw.githubusercontent.com/Homebrew/install/master/install.sh)\"\n",
    "    - brew install tree"
   ]
  },
  {
   "cell_type": "markdown",
   "metadata": {},
   "source": [
    "## 2) 모듈(파일) 생성"
   ]
  },
  {
   "cell_type": "code",
   "execution_count": 5,
   "metadata": {},
   "outputs": [],
   "source": [
    "# 이 단계는 파이썬 3.8버젼 이후 부터는 안해도 됨\n",
    "# !touch --> 파일 생성\n",
    "!touch school/dss/__init__.py\n",
    "!touch school/web/__init__.py"
   ]
  },
  {
   "cell_type": "code",
   "execution_count": 6,
   "metadata": {},
   "outputs": [
    {
     "name": "stdout",
     "output_type": "stream",
     "text": [
      "\u001b[01;34mschool\u001b[00m\r\n",
      "├── \u001b[01;34mdss\u001b[00m\r\n",
      "│   ├── __init__.py\r\n",
      "│   ├── data1.py\r\n",
      "│   └── data2.py\r\n",
      "└── \u001b[01;34mweb\u001b[00m\r\n",
      "    ├── __init__.py\r\n",
      "    └── url.py\r\n",
      "\r\n",
      "2 directories, 5 files\r\n"
     ]
    }
   ],
   "source": [
    "!tree school"
   ]
  },
  {
   "cell_type": "code",
   "execution_count": 7,
   "metadata": {},
   "outputs": [
    {
     "name": "stdout",
     "output_type": "stream",
     "text": [
      "Overwriting school/dss/data1.py\n"
     ]
    }
   ],
   "source": [
    "%%writefile school/dss/data1.py\n",
    "# dss라는 패키지 안에 모듈(파일)을 추가\n",
    "# web이라는 디렉토리 안에 모듈(파일)을 추가\n",
    "\n",
    "def plus(*args):\n",
    "    print('data1')\n",
    "    return sum(args)"
   ]
  },
  {
   "cell_type": "code",
   "execution_count": 8,
   "metadata": {},
   "outputs": [
    {
     "name": "stdout",
     "output_type": "stream",
     "text": [
      "Overwriting school/dss/data2.py\n"
     ]
    }
   ],
   "source": [
    "%%writefile school/dss/data2.py\n",
    "\n",
    "def plus2(*args):\n",
    "    print('data2')\n",
    "    return sum(args)"
   ]
  },
  {
   "cell_type": "code",
   "execution_count": 9,
   "metadata": {},
   "outputs": [
    {
     "name": "stdout",
     "output_type": "stream",
     "text": [
      "Overwriting school/web/url.py\n"
     ]
    }
   ],
   "source": [
    "%%writefile school/web/url.py\n",
    "\n",
    "def make(url):\n",
    "    return url if url[:7] == 'http://' else 'http://'+url"
   ]
  },
  {
   "cell_type": "code",
   "execution_count": 10,
   "metadata": {},
   "outputs": [
    {
     "name": "stdout",
     "output_type": "stream",
     "text": [
      "\u001b[01;34mschool\u001b[00m\r\n",
      "├── \u001b[01;34mdss\u001b[00m\r\n",
      "│   ├── __init__.py\r\n",
      "│   ├── data1.py\r\n",
      "│   └── data2.py\r\n",
      "└── \u001b[01;34mweb\u001b[00m\r\n",
      "    ├── __init__.py\r\n",
      "    └── url.py\r\n",
      "\r\n",
      "2 directories, 5 files\r\n"
     ]
    }
   ],
   "source": [
    "!tree school"
   ]
  },
  {
   "cell_type": "markdown",
   "metadata": {},
   "source": [
    "## 3) 패키지 경로 안에 있는 모듈을 찾아들어가 사용"
   ]
  },
  {
   "cell_type": "code",
   "execution_count": 11,
   "metadata": {},
   "outputs": [],
   "source": [
    "import school.dss.data1"
   ]
  },
  {
   "cell_type": "code",
   "execution_count": 12,
   "metadata": {},
   "outputs": [
    {
     "name": "stdout",
     "output_type": "stream",
     "text": [
      "Variable   Type      Data/Info\n",
      "------------------------------\n",
      "school     module    <module 'school' (namespace)>\n"
     ]
    }
   ],
   "source": [
    "%whos"
   ]
  },
  {
   "cell_type": "code",
   "execution_count": 13,
   "metadata": {},
   "outputs": [
    {
     "name": "stdout",
     "output_type": "stream",
     "text": [
      "data1\n"
     ]
    },
    {
     "data": {
      "text/plain": [
       "6"
      ]
     },
     "execution_count": 13,
     "metadata": {},
     "output_type": "execute_result"
    }
   ],
   "source": [
    "# school 디렉토리 - dss 디렉토리 - data1 모듈 - plus 함수 호출\n",
    "school.dss.data1.plus(1,2,3)"
   ]
  },
  {
   "cell_type": "code",
   "execution_count": 14,
   "metadata": {},
   "outputs": [],
   "source": [
    "# 모듈 호출 명령어 너무 길다 import school.dss.data1\n",
    "# alias 로 단축명 생성\n",
    "\n",
    "import school.dss.data1 as dss"
   ]
  },
  {
   "cell_type": "code",
   "execution_count": 15,
   "metadata": {},
   "outputs": [
    {
     "name": "stdout",
     "output_type": "stream",
     "text": [
      "data1\n"
     ]
    },
    {
     "data": {
      "text/plain": [
       "6"
      ]
     },
     "execution_count": 15,
     "metadata": {},
     "output_type": "execute_result"
    }
   ],
   "source": [
    "dss.plus(1,2,3)"
   ]
  },
  {
   "cell_type": "code",
   "execution_count": 16,
   "metadata": {},
   "outputs": [],
   "source": [
    "# school web : 디렉토리\n",
    "# url : 모듈\n",
    "from school.web import url"
   ]
  },
  {
   "cell_type": "code",
   "execution_count": 18,
   "metadata": {},
   "outputs": [
    {
     "data": {
      "text/plain": [
       "'http://google.com'"
      ]
     },
     "execution_count": 18,
     "metadata": {},
     "output_type": "execute_result"
    }
   ],
   "source": [
    "url.make('google.com')"
   ]
  },
  {
   "cell_type": "code",
   "execution_count": 3,
   "metadata": {},
   "outputs": [],
   "source": [
    "# 패키지의 위치 : 특정 디렉토리에 있는 패키지는 어디에서나 import 가능"
   ]
  },
  {
   "cell_type": "code",
   "execution_count": 4,
   "metadata": {},
   "outputs": [],
   "source": [
    "import random"
   ]
  },
  {
   "cell_type": "code",
   "execution_count": 6,
   "metadata": {},
   "outputs": [
    {
     "name": "stdout",
     "output_type": "stream",
     "text": [
      "/Users/kimjeongseob/Desktop/0. 데이터사이언스스쿨/2. 프로그래밍/0. 스쿨 수업\n",
      "/Users/kimjeongseob/opt/anaconda3/lib/python37.zip\n",
      "/Users/kimjeongseob/opt/anaconda3/lib/python3.7\n",
      "/Users/kimjeongseob/opt/anaconda3/lib/python3.7/lib-dynload\n",
      "\n",
      "/Users/kimjeongseob/opt/anaconda3/lib/python3.7/site-packages\n",
      "/Users/kimjeongseob/opt/anaconda3/lib/python3.7/site-packages/aeosa\n",
      "/Users/kimjeongseob/opt/anaconda3/lib/python3.7/site-packages/IPython/extensions\n",
      "/Users/kimjeongseob/.ipython\n"
     ]
    }
   ],
   "source": [
    "import sys\n",
    "\n",
    "for path in sys.path:\n",
    "    print(path)"
   ]
  },
  {
   "cell_type": "code",
   "execution_count": 13,
   "metadata": {},
   "outputs": [
    {
     "data": {
      "text/plain": [
       "(211, ['xdrlib.py', 'xml', 'xmlrpc', 'zipapp.py', 'zipfile.py'])"
      ]
     },
     "execution_count": 13,
     "metadata": {},
     "output_type": "execute_result"
    }
   ],
   "source": [
    "# !ls /Users/kimjeongseob/opt/anaconda3/lib/python3.7\n",
    "\n",
    "# 아래의 출력 결과를 변수에다 넣을 수 있음\n",
    "\n",
    "A = !ls /Users/kimjeongseob/opt/anaconda3/lib/python3.7\n",
    "len(A), A[-5:]"
   ]
  },
  {
   "cell_type": "code",
   "execution_count": 15,
   "metadata": {},
   "outputs": [],
   "source": [
    "# setup.py 를 작성해서 패키지를 설치해서 사용\n",
    "# setuptools 를 이용"
   ]
  }
 ],
 "metadata": {
  "kernelspec": {
   "display_name": "Python 3",
   "language": "python",
   "name": "python3"
  },
  "language_info": {
   "codemirror_mode": {
    "name": "ipython",
    "version": 3
   },
   "file_extension": ".py",
   "mimetype": "text/x-python",
   "name": "python",
   "nbconvert_exporter": "python",
   "pygments_lexer": "ipython3",
   "version": "3.7.4"
  }
 },
 "nbformat": 4,
 "nbformat_minor": 2
}
