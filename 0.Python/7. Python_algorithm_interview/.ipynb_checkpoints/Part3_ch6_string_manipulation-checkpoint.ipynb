{
 "cells": [
  {
   "cell_type": "markdown",
   "metadata": {},
   "source": [
    "# 문제 1. 유효한 팰린드롬\n",
    "\n",
    "- leetcode : https://leetcode.com/problems/valid-palindrome/"
   ]
  },
  {
   "cell_type": "markdown",
   "metadata": {},
   "source": [
    "```\n",
    "Given a string, determine if it is a palindrome, considering only alphanumeric characters and ignoring cases.\n",
    "\n",
    "Note: For the purpose of this problem, we define empty string as valid palindrome.\n",
    "\n",
    "<Example 1>\n",
    "\n",
    "Input: \"A man, a plan, a canal: Panama\"\n",
    "Output: true\n",
    "\n",
    "<Example 2>\n",
    "\n",
    "Input: \"race a car\"\n",
    "Output: false\n",
    " \n",
    "Constraints: s consists only of printable ASCII characters.\n",
    "```"
   ]
  },
  {
   "cell_type": "markdown",
   "metadata": {},
   "source": [
    "## 1) 리스트를 활용한 풀이 \n",
    "- 284 ms\n",
    "- pop()의 영향으로 연산시간 많이 소요"
   ]
  },
  {
   "cell_type": "markdown",
   "metadata": {},
   "source": [
    "### 1-1) char.isalnum() : 문자열 중 숫자 + 문자인 경우만 True로 반환하는 함수"
   ]
  },
  {
   "cell_type": "code",
   "execution_count": 13,
   "metadata": {
    "scrolled": true
   },
   "outputs": [
    {
     "name": "stdout",
     "output_type": "stream",
     "text": [
      "False True False True True True "
     ]
    }
   ],
   "source": [
    "s = \" A 23n\"\n",
    "for char in s:\n",
    "    print(char.isalnum(),end=' ')"
   ]
  },
  {
   "cell_type": "code",
   "execution_count": 25,
   "metadata": {},
   "outputs": [],
   "source": [
    "class Solution:\n",
    "    def isPalindrome(self, s: str) -> bool:\n",
    "        strs = []\n",
    "        for char in s:\n",
    "            # 제약조건 상, 문자만 판단하니, 모두 문자인 경우만 선별(True)\n",
    "            if char.isalnum():\n",
    "                # 제약조건 상, 대/소문자 구분이 없으므로, 모두 소문자로 전처리\n",
    "                strs.append(char.lower())\n",
    "        while len(strs) > 1:\n",
    "            if strs.pop(0) != strs.pop():\n",
    "                return False\n",
    "            \n",
    "        return True"
   ]
  },
  {
   "cell_type": "code",
   "execution_count": 26,
   "metadata": {},
   "outputs": [],
   "source": [
    "sol = Solution()"
   ]
  },
  {
   "cell_type": "code",
   "execution_count": 29,
   "metadata": {
    "scrolled": true
   },
   "outputs": [
    {
     "data": {
      "text/plain": [
       "True"
      ]
     },
     "execution_count": 29,
     "metadata": {},
     "output_type": "execute_result"
    }
   ],
   "source": [
    "sol.isPalindrome(\"cac\")"
   ]
  },
  {
   "cell_type": "code",
   "execution_count": 30,
   "metadata": {},
   "outputs": [
    {
     "data": {
      "text/plain": [
       "False"
      ]
     },
     "execution_count": 30,
     "metadata": {},
     "output_type": "execute_result"
    }
   ],
   "source": [
    "sol.isPalindrome(\"car\")"
   ]
  },
  {
   "cell_type": "markdown",
   "metadata": {},
   "source": [
    "## 2) 슬라이싱 활용\n",
    "\n",
    "- 슬라이싱 : 매우 속도가 빠름\n",
    "- 문자열을 리스트 등으로 변환하면, 연산 시간이 많이 소요되므로, 문자열 그대로 슬라이싱 해 푸는 것이 바람직"
   ]
  },
  {
   "cell_type": "markdown",
   "metadata": {},
   "source": [
    "### 2-1) re 정규식 활용한 필터링\n",
    "\n",
    "- leetcode의 기본 라이브러리로 import re 있음(다른 플랫폼에선 확인해봐야함)\n",
    "- 36ms"
   ]
  },
  {
   "cell_type": "code",
   "execution_count": 38,
   "metadata": {},
   "outputs": [],
   "source": [
    "import re\n",
    "class Solution:\n",
    "    def isPalindrome(self, s: str) -> bool:\n",
    "        # 소문자로 전처리\n",
    "        s = s.lower()\n",
    "        # 정규식으로 불필요한 문자 필터링\n",
    "        s = re.sub('[^a-z0-9]','',s)\n",
    "        \n",
    "        return s == s[::-1] # 슬라이싱"
   ]
  },
  {
   "cell_type": "code",
   "execution_count": 39,
   "metadata": {},
   "outputs": [
    {
     "data": {
      "text/plain": [
       "True"
      ]
     },
     "execution_count": 39,
     "metadata": {},
     "output_type": "execute_result"
    }
   ],
   "source": [
    "sol = Solution()\n",
    "sol.isPalindrome(\"cac\")"
   ]
  },
  {
   "cell_type": "code",
   "execution_count": 40,
   "metadata": {},
   "outputs": [
    {
     "data": {
      "text/plain": [
       "False"
      ]
     },
     "execution_count": 40,
     "metadata": {},
     "output_type": "execute_result"
    }
   ],
   "source": [
    "sol.isPalindrome(\"car\")"
   ]
  },
  {
   "cell_type": "code",
   "execution_count": 45,
   "metadata": {},
   "outputs": [],
   "source": [
    "class Solution:\n",
    "    def isPalindrome(self, s: str) -> bool:\n",
    "        strs = []\n",
    "        for char in s:\n",
    "            # 제약조건 상, 문자만 판단하니, 모두 문자인 경우만 선별(True)\n",
    "            if char.isalnum():\n",
    "                # 제약조건 상, 대/소문자 구분이 없으므로, 모두 소문자로 전처리\n",
    "                strs.append(char.lower())\n",
    "        while len(strs) > 1:\n",
    "            if strs != strs[::-1]:\n",
    "                return False\n",
    "            \n",
    "        return True"
   ]
  },
  {
   "cell_type": "markdown",
   "metadata": {},
   "source": [
    "### 2-1) isalnum(), lower() 전처리 + 슬라이싱\n",
    "\n",
    "- leetcode의 기본 라이브러리로 import re 있음(다른 플랫폼에선 확인해봐야함)\n",
    "- 48ms"
   ]
  },
  {
   "cell_type": "code",
   "execution_count": 55,
   "metadata": {},
   "outputs": [],
   "source": [
    "class Solution:\n",
    "    def isPalindrome(self, s: str) -> bool:\n",
    "        strs = []\n",
    "        for char in s:\n",
    "            # 제약조건 상, 문자만 판단하니, 모두 문자인 경우만 선별(True)\n",
    "            if char.isalnum():\n",
    "                # 제약조건 상, 대/소문자 구분이 없으므로, 모두 소문자로 전처리\n",
    "                strs.append(char.lower())\n",
    "        if strs != strs[::-1]:\n",
    "            return False\n",
    "            \n",
    "        return True"
   ]
  },
  {
   "cell_type": "code",
   "execution_count": 54,
   "metadata": {},
   "outputs": [
    {
     "data": {
      "text/plain": [
       "False"
      ]
     },
     "execution_count": 54,
     "metadata": {},
     "output_type": "execute_result"
    }
   ],
   "source": [
    "sol = Solution()\n",
    "sol.isPalindrome(\"car\")"
   ]
  },
  {
   "cell_type": "code",
   "execution_count": null,
   "metadata": {},
   "outputs": [],
   "source": []
  },
  {
   "cell_type": "code",
   "execution_count": null,
   "metadata": {},
   "outputs": [],
   "source": []
  },
  {
   "cell_type": "code",
   "execution_count": null,
   "metadata": {},
   "outputs": [],
   "source": []
  },
  {
   "cell_type": "code",
   "execution_count": null,
   "metadata": {},
   "outputs": [],
   "source": []
  },
  {
   "cell_type": "code",
   "execution_count": null,
   "metadata": {},
   "outputs": [],
   "source": []
  },
  {
   "cell_type": "code",
   "execution_count": null,
   "metadata": {},
   "outputs": [],
   "source": []
  },
  {
   "cell_type": "code",
   "execution_count": null,
   "metadata": {},
   "outputs": [],
   "source": []
  },
  {
   "cell_type": "code",
   "execution_count": null,
   "metadata": {},
   "outputs": [],
   "source": []
  },
  {
   "cell_type": "code",
   "execution_count": null,
   "metadata": {},
   "outputs": [],
   "source": []
  }
 ],
 "metadata": {
  "kernelspec": {
   "display_name": "Python 3",
   "language": "python",
   "name": "python3"
  },
  "language_info": {
   "codemirror_mode": {
    "name": "ipython",
    "version": 3
   },
   "file_extension": ".py",
   "mimetype": "text/x-python",
   "name": "python",
   "nbconvert_exporter": "python",
   "pygments_lexer": "ipython3",
   "version": "3.7.4"
  }
 },
 "nbformat": 4,
 "nbformat_minor": 4
}
