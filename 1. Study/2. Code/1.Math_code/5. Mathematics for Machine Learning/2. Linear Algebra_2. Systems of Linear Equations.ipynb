{
 "cells": [
  {
   "cell_type": "markdown",
   "metadata": {},
   "source": [
    "# 2. Linear Algebra_2. Systems of Linear Equations"
   ]
  },
  {
   "cell_type": "markdown",
   "metadata": {},
   "source": [
    "Linear Algebra는 Linear Equations problem을 Vector를 이용해 해결하는 것에 관한 학문으로 이해할 수 있습니다.\n",
    "\n",
    "따라서, Linear Equation과 이의 조합인 Systems of Linear Equations(선형 연립방정식) 또한 Vector, Matrix로 표현이 가능합니다.\n"
   ]
  },
  {
   "cell_type": "markdown",
   "metadata": {},
   "source": [
    "예를 들어, 다음과 같은 선형 연립방정식을 행렬 $A$, 벡터 $x$, $b$ 를 이용해 간단히 표현할 수 있습니다."
   ]
  },
  {
   "cell_type": "markdown",
   "metadata": {},
   "source": [
    "$$ x_{1} + x_{2} + x_{3} = 3 $$\n",
    "$$ x_{1} - x_{2} + 2x_{3} = 2 $$\n",
    "$$         x_{2} + x_{3} = 2 $$\n"
   ]
  },
  {
   "cell_type": "markdown",
   "metadata": {},
   "source": [
    "$$\n",
    "\\begin{align}\n",
    "A= \n",
    "\\begin{bmatrix}\n",
    "1&1&1\\\\\n",
    "1&-1&2\\\\\n",
    "0&1&1\n",
    "\\end{bmatrix}\n",
    ",\\;\\;\n",
    "x=\n",
    "\\begin{bmatrix}\n",
    "x1\\\\\n",
    "x2\\\\\n",
    "x3\n",
    "\\end{bmatrix}\n",
    ",\\;\\;\n",
    "b=\n",
    "\\begin{bmatrix}\n",
    "3\\\\\n",
    "2\\\\\n",
    "2\n",
    "\\end{bmatrix}\n",
    "\\end{align}\n",
    "$$\n",
    "\n",
    "$$Ax = b$$\n",
    "$$x = A^{-1}b$$\n",
    "\n"
   ]
  },
  {
   "cell_type": "markdown",
   "metadata": {},
   "source": [
    "그리고, 이러한 Systems of Linear equations의 solution ( 벡터 $x$ ) 을 쉽게 찾을 수 있다.\n",
    "이때, 역행렬을 구하기 위해 Numpy패키지의 np.linalg.inv() method를 활용한다\n",
    "\n",
    "**참고 : @ 기호는 dotproduct(내적)연산을 수행한다. 기본 행렬곱인 element-wise 연산을 수행하기 위해선, 아래와 같이 @를 통해 행렬과 벡터의 연산을 수행한다.**"
   ]
  },
  {
   "cell_type": "code",
   "execution_count": 9,
   "metadata": {},
   "outputs": [
    {
     "data": {
      "text/plain": [
       "array([[1.],\n",
       "       [1.],\n",
       "       [1.]])"
      ]
     },
     "execution_count": 9,
     "metadata": {},
     "output_type": "execute_result"
    }
   ],
   "source": [
    "A = np.array([[1,1,1],[1,-1,2],[0,1,1]])\n",
    "b = np.array([[3],[2],[2]])\n",
    "x = np.linalg.inv(A)@b\n",
    "x"
   ]
  },
  {
   "cell_type": "markdown",
   "metadata": {},
   "source": [
    "이와 같은 선형연립방정식을 풀 때, 위와 같이 역행렬을 직접 구해 solution을 구해줄 수 있지만, Numpy의 'lstsq()' 명령을 활용해 구할 수도 있다.\n",
    "\n",
    "`lstsq()` 명령은 향후 자세히 보게 될 solution, RSS, rank, Singular vlaue 를 각각 반환한다. `lstsq()` 명령은 이후 보게될 'Ordinary Least Square Problem'을 풀기위한 연산 명령이다.\n",
    "\n",
    "위와 같이 미지수의 갯수 $=$ 방정식의 갯수 (A가 Square Matrix)인 경우, OLS와 Inverse Matrix의 solution이 같기 때문에*, `lstsq()` 명령을  사용해도 동일한 답을 얻을 수 있다.\n",
    "\n",
    "*미지수의 갯수 $=$ 방정식의 갯수인 경우, unique solution을 갖기 때문에"
   ]
  },
  {
   "cell_type": "code",
   "execution_count": 15,
   "metadata": {},
   "outputs": [
    {
     "data": {
      "text/plain": [
       "array([[1.],\n",
       "       [1.],\n",
       "       [1.]])"
      ]
     },
     "execution_count": 15,
     "metadata": {},
     "output_type": "execute_result"
    }
   ],
   "source": [
    "x, resid, rank, s = np.linalg.lstsq(A, b)\n",
    "x"
   ]
  }
 ],
 "metadata": {
  "kernelspec": {
   "display_name": "Python 3",
   "language": "python",
   "name": "python3"
  },
  "language_info": {
   "codemirror_mode": {
    "name": "ipython",
    "version": 3
   },
   "file_extension": ".py",
   "mimetype": "text/x-python",
   "name": "python",
   "nbconvert_exporter": "python",
   "pygments_lexer": "ipython3",
   "version": "3.7.4"
  }
 },
 "nbformat": 4,
 "nbformat_minor": 4
}
