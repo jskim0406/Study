{
 "cells": [
  {
   "cell_type": "markdown",
   "metadata": {},
   "source": [
    "오늘은 Basis와 Rank라는 개념에 대해 살펴보겠습니다.\n",
    "\n",
    "처음 접했을 때는 무언가 복잡하고 어려워보이던 Rank... 이름만으로도 무언가 되게 본질적이고 어려워 보였습니다.\n",
    "하지만, 찬찬히 곱씹어보면, 그리 어렵지 않은 개념이더라구요! 오늘 간단하게 개념을 살펴보겠습니다. \n",
    "\n",
    "basis라는 개념을 살펴보기 전에, Span과 Generating sets라는 개념에 대해 살펴보고 가겠습니다!"
   ]
  },
  {
   "cell_type": "markdown",
   "metadata": {},
   "source": [
    "### 1. Span"
   ]
  },
  {
   "cell_type": "markdown",
   "metadata": {},
   "source": [
    "Span이란, 쉽게 생각하면 벡터들을 선형조합(Linear Combination)해주는 과정이라 생각할 수 있습니다. 선형조합은 앞에서 살펴보았듯이, 선형결합 연산을 해주는 것이죠!(Addition, Multiplication by scalar)\n",
    "\n",
    "아래와 같이, 행렬 A가 3개의 컬럼으로 이뤄져있다고 할 때 이 컬럼들은 A라는 하나의 Vector space 혹은 Vector subspace를 이루고 있다고 볼 수 있습니다.\n",
    "\n",
    "그리고, 이 컬럼(벡터)들을 하나씩 떼어내 선형조합을 한 것을 바로 span of A라고 볼 수 있습니다.\n",
    "\n",
    "**Span of A : 벡터(부분)공간\"A\"의 벡터(columns)들을 선형조합한 set**\n",
    "\n",
    "위와 같이 정의가 될 수 있습니다.\n",
    "\n",
    "결국, 아래와 같이 행렬 내에서 Span을 할 경우, columns space(열공간)을 얻어낼 수 있습니다!"
   ]
  },
  {
   "cell_type": "markdown",
   "metadata": {},
   "source": [
    "$$\n",
    "\\begin{align}\n",
    "A\n",
    "=\n",
    "\\begin{bmatrix}\n",
    "10 & 11 & 12\\\\\n",
    "11 & 12 & 13\\\\\n",
    "12 & 13 & 14\\\\\n",
    "\\end{bmatrix}\n",
    "\\end{align}\n",
    "$$\n",
    "\n",
    "\n",
    "$$\n",
    "\\begin{align}\n",
    "span(A)\n",
    "=\n",
    "c_{1}\n",
    "\\begin{bmatrix}\n",
    "10\\\\\n",
    "11\\\\\n",
    "12\\\\\n",
    "\\end{bmatrix}\n",
    "+\n",
    "c_{2}\n",
    "\\begin{bmatrix}\n",
    "11\\\\\n",
    "12\\\\\n",
    "13\\\\\n",
    "\\end{bmatrix}\n",
    "+\n",
    "c_{3}\n",
    "\\begin{bmatrix}\n",
    "12\\\\\n",
    "13\\\\\n",
    "14\\\\\n",
    "\\end{bmatrix}\n",
    "\\end{align}\n",
    "$$"
   ]
  },
  {
   "cell_type": "markdown",
   "metadata": {},
   "source": [
    "### 2. Generating sets"
   ]
  },
  {
   "cell_type": "markdown",
   "metadata": {},
   "source": [
    "Generating sets이란 **\"Sets of Vectors that span vector space or vector subspace\"라고 정의됩니다.(from MML)**\n",
    "\n",
    "즉, 벡터공간을 Span해주는 벡터들의 집합(set)이 바로 Generating sets라는 것이죠. 위의 행렬을 참고하자면, 아래처럼 3개의 벡터가 곧 \"Generating sets\"이 될 것입니다!\n",
    "\n",
    "\n",
    "$$\n",
    "\\begin{align}\n",
    "\\begin{bmatrix}\n",
    "10\\\\\n",
    "11\\\\\n",
    "12\\\\\n",
    "\\end{bmatrix},\n",
    "\\begin{bmatrix}\n",
    "11\\\\\n",
    "12\\\\\n",
    "13\\\\\n",
    "\\end{bmatrix},\n",
    "\\begin{bmatrix}\n",
    "12\\\\\n",
    "13\\\\\n",
    "14\\\\\n",
    "\\end{bmatrix}\n",
    "\\end{align}\n",
    "$$"
   ]
  },
  {
   "cell_type": "markdown",
   "metadata": {},
   "source": [
    "### 3. Basis"
   ]
  },
  {
   "cell_type": "markdown",
   "metadata": {},
   "source": [
    "Basis란 **\"Minimal generating set and a maximal linearly independent set of vectors\"라고 합니다.(from MML)**\n",
    "\n",
    "그대로 직역하자면, \n",
    "    - 벡터(부분)공간을 구성하는 generating sets중 가장 minimal 한 단위이자 \n",
    "    - 가장 Maximal 한 선형독립인 벡터 집합(set)\n",
    "    \n",
    "이 곧 basis 입니다.\n",
    "\n",
    "즉 **\"minimal generating sets == maximal independent sets of vectors\"**라는 것이죠.\n",
    "\n",
    "한 공간을 구성하는 벡터집합(vector sets)이 곧 선형독립인 것들로만 채워져야 위의 Basis 정의가 들어맞습니다.\n",
    "\n",
    "곧, Basis는 벡터(부분)공간을 구성하는 선형독립인 벡터 set으로 볼 수 있는 것입니다!"
   ]
  },
  {
   "cell_type": "markdown",
   "metadata": {},
   "source": [
    "### 4. Rank\n",
    "\n",
    "Rank란 **\"The number of Column vector or row vector which is linearly indepdent\"** 입니다.\n",
    "\n",
    "직역하자면, Rank란 **\"선형독립인 열 혹은 행벡터의 갯수\"** 인 것이지요!\n",
    "\n",
    "생각보다 간단한 개념입니다."
   ]
  },
  {
   "cell_type": "markdown",
   "metadata": {},
   "source": [
    "오늘은 Basis와 Rank라는 개념에 대해 살펴보았습니다. 간단히 글로만 살펴보았지만, 앞으로의 많은 개념, 연산, 예시에서 이 개념들을 활용할 예정입니다. 앞으로 다양한 예시와 개념들과 함께 지속적으로 다시 살펴보며 이해를 더해나가겠습니다 :)"
   ]
  }
 ],
 "metadata": {
  "kernelspec": {
   "display_name": "Python 3",
   "language": "python",
   "name": "python3"
  },
  "language_info": {
   "codemirror_mode": {
    "name": "ipython",
    "version": 3
   },
   "file_extension": ".py",
   "mimetype": "text/x-python",
   "name": "python",
   "nbconvert_exporter": "python",
   "pygments_lexer": "ipython3",
   "version": "3.7.4"
  }
 },
 "nbformat": 4,
 "nbformat_minor": 4
}
