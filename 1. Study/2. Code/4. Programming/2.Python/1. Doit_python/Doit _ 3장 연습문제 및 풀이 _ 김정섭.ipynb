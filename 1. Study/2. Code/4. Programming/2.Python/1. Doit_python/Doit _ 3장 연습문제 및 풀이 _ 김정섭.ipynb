{
 "cells": [
  {
   "cell_type": "markdown",
   "metadata": {},
   "source": [
    "# 점프투파이썬 문제풀이"
   ]
  },
  {
   "cell_type": "markdown",
   "metadata": {},
   "source": [
    "## 3장 연습문제\n",
    "- [url]\n",
    "- 문제 : https://wikidocs.net/42527\n",
    "- 해답 : https://wikidocs.net/12769#02"
   ]
  },
  {
   "cell_type": "markdown",
   "metadata": {},
   "source": [
    "# [문제 및 풀이 : 3장 2, 5, 6번]\n",
    "- 제가 쓴 코드이고, 효율적으로 풀기보단,, 배운 것들을 활용해서 풀려고 이것저것 써본 내용이라, 그다지 모범적인 코드는 아닙니다!\n",
    "- 교재의 풀이는 위의 url 로 가셔서 보시면 되어요!"
   ]
  },
  {
   "cell_type": "code",
   "execution_count": null,
   "metadata": {},
   "outputs": [],
   "source": [
    "#3장 2번\n",
    "#while문을 사용해 1부터 1000까지의 자연수 중 3의 배수의 합을 구해 보자.\n",
    "#리스트 내포를 이용해 구해보자\n",
    "\n",
    "ls = [i for i in range(1,1001) if i%3==0]\n",
    "sum(ls)\n",
    "\n",
    "#3장 3번\n",
    "idx = 0\n",
    "\n",
    "while True:\n",
    "    idx += 1\n",
    "    print('*'*idx)\n",
    "    \n",
    "    if idx==5:\n",
    "        break"
   ]
  },
  {
   "cell_type": "code",
   "execution_count": null,
   "metadata": {},
   "outputs": [],
   "source": [
    "#3장 5번\n",
    "# A 학급에 총 10명의 학생이 있다. 이 학생들의 중간고사 점수는 다음과 같다.\n",
    "# [70, 60, 55, 75, 95, 90, 80, 80, 85, 100]\n",
    "# for문을 사용하여 A 학급의 평균 점수를 구해 보자.\n",
    "\n",
    "ls = [70, 60, 55, 75, 95, 90, 80, 80, 85, 100]\n",
    "idx_ls = 0\n",
    "sum_ = 0\n",
    "\n",
    "for idx, data in enumerate(ls):\n",
    "    sum_ += data\n",
    "    idx_ls = idx+1\n",
    "\n",
    "sum_/idx_ls"
   ]
  },
  {
   "cell_type": "code",
   "execution_count": null,
   "metadata": {},
   "outputs": [],
   "source": [
    "#3장 6번\n",
    "# 리스트 중에서 홀수에만 2를 곱하여 저장하는 다음 코드가 있다.\n",
    "\n",
    "# numbers = [1, 2, 3, 4, 5]\n",
    "# result = []\n",
    "# for n in numbers:\n",
    "#     if n % 2 == 1:\n",
    "#         result.append(n*2)\n",
    "# 위 코드를 리스트 내포(list comprehension)를 사용하여 표현해 보자.\n",
    "\n",
    "numbers = [1, 2, 3, 4, 5]\n",
    "result = [i*2 for i in numbers if i%2]\n",
    "result"
   ]
  }
 ],
 "metadata": {
  "kernelspec": {
   "display_name": "Python 3",
   "language": "python",
   "name": "python3"
  },
  "language_info": {
   "codemirror_mode": {
    "name": "ipython",
    "version": 3
   },
   "file_extension": ".py",
   "mimetype": "text/x-python",
   "name": "python",
   "nbconvert_exporter": "python",
   "pygments_lexer": "ipython3",
   "version": "3.7.4"
  }
 },
 "nbformat": 4,
 "nbformat_minor": 2
}
