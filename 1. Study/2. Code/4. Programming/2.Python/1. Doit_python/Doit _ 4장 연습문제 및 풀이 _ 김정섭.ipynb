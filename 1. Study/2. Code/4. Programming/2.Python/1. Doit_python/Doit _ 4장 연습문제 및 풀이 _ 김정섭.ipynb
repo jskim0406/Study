{
 "cells": [
  {
   "cell_type": "markdown",
   "metadata": {},
   "source": [
    "# 점프투파이썬 문제풀이"
   ]
  },
  {
   "cell_type": "markdown",
   "metadata": {},
   "source": [
    "## 4장 연습문제\n",
    "\n",
    "- 2,3 번 주의\n",
    "\n",
    "- [url]\n",
    "- 문제 : https://wikidocs.net/42528\n",
    "- 해답 : https://wikidocs.net/12769#02"
   ]
  },
  {
   "cell_type": "markdown",
   "metadata": {},
   "source": [
    "# [풀이 코드 : 4장 1, 2, 3번]\n",
    "- 제가 쓴 코드이고, 효율적으로 풀기보단,, 배운 것들을 활용해서 풀려고 이것저것 써본 내용이라, 그다지 모범적인 코드는 아닙니다!\n",
    "- 교재의 풀이는 위의 url 로 가셔서 보시면 되어요!"
   ]
  },
  {
   "cell_type": "code",
   "execution_count": 2,
   "metadata": {},
   "outputs": [
    {
     "name": "stdout",
     "output_type": "stream",
     "text": [
      "숫자를 입력하세요 : 13\n",
      "홀수\n"
     ]
    }
   ],
   "source": [
    "#4장 1번\n",
    "#주어진 자연수가 홀수인지 짝수인지 판별해 주는 함수(is_odd)를 작성해 보자.\n",
    "\n",
    "num = input('숫자를 입력하세요 : ')\n",
    "num = int(num)\n",
    "\n",
    "def is_odd(num):\n",
    "    if num%2:\n",
    "        print('홀수')\n",
    "    else:\n",
    "        print('짝수')\n",
    "        \n",
    "is_odd(num)"
   ]
  },
  {
   "cell_type": "code",
   "execution_count": 26,
   "metadata": {},
   "outputs": [
    {
     "name": "stdout",
     "output_type": "stream",
     "text": [
      "숫자를 입력하세요 : 9\n",
      "[10, 5, 8, 9] 8.0\n"
     ]
    }
   ],
   "source": [
    "#4장 2번 _ 풀이 (1) *\n",
    "#입력으로 들어오는 모든 수의 평균 값을 계산해 주는 함수를 작성해 보자. (단 입력으로 들어오는 수의 개수는 정해져 있지 않다.)\n",
    "#※ 평균 값을 구할 때 len 함수를 사용해 보자.\n",
    "data.append(int(input(\"숫자를 입력하세요 : \")))\n",
    "sum_ = 0\n",
    "\n",
    "for i in range(len(data)):\n",
    "    sum_ += data[i]\n",
    "\n",
    "result = sum_/len(data)\n",
    "print(data,result)"
   ]
  },
  {
   "cell_type": "code",
   "execution_count": 38,
   "metadata": {},
   "outputs": [
    {
     "data": {
      "text/plain": [
       "3.0"
      ]
     },
     "execution_count": 38,
     "metadata": {},
     "output_type": "execute_result"
    }
   ],
   "source": [
    "#4장 2번 _ 풀이 (2) -> *args 활용\n",
    "\n",
    "def get_average(*args):\n",
    "    \n",
    "    get_sum = 0\n",
    "    \n",
    "    for idx, num in enumerate(args):\n",
    "        get_sum += num\n",
    "        result = get_sum /(idx+1)\n",
    "        \n",
    "    return result\n",
    "\n",
    "get_average(1,2,3,4,5)"
   ]
  },
  {
   "cell_type": "code",
   "execution_count": 39,
   "metadata": {},
   "outputs": [
    {
     "data": {
      "text/plain": [
       "3.0"
      ]
     },
     "execution_count": 39,
     "metadata": {},
     "output_type": "execute_result"
    }
   ],
   "source": [
    "#4장 2번 _ 풀이 (3) -> *args 활용 + enumerate 활용X\n",
    "\n",
    "def get_average2(*args):\n",
    "    \n",
    "    result = 0\n",
    "    \n",
    "    for i in args:\n",
    "        result += i\n",
    "        \n",
    "    return result/len(args)\n",
    "\n",
    "get_average2(1,2,3,4,5)"
   ]
  },
  {
   "cell_type": "code",
   "execution_count": 41,
   "metadata": {},
   "outputs": [
    {
     "name": "stdout",
     "output_type": "stream",
     "text": [
      "첫번째 숫자를 입력하세요:3\n",
      "두번째 숫자를 입력하세요:6\n",
      "두 수의 합은 9 입니다\n"
     ]
    }
   ],
   "source": [
    "#4장 3번 *\n",
    "\n",
    "input1 = input(\"첫번째 숫자를 입력하세요:\")\n",
    "input2 = input(\"두번째 숫자를 입력하세요:\")\n",
    "\n",
    "input1 = int(input1)\n",
    "input2 = int(input2)\n",
    "\n",
    "total = input1 + input2\n",
    "print(\"두 수의 합은 %s 입니다\" % total)"
   ]
  },
  {
   "cell_type": "code",
   "execution_count": null,
   "metadata": {},
   "outputs": [],
   "source": []
  }
 ],
 "metadata": {
  "kernelspec": {
   "display_name": "Python 3",
   "language": "python",
   "name": "python3"
  },
  "language_info": {
   "codemirror_mode": {
    "name": "ipython",
    "version": 3
   },
   "file_extension": ".py",
   "mimetype": "text/x-python",
   "name": "python",
   "nbconvert_exporter": "python",
   "pygments_lexer": "ipython3",
   "version": "3.7.4"
  }
 },
 "nbformat": 4,
 "nbformat_minor": 2
}
