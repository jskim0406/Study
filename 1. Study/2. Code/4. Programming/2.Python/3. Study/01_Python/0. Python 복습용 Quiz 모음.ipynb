{
 "cells": [
  {
   "cell_type": "markdown",
   "metadata": {},
   "source": [
    "[출력 값의 데이터타입]  <--- 정리 필요\n",
    "- zip함수 출력 결과의 데이터타입\n",
    "- enumerate함수 출력 결과의 데이터타입\n",
    "- map, reduce, filter, range, *args, args, **kwargs, kwargs\n"
   ]
  },
  {
   "cell_type": "markdown",
   "metadata": {},
   "source": [
    "# Function_데코레이터"
   ]
  },
  {
   "cell_type": "markdown",
   "metadata": {},
   "source": [
    "### 1. 데코레이터 복습_시간 측정"
   ]
  },
  {
   "cell_type": "code",
   "execution_count": 33,
   "metadata": {},
   "outputs": [],
   "source": [
    "# 데코레이터 복습\n",
    "# test1,2,3 는 숫자 2개를 입력받아 그 사이의 숫자를 sum하는 함수. \n",
    "# test 함수는 각각 하나는 for-loop이용, 다른 하나는 reduce함수 이용, 다른 하나는 sum함수 이용\n",
    "# 데코레이터의 역할 : 각 test 함수의 시간을 측정하는 데코레이터 생성 ( import time, time.time()으로 데이터 생성해 객체에 저장 )"
   ]
  },
  {
   "cell_type": "code",
   "execution_count": 34,
   "metadata": {},
   "outputs": [],
   "source": [
    "import time\n",
    "# 데코레이터\n",
    "def count_time(func):\n",
    "    \n",
    "    def wrapper(*args,**kwargs):\n",
    "        start = time.time()\n",
    "        result = func(*args,**kwargs)\n",
    "        end = time.time()\n",
    "        print(\"소요시간 : {}\".format(end-start))\n",
    "        return result\n",
    "        \n",
    "    return wrapper"
   ]
  },
  {
   "cell_type": "code",
   "execution_count": 35,
   "metadata": {},
   "outputs": [],
   "source": [
    "#for loop 활용\n",
    "@count_time\n",
    "def test1(num1,num2):\n",
    "    \n",
    "    result = 0\n",
    "    for i in range(num1,num2+1):\n",
    "        result += i\n",
    "    return result    "
   ]
  },
  {
   "cell_type": "code",
   "execution_count": 36,
   "metadata": {},
   "outputs": [],
   "source": [
    "#sum 함수 활용 -> sum함수가 제일 빠르다.\n",
    "@count_time\n",
    "def test2(num1,num2):\n",
    "    \n",
    "    data = range(num1,num2+1)\n",
    "    return sum(data)"
   ]
  },
  {
   "cell_type": "code",
   "execution_count": 37,
   "metadata": {},
   "outputs": [],
   "source": [
    "from functools import reduce\n",
    "#reduce 활용\n",
    "@count_time\n",
    "def test3(num1,num2):\n",
    "    \n",
    "    result = reduce(lambda x,y:x+y,range(num1,num2+1))\n",
    "    return result"
   ]
  },
  {
   "cell_type": "markdown",
   "metadata": {},
   "source": [
    "### 2. 데코레이터 복습_패스워드 체크"
   ]
  },
  {
   "cell_type": "code",
   "execution_count": 9,
   "metadata": {},
   "outputs": [],
   "source": [
    "# 데코레이터 복습\n",
    "# 문제 : 패스워드가 맞아야 함수가 실행되도록 하는 데코레이터 작성"
   ]
  },
  {
   "cell_type": "code",
   "execution_count": 10,
   "metadata": {},
   "outputs": [],
   "source": [
    "data = {'test':'1234','python':'5678'}\n",
    "\n",
    "def check_pw(func):\n",
    "    def wrapper(*args,**kwargs):\n",
    "        \n",
    "        user_id = input('아이디를 입력하세요 :')\n",
    "        user_pw = input(\"비밀번호를 입력하세요 : \")\n",
    "        if user_id in data:\n",
    "            if user_pw in data[user_id]:\n",
    "                return func(*args,**kwargs)\n",
    "            \n",
    "        return '잘못 입력하셨습니다.'\n",
    "    return wrapper"
   ]
  },
  {
   "cell_type": "code",
   "execution_count": 11,
   "metadata": {},
   "outputs": [],
   "source": [
    "@check_pw\n",
    "def plus(a,b):\n",
    "    return a+b"
   ]
  },
  {
   "cell_type": "markdown",
   "metadata": {},
   "source": [
    "### 3. 데코레이터 복습_패스워드 체크 + 로그인 횟수 출력"
   ]
  },
  {
   "cell_type": "code",
   "execution_count": 12,
   "metadata": {},
   "outputs": [],
   "source": [
    "# user data 를 입력 받아서 아이디와 패스워드를 체크하는 데코레이터 함수를 코드로 작성하세요.\n",
    "# 로그인 될때마다 count를 1씩 증가\n",
    "def need_login(func):\n",
    "    def wrapper(*args, **kwargs):\n",
    "        # 아이디 패스워드 입력\n",
    "        user, pw = tuple(input(\"insert user pw : \").split(\" \"))\n",
    "        \n",
    "        # 존재하는 아이디, 패스워드 확인\n",
    "        # for idx, user_data in zip(range(len(user_datas)), user_datas):\n",
    "        for idx, user_data in enumerate(user_datas):\n",
    "            \n",
    "            if (user_data[\"user\"] == user) and (user_data[\"pw\"] == pw):\n",
    "                \n",
    "                # count 데이터 추가 \n",
    "                user_datas[idx][\"count\"] += 1\n",
    "                \n",
    "                # 함수 실행\n",
    "                return func(*args, **kwargs)\n",
    "            \n",
    "        return \"wrong login data!\"\n",
    "    return wrapper"
   ]
  },
  {
   "cell_type": "code",
   "execution_count": 13,
   "metadata": {},
   "outputs": [
    {
     "name": "stdout",
     "output_type": "stream",
     "text": [
      "아이디를 입력하세요 :test 1234\n",
      "비밀번호를 입력하세요 : 1234\n"
     ]
    },
    {
     "data": {
      "text/plain": [
       "'잘못 입력하셨습니다.'"
      ]
     },
     "execution_count": 13,
     "metadata": {},
     "output_type": "execute_result"
    }
   ],
   "source": [
    "plus(1,2)"
   ]
  },
  {
   "cell_type": "markdown",
   "metadata": {},
   "source": [
    "# Class _ 설계"
   ]
  },
  {
   "cell_type": "markdown",
   "metadata": {},
   "source": [
    "### 클래스 생성 = 새로운 데이터 타입 생성\n",
    "### 클래스 생성 후, 소속 객체로 num, print(num), num1 + num2 등을 해주려면, 메소드로 \n",
    "\n",
    "```\n",
    "__repr__(self):\n",
    "__str__(self):\n",
    "__add__(self,unit):\n",
    "    return self.num + unit.num\n",
    "```\n",
    "\n",
    "### 해줘야 함"
   ]
  },
  {
   "cell_type": "markdown",
   "metadata": {},
   "source": [
    "### 1. 클래스 복습_마린 클래스 설계"
   ]
  },
  {
   "cell_type": "code",
   "execution_count": 42,
   "metadata": {},
   "outputs": [],
   "source": [
    "# 스타크래프트의 마린을 클래스로 설계\n",
    "# 체력(health : 40), 공격력(attack_pow : 5), 공격(attack())\n",
    "# 마린 클래스로 마린 객체 2개를 생성해서 마린 1이 마린 2를 공격하는 코드를 작성\n",
    "# attack(self, unit)\n",
    "# 체력이 0인 경우 \"사망\"을 출력하고 체력이 (-)가 되지 않도록 코드를 작성\n",
    "\n",
    "# 메딕 만들기 (heal_pow : 6), heal()"
   ]
  },
  {
   "cell_type": "code",
   "execution_count": 43,
   "metadata": {},
   "outputs": [],
   "source": [
    "class Marine:\n",
    "    \n",
    "    def __init__(self, max_health=40, attack_pow=5):\n",
    "        self.health = max_health\n",
    "        self.max_health = max_health\n",
    "        self.attack_pow = attack_pow\n",
    "    \n",
    "    def attack(self, unit):\n",
    "        unit.health -= self.attack_pow\n",
    "        if unit.health <= 0:\n",
    "            unit.health = 0\n",
    "            print(\"사망\")\n",
    "        return unit.health"
   ]
  },
  {
   "cell_type": "code",
   "execution_count": 44,
   "metadata": {},
   "outputs": [],
   "source": [
    "marine_1 = Marine()"
   ]
  },
  {
   "cell_type": "code",
   "execution_count": 45,
   "metadata": {},
   "outputs": [],
   "source": [
    "marine_2 = Marine()"
   ]
  },
  {
   "cell_type": "code",
   "execution_count": 46,
   "metadata": {},
   "outputs": [],
   "source": [
    "marine_2_h = marine_1.attack(marine_2) # 여러번 공격하면 marine_2의 체력이 계속 감소"
   ]
  },
  {
   "cell_type": "code",
   "execution_count": 47,
   "metadata": {
    "scrolled": true
   },
   "outputs": [
    {
     "data": {
      "text/plain": [
       "(40, 35)"
      ]
     },
     "execution_count": 47,
     "metadata": {},
     "output_type": "execute_result"
    }
   ],
   "source": [
    "marine_1.health, marine_2.health # 40, 35"
   ]
  },
  {
   "cell_type": "code",
   "execution_count": 48,
   "metadata": {
    "scrolled": true
   },
   "outputs": [
    {
     "data": {
      "text/plain": [
       "(40, 5)"
      ]
     },
     "execution_count": 48,
     "metadata": {},
     "output_type": "execute_result"
    }
   ],
   "source": [
    "marine_1.health, marine_1.attack_pow"
   ]
  },
  {
   "cell_type": "markdown",
   "metadata": {},
   "source": [
    "### 2. 계좌 class 설계\n",
    "\n",
    "- 08. module, package 수업자료 참고"
   ]
  },
  {
   "cell_type": "markdown",
   "metadata": {},
   "source": [
    "# Module _ 생성"
   ]
  },
  {
   "cell_type": "markdown",
   "metadata": {},
   "source": [
    "### 1. 모듈 생성 -> 해당 모듈의 객체 생성 -> 객체를 통해 모듈 속 함수, 변수 활용"
   ]
  },
  {
   "cell_type": "code",
   "execution_count": 49,
   "metadata": {},
   "outputs": [],
   "source": [
    "# 모듈.함수(--)  -> 모듈 내 직속 함수 있을 때\n",
    "# 모듈.클래스.함수(--)  -> 모듈 내 클래스 속 함수 사용 시\n",
    "# 모듈.변수     -> 모듈 내 직속 변수 있을 때"
   ]
  },
  {
   "cell_type": "markdown",
   "metadata": {},
   "source": [
    "- 1) testn 이라는 모듈(파일) 작성 -> 생성\n",
    "    - *직속 변수, 직속 함수, 클래스(변수, 함수 포함)  ///  함수-> *args를 파라미터로 작성해보기\n",
    "- 2) 파일 리스트 확인, 변수 클리어 뒤 모듈 생성 확인 (%ls, %whos)\n",
    "- 3) 객체 생성\n",
    "- 4) 객체.변수 / 객체.함수 / 객체.클래스.변수 / 객체.클래스.함수 찍어보기"
   ]
  },
  {
   "cell_type": "markdown",
   "metadata": {},
   "source": [
    "### 2. 패키지 생성"
   ]
  },
  {
   "cell_type": "markdown",
   "metadata": {},
   "source": [
    "pack1 -> pack2 -> module_1(모듈) 생성\n",
    "\n",
    "- 1) 디렉토리 생성\n",
    "- 2) !tree pack1 로 확인\n",
    "- 3) 모듈 생성\n",
    "- 4) 모듈 호출\n",
    "- 5) 모듈 약어로 축약\n",
    "- 6) 모듈.변수 / 모듈.함수 / 모듈.클래스.변수 / 모듈.클래스.함수  출력해보기"
   ]
  },
  {
   "cell_type": "code",
   "execution_count": null,
   "metadata": {},
   "outputs": [],
   "source": []
  },
  {
   "cell_type": "code",
   "execution_count": null,
   "metadata": {},
   "outputs": [],
   "source": []
  },
  {
   "cell_type": "markdown",
   "metadata": {
    "colab_type": "text",
    "id": "I9POIj2PT_NW"
   },
   "source": [
    "# map, filter, reduce\n",
    "- 아래의 코드들이 모두 동작되도록 `# TODO`가 있는 셀에 함수를 작성하세요."
   ]
  },
  {
   "cell_type": "markdown",
   "metadata": {
    "colab_type": "text",
    "id": "ZWf1hXZaT_NX"
   },
   "source": [
    "##### Quiz 1\n",
    "- map 함수를 map_func 함수의 이름으로 구현하세요.\n",
    "- 리스트의 데이터를 아래의 예제와 같이 더하는 함수를 만드는데 따로 함수를 선언해서 사용하지 말고 map의 첫번째 파라미터에 lambda 함수로 구현하세요.\n",
    "\n",
    "```\n",
    "ls1 = [1,2,3,4]\n",
    "ls2 = [5,6,7]\n",
    "ls3 = [9,10,11,12]\n",
    "\n",
    "result = [15, 18, 21]\n",
    "```"
   ]
  },
  {
   "cell_type": "code",
   "execution_count": 0,
   "metadata": {
    "colab": {},
    "colab_type": "code",
    "id": "KX368qnHT_NZ"
   },
   "outputs": [],
   "source": [
    "ls1 = [1,2,3,4]\n",
    "ls2 = [5,6,7]\n",
    "ls3 = [9,10,11,12]"
   ]
  },
  {
   "cell_type": "code",
   "execution_count": 0,
   "metadata": {
    "colab": {},
    "colab_type": "code",
    "id": "kLfT4PN2T_Nc",
    "outputId": "9dde9ec3-45f6-40b8-dca7-62d99b296eed"
   },
   "outputs": [
    {
     "data": {
      "text/plain": [
       "[15, 18, 21]"
      ]
     },
     "execution_count": 2,
     "metadata": {
      "tags": []
     },
     "output_type": "execute_result"
    }
   ],
   "source": [
    "# map 함수 사용\n",
    "list(map(lambda *args : sum(args), ls1, ls2, ls3))"
   ]
  },
  {
   "cell_type": "code",
   "execution_count": 0,
   "metadata": {
    "colab": {},
    "colab_type": "code",
    "id": "rTA_b0HIT_Nn"
   },
   "outputs": [],
   "source": [
    "# TODO\n",
    "# map_func 이름으로 map 함수를 구현하세요.\n"
   ]
  },
  {
   "cell_type": "code",
   "execution_count": 0,
   "metadata": {
    "colab": {},
    "colab_type": "code",
    "id": "1hOKOy0VT_Nq",
    "outputId": "be3df387-32dd-49dd-c1e5-7cf9c9fb943a"
   },
   "outputs": [
    {
     "data": {
      "text/plain": [
       "[15, 18, 21]"
      ]
     },
     "execution_count": 4,
     "metadata": {
      "tags": []
     },
     "output_type": "execute_result"
    }
   ],
   "source": [
    "# map_func 함수 사용\n",
    "map_func(lambda *args : sum(args), ls1, ls2, ls3)"
   ]
  },
  {
   "cell_type": "markdown",
   "metadata": {
    "colab_type": "text",
    "id": "tSjZBPRGT_Nt"
   },
   "source": [
    "### Quiz 2\n",
    "- filter 함수를 구현하여 1~10까지 숫자에서 홀수만 출력하는 코드를 작성하세요\n",
    "```\n",
    "ls = range(1, 11)\n",
    "result = [1, 3, 5, 7, 9]\n",
    "```"
   ]
  },
  {
   "cell_type": "code",
   "execution_count": 0,
   "metadata": {
    "colab": {},
    "colab_type": "code",
    "id": "P0QsmCZWT_Nu"
   },
   "outputs": [],
   "source": [
    "ls = range(1, 11)"
   ]
  },
  {
   "cell_type": "code",
   "execution_count": 0,
   "metadata": {
    "colab": {},
    "colab_type": "code",
    "id": "lhEYKPfxT_N0",
    "outputId": "8fafd155-5c25-4ec8-9f6f-101e56ff57a0"
   },
   "outputs": [
    {
     "data": {
      "text/plain": [
       "[1, 3, 5, 7, 9]"
      ]
     },
     "execution_count": 6,
     "metadata": {
      "tags": []
     },
     "output_type": "execute_result"
    }
   ],
   "source": [
    "# filter 함수 사용\n",
    "list(filter(lambda number: number % 2, ls))"
   ]
  },
  {
   "cell_type": "code",
   "execution_count": 0,
   "metadata": {
    "colab": {},
    "colab_type": "code",
    "id": "G3W1jj5yT_N2"
   },
   "outputs": [],
   "source": [
    "# TODO\n",
    "# filter_func 이름으로 filter 함수를 구현하세요.\n"
   ]
  },
  {
   "cell_type": "code",
   "execution_count": 0,
   "metadata": {
    "colab": {},
    "colab_type": "code",
    "id": "_MN305e2T_N7",
    "outputId": "a6113c79-2c4a-4336-a9bb-9c07bca9bfcd"
   },
   "outputs": [
    {
     "data": {
      "text/plain": [
       "[1, 3, 5, 7, 9]"
      ]
     },
     "execution_count": 8,
     "metadata": {
      "tags": []
     },
     "output_type": "execute_result"
    }
   ],
   "source": [
    "# filter_func 함수 사용\n",
    "filter_func(lambda number: number % 2, ls)"
   ]
  },
  {
   "cell_type": "markdown",
   "metadata": {
    "colab_type": "text",
    "id": "R-IGYC8hT_N9"
   },
   "source": [
    "### Quiz3\n",
    "- reduce 함수를 구현\n",
    "\n",
    "```\n",
    "ls = [1, 2, 3, 4, 5]\n",
    "def reduce_func():\n",
    "    #TODO\n",
    "    \n",
    "reduce_func(lambda num1, num2: num1 + num2, ls)\n",
    "result => 15\n",
    "```\n",
    "\n",
    "- 힌트\n",
    "\n",
    "```\n",
    "ls = [1, 2, 3]\n",
    "del ls[0]\n",
    "ls => [2, 3]\n",
    "```"
   ]
  },
  {
   "cell_type": "code",
   "execution_count": 0,
   "metadata": {
    "colab": {},
    "colab_type": "code",
    "id": "8kQoBkmBT_N-"
   },
   "outputs": [],
   "source": [
    "from functools import reduce"
   ]
  },
  {
   "cell_type": "code",
   "execution_count": 0,
   "metadata": {
    "colab": {},
    "colab_type": "code",
    "id": "gieVEw4xT_OB"
   },
   "outputs": [],
   "source": [
    "ls = [1, 2, 3, 4, 5]"
   ]
  },
  {
   "cell_type": "code",
   "execution_count": 0,
   "metadata": {
    "colab": {},
    "colab_type": "code",
    "id": "tqC-J-g_T_OE",
    "outputId": "d6e20528-4700-47ae-f54e-928e19ed0fe3"
   },
   "outputs": [
    {
     "data": {
      "text/plain": [
       "15"
      ]
     },
     "execution_count": 11,
     "metadata": {
      "tags": []
     },
     "output_type": "execute_result"
    }
   ],
   "source": [
    "# reduce 함수 사용\n",
    "reduce(lambda num1, num2: num1 + num2, ls)"
   ]
  },
  {
   "cell_type": "code",
   "execution_count": 0,
   "metadata": {
    "colab": {},
    "colab_type": "code",
    "id": "sxF0rdaAT_OH"
   },
   "outputs": [],
   "source": [
    "# TODO\n",
    "# reduce_func 이름으로 reduce 함수를 구현하세요.\n"
   ]
  },
  {
   "cell_type": "code",
   "execution_count": 0,
   "metadata": {
    "colab": {},
    "colab_type": "code",
    "id": "Fc7e6M6CT_OJ",
    "outputId": "b9c4b9b6-0167-43cf-8882-8a3b5dbcc9a2"
   },
   "outputs": [
    {
     "data": {
      "text/plain": [
       "15"
      ]
     },
     "execution_count": 13,
     "metadata": {
      "tags": []
     },
     "output_type": "execute_result"
    }
   ],
   "source": [
    "# reduce_func 함수 사용\n",
    "reduce_func(lambda num1, num2: num1 + num2, ls)"
   ]
  },
  {
   "cell_type": "code",
   "execution_count": null,
   "metadata": {},
   "outputs": [],
   "source": []
  },
  {
   "cell_type": "markdown",
   "metadata": {},
   "source": [
    "# Numpy 관련"
   ]
  },
  {
   "cell_type": "markdown",
   "metadata": {},
   "source": [
    "### Quiz 1\n",
    "\n",
    "- 100 ~ 130까지 랜덤한 숫자를 가지는 8*8행렬을 만들고,\n",
    "- 3의 배수는 fiz, 5의 배수는 buz, 3과 5의 배수는 fbz 문자로 변환\n",
    "- 위의 조건에 맞지 않는 데이터는 랜덤하게 생성된 정수로 출력\n",
    "- 랜덤한 행렬 데이터\n",
    "\n",
    "```\n",
    "datas = np.random.randint(100, 130, size=(8, 8))\n",
    "```\n"
   ]
  },
  {
   "cell_type": "markdown",
   "metadata": {},
   "source": [
    "[작업단위 처리순서]\n",
    "- 1. 랜덤 행열 생성\n",
    "- 2. 3배수 / 5배수 / 15배수의 True,False 행렬 저장\n",
    "- 3. arr2의 형변환( .astype(str) )\n",
    "- 4. arr2[True인 idx set] = 'fiz' 등으로 각각 문자열 넣기 <---- **브로드캐스팅** ! "
   ]
  },
  {
   "cell_type": "code",
   "execution_count": 2,
   "metadata": {},
   "outputs": [],
   "source": [
    "import numpy as np\n",
    "\n",
    "# 1.\n",
    "arr = np.random.randint(100,130,size=(8,8))\n",
    "arr2 = arr.copy()\n",
    "arr2\n",
    "\n",
    "np.random.randint\n",
    "\n",
    "# 2.\n",
    "idx_3 = arr2%3==0\n",
    "idx_5 = arr2%5==0\n",
    "idx_15 = arr2%15==0\n",
    "\n",
    "# 3. 형변환\n",
    "arr3 = arr2.astype(str)\n",
    "\n",
    "# 4. 문자 넣어주기\n",
    "arr3[idx_3] = 'fiz'\n",
    "arr3[idx_5] = 'buz'\n",
    "arr3[idx_15] = 'fbz'\n",
    "\n",
    "#arr3"
   ]
  },
  {
   "cell_type": "markdown",
   "metadata": {},
   "source": [
    "### Quiz 2\n",
    "\n",
    "- 1 ~ 20까지 랜덤한 숫자를 가지는 5*5행렬을 만들고,\n",
    "- 최대값에는 'max', 최소값에는 'min' 문자열이 들어가도록 코드 작성"
   ]
  },
  {
   "cell_type": "markdown",
   "metadata": {},
   "source": [
    "[처리순서]\n",
    "- 1. 랜덤 배열 생성 -> 값복사 배열 생성\n",
    "- 2. 최대값, 최소값 인덱스 저장\n",
    "- 3. 문자열 치환\n",
    "- 4. 최대, 최소 문자열로 치환"
   ]
  },
  {
   "cell_type": "code",
   "execution_count": 13,
   "metadata": {},
   "outputs": [],
   "source": [
    "arr = np.random.randint(1,20,(5,5))\n",
    "arr2 = arr.copy()"
   ]
  },
  {
   "cell_type": "code",
   "execution_count": 14,
   "metadata": {},
   "outputs": [],
   "source": [
    "idx_max = arr2 == arr2.max()\n",
    "idx_min = arr2 == arr2.min()"
   ]
  },
  {
   "cell_type": "code",
   "execution_count": 16,
   "metadata": {},
   "outputs": [],
   "source": [
    "arr3 = arr2.astype(str)"
   ]
  },
  {
   "cell_type": "code",
   "execution_count": 18,
   "metadata": {},
   "outputs": [],
   "source": [
    "arr3[idx_max] = 'max'\n",
    "arr3[idx_min] = 'min'\n",
    "# arr3"
   ]
  },
  {
   "cell_type": "markdown",
   "metadata": {},
   "source": [
    "### Quiz 3"
   ]
  },
  {
   "cell_type": "code",
   "execution_count": 50,
   "metadata": {},
   "outputs": [],
   "source": [
    "arr = np.random.randint(1,100,9).reshape(3,3)"
   ]
  },
  {
   "cell_type": "code",
   "execution_count": 52,
   "metadata": {},
   "outputs": [],
   "source": [
    "idx = arr>80"
   ]
  },
  {
   "cell_type": "code",
   "execution_count": 54,
   "metadata": {},
   "outputs": [],
   "source": [
    "# 위의 idx는 어떠한 요소들로 값이 채워질까?"
   ]
  },
  {
   "cell_type": "markdown",
   "metadata": {},
   "source": [
    "### Quiz 4"
   ]
  },
  {
   "cell_type": "code",
   "execution_count": 43,
   "metadata": {},
   "outputs": [],
   "source": [
    "# 30세에 연봉이 $100000 이고 60세의 연봉이 $1000000 일때\n",
    "# 연봉이 선형으로 증가, 지수함수로 증가하는 두 경우에서의 40세, 50세 연봉을 출력"
   ]
  },
  {
   "cell_type": "code",
   "execution_count": 44,
   "metadata": {},
   "outputs": [],
   "source": [
    "age_30 = 100000\n",
    "age_60 = 1000000"
   ]
  },
  {
   "cell_type": "markdown",
   "metadata": {},
   "source": [
    "### Quiz 5"
   ]
  },
  {
   "cell_type": "markdown",
   "metadata": {},
   "source": [
    "#### 행렬 데이터 결합\n",
    "- 1) a x b\n",
    "- 2) a x c\n",
    "- 3) d x c\n",
    "\n",
    "- 세로 결합 : 위 아래로 붙여주는 것. m x n 이라면, n이 같은 행렬끼리 세로 결합이 가능\n",
    "- 가로 결합 : 옆으로 붙여주는 것. m x n 이라면, m이 같은 행렬끼리 가로 결합이 가능"
   ]
  },
  {
   "cell_type": "code",
   "execution_count": 56,
   "metadata": {},
   "outputs": [],
   "source": [
    "arr1 = np.random.randint(1,10,(3,3))\n",
    "arr2 = np.random.randint(1,10,(2,3))\n",
    "arr3 = np.random.randint(1,10,(3,2))"
   ]
  },
  {
   "cell_type": "code",
   "execution_count": 57,
   "metadata": {},
   "outputs": [],
   "source": [
    "# 가로 결합"
   ]
  },
  {
   "cell_type": "code",
   "execution_count": 58,
   "metadata": {},
   "outputs": [],
   "source": [
    "# 세로 결합"
   ]
  },
  {
   "cell_type": "markdown",
   "metadata": {},
   "source": [
    "# Pandas 관련"
   ]
  },
  {
   "cell_type": "code",
   "execution_count": 61,
   "metadata": {},
   "outputs": [],
   "source": [
    "import numpy as np\n",
    "import pandas as pd"
   ]
  },
  {
   "cell_type": "markdown",
   "metadata": {},
   "source": [
    "### 1. 시리즈 클래스 관련"
   ]
  },
  {
   "cell_type": "code",
   "execution_count": 1,
   "metadata": {},
   "outputs": [],
   "source": [
    "#1 시리즈 생성\n",
    "#size 10의 시리즈를 만들어봐라\n",
    "#index는 ABCDEFGHIJ 로 설정해라\n",
    "#size 10의 시리즈 생성(난수로 채워라)"
   ]
  },
  {
   "cell_type": "code",
   "execution_count": 96,
   "metadata": {},
   "outputs": [],
   "source": [
    "#2 시리즈 다루기\n",
    "#시리즈의 인덱스, 밸류들을 각각 출력해봐라\n",
    "#또한, 시리즈의 마스킹을 실시하라"
   ]
  },
  {
   "cell_type": "code",
   "execution_count": 97,
   "metadata": {},
   "outputs": [],
   "source": [
    "#3 시리즈도 넘파이 영향으로 브로드캐스팅... 직접 해봐라"
   ]
  },
  {
   "cell_type": "code",
   "execution_count": 2,
   "metadata": {},
   "outputs": [],
   "source": [
    "#4 시리즈 생성 : 직접 숫자 넣기\n",
    "# **zip이용해 데이터셋 만든 후 넣어보기!**"
   ]
  },
  {
   "cell_type": "code",
   "execution_count": 99,
   "metadata": {},
   "outputs": [],
   "source": [
    "#5 생성한 2개의 시리즈를 더해줘라 -> 더할 때의 특징은?"
   ]
  },
  {
   "cell_type": "code",
   "execution_count": 100,
   "metadata": {},
   "outputs": [],
   "source": [
    "#6 null값 채워줘라"
   ]
  },
  {
   "cell_type": "markdown",
   "metadata": {},
   "source": [
    "### 2. DataFrame 클래스 관련"
   ]
  },
  {
   "cell_type": "code",
   "execution_count": 101,
   "metadata": {},
   "outputs": [],
   "source": [
    "#1 데프 생성 - 1. 딕셔너리의 리스트"
   ]
  },
  {
   "cell_type": "code",
   "execution_count": 137,
   "metadata": {},
   "outputs": [],
   "source": [
    "#1 데프 생성 - 2. 리스트의 딕셔너리"
   ]
  },
  {
   "cell_type": "code",
   "execution_count": 139,
   "metadata": {},
   "outputs": [],
   "source": [
    "#2 데프 다루기\n",
    "#데프의 인덱스, 밸류, 마스킹(loc, 컬럼선택은 보통처럼) 실시"
   ]
  },
  {
   "cell_type": "code",
   "execution_count": 159,
   "metadata": {},
   "outputs": [],
   "source": [
    "#3 데프 확장 1. row 추가 (1 row만 추가)"
   ]
  },
  {
   "cell_type": "code",
   "execution_count": 163,
   "metadata": {},
   "outputs": [],
   "source": [
    "#3 데프 확장 2. column 추가 (1 col만 추가)"
   ]
  },
  {
   "cell_type": "code",
   "execution_count": 168,
   "metadata": {},
   "outputs": [],
   "source": [
    "#4 row, column 을 동시에 선택해봐라"
   ]
  },
  {
   "cell_type": "markdown",
   "metadata": {},
   "source": [
    "### 3. DataFrame 관련 함수들"
   ]
  },
  {
   "cell_type": "code",
   "execution_count": 3,
   "metadata": {},
   "outputs": [],
   "source": [
    "#1. apply 함수 <- map과 유사. email데이터에서 domain만 저장 후 새로운 컬럼으로 추가\n",
    "#1) domain 정보만 빼내는 함수 만들기\n",
    "#2) 이 domain함수를 apply함수에 인풋!\n",
    "\n",
    "\n",
    "# 틀림! 1) domain 함수 만들기 못함\n",
    "# 틀림! 2) domain 함수를 apply함수에 적용시켜서 df 변환시키는 과정 작성 못함\n",
    "\n",
    "# apply함수는 자체적으로 for문 기능이 있는 듯. \n",
    "# df['email'].apply(func) 하면, func을 'email'컬럼의 데이터 하나하나에 반복적으로 대입시켜주는 듯!(func자체는 반복문 없이 작성)"
   ]
  },
  {
   "cell_type": "code",
   "execution_count": 186,
   "metadata": {},
   "outputs": [
    {
     "name": "stdout",
     "output_type": "stream",
     "text": [
      "Overwriting makedata.py\n"
     ]
    }
   ],
   "source": [
    "%%writefile makedata.py\n",
    "\n",
    "\n",
    "# 사람의 이름과 나이가 들어간 데이터를 만듭니다.\n",
    "import random\n",
    "import numpy as np\n",
    "\n",
    "# 랜덤한 이름 출력하는 함수\n",
    "def get_name():\n",
    "    names = [\"Adam\", \"Alan\", \"Alex\", \"Alvin\", \"Andrew\",\n",
    "             \"Anthony\", \"Arnold\", \"Jin\", \"Billy\", \"Anchal\"]\n",
    "    return random.choice(names)\n",
    "\n",
    "# 랜덤한 나이 출력\n",
    "def get_age(start=20, end=40):\n",
    "    return np.random.randint(start, end + 1)\n",
    "\n",
    "# 랜덤하게 나이와 이름을 출력\n",
    "def make_data(rows=10):\n",
    "    datas = []\n",
    "    for _ in range(rows):\n",
    "        data = {\"Age\": get_age(), \"Name\": get_name()}\n",
    "        datas.append(data)\n",
    "    return datas"
   ]
  },
  {
   "cell_type": "code",
   "execution_count": 189,
   "metadata": {},
   "outputs": [],
   "source": [
    "#2. append <- 데프 합치기, 데이터를 밑에다가 추가로 붙일 때 활용\n",
    "#1) 같은 컬럼의 데프 2개 생성\n",
    "#2) 2 데프를 합쳐라"
   ]
  },
  {
   "cell_type": "code",
   "execution_count": 190,
   "metadata": {},
   "outputs": [],
   "source": [
    "#3. reset_index <- 합친 후, 인덱스 재정렬\n",
    "#index 2줄 생긴 것 1줄로 정리 + 인덱스 리셋 결과 저장"
   ]
  },
  {
   "cell_type": "code",
   "execution_count": 191,
   "metadata": {},
   "outputs": [],
   "source": [
    "#4. concat <- 세로 / <->가로(axis=1) 방향으로 합치기\n",
    "#가로로 합치면, index길이가 다른 데프끼리 합치면, NaN값 뜸 <- 정리해주기!"
   ]
  },
  {
   "cell_type": "code",
   "execution_count": 192,
   "metadata": {},
   "outputs": [],
   "source": [
    "#5. groupby <- 특정 컬럼의 중복되는 데이터를 합쳐서 새로운 데프 생성\n",
    "#1) 특정 컬럼에서 얼마나 중복되었는지 확인 <- size함수\n",
    "#2) 데프 형식으로 저장\n",
    "#3) 정렬"
   ]
  },
  {
   "cell_type": "markdown",
   "metadata": {
    "colab_type": "text",
    "id": "2MSfiIWrrgTL"
   },
   "source": [
    "#### quiz\n",
    "- makedata 모듈을 이용해서 데이터 프레임 만들기\n",
    "- user_df\n",
    "    - 8명의 데이터가 있는 데이터 프레임을 만드세요.\n",
    "    - UserID : 1 ~ 8\n",
    "    - Name : makedata.get_name()\n",
    "    - Age  : makedata.get_age()\n",
    "    - 중복되는 Name 값이 없도록"
   ]
  },
  {
   "cell_type": "code",
   "execution_count": 10,
   "metadata": {},
   "outputs": [],
   "source": [
    "import makedata\n",
    "import pandas as pd\n",
    "import numpy as np"
   ]
  },
  {
   "cell_type": "code",
   "execution_count": 15,
   "metadata": {},
   "outputs": [
    {
     "data": {
      "text/html": [
       "<div>\n",
       "<style scoped>\n",
       "    .dataframe tbody tr th:only-of-type {\n",
       "        vertical-align: middle;\n",
       "    }\n",
       "\n",
       "    .dataframe tbody tr th {\n",
       "        vertical-align: top;\n",
       "    }\n",
       "\n",
       "    .dataframe thead th {\n",
       "        text-align: right;\n",
       "    }\n",
       "</style>\n",
       "<table border=\"1\" class=\"dataframe\">\n",
       "  <thead>\n",
       "    <tr style=\"text-align: right;\">\n",
       "      <th></th>\n",
       "      <th>user_id</th>\n",
       "      <th>user_age</th>\n",
       "      <th>user_name</th>\n",
       "    </tr>\n",
       "  </thead>\n",
       "  <tbody>\n",
       "    <tr>\n",
       "      <td>1</td>\n",
       "      <td>1</td>\n",
       "      <td>34</td>\n",
       "      <td>Anthony</td>\n",
       "    </tr>\n",
       "    <tr>\n",
       "      <td>2</td>\n",
       "      <td>2</td>\n",
       "      <td>32</td>\n",
       "      <td>Alan</td>\n",
       "    </tr>\n",
       "    <tr>\n",
       "      <td>3</td>\n",
       "      <td>3</td>\n",
       "      <td>36</td>\n",
       "      <td>Jin</td>\n",
       "    </tr>\n",
       "    <tr>\n",
       "      <td>4</td>\n",
       "      <td>4</td>\n",
       "      <td>30</td>\n",
       "      <td>Andrew</td>\n",
       "    </tr>\n",
       "    <tr>\n",
       "      <td>5</td>\n",
       "      <td>5</td>\n",
       "      <td>36</td>\n",
       "      <td>Anchal</td>\n",
       "    </tr>\n",
       "    <tr>\n",
       "      <td>6</td>\n",
       "      <td>6</td>\n",
       "      <td>38</td>\n",
       "      <td>Adam</td>\n",
       "    </tr>\n",
       "    <tr>\n",
       "      <td>7</td>\n",
       "      <td>7</td>\n",
       "      <td>24</td>\n",
       "      <td>Billy</td>\n",
       "    </tr>\n",
       "    <tr>\n",
       "      <td>8</td>\n",
       "      <td>8</td>\n",
       "      <td>39</td>\n",
       "      <td>Alvin</td>\n",
       "    </tr>\n",
       "  </tbody>\n",
       "</table>\n",
       "</div>"
      ],
      "text/plain": [
       "   user_id  user_age user_name\n",
       "1        1        34   Anthony\n",
       "2        2        32      Alan\n",
       "3        3        36       Jin\n",
       "4        4        30    Andrew\n",
       "5        5        36    Anchal\n",
       "6        6        38      Adam\n",
       "7        7        24     Billy\n",
       "8        8        39     Alvin"
      ]
     },
     "execution_count": 15,
     "metadata": {},
     "output_type": "execute_result"
    }
   ],
   "source": [
    "# 딕셔너리의 리스트\n",
    "# 딕셔너리의 리스트 -> 열 단위 채우기\n",
    "data_dic = {}\n",
    "\n",
    "user_id = range(1,9)\n",
    "user_age = [makedata.get_age() for _ in range(8)]\n",
    "user_name = []\n",
    "\n",
    "while len(user_name)<8:\n",
    "    name_random = makedata.get_name()\n",
    "    if name_random not in user_name:\n",
    "        user_name.append(name_random)\n",
    "        \n",
    "data_dic['user_id'] = list(user_id)\n",
    "data_dic['user_age'] = user_age\n",
    "data_dic['user_name'] = user_name\n",
    "\n",
    "datas_dic = pd.DataFrame(data_dic,index=(range(1,9)))\n",
    "datas_dic"
   ]
  },
  {
   "cell_type": "code",
   "execution_count": 129,
   "metadata": {},
   "outputs": [
    {
     "data": {
      "text/html": [
       "<div>\n",
       "<style scoped>\n",
       "    .dataframe tbody tr th:only-of-type {\n",
       "        vertical-align: middle;\n",
       "    }\n",
       "\n",
       "    .dataframe tbody tr th {\n",
       "        vertical-align: top;\n",
       "    }\n",
       "\n",
       "    .dataframe thead th {\n",
       "        text-align: right;\n",
       "    }\n",
       "</style>\n",
       "<table border=\"1\" class=\"dataframe\">\n",
       "  <thead>\n",
       "    <tr style=\"text-align: right;\">\n",
       "      <th></th>\n",
       "      <th>user_id</th>\n",
       "      <th>user_age</th>\n",
       "      <th>user_name</th>\n",
       "    </tr>\n",
       "  </thead>\n",
       "  <tbody>\n",
       "    <tr>\n",
       "      <td>1</td>\n",
       "      <td>2</td>\n",
       "      <td>28</td>\n",
       "      <td>Andrew</td>\n",
       "    </tr>\n",
       "    <tr>\n",
       "      <td>2</td>\n",
       "      <td>3</td>\n",
       "      <td>34</td>\n",
       "      <td>Alvin</td>\n",
       "    </tr>\n",
       "    <tr>\n",
       "      <td>3</td>\n",
       "      <td>4</td>\n",
       "      <td>29</td>\n",
       "      <td>Alex</td>\n",
       "    </tr>\n",
       "    <tr>\n",
       "      <td>4</td>\n",
       "      <td>5</td>\n",
       "      <td>30</td>\n",
       "      <td>Adam</td>\n",
       "    </tr>\n",
       "    <tr>\n",
       "      <td>5</td>\n",
       "      <td>6</td>\n",
       "      <td>34</td>\n",
       "      <td>Jin</td>\n",
       "    </tr>\n",
       "    <tr>\n",
       "      <td>6</td>\n",
       "      <td>7</td>\n",
       "      <td>28</td>\n",
       "      <td>Anchal</td>\n",
       "    </tr>\n",
       "    <tr>\n",
       "      <td>7</td>\n",
       "      <td>8</td>\n",
       "      <td>37</td>\n",
       "      <td>Anthony</td>\n",
       "    </tr>\n",
       "    <tr>\n",
       "      <td>8</td>\n",
       "      <td>9</td>\n",
       "      <td>37</td>\n",
       "      <td>Alan</td>\n",
       "    </tr>\n",
       "  </tbody>\n",
       "</table>\n",
       "</div>"
      ],
      "text/plain": [
       "  user_id user_age user_name\n",
       "1       2       28    Andrew\n",
       "2       3       34     Alvin\n",
       "3       4       29      Alex\n",
       "4       5       30      Adam\n",
       "5       6       34       Jin\n",
       "6       7       28    Anchal\n",
       "7       8       37   Anthony\n",
       "8       9       37      Alan"
      ]
     },
     "execution_count": 129,
     "metadata": {},
     "output_type": "execute_result"
    }
   ],
   "source": [
    "# 리스트의 딕셔너리\n",
    "# 리스트의 딕셔너리 -> 행 단위 채우기\n",
    "# {'user_id':0,'user_age':38,'user_naem':'A'}\n",
    "\n",
    "# 1) 컬럼만 있는 데이터프레임 생성\n",
    "# 2) row 데이터를 한줄씩 채워주기  # df.loc[ len(데이터) ] -> 데이터가 없으면 첫 행에 채우고, 그 다음 df.loc[1]에 채우고 ... \n",
    "\n",
    "# 1)\n",
    "user_df = pd.DataFrame(columns=['user_id','user_age','user_name'])\n",
    "user_df\n",
    "\n",
    "#2) row 데이터 한줄씩 채워주기\n",
    "datas=[]\n",
    "idx = 0\n",
    "\n",
    "while True:\n",
    "    \n",
    "    name_in = makedata.get_name()\n",
    "    \n",
    "    if name_in not in list(user_df['user_name']):\n",
    "        idx += 1\n",
    "        data = {\n",
    "            'user_id':idx+1,\n",
    "            'user_age':makedata.get_age(),\n",
    "            'user_name':name_in\n",
    "        }\n",
    "        datas.append(data)\n",
    "        user_df.loc[len(datas)]=data\n",
    "        \n",
    "    if idx == 8:\n",
    "        break\n",
    "    \n",
    "user_df"
   ]
  },
  {
   "cell_type": "markdown",
   "metadata": {},
   "source": [
    "#### quiz\n",
    "- money_df 만들기\n",
    "    - 15개의 데이터\n",
    "    - ID : 1 ~ 8 랜덤한 숫자 데이터\n",
    "    - Money : 1000원 단위로 1000원 ~ 20000원까지의 숫자가 저장"
   ]
  },
  {
   "cell_type": "code",
   "execution_count": null,
   "metadata": {},
   "outputs": [],
   "source": [
    "# 딕셔너리 데이터를 데프에 하나씩 추가하기\n",
    "# 행단위로 ! "
   ]
  },
  {
   "cell_type": "code",
   "execution_count": 400,
   "metadata": {
    "scrolled": false
   },
   "outputs": [
    {
     "data": {
      "text/html": [
       "<div>\n",
       "<style scoped>\n",
       "    .dataframe tbody tr th:only-of-type {\n",
       "        vertical-align: middle;\n",
       "    }\n",
       "\n",
       "    .dataframe tbody tr th {\n",
       "        vertical-align: top;\n",
       "    }\n",
       "\n",
       "    .dataframe thead th {\n",
       "        text-align: right;\n",
       "    }\n",
       "</style>\n",
       "<table border=\"1\" class=\"dataframe\">\n",
       "  <thead>\n",
       "    <tr style=\"text-align: right;\">\n",
       "      <th></th>\n",
       "      <th>ID</th>\n",
       "      <th>Money</th>\n",
       "    </tr>\n",
       "  </thead>\n",
       "  <tbody>\n",
       "    <tr>\n",
       "      <td>0</td>\n",
       "      <td>7</td>\n",
       "      <td>19000</td>\n",
       "    </tr>\n",
       "    <tr>\n",
       "      <td>1</td>\n",
       "      <td>7</td>\n",
       "      <td>11000</td>\n",
       "    </tr>\n",
       "    <tr>\n",
       "      <td>2</td>\n",
       "      <td>1</td>\n",
       "      <td>9000</td>\n",
       "    </tr>\n",
       "    <tr>\n",
       "      <td>3</td>\n",
       "      <td>5</td>\n",
       "      <td>4000</td>\n",
       "    </tr>\n",
       "    <tr>\n",
       "      <td>4</td>\n",
       "      <td>3</td>\n",
       "      <td>7000</td>\n",
       "    </tr>\n",
       "    <tr>\n",
       "      <td>5</td>\n",
       "      <td>1</td>\n",
       "      <td>17000</td>\n",
       "    </tr>\n",
       "    <tr>\n",
       "      <td>6</td>\n",
       "      <td>2</td>\n",
       "      <td>4000</td>\n",
       "    </tr>\n",
       "    <tr>\n",
       "      <td>7</td>\n",
       "      <td>6</td>\n",
       "      <td>19000</td>\n",
       "    </tr>\n",
       "    <tr>\n",
       "      <td>8</td>\n",
       "      <td>1</td>\n",
       "      <td>6000</td>\n",
       "    </tr>\n",
       "    <tr>\n",
       "      <td>9</td>\n",
       "      <td>7</td>\n",
       "      <td>10000</td>\n",
       "    </tr>\n",
       "    <tr>\n",
       "      <td>10</td>\n",
       "      <td>3</td>\n",
       "      <td>15000</td>\n",
       "    </tr>\n",
       "    <tr>\n",
       "      <td>11</td>\n",
       "      <td>5</td>\n",
       "      <td>10000</td>\n",
       "    </tr>\n",
       "    <tr>\n",
       "      <td>12</td>\n",
       "      <td>6</td>\n",
       "      <td>9000</td>\n",
       "    </tr>\n",
       "    <tr>\n",
       "      <td>13</td>\n",
       "      <td>3</td>\n",
       "      <td>4000</td>\n",
       "    </tr>\n",
       "    <tr>\n",
       "      <td>14</td>\n",
       "      <td>2</td>\n",
       "      <td>9000</td>\n",
       "    </tr>\n",
       "  </tbody>\n",
       "</table>\n",
       "</div>"
      ],
      "text/plain": [
       "   ID  Money\n",
       "0   7  19000\n",
       "1   7  11000\n",
       "2   1   9000\n",
       "3   5   4000\n",
       "4   3   7000\n",
       "5   1  17000\n",
       "6   2   4000\n",
       "7   6  19000\n",
       "8   1   6000\n",
       "9   7  10000\n",
       "10  3  15000\n",
       "11  5  10000\n",
       "12  6   9000\n",
       "13  3   4000\n",
       "14  2   9000"
      ]
     },
     "execution_count": 400,
     "metadata": {},
     "output_type": "execute_result"
    }
   ],
   "source": [
    "money_df = pd.DataFrame(columns=['ID','Money'])\n",
    "data_vec = []\n",
    "\n",
    "# 1. 데프 생성\n",
    "# 2. 행단위로 추가하기(딕셔너리 생성 -> 쌓기 -> 다 쌓으면 df에 차곡차곡 쌓기))\n",
    "for _ in range(1,16):\n",
    "    data_scalar = {\n",
    "        'ID':np.random.randint(1,9),\n",
    "        'Money':np.random.randint(1,20)*1000,\n",
    "    }\n",
    "    money_df.loc[len(money_df)] = data_scalar\n",
    "    \n",
    "money_df"
   ]
  },
  {
   "cell_type": "code",
   "execution_count": null,
   "metadata": {},
   "outputs": [],
   "source": []
  }
 ],
 "metadata": {
  "colab": {
   "name": "01_quiz.ipynb",
   "provenance": []
  },
  "kernelspec": {
   "display_name": "Python 3",
   "language": "python",
   "name": "python3"
  },
  "language_info": {
   "codemirror_mode": {
    "name": "ipython",
    "version": 3
   },
   "file_extension": ".py",
   "mimetype": "text/x-python",
   "name": "python",
   "nbconvert_exporter": "python",
   "pygments_lexer": "ipython3",
   "version": "3.7.4"
  },
  "license": "Copyright 2019. Doo Jin Park. All rights reserved."
 },
 "nbformat": 4,
 "nbformat_minor": 1
}
