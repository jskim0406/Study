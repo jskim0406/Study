{
 "cells": [
  {
   "cell_type": "code",
   "execution_count": 2,
   "metadata": {},
   "outputs": [
    {
     "name": "stdout",
     "output_type": "stream",
     "text": [
      "[[-3]]\n",
      "[[-8]]\n"
     ]
    }
   ],
   "source": [
    "#3.3\n",
    "import numpy as np\n",
    "\n",
    "x = np.array([[1],[2],[3]])\n",
    "y = np.array([[-1],[-1],[0]])\n",
    "\n",
    "#a\n",
    "a = x.T @ y\n",
    "print(a)\n",
    "\n",
    "#b\n",
    "A = np.array([[2,1,0],[1,3,-1],[0,-1,2]])\n",
    "b = x.T @ A @ y\n",
    "print(b)"
   ]
  },
  {
   "cell_type": "code",
   "execution_count": 3,
   "metadata": {},
   "outputs": [
    {
     "name": "stdout",
     "output_type": "stream",
     "text": [
      "[[-3]]\n",
      "[[-11]]\n"
     ]
    }
   ],
   "source": [
    "#3.4\n",
    "\n",
    "x = np.array([[1],[2]])\n",
    "y = np.array([[-1],[-1]])\n",
    "\n",
    "#a\n",
    "a = x.T @ y\n",
    "print(a)\n",
    "\n",
    "#b\n",
    "A = np.array([[2,1],[1,3]])\n",
    "b = x.T @ A @ y\n",
    "print(b)"
   ]
  },
  {
   "cell_type": "code",
   "execution_count": 36,
   "metadata": {
    "scrolled": true
   },
   "outputs": [
    {
     "name": "stdout",
     "output_type": "stream",
     "text": [
      "[[ 0  1 -3 -1]\n",
      " [-1 -3  4 -3]\n",
      " [ 2  1  1  5]\n",
      " [ 0 -1  2  0]\n",
      " [ 2  2  1  7]]\n",
      "[[-1]\n",
      " [-9]\n",
      " [-1]\n",
      " [ 4]\n",
      " [ 1]]\n",
      "----------\n",
      "[[-7.0625 ]\n",
      " [ 1.25   ]\n",
      " [ 1.15625]\n",
      " [ 1.5    ]]\n",
      "----------\n",
      "[[-3.71875]\n",
      " [ 3.4375 ]\n",
      " [-4.21875]\n",
      " [ 1.0625 ]\n",
      " [ 0.03125]]\n",
      "----------\n",
      "----------\n",
      "[[  2.71875]\n",
      " [-12.4375 ]\n",
      " [  3.21875]\n",
      " [  2.9375 ]\n",
      " [  0.96875]]\n",
      "13.49113568931467\n"
     ]
    },
    {
     "data": {
      "text/plain": [
       "'\\naa = 0\\nfor i in range(0,5):\\n    aa += (x_[i])**2\\naa = aa**0.5\\nprint(aa)\\n'"
      ]
     },
     "execution_count": 36,
     "metadata": {},
     "output_type": "execute_result"
    }
   ],
   "source": [
    "# 3.5\n",
    "\n",
    "B = np.array([[0,1,-3,-1],[-1,-3,4,-3],[2,1,1,5],[0,-1,2,0],[2,2,1,7]])\n",
    "x = np.array([[-1],[-9],[-1],[4],[1]])\n",
    "print(B)\n",
    "print(x)\n",
    "\n",
    "#a\n",
    "'''\n",
    "B'Bλ = B'x\n",
    "'''\n",
    "R = np.linalg.inv(B.T @ B) @ B.T @ x\n",
    "print('----------')\n",
    "print(R)\n",
    "'''\n",
    "π(x) = Bλ\n",
    "'''\n",
    "P = B @ R\n",
    "print('----------')\n",
    "print(P)\n",
    "\n",
    "#b\n",
    "x_ = x - P\n",
    "print('----------')\n",
    "print('----------')\n",
    "print(x_)\n",
    "a = (np.sum(x_**2))**0.5\n",
    "print(a)\n",
    "\n",
    "'''\n",
    "aa = 0\n",
    "for i in range(0,5):\n",
    "    aa += (x_[i])**2\n",
    "aa = aa**0.5\n",
    "print(aa)\n",
    "'''"
   ]
  },
  {
   "cell_type": "code",
   "execution_count": 4,
   "metadata": {},
   "outputs": [
    {
     "name": "stdout",
     "output_type": "stream",
     "text": [
      "[[ 2  0]\n",
      " [ 1 -1]\n",
      " [ 0  2]]\n",
      "[[ 1]\n",
      " [ 2]\n",
      " [-1]]\n",
      "-----------------\n",
      "[[ 1.33333333]\n",
      " [ 1.33333333]\n",
      " [-1.33333333]]\n",
      "----------\n",
      "----------\n",
      "[[-0.33333333]\n",
      " [ 0.66666667]\n",
      " [ 0.33333333]]\n",
      "0.8164965809277259\n"
     ]
    }
   ],
   "source": [
    "#3.6\n",
    "\n",
    "#a\n",
    "import numpy as np\n",
    "\n",
    "B = np.array([[2,0],[1,-1],[0,2]])\n",
    "x = np.array([[1],[2],[-1]])\n",
    "print(B)\n",
    "print(x)\n",
    "\n",
    "pi = B @ np.linalg.inv(B.T @ B) @ B.T @ x\n",
    "print('-----------------')\n",
    "print(pi)\n",
    "\n",
    "#b\n",
    "x_ = x - pi\n",
    "print('----------')\n",
    "print('----------')\n",
    "print(x_)\n",
    "a = (np.sum(x_**2))**0.5\n",
    "print(a)\n",
    "\n"
   ]
  },
  {
   "cell_type": "code",
   "execution_count": 7,
   "metadata": {
    "scrolled": true
   },
   "outputs": [
    {
     "name": "stdout",
     "output_type": "stream",
     "text": [
      "[[1]\n",
      " [1]\n",
      " [1]]\n",
      "[[-1.57735027]\n",
      " [ 1.42264973]\n",
      " [-0.57735027]]\n"
     ]
    }
   ],
   "source": [
    "# 3.8\n",
    "\n",
    "import numpy as np\n",
    "\n",
    "b1 = np.array([[1],[1],[1]])\n",
    "b2 = np.array([[-1],[2],[0]])\n",
    "\n",
    "c1 = b1\n",
    "c2 = b2 - (c1 @ c1.T)*(1/(np.sum(c1**2))**0.5) @ b2\n",
    "\n",
    "print(c1)\n",
    "print(c2)"
   ]
  },
  {
   "cell_type": "code",
   "execution_count": 24,
   "metadata": {
    "scrolled": true
   },
   "outputs": [
    {
     "name": "stdout",
     "output_type": "stream",
     "text": [
      "[[0.08309316]\n",
      " [0.01128449]\n",
      " [0.16071607]\n",
      " [0.05855741]\n",
      " [0.09178868]\n",
      " [0.06194221]\n",
      " [0.10728867]\n",
      " [0.12714294]\n",
      " [0.15831931]\n",
      " [0.13986706]]\n",
      "1.0000000000000002\n",
      "-----------\n",
      "[[0.12085642]]\n",
      "-----------\n",
      "\n",
      "\n",
      "[[0.12085642]] 값이 0.1보다 크거나 같습니다\n",
      "[[12.03468476]\n",
      " [88.61722553]\n",
      " [ 6.22215327]\n",
      " [17.07725834]\n",
      " [10.89458969]\n",
      " [16.14408096]\n",
      " [ 9.32064836]\n",
      " [ 7.8651632 ]\n",
      " [ 6.31634897]\n",
      " [ 7.14964604]]\n",
      "-----------\n",
      "[[0.12085642]] 값이 8보다 크거나 같습니다\n"
     ]
    }
   ],
   "source": [
    "#3.9\n",
    "\n",
    "import numpy as np\n",
    "import random\n",
    "\n",
    "np.random.seed(40)\n",
    "\n",
    "def test1(n): # 합이 1이 되는 n개의 랜덤숫자 생성\n",
    "    a = np.random.rand(n, 1)\n",
    "    aa = a * (1/np.sum(a))\n",
    "    return aa\n",
    "\n",
    "n = 10 # 여기에서 n 결정\n",
    "m = 1/n\n",
    "k = n^2\n",
    "\n",
    "A = test1(n)\n",
    "print(A)\n",
    "print(np.sum(A))\n",
    "print('-----------')\n",
    "\n",
    "# a번\n",
    "A_square = A.T @ A\n",
    "print(A_square)\n",
    "print('-----------')\n",
    "print('\\n')\n",
    "\n",
    "if A_square >= m:\n",
    "    print(f'{A_square} 값이 {m}보다 크거나 같습니다')\n",
    "else:\n",
    "    print('오류')\n",
    "    \n",
    "# b번\n",
    "B = np.reciprocal(A) # 역수\n",
    "print(B)\n",
    "print('-----------')\n",
    "B_sum = np.sum(B)\n",
    "\n",
    "if B_sum >= k:\n",
    "    print(f'{A_square} 값이 {k}보다 크거나 같습니다')\n",
    "else:\n",
    "    print('오류')"
   ]
  },
  {
   "cell_type": "code",
   "execution_count": 31,
   "metadata": {},
   "outputs": [
    {
     "name": "stdout",
     "output_type": "stream",
     "text": [
      "[[ 0.8660254 -0.5      ]\n",
      " [ 0.5        0.8660254]]\n",
      "-----------\n",
      "[[0.23205081]\n",
      " [3.59807621]]\n",
      "[[ 0.5      ]\n",
      " [-0.8660254]]\n"
     ]
    }
   ],
   "source": [
    "# 3.10\n",
    "\n",
    "import numpy as np\n",
    "\n",
    "x1 = np.array([[2],[3]])\n",
    "x2 = np.array([[0],[-1]])\n",
    "\n",
    "n = 30 *(np.pi/180)\n",
    "\n",
    "R = np.array([[np.cos(n), -1*np.sin(n)],[np.sin(n), np.cos(n)]])\n",
    "\n",
    "print(R)\n",
    "print('-----------')\n",
    "\n",
    "x1_R = R @ x1\n",
    "x2_R = R @ x2\n",
    "\n",
    "print(x1_R)\n",
    "print(x2_R)"
   ]
  }
 ],
 "metadata": {
  "kernelspec": {
   "display_name": "Python 3",
   "language": "python",
   "name": "python3"
  },
  "language_info": {
   "codemirror_mode": {
    "name": "ipython",
    "version": 3
   },
   "file_extension": ".py",
   "mimetype": "text/x-python",
   "name": "python",
   "nbconvert_exporter": "python",
   "pygments_lexer": "ipython3",
   "version": "3.7.4"
  }
 },
 "nbformat": 4,
 "nbformat_minor": 4
}
