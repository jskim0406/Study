{
 "cells": [
  {
   "cell_type": "code",
   "execution_count": 8,
   "metadata": {},
   "outputs": [],
   "source": [
    "import numpy as np\n",
    "import scipy as sp\n",
    "import pandas as pd\n",
    "import matplotlib.pylab as plt\n",
    "import seaborn as sns\n",
    "import sklearn as sk\n",
    "import statsmodels.api as sm\n",
    "from sklearn.decomposition import PCA"
   ]
  },
  {
   "cell_type": "markdown",
   "metadata": {},
   "source": [
    "### Iris 데이터의 1차원 축소(10송이 대상, 2 feature -> 1 feature, 1가지 잠재변수 차원으로 축소)"
   ]
  },
  {
   "cell_type": "code",
   "execution_count": 20,
   "metadata": {},
   "outputs": [
    {
     "data": {
      "image/png": "[encoded data removed]",
      "text/plain": [
       "<Figure size 504x504 with 1 Axes>"
      ]
     },
     "metadata": {
      "needs_background": "light"
     },
     "output_type": "display_data"
    }
   ],
   "source": [
    "from sklearn.decomposition import PCA\n",
    "\n",
    "iris = load_iris()\n",
    "N = 10  # 앞의 10송이만 선택\n",
    "X = iris.data[:N, :2]  # 꽃받침 길이와 꽃받침 폭만 선택\n",
    "\n",
    "pca1 = PCA(n_components=1)\n",
    "X_low = pca1.fit_transform(X)\n",
    "X2 = pca1.inverse_transform(X_low)\n",
    "\n",
    "plt.figure(figsize=(7, 7))\n",
    "ax = sns.scatterplot(0, 1, data=pd.DataFrame(X), s=100, color=\".2\", marker=\"s\")\n",
    "for i in range(N):\n",
    "    d = 0.03 if X[i, 1] > X2[i, 1] else -0.04\n",
    "    ax.text(X[i, 0] - 0.065, X[i, 1] + d, \"표본 {}\".format(i + 1))\n",
    "    plt.plot([X[i, 0], X2[i, 0]], [X[i, 1], X2[i, 1]], \"k--\")\n",
    "plt.plot(X2[:, 0], X2[:, 1], \"o-\", markersize=10)\n",
    "plt.plot(X[:, 0].mean(), X[:, 1].mean(), markersize=10, marker=\"D\")\n",
    "plt.axvline(X[:, 0].mean(), c='r')\n",
    "plt.axhline(X[:, 1].mean(), c='r')\n",
    "plt.grid(False)\n",
    "plt.xlabel(\"꽃받침 길이\")\n",
    "plt.ylabel(\"꽃받침 폭\")\n",
    "plt.title(\"Iris 데이터의 1차원 차원축소\")\n",
    "plt.axis(\"equal\")\n",
    "plt.show()"
   ]
  },
  {
   "cell_type": "markdown",
   "metadata": {},
   "source": [
    "### Iris 데이터의 1차원 축소(10송이 대상, 4feature -> 1feature, 4차원 -> 1차원으로 축소)"
   ]
  },
  {
   "cell_type": "code",
   "execution_count": 21,
   "metadata": {
    "scrolled": false
   },
   "outputs": [],
   "source": [
    "from sklearn.datasets import load_iris\n",
    "iris = load_iris()\n",
    "N = 10  # 앞의 10송이만 선택\n",
    "X = iris.data[:N, :4]  # 꽃받침 길이와 꽃받침 폭만 선택\n",
    "\n",
    "pca1 = PCA(n_components=1)\n",
    "X_low = pca1.fit_transform(X)\n",
    "X2 = pca1.inverse_transform(X_low)"
   ]
  },
  {
   "cell_type": "markdown",
   "metadata": {},
   "source": [
    "### 1) PCA 의 기준점 = 평균벡터"
   ]
  },
  {
   "cell_type": "code",
   "execution_count": 11,
   "metadata": {},
   "outputs": [
    {
     "data": {
      "text/plain": [
       "array([4.86, 3.31, 1.45, 0.22])"
      ]
     },
     "execution_count": 11,
     "metadata": {},
     "output_type": "execute_result"
    }
   ],
   "source": [
    "pca1.mean_"
   ]
  },
  {
   "cell_type": "markdown",
   "metadata": {},
   "source": [
    "### 2) PCA 로 얻은 주성분 벡터"
   ]
  },
  {
   "cell_type": "code",
   "execution_count": 12,
   "metadata": {},
   "outputs": [
    {
     "data": {
      "text/plain": [
       "array([[0.66811102, 0.71663448, 0.16441128, 0.11415614]])"
      ]
     },
     "execution_count": 12,
     "metadata": {},
     "output_type": "execute_result"
    }
   ],
   "source": [
    "pca1.components_"
   ]
  },
  {
   "cell_type": "markdown",
   "metadata": {},
   "source": [
    "### 3) 특이값분해로 얻은 우특이벡터 확인"
   ]
  },
  {
   "cell_type": "code",
   "execution_count": 13,
   "metadata": {
    "scrolled": true
   },
   "outputs": [
    {
     "data": {
      "text/plain": [
       "array([[-0.66811102, -0.71663448, -0.16441128, -0.11415614],\n",
       "       [ 0.70647649, -0.64270361,  0.11898477, -0.27141419],\n",
       "       [-0.1402659 , -0.13565029,  0.91363679,  0.35664028],\n",
       "       [-0.18666579,  0.23444848,  0.35224902, -0.88662868]])"
      ]
     },
     "execution_count": 13,
     "metadata": {},
     "output_type": "execute_result"
    }
   ],
   "source": [
    "X0 = X- X.mean(axis=0)\n",
    "U, S, VT = np.linalg.svd(X0)\n",
    "VT"
   ]
  },
  {
   "cell_type": "markdown",
   "metadata": {},
   "source": [
    "### 4) 분산행렬 구성 -> 고유값분해 -> 고유벡터 정렬(고유값 내림차순 기준)"
   ]
  },
  {
   "cell_type": "code",
   "execution_count": 14,
   "metadata": {},
   "outputs": [
    {
     "data": {
      "text/plain": [
       "array([0.66811102, 0.71663448, 0.16441128, 0.11415614])"
      ]
     },
     "execution_count": 14,
     "metadata": {},
     "output_type": "execute_result"
    }
   ],
   "source": [
    "XCOV = X0.T @ X0\n",
    "W, V = np.linalg.eig(XCOV) ### 3) 특이값분해로 얻은 우특이벡터 확인lg.eig(XCOV)\n",
    "V[:,np.argmax(W)]"
   ]
  },
  {
   "cell_type": "markdown",
   "metadata": {},
   "source": [
    "### 5) 기존 데이터와 투영 데이터의 비교"
   ]
  },
  {
   "cell_type": "code",
   "execution_count": 15,
   "metadata": {
    "scrolled": true
   },
   "outputs": [
    {
     "data": {
      "text/plain": [
       "array([5. , 3.4, 1.5, 0.2])"
      ]
     },
     "execution_count": 15,
     "metadata": {},
     "output_type": "execute_result"
    }
   ],
   "source": [
    "X[7,:]"
   ]
  },
  {
   "cell_type": "code",
   "execution_count": 16,
   "metadata": {},
   "outputs": [
    {
     "data": {
      "text/plain": [
       "array([0.16397009])"
      ]
     },
     "execution_count": 16,
     "metadata": {},
     "output_type": "execute_result"
    }
   ],
   "source": [
    "X_low[7]"
   ]
  },
  {
   "cell_type": "code",
   "execution_count": 17,
   "metadata": {},
   "outputs": [
    {
     "data": {
      "text/plain": [
       "array([0.16397009])"
      ]
     },
     "execution_count": 17,
     "metadata": {},
     "output_type": "execute_result"
    }
   ],
   "source": [
    "pca1.components_ @ (X[7,:] - pca1.mean_)"
   ]
  },
  {
   "cell_type": "markdown",
   "metadata": {},
   "source": [
    "### 6) 투영 데이터와 복원 데이터(역변환행렬 대입) 비교"
   ]
  },
  {
   "cell_type": "code",
   "execution_count": 18,
   "metadata": {},
   "outputs": [
    {
     "data": {
      "text/plain": [
       "array([5. , 3.4, 1.5, 0.2])"
      ]
     },
     "execution_count": 18,
     "metadata": {},
     "output_type": "execute_result"
    }
   ],
   "source": [
    "X[7,:]"
   ]
  },
  {
   "cell_type": "code",
   "execution_count": 19,
   "metadata": {},
   "outputs": [
    {
     "data": {
      "text/plain": [
       "array([4.96955022, 3.42750662, 1.47695853, 0.23871819])"
      ]
     },
     "execution_count": 19,
     "metadata": {},
     "output_type": "execute_result"
    }
   ],
   "source": [
    "X2[7,:]"
   ]
  }
 ],
 "metadata": {
  "kernelspec": {
   "display_name": "Python 3",
   "language": "python",
   "name": "python3"
  }
 },
 "nbformat": 4,
 "nbformat_minor": 2
}
