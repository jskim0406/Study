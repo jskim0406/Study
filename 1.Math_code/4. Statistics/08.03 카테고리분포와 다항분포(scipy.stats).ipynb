{
 "cells": [
  {
   "cell_type": "markdown",
   "metadata": {},
   "source": [
    "# 1. Scipy.stats를 활용한 카테고리 확률변수 시뮬레이션\n",
    "\n",
    "\n",
    "    \n",
    "    - 카테고리 분포의 클래스 별도 존재하지 않음\n",
    "    \n",
    "    - 다항분포 클래스에서 n=1(1회 시행)로 카테고리분포 설정 가능\n",
    "    \n",
    "    - 이론적으로 분포를 임의로 그려보기 vs 실제로 확률변수에서 표본을 샘플링 해 분포 그리기\n",
    "    \n",
    "    \n",
    "```\n",
    "\n",
    "[샘플링을 통한 시뮬레이션]\n",
    "\n",
    "1. 확률변수 생성\n",
    "2. 샘플링     \n",
    "3. 확률변수 값 생성\n",
    "    - 배열로 생성\n",
    "    \n",
    "4. 확률값 생성\n",
    "    - 샘플링 결과를 각 열벡터 별 sum => 빈도 확률로 계산( / len(x) )\n",
    "\n",
    "5. 분포 그리기\n",
    "\n",
    "\n",
    "[이론적 분포 그리기]\n",
    "\n",
    "1. 확률변수 생성\n",
    "    - np.arange => 원핫인코딩\n",
    "\n",
    "2. 확률변수 값 생성\n",
    "    - 원핫인코딩 결과에서 values 추출값을 pmf에 넣어야함\n",
    "\n",
    "3. 확률값 생성\n",
    "    - 이론적 생성박스 사용\n",
    "    \n",
    "4. 분포 그리기\n",
    "\n",
    "\n",
    "```"
   ]
  },
  {
   "cell_type": "code",
   "execution_count": 27,
   "metadata": {},
   "outputs": [
    {
     "data": {
      "text/plain": [
       "<matplotlib.axes._subplots.AxesSubplot at 0x12d148ed0>"
      ]
     },
     "execution_count": 27,
     "metadata": {},
     "output_type": "execute_result"
    },
    {
     "data": {
      "image/png": "[encoded data removed]",
      "text/plain": [
       "<Figure size 432x288 with 1 Axes>"
      ]
     },
     "metadata": {
      "needs_background": "light"
     },
     "output_type": "display_data"
    }
   ],
   "source": [
    "# 샘플링을 통한 시뮬레이션\n",
    "\n",
    "# 1. 확률변수 생성\n",
    "mu = [0.1, 0.1, 0.1, 0.1, 0.3, 0.3]\n",
    "rv = sp.stats.multinomial(1,mu)\n",
    "\n",
    "# 2. 샘플링\n",
    "xx = rv.rvs(100)\n",
    "\n",
    "# 3. 확률변수 값 생성\n",
    "x = np.arange(1,6+1)\n",
    "\n",
    "# 4. 확률 값 생성\n",
    "y = xx.sum(axis=0) / len(xx)\n",
    "\n",
    "# 5. 분포 그리기\n",
    "sns.barplot(x,y)\n"
   ]
  },
  {
   "cell_type": "code",
   "execution_count": 81,
   "metadata": {},
   "outputs": [
    {
     "data": {
      "text/plain": [
       "<matplotlib.axes._subplots.AxesSubplot at 0x12ea6e750>"
      ]
     },
     "execution_count": 81,
     "metadata": {},
     "output_type": "execute_result"
    },
    {
     "data": {
      "image/png": "[encoded data removed]",
      "text/plain": [
       "<Figure size 432x288 with 1 Axes>"
      ]
     },
     "metadata": {
      "needs_background": "light"
     },
     "output_type": "display_data"
    }
   ],
   "source": [
    "# 샘플링 없이 이론적 분포 그리기\n",
    "\n",
    "# 1. 확률변수 생성\n",
    "mu = [0.1, 0.1, 0.1, 0.1, 0.3, 0.3]\n",
    "rv = sp.stats.multinomial(1,mu)\n",
    "\n",
    "# 2. 확률변수 값 생성 -> 원핫인코딩!\n",
    "x = np.arange(1,6+1)\n",
    "x_ohe = pd.get_dummies(x)\n",
    "\n",
    "# 3. 확률 값 생성 -> 원핫인코딩에서 밸류값만 추출 후 대입\n",
    "y = rv.pmf(x_ohe.values)\n",
    "\n",
    "# 4. 분포 그리기\n",
    "sns.barplot(x,y)"
   ]
  },
  {
   "cell_type": "code",
   "execution_count": 53,
   "metadata": {},
   "outputs": [
    {
     "data": {
      "text/plain": [
       "<matplotlib.axes._subplots.AxesSubplot at 0x12d21da50>"
      ]
     },
     "execution_count": 53,
     "metadata": {},
     "output_type": "execute_result"
    },
    {
     "data": {
      "image/png": "[encoded data removed]",
      "text/plain": [
       "<Figure size 432x288 with 1 Axes>"
      ]
     },
     "metadata": {
      "needs_background": "light"
     },
     "output_type": "display_data"
    }
   ],
   "source": [
    "# 시뮬레이션과 이론 비교\n",
    "\n",
    "df = pd.DataFrame({\"이론\": rv.pmf(x_ohe.values),\"시뮬레이션\":xx.sum(axis=0)/len(xx)}).stack()\n",
    "df = df.reset_index()\n",
    "df.columns = ['표본값','유형','확률값']\n",
    "sns.barplot(x='표본값',y='확률값',hue='유형',data=df)"
   ]
  },
  {
   "cell_type": "markdown",
   "metadata": {},
   "source": [
    "# 2. Scipy.stats를 활용한 다항분포 확률변수 시뮬레이션\n",
    "\n",
    "    - multinomial 클래스 활용\n",
    "\n",
    "    - 이론적으로 분포를 임의로 그려보기 vs 실제로 확률변수에서 표본을 샘플링 해 분포 그리기\n",
    "    \n",
    "    \n",
    "```\n",
    "\n",
    "[샘플링을 통한 시뮬레이션]\n",
    "\n",
    "1. 확률변수 생성\n",
    "2. 샘플링     \n",
    "3. 확률변수 값 생성\n",
    "    - 배열로 생성\n",
    "    \n",
    "4. 확률값 생성\n",
    "    - 샘플링 결과를 각 열벡터 별 sum => 빈도 확률로 계산( / len(x) )\n",
    "\n",
    "5. 분포 그리기\n",
    "\n",
    "\n",
    "[이론적 분포 그리기]\n",
    "\n",
    "1. 확률변수 생성\n",
    "\n",
    "2. 확률변수 값 생성\n",
    "    - 배열로 생성\n",
    "\n",
    "3. 확률값 생성\n",
    "    - 이론적 생성박스 사용\n",
    "    - pmf메서드에 입력 시, 더미화 후 value값만 넣어줘야 함\n",
    "        \n",
    "4. 분포 그리기\n",
    "\n",
    "\n",
    "```"
   ]
  },
  {
   "cell_type": "code",
   "execution_count": 58,
   "metadata": {},
   "outputs": [
    {
     "data": {
      "text/plain": [
       "<matplotlib.axes._subplots.AxesSubplot at 0x12c0db2d0>"
      ]
     },
     "execution_count": 58,
     "metadata": {},
     "output_type": "execute_result"
    },
    {
     "data": {
      "image/png": "[encoded data removed]",
      "text/plain": [
       "<Figure size 432x288 with 1 Axes>"
      ]
     },
     "metadata": {
      "needs_background": "light"
     },
     "output_type": "display_data"
    }
   ],
   "source": [
    "# 샘플링을 통한 시뮬레이션\n",
    "\n",
    "# 1. 확률변수 생성\n",
    "n = 30\n",
    "mu = [0.1, 0.1, 0.1, 0.1, 0.3, 0.3]\n",
    "rv = sp.stats.multinomial(n,mu)\n",
    "\n",
    "# 2. 샘플링\n",
    "xx = rv.rvs(100,random_state=0)\n",
    "\n",
    "# 3. 확률변수 값 생성\n",
    "x = np.arange(1,6+1)\n",
    "\n",
    "# 4. 확률값 생성\n",
    "y = xx.sum(axis=0) / len(xx)\n",
    "\n",
    "# 5. 분포 그리기\n",
    "sns.barplot(x,y)"
   ]
  }
 ],
 "metadata": {
  "kernelspec": {
   "display_name": "Python 3",
   "language": "python",
   "name": "python3"
  },
  "language_info": {
   "codemirror_mode": {
    "name": "ipython",
    "version": 3
   },
   "file_extension": ".py",
   "mimetype": "text/x-python",
   "name": "python",
   "nbconvert_exporter": "python",
   "pygments_lexer": "ipython3",
   "version": "3.7.4"
  }
 },
 "nbformat": 4,
 "nbformat_minor": 2
}
