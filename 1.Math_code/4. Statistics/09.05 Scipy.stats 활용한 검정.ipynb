{
 "cells": [
  {
   "cell_type": "markdown",
   "metadata": {},
   "source": [
    "# Scipy 패키지가 제공하는 검정 명령"
   ]
  },
  {
   "cell_type": "markdown",
   "metadata": {},
   "source": [
    "## [ 뮤. 기댓값 모수 에 대한 귀무가설 검정 ]\n",
    "\n",
    "```\n",
    "\n",
    "1. 이항검정(Binomial Test) : 베르누이 분포 모수 u 검정 \n",
    "(검정통계량 : 1이 나온 횟수), '베르누이 통계량(표본의 합) ~ 이항분포' 성질 활용\n",
    "즉, 통계량 분포 = 이항분포\n",
    "\n",
    "\n",
    "2. 카이제곱검정(Chi-squared Test) : 카테고리 분포 모수 벡터u 검정 \n",
    "(검정통계량 : 표본분산을 정규화한 값), 적합도 검정법 사용\n",
    "\n",
    "즉, 통계량 분포 != 다항분포. why? 다항분포는 스칼라값이 아님. 통계량은 스칼라값이어야 함\n",
    "즉, 스칼라값이 나오는 통계량을 만들어야 함 => 통계량 분포로 활용 => 검정통계량으로 활용\n",
    "(9.5.1)\n",
    "\n",
    "\n",
    "3. 카이제곱 독립검정(Chi-squared Contingency Test) : 범주형 변수 간 상관관계 검정\n",
    "\n",
    "\n",
    "4. 단일표본 z검정(One-sample z-Test)\n",
    "\n",
    "\n",
    "5. 단일표본 t검정(One-sample t-Test) : 정규분포 모수 기댓값 검정\n",
    "(검정통계량 : 스튜던트 t분포를 갖는 t통계량)\n",
    "\n",
    "\n",
    "6. 독립표본 t검정(Independent two-sample t-Test) : 두 정규분포의 모수 기댓값 동일한지 검정\n",
    "(검정통계량 : 두 분포의 분산이 같을 때, 다를 때 검정통계량이 다름)\n",
    "\n",
    "\n",
    "7. 대응표본 t검정(Paired two-sample t-Test) : 두 정규분포의 모수 기댓값이 동일핮니 검정\n",
    "단, paired-two-sample을 구성 -> 표본평균 자리에 (표본값 차이의 평균) 이 들어감.\n",
    "\n",
    "\n",
    "```"
   ]
  },
  {
   "cell_type": "markdown",
   "metadata": {},
   "source": [
    "## [ 분산 모수 에 대한 귀무가설 검정 ]\n",
    "\n",
    "```\n",
    "\n",
    "1. 등분산검정(Equal-variance Test)\n",
    "\n",
    "\n",
    "```"
   ]
  },
  {
   "cell_type": "markdown",
   "metadata": {},
   "source": [
    "## [ 확률분포가 정규분포인지 검정 ]\n",
    "\n",
    "```\n",
    "\n",
    "1. 정규성검정(Normality Test)\n",
    "\n",
    "\n",
    "```"
   ]
  },
  {
   "cell_type": "markdown",
   "metadata": {},
   "source": [
    "# 검정 과정\n",
    "\n",
    "```\n",
    "\n",
    "1) 확률변수 생성 (모수 지정, scipy.stats 모델)\n",
    "2) 실제 데이터 및 검정 대상 지정 \n",
    "3) 검정 진행 (scipy.stats 검정 모델)\n",
    "\n",
    "```"
   ]
  },
  {
   "cell_type": "markdown",
   "metadata": {},
   "source": [
    "# 1. 베르누이 확률변수의 이항검정 시뮬레이션\n",
    "\n",
    "    - H0 : u = 0.5"
   ]
  },
  {
   "cell_type": "markdown",
   "metadata": {},
   "source": [
    "### 1) 10개 샘플링 결과, 귀무가설과 다른 결과 => 귀무가설 기각?\n"
   ]
  },
  {
   "cell_type": "code",
   "execution_count": 13,
   "metadata": {},
   "outputs": [
    {
     "data": {
      "text/plain": [
       "7"
      ]
     },
     "execution_count": 13,
     "metadata": {},
     "output_type": "execute_result"
    }
   ],
   "source": [
    "# H0 : u = u0 = 0.5\n",
    "# 데이터 갯수(샘플링) N = 10, 1이 나온 횟수 = 7\n",
    "\n",
    "# 1. 확률변수 생성\n",
    "N = 10\n",
    "mu_0 = 0.5\n",
    "np.random.seed(0)\n",
    "rv = sp.stats.bernoulli(mu_0)\n",
    "\n",
    "# 2. 샘플링\n",
    "x = rv.rvs(N)\n",
    "\n",
    "# 3. 샘플링 결과, 1이 나온 횟수\n",
    "n = np.count_nonzero(x)\n",
    "n\n",
    "\n",
    "# 실험 결과 : 모수로 0.5를 지정 후, 샘플링을 했더니, 1이 5번이 아닌 7번 출력됨. 그렇다면, 실제 모수가 0.5라는 귀무가설은 기각되어야 하는가?"
   ]
  },
  {
   "cell_type": "markdown",
   "metadata": {},
   "source": [
    "### 2) 베르누이 확률변수의 모수 검정 : 이항검정\n",
    "\n",
    "    - 이항검정 결과, 유의확률이 약 0.34. u=0.5라는 귀무가설은 기각될 수 없다.\n",
    "    \n",
    "    \n",
    "```\n",
    "\n",
    "**이항검정**\n",
    "이항검정은 이항분포를 이용하여 베르누이 확률변수의 모수  𝜇 에 대한 가설을 조사하는 검정 방법이다. \n",
    "사이파이 stats 서브패키지의 binom_test 명령은 이항검정의 유의확률을 계산한다. \n",
    "디폴트 귀무가설은  𝜇=0.5 이다.\n",
    "\n",
    "scipy.stats.binom_test(x, n=None, p=0.5, alternative='two-sided')\n",
    "\n",
    "x: 검정통계량. 1이 나온 횟수\n",
    "n: 총 시도 횟수\n",
    "p: 귀무가설의  𝜇 값\n",
    "alternative: 양측검정인 경우에는 'two-sided', 단측검정인 경우에는 'less' 또는 'greater'\n",
    "\n",
    "\n",
    "```"
   ]
  },
  {
   "cell_type": "code",
   "execution_count": 14,
   "metadata": {},
   "outputs": [
    {
     "data": {
      "text/plain": [
       "0.3437499999999999"
      ]
     },
     "execution_count": 14,
     "metadata": {},
     "output_type": "execute_result"
    }
   ],
   "source": [
    "# 베르누이 확률변수의 모수 검정 \n",
    "# 이항검정 결과, 유의확률이 약 0.34. u=0.5라는 귀무가설은 기각될 수 없다.\n",
    "\n",
    "sp.stats.binom_test(n,N,p=mu_0)"
   ]
  },
  {
   "cell_type": "markdown",
   "metadata": {},
   "source": [
    "### 3) 100개 샘플링 결과\n"
   ]
  },
  {
   "cell_type": "code",
   "execution_count": 20,
   "metadata": {},
   "outputs": [
    {
     "data": {
      "text/plain": [
       "49"
      ]
     },
     "execution_count": 20,
     "metadata": {},
     "output_type": "execute_result"
    }
   ],
   "source": [
    "# 1. 확률변수 생성\n",
    "N = 100\n",
    "mu_0 = 0.5\n",
    "rv = sp.stats.bernoulli(mu_0)\n",
    "\n",
    "# 2. 샘플링\n",
    "x = rv.rvs(N,random_state=0)\n",
    "\n",
    "# 3. 샘플링 결과, 1이 나온 횟수\n",
    "n = np.count_nonzero(x)\n",
    "n"
   ]
  },
  {
   "cell_type": "markdown",
   "metadata": {},
   "source": [
    "### 4) 100개 샘플링 결과에 대한 이항검정\n",
    "\n",
    "- 유의확률이 매우 크므로, 귀무가설은 기각되지 않음. 귀무가설 하 충분히 나올 수 있는 샘플링 결과"
   ]
  },
  {
   "cell_type": "code",
   "execution_count": 21,
   "metadata": {},
   "outputs": [
    {
     "data": {
      "text/plain": [
       "0.9204107626128206"
      ]
     },
     "execution_count": 21,
     "metadata": {},
     "output_type": "execute_result"
    }
   ],
   "source": [
    "sp.stats.binom_test(n, N)"
   ]
  },
  {
   "cell_type": "markdown",
   "metadata": {},
   "source": [
    "### 연습문제\n",
    "\n",
    "동전을  𝑁 번 던져 앞면이 나오는 횟수를 측정했다. 다음 질문에 답하여라.\n",
    "\n",
    "1. 𝑁=10 이고 유의 수준이 10%라면 앞면이 나온 횟수가 몇 번이어야 동전이 공정하지 않다고 이야기 할 수 있을까?\n",
    "\n",
    "\n",
    "2. 𝑁=1000 이고 유의 수준이 10%라면 앞면이 나온 횟수가 몇 번이어야 동전이 공정하지 않다고 이야기 할 수 있을까? \n",
    "   이 때  1∼𝑁 의 횟수 범위 중에서 동전이 공정하다고 이야기할 수 있는 횟수의 범위(비율)는  𝑁=10 일 때와 비교하여 넓은가 혹은 좁은가?\n",
    "   \n",
    "   "
   ]
  },
  {
   "cell_type": "markdown",
   "metadata": {},
   "source": [
    "#### 풀이 (자습)"
   ]
  },
  {
   "cell_type": "code",
   "execution_count": 43,
   "metadata": {},
   "outputs": [
    {
     "name": "stdout",
     "output_type": "stream",
     "text": [
      "앞면 횟수 : 0, pvalue : 0.001953125\n",
      "앞면 횟수 : 1, pvalue : 0.021484374999999997\n",
      "앞면 횟수 : 9, pvalue : 0.021484374999999997\n",
      "앞면 횟수 : 10, pvalue : 0.001953125\n",
      "유의확률 벗어난 횟수 : 4\n"
     ]
    }
   ],
   "source": [
    "# 1. 𝑁=10 이고 유의 수준이 10%라면 앞면이 나온 횟수가 몇 번이어야 동전이 공정하지 않다고 이야기 할 수 있을까?\n",
    "\n",
    "# 1. 확률변수 생성\n",
    "mu = 0.5\n",
    "N = 10 #10번 던지기\n",
    "sig_lev = 0.1\n",
    "rv = sp.stats.bernoulli(mu)\n",
    "\n",
    "# 2. 검정 실시 (반복)\n",
    "def test(N):\n",
    "    for i in range(0,N+1):\n",
    "\n",
    "        if sp.stats.binom_test(i,N) <= sig_lev:\n",
    "            print(\"앞면 횟수 : {}, pvalue : {}\".format(i, sp.stats.binom_test(i,N)))\n",
    "            \n",
    "count = 0\n",
    "def num_ok(N):\n",
    "    for i in range(0,N+1):\n",
    "\n",
    "        if sp.stats.binom_test(i,N) <= sig_lev:\n",
    "            global count\n",
    "            count += 1\n",
    "            \n",
    "    return count          \n",
    "\n",
    "# 3. 검정 결과 : 앞면이 0, 1, 9, 10번 나올 경우, 동전은 공정하지 않다.\n",
    "test(10)\n",
    "print(\"유의확률 벗어난 횟수 : {}\".format(num_ok(10)))"
   ]
  },
  {
   "cell_type": "code",
   "execution_count": 45,
   "metadata": {},
   "outputs": [
    {
     "name": "stdout",
     "output_type": "stream",
     "text": [
      "유의확률 벗어난 횟수 : 948\n"
     ]
    }
   ],
   "source": [
    "# 2. 𝑁=1000 이고 유의 수준이 10%라면 앞면이 나온 횟수가 몇 번이어야 동전이 공정하지 않다고 이야기 할 수 있을까?\n",
    "\n",
    "# 1. 확률변수 생성\n",
    "mu = 0.5\n",
    "N = 1000 #1000번 던지기\n",
    "sig_lev = 0.1\n",
    "rv = sp.stats.bernoulli(mu)\n",
    "\n",
    "# 2. 검정 실시 (반복)\n",
    "count = 0\n",
    "def num_ok(N):\n",
    "    for i in range(0,N+1):\n",
    "\n",
    "        if sp.stats.binom_test(i,N) <= sig_lev:\n",
    "            global count\n",
    "            count += 1\n",
    "            \n",
    "    return count\n",
    "    \n",
    "print(\"유의확률 벗어난 횟수 : {}\".format(num_ok(1000)))"
   ]
  },
  {
   "cell_type": "markdown",
   "metadata": {},
   "source": [
    "#### 풀이 (정답)"
   ]
  },
  {
   "cell_type": "code",
   "execution_count": null,
   "metadata": {},
   "outputs": [],
   "source": [
    "# 1. 𝑁=10 이고 유의 수준이 10%라면 앞면이 나온 횟수가 몇 번이어야 동전이 공정하지 않다고 이야기 할 수 있을까?\n",
    "\n",
    "def detect(N):\n",
    "    N1 = N\n",
    "    pvalue1 = np.array([sp.stats.binom_test(n,N1) for n in range(N1+1)])\n",
    "    fair_range1 = np.where(pvalue1 > 0.1)\n",
    "    fair_start1, fair_end1 = fair_range1[0][0], fair_range1[-1][-1]\n",
    "    print(\"N = {}일 때, 공정한 경우 : 앞면이 나온 횟수가 {}~{}일 때\".format(N1,fair_start1,fair_end1))\n",
    "    \n",
    "    plt.plot(pvalue1, \"r--\")\n",
    "    plt.hlines(y=0.1, xmin=0, xmax=N1)"
   ]
  },
  {
   "cell_type": "code",
   "execution_count": 66,
   "metadata": {},
   "outputs": [
    {
     "name": "stdout",
     "output_type": "stream",
     "text": [
      "N = 10일 때, 공정한 경우 : 앞면이 나온 횟수가 2~8일 때\n"
     ]
    },
    {
     "data": {
      "image/png": "[encoded data removed]",
      "text/plain": [
       "<Figure size 432x288 with 1 Axes>"
      ]
     },
     "metadata": {
      "needs_background": "light"
     },
     "output_type": "display_data"
    }
   ],
   "source": [
    "detect(10)    "
   ]
  },
  {
   "cell_type": "code",
   "execution_count": 67,
   "metadata": {},
   "outputs": [
    {
     "name": "stdout",
     "output_type": "stream",
     "text": [
      "N = 1000일 때, 공정한 경우 : 앞면이 나온 횟수가 474~526일 때\n"
     ]
    },
    {
     "data": {
      "image/png": "[encoded data removed]",
      "text/plain": [
       "<Figure size 432x288 with 1 Axes>"
      ]
     },
     "metadata": {
      "needs_background": "light"
     },
     "output_type": "display_data"
    }
   ],
   "source": [
    "detect(1000)"
   ]
  },
  {
   "cell_type": "markdown",
   "metadata": {},
   "source": [
    "### 연습문제\n",
    "\n",
    "```\n",
    "\n",
    "다음 코드를 실행하면 어느 식당의 매출과 팁(tip) 데이터를 구할 수 있다.\n",
    "\n",
    "import seaborn as sns\n",
    "tips = sns.load_dataset(\"tips\")\n",
    "\n",
    "하나의 레코드(행)이 한 명의 손님을 나타낸다고 가정하자. \n",
    "열마다 성별(sex), 흡연유무(smoker), 점심/저녁(time) 등을 나타내는 데이터 있다.\n",
    "\n",
    "\n",
    "```\n",
    "\n",
    "\n",
    "**Q. 이항검정을 사용하여 다음 문제를 풀어라. 유의수준은 10%다.**\n",
    "\n",
    "(1) 여자 손님 중 비흡연자가 흡연자보다 많다고 할 수 있는가?\n",
    "\n",
    "(2) 저녁에 오는 여자 손님 중 비흡연자가 흡연자보다 많다고 할 수 있는가?\n",
    "\n",
    "\n",
    "   "
   ]
  },
  {
   "cell_type": "code",
   "execution_count": 2,
   "metadata": {},
   "outputs": [
    {
     "data": {
      "text/html": [
       "<div>\n",
       "<style scoped>\n",
       "    .dataframe tbody tr th:only-of-type {\n",
       "        vertical-align: middle;\n",
       "    }\n",
       "\n",
       "    .dataframe tbody tr th {\n",
       "        vertical-align: top;\n",
       "    }\n",
       "\n",
       "    .dataframe thead th {\n",
       "        text-align: right;\n",
       "    }\n",
       "</style>\n",
       "<table border=\"1\" class=\"dataframe\">\n",
       "  <thead>\n",
       "    <tr style=\"text-align: right;\">\n",
       "      <th></th>\n",
       "      <th>total_bill</th>\n",
       "      <th>tip</th>\n",
       "      <th>sex</th>\n",
       "      <th>smoker</th>\n",
       "      <th>day</th>\n",
       "      <th>time</th>\n",
       "      <th>size</th>\n",
       "    </tr>\n",
       "  </thead>\n",
       "  <tbody>\n",
       "    <tr>\n",
       "      <th>243</th>\n",
       "      <td>18.78</td>\n",
       "      <td>3.0</td>\n",
       "      <td>Female</td>\n",
       "      <td>No</td>\n",
       "      <td>Thur</td>\n",
       "      <td>Dinner</td>\n",
       "      <td>2</td>\n",
       "    </tr>\n",
       "  </tbody>\n",
       "</table>\n",
       "</div>"
      ],
      "text/plain": [
       "     total_bill  tip     sex smoker   day    time  size\n",
       "243       18.78  3.0  Female     No  Thur  Dinner     2"
      ]
     },
     "execution_count": 2,
     "metadata": {},
     "output_type": "execute_result"
    }
   ],
   "source": [
    "import seaborn as sns\n",
    "tips = sns.load_dataset(\"tips\")\n",
    "tips.tail(1)"
   ]
  },
  {
   "cell_type": "code",
   "execution_count": 22,
   "metadata": {},
   "outputs": [
    {
     "data": {
      "text/plain": [
       "0.015709055116923068"
      ]
     },
     "execution_count": 22,
     "metadata": {},
     "output_type": "execute_result"
    }
   ],
   "source": [
    "# (1) 여자손님 중 비흡연자가 흡연자보다 많다고 할 수 있는가?\n",
    "\n",
    "# 이항검정 사용. 베르누이 분포의 기대값 모수에 대한 검정 진행\n",
    "# 여성손님 중 비흡연자 수 = 검정통계량\n",
    "# sp.stats.binom_test(검정통계량)\n",
    "\n",
    "# 1. 검정통계량 = 여성손님 중 비흡연자 수\n",
    "tips_fe = tips[tips['sex']=='Female']\n",
    "tips_fe_no = tips_fe[tips_fe['smoker']=='No']\n",
    "\n",
    "# 2. 단측 검정 진행. H0 = u = 0.5 / Ha = u > 0.5\n",
    "# 시행횟수 인자 = 54+33, 비흡연자 + 흡연자 중, 비흡연자 대상 단측검정 진행\n",
    "\n",
    "# 3. 단측 검정 시행 결과, 유의확률이 유의수준(10%)보다 낮아 귀무가설 기각 가능. 대립가설 채택 가능.(비흡연자가 더 많음)\n",
    "sp.stats.binom_test(tips_fe_no.shape[0],n=54+33,alternative='greater')"
   ]
  },
  {
   "cell_type": "code",
   "execution_count": 61,
   "metadata": {},
   "outputs": [
    {
     "data": {
      "text/plain": [
       "0.2442278346899461"
      ]
     },
     "execution_count": 61,
     "metadata": {},
     "output_type": "execute_result"
    }
   ],
   "source": [
    "# (2) 저녁에 오는 여자 손님 중 비흡연자가 흡연자보다 많다고 할 수 있는가?\n",
    "\n",
    "# 이항검정 사용. 베르누이 분포의 기대값 모수에 대한 검정 진행\n",
    "# 저녁에 오는 여자손님 중 비흡연자 수 = 검정통계량\n",
    "# 전체 시행횟수 = 저녁,여자,흡연 + 저녁,여자,비흡연\n",
    "# 단측검정 시행. H0 : u = 0.5 / Ha : u > 0.5 (비흡연자가 더 많다.)\n",
    "\n",
    "# 1. 검정통계량 = 저녁, 여자, 비흡연\n",
    "tips_di = tips[tips.time=='Dinner']\n",
    "tips_di_fe = tips_di[tips_di.sex == 'Female']\n",
    "tips_di_fe_no = tips_di_fe[tips_di_fe.smoker=='No']\n",
    "\n",
    "# 2. 베르누이 시행(흡연 / 비흡연) 횟수 = 52 (23/29)\n",
    "tips_di_fe.smoker.value_counts()\n",
    "\n",
    "# 3. 단측검정 시행\n",
    "sp.stats.binom_test(29,n=52,alternative='greater')\n",
    "\n",
    "# 4. 검정 시행 결과, 유의확률이 유의수준보다 커, 귀무가설 기각할 수 없다. 따라서, 비흡연자가 더 많다고 할 수 없다."
   ]
  },
  {
   "cell_type": "markdown",
   "metadata": {},
   "source": [
    "# 2. 카테고리 확률변수의 카이제곱 검정 시뮬레이션\n",
    "    \n",
    "    \n",
    "```\n",
    "\n",
    "**카이제곱 검정**\n",
    "\n",
    "사이파이 stats 서브패키지의 chisquare 명령은 카이제곱검정의 검정통계량과 유의확률을 계산한다. f_exp이 주어지지 않는 경우의 디폴트 귀무가설은  𝜇=(1𝐾,…,1𝐾) 이다.\n",
    "\n",
    "scipy.stats.chisquare(f_obs, f_exp=None)\n",
    "\n",
    "f_obs : 데이터 행렬\n",
    "f_exp : 기댓값 행렬\n",
    "\n",
    "```"
   ]
  },
  {
   "cell_type": "markdown",
   "metadata": {},
   "source": [
    "### 예제 : 실제 데이터에 대한 검정\n",
    "\n",
    "데이터 개수  𝑁=10 , 귀무가설 모수  𝜇0=(0.25,0.25,0.25,0.25) , 실제 데이터  (0,3,5,2) 인 경우 대해 카이제곱검정 명령을 실시해보자."
   ]
  },
  {
   "cell_type": "code",
   "execution_count": 78,
   "metadata": {},
   "outputs": [
    {
     "data": {
      "text/plain": [
       "Power_divergenceResult(statistic=5.199999999999999, pvalue=0.157724450396663)"
      ]
     },
     "execution_count": 78,
     "metadata": {},
     "output_type": "execute_result"
    }
   ],
   "source": [
    "# 1. 카테고리 확률변수 생성\n",
    "N = 10\n",
    "k = 4\n",
    "mu_0 = np.ones(k)/k\n",
    "rv = sp.stats.multinomial(1,mu_0)\n",
    "\n",
    "# 2. 데이터 저장\n",
    "data = np.array([0,3,5,2])\n",
    "\n",
    "# 3. 검정실시\n",
    "sp.stats.chisquare(data)\n",
    "\n",
    "# 4. 검정결과\n",
    "# 0.16 p-value. 만약 유의수준이 10%라도, 실제 데이터가 0,3,5,2가 나오더라도 귀무가설을 기각할 수 없다"
   ]
  },
  {
   "cell_type": "markdown",
   "metadata": {},
   "source": [
    "### 예제 : 실제 데이터에 대한 검정\n",
    "\n",
    "데이터 개수  𝑁=100 , 귀무가설 모수  𝜇0=(0.25,0.25,0.25,0.25) , 실제 데이터  (37,32,20,11) 인 경우 대해 카이제곱검정 명령을 실시해보자."
   ]
  },
  {
   "cell_type": "code",
   "execution_count": 83,
   "metadata": {
    "scrolled": true
   },
   "outputs": [
    {
     "data": {
      "text/plain": [
       "Power_divergenceResult(statistic=16.56, pvalue=0.0008703471978912127)"
      ]
     },
     "execution_count": 83,
     "metadata": {},
     "output_type": "execute_result"
    }
   ],
   "source": [
    "# 1. 카테고리 확률변수 생성\n",
    "N = 100\n",
    "k = 4\n",
    "mu_0 = np.ones(k)/k\n",
    "rv = sp.stats.multinomial(1,mu_0)\n",
    "\n",
    "# 2. 데이터 저장\n",
    "data = np.array([37,32,20,11])\n",
    "\n",
    "# 3. 검정실시\n",
    "sp.stats.chisquare(data)\n",
    "\n",
    "# 4. 검정결과\n",
    "# 0.01보다 적은 p-value. 실제 데이터가 (37,32,20,11)로 나오는 경우는 귀무가설 하 매우 희귀한 경우. 따라서, 귀무가설 기각"
   ]
  },
  {
   "cell_type": "markdown",
   "metadata": {},
   "source": [
    "### 연습문제\n",
    "\n",
    "6면체 주사위를 5번 던졌다. 5번 모두 6이 나왔다면 주사위가 공정하다는 귀무가설의 유의확률은 얼마인가?\n",
    "   "
   ]
  },
  {
   "cell_type": "markdown",
   "metadata": {},
   "source": [
    "#### 풀이 (자습)"
   ]
  },
  {
   "cell_type": "code",
   "execution_count": 85,
   "metadata": {},
   "outputs": [
    {
     "data": {
      "text/plain": [
       "Power_divergenceResult(statistic=25.000000000000004, pvalue=0.00013933379118562602)"
      ]
     },
     "execution_count": 85,
     "metadata": {},
     "output_type": "execute_result"
    }
   ],
   "source": [
    "# 시행횟수 = 5, 실제 데이터 = (1,0,0,0,0,5) or ...\n",
    "# 귀무가설 = H0 = u = (1/6,1/6, ... ,1/6)\n",
    "# 이 때, 귀무가설의 유의확률은? = 귀무가설 가정 분포 상 검정통계량의 위치?\n",
    "\n",
    "# 1. 카테고리 확률변수 생성\n",
    "N = 5\n",
    "k = 6\n",
    "mu_0 = np.ones(k)/k\n",
    "rv = sp.stats.multinomial(1,mu_0)\n",
    "\n",
    "# 2. 실제 데이터 저장\n",
    "data = np.array([0,0,0,0,0,5])\n",
    "\n",
    "# 3. 검정\n",
    "sp.stats.chisquare(data)"
   ]
  },
  {
   "cell_type": "markdown",
   "metadata": {},
   "source": [
    "# 3. 카이제곱 독립검정\n",
    "\n",
    "    - 실수값 x, y 의 상관관계 <= 상관계수로 판단\n",
    "    - 범주형 x, y 의 상관관계 <= 카이제곱 독립검정\n",
    "\n",
    "* 상관관계 : 한 변수의 값이 달라지면, 다른 변수의 값도 변동\n",
    "\n",
    "* 모델 생성 시, 제외해야할 서로 상관관계가 있는 범주형 변수, 특징을 판별 시 카이제곱 독립검정 활용\n",
    "\n",
    "```\n",
    "\n",
    "**카이제곱 독립검정**\n",
    "\n",
    "- 사이파이의 chi2_contingency() 명령은 이러한 검정을 수행.  \n",
    "\n",
    "- 디폴트 귀무가설 : 상관관계 없음\n",
    "\n",
    "- 𝑋 의 값에 따른 각각의  𝑌 분포가 2차원 표(contingency table)의 형태로 주어지면 독립인 경우의 분포와 실제 y 표본본포의 차이를 검정통계량으로 계산. \n",
    "- 이 값이 충분히 크다면  𝑋 와  𝑌 는 상관관계가 있음. \n",
    "- chi2_contingency() 명령의 결과는 튜플로 반환되며 첫번째 값이 검정통계량, 두번째 값이 유의확률이다.\n",
    "\n",
    "```"
   ]
  },
  {
   "cell_type": "markdown",
   "metadata": {},
   "source": [
    "### 연습문제\n",
    "\n",
    "예를 들어 데이터 사이언스 스쿨 수업을 들었는가의 여부가 나중에 대학원에서 머신러닝 수업의 학점과 상관관계가 있는지를 알기 위해 데이터를 구한 결과가 다음과 같다고 하자.\n",
    "\n",
    "- 데이터 사이언스 스쿨 수업을 듣지 않은 경우 즉,  𝑋 가 0이면 A, B, C 학점( 𝑌  값)을 받은 학생의 분포가  4,16,20 이다.\n",
    "\n",
    "- 데이터 사이언스 스쿨 수업을 들은 사람의 경우 즉,  𝑋 가 1일 때 A, B, C 학점( 𝑌  값)을 받은 학생의 분포가  23,18,19 다.\n",
    "\n",
    "이 결과로부터 데이터 사이언스 스쿨 수업을 들었는가의 여부가 머신러닝 수업의 학점과 상관관계가 있다고 말할 수 있는가?\n",
    "   "
   ]
  },
  {
   "cell_type": "code",
   "execution_count": 88,
   "metadata": {},
   "outputs": [
    {
     "data": {
      "text/plain": [
       "(9.910060890453046, 0.00704786570249751, 2, array([[10.8, 13.6, 15.6],\n",
       "        [16.2, 20.4, 23.4]]))"
      ]
     },
     "execution_count": 88,
     "metadata": {},
     "output_type": "execute_result"
    }
   ],
   "source": [
    "# 두 변수의 관찰 값 테이블 생성\n",
    "\n",
    "obs = np.array([[4,16,20],[23,18,19]])\n",
    "sp.stats.chi2_contingency(obs)\n",
    "\n",
    "# 리턴결과의 2번째 값인 p-value가 약 0.7%이다. 따라서, 상관관계가 없다는 귀무가설을 기각할 수 있다.(상관관계 있다.)"
   ]
  },
  {
   "cell_type": "markdown",
   "metadata": {},
   "source": [
    "# 4. 단일표본 z 검정\n",
    "\n",
    "    - 분산의 값을 정확히 알고 있는 정규분포의 표본에 대한 기댓값을 조사하는 검정방법\n",
    "    - 현실에서 분산의 값을 정확히 알고 있는 경우가 거의 없어, 사용 거의 안함"
   ]
  },
  {
   "cell_type": "markdown",
   "metadata": {},
   "source": [
    "# 5. 단일표본 t 검정 (one-sample t-test)\n",
    "\n",
    "    - 검정통계량 : 스튜던트 t분포를 갖는 t통계량\n",
    "    \n",
    "```\n",
    "\n",
    "단일표본 t검정(One-sample t-test)은 정규분포의 표본에 대해 기댓값을 조사하는 검정방법이다. 검정통계량으로 스튜던트 t분포를 가진 t통계량을 사용한다.\n",
    "\n",
    "사이파이의 stats 서브 패키지의 ttest_1samp 명령을 사용한다. ttest_1samp 명령의 경우에는 디폴트 모수가 없으므로 기댓값을 나타내는 popmean 인수를 직접 지정해야 한다.\n",
    "\n",
    "scipy.stats.ttest_1samp(a, popmean)\n",
    "\n",
    "a: 표본 데이터 배열\n",
    "popmean: 귀무가설의 기댓값\n",
    "\n",
    "```"
   ]
  },
  {
   "cell_type": "markdown",
   "metadata": {},
   "source": [
    "### 예제\n",
    "\n",
    "    - 데이터 갯수 N = 10, 실제 모수 u = 0인 경우에 대해 단일표본 t검정 실시"
   ]
  },
  {
   "cell_type": "code",
   "execution_count": 94,
   "metadata": {},
   "outputs": [
    {
     "data": {
      "text/plain": [
       "Ttest_1sampResult(statistic=2.28943967238967, pvalue=0.04781846490857058)"
      ]
     },
     "execution_count": 94,
     "metadata": {},
     "output_type": "execute_result"
    }
   ],
   "source": [
    "# 1. 확률변수 생성\n",
    "\n",
    "N = 10\n",
    "mu_0 = 0\n",
    "rv = sp.stats.norm(mu_0)\n",
    "\n",
    "# 2. 샘플링 실시\n",
    "x = rv.rvs(N,random_state=0)\n",
    "\n",
    "# 3. 단일표본 t-검정 실시\n",
    "sp.stats.ttest_1samp(x,popmean=0)   # popmean = 0, 귀무가설의 기댓값\n",
    "\n",
    "# 4. 검정결과\n",
    "# 유의수준보다 낮은 p-value로 귀무가설 기각 가능. 실제 모수가 0 임에도, 0이 아니라고 검정결과가 나옴\n",
    "# type-1 error 발생 (= 귀무가설이 맞음에도 잘못 검정)"
   ]
  },
  {
   "cell_type": "markdown",
   "metadata": {},
   "source": [
    "### 예제\n",
    "\n",
    "    - 데이터 갯수 N = 100, 실제 모수 u = 0인 경우에 대해 단일표본 t검정 실시"
   ]
  },
  {
   "cell_type": "code",
   "execution_count": 95,
   "metadata": {},
   "outputs": [
    {
     "data": {
      "text/plain": [
       "Ttest_1sampResult(statistic=0.5904283402851698, pvalue=0.5562489158694675)"
      ]
     },
     "execution_count": 95,
     "metadata": {},
     "output_type": "execute_result"
    }
   ],
   "source": [
    "# 1. 확률변수 생성\n",
    "\n",
    "N = 100\n",
    "mu_0 = 0  # 실제 모수\n",
    "rv = sp.stats.norm(mu_0)\n",
    "\n",
    "# 2. 샘플링 실시\n",
    "x = rv.rvs(N,random_state=0)\n",
    "\n",
    "# 3. 단일표본 t-검정 실시\n",
    "sp.stats.ttest_1samp(x,popmean=0)  # popmean = 0, 귀무가설의 기댓값\n",
    "\n",
    "# 4. 검정결과\n",
    "# 유의수준보다 p-value가 매우 높음. 귀무가설 기각할 수 없음."
   ]
  },
  {
   "cell_type": "markdown",
   "metadata": {},
   "source": [
    "### Type-1 error : 귀무가설을 잘못 기각 (기각하면 안됨)\n",
    "### Type-2 error : 귀무가설을 잘못 채택 (채택하면 안됨)"
   ]
  },
  {
   "cell_type": "markdown",
   "metadata": {},
   "source": [
    "# 6. 독립표본 t-검정\n",
    "\n",
    "    - 두 개의 독립적인 정규분포의 기댓값이 동일한지 검정\n",
    "    \n",
    "    - 두 분포의 분산이 같을 때, 다를 때 사용하는 검정통계량이 다름\n",
    "        - 등분산 검정 : 두 분포의 분산이 같은지 확인\n",
    "    \n",
    "    \n",
    "    1) 두 정규분포의 분산이 같은 경우\n",
    "    2) 두 정규분포의 분산이 다른 경우\n",
    "    \n",
    "```\n",
    "\n",
    "독립표본 t검정은 사이파이 stats 서브패키지의 ttest_ind 명령을 사용하여 계산. \n",
    "독립표본 t검정은 두 정규분포의 분산값이 같은 경우와 같지 않은 경우에 사용하는 검정통계량이 다르기 때문에 equal_var 인수를 사용하여 이를 지정해 주어야 함. \n",
    "두 분포의 분산이 같은지 다른지는 다음에 나올 등분산검정(equal-variance test)을 사용하면 된다. 만약 잘 모르겠으면 equal_var=False로 놓으면 됨.\n",
    "\n",
    "scipy.stats.ttest_ind(a, b, equal_var=True)\n",
    "\n",
    "a: 1번 표본 집합 데이터\n",
    "b: 2번 표본 집합 데이터\n",
    "equal_var: 두 표본 집합의 분산이 같은경우에는 True\n",
    "    \n",
    "    \n",
    "```"
   ]
  },
  {
   "cell_type": "markdown",
   "metadata": {},
   "source": [
    "### 연습문제\n",
    "\n",
    "1반과 2반 학생 들의 성적이 각각 다음과 같다고 가정하자.\n",
    "\n",
    "- 1반 : 80점, 75점, 85점, 50점, 60점, 75점, 45점, 70점, 90점, 95점, 85점, 80점. 평균 74.1점\n",
    "- 2반 : 80점, 85점, 70점, 80점, 35점, 55점, 80점 . 평균 69.2점\n",
    "\n",
    "1반의 실력이 2반보다 좋다고 이야기 할 수 있는가?"
   ]
  },
  {
   "cell_type": "code",
   "execution_count": 101,
   "metadata": {},
   "outputs": [
    {
     "data": {
      "text/plain": [
       "Ttest_indResult(statistic=0.623010926550264, pvalue=0.5415458608473267)"
      ]
     },
     "execution_count": 101,
     "metadata": {},
     "output_type": "execute_result"
    }
   ],
   "source": [
    "# 1. 1반과 2반의 정규분포를 그렸을 때, 분포의 기댓값이 다른지 확인\n",
    "\n",
    "x1 = [80,75,85,50,60,75,45,70,90,95,85,80]\n",
    "x2 = [80,85,70,80,35,55,80]\n",
    "\n",
    "# 2. 독립표본 t-검정\n",
    "\n",
    "sp.stats.ttest_ind(x1,x2,equal_var=True)\n",
    "\n",
    "# 3. 높은 p-value로, 1반과 2반의 정규분포 상 기댓값이 동일하다는 귀무가설 기각할 수 없음\n",
    "# 따라서, 1반의 실력이 2반보다 좋다고 할 수 없다."
   ]
  },
  {
   "cell_type": "markdown",
   "metadata": {},
   "source": [
    "# 7. 대응표본 t-검정\n",
    "\n",
    "    - 두 개의 독립적인 정규분포의 기댓값이 동일한지 검정\n",
    "    \n",
    "    - 독립표본 t-검정 과 다른점\n",
    "        * 집단의 표본에 대해 paired-two-sample 구성 -> 표본평균 대신, (표본차 평균) 대입\n",
    "        \n",
    "    - ex) A~E라는 학생이, 스쿨 수강 전과 후의 시험성적을 놓고, 수강 전과 후의 시험점수 분포 기댓값이 동일한지 검정하는 것.\n",
    "    이처럼, 스쿨 수강에 따른 1:1 대응(pair) 관계를 알면, 표본간의 차이의 영향을 없앨 수 있음(다른 특강의 영향을 보다 정확히 추정 가능)\n",
    "\n",
    "\n",
    "```\n",
    "\n",
    "\n",
    "대응표본 t검정은 ttest_rel 명령을 사용한다.\n",
    "\n",
    "ttest_rel(a, b)\n",
    "\n",
    "a: 1번 표본 집합 데이터\n",
    "b: 2번 표본 집합 데이터\n",
    "    \n",
    "    \n",
    "```"
   ]
  },
  {
   "cell_type": "markdown",
   "metadata": {},
   "source": [
    "# 8. 등분산검정\n",
    "\n",
    "- 등분산검정 : 독립표본 t-검정 (ttest_ind)을 시행하기 전, 두 분포의 분산이 같은지 검정이 필요. 이때 활용\n",
    "\n",
    "\n",
    "- bartlett, fligner, levene 검정을 주로 사용\n",
    "\n",
    "```\n",
    "\n",
    "\n",
    "사이파이의 stats 서브패키지는 이를 위한 bartlett, fligner, levene 명령을 제공\n",
    "\n",
    "sp.stats.bartlett(x1, x2)\n",
    "sp.stats.fligner(x1, x2)\n",
    "sp.stats.levene(x1, x2)\n",
    "\n",
    "```\n"
   ]
  },
  {
   "cell_type": "markdown",
   "metadata": {},
   "source": [
    "# 9. 정규성 검정\n",
    "\n",
    "```\n",
    "\n",
    "\n",
    "사이파이 에서 제공하는 정규성검정 명령어\n",
    "\n",
    "콜모고로프-스미르노프 검정(Kolmogorov-Smirnov test) : scipy.stats.ks_2samp\n",
    "샤피로-윌크 검정(Shapiro–Wilk test) : scipy.stats.shapiro\n",
    "앤더스-달링 검정(Anderson–Darling test) : scipy.stats.anderson\n",
    "다고스티노 K-제곱 검정(D'Agostino's K-squared test) : scipy.stats.mstats.normaltest\n",
    "\n",
    "\n",
    "StatsModels에서 제공하는 정규성검정 명령어\n",
    "\n",
    "콜모고로프-스미르노프 검정(Kolmogorov-Smirnov test) : statsmodels.stats.diagnostic.kstest_normal\n",
    "옴니버스 검정(Omnibus Normality test) : statsmodels.stats.stattools.omni_normtest\n",
    "자크-베라 검정(Jarque–Bera test) : statsmodels.stats.stattools.jarque_bera\n",
    "릴리포스 검정(Lilliefors test) : statsmodels.stats.diagnostic.lillifors\n",
    "\n",
    "\n",
    "```\n",
    "\n",
    "- 가장 기본적인 검정 : KS검정\n",
    "    * KS검정 : 본래 정규성검정을 위한 것이 아님. 두 표본이 같은 분포를 따르는 지 확인할 수 있는 방법(정규분포를 기준으로 다른 표본의 분포를 비교하여 정규성 검정 진행!)\n"
   ]
  }
 ],
 "metadata": {
  "kernelspec": {
   "display_name": "Python 3",
   "language": "python",
   "name": "python3"
  },
  "language_info": {
   "codemirror_mode": {
    "name": "ipython",
    "version": 3
   },
   "file_extension": ".py",
   "mimetype": "text/x-python",
   "name": "python",
   "nbconvert_exporter": "python",
   "pygments_lexer": "ipython3",
   "version": "3.7.4"
  }
 },
 "nbformat": 4,
 "nbformat_minor": 2
}
