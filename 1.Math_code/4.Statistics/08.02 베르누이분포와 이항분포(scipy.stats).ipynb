{
 "cells": [
  {
   "cell_type": "markdown",
   "metadata": {},
   "source": [
    "# 참고 : 확률분포 그리기\n",
    "\n",
    "```\n",
    "EX) 이항분포\n",
    "\n",
    "1) 샘플링 없는 이론적 분포 그리기\n",
    "\n",
    "    # 1. 확률변수 생성\n",
    "    n = 10\n",
    "    mu = 0.6\n",
    "    rv = sp.stats.binom(n,mu)\n",
    "\n",
    "    # 2. 확률변수 값 생성\n",
    "    x = list(np.arange(1,n+1))\n",
    "\n",
    "    # 3. 확률 값 생성\n",
    "    y = rv.pmf(x)\n",
    "\n",
    "    # 4. 확률분포 그리기\n",
    "    sns.barplot(x,y)\n",
    "\n",
    "\n",
    "2) 샘플링을 통한 시뮬레이션으로 분포 그리기\n",
    "\n",
    "    # 1. 확률변수 생성\n",
    "    n = 10\n",
    "    mu = 0.6\n",
    "    rv = sp.stats.binom(n,mu)\n",
    "\n",
    "    # 2. 샘플링\n",
    "    xx = rv.rvs(100,random_state=0)\n",
    "\n",
    "    # 3. 확률변수 값 생성\n",
    "    x = list(np.arange(0,n+1))\n",
    "\n",
    "    # 4. 확률값 생성\n",
    "    y = np.bincount(xx,minlength=n+1)/len(x)\n",
    "\n",
    "    # 5. 확률분포 그리기\n",
    "    sns.barplot(x,y)\n",
    "\n",
    "\n",
    "```"
   ]
  },
  {
   "cell_type": "markdown",
   "metadata": {},
   "source": [
    "# 1. Scipy.stats를 활용한 베르누이 확률변수 시뮬레이션\n",
    "\n",
    "    - bernoulli클래스는 p(모수)를 인수로 갖는다.\n",
    "    \n",
    "    - 이론적으로 분포를 임의로 그려보기 vs 실제로 확률변수에서 표본을 샘플링 해 분포 그리기"
   ]
  },
  {
   "cell_type": "code",
   "execution_count": 77,
   "metadata": {},
   "outputs": [],
   "source": [
    "# 베르누이 확률분포 모수 mu = 0.6 지정\n",
    "\n",
    "mu = 0.6\n",
    "rv = sp.stats.bernoulli(mu)"
   ]
  },
  {
   "cell_type": "code",
   "execution_count": 78,
   "metadata": {},
   "outputs": [
    {
     "data": {
      "text/plain": [
       "([<matplotlib.axis.XTick at 0x12679f690>,\n",
       "  <matplotlib.axis.XTick at 0x12679f390>],\n",
       " [Text(0, 0, 'x=0'), Text(0, 0, 'x=1')])"
      ]
     },
     "execution_count": 78,
     "metadata": {},
     "output_type": "execute_result"
    },
    {
     "data": {
      "image/png": "[encoded data removed]",
      "text/plain": [
       "<Figure size 432x288 with 1 Axes>"
      ]
     },
     "metadata": {
      "needs_background": "light"
     },
     "output_type": "display_data"
    }
   ],
   "source": [
    "# 베르누이 확률분포 확률질량함수 생성 (1. 이론적으로 분포를 임의로 그려보기)\n",
    "\n",
    "# 1. 베르누이 확률분포 확률변수 값 이진 생성\n",
    "xx = [0,1]\n",
    "\n",
    "# 2. 베르누이 확률분포 pmf 생성\n",
    "plt.bar(xx,rv.pmf(xx))\n",
    "plt.xticks([0, 1], [\"x=0\", \"x=1\"])"
   ]
  },
  {
   "cell_type": "code",
   "execution_count": 110,
   "metadata": {},
   "outputs": [
    {
     "data": {
      "text/plain": [
       "<matplotlib.axes._subplots.AxesSubplot at 0x124ff1a90>"
      ]
     },
     "execution_count": 110,
     "metadata": {},
     "output_type": "execute_result"
    },
    {
     "data": {
      "image/png": "[encoded data removed]",
      "text/plain": [
       "<Figure size 432x288 with 1 Axes>"
      ]
     },
     "metadata": {
      "needs_background": "light"
     },
     "output_type": "display_data"
    }
   ],
   "source": [
    "# 베르누이 확률분포 확률질량함수 생성 (2. 확률변수에서 무작위 샘플링 후 pmf생성 -> 시뮬레이션)\n",
    "\n",
    "# 1. 베르누이 확률분포 확률변수(rv)에서 표본 샘플링(rvs)\n",
    "x = rv.rvs(100,random_state=0)\n",
    "\n",
    "# 2. 표본 값 분포 그리기\n",
    "sns.countplot(x)"
   ]
  },
  {
   "cell_type": "markdown",
   "metadata": {},
   "source": [
    "### 연습문제\n",
    "\n",
    "- **샘플링을 통한 베르누이 분포 그리기** vs **샘플링 없이 이론적으로 베르누이 분포 그리기**\n",
    "\n",
    "\n",
    "- 베르누이 확률분포의 모수가 다음과 같을 경우에 각각 표본을 생성한 후 기댓값과 분산을 구하고 앞의 예제와 같이 확률 밀도 함수와 비교한 바 플롯을 그린다. 표본 개수가 10개인 경우와 1000개인 경우에 대해 각각 위의 계산을 한다.\n",
    "\n",
    "    - (1)  𝜇=0.5 \n",
    "    - (2)  𝜇=0.9"
   ]
  },
  {
   "cell_type": "code",
   "execution_count": 95,
   "metadata": {},
   "outputs": [
    {
     "name": "stdout",
     "output_type": "stream",
     "text": [
      "표본평균 : 0.7, 표본분산 : 0.23333333333333334\n"
     ]
    },
    {
     "data": {
      "text/plain": [
       "<matplotlib.axes._subplots.AxesSubplot at 0x1250dea90>"
      ]
     },
     "execution_count": 95,
     "metadata": {},
     "output_type": "execute_result"
    },
    {
     "data": {
      "image/png": "[encoded data removed]",
      "text/plain": [
       "<Figure size 432x288 with 1 Axes>"
      ]
     },
     "metadata": {
      "needs_background": "light"
     },
     "output_type": "display_data"
    }
   ],
   "source": [
    "# (1) u = 0.5 / 10개 샘플링 분포\n",
    "\n",
    "# 1. 확률변수 생성\n",
    "mu = 0.5\n",
    "rv = sp.stats.bernoulli(mu)\n",
    "\n",
    "# 1. 표본 10개 샘플링\n",
    "xx = rv.rvs(10,random_state=0)\n",
    "\n",
    "# 2. 표본평균, 표본분산 구하기\n",
    "average = xx.mean()\n",
    "var = (xx.std(ddof=1))**2\n",
    "\n",
    "print(\"표본평균 : {}, 표본분산 : {}\".format(average,var))\n",
    "\n",
    "# 3. 샘플링된 표본 분포 그리기\n",
    "x = [0,1]\n",
    "y = np.bincount(xx) / len(xx)\n",
    "sns.barplot(x,y)"
   ]
  },
  {
   "cell_type": "code",
   "execution_count": 93,
   "metadata": {},
   "outputs": [
    {
     "data": {
      "text/plain": [
       "<matplotlib.axes._subplots.AxesSubplot at 0x12438a4d0>"
      ]
     },
     "execution_count": 93,
     "metadata": {},
     "output_type": "execute_result"
    },
    {
     "data": {
      "image/png": "[encoded data removed]",
      "text/plain": [
       "<Figure size 432x288 with 1 Axes>"
      ]
     },
     "metadata": {
      "needs_background": "light"
     },
     "output_type": "display_data"
    }
   ],
   "source": [
    "# (2) u = 0.5 일 때, 이론적 베르누이 분포 pmf (샘플링 x)\n",
    "\n",
    "# 1. 베르누이 확률변수 생성\n",
    "rv = sp.stats.bernoulli(mu)\n",
    "\n",
    "# 2. 샘플링 없이 확률변수 값 생성\n",
    "x = [0,1]\n",
    "\n",
    "# 3. 샘플링 없이 확률값 생성\n",
    "y = rv.pmf(x)\n",
    "\n",
    "# 4. 확률변수값 - 확률값 barplot\n",
    "sns.barplot(x,y)"
   ]
  },
  {
   "cell_type": "code",
   "execution_count": 101,
   "metadata": {},
   "outputs": [
    {
     "data": {
      "text/plain": [
       "<matplotlib.axes._subplots.AxesSubplot at 0x123bbd250>"
      ]
     },
     "execution_count": 101,
     "metadata": {},
     "output_type": "execute_result"
    },
    {
     "data": {
      "image/png": "[encoded data removed]",
      "text/plain": [
       "<Figure size 432x288 with 1 Axes>"
      ]
     },
     "metadata": {
      "needs_background": "light"
     },
     "output_type": "display_data"
    }
   ],
   "source": [
    "# (3) u = 0.5 일 때, 1000개 샘플링 분포\n",
    "\n",
    "# 1. 확률변수 생성\n",
    "mu = 0.5\n",
    "rv = sp.stats.bernoulli(mu)\n",
    "\n",
    "# 2. 1000개 샘플링\n",
    "xx = rv.rvs(1000,random_state=0)\n",
    "\n",
    "# 3. 샘플링된 표본 분포 그리기\n",
    "x = [0,1]\n",
    "y = np.bincount(xx) / len(xx)\n",
    "sns.barplot(x,y)"
   ]
  },
  {
   "cell_type": "code",
   "execution_count": 105,
   "metadata": {},
   "outputs": [
    {
     "data": {
      "text/plain": [
       "<matplotlib.axes._subplots.AxesSubplot at 0x124e9dcd0>"
      ]
     },
     "execution_count": 105,
     "metadata": {},
     "output_type": "execute_result"
    },
    {
     "data": {
      "image/png": "[encoded data removed]",
      "text/plain": [
       "<Figure size 432x288 with 1 Axes>"
      ]
     },
     "metadata": {
      "needs_background": "light"
     },
     "output_type": "display_data"
    }
   ],
   "source": [
    "# (4) u = 0.5 일 때, 1000개 대상 이론적 베르누이 분포 pmf (샘플링 x)\n",
    "\n",
    "# 1. 확률변수 생성\n",
    "mu = 0.5\n",
    "rv = sp.stats.bernoulli(mu)\n",
    "\n",
    "# 2. 샘플링 없이 확률변수 값 생성\n",
    "x = [0,1]\n",
    "\n",
    "# 3. 샘플링 없이 확률값 생성\n",
    "y = rv.pmf(x)\n",
    "\n",
    "# 4. 확률 분포 그리기\n",
    "sns.barplot(x,y)"
   ]
  },
  {
   "cell_type": "code",
   "execution_count": 107,
   "metadata": {},
   "outputs": [
    {
     "data": {
      "text/plain": [
       "<matplotlib.axes._subplots.AxesSubplot at 0x124f2d9d0>"
      ]
     },
     "execution_count": 107,
     "metadata": {},
     "output_type": "execute_result"
    },
    {
     "data": {
      "image/png": "[encoded data removed]",
      "text/plain": [
       "<Figure size 432x288 with 1 Axes>"
      ]
     },
     "metadata": {
      "needs_background": "light"
     },
     "output_type": "display_data"
    }
   ],
   "source": [
    "# (5) u = 0.9 일 때, 10개 샘플링 분포\n",
    "\n",
    "# 1. 확률변수 생성\n",
    "mu = 0.9\n",
    "rv = sp.stats.bernoulli(mu)\n",
    "\n",
    "# 2. 샘플링\n",
    "xx = rv.rvs(10,random_state=0)\n",
    "\n",
    "# 3. 샘플링된 표본 분포 그리기\n",
    "x = [0,1]\n",
    "y = np.bincount(xx) / len(xx)\n",
    "sns.barplot(x,y)"
   ]
  },
  {
   "cell_type": "code",
   "execution_count": 111,
   "metadata": {},
   "outputs": [
    {
     "data": {
      "text/plain": [
       "<matplotlib.axes._subplots.AxesSubplot at 0x1270b6c90>"
      ]
     },
     "execution_count": 111,
     "metadata": {},
     "output_type": "execute_result"
    },
    {
     "data": {
      "image/png": "[encoded data removed]",
      "text/plain": [
       "<Figure size 432x288 with 1 Axes>"
      ]
     },
     "metadata": {
      "needs_background": "light"
     },
     "output_type": "display_data"
    }
   ],
   "source": [
    "# (6) u = 0.9 일 때, 이론적 pmf (샘플링 x)\n",
    "\n",
    "# 1. 확률변수 생성\n",
    "mu = 0.9\n",
    "rv = sp.stats.bernoulli(mu)\n",
    "\n",
    "# 2. 샘플링 없이, 확률변수 값 생성\n",
    "x = [0,1]\n",
    "\n",
    "# 3. 샘플링 없이, 확률값 생성\n",
    "y = rv.pmf(x)\n",
    "\n",
    "# 4. 확률분포 그리기\n",
    "sns.barplot(x,y)"
   ]
  },
  {
   "cell_type": "markdown",
   "metadata": {},
   "source": [
    "# 2. Scipy.stats를 활용한 이항분포 확률변수 시뮬레이션\n",
    "\n",
    "    - bernoulli클래스는 n, p를 모수로하여, 인수를갖는다.\n",
    "    \n",
    "    - 이론적으로 분포를 임의로 그려보기 vs 실제로 확률변수에서 표본을 샘플링 해 분포 그리기"
   ]
  },
  {
   "cell_type": "code",
   "execution_count": 117,
   "metadata": {},
   "outputs": [
    {
     "data": {
      "text/plain": [
       "<matplotlib.axes._subplots.AxesSubplot at 0x12755b7d0>"
      ]
     },
     "execution_count": 117,
     "metadata": {},
     "output_type": "execute_result"
    },
    {
     "data": {
      "image/png": "[encoded data removed]",
      "text/plain": [
       "<Figure size 432x288 with 1 Axes>"
      ]
     },
     "metadata": {
      "needs_background": "light"
     },
     "output_type": "display_data"
    }
   ],
   "source": [
    "# (1)이항분포 확률변수 생성 및 분포 그리기 (샘플링 없이 이론적)\n",
    "\n",
    "# 1. 확률변수 생성\n",
    "n = 10\n",
    "mu = 0.6\n",
    "rv = sp.stats.binom(n,mu)\n",
    "\n",
    "# 2. 확률변수 값 생성\n",
    "x = list(np.arange(1,n+1))\n",
    "\n",
    "# 3. 확률 값 생성\n",
    "y = rv.pmf(x)\n",
    "\n",
    "# 4. 확률분포 그리기\n",
    "sns.barplot(x,y)"
   ]
  },
  {
   "cell_type": "code",
   "execution_count": 243,
   "metadata": {},
   "outputs": [
    {
     "data": {
      "text/plain": [
       "<matplotlib.axes._subplots.AxesSubplot at 0x128e30850>"
      ]
     },
     "execution_count": 243,
     "metadata": {},
     "output_type": "execute_result"
    },
    {
     "data": {
      "image/png": "[encoded data removed]",
      "text/plain": [
       "<Figure size 432x288 with 1 Axes>"
      ]
     },
     "metadata": {
      "needs_background": "light"
     },
     "output_type": "display_data"
    }
   ],
   "source": [
    "# (2)이항분포 확률변수 생성 및 분포 그리기 (샘플링을 통한 시뮬레이션)\n",
    "\n",
    "\n",
    "# 1. 확률변수 생성\n",
    "n = 10\n",
    "mu = 0.6\n",
    "rv = sp.stats.binom(n,mu)\n",
    "\n",
    "# 2. 샘플링\n",
    "xx = rv.rvs(100,random_state=0)\n",
    "\n",
    "# 3. 확률변수 값 생성\n",
    "x = list(np.arange(0,n+1))\n",
    "\n",
    "# 4. 확률값 생성\n",
    "y = np.bincount(xx,minlength=n+1)/len(xx)\n",
    "\n",
    "# 5. 확률분포 그리기\n",
    "sns.barplot(x,y)"
   ]
  },
  {
   "cell_type": "code",
   "execution_count": 244,
   "metadata": {},
   "outputs": [
    {
     "data": {
      "text/html": [
       "<div>\n",
       "<style scoped>\n",
       "    .dataframe tbody tr th:only-of-type {\n",
       "        vertical-align: middle;\n",
       "    }\n",
       "\n",
       "    .dataframe tbody tr th {\n",
       "        vertical-align: top;\n",
       "    }\n",
       "\n",
       "    .dataframe thead th {\n",
       "        text-align: right;\n",
       "    }\n",
       "</style>\n",
       "<table border=\"1\" class=\"dataframe\">\n",
       "  <thead>\n",
       "    <tr style=\"text-align: right;\">\n",
       "      <th></th>\n",
       "      <th>표본값</th>\n",
       "      <th>유형</th>\n",
       "      <th>확률값</th>\n",
       "    </tr>\n",
       "  </thead>\n",
       "  <tbody>\n",
       "    <tr>\n",
       "      <th>0</th>\n",
       "      <td>0</td>\n",
       "      <td>이론</td>\n",
       "      <td>0.000105</td>\n",
       "    </tr>\n",
       "    <tr>\n",
       "      <th>1</th>\n",
       "      <td>0</td>\n",
       "      <td>시뮬레이션</td>\n",
       "      <td>0.000000</td>\n",
       "    </tr>\n",
       "    <tr>\n",
       "      <th>2</th>\n",
       "      <td>1</td>\n",
       "      <td>이론</td>\n",
       "      <td>0.001573</td>\n",
       "    </tr>\n",
       "    <tr>\n",
       "      <th>3</th>\n",
       "      <td>1</td>\n",
       "      <td>시뮬레이션</td>\n",
       "      <td>0.000000</td>\n",
       "    </tr>\n",
       "    <tr>\n",
       "      <th>4</th>\n",
       "      <td>2</td>\n",
       "      <td>이론</td>\n",
       "      <td>0.010617</td>\n",
       "    </tr>\n",
       "    <tr>\n",
       "      <th>5</th>\n",
       "      <td>2</td>\n",
       "      <td>시뮬레이션</td>\n",
       "      <td>0.010000</td>\n",
       "    </tr>\n",
       "    <tr>\n",
       "      <th>6</th>\n",
       "      <td>3</td>\n",
       "      <td>이론</td>\n",
       "      <td>0.042467</td>\n",
       "    </tr>\n",
       "    <tr>\n",
       "      <th>7</th>\n",
       "      <td>3</td>\n",
       "      <td>시뮬레이션</td>\n",
       "      <td>0.040000</td>\n",
       "    </tr>\n",
       "    <tr>\n",
       "      <th>8</th>\n",
       "      <td>4</td>\n",
       "      <td>이론</td>\n",
       "      <td>0.111477</td>\n",
       "    </tr>\n",
       "    <tr>\n",
       "      <th>9</th>\n",
       "      <td>4</td>\n",
       "      <td>시뮬레이션</td>\n",
       "      <td>0.070000</td>\n",
       "    </tr>\n",
       "    <tr>\n",
       "      <th>10</th>\n",
       "      <td>5</td>\n",
       "      <td>이론</td>\n",
       "      <td>0.200658</td>\n",
       "    </tr>\n",
       "    <tr>\n",
       "      <th>11</th>\n",
       "      <td>5</td>\n",
       "      <td>시뮬레이션</td>\n",
       "      <td>0.210000</td>\n",
       "    </tr>\n",
       "    <tr>\n",
       "      <th>12</th>\n",
       "      <td>6</td>\n",
       "      <td>이론</td>\n",
       "      <td>0.250823</td>\n",
       "    </tr>\n",
       "    <tr>\n",
       "      <th>13</th>\n",
       "      <td>6</td>\n",
       "      <td>시뮬레이션</td>\n",
       "      <td>0.270000</td>\n",
       "    </tr>\n",
       "    <tr>\n",
       "      <th>14</th>\n",
       "      <td>7</td>\n",
       "      <td>이론</td>\n",
       "      <td>0.214991</td>\n",
       "    </tr>\n",
       "    <tr>\n",
       "      <th>15</th>\n",
       "      <td>7</td>\n",
       "      <td>시뮬레이션</td>\n",
       "      <td>0.170000</td>\n",
       "    </tr>\n",
       "    <tr>\n",
       "      <th>16</th>\n",
       "      <td>8</td>\n",
       "      <td>이론</td>\n",
       "      <td>0.120932</td>\n",
       "    </tr>\n",
       "    <tr>\n",
       "      <th>17</th>\n",
       "      <td>8</td>\n",
       "      <td>시뮬레이션</td>\n",
       "      <td>0.180000</td>\n",
       "    </tr>\n",
       "    <tr>\n",
       "      <th>18</th>\n",
       "      <td>9</td>\n",
       "      <td>이론</td>\n",
       "      <td>0.040311</td>\n",
       "    </tr>\n",
       "    <tr>\n",
       "      <th>19</th>\n",
       "      <td>9</td>\n",
       "      <td>시뮬레이션</td>\n",
       "      <td>0.040000</td>\n",
       "    </tr>\n",
       "    <tr>\n",
       "      <th>20</th>\n",
       "      <td>10</td>\n",
       "      <td>이론</td>\n",
       "      <td>0.006047</td>\n",
       "    </tr>\n",
       "    <tr>\n",
       "      <th>21</th>\n",
       "      <td>10</td>\n",
       "      <td>시뮬레이션</td>\n",
       "      <td>0.010000</td>\n",
       "    </tr>\n",
       "  </tbody>\n",
       "</table>\n",
       "</div>"
      ],
      "text/plain": [
       "    표본값     유형       확률값\n",
       "0     0     이론  0.000105\n",
       "1     0  시뮬레이션  0.000000\n",
       "2     1     이론  0.001573\n",
       "3     1  시뮬레이션  0.000000\n",
       "4     2     이론  0.010617\n",
       "5     2  시뮬레이션  0.010000\n",
       "6     3     이론  0.042467\n",
       "7     3  시뮬레이션  0.040000\n",
       "8     4     이론  0.111477\n",
       "9     4  시뮬레이션  0.070000\n",
       "10    5     이론  0.200658\n",
       "11    5  시뮬레이션  0.210000\n",
       "12    6     이론  0.250823\n",
       "13    6  시뮬레이션  0.270000\n",
       "14    7     이론  0.214991\n",
       "15    7  시뮬레이션  0.170000\n",
       "16    8     이론  0.120932\n",
       "17    8  시뮬레이션  0.180000\n",
       "18    9     이론  0.040311\n",
       "19    9  시뮬레이션  0.040000\n",
       "20   10     이론  0.006047\n",
       "21   10  시뮬레이션  0.010000"
      ]
     },
     "execution_count": 244,
     "metadata": {},
     "output_type": "execute_result"
    }
   ],
   "source": [
    "df = pd.DataFrame({\"이론\" : rv.pmf(x), \"시뮬레이션\" : y}).stack()\n",
    "df = df.reset_index()\n",
    "df.columns = [\"표본값\", \"유형\", \"확률값\"]\n",
    "df.pivot(\"표본값\",\"유형\",\"확률값\")\n",
    "df"
   ]
  },
  {
   "cell_type": "code",
   "execution_count": 246,
   "metadata": {},
   "outputs": [
    {
     "data": {
      "text/plain": [
       "<matplotlib.axes._subplots.AxesSubplot at 0x1290a8510>"
      ]
     },
     "execution_count": 246,
     "metadata": {},
     "output_type": "execute_result"
    },
    {
     "data": {
      "image/png": "[encoded data removed]",
      "text/plain": [
       "<Figure size 432x288 with 1 Axes>"
      ]
     },
     "metadata": {
      "needs_background": "light"
     },
     "output_type": "display_data"
    }
   ],
   "source": [
    "# 이론 및 시뮬레이션 비교 플롯\n",
    "\n",
    "df = pd.DataFrame({\"이론\" : rv.pmf(x), \"시뮬레이션\" : y}).stack()\n",
    "df = df.reset_index()\n",
    "df.columns = ['표본','유형','확률값']\n",
    "sns.barplot(x=\"표본\",y='확률값',hue='유형',data=df)"
   ]
  },
  {
   "cell_type": "markdown",
   "metadata": {},
   "source": [
    "### 연습문제\n",
    "\n",
    "이항 확률분포의 모수가 다음과 같을 경우에 각각 표본을 생성한 후 기댓값과 분산을 구하고 앞의 예제와 같이 확률밀도함수와 비교한 바 플롯을 그린다.\n",
    "\n",
    "- 표본 개수가 10개인 경우와 1000개인 경우에 대해 각각 위의 계산을 한다.\n",
    "    - (1)  𝜇=0.5 ,  𝑁=5 \n",
    "    - (2)  𝜇=0.9 ,  𝑁=20"
   ]
  },
  {
   "cell_type": "code",
   "execution_count": 262,
   "metadata": {},
   "outputs": [
    {
     "name": "stdout",
     "output_type": "stream",
     "text": [
      "기댓값 : 2.488, 분산 : 1.2771331331331326\n"
     ]
    },
    {
     "data": {
      "text/plain": [
       "<matplotlib.axes._subplots.AxesSubplot at 0x129f0e590>"
      ]
     },
     "execution_count": 262,
     "metadata": {},
     "output_type": "execute_result"
    },
    {
     "data": {
      "image/png": "[encoded data removed]",
      "text/plain": [
       "<Figure size 432x288 with 3 Axes>"
      ]
     },
     "metadata": {
      "needs_background": "light"
     },
     "output_type": "display_data"
    }
   ],
   "source": [
    "# (1) u = 0.5, n=5, 표본 1000개\n",
    "\n",
    "# 1. 확률변수 및 표본 생성\n",
    "n = 5\n",
    "mu = 0.5\n",
    "rv = sp.stats.binom(n,mu)\n",
    "xx = rv.rvs(1000,random_state=0)\n",
    "\n",
    "# 2. 기댓값, 분산 구하기\n",
    "print(\"기댓값 : {}, 분산 : {}\".format(xx.mean(),xx.std(ddof=1)**2))\n",
    "\n",
    "# 3. 시뮬레이션 결과 플롯\n",
    "x = np.arange(0,n+1)\n",
    "y = np.bincount(xx,minlength=n+1)/len(xx)\n",
    "\n",
    "plt.subplot(221)\n",
    "sns.barplot(x,y)\n",
    "\n",
    "#4. 이론적 pmf값 출력\n",
    "yy = rv.pmf(x)\n",
    "\n",
    "plt.subplot(222)\n",
    "sns.barplot(x,yy)\n",
    "\n",
    "#5. 이론, 시뮬레이션 비교\n",
    "df = pd.DataFrame({\"이론\":rv.pmf(x),\"시뮬레이션\":y}).stack()\n",
    "df = df.reset_index()\n",
    "df.columns = [\"표본값\",\"유형\",\"확률값\"]\n",
    "plt.subplot(223)\n",
    "sns.barplot(x=\"표본값\",y=\"확률값\",hue=\"유형\",data=df)"
   ]
  }
 ],
 "metadata": {
  "kernelspec": {
   "display_name": "Python 3",
   "language": "python",
   "name": "python3"
  },
  "language_info": {
   "codemirror_mode": {
    "name": "ipython",
    "version": 3
   },
   "file_extension": ".py",
   "mimetype": "text/x-python",
   "name": "python",
   "nbconvert_exporter": "python",
   "pygments_lexer": "ipython3",
   "version": "3.7.4"
  }
 },
 "nbformat": 4,
 "nbformat_minor": 2
}
