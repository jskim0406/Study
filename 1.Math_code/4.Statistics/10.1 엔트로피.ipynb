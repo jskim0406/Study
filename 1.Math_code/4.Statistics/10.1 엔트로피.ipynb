{
 "cells": [
  {
   "cell_type": "markdown",
   "metadata": {},
   "source": [
    "# 엔트로피\n",
    "\n",
    "```\n",
    "\n",
    "* 엔트로피 : 확률분포가 가지는 정보의 확신도 혹은 정보량을 수치로 표현한 것\n",
    "    확률밀도가 특정 값에 몰려있으면 작은 엔트로피\n",
    "    확률밀도가 골고루 퍼져있으면 큰 엔트로피\n",
    "        \n",
    "* 엔트로피 구하는 패키지\n",
    "\n",
    "    sp.stats.entropy(p, base=2)\n",
    "\n",
    "        \n",
    "        \n",
    "        \n",
    "```"
   ]
  },
  {
   "cell_type": "markdown",
   "metadata": {},
   "source": [
    "### 연습문제\n",
    "\n",
    "- 베르누이분포에서 확률값  𝑃(𝑌=1) 은 0부터 1까지의 값을 가질 수 있다. \n",
    "- 각각의 값에 대해 엔트로피를 계산하여 가로축이  𝑃(𝑌=1) 이고 세로축이  𝐻[𝑌] 인 그래프를 그려라."
   ]
  },
  {
   "cell_type": "code",
   "execution_count": 3,
   "metadata": {},
   "outputs": [
    {
     "data": {
      "text/plain": [
       "[<matplotlib.lines.Line2D at 0x12e25bb10>]"
      ]
     },
     "execution_count": 3,
     "metadata": {},
     "output_type": "execute_result"
    },
    {
     "data": {
      "image/png": "[encoded data removed]",
      "text/plain": [
       "<Figure size 432x288 with 1 Axes>"
      ]
     },
     "metadata": {
      "needs_background": "light"
     },
     "output_type": "display_data"
    }
   ],
   "source": [
    "# 가로축 = 가능한 베르누이 확률값 지정\n",
    "p_y = np.linspace(0.001,1-0.001,10000)\n",
    "\n",
    "# 세로축 = 엔트로피 값 계산\n",
    "H = -(p_y*np.log2(p_y)*p_y + (1-p_y)*np.log2(1-p_y)*(1-p_y))\n",
    "\n",
    "# 그래프 그리기\n",
    "plt.plot(p_y,H)"
   ]
  },
  {
   "cell_type": "markdown",
   "metadata": {},
   "source": [
    "### 연습문제\n",
    "\n",
    "(1) 데이터가 모두 60개가 있고 그 중  𝑌=0 인 데이터가 20개,  𝑌=1 인 데이터가 40개 있는 경우의 엔트로피를 계산하라.\n",
    "\n",
    "(2) 데이터가 모두 40개가 있고 그 중  𝑌=0 인 데이터가 30개,  𝑌=1 인 데이터가 10개 있는 경우의 엔트로피를 계산하라.\n",
    "\n",
    "(3) 데이터가 모두 20개가 있고 그 중  𝑌=0 인 데이터만 20개 있는 경우의 엔트로피를 계산하라."
   ]
  },
  {
   "cell_type": "code",
   "execution_count": 4,
   "metadata": {},
   "outputs": [
    {
     "data": {
      "text/plain": [
       "0.9182958340544894"
      ]
     },
     "execution_count": 4,
     "metadata": {},
     "output_type": "execute_result"
    }
   ],
   "source": [
    "# (1) N = 60, 20 / 40 개, 엔트로피 계산\n",
    "\n",
    "p = [2/6,  4/6]\n",
    "sp.stats.entropy(p, base=2)"
   ]
  },
  {
   "cell_type": "code",
   "execution_count": 6,
   "metadata": {},
   "outputs": [
    {
     "data": {
      "text/plain": [
       "0.8112781244591328"
      ]
     },
     "execution_count": 6,
     "metadata": {},
     "output_type": "execute_result"
    }
   ],
   "source": [
    "# (2) N = 40, 30 / 10 개, 엔트로피 계산\n",
    "\n",
    "p = [3/4,1/4]\n",
    "sp.stats.entropy(p, base=2)"
   ]
  },
  {
   "cell_type": "code",
   "execution_count": 7,
   "metadata": {},
   "outputs": [
    {
     "data": {
      "text/plain": [
       "0.0"
      ]
     },
     "execution_count": 7,
     "metadata": {},
     "output_type": "execute_result"
    }
   ],
   "source": [
    "# (3) N = 20, 20 / 0 개, 엔트로피 계산\n",
    "\n",
    "p = [1,0]\n",
    "sp.stats.entropy(p,base=2)"
   ]
  },
  {
   "cell_type": "markdown",
   "metadata": {},
   "source": [
    "# 1. 가변길이 인코딩\n",
    "\n",
    "```\n",
    "\n",
    "    - 엔트로피 : 본래 통신분야에서 데이터가 가지고 있는 정보량을 계산하기 위해 고안\n",
    "    \n",
    "    - 가변길이 인코딩 : 글자마다 인코딩하는 숫자가 다르기 때문에 '가변길이 인코딩'\n",
    "    - 자주 나오는 글자, 데이터는 인코딩 시, 작은 수로 인코딩!\n",
    "      ex) A = '0', B = '10', C = '110', D = '111'\n",
    "    - 그 결과, 인코딩 결과 글자수가 줄어드는 효과\n",
    "    \n",
    "    - 가변길이 인코딩 결과 글자수 (전달되는) = 본래 글자수 * 엔트로피\n",
    "        *엔트로피 : 각 글자들의 확률값의 엔트로피 그대로 계산\n",
    "    \n",
    "```    "
   ]
  },
  {
   "cell_type": "markdown",
   "metadata": {},
   "source": [
    "### 연습문제"
   ]
  },
  {
   "cell_type": "markdown",
   "metadata": {},
   "source": [
    "```\n",
    "A, B, C, D, E, F, G, H의 8글자로 이루어진 문서가 있고 각각의 글자가 나올 확률이 다음과 같다고 가정하자.\n",
    "\n",
    "{1/2, 1/4, 1/8, 1/16, 1/64, 1/64, 1/64, 1/64}\n",
    "\n",
    "이 문서를 위한 가변길이 인코딩 방식을 서술하고 한 글자를 인코딩하는데 필요한 평균 비트수를 계산하라.\n",
    "\n",
    "* 확률에 따른, 빈도수 별 알파벳 나열 : A > B > C > D > E, F, G, H\n",
    "* 빈도수에 따른 가변길이 인코딩 실시\n",
    "\n",
    "A = 0  *1비트\n",
    "B = 10  *2비트\n",
    "C = 110  *3비트\n",
    "D = 1110  *4비트\n",
    "E = 111100  *6비트\n",
    "F = 111101\n",
    "G = 111110\n",
    "H = 111111\n",
    "\n",
    "```"
   ]
  },
  {
   "cell_type": "code",
   "execution_count": 10,
   "metadata": {},
   "outputs": [
    {
     "data": {
      "text/plain": [
       "16.0"
      ]
     },
     "execution_count": 10,
     "metadata": {},
     "output_type": "execute_result"
    }
   ],
   "source": [
    "# 1. 알파벳 별(변수 별) 확률값의 엔트로피 생성\n",
    "H = sp.stats.entropy([1/2, 1/4, 1/8, 1/16, 1/64, 1/64, 1/64, 1/64], base=2)\n",
    "\n",
    "# 2. 가변길이 인코딩 결과 글자 수 \n",
    "result = 8 * H\n",
    "result"
   ]
  }
 ],
 "metadata": {
  "kernelspec": {
   "display_name": "Python 3",
   "language": "python",
   "name": "python3"
  },
  "language_info": {
   "codemirror_mode": {
    "name": "ipython",
    "version": 3
   },
   "file_extension": ".py",
   "mimetype": "text/x-python",
   "name": "python",
   "nbconvert_exporter": "python",
   "pygments_lexer": "ipython3",
   "version": "3.7.4"
  }
 },
 "nbformat": 4,
 "nbformat_minor": 2
}
