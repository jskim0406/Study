{
 "cells": [
  {
   "cell_type": "markdown",
   "metadata": {},
   "source": [
    "### 1. 그래프 : Set of Vertex(vertices) and Edge\n",
    "\n",
    "- python package : networkx"
   ]
  },
  {
   "cell_type": "code",
   "execution_count": 8,
   "metadata": {},
   "outputs": [],
   "source": [
    "import networkx as nx\n",
    "g1 = nx.DiGraph()"
   ]
  },
  {
   "cell_type": "code",
   "execution_count": 9,
   "metadata": {},
   "outputs": [
    {
     "data": {
      "text/plain": [
       "NodeView(('a', 1, 2))"
      ]
     },
     "execution_count": 9,
     "metadata": {},
     "output_type": "execute_result"
    }
   ],
   "source": [
    "g1.add_node(\"a\")\n",
    "g1.add_node(1)\n",
    "g1.add_node(2)\n",
    "g1.nodes()"
   ]
  },
  {
   "cell_type": "code",
   "execution_count": 10,
   "metadata": {},
   "outputs": [
    {
     "data": {
      "text/plain": [
       "OutEdgeView([(1, 'a'), (1, 2)])"
      ]
     },
     "execution_count": 10,
     "metadata": {},
     "output_type": "execute_result"
    }
   ],
   "source": [
    "g1.add_edge(1,\"a\")\n",
    "g1.add_edge(1,2)\n",
    "g1.edges()"
   ]
  },
  {
   "cell_type": "code",
   "execution_count": 11,
   "metadata": {},
   "outputs": [],
   "source": [
    "import graphviz\n",
    "import pydot"
   ]
  },
  {
   "cell_type": "code",
   "execution_count": 14,
   "metadata": {},
   "outputs": [],
   "source": [
    "# from IPython.core.display import Image\n",
    "# from networkx.drawing.nx_pydot import to_pydot\n",
    "\n",
    "# d1 = to_pydot(g1)\n",
    "# d1.set_dpi(300)\n",
    "# d1.set_rankdir(\"LR\")\n",
    "# d1.set_margin(1)\n",
    "# Image(d1.create_png(),width=300)"
   ]
  },
  {
   "cell_type": "code",
   "execution_count": 13,
   "metadata": {},
   "outputs": [
    {
     "data": {
      "text/plain": [
       "3"
      ]
     },
     "execution_count": 13,
     "metadata": {},
     "output_type": "execute_result"
    }
   ],
   "source": [
    "len(g1)"
   ]
  },
  {
   "cell_type": "code",
   "execution_count": 15,
   "metadata": {},
   "outputs": [
    {
     "name": "stdout",
     "output_type": "stream",
     "text": [
      "a\n",
      "2\n"
     ]
    }
   ],
   "source": [
    "for n in g1.neighbors(1):\n",
    "    print(n)"
   ]
  },
  {
   "cell_type": "code",
   "execution_count": 18,
   "metadata": {},
   "outputs": [
    {
     "data": {
      "text/plain": [
       "(True, False, False, True)"
      ]
     },
     "execution_count": 18,
     "metadata": {},
     "output_type": "execute_result"
    }
   ],
   "source": [
    "2 in g1.neighbors(1), 1 in g1.neighbors(2), \"a\" in g1.neighbors(2), \"a\" in g1.neighbors(1)"
   ]
  },
  {
   "cell_type": "markdown",
   "metadata": {},
   "source": [
    "### 1. 워크 : 다른 노드로 도달하기 위한 인접한 노드의 순서열\n",
    "### 2. 패스 : 워크 중 동일한 노드를 중복하지 않는 순서열\n",
    "### 3. 사이클 : 패스 중 시작점 = 끝점\n",
    "### 4. 어사이클릭 그래프 : 사이클이 없는 그래프"
   ]
  },
  {
   "cell_type": "code",
   "execution_count": 23,
   "metadata": {},
   "outputs": [],
   "source": [
    "g3 = nx.Graph()\n",
    "g3.add_node(\"a\")\n",
    "g3.add_node(\"b\")\n",
    "g3.add_node(\"c\")\n",
    "g3.add_node(\"d\")\n",
    "g3.add_node(\"e\")\n",
    "g3.add_node(\"f\")\n",
    "g3.add_edge(\"a\", \"b\")\n",
    "g3.add_edge(\"a\", \"c\")\n",
    "g3.add_edge(\"b\", \"c\")\n",
    "g3.add_edge(\"c\", \"d\")\n",
    "g3.add_edge(\"d\", \"e\")\n",
    "g3.add_edge(\"c\", \"e\")"
   ]
  },
  {
   "cell_type": "code",
   "execution_count": 29,
   "metadata": {},
   "outputs": [],
   "source": [
    "# 두 노드 간 패스 존재 여부 확인 : has_path, shortest_path"
   ]
  },
  {
   "cell_type": "code",
   "execution_count": 25,
   "metadata": {
    "scrolled": true
   },
   "outputs": [
    {
     "data": {
      "text/plain": [
       "True"
      ]
     },
     "execution_count": 25,
     "metadata": {},
     "output_type": "execute_result"
    }
   ],
   "source": [
    "nx.has_path(g3, \"a\", \"b\")"
   ]
  },
  {
   "cell_type": "code",
   "execution_count": 26,
   "metadata": {},
   "outputs": [
    {
     "data": {
      "text/plain": [
       "True"
      ]
     },
     "execution_count": 26,
     "metadata": {},
     "output_type": "execute_result"
    }
   ],
   "source": [
    "nx.has_path(g3, \"a\", \"e\")"
   ]
  },
  {
   "cell_type": "code",
   "execution_count": 27,
   "metadata": {},
   "outputs": [
    {
     "data": {
      "text/plain": [
       "False"
      ]
     },
     "execution_count": 27,
     "metadata": {},
     "output_type": "execute_result"
    }
   ],
   "source": [
    "nx.has_path(g3, \"a\", \"f\")"
   ]
  },
  {
   "cell_type": "code",
   "execution_count": 28,
   "metadata": {},
   "outputs": [
    {
     "data": {
      "text/plain": [
       "['a', 'c', 'e']"
      ]
     },
     "execution_count": 28,
     "metadata": {},
     "output_type": "execute_result"
    }
   ],
   "source": [
    "nx.shortest_path(g3,\"a\",\"e\")"
   ]
  },
  {
   "cell_type": "markdown",
   "metadata": {},
   "source": [
    "### 5. 클리크 : 모든 노드끼리 edge 존재하면 그 노드 집합을 클리크라고 함\n",
    "\n",
    "- 최대 클리크 : 클리크에 인접한 노드를 하나 더 추가시, 클리크가 깨지면 최대클리크 라고 한다."
   ]
  },
  {
   "cell_type": "code",
   "execution_count": 30,
   "metadata": {},
   "outputs": [],
   "source": [
    "g4 = nx.Graph()\n",
    "g4.add_node(\"a\")\n",
    "g4.add_node(\"b\")\n",
    "g4.add_node(\"c\")\n",
    "g4.add_node(\"d\")\n",
    "g4.add_node(\"e\")\n",
    "g4.add_node(\"f\")\n",
    "g4.add_edge(\"a\", \"b\")\n",
    "g4.add_edge(\"a\", \"c\")\n",
    "g4.add_edge(\"b\", \"c\")\n",
    "g4.add_edge(\"b\", \"d\")\n",
    "g4.add_edge(\"c\", \"d\")\n",
    "g4.add_edge(\"d\", \"e\")\n",
    "g4.add_edge(\"d\", \"f\")\n",
    "g4.add_edge(\"e\", \"f\")"
   ]
  },
  {
   "cell_type": "markdown",
   "metadata": {},
   "source": [
    "클리크를 찾는 명령\n",
    "\n",
    "- cliques_containing_node( )\n",
    "- enumerate_all_cliques( ) : 모든 클리크 찾기\n",
    "- find_cliques( ) : 모든 최대 클리크 찾기"
   ]
  },
  {
   "cell_type": "code",
   "execution_count": 32,
   "metadata": {},
   "outputs": [
    {
     "data": {
      "text/plain": [
       "{'a': [['a', 'b', 'c']]}"
      ]
     },
     "execution_count": 32,
     "metadata": {},
     "output_type": "execute_result"
    }
   ],
   "source": [
    "nx.cliques_containing_node(g4,[\"a\"])"
   ]
  },
  {
   "cell_type": "code",
   "execution_count": 34,
   "metadata": {},
   "outputs": [
    {
     "data": {
      "text/plain": [
       "[['a'],\n",
       " ['b'],\n",
       " ['c'],\n",
       " ['d'],\n",
       " ['e'],\n",
       " ['f'],\n",
       " ['a', 'b'],\n",
       " ['a', 'c'],\n",
       " ['b', 'c'],\n",
       " ['b', 'd'],\n",
       " ['c', 'd'],\n",
       " ['d', 'e'],\n",
       " ['d', 'f'],\n",
       " ['e', 'f'],\n",
       " ['a', 'b', 'c'],\n",
       " ['b', 'c', 'd'],\n",
       " ['d', 'e', 'f']]"
      ]
     },
     "execution_count": 34,
     "metadata": {},
     "output_type": "execute_result"
    }
   ],
   "source": [
    "[c for c in nx.enumerate_all_cliques(g4)]"
   ]
  },
  {
   "cell_type": "code",
   "execution_count": 35,
   "metadata": {},
   "outputs": [
    {
     "data": {
      "text/plain": [
       "[['a', 'b', 'c'], ['d', 'f', 'e'], ['d', 'c', 'b']]"
      ]
     },
     "execution_count": 35,
     "metadata": {},
     "output_type": "execute_result"
    }
   ],
   "source": [
    "[c for c in nx.find_cliques(g4)]"
   ]
  }
 ],
 "metadata": {
  "kernelspec": {
   "display_name": "Python 3",
   "language": "python",
   "name": "python3"
  },
  "language_info": {
   "codemirror_mode": {
    "name": "ipython",
    "version": 3
   },
   "file_extension": ".py",
   "mimetype": "text/x-python",
   "name": "python",
   "nbconvert_exporter": "python",
   "pygments_lexer": "ipython3",
   "version": "3.7.4"
  }
 },
 "nbformat": 4,
 "nbformat_minor": 4
}
