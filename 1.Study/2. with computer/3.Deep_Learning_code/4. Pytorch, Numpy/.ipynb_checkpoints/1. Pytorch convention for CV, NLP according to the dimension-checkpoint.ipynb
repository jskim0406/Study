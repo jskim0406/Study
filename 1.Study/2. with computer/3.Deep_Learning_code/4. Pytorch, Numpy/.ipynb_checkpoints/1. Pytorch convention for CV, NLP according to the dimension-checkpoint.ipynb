{
 "cells": [
  {
   "cell_type": "code",
   "execution_count": 1,
   "metadata": {},
   "outputs": [],
   "source": [
    "import torch"
   ]
  },
  {
   "cell_type": "markdown",
   "metadata": {},
   "source": [
    "# 1. PyTorch Tensor Shape Convention"
   ]
  },
  {
   "cell_type": "markdown",
   "metadata": {},
   "source": [
    "## 1) 2-D tensor convention\n",
    "\n",
    "$$|t| = (batch\\_size, dim)$$\n",
    "\n",
    "- 행의 크기 : batch-size\n",
    "- 열의 크기 : dim"
   ]
  },
  {
   "cell_type": "markdown",
   "metadata": {},
   "source": [
    "- ex) 2x3 텐서라면, 파이토치에선 |t| = (2,3) = (batch size = 2, dim = 3) 이라 표현한다.\n",
    "\n",
    "```\n",
    "만약,\n",
    "\n",
    "데이터 갯수 : 3,000\n",
    "데이터의 feature 수 : 256\n",
    "\n",
    "matrix = (3000, 256) ==>> batch-size = 3,000, dim = 256\n",
    "\n",
    "하지만,\n",
    "**컴퓨터는 보통 데이터를 하나씩 보다는 묶어서 한번에 처리하는 경우가 많음**\n",
    "데이터를 한 번에 30개씩 묶어서 처리한다면(batch-size)\n",
    "컴퓨터가 한번에 처리하는 텐서의 사이즈는\n",
    "\n",
    "|t| = (30,256) ==>> batch-size = 30, dim = 256\n",
    "\n",
    "이 된다.\n",
    "```"
   ]
  },
  {
   "cell_type": "markdown",
   "metadata": {},
   "source": [
    "## 2) 3-D tensor convention : typical computer vision\n",
    "\n",
    "$$|t| = (batch\\_size, width, height)$$\n"
   ]
  },
  {
   "cell_type": "markdown",
   "metadata": {},
   "source": [
    "## 3) 3-D tensor convention : typical natural language processing\n",
    "\n",
    "$$|t| = (batch\\_size, length, dim)$$\n",
    "\n",
    "- batch_size\n",
    "- length : 문장의 길이\n",
    "- dim : 단어 벡터의 차원"
   ]
  },
  {
   "cell_type": "markdown",
   "metadata": {},
   "source": [
    "### 3-1) NLP tensor practice"
   ]
  },
  {
   "cell_type": "markdown",
   "metadata": {},
   "source": [
    "**전처리**\n",
    "- 단어 단위로 전환 : 하나의 문장이 row, 문장 내 단어가 columns 생성"
   ]
  },
  {
   "cell_type": "code",
   "execution_count": 11,
   "metadata": {},
   "outputs": [],
   "source": [
    "# 컴퓨터는 아직 '나는', '사과를' 등을 단어로 구분하지 못함. 따라서, 이를 나눠주는 전처리 작업 필요\n",
    "data = [['나는 사과를 좋아해'], ['나는 바나나를 좋아해'], ['나는 사과를 싫어해'], ['나는 바나나를 싫어해']]"
   ]
  },
  {
   "cell_type": "code",
   "execution_count": 12,
   "metadata": {},
   "outputs": [],
   "source": [
    "# 다음과 같이 전처리 작업 필요\n",
    "# 아래와 같이 4x3 tensor 가 됨\n",
    "data = [['나는', '사과를', '좋아해'], ['나는', '바나나를', '좋아해'], ['나는', '사과를', '싫어해'], ['나는', '바나나를', '싫어해']]"
   ]
  },
  {
   "cell_type": "code",
   "execution_count": 13,
   "metadata": {},
   "outputs": [
    {
     "data": {
      "text/plain": [
       "[['나는', '사과를', '좋아해'],\n",
       " ['나는', '바나나를', '좋아해'],\n",
       " ['나는', '사과를', '싫어해'],\n",
       " ['나는', '바나나를', '싫어해']]"
      ]
     },
     "execution_count": 13,
     "metadata": {},
     "output_type": "execute_result"
    }
   ],
   "source": [
    "data"
   ]
  },
  {
   "cell_type": "markdown",
   "metadata": {},
   "source": [
    "**단어 -> 숫자 벡터로 변환**\n",
    "```python\n",
    "'나는' = [0.1, 0.2, 0.9]\n",
    "'사과를' = [0.3, 0.5, 0.1]\n",
    "'바나나를' = [0.3, 0.5, 0.2]\n",
    "'좋아해' = [0.7, 0.6, 0.5]\n",
    "'싫어해' = [0.5, 0.6, 0.7]\n",
    "```"
   ]
  },
  {
   "cell_type": "code",
   "execution_count": 14,
   "metadata": {},
   "outputs": [],
   "source": [
    "data = [[[0.1, 0.2, 0.9], [0.3, 0.5, 0.1], [0.7, 0.6, 0.5]],\n",
    " [[0.1, 0.2, 0.9], [0.3, 0.5, 0.2], [0.7, 0.6, 0.5]],\n",
    " [[0.1, 0.2, 0.9], [0.3, 0.5, 0.1], [0.5, 0.6, 0.7]],\n",
    " [[0.1, 0.2, 0.9], [0.3, 0.5, 0.2], [0.5, 0.6, 0.7]]]"
   ]
  },
  {
   "cell_type": "code",
   "execution_count": 16,
   "metadata": {},
   "outputs": [
    {
     "data": {
      "text/plain": [
       "[[[0.1, 0.2, 0.9], [0.3, 0.5, 0.1], [0.7, 0.6, 0.5]],\n",
       " [[0.1, 0.2, 0.9], [0.3, 0.5, 0.2], [0.7, 0.6, 0.5]],\n",
       " [[0.1, 0.2, 0.9], [0.3, 0.5, 0.1], [0.5, 0.6, 0.7]],\n",
       " [[0.1, 0.2, 0.9], [0.3, 0.5, 0.2], [0.5, 0.6, 0.7]]]"
      ]
     },
     "execution_count": 16,
     "metadata": {},
     "output_type": "execute_result"
    }
   ],
   "source": [
    "# 이제, (4x3)x3 tensor 가 됨 (3-D tensor)\n",
    "data"
   ]
  },
  {
   "cell_type": "markdown",
   "metadata": {},
   "source": [
    "**mini-batch size**\n",
    "- 컴퓨터 연산 수행 단위인 batch size로 데이터 분할"
   ]
  },
  {
   "cell_type": "code",
   "execution_count": 18,
   "metadata": {},
   "outputs": [],
   "source": [
    "# batch size : 2 라면\n",
    "# 1 batch -> (2x3)x3 = batch_size, length, dim\n",
    "data_1 = [[[0.1, 0.2, 0.9], [0.3, 0.5, 0.1], [0.7, 0.6, 0.5]],\n",
    " [[0.1, 0.2, 0.9], [0.3, 0.5, 0.2], [0.7, 0.6, 0.5]]]\n",
    "\n",
    "# 2 batch -> (2x3)x3 = batch_size, length, dim\n",
    "data_2 = [[[0.1, 0.2, 0.9], [0.3, 0.5, 0.1], [0.5, 0.6, 0.7]],\n",
    " [[0.1, 0.2, 0.9], [0.3, 0.5, 0.2], [0.5, 0.6, 0.7]]]"
   ]
  },
  {
   "cell_type": "markdown",
   "metadata": {},
   "source": [
    "**결국 NLP의 3-D tensors는**\n",
    "\n",
    "$$|t| = (mini\\_batch\\_size, length\\_of\\_sentence, dim\\_of\\_word)$$\n",
    "\n",
    "로 정의된다."
   ]
  }
 ],
 "metadata": {
  "kernelspec": {
   "display_name": "Python 3",
   "language": "python",
   "name": "python3"
  },
  "language_info": {
   "codemirror_mode": {
    "name": "ipython",
    "version": 3
   },
   "file_extension": ".py",
   "mimetype": "text/x-python",
   "name": "python",
   "nbconvert_exporter": "python",
   "pygments_lexer": "ipython3",
   "version": "3.7.4"
  }
 },
 "nbformat": 4,
 "nbformat_minor": 4
}
