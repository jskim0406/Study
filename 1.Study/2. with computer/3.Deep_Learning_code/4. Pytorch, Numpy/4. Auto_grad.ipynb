{
 "cells": [
  {
   "cell_type": "markdown",
   "metadata": {},
   "source": [
    "pytorch의 경사하강법(gradient descent) 코드를 보고 있으면\n",
    "```\n",
    "0. cost 계산\n",
    "1. optimizer = optim.SGD([w,b],lr)\n",
    "2. optimizer.zero_grad()\n",
    "3. cost.backward()\n",
    "4. optimizer.step()\n",
    "```\n",
    "이 나온다.\n",
    "\n",
    "이 중\n",
    "```\n",
    "requires_grad=True\n",
    ".backward()\n",
    "```\n",
    "는 pytorch가 Auto_grad를 하는 것을 의미한다.\n",
    "(backpropagation에서 auto_grad가 작동하니까..)"
   ]
  },
  {
   "cell_type": "markdown",
   "metadata": {},
   "source": [
    "### 1) Auto grad 실습\n",
    "\n",
    "- requires_grad = True : 해당 텐서의 기울기를 저장하겠다는 의미\n",
    "```python\n",
    "w = torch.tensor(2.0, requires_grad=True)\n",
    "```\n",
    "이렇게 하면, w.grad 에 미분한 기울기가 저장된다.\n",
    "\n",
    "\n",
    "- .backward() : 미분해 기울기 계산\n"
   ]
  },
  {
   "cell_type": "code",
   "execution_count": 3,
   "metadata": {},
   "outputs": [],
   "source": [
    "import torch\n",
    "\n",
    "w = torch.tensor(2.0,requires_grad=True)\n",
    "\n",
    "y = w**2\n",
    "\n",
    "z = 2*y + 2\n",
    "\n",
    "z.backward() # z의 미분을 통해 gradient 값 계산(dz/dw, w <= requires_grad)"
   ]
  },
  {
   "cell_type": "code",
   "execution_count": 4,
   "metadata": {},
   "outputs": [
    {
     "name": "stdout",
     "output_type": "stream",
     "text": [
      "tensor(8.)\n"
     ]
    }
   ],
   "source": [
    "print(w.grad)"
   ]
  }
 ],
 "metadata": {
  "kernelspec": {
   "display_name": "Python 3",
   "language": "python",
   "name": "python3"
  },
  "language_info": {
   "codemirror_mode": {
    "name": "ipython",
    "version": 3
   },
   "file_extension": ".py",
   "mimetype": "text/x-python",
   "name": "python",
   "nbconvert_exporter": "python",
   "pygments_lexer": "ipython3",
   "version": "3.7.4"
  }
 },
 "nbformat": 4,
 "nbformat_minor": 4
}
