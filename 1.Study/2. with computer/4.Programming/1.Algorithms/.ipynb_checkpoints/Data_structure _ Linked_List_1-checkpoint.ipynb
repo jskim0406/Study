{
 "cells": [
  {
   "cell_type": "markdown",
   "metadata": {},
   "source": [
    "# Linked list\n",
    "\n",
    "- 배열의 단점을 보완\n",
    "- 배열의 단점 : 미리 연결된 공간을 예약해놓고 거기서 데이터 쓰고 읽음(**추가/제거가 어려움**)\n",
    "- 링크드 리스트 : 미리 예약x. 필요할 때마다 데이터를 추가 제거 할 수 있는 구조\n",
    "\n",
    "* 링크드 리스트 기본 구조와 용어\n",
    "  - 노드(Node): 데이터 저장 단위 (데이터값, 포인터) 로 구성\n",
    "  - 포인터(pointer): 각 노드 안에서, 다음이나 이전의 노드와의 연결 정보를 가지고 있는 공간\n",
    "\n",
    "<br>\n",
    "* 일반적인 링크드 리스트 형태\n",
    "\n",
    "<img src=\"https://www.fun-coding.org/00_Images/linkedlist.png\" />\n",
    "(출처: wikipedia, https://en.wikipedia.org/wiki/Linked_list)\n",
    "\n",
    "* 장점\n",
    "  - 미리 데이터 공간을 미리 할당하지 않아도 됨\n",
    "    - 배열은 **미리 데이터 공간을 할당** 해야 함\n",
    "* 단점\n",
    "  - 연결을 위한 별도 데이터 공간이 필요하므로, 저장공간 효율이 높지 않음\n",
    "  - 연결 정보를 찾는 시간이 필요하므로 접근 속도가 느림\n",
    "  - 중간 데이터 삭제시, 앞뒤 데이터의 연결을 재구성해야 하는 부가적인 작업 필요"
   ]
  },
  {
   "cell_type": "markdown",
   "metadata": {},
   "source": [
    "# 1. Linked list 객체 생성 \n",
    "\n",
    "- class 사용"
   ]
  },
  {
   "cell_type": "code",
   "execution_count": 6,
   "metadata": {},
   "outputs": [],
   "source": [
    "class Node:\n",
    "    def __init__(self,data,next=None):\n",
    "        self.data = data\n",
    "        self.next = next"
   ]
  },
  {
   "cell_type": "code",
   "execution_count": 7,
   "metadata": {},
   "outputs": [
    {
     "name": "stdout",
     "output_type": "stream",
     "text": [
      "1\n",
      "\n",
      "None\n"
     ]
    }
   ],
   "source": [
    "node1 = Node(1)\n",
    "print(node1.data,node1.next,sep='\\n\\n')"
   ]
  },
  {
   "cell_type": "markdown",
   "metadata": {},
   "source": [
    "# 2. Linked list 객체 간 연결"
   ]
  },
  {
   "cell_type": "code",
   "execution_count": 15,
   "metadata": {},
   "outputs": [
    {
     "name": "stdout",
     "output_type": "stream",
     "text": [
      "1\n",
      "2\n"
     ]
    }
   ],
   "source": [
    "node1 = Node(1)\n",
    "node2 = Node(2)\n",
    "node1.next = node2\n",
    "\n",
    "head = node1\n",
    "node = head\n",
    "\n",
    "while node.next:\n",
    "    print(node.data)\n",
    "    node = node.next\n",
    "print(node.data)"
   ]
  },
  {
   "cell_type": "markdown",
   "metadata": {},
   "source": [
    "# 3. Linked list 객체 추가\n",
    "\n",
    "- 마지막 node에 추가\n",
    "- add 함수 구현"
   ]
  },
  {
   "cell_type": "code",
   "execution_count": 16,
   "metadata": {},
   "outputs": [
    {
     "name": "stdout",
     "output_type": "stream",
     "text": [
      "1\n",
      "2\n",
      "3\n"
     ]
    }
   ],
   "source": [
    "# 1. 마지막 node 탐색\n",
    "head = node1\n",
    "node = head\n",
    "\n",
    "while node.next:\n",
    "    node = node.next\n",
    "    \n",
    "# 2. 마지막node.next = 새로운 객체\n",
    "node.next = Node(3)\n",
    "\n",
    "# 3. 순회출력으로 추가된 것 확인\n",
    "head = node1\n",
    "node = head\n",
    "\n",
    "while node.next:\n",
    "    print(node.data)\n",
    "    node = node.next\n",
    "print(node.data)"
   ]
  },
  {
   "cell_type": "markdown",
   "metadata": {},
   "source": [
    "# 4. node와 node 사이 객체 추가\n",
    "\n",
    "- 2.5를 2와 3사이 추가"
   ]
  },
  {
   "cell_type": "code",
   "execution_count": null,
   "metadata": {},
   "outputs": [],
   "source": [
    "head = node1\n",
    "node = head\n",
    "\n",
    "while node.next:\n",
    "    print(node.data)\n",
    "    node = node.next\n",
    "print(node.data)"
   ]
  },
  {
   "cell_type": "code",
   "execution_count": null,
   "metadata": {},
   "outputs": [],
   "source": [
    "node_between = Node(2.5)\n",
    "node_between.data"
   ]
  },
  {
   "cell_type": "code",
   "execution_count": 21,
   "metadata": {},
   "outputs": [],
   "source": [
    "# node 추가 및 경로 조정\n",
    "head = node1\n",
    "node = head\n",
    "\n",
    "search = True\n",
    "while search:\n",
    "    if node.data == 2:\n",
    "        search = False\n",
    "    else:\n",
    "        node = node.next\n",
    "\n",
    "keep = node.next #3을 가리키는 주소를 keep -> 2.5의 next로 지정할 것\n",
    "node.next = node_between\n",
    "node_between.next = keep"
   ]
  },
  {
   "cell_type": "code",
   "execution_count": 22,
   "metadata": {},
   "outputs": [
    {
     "name": "stdout",
     "output_type": "stream",
     "text": [
      "1\n",
      "2\n",
      "2.5\n",
      "3\n"
     ]
    }
   ],
   "source": [
    "# 순회출력으로 확인\n",
    "head = node1\n",
    "node = head\n",
    "while node.next:\n",
    "    print(node.data)\n",
    "    node = node.next\n",
    "print(node.data)"
   ]
  },
  {
   "cell_type": "markdown",
   "metadata": {},
   "source": [
    "# 5. 종합\n",
    "\n",
    "- 클래스 1 : 객체 생성\n",
    "- 클래스 2 : 추가, 순회출력 기능"
   ]
  },
  {
   "cell_type": "code",
   "execution_count": 30,
   "metadata": {},
   "outputs": [],
   "source": [
    "class Node:\n",
    "    def __init__(self,data,next=None):\n",
    "        self.data = data\n",
    "        self.next = next\n",
    "        \n",
    "# 객체 추가, 순회출력 기능\n",
    "# 자체적으로 첫 노드를 설정하도록 해야함. 이를 위해 Node 클래스를 활용\n",
    "class Manage:\n",
    "    def __init__(self,data):\n",
    "        self.head = Node(data)\n",
    "    \n",
    "    def add(self,data):\n",
    "        node = self.head\n",
    "        while node.next:\n",
    "            node = node.next\n",
    "        node.next = Node(data)\n",
    "        \n",
    "    def desc(self):\n",
    "        node = self.head\n",
    "        while node.next:\n",
    "            print(node.data)\n",
    "            node = node.next\n",
    "        print(node.data)"
   ]
  },
  {
   "cell_type": "code",
   "execution_count": 31,
   "metadata": {},
   "outputs": [
    {
     "name": "stdout",
     "output_type": "stream",
     "text": [
      "1\n",
      "2\n",
      "3\n",
      "4\n",
      "5\n",
      "6\n",
      "7\n",
      "8\n",
      "9\n",
      "10\n",
      "11\n"
     ]
    }
   ],
   "source": [
    "testnode = Manage(1)\n",
    "for i in range(2,10+2):\n",
    "    testnode.add(i)\n",
    "\n",
    "testnode.desc()"
   ]
  }
 ],
 "metadata": {
  "kernelspec": {
   "display_name": "Python 3",
   "language": "python",
   "name": "python3"
  },
  "language_info": {
   "codemirror_mode": {
    "name": "ipython",
    "version": 3
   },
   "file_extension": ".py",
   "mimetype": "text/x-python",
   "name": "python",
   "nbconvert_exporter": "python",
   "pygments_lexer": "ipython3",
   "version": "3.7.4"
  }
 },
 "nbformat": 4,
 "nbformat_minor": 2
}
