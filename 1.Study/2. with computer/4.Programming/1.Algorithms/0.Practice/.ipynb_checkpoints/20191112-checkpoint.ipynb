{
 "cells": [
  {
   "cell_type": "code",
   "execution_count": 3,
   "metadata": {},
   "outputs": [],
   "source": [
    "import queue\n",
    "\n",
    "pq = queue.PriorityQueue()"
   ]
  },
  {
   "cell_type": "code",
   "execution_count": 43,
   "metadata": {},
   "outputs": [],
   "source": [
    "# task별 중요도가 제시되기에, 우선순위큐를 활용하기로 함\n",
    "# 처음엔, queue라이브러리에 내장된 우선순위 큐로 접근함\n",
    "# (우선순위, 값)\n",
    "# 인덱싱이 불가함. iterable하지 않아 for로도 접근 불가\n",
    "# 따라서, 리스트를 활용해 우선순위 큐를 구현해 활용하기로 함.\n",
    "# 1. 리스트에 튜플로 (우선순위, 값)을 저장\n",
    "# 2. lst.pop(0)으로, 가장 앞의 task를 뽑아내고\n",
    "# 3. lst[i][0]으로 우선순위에 접근\n",
    "\n",
    "pq.put((2,0))\n",
    "pq.put((1,1))\n",
    "pq.put((3,2))\n",
    "pq.put((2,3))"
   ]
  },
  {
   "cell_type": "code",
   "execution_count": 61,
   "metadata": {},
   "outputs": [],
   "source": [
    "lst = [(2,0),(1,1),(3,2),(2,3)]"
   ]
  },
  {
   "cell_type": "code",
   "execution_count": 62,
   "metadata": {},
   "outputs": [],
   "source": [
    "first = lst.pop(0)"
   ]
  },
  {
   "cell_type": "code",
   "execution_count": 63,
   "metadata": {},
   "outputs": [
    {
     "data": {
      "text/plain": [
       "1"
      ]
     },
     "execution_count": 63,
     "metadata": {},
     "output_type": "execute_result"
    }
   ],
   "source": [
    "lst[0][0]"
   ]
  },
  {
   "cell_type": "code",
   "execution_count": 64,
   "metadata": {},
   "outputs": [
    {
     "data": {
      "text/plain": [
       "2"
      ]
     },
     "execution_count": 64,
     "metadata": {},
     "output_type": "execute_result"
    }
   ],
   "source": [
    "first[0]"
   ]
  },
  {
   "cell_type": "code",
   "execution_count": 92,
   "metadata": {},
   "outputs": [],
   "source": [
    "def solution(task, location):\n",
    "    \n",
    "    # task[] : 최초로 주어진 task목록\n",
    "    # task_left[] : 최초로 주어진 task목록((우선순위, 값) 형식)\n",
    "    # task_final[] : 정렬 후 최종적인 task목록\n",
    "    task_left, task_final = [], []\n",
    "    for i, task in enumerate(task):\n",
    "        task_left.append((task,i))\n",
    "\n",
    "    while task_left:\n",
    "        temp = True\n",
    "        first = task_left.pop(0)\n",
    "        # 나머지 중 하나라도 더 중요한 게 있다면, temp = False / first가 제일 중요하다면, temp = True\n",
    "        for i in range(len(task_left)):\n",
    "            if first[0] < task_left[i][0]:\n",
    "                temp=False # 제일 먼저 가면 안된다.\n",
    "\n",
    "        # 가장 중요하다면, 바로 최종 인쇄 순서에 차례로 넣는다.\n",
    "        if temp == True:\n",
    "            task_final.append(first)\n",
    "        # 더 중요한게 있다면, 가장 뒤로 다시 넣는다.\n",
    "        else:\n",
    "            task_left.append(first)\n",
    "\n",
    "    for idx, task in enumerate(task_final):\n",
    "        if task[1] == location:\n",
    "            return idx+1"
   ]
  },
  {
   "cell_type": "code",
   "execution_count": 93,
   "metadata": {},
   "outputs": [
    {
     "data": {
      "text/plain": [
       "5"
      ]
     },
     "execution_count": 93,
     "metadata": {},
     "output_type": "execute_result"
    }
   ],
   "source": [
    "solution([1, 1, 9, 1, 1, 1],0)"
   ]
  },
  {
   "cell_type": "code",
   "execution_count": null,
   "metadata": {},
   "outputs": [],
   "source": []
  },
  {
   "cell_type": "code",
   "execution_count": null,
   "metadata": {},
   "outputs": [],
   "source": []
  },
  {
   "cell_type": "code",
   "execution_count": null,
   "metadata": {},
   "outputs": [],
   "source": []
  },
  {
   "cell_type": "code",
   "execution_count": null,
   "metadata": {},
   "outputs": [],
   "source": []
  },
  {
   "cell_type": "code",
   "execution_count": null,
   "metadata": {},
   "outputs": [],
   "source": []
  },
  {
   "cell_type": "code",
   "execution_count": null,
   "metadata": {},
   "outputs": [],
   "source": []
  },
  {
   "cell_type": "code",
   "execution_count": null,
   "metadata": {},
   "outputs": [],
   "source": []
  },
  {
   "cell_type": "code",
   "execution_count": null,
   "metadata": {},
   "outputs": [],
   "source": []
  },
  {
   "cell_type": "code",
   "execution_count": null,
   "metadata": {},
   "outputs": [],
   "source": []
  },
  {
   "cell_type": "code",
   "execution_count": null,
   "metadata": {},
   "outputs": [],
   "source": []
  },
  {
   "cell_type": "code",
   "execution_count": null,
   "metadata": {},
   "outputs": [],
   "source": []
  },
  {
   "cell_type": "code",
   "execution_count": null,
   "metadata": {},
   "outputs": [],
   "source": []
  }
 ],
 "metadata": {
  "kernelspec": {
   "display_name": "Python 3",
   "language": "python",
   "name": "python3"
  },
  "language_info": {
   "codemirror_mode": {
    "name": "ipython",
    "version": 3
   },
   "file_extension": ".py",
   "mimetype": "text/x-python",
   "name": "python",
   "nbconvert_exporter": "python",
   "pygments_lexer": "ipython3",
   "version": "3.7.4"
  }
 },
 "nbformat": 4,
 "nbformat_minor": 4
}
