{
 "cells": [
  {
   "cell_type": "markdown",
   "metadata": {},
   "source": [
    "# 7. 배열\n",
    "\n",
    "- 자료구조는 크게 2가지로 나뉨\n",
    "    - 메모리 공간 기반의 '연속' 방식\n",
    "        - ex) 배열\n",
    "    - 포인터 기반의 '연결' 방식\n",
    "        - ex) 연결리스트\n",
    "        \n",
    "        "
   ]
  },
  {
   "cell_type": "markdown",
   "metadata": {},
   "source": [
    "# 문제 1. 두 수의 합\n",
    "\n",
    "- leetcode : https://leetcode.com/problems/two-sum/"
   ]
  },
  {
   "cell_type": "markdown",
   "metadata": {},
   "source": [
    "```\n",
    "Given an array of integers nums and an integer target, return indices of the two numbers such that they add up to target.\n",
    "\n",
    "You may assume that each input would have exactly one solution, and you may not use the same element twice.\n",
    "\n",
    "You can return the answer in any order.\n",
    "```"
   ]
  },
  {
   "cell_type": "markdown",
   "metadata": {},
   "source": [
    "```\n",
    "runtime\n",
    "1)time limit\n",
    "2)864ms\n",
    "3)48ms\n",
    "\n",
    "memory\n",
    "1)14.6mb\n",
    "2)14.5mb\n",
    "3)14.5mb\n",
    "\n",
    "```"
   ]
  },
  {
   "cell_type": "markdown",
   "metadata": {},
   "source": [
    "### 1) Brute-force 방식\n",
    "\n",
    "- 무차별 대입\n",
    "- 매우 비효율적인 풀이법"
   ]
  },
  {
   "cell_type": "code",
   "execution_count": 4,
   "metadata": {},
   "outputs": [],
   "source": [
    "class Solution:\n",
    "    def twoSum(self, nums, target):\n",
    "        for i in range(len(nums)):\n",
    "            for j in range(i+1,len(nums)):\n",
    "                if target == (nums[i] + nums[j]):\n",
    "                    return [i,j]\n",
    "        "
   ]
  },
  {
   "cell_type": "code",
   "execution_count": 5,
   "metadata": {},
   "outputs": [
    {
     "data": {
      "text/plain": [
       "[0, 1]"
      ]
     },
     "execution_count": 5,
     "metadata": {},
     "output_type": "execute_result"
    }
   ],
   "source": [
    "sol = Solution()\n",
    "sol.twoSum([2,7,11,15],9)"
   ]
  },
  {
   "cell_type": "code",
   "execution_count": 6,
   "metadata": {},
   "outputs": [
    {
     "data": {
      "text/plain": [
       "[1, 2]"
      ]
     },
     "execution_count": 6,
     "metadata": {},
     "output_type": "execute_result"
    }
   ],
   "source": [
    "sol.twoSum([3,2,4],6)"
   ]
  },
  {
   "cell_type": "code",
   "execution_count": 7,
   "metadata": {},
   "outputs": [
    {
     "data": {
      "text/plain": [
       "[0, 1]"
      ]
     },
     "execution_count": 7,
     "metadata": {},
     "output_type": "execute_result"
    }
   ],
   "source": [
    "sol.twoSum([3,3],6)"
   ]
  },
  {
   "cell_type": "markdown",
   "metadata": {},
   "source": [
    "**submit 결과**\n",
    "- fail (time limit exceeded)"
   ]
  },
  {
   "cell_type": "markdown",
   "metadata": {},
   "source": [
    "### 2) 첫 수 뺀 결과를 조회 + 내장함수 in 활용\n",
    "\n",
    "- 시간복잡도는 O($n^{2}$) 이지만, 파이썬 내장함수 in 은 실제 O(n)보다 훨씬 빨리 진행된다. \n",
    "\n",
    "- '두 수'의 합이라는 점을 이용해, 가장 앞의 수(n)를 차례로 빼내어(for문) target-n 이 나머지 수 중 존재하는 지(in) 탐색\n",
    "    - 이 경우, for문에서 O(n), in에서 O(n)이지만, in내장함수가 상당히 빠름으로 위 1)풀이보다 더 빠르게 진행됨"
   ]
  },
  {
   "cell_type": "markdown",
   "metadata": {},
   "source": [
    "**참고**\n",
    "- 리스트에서 value의 index를 반환하는 내장함수\n",
    "    - list.index(value)"
   ]
  },
  {
   "cell_type": "code",
   "execution_count": 11,
   "metadata": {},
   "outputs": [
    {
     "data": {
      "text/plain": [
       "2"
      ]
     },
     "execution_count": 11,
     "metadata": {},
     "output_type": "execute_result"
    }
   ],
   "source": [
    "a = [1,2,3,4]\n",
    "\n",
    "a.index(3)"
   ]
  },
  {
   "cell_type": "code",
   "execution_count": 28,
   "metadata": {},
   "outputs": [],
   "source": [
    "class Solution:\n",
    "    def twoSum(self, nums, target):\n",
    "        # 가장 앞의 수 빼내기\n",
    "        for i, first_num in enumerate(nums):\n",
    "            complement = target-first_num\n",
    "            \n",
    "            if complement in nums[i+1:]:\n",
    "                return nums.index(first_num), nums[i+1:].index(complement)+(i+1)"
   ]
  },
  {
   "cell_type": "code",
   "execution_count": 29,
   "metadata": {},
   "outputs": [
    {
     "data": {
      "text/plain": [
       "(0, 1)"
      ]
     },
     "execution_count": 29,
     "metadata": {},
     "output_type": "execute_result"
    }
   ],
   "source": [
    "sol = Solution()\n",
    "sol.twoSum([2,7,11,15],9)"
   ]
  },
  {
   "cell_type": "code",
   "execution_count": 30,
   "metadata": {},
   "outputs": [
    {
     "data": {
      "text/plain": [
       "(1, 2)"
      ]
     },
     "execution_count": 30,
     "metadata": {},
     "output_type": "execute_result"
    }
   ],
   "source": [
    "sol.twoSum([3,2,4],6)"
   ]
  },
  {
   "cell_type": "code",
   "execution_count": 32,
   "metadata": {},
   "outputs": [
    {
     "data": {
      "text/plain": [
       "(0, 1)"
      ]
     },
     "execution_count": 32,
     "metadata": {},
     "output_type": "execute_result"
    }
   ],
   "source": [
    "sol.twoSum([3,3],6)"
   ]
  },
  {
   "cell_type": "markdown",
   "metadata": {},
   "source": [
    "**submit 결과**\n",
    "- fail (time limit exceeded)"
   ]
  },
  {
   "cell_type": "markdown",
   "metadata": {},
   "source": [
    "### 3) 첫 수 뺀 결과를 조회 + 내장함수 in 활용( \"+Dict\" )\n",
    "\n",
    "- Dictionary타입은 내부적으로 **해시테이블로 구현**\n",
    "    - 따라서, list 내부에서 in 탐색(O(n))과 달리 조회에 O(1) 소요\n",
    "    \n",
    "- 데이터를 Dict로 저장(key-value) 후, 첫 수를 뺀 것을 Dict에서 조회(해시테이블로 조회하는 것과 마찬가지)"
   ]
  },
  {
   "cell_type": "code",
   "execution_count": 34,
   "metadata": {},
   "outputs": [],
   "source": [
    "class Solution:\n",
    "    def twoSum(self, nums, target):\n",
    "        # {key : 숫자, value : index} 로 dict저장 (key를 숫자값으로 놓는 이유는, dict조회 시, key로 조회해야하기 떄문)\n",
    "        dict_nums = {}\n",
    "        for i, num in enumerate(nums):\n",
    "            dict_nums[num] = i\n",
    "        \n",
    "        # 첫 수 빼서, in 탐색 (dict 대상 in 탐색은 hash테이블 조회)\n",
    "        for i, first_num in enumerate(dict_nums):\n",
    "            complement = target-first_num\n",
    "            \n",
    "            if complement in dict_nums and dict_nums[complement] != i:\n",
    "                return i, dict_nums[complement]\n",
    "    "
   ]
  },
  {
   "cell_type": "code",
   "execution_count": 59,
   "metadata": {},
   "outputs": [
    {
     "name": "stdout",
     "output_type": "stream",
     "text": [
      "7\n"
     ]
    },
    {
     "data": {
      "text/plain": [
       "(0, 1)"
      ]
     },
     "execution_count": 59,
     "metadata": {},
     "output_type": "execute_result"
    }
   ],
   "source": [
    "sol = Solution()\n",
    "sol.twoSum([2,7,11,15],9)"
   ]
  },
  {
   "cell_type": "code",
   "execution_count": 60,
   "metadata": {},
   "outputs": [
    {
     "name": "stdout",
     "output_type": "stream",
     "text": [
      "4\n"
     ]
    },
    {
     "data": {
      "text/plain": [
       "(1, 2)"
      ]
     },
     "execution_count": 60,
     "metadata": {},
     "output_type": "execute_result"
    }
   ],
   "source": [
    "sol.twoSum([3,2,4],6)"
   ]
  },
  {
   "cell_type": "code",
   "execution_count": 61,
   "metadata": {},
   "outputs": [
    {
     "name": "stdout",
     "output_type": "stream",
     "text": [
      "3\n"
     ]
    },
    {
     "data": {
      "text/plain": [
       "(1, 1)"
      ]
     },
     "execution_count": 61,
     "metadata": {},
     "output_type": "execute_result"
    }
   ],
   "source": [
    "sol.twoSum([3,3],6)"
   ]
  },
  {
   "cell_type": "markdown",
   "metadata": {},
   "source": [
    "**submit 결과**\n",
    "- fail\n",
    "    - wrong case\n",
    "        - output : [82,239]\n",
    "        - expected : [83, 239]"
   ]
  },
  {
   "cell_type": "code",
   "execution_count": 82,
   "metadata": {},
   "outputs": [],
   "source": [
    "class Solution:\n",
    "    def twoSum(self, nums, target):\n",
    "        # {key : 숫자, value : index} 로 dict저장 (key를 숫자값으로 놓는 이유는, dict조회 시, key로 조회해야하기 떄문)\n",
    "        dict_nums = {}\n",
    "        for i, num in enumerate(nums):\n",
    "            dict_nums[num] = i\n",
    "        \n",
    "        # 첫 수 빼서, in 탐색 (리스트에서 첫 수 빼서, dict 대상 in 탐색은 hash테이블 조회)\n",
    "        # i : first_num의 index\n",
    "        for i, first_num in enumerate(dict_nums):\n",
    "            complement = target-first_num\n",
    "            \n",
    "            if complement in dict_nums and dict_nums[complement] != i:\n",
    "                return i, dict_nums[complement]\n",
    "    "
   ]
  },
  {
   "cell_type": "code",
   "execution_count": 83,
   "metadata": {},
   "outputs": [],
   "source": [
    "# fail case\n",
    "a = [572,815,387,418,434,530,376,190,196,74,830,561,973,771,640,37,539,369,327,51,623,575,988,44,659,48,22,776,487,873,486,169,499,82,128,31,386,691,553,848,968,874,692,404,463,285,745,631,304,271,40,921,733,56,883,517,99,580,55,81,232,971,561,683,806,994,823,219,315,564,997,976,158,208,851,206,101,989,542,985,940,116,153,47,806,944,337,903,712,138,236,777,630,912,22,140,525,270,997,763,812,597,806,423,869,926,344,494,858,519,389,627,517,964,74,432,730,843,673,985,819,397,607,34,948,648,43,212,950,235,995,76,439,614,203,313,180,760,210,813,920,229,615,730,359,863,678,43,293,978,305,106,797,769,3,700,945,135,430,965,762,479,152,121,935,809,101,271,428,608,8,983,758,662,755,190,632,792,789,174,869,622,885,626,310,128,233,82,223,339,771,741,227,131,85,51,361,343,641,568,922,145,256,177,329,959,991,293,850,858,76,291,134,254,956,971,718,391,336,899,206,642,254,851,274,239,538,418,21,232,706,275,615,568,714,234,567,994,368,54,744,498,380,594,415,286,260,582,522,795,261,437,292,887,405,293,946,678,686,682,501,238,245,380,218,591,722,519,770,359,340,215,151,368,356,795,91,250,413,970,37,941,356,648,594,513,484,364,484,909,292,501,59,982,686,827,461,60,557,178,952,218,634,785,251,290,156,300,711,322,570,820,191,755,429,950,18,917,905,905,126,790,638,94,857,235,889,611,605,203,859,749,874,530,727,764,197,537,951,919,24,341,334,505,796,619,492,295,380,128,533,600,160,51,249,5,837,905,747,505,82,158,687,507,339,575,206,28,29,91,459,118,284,995,544,3,154,89,840,364,682,700,143,173,216,290,733,525,399,574,693,500,189,590,529,972,378,299,461,866,326,43,711,460,426,947,391,536,26,579,304,852,158,621,683,901,237,22,225,59,52,798,262,754,649,504,861,472,480,570,347,891,956,347,31,784,581,668,127,628,962,698,191,313,714,893]"
   ]
  },
  {
   "cell_type": "code",
   "execution_count": 84,
   "metadata": {},
   "outputs": [
    {
     "data": {
      "text/plain": [
       "(82, 239)"
      ]
     },
     "execution_count": 84,
     "metadata": {},
     "output_type": "execute_result"
    }
   ],
   "source": [
    "sol = Solution()\n",
    "sol.twoSum(a,101)"
   ]
  },
  {
   "cell_type": "markdown",
   "metadata": {},
   "source": [
    "**디버깅**\n",
    "\n",
    "1. line 10 수정\n",
    "    - 첫 수를 dict_nums(딕셔너리 형)이 아닌, nums(리스트 형)에서 enumerate로 추출"
   ]
  },
  {
   "cell_type": "code",
   "execution_count": 87,
   "metadata": {},
   "outputs": [],
   "source": [
    "class Solution:\n",
    "    def twoSum(self, nums, target):\n",
    "        # {key : 숫자, value : index} 로 dict저장 (key를 숫자값으로 놓는 이유는, dict조회 시, key로 조회해야하기 떄문)\n",
    "        dict_nums = {}\n",
    "        for i, num in enumerate(nums):\n",
    "            dict_nums[num] = i\n",
    "        \n",
    "        # 첫 수 빼서, in 탐색 (리스트에서 첫 수 빼서, dict 대상 in 탐색은 hash테이블 조회)\n",
    "        # i : first_num의 index\n",
    "        for i, first_num in enumerate(nums):\n",
    "            complement = target-first_num\n",
    "            \n",
    "            if complement in dict_nums and dict_nums[complement] != i:\n",
    "                return i, dict_nums[complement]\n",
    "    "
   ]
  },
  {
   "cell_type": "code",
   "execution_count": 88,
   "metadata": {},
   "outputs": [
    {
     "data": {
      "text/plain": [
       "(83, 239)"
      ]
     },
     "execution_count": 88,
     "metadata": {},
     "output_type": "execute_result"
    }
   ],
   "source": [
    "sol = Solution()\n",
    "sol.twoSum(a,101)"
   ]
  },
  {
   "cell_type": "markdown",
   "metadata": {},
   "source": [
    "**submit 결과**\n",
    "- 성공"
   ]
  },
  {
   "cell_type": "markdown",
   "metadata": {},
   "source": [
    "# 문제 2. 빗물 트래핑\n",
    "\n",
    "- leetcode : https://leetcode.com/problems/trapping-rain-water"
   ]
  },
  {
   "cell_type": "markdown",
   "metadata": {},
   "source": [
    "```\n",
    "Given n non-negative integers representing an elevation map where the width of each bar is 1, compute how much water it can trap after raining.\n",
    "\n",
    "```"
   ]
  },
  {
   "cell_type": "markdown",
   "metadata": {},
   "source": [
    "### 일단 pass...\n",
    "\n",
    "- stack 쌓기로 문제를 푸는 방법이 있는 데, 이에 대한 이해가 잘 안됨.."
   ]
  },
  {
   "cell_type": "code",
   "execution_count": null,
   "metadata": {},
   "outputs": [],
   "source": []
  },
  {
   "cell_type": "markdown",
   "metadata": {},
   "source": [
    "# 문제 3. 세 수의 합\n",
    "\n",
    "- leetcode : https://leetcode.com/problems/3sum"
   ]
  },
  {
   "cell_type": "markdown",
   "metadata": {},
   "source": [
    "```\n",
    "Given an array nums of n integers, are there elements a, b, c in nums such that a + b + c = 0? Find all unique triplets in the array which gives the sum of zero.\n",
    "\n",
    "Notice that the solution set must not contain duplicate triplets.\n",
    "```"
   ]
  },
  {
   "cell_type": "markdown",
   "metadata": {},
   "source": [
    "### 1) brute-force 방식\n",
    "\n",
    "- $O(n^{3})$ 시간복잡도로 submit시, 타임아웃 fail"
   ]
  },
  {
   "cell_type": "code",
   "execution_count": null,
   "metadata": {},
   "outputs": [],
   "source": [
    "class Solution:\n",
    "    def threeSum(self, nums):\n",
    "        results = []\n",
    "        nums.sort()\n",
    "        \n",
    "        # 브루트 포스로 n^3 반복\n",
    "        for i in range(len(nums)-2):\n",
    "            # 중복된 값 건너 뛰기\n",
    "            if i>0 and nums[i]==nums[i-1]:\n",
    "                continue\n",
    "            for j in range(i+1, len(nums)-1):\n",
    "                if j>i+1 and nums[j]==nums[j-1]:\n",
    "                    continue\n",
    "                for k in range(j+1, len(nums)):\n",
    "                    if k>j+1 and nums[k]==nums[k-1]:\n",
    "                        continue\n",
    "                    \n",
    "                    if nums[i]+nums[j]+nums[k]==0:\n",
    "                        results.append(nums[i],nums[j],nums[k])\n",
    "                        \n",
    "        return resutls        "
   ]
  },
  {
   "cell_type": "markdown",
   "metadata": {},
   "source": [
    "### 2) 투 포인터로 합 계산"
   ]
  },
  {
   "cell_type": "code",
   "execution_count": null,
   "metadata": {},
   "outputs": [],
   "source": [
    "class Solution:\n",
    "    def threeSum(self, nums):\n",
    "        results = []\n",
    "        nums.sort()\n",
    "        \n",
    "        for i in range(len(nums)-2):\n",
    "            # 중복된 값 건너뛰기\n",
    "            if i>0 and nums[i] == nums[i-1]:\n",
    "                continue\n",
    "\n",
    "            # 간격을 좁혀가며 합 sum 계산\n",
    "            left, right = i+1, len(nums)-1\n",
    "            while left < right:\n",
    "                sum_ = nums[i] + nums[left] + nums[right]\n",
    "\n",
    "                if sum_<0:\n",
    "                    left += 1\n",
    "                elif sum_>0:\n",
    "                    right -= 1\n",
    "                else:\n",
    "                    # sum=0인 경우이므로 정답 및 스킵 처리\n",
    "                    results.append((nums[i], nums[left], nums[right]))\n",
    "\n",
    "                    while left<right and nums[left] == nums[left+1]:\n",
    "                        left += 1\n",
    "                    while left<right and nums[right] == nums[right-1]:\n",
    "                        right -= 1\n",
    "                    left+=1\n",
    "                    right-=1\n",
    "                    \n",
    "        return results\n",
    "            "
   ]
  },
  {
   "cell_type": "markdown",
   "metadata": {},
   "source": [
    "# 문제 4. 배열 파티션 1\n",
    "\n",
    "- leetcode : https://leetcode.com/problems/array-partition-i"
   ]
  },
  {
   "cell_type": "markdown",
   "metadata": {},
   "source": [
    "```\n",
    "Given an integer array nums of 2n integers, group these integers into n pairs (a1, b1), (a2, b2), ..., (an, bn) such that the sum of min(ai, bi) for all i is maximized. Return the maximized sum.\n",
    "```"
   ]
  },
  {
   "cell_type": "markdown",
   "metadata": {},
   "source": [
    "```\n",
    "runtime\n",
    "1)292ms\n",
    "2)272ms\n",
    "3)256ms\n",
    "\n",
    "memory\n",
    "1)16.9mb\n",
    "2)16.8mb\n",
    "3)16.7mb\n",
    "\n",
    "```"
   ]
  },
  {
   "cell_type": "markdown",
   "metadata": {},
   "source": [
    "### 1) brute-force / 오름차순 활용"
   ]
  },
  {
   "cell_type": "code",
   "execution_count": 95,
   "metadata": {},
   "outputs": [],
   "source": [
    "class Solution:\n",
    "    def arrayPairSum(self, nums):\n",
    "        sum_ = 0\n",
    "        pair = []\n",
    "        \n",
    "        # 1차 정렬\n",
    "        nums.sort()\n",
    "        \n",
    "        # 정렬 후 하나씩 차례로 pair에 넣어 min값 출력\n",
    "        for num in nums:\n",
    "            pair.append(num)\n",
    "            \n",
    "            if len(pair)==2:\n",
    "                sum_ += min(pair)\n",
    "                pair = []\n",
    "\n",
    "        return sum_\n",
    "    "
   ]
  },
  {
   "cell_type": "code",
   "execution_count": 93,
   "metadata": {},
   "outputs": [
    {
     "data": {
      "text/plain": [
       "4"
      ]
     },
     "execution_count": 93,
     "metadata": {},
     "output_type": "execute_result"
    }
   ],
   "source": [
    "sol = Solution()\n",
    "sol.arrayPairSum([1,4,3,2])"
   ]
  },
  {
   "cell_type": "code",
   "execution_count": 94,
   "metadata": {},
   "outputs": [
    {
     "data": {
      "text/plain": [
       "9"
      ]
     },
     "execution_count": 94,
     "metadata": {},
     "output_type": "execute_result"
    }
   ],
   "source": [
    "sol.arrayPairSum([6,2,6,5,1,2])"
   ]
  },
  {
   "cell_type": "markdown",
   "metadata": {},
   "source": [
    "### 2) brute-force / 오름차순 + 짝수 번째 값만 활용 (리스트 'pair' 활용 x)"
   ]
  },
  {
   "cell_type": "code",
   "execution_count": 96,
   "metadata": {},
   "outputs": [],
   "source": [
    "class Solution:\n",
    "    def arrayPairSum(self, nums):\n",
    "        sum_ = 0\n",
    "        \n",
    "        # 1차 정렬\n",
    "        nums.sort()\n",
    "        \n",
    "        # 정렬 후 pair를 거치지 않고, 짝수번째 값만 더해서 sum 계산\n",
    "        # why? 정렬하면 당연히 (0,1),(2,3)... 0번째, 2번째 값 등 짝수번째 값이 홀수번째 값에 비해 작다.(2개 pair를 고려했을 때)\n",
    "        sum_ = sum(nums[::2])\n",
    "        \n",
    "        return sum_\n",
    "            "
   ]
  },
  {
   "cell_type": "code",
   "execution_count": 97,
   "metadata": {},
   "outputs": [
    {
     "data": {
      "text/plain": [
       "4"
      ]
     },
     "execution_count": 97,
     "metadata": {},
     "output_type": "execute_result"
    }
   ],
   "source": [
    "sol = Solution()\n",
    "sol.arrayPairSum([1,4,3,2])"
   ]
  },
  {
   "cell_type": "code",
   "execution_count": 98,
   "metadata": {},
   "outputs": [
    {
     "data": {
      "text/plain": [
       "9"
      ]
     },
     "execution_count": 98,
     "metadata": {},
     "output_type": "execute_result"
    }
   ],
   "source": [
    "sol.arrayPairSum([6,2,6,5,1,2])"
   ]
  },
  {
   "cell_type": "markdown",
   "metadata": {},
   "source": [
    "### 3) brute-force / 오름차순 + 짝수 번째 값만 활용 + Pythonic"
   ]
  },
  {
   "cell_type": "code",
   "execution_count": 99,
   "metadata": {},
   "outputs": [],
   "source": [
    "class Solution:\n",
    "    def arrayPairSum(self, nums):\n",
    "        \n",
    "        return sum(nums.sort()[::2])"
   ]
  },
  {
   "cell_type": "code",
   "execution_count": 100,
   "metadata": {},
   "outputs": [
    {
     "ename": "TypeError",
     "evalue": "'NoneType' object is not subscriptable",
     "output_type": "error",
     "traceback": [
      "\u001b[0;31m---------------------------------------------------------------------------\u001b[0m",
      "\u001b[0;31mTypeError\u001b[0m                                 Traceback (most recent call last)",
      "\u001b[0;32m<ipython-input-100-56b7fcce3c43>\u001b[0m in \u001b[0;36m<module>\u001b[0;34m\u001b[0m\n\u001b[1;32m      1\u001b[0m \u001b[0msol\u001b[0m \u001b[0;34m=\u001b[0m \u001b[0mSolution\u001b[0m\u001b[0;34m(\u001b[0m\u001b[0;34m)\u001b[0m\u001b[0;34m\u001b[0m\u001b[0;34m\u001b[0m\u001b[0m\n\u001b[0;32m----> 2\u001b[0;31m \u001b[0msol\u001b[0m\u001b[0;34m.\u001b[0m\u001b[0marrayPairSum\u001b[0m\u001b[0;34m(\u001b[0m\u001b[0;34m[\u001b[0m\u001b[0;36m1\u001b[0m\u001b[0;34m,\u001b[0m\u001b[0;36m4\u001b[0m\u001b[0;34m,\u001b[0m\u001b[0;36m3\u001b[0m\u001b[0;34m,\u001b[0m\u001b[0;36m2\u001b[0m\u001b[0;34m]\u001b[0m\u001b[0;34m)\u001b[0m\u001b[0;34m\u001b[0m\u001b[0;34m\u001b[0m\u001b[0m\n\u001b[0m",
      "\u001b[0;32m<ipython-input-99-5951eaad689d>\u001b[0m in \u001b[0;36marrayPairSum\u001b[0;34m(self, nums)\u001b[0m\n\u001b[1;32m      2\u001b[0m     \u001b[0;32mdef\u001b[0m \u001b[0marrayPairSum\u001b[0m\u001b[0;34m(\u001b[0m\u001b[0mself\u001b[0m\u001b[0;34m,\u001b[0m \u001b[0mnums\u001b[0m\u001b[0;34m)\u001b[0m\u001b[0;34m:\u001b[0m\u001b[0;34m\u001b[0m\u001b[0;34m\u001b[0m\u001b[0m\n\u001b[1;32m      3\u001b[0m \u001b[0;34m\u001b[0m\u001b[0m\n\u001b[0;32m----> 4\u001b[0;31m         \u001b[0;32mreturn\u001b[0m \u001b[0msum\u001b[0m\u001b[0;34m(\u001b[0m\u001b[0mnums\u001b[0m\u001b[0;34m.\u001b[0m\u001b[0msort\u001b[0m\u001b[0;34m(\u001b[0m\u001b[0;34m)\u001b[0m\u001b[0;34m[\u001b[0m\u001b[0;34m:\u001b[0m\u001b[0;34m:\u001b[0m\u001b[0;36m2\u001b[0m\u001b[0;34m]\u001b[0m\u001b[0;34m)\u001b[0m\u001b[0;34m\u001b[0m\u001b[0;34m\u001b[0m\u001b[0m\n\u001b[0m",
      "\u001b[0;31mTypeError\u001b[0m: 'NoneType' object is not subscriptable"
     ]
    }
   ],
   "source": [
    "sol = Solution()\n",
    "sol.arrayPairSum([1,4,3,2])"
   ]
  },
  {
   "cell_type": "markdown",
   "metadata": {},
   "source": [
    "**디버깅**\n",
    "```\n",
    "1. list.sort() => return X. in-place O\n",
    "2. sorted(list) => return O. in-place X\n",
    "```"
   ]
  },
  {
   "cell_type": "code",
   "execution_count": 103,
   "metadata": {},
   "outputs": [],
   "source": [
    "[1,4,3,2].sort()"
   ]
  },
  {
   "cell_type": "code",
   "execution_count": 105,
   "metadata": {},
   "outputs": [
    {
     "data": {
      "text/plain": [
       "[1, 2, 3, 4]"
      ]
     },
     "execution_count": 105,
     "metadata": {},
     "output_type": "execute_result"
    }
   ],
   "source": [
    "sorted([1,4,3,2])"
   ]
  },
  {
   "cell_type": "code",
   "execution_count": 106,
   "metadata": {},
   "outputs": [
    {
     "name": "stdout",
     "output_type": "stream",
     "text": [
      "[1, 4, 3, 2]\n"
     ]
    }
   ],
   "source": [
    "a = [1,4,3,2]\n",
    "sorted(a)\n",
    "print(a)"
   ]
  },
  {
   "cell_type": "code",
   "execution_count": 107,
   "metadata": {},
   "outputs": [],
   "source": [
    "class Solution:\n",
    "    def arrayPairSum(self, nums):\n",
    "        \n",
    "        return sum(sorted(nums)[::2])"
   ]
  },
  {
   "cell_type": "code",
   "execution_count": 108,
   "metadata": {},
   "outputs": [
    {
     "data": {
      "text/plain": [
       "4"
      ]
     },
     "execution_count": 108,
     "metadata": {},
     "output_type": "execute_result"
    }
   ],
   "source": [
    "sol = Solution()\n",
    "sol.arrayPairSum([1,4,3,2])"
   ]
  },
  {
   "cell_type": "code",
   "execution_count": 109,
   "metadata": {},
   "outputs": [
    {
     "data": {
      "text/plain": [
       "9"
      ]
     },
     "execution_count": 109,
     "metadata": {},
     "output_type": "execute_result"
    }
   ],
   "source": [
    "sol.arrayPairSum([6,2,6,5,1,2])"
   ]
  },
  {
   "cell_type": "markdown",
   "metadata": {},
   "source": [
    "# 문제 5. 자신을 제외한 배열의 곱\n",
    "\n",
    "- leetcode : https://leetcode.com/problems/product-of-array-except-self"
   ]
  },
  {
   "cell_type": "markdown",
   "metadata": {},
   "source": [
    "```\n",
    "Given an array nums of n integers where n > 1,  return an array output such that output[i] is equal to the product of all the elements of nums except nums[i].\n",
    "\n",
    "Example:\n",
    "\n",
    "Input:  [1,2,3,4]\n",
    "Output: [24,12,8,6]\n",
    "Constraint: It's guaranteed that the product of the elements of any prefix or suffix of the array (including the whole array) fits in a 32 bit integer.\n",
    "\n",
    "Note: Please solve it without division and in O(n).\n",
    "\n",
    "Follow up:\n",
    "Could you solve it with constant space complexity? (The output array does not count as extra space for the purpose of space complexity analysis.)\n",
    "```"
   ]
  },
  {
   "cell_type": "markdown",
   "metadata": {},
   "source": [
    "```\n",
    "runtime\n",
    "1) 240mb\n",
    "\n",
    "memory\n",
    "1) 21mb\n",
    "```"
   ]
  },
  {
   "cell_type": "code",
   "execution_count": null,
   "metadata": {},
   "outputs": [],
   "source": [
    "class Solution:\n",
    "    def productExceptSelf(self, nums):\n",
    "        out = []\n",
    "        p = 1\n",
    "        \n",
    "        # 왼쪽 곱셈(대상 index : range 0<= <-1\n",
    "        # 마지막 숫자는 곱하지 않는다. 그래야 오른쪽부터 숫자를 하나씩 곱해줄 때, 자기자신을 빼고 곱해줄 수 있다.\n",
    "        for i in range(0, len(nums)):\n",
    "            out.append(p)\n",
    "            p = p*nums[i]\n",
    "        p=1\n",
    "        \n",
    "        # 왼쪽 곱셈 결과에 오른쪽 값을 차례대로 곱셈\n",
    "        for i in range(len(nums)-1, 0-1, -1):\n",
    "            out[i] = out[i]*p\n",
    "            p = p*nums[i]\n",
    "            \n",
    "        return out"
   ]
  }
 ],
 "metadata": {
  "kernelspec": {
   "display_name": "Python 3",
   "language": "python",
   "name": "python3"
  },
  "language_info": {
   "codemirror_mode": {
    "name": "ipython",
    "version": 3
   },
   "file_extension": ".py",
   "mimetype": "text/x-python",
   "name": "python",
   "nbconvert_exporter": "python",
   "pygments_lexer": "ipython3",
   "version": "3.7.4"
  }
 },
 "nbformat": 4,
 "nbformat_minor": 4
}
