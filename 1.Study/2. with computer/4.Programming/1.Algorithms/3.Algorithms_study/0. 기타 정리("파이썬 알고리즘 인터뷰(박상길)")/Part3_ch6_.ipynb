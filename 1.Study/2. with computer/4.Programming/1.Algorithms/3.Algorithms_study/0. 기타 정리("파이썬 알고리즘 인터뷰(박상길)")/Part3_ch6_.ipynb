{
 "cells": [
  {
   "cell_type": "markdown",
   "metadata": {},
   "source": [
    "# 문제 1. 유효한 팰린드롬\n",
    "\n",
    "- leetcode : https://leetcode.com/problems/valid-palindrome/"
   ]
  },
  {
   "cell_type": "markdown",
   "metadata": {},
   "source": [
    "```\n",
    "Given a string, determine if it is a palindrome, considering only alphanumeric characters and ignoring cases.\n",
    "\n",
    "Note: For the purpose of this problem, we define empty string as valid palindrome.\n",
    "\n",
    "<Example 1>\n",
    "\n",
    "Input: \"A man, a plan, a canal: Panama\"\n",
    "Output: true\n",
    "\n",
    "<Example 2>\n",
    "\n",
    "Input: \"race a car\"\n",
    "Output: false\n",
    " \n",
    "Constraints: s consists only of printable ASCII characters.\n",
    "```"
   ]
  },
  {
   "cell_type": "markdown",
   "metadata": {},
   "source": [
    "리스트 활용|슬라이싱(re)|슬라이싱(isalnum())\n",
    "-|-|-\n",
    "284ms|36ms|48ms"
   ]
  },
  {
   "cell_type": "markdown",
   "metadata": {},
   "source": [
    "[참고사항]\n",
    "1. **문자열을 변환해 리스트에 저장하는 시간이 많이 걸림.**\n",
    "\n",
    "        따라서, 문자열을 리스트에 넣지 않고, 그대로 slicing해 비교하는 방법이 시간단축에 좋음( a == a[::-1] )\n",
    "\n",
    "3. **그 외, 필터링 및 전처리에 're, char.isalnum(), char.lower() 등 활용'**"
   ]
  },
  {
   "cell_type": "markdown",
   "metadata": {},
   "source": [
    "#### 1-1) char.isalnum() : 문자열 중 숫자 + 문자인 경우만 True로 반환하는 함수"
   ]
  },
  {
   "cell_type": "code",
   "execution_count": 13,
   "metadata": {
    "scrolled": true
   },
   "outputs": [
    {
     "name": "stdout",
     "output_type": "stream",
     "text": [
      "False True False True True True "
     ]
    }
   ],
   "source": [
    "s = \" A 23n\"\n",
    "for char in s:\n",
    "    print(char.isalnum(),end=' ')"
   ]
  },
  {
   "cell_type": "code",
   "execution_count": 25,
   "metadata": {},
   "outputs": [],
   "source": [
    "class Solution:\n",
    "    def isPalindrome(self, s: str) -> bool:\n",
    "        strs = []\n",
    "        for char in s:\n",
    "            # 제약조건 상, 문자만 판단하니, 모두 문자인 경우만 선별(True)\n",
    "            if char.isalnum():\n",
    "                # 제약조건 상, 대/소문자 구분이 없으므로, 모두 소문자로 전처리\n",
    "                ## 여기서 시간이 많이 걸림!\n",
    "                strs.append(char.lower())\n",
    "        while len(strs) > 1:\n",
    "            if strs.pop(0) != strs.pop():\n",
    "                return False\n",
    "            \n",
    "        return True"
   ]
  },
  {
   "cell_type": "code",
   "execution_count": 26,
   "metadata": {},
   "outputs": [],
   "source": [
    "sol = Solution()"
   ]
  },
  {
   "cell_type": "code",
   "execution_count": 29,
   "metadata": {
    "scrolled": true
   },
   "outputs": [
    {
     "data": {
      "text/plain": [
       "True"
      ]
     },
     "execution_count": 29,
     "metadata": {},
     "output_type": "execute_result"
    }
   ],
   "source": [
    "sol.isPalindrome(\"cac\")"
   ]
  },
  {
   "cell_type": "code",
   "execution_count": 30,
   "metadata": {},
   "outputs": [
    {
     "data": {
      "text/plain": [
       "False"
      ]
     },
     "execution_count": 30,
     "metadata": {},
     "output_type": "execute_result"
    }
   ],
   "source": [
    "sol.isPalindrome(\"car\")"
   ]
  },
  {
   "cell_type": "markdown",
   "metadata": {},
   "source": [
    "## 2) 슬라이싱 활용\n",
    "\n",
    "- 슬라이싱 : 매우 속도가 빠름\n",
    "- 문자열을 리스트 등으로 변환하면, 연산 시간이 많이 소요되므로, 문자열 그대로 슬라이싱 해 푸는 것이 바람직"
   ]
  },
  {
   "cell_type": "markdown",
   "metadata": {},
   "source": [
    "#### 2-1) re 정규식 활용한 필터링\n",
    "\n",
    "- leetcode의 기본 라이브러리로 import re 있음(다른 플랫폼에선 확인해봐야함)\n",
    "- 36ms"
   ]
  },
  {
   "cell_type": "code",
   "execution_count": 38,
   "metadata": {},
   "outputs": [],
   "source": [
    "import re\n",
    "class Solution:\n",
    "    def isPalindrome(self, s: str) -> bool:\n",
    "        # 소문자로 전처리\n",
    "        s = s.lower()\n",
    "        # 정규식으로 불필요한 문자 필터링\n",
    "        s = re.sub('[^a-z0-9]','',s)\n",
    "        \n",
    "        return s == s[::-1] # 슬라이싱"
   ]
  },
  {
   "cell_type": "code",
   "execution_count": 39,
   "metadata": {},
   "outputs": [
    {
     "data": {
      "text/plain": [
       "True"
      ]
     },
     "execution_count": 39,
     "metadata": {},
     "output_type": "execute_result"
    }
   ],
   "source": [
    "sol = Solution()\n",
    "sol.isPalindrome(\"cac\")"
   ]
  },
  {
   "cell_type": "code",
   "execution_count": 40,
   "metadata": {},
   "outputs": [
    {
     "data": {
      "text/plain": [
       "False"
      ]
     },
     "execution_count": 40,
     "metadata": {},
     "output_type": "execute_result"
    }
   ],
   "source": [
    "sol.isPalindrome(\"car\")"
   ]
  },
  {
   "cell_type": "markdown",
   "metadata": {},
   "source": [
    "#### 2-2) isalnum(), lower() 전처리 + 슬라이싱\n",
    "\n",
    "- leetcode의 기본 라이브러리로 import re 있음(다른 플랫폼에선 확인해봐야함)\n",
    "- 48ms"
   ]
  },
  {
   "cell_type": "code",
   "execution_count": 55,
   "metadata": {},
   "outputs": [],
   "source": [
    "class Solution:\n",
    "    def isPalindrome(self, s: str) -> bool:\n",
    "        strs = []\n",
    "        for char in s:\n",
    "            # 제약조건 상, 문자만 판단하니, 모두 문자인 경우만 선별(True)\n",
    "            if char.isalnum():\n",
    "                # 제약조건 상, 대/소문자 구분이 없으므로, 모두 소문자로 전처리\n",
    "                strs.append(char.lower())\n",
    "        if strs != strs[::-1]:\n",
    "            return False\n",
    "            \n",
    "        return True"
   ]
  },
  {
   "cell_type": "code",
   "execution_count": 54,
   "metadata": {},
   "outputs": [
    {
     "data": {
      "text/plain": [
       "False"
      ]
     },
     "execution_count": 54,
     "metadata": {},
     "output_type": "execute_result"
    }
   ],
   "source": [
    "sol = Solution()\n",
    "sol.isPalindrome(\"car\")"
   ]
  },
  {
   "cell_type": "markdown",
   "metadata": {},
   "source": [
    "# 문제 2. 문자열 뒤집기\n",
    "\n",
    "- leetcode : https://leetcode.com/problems/reverse-string/"
   ]
  },
  {
   "cell_type": "markdown",
   "metadata": {},
   "source": [
    "\n",
    "투포인터 스왑|list.reverse()|슬라이싱(새 변수 할당X)\n",
    "-|-|-\n",
    "208ms|196ms|208ms"
   ]
  },
  {
   "cell_type": "markdown",
   "metadata": {},
   "source": [
    "[참고사항]\n",
    "1. **리스트 자료형 내장함수(list.reverse()등)가 역시나 가장 시간복잡도가 낮다**\n",
    "\n",
    "2. **문자열 뒤집기 시, in-place방법 : swap식 처리 / [:] = [::-1] / list.reverse()**\n"
   ]
  },
  {
   "cell_type": "markdown",
   "metadata": {},
   "source": [
    "```\n",
    "Write a function that reverses a string. The input string is given as an array of characters char[].\n",
    "\n",
    "Do not allocate extra space for another array, you must do this by modifying the input array in-place with O(1) extra memory.\n",
    "\n",
    "You may assume all the characters consist of printable ascii characters.\n",
    " \n",
    "Example 1:\n",
    "\n",
    "Input: [\"h\",\"e\",\"l\",\"l\",\"o\"]\n",
    "Output: [\"o\",\"l\",\"l\",\"e\",\"h\"]\n",
    "\n",
    "Example 2:\n",
    "\n",
    "Input: [\"H\",\"a\",\"n\",\"n\",\"a\",\"h\"]\n",
    "Output: [\"h\",\"a\",\"n\",\"n\",\"a\",\"H\"]\n",
    "```"
   ]
  },
  {
   "cell_type": "markdown",
   "metadata": {},
   "source": [
    "### 1) 투 포인터를 이용한 스왑"
   ]
  },
  {
   "cell_type": "code",
   "execution_count": 65,
   "metadata": {},
   "outputs": [],
   "source": [
    "a = ['h','e','l','l','o']\n",
    "\n",
    "def reverse_string(list_string) -> None:\n",
    "    \n",
    "    left, right = 0, len(list_string)-1\n",
    "    while left < right:\n",
    "        list_string[left], list_string[right] = list_string[right], list_string[left]\n",
    "        left += 1\n",
    "        right -= 1"
   ]
  },
  {
   "cell_type": "code",
   "execution_count": 68,
   "metadata": {},
   "outputs": [
    {
     "data": {
      "text/plain": [
       "['h', 'e', 'l', 'l', 'o']"
      ]
     },
     "execution_count": 68,
     "metadata": {},
     "output_type": "execute_result"
    }
   ],
   "source": [
    "reverse_string(a)\n",
    "a"
   ]
  },
  {
   "cell_type": "markdown",
   "metadata": {},
   "source": [
    "### 2) pythonic\n",
    "\n",
    "- list.reverse()"
   ]
  },
  {
   "cell_type": "code",
   "execution_count": 70,
   "metadata": {},
   "outputs": [],
   "source": [
    "a = ['h','e','l','l','o']\n",
    "def reverse_string(list_string) -> None:\n",
    "    list_string.reverse()"
   ]
  },
  {
   "cell_type": "code",
   "execution_count": 71,
   "metadata": {},
   "outputs": [
    {
     "data": {
      "text/plain": [
       "['o', 'l', 'l', 'e', 'h']"
      ]
     },
     "execution_count": 71,
     "metadata": {},
     "output_type": "execute_result"
    }
   ],
   "source": [
    "reverse_string(a)\n",
    "a"
   ]
  },
  {
   "cell_type": "markdown",
   "metadata": {},
   "source": [
    "### 3) slicing\n",
    "\n",
    "- 문제에서, 공간복잡도를 O(1)로 주어 변수 할당에 제약이 있음\n",
    "    - 즉, 주어진 리스트 s를 새로운 변수로 할당해 공간을 만들지 말라는 말!\n",
    "        - 이러면, 다음과 같은 슬라이싱은 할 수 없음 (새로운 변수가 할당되기 때문)\n",
    "```python\n",
    "s = s[::-1]\n",
    "```\n",
    "    - 이럴 때, 변수를 새로 할당하지 않으면서 슬라이싱을 통한 inplace 트릭이 있음\n",
    "```python\n",
    "s[:] = s[::-1]\n",
    "```\n",
    "        - 이러면, 새로운 공간을 할당하지 않고, inplace가능\n",
    "    "
   ]
  },
  {
   "cell_type": "code",
   "execution_count": 72,
   "metadata": {},
   "outputs": [],
   "source": [
    "a = ['h','e','l','l','o']\n",
    "def reverse_string(list_string) -> None:\n",
    "    list_string[:] = list_string[::-1]"
   ]
  },
  {
   "cell_type": "code",
   "execution_count": 73,
   "metadata": {
    "scrolled": true
   },
   "outputs": [
    {
     "data": {
      "text/plain": [
       "['o', 'l', 'l', 'e', 'h']"
      ]
     },
     "execution_count": 73,
     "metadata": {},
     "output_type": "execute_result"
    }
   ],
   "source": [
    "reverse_string(a)\n",
    "a"
   ]
  },
  {
   "cell_type": "markdown",
   "metadata": {},
   "source": [
    "# 문제 3. 가장 흔한 단어\n",
    "\n",
    "- leetcode : https://leetcode.com/problems/most-common-word"
   ]
  },
  {
   "cell_type": "markdown",
   "metadata": {},
   "source": [
    "Given a paragraph and a list of banned words, return the most frequent word that is not in the list of banned words.  It is guaranteed there is at least one word that isn't banned, and that the answer is unique.\n",
    "\n",
    "Words in the list of banned words are given in lowercase, and free of punctuation.  Words in the paragraph are not case sensitive.  The answer is in lowercase.\n",
    "\n",
    " \n",
    "\n",
    "Example:\n",
    "\n",
    "Input: \n",
    "paragraph = \"Bob hit a ball, the hit BALL flew far after it was hit.\"\n",
    "banned = [\"hit\"]\n",
    "Output: \"ball\"\n",
    "Explanation: \n",
    "\"hit\" occurs 3 times, but it is a banned word.\n",
    "\"ball\" occurs twice (and no other word does), so it is the most frequent non-banned word in the paragraph. \n",
    "Note that words in the paragraph are not case sensitive,\n",
    "that punctuation is ignored (even if adjacent to words, such as \"ball,\"), \n",
    "and that \"hit\" isn't the answer even though it occurs more because it is banned.\n",
    " \n",
    "\n",
    "Note:\n",
    "\n",
    "1 <= paragraph.length <= 1000.\n",
    "0 <= banned.length <= 100.\n",
    "1 <= banned[i].length <= 10.\n",
    "The answer is unique, and written in lowercase (even if its occurrences in paragraph may have uppercase symbols, and even if it is a proper noun.)\n",
    "paragraph only consists of letters, spaces, or the punctuation symbols !?',;.\n",
    "There are no hyphens or hyphenated words.\n",
    "Words only consist of letters, never apostrophes or other punctuation symbols."
   ]
  },
  {
   "cell_type": "markdown",
   "metadata": {},
   "source": [
    "### 로직정리\n",
    "- collections.Counter 활용해 각 string별 빈도수 체크\n",
    "- Counter().most_common(1)[0][0] 으로 가장 빈도수 높은 string(key)를 얻어낼 것"
   ]
  },
  {
   "cell_type": "code",
   "execution_count": 12,
   "metadata": {},
   "outputs": [],
   "source": [
    "class Solution:\n",
    "    def mostCommonWord(self, paragraph: str, banned):\n",
    "        # words는 banned아닌 단어들을 split해서 element가 string인 list로 만들 것\n",
    "        # 데이터 클렌징(전처리) 실시\n",
    "            # 1. paragraph에서 단어만 뽑아내기 위해, ','등은 공백으로 치환\n",
    "            # 2. 공백 기준으로 단어 split\n",
    "            # 3. 대소문자 구분 없으므로 모두 소문자로 통일\n",
    "        words = [word for word in re.sub(r'[^a-zA-Z0-9]+',' ',paragraph).lower().split() if word not in banned]\n",
    "\n",
    "        # words에서 Counter를 활용해 빈도 수 체크할 것\n",
    "        counts = Counter(words)\n",
    "\n",
    "        # 가장 높은 빈도수의 단어 뽑아낼 것\n",
    "        return counts.most_common(1)[0][0]"
   ]
  },
  {
   "cell_type": "code",
   "execution_count": 16,
   "metadata": {},
   "outputs": [
    {
     "data": {
      "text/plain": [
       "'ball'"
      ]
     },
     "execution_count": 16,
     "metadata": {},
     "output_type": "execute_result"
    }
   ],
   "source": [
    "sol = Solution()\n",
    "sol.mostCommonWord(\"Bob hit a ball, the hit BALL flew far after it was hit.\",[\"hit\"])"
   ]
  }
 ],
 "metadata": {
  "kernelspec": {
   "display_name": "Python 3",
   "language": "python",
   "name": "python3"
  },
  "language_info": {
   "codemirror_mode": {
    "name": "ipython",
    "version": 3
   },
   "file_extension": ".py",
   "mimetype": "text/x-python",
   "name": "python",
   "nbconvert_exporter": "python",
   "pygments_lexer": "ipython3",
   "version": "3.7.4"
  }
 },
 "nbformat": 4,
 "nbformat_minor": 4
}
