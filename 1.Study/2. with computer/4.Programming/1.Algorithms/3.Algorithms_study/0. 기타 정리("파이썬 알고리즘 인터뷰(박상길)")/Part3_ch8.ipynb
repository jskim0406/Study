{
 "cells": [
  {
   "cell_type": "markdown",
   "metadata": {},
   "source": [
    "# 8. 연결 리스트\n",
    "\n",
    "\n",
    "- 자료구조는 크게 2가지로 나뉨\n",
    "    - 메모리 공간 기반의 '연속' 방식\n",
    "        - ex) 배열\n",
    "    - 포인터 기반의 '연결' 방식\n",
    "        - ex) 연결리스트\n",
    "\n",
    "- 탐색 : O(n)\n",
    "- 맨 앞 추가 / 제거 : O(1)"
   ]
  },
  {
   "cell_type": "markdown",
   "metadata": {},
   "source": [
    "# 문제 1. 연결리스트의 팰린드롬 검사\n",
    "\n",
    "- leetcode : https://leetcode.com/problems/palindrome-linked-list"
   ]
  },
  {
   "cell_type": "markdown",
   "metadata": {},
   "source": [
    "```\n",
    "Given a singly linked list, determine if it is a palindrome.\n",
    "\n",
    "Example 1:\n",
    "\n",
    "Input: 1->2\n",
    "Output: false\n",
    "\n",
    "Example 2:\n",
    "\n",
    "Input: 1->2->2->1\n",
    "Output: true\n",
    "\n",
    "Follow up:\n",
    "Could you do it in O(n) time and O(1) space?\n",
    "```"
   ]
  },
  {
   "cell_type": "markdown",
   "metadata": {},
   "source": [
    "```\n",
    "runtime\n",
    "1) 168ms\n",
    "2) 68ms\n",
    "3) 60ms\n",
    "\n",
    "memory\n",
    "1) 24.3mb\n",
    "2) 24.4mb\n",
    "3) 24.3mb\n",
    "```"
   ]
  },
  {
   "cell_type": "markdown",
   "metadata": {},
   "source": [
    "### 1) 연결리스트 팰린드롬 검사 -> 리스트 변환 활용"
   ]
  },
  {
   "cell_type": "code",
   "execution_count": 1,
   "metadata": {},
   "outputs": [],
   "source": [
    "# Definition for singly-linked list.\n",
    "# class ListNode:\n",
    "#     def __init__(self, val=0, next=None):\n",
    "#         self.val = val\n",
    "#         self.next = next\n",
    "class Solution:\n",
    "    def isPalindrome(self, head):\n",
    "        list_ = []\n",
    "        \n",
    "        # 빈 연결리스트가 주어진다면 -> True 반환\n",
    "        if head == None:\n",
    "            return True\n",
    "        \n",
    "        # 1. 연결리스트를 리스트로 변환\n",
    "        node = head\n",
    "        while node:\n",
    "            list_.append(node.val)\n",
    "            node = node.next\n",
    "            \n",
    "        # 2. 리스트에서 팰린드롬 검사\n",
    "        ### 슬라이싱 활용한 검사가 더 빠르지만, deque와의 비교를 위해 pop 활용\n",
    "        while len(list_)>1:\n",
    "            if list_.pop(0) != list_.pop():\n",
    "                return False\n",
    "            \n",
    "        return True"
   ]
  },
  {
   "cell_type": "markdown",
   "metadata": {},
   "source": [
    "**submit 결과**\n",
    "- 성공"
   ]
  },
  {
   "cell_type": "markdown",
   "metadata": {},
   "source": [
    "### 2) 연결리스트 팰린드롬 검사 -> 리스트 변환 + deque 이용 최적화\n",
    "\n",
    "- 리스트 변환 후, palindrome 검사 과정에서 deque를 이용해, 맨 앞 아이템 pop 의 속도 개선\n",
    "- 리스트의 맨 앞 아이템 pop => O(n) / deque의 맨 앞 아이템 pop => O(1)\n",
    "- deque : Double Ended Queue (Double linked list 구조)"
   ]
  },
  {
   "cell_type": "code",
   "execution_count": null,
   "metadata": {},
   "outputs": [],
   "source": [
    "# Definition for singly-linked list.\n",
    "# class ListNode:\n",
    "#     def __init__(self, val=0, next=None):\n",
    "#         self.val = val\n",
    "#         self.next = next\n",
    "class Solution:\n",
    "    def isPalindrome(self, head):\n",
    "        dq_ = collections.deque()   # 리스트가 아닌, deque(double linked list) 활용\n",
    "        \n",
    "        # 빈 연결리스트가 주어진다면 -> True 반환\n",
    "        if head == None:\n",
    "            return True\n",
    "        \n",
    "        # 1. 데이터의 자료구조를 연결리스트에서 deque로 변환\n",
    "        node = head\n",
    "        while node:\n",
    "            dq_.append(node.val)\n",
    "            node = node.next\n",
    "            \n",
    "        # 2. deque에서 팰린드롬 검사\n",
    "        while len(dq_)>1:\n",
    "            if dq_.popleft() != dq_.pop():\n",
    "                return False\n",
    "            \n",
    "        return True"
   ]
  },
  {
   "cell_type": "markdown",
   "metadata": {},
   "source": [
    "**submit 결과**\n",
    "- 성공"
   ]
  },
  {
   "cell_type": "markdown",
   "metadata": {},
   "source": [
    "### 3) 연결리스트 팰린드롬 검사 -> runner 기법 + '역순' 연결리스트 활용\n",
    "\n",
    "```python\n",
    "    \n",
    "1. runner 기법으로 slow를 '가운데'에 위치시킴\n",
    "    \n",
    "2. '역순 연결리스트 <<-- slow -->> 잔존 연결리스트' 탐색하며\n",
    "\n",
    "    while + if 역순 연결리스트 == slow부터의 잔존 연결리스트:\n",
    "        True palindrome!\n",
    "        \n",
    "```"
   ]
  },
  {
   "cell_type": "code",
   "execution_count": null,
   "metadata": {},
   "outputs": [],
   "source": [
    "# Definition for singly-linked list.\n",
    "# class ListNode:\n",
    "#     def __init__(self, val=0, next=None):\n",
    "#         self.val = val\n",
    "#         self.next = next\n",
    "class Solution:\n",
    "    def isPalindrome(self, head):\n",
    "        # runner 기법 위한 세팅\n",
    "        fast = slow = head\n",
    "        # 팰린드롬 검사를 위해 역순 연결리스트를 활용하기 위해 역순연결리스트 생성\n",
    "        reverse_ = None\n",
    "        \n",
    "        # runner 기법으로 slow를 가운데에 위치시키기\n",
    "        while fast and fast.next:\n",
    "            # fast 이동\n",
    "            fast = fast.next.next\n",
    "            # slow 이동 + 역순 연결리스트 채우기\n",
    "            reverse_, reverse_.next, slow = slow, reverse_, slow.next\n",
    "        \n",
    "        # 단, slow를 중간에 위치시키는 것은 입력값이 홀수개 / 짝수개에 따라 다르다.\n",
    "        # 입력값이 홀수개라면, slow는 fast가 끝까지 간 후, slow가 한 칸 더 움직여야 한다.\n",
    "        # fast가 True라는 것은, 입력값이 홀수개라는 것을 의미. (0->2->4 : 입력값 5개 -> True // 4 or 6개 -> False)\n",
    "        if fast:\n",
    "            slow = slow.next\n",
    "            \n",
    "        \n",
    "        # palindrome 검사!\n",
    "        # reverse_ 모두 이동할 때까지 같은 경우 반복시킴\n",
    "        while reverse_ and slow.val == reverse_.val:\n",
    "            slow, reverse_ = slow.next, reverse_.next\n",
    "        \n",
    "        # return은 not revesre_ / not slow 모두 가능\n",
    "        # palindrome검사 코드를 통해, 모두 같다면 .next로 이동하며 slow와 reverse_ 모두 None일 것.\n",
    "        # palindrome이 맞다면, not slow(= not None). 즉 True / 아니라면. not slow(= not something). 즉 False\n",
    "        return not reverse_\n"
   ]
  }
 ],
 "metadata": {
  "kernelspec": {
   "display_name": "Python 3",
   "language": "python",
   "name": "python3"
  },
  "language_info": {
   "codemirror_mode": {
    "name": "ipython",
    "version": 3
   },
   "file_extension": ".py",
   "mimetype": "text/x-python",
   "name": "python",
   "nbconvert_exporter": "python",
   "pygments_lexer": "ipython3",
   "version": "3.7.4"
  }
 },
 "nbformat": 4,
 "nbformat_minor": 4
}
