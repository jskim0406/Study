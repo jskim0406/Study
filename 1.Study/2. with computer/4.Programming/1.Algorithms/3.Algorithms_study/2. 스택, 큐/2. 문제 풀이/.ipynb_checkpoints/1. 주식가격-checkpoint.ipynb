{
 "cells": [
  {
   "cell_type": "markdown",
   "metadata": {},
   "source": [
    "# 1. 주식가격\n"
   ]
  },
  {
   "cell_type": "markdown",
   "metadata": {},
   "source": [
    "[문제](https://programmers.co.kr/learn/courses/30/lessons/42584)"
   ]
  },
  {
   "cell_type": "markdown",
   "metadata": {},
   "source": [
    "### 1) 1차"
   ]
  },
  {
   "cell_type": "code",
   "execution_count": 1,
   "metadata": {},
   "outputs": [],
   "source": [
    "def solution(prices):\n",
    "    answer = []\n",
    "    cnt = 0\n",
    "    \n",
    "    for i in range(len(prices)):\n",
    "        for j in range(i, len(prices)-1):\n",
    "            if prices[i] <= prices[j]:\n",
    "                cnt += 1\n",
    "                    \n",
    "        answer.append(cnt)\n",
    "        cnt = 0\n",
    "    return answer"
   ]
  },
  {
   "cell_type": "code",
   "execution_count": 2,
   "metadata": {},
   "outputs": [
    {
     "data": {
      "text/plain": [
       "[4, 3, 1, 1, 0]"
      ]
     },
     "execution_count": 2,
     "metadata": {},
     "output_type": "execute_result"
    }
   ],
   "source": [
    "solution([1, 2, 3, 2, 3])"
   ]
  },
  {
   "cell_type": "markdown",
   "metadata": {},
   "source": [
    "### 결과\n",
    "\n",
    "- 10개 중 9개 case fail\n",
    "- **시간 초과**"
   ]
  },
  {
   "cell_type": "markdown",
   "metadata": {},
   "source": [
    "### 2) 2차\n",
    "\n",
    "- 일단 시간 복잡도를 줄이기 위해, 주식가격이 떨어진 경우 for순환에서 break 하도록 코드 추가하는 수정"
   ]
  },
  {
   "cell_type": "code",
   "execution_count": 3,
   "metadata": {},
   "outputs": [],
   "source": [
    "def solution(prices):\n",
    "    answer = []\n",
    "    cnt = 0\n",
    "    \n",
    "    for i in range(len(prices)):\n",
    "        for j in range(i, len(prices)-1):\n",
    "            if prices[i] <= prices[j]:\n",
    "                cnt += 1\n",
    "\n",
    "            # 수정 부분\n",
    "            else:\n",
    "                break\n",
    "                    \n",
    "        answer.append(cnt)\n",
    "        cnt = 0\n",
    "    return answer"
   ]
  },
  {
   "cell_type": "code",
   "execution_count": 5,
   "metadata": {},
   "outputs": [
    {
     "data": {
      "text/plain": [
       "[4, 3, 1, 1, 0]"
      ]
     },
     "execution_count": 5,
     "metadata": {},
     "output_type": "execute_result"
    }
   ],
   "source": [
    "solution([1, 2, 3, 2, 3])"
   ]
  },
  {
   "cell_type": "markdown",
   "metadata": {},
   "source": [
    "### 결과\n",
    "\n",
    "- 성공"
   ]
  }
 ],
 "metadata": {
  "kernelspec": {
   "display_name": "Python 3",
   "language": "python",
   "name": "python3"
  },
  "language_info": {
   "codemirror_mode": {
    "name": "ipython",
    "version": 3
   },
   "file_extension": ".py",
   "mimetype": "text/x-python",
   "name": "python",
   "nbconvert_exporter": "python",
   "pygments_lexer": "ipython3",
   "version": "3.7.4"
  }
 },
 "nbformat": 4,
 "nbformat_minor": 4
}
