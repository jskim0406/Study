{
 "cells": [
  {
   "cell_type": "markdown",
   "metadata": {},
   "source": [
    "# 3. 다리를 지나는 트럭"
   ]
  },
  {
   "cell_type": "markdown",
   "metadata": {},
   "source": [
    "[문제](https://programmers.co.kr/learn/courses/30/lessons/42583)"
   ]
  },
  {
   "cell_type": "code",
   "execution_count": 84,
   "metadata": {},
   "outputs": [],
   "source": [
    "def solution(bridge_length, weight, left):\n",
    "    num_of_cars = len(left)\n",
    "    done, doing = [], []\n",
    "    total_sec = 0\n",
    "    doing_sec = []\n",
    "    \n",
    "    while len(done) <= num_of_cars:\n",
    "        total_sec += 1\n",
    "        \n",
    "        if left != []:\n",
    "            # left에서 doing으로 append시 (다리를 건널 때)\n",
    "            if sum(doing) + left[0] <= weight:\n",
    "                move_doing = left.pop(0)\n",
    "                doing.append(move_doing)\n",
    "                doing_sec.append([move_doing,0])\n",
    "\n",
    "            for i in range(len(doing_sec)):\n",
    "                    doing_sec[i][1] += 1\n",
    "                    \n",
    "            # doing -> done or not\n",
    "            if doing_sec[0][1] >= 2:\n",
    "                move_done = doing.pop(0)\n",
    "                doing_sec.pop(0)\n",
    "                done.append(move_done)\n",
    "\n",
    "            print(f'done : {done}, doing : {doing}, doing_sec : {doing_sec}, left : {left}, \\'a')\n",
    "            \n",
    "        elif left == [] and doing != []:\n",
    "            \n",
    "            for i in range(len(doing_sec)):\n",
    "                    doing_sec[i][1] += 1\n",
    "                    \n",
    "            # doing -> done or not\n",
    "            if doing_sec[0][1] >= bridge_length:\n",
    "                move_done = doing.pop(0)\n",
    "                doing_sec.pop(0)\n",
    "                done.append(move_done)\n",
    "\n",
    "            print(f'done : {done}, doing : {doing}, doing_sec : {doing_sec}, left : {left}, \\'b')\n",
    "            \n",
    "        else:\n",
    "            return total_sec"
   ]
  },
  {
   "cell_type": "code",
   "execution_count": 79,
   "metadata": {},
   "outputs": [
    {
     "name": "stdout",
     "output_type": "stream",
     "text": [
      "[] [7] [[7, 1]] [4, 5, 6]\n",
      "[] [7] [[7, 1]] [4, 5, 6] a\n",
      "[] [7] [[7, 2]] [4, 5, 6]\n",
      "[7] [] [] [4, 5, 6] a\n",
      "[7] [4] [[4, 1]] [5, 6]\n",
      "[7] [4] [[4, 1]] [5, 6] a\n",
      "[7] [4, 5] [[4, 2], [5, 1]] [6]\n",
      "[7, 4] [5] [[5, 1]] [6] a\n",
      "[7, 4] [5] [[5, 2]] [6]\n",
      "[7, 4, 5] [] [] [6] a\n",
      "[7, 4, 5] [6] [[6, 1]] []\n",
      "[7, 4, 5] [6] [[6, 1]] [] a\n",
      "[7, 4, 5, 6] [] [] [] b\n"
     ]
    },
    {
     "data": {
      "text/plain": [
       "8"
      ]
     },
     "execution_count": 79,
     "metadata": {},
     "output_type": "execute_result"
    }
   ],
   "source": [
    "solution(2,10,[7,4,5,6])"
   ]
  },
  {
   "cell_type": "code",
   "execution_count": 92,
   "metadata": {},
   "outputs": [],
   "source": [
    "def solution(bridge_length, weight, left):\n",
    "    num_of_cars = len(left)\n",
    "    done, doing = [], []\n",
    "    total_sec = 0\n",
    "    doing_sec = []\n",
    "    \n",
    "    while len(done) <= num_of_cars:\n",
    "        total_sec += 1\n",
    "        \n",
    "        if left != []:\n",
    "            # left에서 doing으로 append시 (다리를 건널 때)\n",
    "            if sum(doing) + left[0] <= weight:\n",
    "                move_doing = left.pop(0)\n",
    "                doing.append(move_doing)\n",
    "                doing_sec.append([move_doing,0])\n",
    "\n",
    "            for i in range(len(doing_sec)):\n",
    "                    doing_sec[i][1] += 1\n",
    "                    \n",
    "            # doing -> done or not\n",
    "            if doing_sec[0][1] >= 2:\n",
    "                move_done = doing.pop(0)\n",
    "                doing_sec.pop(0)\n",
    "                done.append(move_done)\n",
    "            \n",
    "        elif left == [] and doing != []:\n",
    "            \n",
    "            for i in range(len(doing_sec)):\n",
    "                    doing_sec[i][1] += 1\n",
    "                    \n",
    "            # doing -> done or not\n",
    "            if doing_sec[0][1] >= 2:\n",
    "                move_done = doing.pop(0)\n",
    "                doing_sec.pop(0)\n",
    "                done.append(move_done)\n",
    "            \n",
    "        else:\n",
    "            return total_sec"
   ]
  },
  {
   "cell_type": "markdown",
   "metadata": {},
   "source": [
    "**실행 결과**\n",
    "\n",
    "- fail\n",
    "- 3개 케이스 중 2개 케이스 fail\n",
    "\n",
    "```\n",
    "[틀린 케이스]\n",
    "\n",
    "입력값 〉\t100, 100, [10, 10, 10, 10, 10, 10, 10, 10, 10, 10]\n",
    "기댓값 〉\t110\n",
    "실행 결과 〉\t실행한 결괏값 12이(가) 기댓값 110와(과) 다릅니다.\n",
    "```"
   ]
  },
  {
   "cell_type": "markdown",
   "metadata": {},
   "source": [
    "**디버깅**\n",
    "\n",
    "- line 32 에서 doing_sec <= 2로 비교해서 코드 작성\n",
    "- line 32 정정 : doing_sec <= bridge_length"
   ]
  },
  {
   "cell_type": "code",
   "execution_count": null,
   "metadata": {},
   "outputs": [],
   "source": [
    "def solution(bridge_length, weight, left):\n",
    "    num_of_cars = len(left)\n",
    "    done, doing = [], []\n",
    "    total_sec = 0\n",
    "    doing_sec = []\n",
    "    \n",
    "    while len(done) <= num_of_cars:\n",
    "        total_sec += 1\n",
    "        \n",
    "        if left != []:\n",
    "            # left에서 doing으로 append시 (다리를 건널 때)\n",
    "            if sum(doing) + left[0] <= weight:\n",
    "                move_doing = left.pop(0)\n",
    "                doing.append(move_doing)\n",
    "                doing_sec.append([move_doing,0])\n",
    "\n",
    "            for i in range(len(doing_sec)):\n",
    "                    doing_sec[i][1] += 1\n",
    "                    \n",
    "            # doing -> done or not\n",
    "            if doing_sec[0][1] >= 2:\n",
    "                move_done = doing.pop(0)\n",
    "                doing_sec.pop(0)\n",
    "                done.append(move_done)\n",
    "            \n",
    "        elif left == [] and doing != []:\n",
    "            \n",
    "            for i in range(len(doing_sec)):\n",
    "                    doing_sec[i][1] += 1\n",
    "                    \n",
    "            # doing -> done or not\n",
    "            if doing_sec[0][1] >= bridge_length:\n",
    "                move_done = doing.pop(0)\n",
    "                doing_sec.pop(0)\n",
    "                done.append(move_done)\n",
    "            \n",
    "        else:\n",
    "            return total_sec"
   ]
  },
  {
   "cell_type": "markdown",
   "metadata": {},
   "source": [
    "**실행 결과**\n",
    "\n",
    "- fail\n",
    "- 14개 케이스 중 11개 fail"
   ]
  },
  {
   "cell_type": "markdown",
   "metadata": {},
   "source": [
    "**디버깅**\n",
    "\n",
    "- line 21 에서 doing_sec <= 2로 비교해서 코드 작성\n",
    "- line 21 정정 : doing_sec <= bridge_length"
   ]
  },
  {
   "cell_type": "code",
   "execution_count": 95,
   "metadata": {},
   "outputs": [
    {
     "data": {
      "text/plain": [
       "101"
      ]
     },
     "execution_count": 95,
     "metadata": {},
     "output_type": "execute_result"
    }
   ],
   "source": [
    "solution(100,100,[10])"
   ]
  },
  {
   "cell_type": "code",
   "execution_count": null,
   "metadata": {},
   "outputs": [],
   "source": [
    "def solution(bridge_length, weight, left):\n",
    "    num_of_cars = len(left)\n",
    "    done, doing = [], []\n",
    "    total_sec = 0\n",
    "    doing_sec = []\n",
    "    \n",
    "    while len(done) <= num_of_cars:\n",
    "        \n",
    "        # done <- doing <- left 구조로 트럭 이동시키며, 소요시간을 return할 계획\n",
    "        # 각 done, doing, left는 큐 구조를 활용해 FIFO 원리를 활용할 것\n",
    "        \n",
    "        total_sec += 1\n",
    "        \n",
    "        # 대기하는 트럭이 남아있다면\n",
    "        if left != []:\n",
    "            # Q1. doing <- left 넘길 것인가? (고려사항 : 무게)\n",
    "            if sum(doing) + left[0] <= weight:\n",
    "                move_doing = left.pop(0)  # FIFO 큐 구조 활용\n",
    "                doing.append(move_doing)  # 큐 put\n",
    "                doing_sec.append([move_doing,0])  # 큐 put\n",
    "\n",
    "            for i in range(len(doing_sec)):\n",
    "                    doing_sec[i][1] += 1\n",
    "                    \n",
    "            # Q2. done <- doing 넘길 것인가? (고려사항 : 다리길이(=다리 지나는 시간))\n",
    "            if doing_sec[0][1] >= bridge_length:\n",
    "                move_done = doing.pop(0)\n",
    "                doing_sec.pop(0)\n",
    "                done.append(move_done)\n",
    "\n",
    "        # 대기하는 트럭은 없고, 모두 다리 위에만 있다면\n",
    "        elif left == [] and doing != []:\n",
    "            \n",
    "            for i in range(len(doing_sec)):\n",
    "                    doing_sec[i][1] += 1\n",
    "                    \n",
    "            # Q2. done <- doing 넘길 것인가? (고려사항 : 다리길이(=다리 지나는 시간))\n",
    "            if doing_sec[0][1] >= bridge_length:\n",
    "                move_done = doing.pop(0)\n",
    "                doing_sec.pop(0)\n",
    "                done.append(move_done)\n",
    "            \n",
    "        # 대기도, 다리 위에도 트럭이 없다면 (= 모두 다리를 지났다면)\n",
    "        else:\n",
    "            return total_sec"
   ]
  },
  {
   "cell_type": "markdown",
   "metadata": {},
   "source": [
    "**실행 결과**\n",
    "\n",
    "- 성공"
   ]
  }
 ],
 "metadata": {
  "kernelspec": {
   "display_name": "Python 3",
   "language": "python",
   "name": "python3"
  },
  "language_info": {
   "codemirror_mode": {
    "name": "ipython",
    "version": 3
   },
   "file_extension": ".py",
   "mimetype": "text/x-python",
   "name": "python",
   "nbconvert_exporter": "python",
   "pygments_lexer": "ipython3",
   "version": "3.7.4"
  }
 },
 "nbformat": 4,
 "nbformat_minor": 4
}
