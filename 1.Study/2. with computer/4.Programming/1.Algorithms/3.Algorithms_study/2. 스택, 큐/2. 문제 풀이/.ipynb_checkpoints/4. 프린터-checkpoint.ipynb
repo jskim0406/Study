{
 "cells": [
  {
   "cell_type": "markdown",
   "metadata": {},
   "source": [
    "# 4. 프린터"
   ]
  },
  {
   "cell_type": "markdown",
   "metadata": {},
   "source": [
    "[문제](https://programmers.co.kr/learn/courses/30/lessons/42587)"
   ]
  },
  {
   "cell_type": "markdown",
   "metadata": {},
   "source": [
    "### 접근\n",
    "\n",
    "1. task별 중요도가 제시되기에, 우선순위큐를 활용하기로 함\n",
    "2. 처음엔, queue라이브러리에 내장된 우선순위 큐로 접근함\n",
    "3. 하지만, queue라이브러리의 클래스는 인덱싱이 불가함. 따라서, iterable하지 않아 for로도 접근 불가\n",
    "    - 오직 put, get으로 만 접근 가능\n",
    "4. 따라서, **리스트를 활용해 우선순위 큐를 구현**해 활용하기로 함.\n",
    "5. 리스트에 **튜플로 (우선순위, 값)**을 저장\n",
    "6. list.pop(0)으로, 가장 앞의 task를 뽑아내고\n",
    "7. list[i][0]으로 우선순위에 접근 (list[i] = (우선순위, 값))"
   ]
  },
  {
   "cell_type": "code",
   "execution_count": 10,
   "metadata": {},
   "outputs": [],
   "source": [
    "def solution(priorities, location):\n",
    "    \n",
    "    ## 새로 사용한 공간\n",
    "    # tasks[] : 최초로 주어진 task목록((우선순위, 값) 형식)\n",
    "    # task_final[] : 정렬 후 최종적인 task목록\n",
    "    \n",
    "    tasks, task_final = [], []\n",
    "    for task_name, priority in enumerate(priorities):\n",
    "        tasks.append((priority,task_name))\n",
    "\n",
    "    while tasks:\n",
    "        temp = True\n",
    "        first = tasks.pop(0)\n",
    "        # 나머지 중 하나라도 더 중요한 게 있다면, temp = False / first가 제일 중요하다면, temp = True\n",
    "        for i in range(len(tasks)):\n",
    "            if first[0] < tasks[i][0]:\n",
    "                temp=False # 제일 먼저 가면 안된다.\n",
    "\n",
    "        # 가장 중요하다면(temp=True), 바로 최종 인쇄 순서에 차례로 넣는다.\n",
    "        if temp == True:\n",
    "            task_final.append(first)\n",
    "            \n",
    "        # 나머지에 더 중요한게 있다면(temp=False), 기존 tasks의 맨 뒤로 다시 넣는다.\n",
    "        else:\n",
    "            tasks.append(first)\n",
    "\n",
    "    for idx, task in enumerate(task_final):\n",
    "        if task[1] == location:\n",
    "            return idx+1"
   ]
  },
  {
   "cell_type": "code",
   "execution_count": 11,
   "metadata": {},
   "outputs": [
    {
     "data": {
      "text/plain": [
       "5"
      ]
     },
     "execution_count": 11,
     "metadata": {},
     "output_type": "execute_result"
    }
   ],
   "source": [
    "solution([1, 1, 9, 1, 1, 1],0)"
   ]
  },
  {
   "cell_type": "code",
   "execution_count": 12,
   "metadata": {},
   "outputs": [
    {
     "data": {
      "text/plain": [
       "1"
      ]
     },
     "execution_count": 12,
     "metadata": {},
     "output_type": "execute_result"
    }
   ],
   "source": [
    "solution([2, 1, 3, 2],2)"
   ]
  }
 ],
 "metadata": {
  "kernelspec": {
   "display_name": "Python 3",
   "language": "python",
   "name": "python3"
  },
  "language_info": {
   "codemirror_mode": {
    "name": "ipython",
    "version": 3
   },
   "file_extension": ".py",
   "mimetype": "text/x-python",
   "name": "python",
   "nbconvert_exporter": "python",
   "pygments_lexer": "ipython3",
   "version": "3.7.4"
  }
 },
 "nbformat": 4,
 "nbformat_minor": 4
}
