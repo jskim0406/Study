{
 "cells": [
  {
   "cell_type": "markdown",
   "metadata": {},
   "source": [
    "# 2. 기능개발"
   ]
  },
  {
   "cell_type": "markdown",
   "metadata": {},
   "source": [
    "[문제](https://programmers.co.kr/learn/courses/30/lessons/42586)"
   ]
  },
  {
   "cell_type": "markdown",
   "metadata": {},
   "source": [
    "### 1) 1차"
   ]
  },
  {
   "cell_type": "code",
   "execution_count": 80,
   "metadata": {},
   "outputs": [],
   "source": [
    "def solution(progresses, speeds):\n",
    "    answer = []\n",
    "    days_list = []\n",
    "    \n",
    "    # 각 task별 소요일수 계산 후, task 우선순위대로 소요일수를 stack(List type 활용)\n",
    "    for i in range(len(progresses)):\n",
    "        days_left = 100-progresses[i]\n",
    "        if days_left%speeds[i]==0:\n",
    "            days_spent = days_left//speeds[i]\n",
    "        else:\n",
    "            days_spent = days_left//speeds[i] + 1\n",
    "    \n",
    "        days_list.append(days_spent)\n",
    "        days_spent = 0\n",
    "\n",
    "    \n",
    "    # 소요일수가 \"오르지 않는 날\"의 지속기간 count(\"주식가격\"문제와 동일한 구조)\n",
    "    cnt, idx = 1, 0\n",
    "    # stack이되, pop(0)으로 FIFO 구조로 활용\n",
    "    temp = days_list.pop(0)\n",
    "    while len(days_list) > idx:\n",
    "        \n",
    "        if temp >= days_list[idx]:\n",
    "            cnt += 1\n",
    "            days_list.pop(0)\n",
    "        \n",
    "            if len(days_list)<=1:\n",
    "                answer.append(cnt)\n",
    "\n",
    "        else:\n",
    "            answer.append(cnt)\n",
    "            cnt = 1\n",
    "            temp = days_list.pop(0)\n",
    "    \n",
    "    return answer"
   ]
  },
  {
   "cell_type": "markdown",
   "metadata": {},
   "source": [
    "### 결과\n",
    "\n",
    "**[테스트 1] 에서 fail**\n",
    "- 입력값 〉\t[93, 30, 55], [1, 30, 5]\n",
    "- 기댓값 〉\t[2, 1]\n",
    "- 실행 결과 〉\t실행한 결괏값 [2]이(가) 기댓값 [2,1]와(과) 다릅니다."
   ]
  },
  {
   "cell_type": "markdown",
   "metadata": {},
   "source": [
    "### 2) 2차"
   ]
  },
  {
   "cell_type": "code",
   "execution_count": 87,
   "metadata": {},
   "outputs": [],
   "source": [
    "def solution(progresses, speeds):\n",
    "    answer = []\n",
    "    days_list = []\n",
    "    \n",
    "    # 각 task별 소요일수 계산 후, task 우선순위대로 소요일수를 stack(List type 활용)\n",
    "    for i in range(len(progresses)):\n",
    "        days_left = 100-progresses[i]\n",
    "        if days_left%speeds[i]==0:\n",
    "            days_spent = days_left//speeds[i]\n",
    "        else:\n",
    "            days_spent = days_left//speeds[i] + 1\n",
    "    \n",
    "        days_list.append(days_spent)\n",
    "        days_spent = 0\n",
    "\n",
    "    \n",
    "    # 소요일수가 \"오르지 않는 날\"의 지속기간 count(\"주식가격\"문제와 동일한 구조)\n",
    "    cnt, idx = 1, 0\n",
    "    # stack이되, pop(0)으로 FIFO 구조로 활용\n",
    "    temp = days_list.pop(0)\n",
    "    while len(days_list) > idx:\n",
    "        \n",
    "        print(f\"days_list : {days_list}, temp : {temp}, idx : {idx}, cnt : {cnt}\")\n",
    "        \n",
    "        if temp >= days_list[idx]:\n",
    "            cnt += 1\n",
    "            days_list.pop(0)\n",
    "        \n",
    "            if len(days_list)<=1:\n",
    "                answer.append(cnt)\n",
    "                cnt = 1  # 이걸 빼먹어서, solution([93, 30, 55], [1, 30, 5]) 케이스에서 [2,1]이 아닌 [2,2]가 나온 것\n",
    "\n",
    "        else:\n",
    "            answer.append(cnt)\n",
    "            cnt = 1\n",
    "            temp = days_list.pop(0)\n",
    "    \n",
    "    return answer"
   ]
  },
  {
   "cell_type": "code",
   "execution_count": 85,
   "metadata": {
    "scrolled": true
   },
   "outputs": [
    {
     "name": "stdout",
     "output_type": "stream",
     "text": [
      "days_list : [3, 9], temp : 7, idx : 0, cnt : 1\n",
      "days_list : [9], temp : 7, idx : 0, cnt : 1\n"
     ]
    },
    {
     "data": {
      "text/plain": [
       "[2, 1]"
      ]
     },
     "execution_count": 85,
     "metadata": {},
     "output_type": "execute_result"
    }
   ],
   "source": [
    "solution([93, 30, 55], [1, 30, 5])"
   ]
  },
  {
   "cell_type": "code",
   "execution_count": 86,
   "metadata": {},
   "outputs": [
    {
     "name": "stdout",
     "output_type": "stream",
     "text": [
      "days_list : [10, 1, 1, 20, 1], temp : 5, idx : 0, cnt : 1\n",
      "days_list : [1, 1, 20, 1], temp : 10, idx : 0, cnt : 1\n",
      "days_list : [1, 20, 1], temp : 10, idx : 0, cnt : 2\n",
      "days_list : [20, 1], temp : 10, idx : 0, cnt : 3\n",
      "days_list : [1], temp : 20, idx : 0, cnt : 1\n"
     ]
    },
    {
     "data": {
      "text/plain": [
       "[1, 3, 2]"
      ]
     },
     "execution_count": 86,
     "metadata": {},
     "output_type": "execute_result"
    }
   ],
   "source": [
    "solution([95, 90, 99, 99, 80, 99],[1, 1, 1, 1, 1, 1])"
   ]
  },
  {
   "cell_type": "markdown",
   "metadata": {},
   "source": [
    "### 결과\n",
    "\n",
    "- 11개 case 중 10개 틀림"
   ]
  },
  {
   "cell_type": "markdown",
   "metadata": {},
   "source": [
    "### 3차)"
   ]
  },
  {
   "cell_type": "markdown",
   "metadata": {},
   "source": [
    "**디버깅**"
   ]
  },
  {
   "cell_type": "code",
   "execution_count": 104,
   "metadata": {},
   "outputs": [],
   "source": [
    "def solution(progresses, speeds):\n",
    "    answer = []\n",
    "    days_list = []\n",
    "    \n",
    "    # 각 task별 소요일수 계산 후, task 우선순위대로 소요일수를 stack(List type 활용)\n",
    "    for i in range(len(progresses)):\n",
    "        days_left = 100-progresses[i]\n",
    "        if days_left%speeds[i]==0:\n",
    "            days_spent = days_left//speeds[i]\n",
    "        else:\n",
    "            days_spent = days_left//speeds[i] + 1\n",
    "    \n",
    "        days_list.append(days_spent)\n",
    "        days_spent = 0\n",
    "\n",
    "    \n",
    "    # 소요일수가 \"오르지 않는 날\"의 지속기간 count(\"주식가격\"문제와 동일한 구조)\n",
    "    cnt, idx = 1, 0\n",
    "    # stack이되, pop(0)으로 FIFO 구조로 활용\n",
    "    temp = days_list.pop(0)\n",
    "    while len(days_list) > idx:\n",
    "        \n",
    "        if temp >= days_list[idx]:\n",
    "            cnt += 1\n",
    "            days_list.pop(0)\n",
    "        \n",
    "            if len(days_list)<=1:\n",
    "                answer.append(cnt)\n",
    "                cnt = 1\n",
    "\n",
    "        else:\n",
    "            answer.append(cnt)\n",
    "            cnt = 1\n",
    "            temp = days_list.pop(0)\n",
    "    \n",
    "    return answer"
   ]
  },
  {
   "cell_type": "code",
   "execution_count": 105,
   "metadata": {},
   "outputs": [
    {
     "data": {
      "text/plain": [
       "[2, 1]"
      ]
     },
     "execution_count": 105,
     "metadata": {},
     "output_type": "execute_result"
    }
   ],
   "source": [
    "solution([93, 30, 55], [1, 30, 5])"
   ]
  },
  {
   "cell_type": "code",
   "execution_count": 106,
   "metadata": {},
   "outputs": [
    {
     "data": {
      "text/plain": [
       "[1, 3, 2]"
      ]
     },
     "execution_count": 106,
     "metadata": {},
     "output_type": "execute_result"
    }
   ],
   "source": [
    "solution([95, 90, 99, 99, 80, 99],[1, 1, 1, 1, 1, 1])"
   ]
  },
  {
   "cell_type": "code",
   "execution_count": 107,
   "metadata": {
    "scrolled": false
   },
   "outputs": [
    {
     "data": {
      "text/plain": [
       "[1, 2]"
      ]
     },
     "execution_count": 107,
     "metadata": {},
     "output_type": "execute_result"
    }
   ],
   "source": [
    "solution([93, 30, 55], [1, 1, 5])"
   ]
  },
  {
   "cell_type": "code",
   "execution_count": 108,
   "metadata": {},
   "outputs": [
    {
     "data": {
      "text/plain": [
       "[1, 1]"
      ]
     },
     "execution_count": 108,
     "metadata": {},
     "output_type": "execute_result"
    }
   ],
   "source": [
    "# 이 케이스에서 오답!\n",
    "# 정답 :  [1,1,1], 출력값 : [1,1]\n",
    "solution([93, 30, 55], [1, 9, 5])"
   ]
  },
  {
   "cell_type": "markdown",
   "metadata": {},
   "source": [
    "**수정**\n",
    "\n",
    "- days_list가 비면, whlie문을 벗어나 기존의 누적된 cnt를 그대로 append! (answer.append(cnt))\n",
    "- while문은 \"value값이 오르지 않는 날\" 의 지속기간을 count하는 역할. 이는 days_list가 빈 컨테이너가 되면(더이상 비교 대상이 없게되면), while문의 역할을 더이상 할 수 없게 된다.\n",
    "- 따라서, 이 경우, while문을 벗어나 그대로 cnt를 출력하도록 해야 함.\n",
    "- 위의 디버깅 코드에선, days_list = [] 인 경우, while문 안에 들어갈 수 없어, answer에 아무것도 append되지 않는 문제가 발생했던 것"
   ]
  },
  {
   "cell_type": "code",
   "execution_count": 119,
   "metadata": {},
   "outputs": [],
   "source": [
    "def solution(progresses, speeds):\n",
    "    answer = []\n",
    "    days_list = []\n",
    "    \n",
    "    # 각 task별 소요일수 계산 후, task 우선순위대로 소요일수를 stack(List type 활용)\n",
    "    for i in range(len(progresses)):\n",
    "        days_left = 100-progresses[i]\n",
    "        if days_left%speeds[i]==0:\n",
    "            days_spent = days_left//speeds[i]\n",
    "        else:\n",
    "            days_spent = days_left//speeds[i] + 1\n",
    "    \n",
    "        days_list.append(days_spent)\n",
    "        days_spent = 0\n",
    "\n",
    "    \n",
    "    # 소요일수가 \"오르지 않는 날\"의 지속기간 count(\"주식가격\"문제와 동일한 구조)\n",
    "    cnt, idx = 1, 0\n",
    "    # stack이되, pop(0)으로 FIFO 구조로 활용\n",
    "    temp = days_list.pop(0)\n",
    "    \n",
    "    ## 수정 1\n",
    "    while days_list:\n",
    "        \n",
    "        if temp >= days_list[idx]:\n",
    "            cnt += 1\n",
    "            days_list.pop(0)\n",
    "\n",
    "        else:\n",
    "            answer.append(cnt)\n",
    "            cnt = 1\n",
    "            temp = days_list.pop(0)\n",
    "        \n",
    "    ## 수정 2\n",
    "    answer.append(cnt)\n",
    "    \n",
    "    return answer"
   ]
  },
  {
   "cell_type": "code",
   "execution_count": 120,
   "metadata": {},
   "outputs": [
    {
     "name": "stdout",
     "output_type": "stream",
     "text": [
      "days_list : [8, 9], temp : 7, idx : 0, cnt : 1\n",
      "days_list : [9], temp : 8, idx : 0, cnt : 1\n"
     ]
    },
    {
     "data": {
      "text/plain": [
       "[1, 1, 1]"
      ]
     },
     "execution_count": 120,
     "metadata": {},
     "output_type": "execute_result"
    }
   ],
   "source": [
    "# 이 케이스에서 오답!\n",
    "# 정답 :  [1,1,1], 출력값 : [1,1]\n",
    "solution([93, 30, 55], [1, 9, 5])"
   ]
  },
  {
   "cell_type": "code",
   "execution_count": 121,
   "metadata": {},
   "outputs": [
    {
     "name": "stdout",
     "output_type": "stream",
     "text": [
      "days_list : [10, 1, 1, 20, 1], temp : 5, idx : 0, cnt : 1\n",
      "days_list : [1, 1, 20, 1], temp : 10, idx : 0, cnt : 1\n",
      "days_list : [1, 20, 1], temp : 10, idx : 0, cnt : 2\n",
      "days_list : [20, 1], temp : 10, idx : 0, cnt : 3\n",
      "days_list : [1], temp : 20, idx : 0, cnt : 1\n"
     ]
    },
    {
     "data": {
      "text/plain": [
       "[1, 3, 2]"
      ]
     },
     "execution_count": 121,
     "metadata": {},
     "output_type": "execute_result"
    }
   ],
   "source": [
    "solution([95, 90, 99, 99, 80, 99],[1, 1, 1, 1, 1, 1])"
   ]
  },
  {
   "cell_type": "code",
   "execution_count": 122,
   "metadata": {},
   "outputs": [
    {
     "name": "stdout",
     "output_type": "stream",
     "text": [
      "days_list : [70, 9], temp : 7, idx : 0, cnt : 1\n",
      "days_list : [9], temp : 70, idx : 0, cnt : 1\n"
     ]
    },
    {
     "data": {
      "text/plain": [
       "[1, 2]"
      ]
     },
     "execution_count": 122,
     "metadata": {},
     "output_type": "execute_result"
    }
   ],
   "source": [
    "solution([93, 30, 55], [1, 1, 5])"
   ]
  }
 ],
 "metadata": {
  "kernelspec": {
   "display_name": "Python 3",
   "language": "python",
   "name": "python3"
  },
  "language_info": {
   "codemirror_mode": {
    "name": "ipython",
    "version": 3
   },
   "file_extension": ".py",
   "mimetype": "text/x-python",
   "name": "python",
   "nbconvert_exporter": "python",
   "pygments_lexer": "ipython3",
   "version": "3.7.4"
  }
 },
 "nbformat": 4,
 "nbformat_minor": 4
}
