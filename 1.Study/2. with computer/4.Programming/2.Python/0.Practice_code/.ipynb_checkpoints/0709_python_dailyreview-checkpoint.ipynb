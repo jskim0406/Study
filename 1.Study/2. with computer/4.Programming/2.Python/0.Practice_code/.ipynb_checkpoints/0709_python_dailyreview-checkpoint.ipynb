{
 "cells": [
  {
   "cell_type": "markdown",
   "metadata": {},
   "source": [
    "# 1. 보다 빠른 입력 받기\n",
    "\n",
    "문제 : https://www.acmicpc.net/problem/15552\n",
    "\n",
    "```python\n",
    "\n",
    "# 여러줄 입력받는 것에서 어려움을 느낌 ( 입력속도 : input < sys.stdin.readline() )\n",
    "\n",
    "# input\n",
    "a = input()\n",
    "\n",
    "# sys.stdin.readline() <= 쥬피터노트북에선 실행안 됨. 파이참에서 해야함\n",
    "a = sys.stdin.readline() \n",
    "\n",
    "```"
   ]
  },
  {
   "cell_type": "markdown",
   "metadata": {},
   "source": [
    "### 1-1. map 함수 사용법\n",
    "\n",
    "```python\n",
    "\n",
    "# iterable container로 감싸주기 (list, tuple, set 등)\n",
    "\n",
    "a = list( map(function, iterable 대상) )\n",
    "\n",
    "```"
   ]
  },
  {
   "cell_type": "code",
   "execution_count": 2,
   "metadata": {},
   "outputs": [
    {
     "name": "stdout",
     "output_type": "stream",
     "text": [
      "<map object at 0x1a23631ed0>\n"
     ]
    }
   ],
   "source": [
    "a = ['1','2','3']\n",
    "a = map(int,a)\n",
    "print(a)"
   ]
  },
  {
   "cell_type": "code",
   "execution_count": 3,
   "metadata": {},
   "outputs": [
    {
     "name": "stdout",
     "output_type": "stream",
     "text": [
      "[1, 2, 3]\n"
     ]
    }
   ],
   "source": [
    "a = list(map(int,a))\n",
    "print(a)"
   ]
  },
  {
   "cell_type": "code",
   "execution_count": 4,
   "metadata": {},
   "outputs": [
    {
     "name": "stdout",
     "output_type": "stream",
     "text": [
      "(1, 2, 3)\n"
     ]
    }
   ],
   "source": [
    "b = tuple(map(int,a))\n",
    "print(b)"
   ]
  },
  {
   "cell_type": "code",
   "execution_count": 8,
   "metadata": {},
   "outputs": [
    {
     "name": "stdout",
     "output_type": "stream",
     "text": [
      "{1, 2, 3}\n"
     ]
    }
   ],
   "source": [
    "c = set(map(int,a))\n",
    "print(c)"
   ]
  },
  {
   "cell_type": "markdown",
   "metadata": {},
   "source": [
    "### 1-2. str.rstrip() \n",
    "\n",
    "- str.strip() = 문자열의 양 끝 제거\n",
    "    - () : 공백제거\n",
    "    - ('<') : '<'제거\n",
    "- str.rstrip() = 문자열의 오른쪽 끝 제거\n",
    "- str.lstrip() = 문자열의 왼쪽 끝 제거"
   ]
  },
  {
   "cell_type": "markdown",
   "metadata": {},
   "source": [
    "### 1-3. str.split()\n",
    "\n",
    "- str.split() : 문자열을 공백 기준 split\n",
    "- str.split('<') : 문자열을 < 기준으로 split"
   ]
  },
  {
   "cell_type": "code",
   "execution_count": null,
   "metadata": {},
   "outputs": [],
   "source": []
  }
 ],
 "metadata": {
  "kernelspec": {
   "display_name": "Python 3",
   "language": "python",
   "name": "python3"
  },
  "language_info": {
   "codemirror_mode": {
    "name": "ipython",
    "version": 3
   },
   "file_extension": ".py",
   "mimetype": "text/x-python",
   "name": "python",
   "nbconvert_exporter": "python",
   "pygments_lexer": "ipython3",
   "version": "3.7.4"
  }
 },
 "nbformat": 4,
 "nbformat_minor": 4
}
