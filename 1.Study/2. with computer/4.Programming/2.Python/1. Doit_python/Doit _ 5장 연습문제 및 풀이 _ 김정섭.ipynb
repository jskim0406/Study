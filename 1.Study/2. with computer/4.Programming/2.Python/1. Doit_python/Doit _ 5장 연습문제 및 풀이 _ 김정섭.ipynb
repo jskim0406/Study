{
 "cells": [
  {
   "cell_type": "markdown",
   "metadata": {},
   "source": [
    "# 점프투파이썬 문제풀이"
   ]
  },
  {
   "cell_type": "markdown",
   "metadata": {},
   "source": [
    "## 5장 연습문제\n",
    "\n",
    "- 1,2,4,6,7,8번 주의\n",
    "\n",
    "- [url]\n",
    "- 문제 : https://wikidocs.net/42529\n",
    "- 해답 : https://wikidocs.net/12769#02"
   ]
  },
  {
   "cell_type": "markdown",
   "metadata": {},
   "source": [
    "# [풀이 코드 : 5장 1,2,4,6,7,8번]\n",
    "- 제가 쓴 코드이고, 효율적으로 풀기보단,, 배운 것들을 활용해서 풀려고 이것저것 써본 내용이라, 그다지 모범적인 코드는 아닙니다!\n",
    "- 교재의 풀이는 위의 url 로 가셔서 보시면 되어요!"
   ]
  },
  {
   "cell_type": "code",
   "execution_count": 3,
   "metadata": {},
   "outputs": [],
   "source": [
    "# 5장 1번\n",
    "class Calculator:\n",
    "    def __init__(self):\n",
    "        self.value = 0\n",
    "\n",
    "    def add(self, val):\n",
    "        self.value += val"
   ]
  },
  {
   "cell_type": "code",
   "execution_count": 4,
   "metadata": {},
   "outputs": [
    {
     "data": {
      "text/plain": [
       "3"
      ]
     },
     "execution_count": 4,
     "metadata": {},
     "output_type": "execute_result"
    }
   ],
   "source": [
    "class UpgradeCalculator(Calculator):\n",
    "    \n",
    "    def minus(self, val_minus):\n",
    "        self.value -= val_minus\n",
    "        \n",
    "cal = UpgradeCalculator()\n",
    "cal.add(10)\n",
    "cal.value\n",
    "cal.minus(7)\n",
    "cal.value"
   ]
  },
  {
   "cell_type": "code",
   "execution_count": 132,
   "metadata": {},
   "outputs": [],
   "source": [
    "# 5장 2번 *"
   ]
  },
  {
   "cell_type": "code",
   "execution_count": 138,
   "metadata": {},
   "outputs": [
    {
     "data": {
      "text/plain": [
       "100"
      ]
     },
     "execution_count": 138,
     "metadata": {},
     "output_type": "execute_result"
    }
   ],
   "source": [
    "class Calculator:\n",
    "    def __init__(self):\n",
    "        self.value = 0\n",
    "\n",
    "    def add(self, val):\n",
    "        self.value += val\n",
    "\n",
    "class MaxLimitCalculator(Calculator):\n",
    "    def add(self, val):\n",
    "        self.value += val\n",
    "        \n",
    "        if self.value+val <= 100:\n",
    "            return self.value\n",
    "        else:\n",
    "            return 100\n",
    "        \n",
    "cal = MaxLimitCalculator()\n",
    "cal.add(50)\n",
    "cal.add(60)\n",
    "cal.add(10)"
   ]
  },
  {
   "cell_type": "code",
   "execution_count": 144,
   "metadata": {},
   "outputs": [
    {
     "name": "stdout",
     "output_type": "stream",
     "text": [
      "[1, 3, 8]\n"
     ]
    }
   ],
   "source": [
    "# 5장 4번 *\n",
    "# filter와 lambda를 사용하여 리스트 [1, -2, 3, -5, 8, -3]에서 음수를 모두 제거해 보자.\n",
    "\n",
    "dataset = [1, -2, 3, -5, 8, -3]\n",
    "result = list(filter(lambda x : x>0, dataset))\n",
    "print(result)"
   ]
  },
  {
   "cell_type": "code",
   "execution_count": 145,
   "metadata": {},
   "outputs": [
    {
     "name": "stdout",
     "output_type": "stream",
     "text": [
      "[3, 6, 9, 12]\n"
     ]
    }
   ],
   "source": [
    "# 5장 6번\n",
    "# map과 lambda를 사용하여 [1, 2, 3, 4] 리스트의 각 요솟값에 3이 곱해진 리스트 [3, 6, 9, 12]를 만들어 보자.\n",
    "ls = [1,2,3,4]\n",
    "\n",
    "result = list(map(lambda x: x*3, ls))\n",
    "print(result)"
   ]
  },
  {
   "cell_type": "code",
   "execution_count": 5,
   "metadata": {},
   "outputs": [
    {
     "name": "stdout",
     "output_type": "stream",
     "text": [
      "7 -8\n"
     ]
    }
   ],
   "source": [
    "# 5장 7번\n",
    "# 다음 리스트의 최댓값과 최솟값의 합을 구해 보자.\n",
    "# [-8, 2, 7, 5, -3, 5, 0, 1]\n",
    "\n",
    "ls = [-8, 2, 7, 5, -3, 5, 0, 1]\n",
    "\n",
    "maxnum = max(ls)\n",
    "minnum = min(ls)\n",
    "\n",
    "print(maxnum,minnum)"
   ]
  },
  {
   "cell_type": "code",
   "execution_count": 6,
   "metadata": {},
   "outputs": [
    {
     "data": {
      "text/plain": [
       "5.6667"
      ]
     },
     "execution_count": 6,
     "metadata": {},
     "output_type": "execute_result"
    }
   ],
   "source": [
    "# 5장 8번\n",
    "# 17 / 3의 결과는 다음과 같다.\n",
    "# >>> 17 / 3\n",
    "# 5.666666666666667\n",
    "# 위와 같은 결괏값 5.666666666666667을 소숫점 4자리까지만 반올림하여 표시해 보자.\n",
    "\n",
    "result = round(17/3,4)\n",
    "result"
   ]
  },
  {
   "cell_type": "code",
   "execution_count": null,
   "metadata": {},
   "outputs": [],
   "source": []
  }
 ],
 "metadata": {
  "kernelspec": {
   "display_name": "Python 3",
   "language": "python",
   "name": "python3"
  },
  "language_info": {
   "codemirror_mode": {
    "name": "ipython",
    "version": 3
   },
   "file_extension": ".py",
   "mimetype": "text/x-python",
   "name": "python",
   "nbconvert_exporter": "python",
   "pygments_lexer": "ipython3",
   "version": "3.7.4"
  }
 },
 "nbformat": 4,
 "nbformat_minor": 2
}
