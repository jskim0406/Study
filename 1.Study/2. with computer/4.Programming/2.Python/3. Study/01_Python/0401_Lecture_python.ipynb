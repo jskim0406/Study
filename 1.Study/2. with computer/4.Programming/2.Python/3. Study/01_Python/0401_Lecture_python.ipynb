{
 "cells": [
  {
   "cell_type": "markdown",
   "metadata": {},
   "source": [
    "# 02. Python Basic, Basic Syntax_20191007_02부터 Day1 전부\n",
    "\n",
    "- syntax : '구문', '문법' 의미"
   ]
  },
  {
   "cell_type": "markdown",
   "metadata": {},
   "source": [
    "# 1. 매직 커맨드\n",
    "\n",
    "- 셀 내부에서 특별하게 동작하는 커맨드\n",
    "\n",
    "% : 한 줄의 매직커맨드 동작\n",
    "\n",
    "%% : 셀 단위 매직커맨드 동작\n"
   ]
  },
  {
   "cell_type": "markdown",
   "metadata": {},
   "source": [
    "## 주요 매직 커맨드"
   ]
  },
  {
   "cell_type": "markdown",
   "metadata": {},
   "source": [
    "- %pwd : 현재 주피터노트북 파일의 경로\n",
    "- %ls : 현재 디렉토리의 파일 리스트\n",
    "- %whos : 현재 선언된 변수들 출력\n",
    "- %reset : 현재 선언된 변수들 모두 삭제"
   ]
  },
  {
   "cell_type": "code",
   "execution_count": 1,
   "metadata": {},
   "outputs": [
    {
     "data": {
      "text/plain": [
       "'/Users/kimjeongseob/Desktop/데이터사이언스스쿨/0. 코딩 연습 노트북'"
      ]
     },
     "execution_count": 1,
     "metadata": {},
     "output_type": "execute_result"
    }
   ],
   "source": [
    "%pwd"
   ]
  },
  {
   "cell_type": "code",
   "execution_count": 2,
   "metadata": {},
   "outputs": [
    {
     "name": "stdout",
     "output_type": "stream",
     "text": [
      "0401 연습 _ python 기본.ipynb\r\n"
     ]
    }
   ],
   "source": [
    "%ls"
   ]
  },
  {
   "cell_type": "code",
   "execution_count": 3,
   "metadata": {},
   "outputs": [
    {
     "name": "stdout",
     "output_type": "stream",
     "text": [
      "Interactive namespace is empty.\n"
     ]
    }
   ],
   "source": [
    "%whos"
   ]
  },
  {
   "cell_type": "code",
   "execution_count": 4,
   "metadata": {},
   "outputs": [
    {
     "name": "stdout",
     "output_type": "stream",
     "text": [
      "Once deleted, variables cannot be recovered. Proceed (y/[n])? y\n"
     ]
    }
   ],
   "source": [
    "%reset"
   ]
  },
  {
   "cell_type": "markdown",
   "metadata": {},
   "source": [
    "# 2. shell 커맨드\n",
    "\n",
    "- 주피터 노트북을 실행 쉘 환경의 명령을 사용\n",
    "- 명령어 앞에 ! 를 붙여서 실행\n",
    "- 주요 명령어\n",
    "    - ls, cat, echo ..."
   ]
  },
  {
   "cell_type": "code",
   "execution_count": 5,
   "metadata": {},
   "outputs": [
    {
     "name": "stdout",
     "output_type": "stream",
     "text": [
      "python\r\n"
     ]
    }
   ],
   "source": [
    "!echo python"
   ]
  },
  {
   "cell_type": "code",
   "execution_count": 6,
   "metadata": {},
   "outputs": [
    {
     "name": "stdout",
     "output_type": "stream",
     "text": [
      "0401 연습 _ python 기본.ipynb\r\n"
     ]
    }
   ],
   "source": [
    "!ls"
   ]
  },
  {
   "cell_type": "markdown",
   "metadata": {},
   "source": [
    "# 3. 파이썬의 기본 문법\n",
    "\n",
    "- 변수 선언, 식별자, 자료형, 형변환, 연산자 학습"
   ]
  },
  {
   "cell_type": "markdown",
   "metadata": {},
   "source": [
    "[단축키]\n",
    "\n",
    "- 주석 변환 : command + /\n",
    "- 블록 설정 : shift + 방향키\n",
    "- docstring : 함수에 대한 설명, 단축키(shift + tab)\n",
    "- 자동완성 : tab"
   ]
  },
  {
   "cell_type": "markdown",
   "metadata": {},
   "source": [
    "## 변수 선언\n",
    "- RAM에 공간 할당 행위\n",
    "ex) a=1 이라면, a라는 이름의 공간이 설정되고, '1' 이 들어간다."
   ]
  },
  {
   "cell_type": "markdown",
   "metadata": {},
   "source": [
    "## 식별자 선언\n",
    "\n",
    "- 변수, 함수, 클래스, 모듈 등의 이름을 '식별자'라고 한다.\n",
    "- 식별자 규칙\n",
    "    - 가장 앞에 숫자 사용 불가\n",
    "    - 예약어의 사용이 불가\n",
    "    - 컨벤션\n",
    "        - snake case : underscore 활용, fast_campus -> 변수, 함수\n",
    "        - camel case : 대소문자 활용, fastCampus -> 클래스\n",
    "       "
   ]
  },
  {
   "cell_type": "markdown",
   "metadata": {},
   "source": [
    "## 자료형 (데이터 타입) : 총 7가지 데이터 타입\n",
    "\n",
    "- RAM 저장공간을 효율적으로 사용하기 위해 저장공간의 타입을 설정\n",
    "- 동적 타이핑 \n",
    "    - 변수 선언 시 저장되는 값에 따라 자동으로 데이터 타입이 설정됨\n",
    "\n",
    "- type(변수) 로 확인 가능\n"
   ]
  },
  {
   "cell_type": "markdown",
   "metadata": {},
   "source": [
    "#### 1. 기본 data type (4)\n",
    "- int, float, str, bool\n",
    "\n",
    "#### 2. collection data type (3)\n",
    "- list(ordered), tuple(ordered, but cannot re-write), dict(key-value set)"
   ]
  },
  {
   "cell_type": "code",
   "execution_count": 11,
   "metadata": {},
   "outputs": [],
   "source": [
    "# 데이터 타입에 함수 : 문자열  -> ' . ' 구두점을 붙여 해당 문자열 변수에 함수 적용\n",
    "# str 변수(d) 안에 함수들이 숨겨져 있는 것 (upper, lower, split 등등) 그래서, d.upper()\n",
    "# 이처럼, 데이터 타입 별로 변수 내에 숨겨진 함수들이 있어 사용 가능\n",
    "d = 'data'\n",
    "e = d.upper()"
   ]
  },
  {
   "cell_type": "code",
   "execution_count": 1,
   "metadata": {},
   "outputs": [
    {
     "name": "stdout",
     "output_type": "stream",
     "text": [
      "fast campus \t소문자로\n",
      "Fast campus\t양 끝의 공백제거\n",
      "Slow campus \t치환 or 양 끝 사이 공백제거용도 가능\n"
     ]
    }
   ],
   "source": [
    "f = 'Fast campus '\n",
    "\n",
    "print(f.lower(),'소문자로',sep='\\t')\n",
    "print(f.strip(),'양 끝의 공백제거',sep='\\t')\n",
    "print(f.replace('Fast','Slow'),'치환 or 양 끝 사이 공백제거용도 가능',sep='\\t')\n",
    "# dir(f)"
   ]
  },
  {
   "cell_type": "code",
   "execution_count": 29,
   "metadata": {},
   "outputs": [],
   "source": [
    "# string, list, tuple 타입에서 오프셋 인덱스 : 마스크, 마스킹 []     ex) a[1], a[2]\n",
    "# 문자열은 순서가 있는 문자들의 집합\n",
    "# int 타입에서 마스킹 불가"
   ]
  },
  {
   "cell_type": "code",
   "execution_count": 32,
   "metadata": {},
   "outputs": [
    {
     "name": "stdout",
     "output_type": "stream",
     "text": [
      "c\tfg\tgfedcba\n"
     ]
    }
   ],
   "source": [
    "g = 'abcdefg'\n",
    "print(g[2], g[-2:], g[::-1], sep='\\t')"
   ]
  },
  {
   "cell_type": "code",
   "execution_count": 27,
   "metadata": {},
   "outputs": [
    {
     "name": "stdout",
     "output_type": "stream",
     "text": [
      "97531\t97531\n"
     ]
    }
   ],
   "source": [
    "numbers = '123456789'\n",
    "print(numbers[::-2],numbers[::2][::-1],sep='\\t')"
   ]
  },
  {
   "cell_type": "markdown",
   "metadata": {},
   "source": [
    "#### 2. collection type : list, tuple, dict\n",
    "\n",
    "- list : [], 순서가 있고, 수정가능\n",
    "- tuple : (), 순서가 있고, 수정불가\n",
    "- dict : { , }, 순서가 없고, key-value Set"
   ]
  },
  {
   "cell_type": "markdown",
   "metadata": {},
   "source": [
    "#### 2-1. list 함수\n",
    "\n",
    "- .append(3)\n",
    "- .sort() : 오름차순\n",
    "- a[::-1] : 내림차순\n",
    "- .pop() : 가장 마지막 데이터를 출력하고, 출력된 것 삭제\n",
    "\n",
    "##### *list 복사"
   ]
  },
  {
   "cell_type": "code",
   "execution_count": 33,
   "metadata": {},
   "outputs": [
    {
     "data": {
      "text/plain": [
       "([1, 2, 3], [1, 2, 3])"
      ]
     },
     "execution_count": 33,
     "metadata": {},
     "output_type": "execute_result"
    }
   ],
   "source": [
    "ls1 = [1,2,3]\n",
    "ls2 = ls1  # 얕은 복사 : 주소값 복사\n",
    "ls1,ls2"
   ]
  },
  {
   "cell_type": "code",
   "execution_count": 36,
   "metadata": {},
   "outputs": [
    {
     "data": {
      "text/plain": [
       "([1, 2, 5], [1, 2, 5])"
      ]
     },
     "execution_count": 36,
     "metadata": {},
     "output_type": "execute_result"
    }
   ],
   "source": [
    "ls1[2] = 5\n",
    "ls1,ls2\n",
    "\n",
    "# 왜 ls1만 바꿔줬는 데, ls2도 같이 바뀌나?\n",
    "# ls2 = ls1 은 ls2 가 복사한 건, ls1 의 주소값. ls1 안에는 [1,2,3]데이터가 저장된 곳의 주소가 들어있음. ls2는 ls1의 이 주소를 복사한 것.\n",
    "# 따라서, 하나의 공간에 있는 주소를 ls1, ls2 가 갖고 있고, 하나의 공간 속 자료가 변한 거라 ls1, ls2 둘다 바뀌는 것"
   ]
  },
  {
   "cell_type": "code",
   "execution_count": 40,
   "metadata": {},
   "outputs": [
    {
     "name": "stdout",
     "output_type": "stream",
     "text": [
      "[1, 2, 5] [1, 2, 5] [1, 2, 10]\n"
     ]
    }
   ],
   "source": [
    "ls1[2] = 10\n",
    "ls3 = ls1.copy()  # 깊은 복사 : 자료값 복사 (원 자료 바꿔도 안 바뀜)\n",
    "ls1[2] = 5   # 원 자료 바꿔도 안 바뀜\n",
    "print(ls1,ls2,ls3)"
   ]
  },
  {
   "cell_type": "markdown",
   "metadata": {},
   "source": [
    "#### 2-2. tuple \n",
    "\n",
    "- 리스트와 같지만, 수정이 불가능\n",
    "- 장점 : 같은 데이터를 가졌을 때, 리스트보다 공간을 적게 사용\n",
    "- 장점 : 여러개의 변수를 한 번에 받을 수 있음. ex) tp1, tp2 = 1,2"
   ]
  },
  {
   "cell_type": "code",
   "execution_count": 44,
   "metadata": {
    "scrolled": false
   },
   "outputs": [
    {
     "name": "stdout",
     "output_type": "stream",
     "text": [
      "<class 'tuple'> <class 'tuple'> (1, 2, 3) (4, 5, 6)\n"
     ]
    },
    {
     "data": {
      "text/plain": [
       "(2, (3, 2, 1))"
      ]
     },
     "execution_count": 44,
     "metadata": {},
     "output_type": "execute_result"
    }
   ],
   "source": [
    "tp1 = 1,2,3\n",
    "tp2 = (4,5,6)\n",
    "\n",
    "print(type(tp1),type(tp2),tp1,tp2)\n",
    "\n",
    "tp1[1],tp1[::-1]"
   ]
  },
  {
   "cell_type": "code",
   "execution_count": 45,
   "metadata": {},
   "outputs": [
    {
     "name": "stdout",
     "output_type": "stream",
     "text": [
      "96 80\n"
     ]
    }
   ],
   "source": [
    "# 리스트 <-> 튜플의 저장공간 차이 비교\n",
    "import sys\n",
    "\n",
    "ls = [1,2,3]\n",
    "tp = (1,2,3)\n",
    "\n",
    "print(sys.getsizeof(ls),sys.getsizeof(tp))"
   ]
  },
  {
   "cell_type": "markdown",
   "metadata": {},
   "source": [
    "#### 2-3. dictionary\n",
    "\n",
    "- 순서가 없고, {key, value}로 구성\n",
    "- key -> 정수, 문자열 만 가능\n",
    "- 인덱스 대신, key로 마스킹"
   ]
  },
  {
   "cell_type": "markdown",
   "metadata": {},
   "source": [
    "# 4. 형변환\n",
    "\n",
    "- 데이터 타입을 변한하는 방법\n",
    "- 바꾸고자 하는 타입의 이름으로 함수를 써주면 됨 (타입 7개 : int, str, flaot, bool, list, tuple, dict)\n",
    "- ex) b=\"2\", int(b) "
   ]
  },
  {
   "cell_type": "code",
   "execution_count": 54,
   "metadata": {},
   "outputs": [
    {
     "name": "stdout",
     "output_type": "stream",
     "text": [
      "2 <class 'str'>\n"
     ]
    }
   ],
   "source": [
    "b = \"2\"\n",
    "print(b, type(b))"
   ]
  },
  {
   "cell_type": "code",
   "execution_count": 55,
   "metadata": {},
   "outputs": [
    {
     "name": "stdout",
     "output_type": "stream",
     "text": [
      "2 <class 'int'>\n"
     ]
    }
   ],
   "source": [
    "b = int(b)\n",
    "print(b, type(b))\n"
   ]
  },
  {
   "cell_type": "code",
   "execution_count": 59,
   "metadata": {},
   "outputs": [
    {
     "name": "stdout",
     "output_type": "stream",
     "text": [
      "12 <class 'str'>\n"
     ]
    }
   ],
   "source": [
    "a = 1\n",
    "b = '2'\n",
    "a = str(a)\n",
    "print(a+b,type(a+b))"
   ]
  },
  {
   "cell_type": "code",
   "execution_count": 62,
   "metadata": {},
   "outputs": [
    {
     "name": "stdout",
     "output_type": "stream",
     "text": [
      "[('seoul', 1), ('daegu', 2), ('busan', 3)]\n"
     ]
    }
   ],
   "source": [
    "# zip -> 같은 인덱스 데이터끼리 묶어주는 함수\n",
    "\n",
    "a = ['seoul','daegu','busan']\n",
    "b = [1,2,3]\n",
    "\n",
    "c = list(zip(a,b))\n",
    "print(c)"
   ]
  },
  {
   "cell_type": "code",
   "execution_count": 3,
   "metadata": {},
   "outputs": [
    {
     "name": "stdout",
     "output_type": "stream",
     "text": [
      "3.3333333333333335\t3\t1\n"
     ]
    }
   ],
   "source": [
    "a = 10\n",
    "b = 3\n",
    "print(a/b, a//b, a%b,sep='\\t')"
   ]
  },
  {
   "cell_type": "markdown",
   "metadata": {},
   "source": [
    "# 5. 연산자\n",
    "\n",
    "- 산술연산자 : +, - 등\n",
    "- 할당연산자 : +=, -= 등\n",
    "- 비교연산자 : A == B 등\n",
    "- 논리연산자 : True, False 를 연산. or, and, not 등 => True and True는 False가 연산됨 \n",
    "- 멤버연산자 : 특정 데이터가 있는지(멤버인지) 확인 => not in / in\n",
    "    - ex) a = [1,2,3,4] / 1 in a -> True 반환\n"
   ]
  },
  {
   "cell_type": "markdown",
   "metadata": {},
   "source": [
    "# 6. 랜덤함수\n",
    "\n",
    "- import random\n",
    "- random.~"
   ]
  },
  {
   "cell_type": "code",
   "execution_count": 71,
   "metadata": {},
   "outputs": [
    {
     "name": "stdout",
     "output_type": "stream",
     "text": [
      "3 7\n"
     ]
    }
   ],
   "source": [
    "import random\n",
    "\n",
    "a = random.randint(1,10)\n",
    "b = random.choice([1,2,4,7])\n",
    "print(a,b)"
   ]
  },
  {
   "cell_type": "markdown",
   "metadata": {},
   "source": [
    "# 7. Loop / Condition\n",
    "\n",
    "## 1) Condition \n",
    "\n",
    "- if, else, elif\n",
    "- 조건부분에 boolean아니면, boolean으로 형변환 해서 인식 (공백, 0 -> False)"
   ]
  },
  {
   "cell_type": "code",
   "execution_count": 72,
   "metadata": {},
   "outputs": [
    {
     "name": "stdout",
     "output_type": "stream",
     "text": [
      "python\n"
     ]
    }
   ],
   "source": [
    "if True:\n",
    "    print(\"python\")"
   ]
  },
  {
   "cell_type": "markdown",
   "metadata": {},
   "source": [
    "## 2) Loop"
   ]
  },
  {
   "cell_type": "markdown",
   "metadata": {},
   "source": [
    "# 8. 리스트 내포 (List Comprehension)\n",
    "\n",
    "### [표현식 for i in data if 조건]"
   ]
  }
 ],
 "metadata": {
  "kernelspec": {
   "display_name": "Python 3",
   "language": "python",
   "name": "python3"
  },
  "language_info": {
   "codemirror_mode": {
    "name": "ipython",
    "version": 3
   },
   "file_extension": ".py",
   "mimetype": "text/x-python",
   "name": "python",
   "nbconvert_exporter": "python",
   "pygments_lexer": "ipython3",
   "version": "3.7.4"
  }
 },
 "nbformat": 4,
 "nbformat_minor": 2
}
