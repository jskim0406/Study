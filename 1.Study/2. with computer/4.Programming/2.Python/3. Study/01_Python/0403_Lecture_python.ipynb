{
 "cells": [
  {
   "cell_type": "markdown",
   "metadata": {},
   "source": [
    "# 11. Function2, Class1_20191009_03 _Day 3_영상 1"
   ]
  },
  {
   "cell_type": "markdown",
   "metadata": {},
   "source": [
    "### map, filter, reduce함수 - 리스트 관련 함수"
   ]
  },
  {
   "cell_type": "markdown",
   "metadata": {},
   "source": [
    "## 1. Filter\n",
    "\n",
    "- 리스트 데이터에서 특정 조건에 맞는 value 만 남기는 함수\n",
    "- **filter( func, iterable(대상 리스트) )**\n",
    "- -> 리스트에 func(filter조건에 부합하면 True 반환)을 다 대입시켜서, func의 결과 True인 것만 리스트에 채워넣는 것\n",
    "\n",
    "\n",
    "#### *map : 리스트 데이터를 함수 출력값으로 다시 매핑 (순서가 있는 데이터 집합에서 모든 값에 함수를 적용시킨 결과를 출력하는 함수)"
   ]
  },
  {
   "cell_type": "code",
   "execution_count": 4,
   "metadata": {},
   "outputs": [
    {
     "data": {
      "text/plain": [
       "[1, 3, 5, 7, 9]"
      ]
     },
     "execution_count": 4,
     "metadata": {},
     "output_type": "execute_result"
    }
   ],
   "source": [
    "# 홀수만 출력\n",
    "\n",
    "ls = range(10)\n",
    "\n",
    "result = list(filter(lambda data : True if data%2 else False, ls))\n",
    "result"
   ]
  },
  {
   "cell_type": "markdown",
   "metadata": {},
   "source": [
    "### map 과 filter 의 차이점 : 함수 인자로 *iterable / iterable 만 가능\n",
    "\n",
    "- map ( func, *iterable)  -> *iterable에 func (map함수연산을 *iterable에 하나씩 대입해서 나온 출력값을 리스트에 매핑하는 것)\n",
    "- filter ( func, iterable) -> iterable(주로 리스트 1개)에 func(filter조건 부합하면 True반환)을 하나씩 대입해서 func결과 True인 것만 리스트에 채워넣는 것\n"
   ]
  },
  {
   "cell_type": "code",
   "execution_count": 24,
   "metadata": {},
   "outputs": [
    {
     "name": "stdout",
     "output_type": "stream",
     "text": [
      "['홀수', '짝수', '홀수', '짝수']\n",
      "['홀수', '짝수', '홀수', '짝수']\n",
      "\n",
      "\n",
      "[1, 3]\n",
      "[1, 3]\n"
     ]
    }
   ],
   "source": [
    "# map ( func, *iterable)  -> *iterable에 func (map함수연산을 *iterable에 하나씩 대입해서 나온 출력값을 리스트에 매핑하는 것)\n",
    "# 질문, map함수에서 *iterable한, 데이터 여러개 올 수 있는 경우는 어떤 경우? 예시..?\n",
    "ls = [1,2,3,4]\n",
    "result = list(map(lambda data : '홀수' if data%2 else '짝수', ls))\n",
    "result2 = list(map(lambda data : '홀수' if data%2 else '짝수',[1,2,3,4]))\n",
    "print(result, result2,sep='\\n')\n",
    "\n",
    "result3 = list(filter(lambda data : True if data%2 else False, ls))\n",
    "result4 = list(filter(lambda data : True if data%2 else False,[1,2,3,4]))\n",
    "\n",
    "print('\\n',result3,result4,sep='\\n')"
   ]
  },
  {
   "cell_type": "markdown",
   "metadata": {},
   "source": [
    "## 2. reduce\n",
    "\n",
    "- 리스트 데이커를 처음부터 순서대로 특정 함수를 실행하여 결과를 누적시켜주는 함수\n",
    "    - **즉, 리스트를 reduce하는 데, 그냥이 아니라 2개를 연산시켜 1개로 압축시켜주는 느낌**\n",
    "- from functools import reduce\n",
    "- reduce( func, 대상 리스트(시퀀스 )\n",
    "- **Apply a function of two arguments cumulatively to the items of a sequence,**\n",
    "    - **from left to right, so as to reduce the sequence to a single value.**"
   ]
  },
  {
   "cell_type": "code",
   "execution_count": 30,
   "metadata": {},
   "outputs": [
    {
     "data": {
      "text/plain": [
       "15"
      ]
     },
     "execution_count": 30,
     "metadata": {},
     "output_type": "execute_result"
    }
   ],
   "source": [
    "from functools import reduce\n",
    "\n",
    "ls = [3,1,2,4,5]\n",
    "reduce(lambda a,b: a+b, ls)"
   ]
  },
  {
   "cell_type": "markdown",
   "metadata": {},
   "source": [
    "## 3. Decorator\n",
    "\n",
    "- 함수에서 코드를 바꾸지 않고, 기능을 추가하거나 수정하고 싶을 때 사용하는 문법\n",
    "- 데코레이터의 사용\n",
    "\n",
    "```\n",
    "def c(func):\n",
    "    def wrapper(*args, **kwargs):\n",
    "        code_1                      # 반복해서 추가될 코드를 하나 넣어주고\n",
    "        result = func(*args, **kwargs) # wrapper함수를 치환시킬 함수를 넣어주는 것. a가 wrapper로, 1,2,3 모두 실행시키는 것!\n",
    "        code_3                      # 반복해서 추가될 코드 하나 넣어주는 것. 나중에 함수 선언 시, 굳이 반복해서 적지 않아도 되게끔\n",
    "        return result               # wrapper함수가 a함수가 되는 순간.\n",
    "    return wrapper\n",
    "    \n",
    "@c\n",
    "def a():\n",
    "    code_2\n",
    "    \n",
    "@c\n",
    "def b():\n",
    "    code_4\n",
    "```\n",
    "--------------\n",
    "```\n",
    "[해석해보자]\n",
    "1단계 : a함수가 c로 들어감\n",
    "@c\n",
    "def a():\n",
    "    code_2\n",
    "```\n",
    "--------------\n",
    "[@c]\n",
    "- 1) @c -> c함수  c(func) 이 돌아간다\n",
    "\n",
    "[c함수 실행]\n",
    "- 2) a함수(func)가 c함수 안에 들어간다. 즉, c함수에서 code_2가 돌아가는 것\n",
    "- 3) c함수가 a함수를 받아서 돌아가는 데, 먼저 c함수에 선언된 wrapper함수가 생성된다.\n",
    "\n",
    "[wrapper함수 선언]\n",
    "- 4) wrapper함수는 *args, **kwargs를 받는 데, a()함수의 nulls값을 다 받아준다.\n",
    "- 5) 그리고 wrapper함수는 다음과 같이 선언 \"code_1 실행 -> result에 a함수 연산결과 들어감(code_2 실행) -> code3 실행\"\n",
    "- 6) 이로서, code_1, code_2(a함수), code_3 실행되는 함수를 **선언 완료!**\n",
    "\n",
    "[wrapper함수 return -> a함수]\n",
    "- 7) 하지만, 일단 return은 reuslt (code_2(a함수)) 만! -> wrapper함수는 code1,2,3실행시키고, 반환은 code_2만\n",
    "- **a함수가 wrapper함수로 치환됨**\n",
    "\n",
    "[c함수 return -> wrapper 함수]\n",
    "- 8) 마지막으로, c함수는 wrapper함수는 return\n",
    "```\n",
    "con) a함수 -> wrapper함수로 바뀐다. a함수 실행시키면 code1,2,3 다 실행됨 / c def a() : a를 호출하면 wrapper함수가 실행됨\n",
    "```"
   ]
  },
  {
   "cell_type": "code",
   "execution_count": 31,
   "metadata": {},
   "outputs": [],
   "source": [
    "# a\n",
    "def plus(a,b):\n",
    "    print(\"start\")                       #code1\n",
    "    result = a + b                       #code2\n",
    "    print(\"result : {}\".format(result))  #code3\n",
    "    return result\n",
    "\n",
    "#b\n",
    "def minus(a,b):\n",
    "    print(\"start\")                       #code1\n",
    "    result = a -b                        #code4\n",
    "    print(\"result : {}\".format(result))  #code3\n",
    "    return result\n",
    "\n",
    "#c\n",
    "def disp(func):\n",
    "    def wrapper(*args, **kwargs):\n",
    "        print(\"start\")                     #code1\n",
    "        result = func(*args, **kwargs)     #code2,4\n",
    "        print(\"result : {}\".format(result))#code3\n",
    "        return result\n",
    "    return wrapper"
   ]
  },
  {
   "cell_type": "markdown",
   "metadata": {},
   "source": [
    "### 위의 #a #b를 데코레이터를 활용해 간단히 표현해보자"
   ]
  },
  {
   "cell_type": "code",
   "execution_count": 33,
   "metadata": {},
   "outputs": [
    {
     "name": "stdout",
     "output_type": "stream",
     "text": [
      "start\n",
      "result : 3\n"
     ]
    },
    {
     "data": {
      "text/plain": [
       "3"
      ]
     },
     "execution_count": 33,
     "metadata": {},
     "output_type": "execute_result"
    }
   ],
   "source": [
    "plus(1,2)"
   ]
  },
  {
   "cell_type": "code",
   "execution_count": 35,
   "metadata": {},
   "outputs": [
    {
     "data": {
      "text/plain": [
       "3"
      ]
     },
     "execution_count": 35,
     "metadata": {},
     "output_type": "execute_result"
    }
   ],
   "source": [
    "# code 1,3 지우면\n",
    "def plus(a,b):\n",
    "    result = a + b                       #code2\n",
    "    return result\n",
    "\n",
    "plus(1,2)"
   ]
  },
  {
   "cell_type": "code",
   "execution_count": 39,
   "metadata": {},
   "outputs": [
    {
     "name": "stdout",
     "output_type": "stream",
     "text": [
      "start\n",
      "result : 3\n"
     ]
    },
    {
     "data": {
      "text/plain": [
       "3"
      ]
     },
     "execution_count": 39,
     "metadata": {},
     "output_type": "execute_result"
    }
   ],
   "source": [
    "# code 1,3 지우고 + decorator(@disp) 쓰면  => code 1,2,3 출력\n",
    "@disp\n",
    "def plus(a,b):\n",
    "    result = a + b                       #code2\n",
    "    return result\n",
    "\n",
    "plus(1,2)"
   ]
  },
  {
   "cell_type": "markdown",
   "metadata": {},
   "source": [
    "### 예제 : 비밀번호 입력 검열기 만들기 (데코레이터로 함수생성)"
   ]
  },
  {
   "cell_type": "code",
   "execution_count": 33,
   "metadata": {},
   "outputs": [
    {
     "data": {
      "text/plain": [
       "3"
      ]
     },
     "execution_count": 33,
     "metadata": {},
     "output_type": "execute_result"
    }
   ],
   "source": [
    "def plus(a,b):\n",
    "    return a+b\n",
    "\n",
    "plus(1,2)"
   ]
  },
  {
   "cell_type": "code",
   "execution_count": 34,
   "metadata": {},
   "outputs": [],
   "source": [
    "def checkpwd(func):\n",
    "    def wrapper(*args,**kwargs):\n",
    "        pwd = 'jsacop1102'\n",
    "        input_pwd = input(\"insert password :\")\n",
    "                \n",
    "        if input_pwd == pwd:\n",
    "            result = func(*args,**kwargs)\n",
    "        else:\n",
    "            result = \"비밀번호가 일치하지 않습니다.\"\n",
    "        return result\n",
    "    return wrapper"
   ]
  },
  {
   "cell_type": "code",
   "execution_count": 32,
   "metadata": {},
   "outputs": [
    {
     "name": "stdout",
     "output_type": "stream",
     "text": [
      "insert password :jsacop1102\n"
     ]
    },
    {
     "data": {
      "text/plain": [
       "3"
      ]
     },
     "execution_count": 32,
     "metadata": {},
     "output_type": "execute_result"
    }
   ],
   "source": [
    "@checkpwd\n",
    "def plus(a,b):\n",
    "    return a+b\n",
    "\n",
    "plus(1,2)"
   ]
  }
 ],
 "metadata": {
  "kernelspec": {
   "display_name": "Python 3",
   "language": "python",
   "name": "python3"
  },
  "language_info": {
   "codemirror_mode": {
    "name": "ipython",
    "version": 3
   },
   "file_extension": ".py",
   "mimetype": "text/x-python",
   "name": "python",
   "nbconvert_exporter": "python",
   "pygments_lexer": "ipython3",
   "version": "3.7.4"
  }
 },
 "nbformat": 4,
 "nbformat_minor": 2
}
