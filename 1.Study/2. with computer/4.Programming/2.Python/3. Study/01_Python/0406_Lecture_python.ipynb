{
 "cells": [
  {
   "cell_type": "markdown",
   "metadata": {},
   "source": [
    "# 2. Function2, Class1_20191009_04 _Day3"
   ]
  },
  {
   "cell_type": "markdown",
   "metadata": {},
   "source": [
    "# 1. Class\n",
    "\n",
    "- 변수와 함수를 묶어 놓은 개념\n",
    "- 사용 방법\n",
    "    - 변수와 함수가 들어있는 클래스를 선언\n",
    "    - 클래스를 객체로 만들어서 클래스 안에 선언된 변수와 함수를 사용\n",
    "- 클래스 선언 시, 식별자는 camel case (변수, 함수는 snake case)\n",
    "- 클래스 내 메소드 생성 시, 항상 self로 시작\n",
    "           "
   ]
  },
  {
   "cell_type": "code",
   "execution_count": 3,
   "metadata": {},
   "outputs": [
    {
     "name": "stdout",
     "output_type": "stream",
     "text": [
      "1 2 3 -1\n"
     ]
    }
   ],
   "source": [
    "# 클래스의 선언\n",
    "class Calculator:\n",
    "    \n",
    "    num1 = 1\n",
    "    num2 = 2\n",
    "    \n",
    "    def plus(self):\n",
    "        return self.num1+self.num2\n",
    "    \n",
    "    def minus(self):\n",
    "        return self.num1-self.num2\n",
    "\n",
    "#object 선언\n",
    "calc = Calculator()\n",
    "\n",
    "print(calc.num1,calc.num2,calc.plus(),calc.minus())"
   ]
  },
  {
   "cell_type": "markdown",
   "metadata": {},
   "source": [
    "### self의 의미 : 객체 자신\n",
    "### 객체지향\n",
    "- 실제 세계를 코드에 반영해서 개발하는 방법\n",
    "- 여러명의 개발자가 코드를 효율적으로 작성해서 프로젝트를 완성시키기 위한 방법\n",
    "- '실제 세계' : 설계도(class)를 작성 -> 실제 물건(object)을 만들어냄.\n",
    "- 사용자정의 데이터 타입\n"
   ]
  },
  {
   "cell_type": "code",
   "execution_count": 181,
   "metadata": {},
   "outputs": [
    {
     "data": {
      "text/plain": [
       "3"
      ]
     },
     "execution_count": 181,
     "metadata": {},
     "output_type": "execute_result"
    }
   ],
   "source": [
    "# 사용자정의 데이터 타입 예시\n",
    "calc.plus()"
   ]
  },
  {
   "cell_type": "code",
   "execution_count": 182,
   "metadata": {},
   "outputs": [
    {
     "data": {
      "text/plain": [
       "'PYTHON'"
      ]
     },
     "execution_count": 182,
     "metadata": {},
     "output_type": "execute_result"
    }
   ],
   "source": [
    "# .upper 는 클래스 내 메소드와 같은 역할이라 보면 됨\n",
    "obj = 'python'\n",
    "obj.upper()"
   ]
  },
  {
   "cell_type": "code",
   "execution_count": 183,
   "metadata": {},
   "outputs": [],
   "source": [
    "# calc.plus() 와 obj.upper() 는 같은 구조.\n",
    "# calc라는 object가 새로 생긴 것. calculator라는 클래스가 생성되어 하나의 데이터 타입이 된 것이다. 그리고 calc는 그 데이터타입의 object가 된 것\n",
    "# obj라는 object역시, string 데이터 타입의 object인 것. string 데이터 타입은 기본 데이터 타입이다."
   ]
  },
  {
   "cell_type": "markdown",
   "metadata": {},
   "source": [
    "### 생성자\n",
    "\n",
    "- **클래스가 객체로 생성될 때 실행되는 함수**\n",
    "- 변수(재료)를 추가할 때 사용\n",
    "- __init__(self,data1,data2):\n",
    "    - self.a = data1\n",
    "    - self.b = data2\n",
    "    \n",
    " "
   ]
  },
  {
   "cell_type": "markdown",
   "metadata": {},
   "source": [
    "# Summary\n",
    "- function\n",
    "    - docstring\n",
    "    - scope : 전역, 지역\n",
    "    - inner function : 함수 안에 함수를 선언\n",
    "    - lambda function : 간략한 함수를 한줄에 선언\n",
    "    - decorator : 특정 기능을 함수로 만들어, 함수에 특정 기능을 적용하는 방법\n",
    "    \n",
    "- class\n",
    "    - 변수와 함수가 모여있는 집합\n",
    "    - 기본 클래스 사용법\n",
    "        - 클래스 선언 -> 객체를 만듬 -> 객체에 함수를 호출\n",
    "    - 생성자 함수\n",
    "        - 클래스가 객체로 만들어질 때, 객체에 선언되는 변수를 설정하는 방법\n",
    "        \n",
    "        \n",
    "        "
   ]
  },
  {
   "cell_type": "code",
   "execution_count": 184,
   "metadata": {},
   "outputs": [
    {
     "data": {
      "text/plain": [
       "12"
      ]
     },
     "execution_count": 184,
     "metadata": {},
     "output_type": "execute_result"
    }
   ],
   "source": [
    "# inner function 예시\n",
    "def outer(a,b):\n",
    "    \n",
    "    def inner(c,d):\n",
    "        return c*d\n",
    "    \n",
    "    return inner(a,b)\n",
    "        \n",
    "outer(3,4)"
   ]
  },
  {
   "cell_type": "code",
   "execution_count": 185,
   "metadata": {},
   "outputs": [
    {
     "name": "stdout",
     "output_type": "stream",
     "text": [
      "아이디를 입력하세요 : \n",
      "패스워드를 입력하세요 : \n",
      "로그인 시도 횟수 : 1\n"
     ]
    },
    {
     "data": {
      "text/plain": [
       "3"
      ]
     },
     "execution_count": 185,
     "metadata": {},
     "output_type": "execute_result"
    }
   ],
   "source": [
    "# userdata를 입력받아서 아이디와 패스워드를 체크하는 데코레이터 함수를 코드로 작성하시오.\n",
    "# 로그인 될 때마다 count 증가\n",
    "\n",
    "# 데코레이터 예제\n",
    "# 내 풀이\n",
    "user_datas = [\n",
    "    {'id':'test','pw':'1234', 'count':0},\n",
    "    {'id':'python','pw':'5678', 'count':0}\n",
    "]\n",
    "\n",
    "def decor(func):\n",
    "    def wrapper(*args,**kwargs):\n",
    "        userid = input('아이디를 입력하세요 : ')\n",
    "        userpw = input('패스워드를 입력하세요 : ')\n",
    "        for i in range(len(user_datas)):\n",
    "            if userid in user_datas[i]['id']:\n",
    "                if userpw in user_datas[i]['pw']:\n",
    "                    user_datas[i]['count'] += 1\n",
    "                    count = user_datas[i]['count']\n",
    "                    result = func(*args,*kwargs)\n",
    "                    print('로그인 시도 횟수 : {}'.format(count))\n",
    "                    return result\n",
    "            else:\n",
    "                user_datas[i]['count'] += 1\n",
    "                count = user_datas[i]['count']\n",
    "                result = '입력이 잘못되었습니다.'\n",
    "        print('로그인 시도 횟수 : {}'.format(count))\n",
    "        return result\n",
    "    \n",
    "    return wrapper\n",
    "    \n",
    "@decor    \n",
    "def plus(a,b):\n",
    "    return a+b\n",
    "\n",
    "plus(1,2)"
   ]
  },
  {
   "cell_type": "code",
   "execution_count": 186,
   "metadata": {},
   "outputs": [
    {
     "data": {
      "text/plain": [
       "[{'id': 'test', 'pw': '1234', 'count': 1},\n",
       " {'id': 'python', 'pw': '5678', 'count': 0}]"
      ]
     },
     "execution_count": 186,
     "metadata": {},
     "output_type": "execute_result"
    }
   ],
   "source": [
    "user_datas"
   ]
  },
  {
   "cell_type": "code",
   "execution_count": null,
   "metadata": {},
   "outputs": [],
   "source": []
  },
  {
   "cell_type": "code",
   "execution_count": null,
   "metadata": {},
   "outputs": [],
   "source": []
  },
  {
   "cell_type": "code",
   "execution_count": 187,
   "metadata": {},
   "outputs": [],
   "source": [
    "user_datas = [\n",
    "    {'user':'test','pw':'1234', 'count':0},\n",
    "    {'user':'python','pw':'5678', 'count':0}\n",
    "]"
   ]
  },
  {
   "cell_type": "code",
   "execution_count": null,
   "metadata": {},
   "outputs": [],
   "source": [
    "# 선생님 코드 (1)\n",
    "def need_login(func):\n",
    "    def wrapper(*args,**kwargs):\n",
    "        # 아이디, 패스워드 입력\n",
    "        user, pw = tuple(input('insert user pw : ').split(' '))\n",
    "        \n",
    "        # 존재하는 아이디인지 확인\n",
    "        # 존재하면 패스워드 확인\n",
    "        for idx, user_data in zip(range(len(user_datas)),user_datas):\n",
    "            if (user_data['user'] == user) and (user_data['pw'] == pw) :\n",
    "                # count 데이터 추가\n",
    "                user_datas[idx]['count'] += 1\n",
    "                \n",
    "                # 함수실행\n",
    "                return func(*args,**kwargs)\n",
    "            \n",
    "        return 'wrong login data'\n",
    "        # 카운트 증가 및 함수 실행\n",
    "    return wrapper"
   ]
  },
  {
   "cell_type": "code",
   "execution_count": null,
   "metadata": {},
   "outputs": [],
   "source": [
    "@need_login\n",
    "def plus(a,b):\n",
    "    return a+b\n",
    "\n",
    "plus(1,2)"
   ]
  },
  {
   "cell_type": "code",
   "execution_count": null,
   "metadata": {},
   "outputs": [],
   "source": [
    "user_datas"
   ]
  },
  {
   "cell_type": "code",
   "execution_count": 191,
   "metadata": {},
   "outputs": [],
   "source": [
    "# 선생님 코드 (1)\n",
    "def need_login(func):\n",
    "    def wrapper(*args,**kwargs):\n",
    "        # 아이디, 패스워드 입력\n",
    "        user, pw = tuple(input('insert user pw : ').split(' '))\n",
    "        \n",
    "        # 존재하는 아이디인지 확인\n",
    "        # 존재하면 패스워드 확인\n",
    "        for idx, user_data in enumerate(user_datas):\n",
    "            if (user_data['user'] == user) and (user_data['pw'] == pw) :\n",
    "                # count 데이터 추가\n",
    "                user_datas[idx]['count'] += 1\n",
    "                \n",
    "                # 함수실행\n",
    "                return func(*args,**kwargs)\n",
    "            \n",
    "        return 'wrong login data'\n",
    "        # 카운트 증가 및 함수 실행\n",
    "    return wrapper\n",
    "\n"
   ]
  },
  {
   "cell_type": "code",
   "execution_count": 193,
   "metadata": {},
   "outputs": [
    {
     "name": "stdout",
     "output_type": "stream",
     "text": [
      "insert user pw : test 1234\n"
     ]
    },
    {
     "data": {
      "text/plain": [
       "3"
      ]
     },
     "execution_count": 193,
     "metadata": {},
     "output_type": "execute_result"
    }
   ],
   "source": [
    "@need_login\n",
    "def plus(a,b):\n",
    "    return a+b\n",
    "\n",
    "plus(1,2)"
   ]
  },
  {
   "cell_type": "code",
   "execution_count": 194,
   "metadata": {},
   "outputs": [
    {
     "data": {
      "text/plain": [
       "[{'user': 'test', 'pw': '1234', 'count': 1},\n",
       " {'user': 'python', 'pw': '5678', 'count': 0}]"
      ]
     },
     "execution_count": 194,
     "metadata": {},
     "output_type": "execute_result"
    }
   ],
   "source": [
    "user_datas"
   ]
  },
  {
   "cell_type": "code",
   "execution_count": 195,
   "metadata": {},
   "outputs": [
    {
     "data": {
      "text/plain": [
       "(40, 25)"
      ]
     },
     "execution_count": 195,
     "metadata": {},
     "output_type": "execute_result"
    }
   ],
   "source": [
    "# 클래스 예제\n",
    "# 스타크래프트의 마린을 설계\n",
    "# 체력(40), 공격력(5), 공격\n",
    "# 마린 클래스로 마린 객체 2개를 생성해서, 마린1이 마린2를 공격하는 코드를 작성\n",
    "# attack(self, unit)\n",
    "\n",
    "class Marine:\n",
    "    \n",
    "    def __init__(self,health=40,attack_pow=5):\n",
    "        self.health = health\n",
    "        self.attack_pow = attack_pow\n",
    "        \n",
    "    def attack(self,unit):\n",
    "        unit.health -= 5\n",
    "#         unit.health -= self.attack_pow 도 가능. (위 코드 대신)\n",
    "        return unit.health\n",
    "    \n",
    "marine1 = Marine()\n",
    "marine2 = Marine()\n",
    "\n",
    "marine1.attack(marine2)\n",
    "marine1.attack(marine2)\n",
    "marine1.attack(marine2)\n",
    "\n",
    "marine1.health, marine2.health"
   ]
  },
  {
   "cell_type": "markdown",
   "metadata": {},
   "source": [
    "# 2. Class 상속\n",
    "\n",
    "- 클래스의 기능을 가져다가 기능을 수정하거나, 추가할 때 사용\n"
   ]
  },
  {
   "cell_type": "code",
   "execution_count": 1,
   "metadata": {},
   "outputs": [],
   "source": [
    "class Calculator:\n",
    "    \n",
    "    def __init__(self,num1,num2):\n",
    "        self.num1 = num1\n",
    "        self.num2 = num2\n",
    "        \n",
    "    def plus(self):\n",
    "        return self.num1 + self.num2"
   ]
  },
  {
   "cell_type": "code",
   "execution_count": 2,
   "metadata": {},
   "outputs": [
    {
     "data": {
      "text/plain": [
       "3"
      ]
     },
     "execution_count": 2,
     "metadata": {},
     "output_type": "execute_result"
    }
   ],
   "source": [
    "calc = Calculator(1,2)\n",
    "calc.plus()"
   ]
  },
  {
   "cell_type": "code",
   "execution_count": 198,
   "metadata": {},
   "outputs": [],
   "source": [
    "# minus 함수 를 추가해서 클래스를 구성하고 싶다.\n",
    "\n",
    "class Calculator3(Calculator):\n",
    "    \n",
    "    def minus(self):\n",
    "        return self.num1-self.num2"
   ]
  },
  {
   "cell_type": "code",
   "execution_count": 199,
   "metadata": {},
   "outputs": [],
   "source": [
    "calc3 = Calculator3(1,2)"
   ]
  },
  {
   "cell_type": "code",
   "execution_count": 200,
   "metadata": {},
   "outputs": [
    {
     "data": {
      "text/plain": [
       "(3, -1)"
      ]
     },
     "execution_count": 200,
     "metadata": {},
     "output_type": "execute_result"
    }
   ],
   "source": [
    "calc3.plus(), calc3.minus()"
   ]
  },
  {
   "cell_type": "markdown",
   "metadata": {},
   "source": [
    "### method overriding -> 기존 클래스 내 메소드 수정"
   ]
  },
  {
   "cell_type": "code",
   "execution_count": 5,
   "metadata": {},
   "outputs": [
    {
     "ename": "NameError",
     "evalue": "name 'Calculator3' is not defined",
     "output_type": "error",
     "traceback": [
      "\u001b[0;31m---------------------------------------------------------------------------\u001b[0m",
      "\u001b[0;31mNameError\u001b[0m                                 Traceback (most recent call last)",
      "\u001b[0;32m<ipython-input-5-c97adf8cbaea>\u001b[0m in \u001b[0;36m<module>\u001b[0;34m\u001b[0m\n\u001b[1;32m      1\u001b[0m \u001b[0;31m# plus 함수 수정 원한다\u001b[0m\u001b[0;34m\u001b[0m\u001b[0;34m\u001b[0m\u001b[0;34m\u001b[0m\u001b[0m\n\u001b[1;32m      2\u001b[0m \u001b[0;34m\u001b[0m\u001b[0m\n\u001b[0;32m----> 3\u001b[0;31m \u001b[0;32mclass\u001b[0m \u001b[0mCalculator4\u001b[0m\u001b[0;34m(\u001b[0m\u001b[0mCalculator3\u001b[0m\u001b[0;34m)\u001b[0m\u001b[0;34m:\u001b[0m\u001b[0;34m\u001b[0m\u001b[0;34m\u001b[0m\u001b[0m\n\u001b[0m\u001b[1;32m      4\u001b[0m     \u001b[0;32mdef\u001b[0m \u001b[0mplus\u001b[0m\u001b[0;34m(\u001b[0m\u001b[0mself\u001b[0m\u001b[0;34m)\u001b[0m\u001b[0;34m:\u001b[0m\u001b[0;34m\u001b[0m\u001b[0;34m\u001b[0m\u001b[0m\n\u001b[1;32m      5\u001b[0m         \u001b[0;32mreturn\u001b[0m \u001b[0mself\u001b[0m\u001b[0;34m.\u001b[0m\u001b[0mnum1\u001b[0m\u001b[0;34m**\u001b[0m\u001b[0;36m2\u001b[0m \u001b[0;34m+\u001b[0m \u001b[0mself\u001b[0m\u001b[0;34m.\u001b[0m\u001b[0mnum2\u001b[0m\u001b[0;34m**\u001b[0m\u001b[0;36m2\u001b[0m\u001b[0;34m\u001b[0m\u001b[0;34m\u001b[0m\u001b[0m\n",
      "\u001b[0;31mNameError\u001b[0m: name 'Calculator3' is not defined"
     ]
    }
   ],
   "source": [
    "# plus 함수 수정 원한다\n",
    "\n",
    "class Calculator4(Calculator3):\n",
    "    def plus(self):\n",
    "        return self.num1**2 + self.num2**2"
   ]
  },
  {
   "cell_type": "code",
   "execution_count": 6,
   "metadata": {},
   "outputs": [
    {
     "ename": "NameError",
     "evalue": "name 'Calculator4' is not defined",
     "output_type": "error",
     "traceback": [
      "\u001b[0;31m---------------------------------------------------------------------------\u001b[0m",
      "\u001b[0;31mNameError\u001b[0m                                 Traceback (most recent call last)",
      "\u001b[0;32m<ipython-input-6-b18c7ad47391>\u001b[0m in \u001b[0;36m<module>\u001b[0;34m\u001b[0m\n\u001b[0;32m----> 1\u001b[0;31m \u001b[0mcalc4\u001b[0m \u001b[0;34m=\u001b[0m \u001b[0mCalculator4\u001b[0m\u001b[0;34m(\u001b[0m\u001b[0;36m3\u001b[0m\u001b[0;34m,\u001b[0m\u001b[0;36m4\u001b[0m\u001b[0;34m)\u001b[0m\u001b[0;34m\u001b[0m\u001b[0;34m\u001b[0m\u001b[0m\n\u001b[0m\u001b[1;32m      2\u001b[0m \u001b[0mcalc4\u001b[0m\u001b[0;34m.\u001b[0m\u001b[0mplus\u001b[0m\u001b[0;34m(\u001b[0m\u001b[0;34m)\u001b[0m\u001b[0;34m,\u001b[0m \u001b[0mcalc3\u001b[0m\u001b[0;34m.\u001b[0m\u001b[0mplus\u001b[0m\u001b[0;34m(\u001b[0m\u001b[0;34m)\u001b[0m\u001b[0;34m\u001b[0m\u001b[0;34m\u001b[0m\u001b[0m\n",
      "\u001b[0;31mNameError\u001b[0m: name 'Calculator4' is not defined"
     ]
    }
   ],
   "source": [
    "calc4 = Calculator4(3,4)\n",
    "calc4.plus(), calc3.plus()"
   ]
  },
  {
   "cell_type": "code",
   "execution_count": 7,
   "metadata": {},
   "outputs": [],
   "source": [
    "# 예제\n",
    "# 아이폰 1,2,3이 있다. 아이폰1 -> calling: print('calling'), 아이폰2 -> + senf msg, 아이폰3 -> +internet\n",
    "\n",
    "class Iphone_1:\n",
    "        \n",
    "    def calling(self):\n",
    "        print('calling')"
   ]
  },
  {
   "cell_type": "code",
   "execution_count": 8,
   "metadata": {},
   "outputs": [],
   "source": [
    "class Iphone_2(Iphone_1):\n",
    "    \n",
    "    def send(self):\n",
    "        print('send message')"
   ]
  },
  {
   "cell_type": "code",
   "execution_count": 9,
   "metadata": {},
   "outputs": [],
   "source": [
    "class Iphone_3(Iphone_2):\n",
    "    \n",
    "    def internet(self):\n",
    "        print('internet')"
   ]
  },
  {
   "cell_type": "code",
   "execution_count": 10,
   "metadata": {},
   "outputs": [],
   "source": [
    "iphone3 = Iphone_3()"
   ]
  },
  {
   "cell_type": "code",
   "execution_count": 11,
   "metadata": {},
   "outputs": [
    {
     "data": {
      "text/plain": [
       "['calling', 'internet', 'send']"
      ]
     },
     "execution_count": 11,
     "metadata": {},
     "output_type": "execute_result"
    }
   ],
   "source": [
    "[data for data in dir(Iphone_3) if data[:2]!='__']"
   ]
  },
  {
   "cell_type": "markdown",
   "metadata": {},
   "source": [
    "### 다중 상속 (여기저기서 끌어온다)"
   ]
  },
  {
   "cell_type": "code",
   "execution_count": 15,
   "metadata": {},
   "outputs": [
    {
     "data": {
      "text/plain": [
       "['calling', 'camera', 'internet', 'send', 'show_img']"
      ]
     },
     "execution_count": 15,
     "metadata": {},
     "output_type": "execute_result"
    }
   ],
   "source": [
    "class Galaxy:\n",
    "    def show_img(self):\n",
    "        print('show_img')\n",
    "        \n",
    "class Dss_phone(Iphone_3,Galaxy):\n",
    "    def camera(self):\n",
    "        print('camera')\n",
    "        \n",
    "dss_phone = Dss_phone()\n",
    "\n",
    "[data for data in dir(Dss_phone) if data[:2]!='__']"
   ]
  },
  {
   "cell_type": "markdown",
   "metadata": {},
   "source": [
    "### 다중 상속 <- object 생성 시, 부모들 클래스의 생성자 파라미터 갯수 중 max갯수로 생성해줘야 함"
   ]
  },
  {
   "cell_type": "code",
   "execution_count": 5,
   "metadata": {},
   "outputs": [
    {
     "data": {
      "text/plain": [
       "30"
      ]
     },
     "execution_count": 5,
     "metadata": {},
     "output_type": "execute_result"
    }
   ],
   "source": [
    "class Calculator:\n",
    "    \n",
    "    def __init__(self,num1,num2):\n",
    "        self.num1 = num1\n",
    "        self.num2 = num2\n",
    "        \n",
    "    def plus(self):\n",
    "        return self.num1+self.num2\n",
    "    \n",
    "calc = Calculator(10,20)\n",
    "\n",
    "calc.plus()"
   ]
  },
  {
   "cell_type": "code",
   "execution_count": 6,
   "metadata": {},
   "outputs": [],
   "source": [
    "class Iphone:\n",
    "    \n",
    "    def __init__(self,num1,num2):\n",
    "        self.num = num1"
   ]
  },
  {
   "cell_type": "code",
   "execution_count": 7,
   "metadata": {},
   "outputs": [
    {
     "data": {
      "text/plain": [
       "30"
      ]
     },
     "execution_count": 7,
     "metadata": {},
     "output_type": "execute_result"
    }
   ],
   "source": [
    "class Combi(Calculator,Iphone):\n",
    "    \n",
    "    def what(self):\n",
    "        print('what')\n",
    "        \n",
    "combi = Combi(10,20)\n",
    "\n",
    "combi.plus()"
   ]
  },
  {
   "cell_type": "code",
   "execution_count": 9,
   "metadata": {
    "scrolled": true
   },
   "outputs": [
    {
     "ename": "TypeError",
     "evalue": "__init__() missing 1 required positional argument: 'num2'",
     "output_type": "error",
     "traceback": [
      "\u001b[0;31m---------------------------------------------------------------------------\u001b[0m",
      "\u001b[0;31mTypeError\u001b[0m                                 Traceback (most recent call last)",
      "\u001b[0;32m<ipython-input-9-461c96bd9a45>\u001b[0m in \u001b[0;36m<module>\u001b[0;34m\u001b[0m\n\u001b[1;32m     12\u001b[0m         \u001b[0mprint\u001b[0m\u001b[0;34m(\u001b[0m\u001b[0;34m'what'\u001b[0m\u001b[0;34m)\u001b[0m\u001b[0;34m\u001b[0m\u001b[0;34m\u001b[0m\u001b[0m\n\u001b[1;32m     13\u001b[0m \u001b[0;34m\u001b[0m\u001b[0m\n\u001b[0;32m---> 14\u001b[0;31m \u001b[0mcombi\u001b[0m \u001b[0;34m=\u001b[0m \u001b[0mCombi\u001b[0m\u001b[0;34m(\u001b[0m\u001b[0;36m10\u001b[0m\u001b[0;34m)\u001b[0m\u001b[0;34m\u001b[0m\u001b[0;34m\u001b[0m\u001b[0m\n\u001b[0m\u001b[1;32m     15\u001b[0m \u001b[0;34m\u001b[0m\u001b[0m\n\u001b[1;32m     16\u001b[0m \u001b[0mcombi\u001b[0m\u001b[0;34m.\u001b[0m\u001b[0mplus\u001b[0m\u001b[0;34m(\u001b[0m\u001b[0;34m)\u001b[0m\u001b[0;34m\u001b[0m\u001b[0;34m\u001b[0m\u001b[0m\n",
      "\u001b[0;31mTypeError\u001b[0m: __init__() missing 1 required positional argument: 'num2'"
     ]
    }
   ],
   "source": [
    "# 잘못된 다중 상속 예 (object생성 시, 부모 클래스 중 생성자 파라미터의 최대 갯수로 안 채워줬을 때)\n",
    "# Calculator 클래스는 self와 2개의 파라미터 / Iphone 클래스는 self와 1개의 파라미터 -> 다중 상속받는 Combi 클래스는 적어도 2개의 파라미터를 가져야한다.\n",
    "\n",
    "class Iphone:\n",
    "    \n",
    "    def __init__(self,num1):\n",
    "        self.num = num1\n",
    "        \n",
    "class Combi(Calculator,Iphone):\n",
    "    \n",
    "    def what(self):\n",
    "        print('what')\n",
    "        \n",
    "combi = Combi(10)\n",
    "\n",
    "combi.plus()"
   ]
  },
  {
   "cell_type": "markdown",
   "metadata": {},
   "source": [
    "# 3. super\n",
    "- 부모 클래스에서 사용된 함수의 코드를 가져다가 자식 클래스의 함수에서 재사용할 때 사용\n",
    "- 만약 아래와 같이 클래스를 상속해야 한다면,\n",
    "\n",
    "```\n",
    "class A:\n",
    "    def plus(self):\n",
    "       code1\n",
    "       \n",
    "class B(A):\n",
    "    def minus(self):\n",
    "       code1\n",
    "       code2\n",
    "```\n",
    "\n",
    "- 자식 클래스에서 code1이 중복 사용됨. 다시 쓰기 아까움. 부모 클래스에서 코드를 그냥 가져오고 싶다.\n",
    "- 그래서 다음과 같이 class B(A): 를 쓴다.\n",
    "\n",
    "```\n",
    "class B(A):\n",
    "    def minus(self):\n",
    "        super().plus()     # -> plus()의 코드(code1) 를 모두 가져온다. super.plus() \n",
    "        code2\n",
    "```\n"
   ]
  },
  {
   "cell_type": "code",
   "execution_count": 10,
   "metadata": {},
   "outputs": [
    {
     "name": "stdout",
     "output_type": "stream",
     "text": [
      "그래\n"
     ]
    },
    {
     "data": {
      "text/plain": [
       "1000"
      ]
     },
     "execution_count": 10,
     "metadata": {},
     "output_type": "execute_result"
    }
   ],
   "source": [
    "# 예제\n",
    "# super().indices() -> return 라인은 복사 안된다.\n",
    "\n",
    "class Father:\n",
    "    \n",
    "    def __init__(self,num1):\n",
    "        self.num1 = num1\n",
    "    \n",
    "    def plus(self):\n",
    "        return self.num1*2\n",
    "    \n",
    "    def indices(self):\n",
    "        print(\"그래\")\n",
    "        return self.num1**3\n",
    "    \n",
    "class Son(Father):\n",
    "    \n",
    "    def indices(self):\n",
    "        super().indices()\n",
    "        return self.num1**3\n",
    "\n",
    "son = Son(10)\n",
    "\n",
    "son.indices()"
   ]
  },
  {
   "cell_type": "markdown",
   "metadata": {},
   "source": [
    "# 4. class의 getter, setter\n",
    "\n",
    "- 객체의 내부 변수에 접근할 때, 특정 로직을 거쳐서 접근시키는 방법"
   ]
  }
 ],
 "metadata": {
  "kernelspec": {
   "display_name": "Python 3",
   "language": "python",
   "name": "python3"
  },
  "language_info": {
   "codemirror_mode": {
    "name": "ipython",
    "version": 3
   },
   "file_extension": ".py",
   "mimetype": "text/x-python",
   "name": "python",
   "nbconvert_exporter": "python",
   "pygments_lexer": "ipython3",
   "version": "3.7.4"
  }
 },
 "nbformat": 4,
 "nbformat_minor": 2
}
