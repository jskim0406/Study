{
 "cells": [
  {
   "cell_type": "markdown",
   "metadata": {},
   "source": [
    "# 1. Collections 모듈 - Counter 클래스\n",
    "### 데이터 갯수를 셀 때 유용\n",
    "- 별도 설치 필요 없이, 파이썬에 기본 내장된 모듈\n",
    "\n",
    "[참고]\n",
    "- [블로그1](https://www.daleseo.com/python-collections-counter/)"
   ]
  },
  {
   "cell_type": "markdown",
   "metadata": {},
   "source": [
    "### 1) 딕셔너리를 이용한 카운팅 (보통의 접근)\n",
    "\n",
    "- 'dict[key] = 갯수' 식으로 저장 후, key별로 갯수를 파악하는 방식"
   ]
  },
  {
   "cell_type": "code",
   "execution_count": 6,
   "metadata": {},
   "outputs": [],
   "source": [
    "data = \"my name is jskim\"\n",
    "counter = {}\n",
    "\n",
    "for char in data:\n",
    "    if char not in counter:\n",
    "        counter[char]=0\n",
    "    counter[char]+=1"
   ]
  },
  {
   "cell_type": "code",
   "execution_count": 8,
   "metadata": {},
   "outputs": [
    {
     "data": {
      "text/plain": [
       "3"
      ]
     },
     "execution_count": 8,
     "metadata": {},
     "output_type": "execute_result"
    }
   ],
   "source": [
    "counter['m']"
   ]
  },
  {
   "cell_type": "markdown",
   "metadata": {},
   "source": [
    "### 2) collections.Counter를 이용한 카운팅\n",
    "\n",
    "- 위의 코드를 한 줄로 줄일 수 있음"
   ]
  },
  {
   "cell_type": "code",
   "execution_count": 18,
   "metadata": {},
   "outputs": [
    {
     "data": {
      "text/plain": [
       "Counter({'m': 3,\n",
       "         'y': 1,\n",
       "         ' ': 3,\n",
       "         'n': 1,\n",
       "         'a': 1,\n",
       "         'e': 1,\n",
       "         'i': 2,\n",
       "         's': 2,\n",
       "         'j': 1,\n",
       "         'k': 1})"
      ]
     },
     "execution_count": 18,
     "metadata": {},
     "output_type": "execute_result"
    }
   ],
   "source": [
    "from collections import Counter\n",
    "\n",
    "Counter(data)"
   ]
  },
  {
   "cell_type": "code",
   "execution_count": 20,
   "metadata": {},
   "outputs": [
    {
     "name": "stdout",
     "output_type": "stream",
     "text": [
      "m의 갯수 : 3\n"
     ]
    }
   ],
   "source": [
    "result = Counter(data)\n",
    "print(\"m의 갯수 : {}\".format(result['m'],), sep='\\n')"
   ]
  },
  {
   "cell_type": "markdown",
   "metadata": {},
   "source": [
    "### 2) collections.Counter를 이용한 카운팅 - most_common()\n",
    "\n",
    "**most_common() 메서드 : 가장 많은 카운팅 순으로 리턴**\n"
   ]
  },
  {
   "cell_type": "code",
   "execution_count": 21,
   "metadata": {},
   "outputs": [
    {
     "data": {
      "text/plain": [
       "[('m', 3),\n",
       " (' ', 3),\n",
       " ('i', 2),\n",
       " ('s', 2),\n",
       " ('y', 1),\n",
       " ('n', 1),\n",
       " ('a', 1),\n",
       " ('e', 1),\n",
       " ('j', 1),\n",
       " ('k', 1)]"
      ]
     },
     "execution_count": 21,
     "metadata": {},
     "output_type": "execute_result"
    }
   ],
   "source": [
    "Counter(data).most_common()"
   ]
  },
  {
   "cell_type": "code",
   "execution_count": 22,
   "metadata": {},
   "outputs": [
    {
     "data": {
      "text/plain": [
       "[('m', 3)]"
      ]
     },
     "execution_count": 22,
     "metadata": {},
     "output_type": "execute_result"
    }
   ],
   "source": [
    "Counter(data).most_common(1)"
   ]
  },
  {
   "cell_type": "code",
   "execution_count": 23,
   "metadata": {},
   "outputs": [
    {
     "data": {
      "text/plain": [
       "[('m', 3), (' ', 3)]"
      ]
     },
     "execution_count": 23,
     "metadata": {},
     "output_type": "execute_result"
    }
   ],
   "source": [
    "Counter(data).most_common(2)"
   ]
  }
 ],
 "metadata": {
  "kernelspec": {
   "display_name": "Python 3",
   "language": "python",
   "name": "python3"
  },
  "language_info": {
   "codemirror_mode": {
    "name": "ipython",
    "version": 3
   },
   "file_extension": ".py",
   "mimetype": "text/x-python",
   "name": "python",
   "nbconvert_exporter": "python",
   "pygments_lexer": "ipython3",
   "version": "3.7.4"
  }
 },
 "nbformat": 4,
 "nbformat_minor": 4
}
