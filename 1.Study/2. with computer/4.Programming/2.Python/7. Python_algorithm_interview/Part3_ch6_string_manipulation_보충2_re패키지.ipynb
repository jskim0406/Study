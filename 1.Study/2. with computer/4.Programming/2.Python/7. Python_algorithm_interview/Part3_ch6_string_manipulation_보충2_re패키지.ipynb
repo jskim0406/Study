{
 "cells": [
  {
   "cell_type": "markdown",
   "metadata": {},
   "source": [
    "# 1. re(정규표현식) 패키지\n",
    "\n",
    "```python\n",
    "\n",
    "import re\n",
    "\n",
    "re.search(\"찾을 문자열 패턴\", \"대상 문자열\")\n",
    "re.serach(\"찾을 문자열 패턴\", \"대상 문자열\").start() : 검색된 문자열의 시작 위치\n",
    "re.serach(\"찾을 문자열 패턴\", \"대상 문자열\").end() : 검색된 문자열의 끝 위치\n",
    "re.serach(\"찾을 문자열 패턴\", \"대상 문자열\").group() : 검색된 문자열 모두 출력\n",
    "\n",
    "re.findall(\"찾을 문자열 패턴\", \"대상 문자열\") : search가 최초 매칭 패턴만 반환한다면, findall은 매칭되는 모든 패턴 반환(리스트로 반환)\n",
    "re.sub(\"찾을 문자열 패턴\", \"치환할 문자(or 함수)\", \"대상 문자열\") : 치환!\n",
    "re.sub(\"찾을 문자열 패턴\", \"치환할 문자(or 함수)\", \"대상 문자열\", count=2) : 처음부터 2개만 치환!\n",
    "re.compile(\"문자열 패턴\") : 문자열 패턴 기억. 향후 동일한 문자열 패턴 사용 시 활용\n",
    "```"
   ]
  },
  {
   "cell_type": "markdown",
   "metadata": {},
   "source": [
    "### 정규표현식 패턴\n",
    "\n",
    "```python\n",
    "\n",
    "    \\w : alpha + numeric\n",
    "    \\W : non (alpha + numeric)\n",
    "    \\d : numeric\n",
    "    \\D : non (numeric)\n",
    "    '.' : 모든 char (!@#$% 포함) *공백은 제외*\n",
    "    [abc] : a or b or c\n",
    "    [a.c] : a or . or c\n",
    "    [a.c^] : a or . or c or ^\n",
    "    [^abc] : not (a or b or c)\n",
    "    [a-c] : a부터 c까지\n",
    "    [0-9] : 0부터 9까지\n",
    "    [a-zA-Z0-9] : 모든 알파벳 및 문자\n",
    "   \n",
    "```"
   ]
  },
  {
   "cell_type": "markdown",
   "metadata": {},
   "source": [
    "### 반복 패턴\n",
    "\n",
    "```python\n",
    "    '패턴  +,*,?' : 해당 패턴이 반복적으로 존재하는 지 검사\n",
    "        + : 1번 이상의 패턴\n",
    "        * : 0번 이상의 패턴\n",
    "        ? : 0번 혹은 1번의 패턴\n",
    "\n",
    "    ex)\n",
    "    a[bcd]*b 패턴을 abcbdccb 에서 검색\n",
    "        'b or c or d' 가 0번 이상 반복(*)되는 패턴을 greedy하게 탐색 ==> abcbdccb\n",
    "\n",
    "        \n",
    "1) 반복 횟수 지정 원할 때 : {}\n",
    "    \n",
    "    ex)\n",
    "    re.search(r'pi+g', 'piiiiig') => 'piiiiig'\n",
    "    re.search(r'pi{3}g', 'piiiiig') => none\n",
    "    re.search(r'pi{3}g', 'piiig') => 'piiig'\n",
    "    re.search(r'pi{3,5}g', 'piiiiig') => 'piiiiig'  # {3,5} : 최소 3번에서 최대 5번 반복되는 패턴\n",
    "```"
   ]
  },
  {
   "cell_type": "markdown",
   "metadata": {},
   "source": [
    "### 메타 캐릭터\n",
    "\n",
    "```python\n",
    "1. [ ] : 문자들의 범위를 나타냄\n",
    "    r'[^0-9]abc' : abc앞에 숫자(0~9)가 오지 않는 패턴\n",
    "        \n",
    "2. \\ : 캐릭터 자체로 만듬\n",
    "    but, 다른 문자와 함게 특수한 의미를 갖기도 함\n",
    "        \\d : [0-9]와 동일\n",
    "        \\D : [^0-9]\n",
    "        \\s : 공백문자(띄어쓰기, 탭, 엔터 등)\n",
    "        \\S : 공백이 아닌 문자\n",
    "        \\w : [0-9a-zA-Z]\n",
    "        \\W : [^0-9a-zA-Z]\n",
    "\n",
    "3. ^, $\n",
    "\n",
    "    ^ : 맨 앞부터 일치하는 경우 탐색\n",
    "    $ : 맨 뒤부터 일치하는 경우 탐색\n",
    "    \n",
    "    ex)\n",
    "    r'^b\\w+a' in 'cabana' => 맨 처음부터 b로 시작하고 alpha+numeric이 1번이상 반복되며 a로 끝나는 패턴을 'cabana'에서 검색\n",
    "        => none\n",
    "    r'b\\w+a$' in 'cabana' => 맨 뒤부터 a로 끝나고 alpha+numeric이 1번이상 반복되며 b로 시작하는 패턴을 'cabana'에서 검색\n",
    "        => bana\n",
    "```"
   ]
  },
  {
   "cell_type": "markdown",
   "metadata": {},
   "source": [
    "### r'string' : raw string을 반환"
   ]
  },
  {
   "cell_type": "code",
   "execution_count": 2,
   "metadata": {},
   "outputs": [
    {
     "name": "stdout",
     "output_type": "stream",
     "text": [
      "abc\\n\n",
      "abc\n",
      "\n"
     ]
    }
   ],
   "source": [
    "a = r'abc\\n'\n",
    "print(a)\n",
    "\n",
    "b = 'abc\\n'\n",
    "print(b)"
   ]
  },
  {
   "cell_type": "markdown",
   "metadata": {},
   "source": [
    "### 1) re.search( )\n",
    "\n",
    "- 첫번째로 패턴 찾으면 match 객체 반환"
   ]
  },
  {
   "cell_type": "code",
   "execution_count": 15,
   "metadata": {},
   "outputs": [
    {
     "data": {
      "text/plain": [
       "<re.Match object; span=(6, 7), match='a'>"
      ]
     },
     "execution_count": 15,
     "metadata": {},
     "output_type": "execute_result"
    }
   ],
   "source": [
    "import re\n",
    "\n",
    "m = re.search(r'[a-zA-Z0-9]', '!@#$@%abdafagt12315abfa#$@%')\n",
    "m"
   ]
  },
  {
   "cell_type": "code",
   "execution_count": 5,
   "metadata": {},
   "outputs": [
    {
     "data": {
      "text/plain": [
       "'a'"
      ]
     },
     "execution_count": 5,
     "metadata": {},
     "output_type": "execute_result"
    }
   ],
   "source": [
    "# 첫번째로 패턴 발견한 시작점을 반환\n",
    "m.group()"
   ]
  },
  {
   "cell_type": "code",
   "execution_count": 10,
   "metadata": {},
   "outputs": [],
   "source": [
    "# \\sand : '공백 문자 + and' 패턴\n",
    "re.search('\\sand', 'what is sand?')"
   ]
  },
  {
   "cell_type": "code",
   "execution_count": 12,
   "metadata": {},
   "outputs": [
    {
     "data": {
      "text/plain": [
       "<re.Match object; span=(8, 12), match='sand'>"
      ]
     },
     "execution_count": 12,
     "metadata": {},
     "output_type": "execute_result"
    }
   ],
   "source": [
    "# \\Sand : '공백이 아닌 문자 + and' 패턴\n",
    "re.search('\\Sand', 'what is sand?')"
   ]
  },
  {
   "cell_type": "code",
   "execution_count": 19,
   "metadata": {},
   "outputs": [],
   "source": [
    "# \\Ssand : '공백이 아닌 문자 + sand' 패턴\n",
    "re.search('\\Ssand', 'what is sand?')"
   ]
  },
  {
   "cell_type": "code",
   "execution_count": 20,
   "metadata": {},
   "outputs": [
    {
     "data": {
      "text/plain": [
       "<re.Match object; span=(7, 12), match=' sand'>"
      ]
     },
     "execution_count": 20,
     "metadata": {},
     "output_type": "execute_result"
    }
   ],
   "source": [
    "# \\sand : '공백 문자 + sand' 패턴\n",
    "re.search('\\ssand', 'what is sand?')"
   ]
  },
  {
   "cell_type": "code",
   "execution_count": 21,
   "metadata": {},
   "outputs": [],
   "source": [
    "# + : 1번 이상 반복\n",
    "re.search(r'pi+g', 'pg')"
   ]
  },
  {
   "cell_type": "code",
   "execution_count": 24,
   "metadata": {},
   "outputs": [
    {
     "data": {
      "text/plain": [
       "<re.Match object; span=(0, 2), match='pg'>"
      ]
     },
     "execution_count": 24,
     "metadata": {},
     "output_type": "execute_result"
    }
   ],
   "source": [
    "# * : 0번 이상 반복\n",
    "re.search(r'pi*g', 'pg')"
   ]
  },
  {
   "cell_type": "code",
   "execution_count": 25,
   "metadata": {},
   "outputs": [
    {
     "data": {
      "text/plain": [
       "<re.Match object; span=(0, 2), match='pg'>"
      ]
     },
     "execution_count": 25,
     "metadata": {},
     "output_type": "execute_result"
    }
   ],
   "source": [
    "# ? : 0 , 1 번 이상 반복\n",
    "re.search(r'pi?g', 'pg')"
   ]
  },
  {
   "cell_type": "markdown",
   "metadata": {},
   "source": [
    "### 2) re.serach( ).group( )\n",
    "\n",
    "- ()를 사용해 그루핑\n",
    "- 매칭 결과를 각 그룹별로 '분리' 가능"
   ]
  },
  {
   "cell_type": "code",
   "execution_count": 39,
   "metadata": {},
   "outputs": [],
   "source": [
    "m = re.search('(\\w+)@(.+)\\.([a-z]+)', 'kjscop@naver.com')"
   ]
  },
  {
   "cell_type": "code",
   "execution_count": 40,
   "metadata": {},
   "outputs": [
    {
     "name": "stdout",
     "output_type": "stream",
     "text": [
      "kjscop@naver.com\n"
     ]
    }
   ],
   "source": [
    "print(m.group(0))"
   ]
  },
  {
   "cell_type": "code",
   "execution_count": 41,
   "metadata": {},
   "outputs": [
    {
     "name": "stdout",
     "output_type": "stream",
     "text": [
      "kjscop\n"
     ]
    }
   ],
   "source": [
    "print(m.group(1))"
   ]
  },
  {
   "cell_type": "code",
   "execution_count": 42,
   "metadata": {},
   "outputs": [
    {
     "name": "stdout",
     "output_type": "stream",
     "text": [
      "naver\n"
     ]
    }
   ],
   "source": [
    "print(m.group(2))"
   ]
  },
  {
   "cell_type": "code",
   "execution_count": 43,
   "metadata": {},
   "outputs": [
    {
     "name": "stdout",
     "output_type": "stream",
     "text": [
      "com\n"
     ]
    }
   ],
   "source": [
    "print(m.group(3))"
   ]
  },
  {
   "cell_type": "markdown",
   "metadata": {},
   "source": [
    "### 3) re.findall( )\n",
    "\n",
    "- search가 최초로 매칭되는 패턴만 반환한다면, findall은 매칭되는 전체의 패턴을 반환\n",
    "- 리스트로 반환"
   ]
  },
  {
   "cell_type": "code",
   "execution_count": 46,
   "metadata": {},
   "outputs": [
    {
     "data": {
      "text/plain": [
       "['kjsc', 'op', 'naver', 'com', 'abc', 'gmail', 'com', 'def', 'daum', 'net']"
      ]
     },
     "execution_count": 46,
     "metadata": {},
     "output_type": "execute_result"
    }
   ],
   "source": [
    "re.findall(r'[a-zA-Z]+', 'kjsc12op@naver.com abc@gmail.com def@daum.net')"
   ]
  },
  {
   "cell_type": "code",
   "execution_count": 47,
   "metadata": {},
   "outputs": [
    {
     "data": {
      "text/plain": [
       "['kjsc12op', 'naver', 'com', 'abc', 'gmail', 'com', 'def', 'daum', 'net']"
      ]
     },
     "execution_count": 47,
     "metadata": {},
     "output_type": "execute_result"
    }
   ],
   "source": [
    "re.findall(r'\\w+', 'kjsc12op@naver.com abc@gmail.com def@daum.net')"
   ]
  },
  {
   "cell_type": "code",
   "execution_count": 49,
   "metadata": {},
   "outputs": [
    {
     "data": {
      "text/plain": [
       "['kjsc12op@naver.com', 'abc@gmail.com', 'def@daum.net']"
      ]
     },
     "execution_count": 49,
     "metadata": {},
     "output_type": "execute_result"
    }
   ],
   "source": [
    "re.findall(r'\\w+@\\w+\\.\\w+', 'kjsc12op@naver.com abc@gmail.com def@daum.net')"
   ]
  },
  {
   "cell_type": "code",
   "execution_count": 56,
   "metadata": {},
   "outputs": [
    {
     "data": {
      "text/plain": [
       "['kjsc12op@naver.com', 'abc@gmail.com', 'def@daum.net']"
      ]
     },
     "execution_count": 56,
     "metadata": {},
     "output_type": "execute_result"
    }
   ],
   "source": [
    "re.findall(r'\\w+@[\\w.]+', 'kjsc12op@naver.com abc@gmail.com def@daum.net')"
   ]
  },
  {
   "cell_type": "markdown",
   "metadata": {},
   "source": [
    "### 4) re.sub( )\n",
    "\n",
    "- 일치하는 패턴을 replace"
   ]
  },
  {
   "cell_type": "code",
   "execution_count": 68,
   "metadata": {},
   "outputs": [
    {
     "data": {
      "text/plain": [
       "'great icecream which test great'"
      ]
     },
     "execution_count": 68,
     "metadata": {},
     "output_type": "execute_result"
    }
   ],
   "source": [
    "re.sub(r'[\\w]+@[\\w.]+', 'great', 'kjscop@naver.com icecream which test kjscop@daum.net')"
   ]
  },
  {
   "cell_type": "code",
   "execution_count": 70,
   "metadata": {},
   "outputs": [
    {
     "data": {
      "text/plain": [
       "'great icecream which test kjscop@daum.net'"
      ]
     },
     "execution_count": 70,
     "metadata": {},
     "output_type": "execute_result"
    }
   ],
   "source": [
    "re.sub(r'[\\w]+@[\\w.]+', 'great', 'kjscop@naver.com icecream which test kjscop@daum.net', count=1)"
   ]
  },
  {
   "cell_type": "markdown",
   "metadata": {},
   "source": [
    "### 5) compile( )\n",
    "\n",
    "- 동일한 정규표현식 매번 다시 쓰기 번거로움을 해결\n",
    "- 정규표현식을 기억함"
   ]
  },
  {
   "cell_type": "code",
   "execution_count": 73,
   "metadata": {},
   "outputs": [],
   "source": [
    "email_reg = re.compile(r'[\\w]+@[\\w.]+')"
   ]
  },
  {
   "cell_type": "code",
   "execution_count": 74,
   "metadata": {},
   "outputs": [
    {
     "data": {
      "text/plain": [
       "<re.Match object; span=(0, 16), match='kjscop@naver.com'>"
      ]
     },
     "execution_count": 74,
     "metadata": {},
     "output_type": "execute_result"
    }
   ],
   "source": [
    "email_reg.search('kjscop@naver.com kjscop@daum.net abcd@nate.com')"
   ]
  },
  {
   "cell_type": "code",
   "execution_count": 75,
   "metadata": {},
   "outputs": [
    {
     "data": {
      "text/plain": [
       "['kjscop@naver.com', 'kjscop@daum.net', 'abcd@nate.com']"
      ]
     },
     "execution_count": 75,
     "metadata": {},
     "output_type": "execute_result"
    }
   ],
   "source": [
    "email_reg.findall('kjscop@naver.com kjscop@daum.net abcd@nate.com')"
   ]
  }
 ],
 "metadata": {
  "kernelspec": {
   "display_name": "Python 3",
   "language": "python",
   "name": "python3"
  },
  "language_info": {
   "codemirror_mode": {
    "name": "ipython",
    "version": 3
   },
   "file_extension": ".py",
   "mimetype": "text/x-python",
   "name": "python",
   "nbconvert_exporter": "python",
   "pygments_lexer": "ipython3",
   "version": "3.7.4"
  }
 },
 "nbformat": 4,
 "nbformat_minor": 4
}
