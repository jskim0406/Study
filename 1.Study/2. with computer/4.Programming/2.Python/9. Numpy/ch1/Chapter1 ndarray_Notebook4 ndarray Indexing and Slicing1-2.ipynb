{
 "cells": [
  {
   "cell_type": "code",
   "execution_count": 1,
   "metadata": {},
   "outputs": [
    {
     "name": "stdout",
     "output_type": "stream",
     "text": [
      "original python_list: [[1, 2], [3, 4]] \n",
      "\n",
      "python_list: [[10, 10], [3, 4]]\n",
      "element1: [1, 2]\n"
     ]
    }
   ],
   "source": [
    "python_list = [[1,2],[3,4]]\n",
    "\n",
    "print(\"original python_list:\", python_list, '\\n')\n",
    "element1 = python_list[0] # 첫 번째 원소 추출\n",
    "python_list[0] = [10,10] # 원래의 python list의 첫 번째 원소들을 10으로 바꿈\n",
    "\n",
    "print(\"python_list:\", python_list)\n",
    "print(\"element1:\", element1)"
   ]
  },
  {
   "cell_type": "code",
   "execution_count": 2,
   "metadata": {},
   "outputs": [
    {
     "name": "stdout",
     "output_type": "stream",
     "text": [
      "original np_arr: [[1 2]\n",
      " [3 4]] \n",
      "\n",
      "nd_arr:\n",
      " [[10 10]\n",
      " [ 3  4]]\n",
      "element1: [10 10]\n"
     ]
    }
   ],
   "source": [
    "np_arr = np.array([[1,2],[3,4]])\n",
    "\n",
    "print(\"original np_arr:\", np_arr, '\\n')\n",
    "element1 = np_arr[0] # 첫 번째 원소 추출\n",
    "np_arr[0] = [10, 10] # 원래의 ndarray의 첫 번째 원소들을 10으로 바꿈\n",
    "\n",
    "print(\"nd_arr:\\n\", np_arr)\n",
    "print(\"element1:\", element1)"
   ]
  },
  {
   "cell_type": "code",
   "execution_count": 3,
   "metadata": {},
   "outputs": [
    {
     "name": "stdout",
     "output_type": "stream",
     "text": [
      "original np_arr: [[1 2]\n",
      " [3 4]] \n",
      "\n",
      "nd_arr:\n",
      " [[10 10]\n",
      " [ 3  4]]\n",
      "element1: [1 2]\n"
     ]
    }
   ],
   "source": [
    "np_arr = np.array([[1,2],[3,4]])\n",
    "\n",
    "print(\"original np_arr:\", np_arr, '\\n')\n",
    "element1 = np_arr[0].copy() # 첫 번째 원소 추출\n",
    "np_arr[0] = [10, 10] # 원래의 ndarray의 첫 번째 원소들을 10으로 바꿈\n",
    "\n",
    "print(\"nd_arr:\\n\", np_arr)\n",
    "print(\"element1:\", element1)"
   ]
  }
 ],
 "metadata": {
  "kernelspec": {
   "display_name": "Python 3",
   "language": "python",
   "name": "python3"
  },
  "language_info": {
   "codemirror_mode": {
    "name": "ipython",
    "version": 3
   },
   "file_extension": ".py",
   "mimetype": "text/x-python",
   "name": "python",
   "nbconvert_exporter": "python",
   "pygments_lexer": "ipython3",
   "version": "3.7.4"
  }
 },
 "nbformat": 4,
 "nbformat_minor": 4
}
