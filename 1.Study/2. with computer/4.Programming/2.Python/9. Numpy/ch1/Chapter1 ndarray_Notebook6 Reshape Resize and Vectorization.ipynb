{
 "cells": [
  {
   "cell_type": "markdown",
   "metadata": {},
   "source": [
    "**reshape, resize는 같은 역할**\n",
    "```\n",
    "\n",
    "1.numpy.reshape\n",
    "2.numpy.resize\n",
    "3.ndarray.reshape\n",
    "4.ndarray.resize\n",
    "\n",
    "```\n",
    "\n",
    "[차이점]\n",
    "1. resize => in_place 연산이라는 점이 차이\n",
    "2. reshape => return 값이 본 데이터의 참조값. 따라서, 원본이 바뀌면 reshape한 데이터도 바뀜\n",
    "\n",
    "    *원본 바뀌어도 reshape 데이터 영향 받길 원치 않으면, np.array.reshape( () ).copy() 로 '.copy()'활용\n",
    "\n",
    "    ex)\n",
    "        a = np.full((2,6), fill_value=2)\n",
    "        b = a.reshape((4,3))\n",
    "        a[1] = 10\n",
    "            => b(reshape된)도 바뀜\n",
    "\n",
    "\n"
   ]
  },
  {
   "cell_type": "code",
   "execution_count": 17,
   "metadata": {},
   "outputs": [
    {
     "data": {
      "text/plain": [
       "array([[3, 3, 3, 3],\n",
       "       [3, 3, 3, 3],\n",
       "       [3, 3, 3, 3]])"
      ]
     },
     "execution_count": 17,
     "metadata": {},
     "output_type": "execute_result"
    }
   ],
   "source": [
    "a = np.full((3,4), fill_value=3)\n",
    "a"
   ]
  },
  {
   "cell_type": "code",
   "execution_count": 18,
   "metadata": {},
   "outputs": [
    {
     "data": {
      "text/plain": [
       "array([[3, 3, 3, 3, 3, 3],\n",
       "       [3, 3, 3, 3, 3, 3]])"
      ]
     },
     "execution_count": 18,
     "metadata": {},
     "output_type": "execute_result"
    }
   ],
   "source": [
    "b = a.reshape((2,6))\n",
    "c = a.reshape((2,6)).copy()\n",
    "b"
   ]
  },
  {
   "cell_type": "code",
   "execution_count": 19,
   "metadata": {},
   "outputs": [],
   "source": [
    "a[0] = 10"
   ]
  },
  {
   "cell_type": "code",
   "execution_count": 20,
   "metadata": {},
   "outputs": [
    {
     "data": {
      "text/plain": [
       "array([[10, 10, 10, 10,  3,  3],\n",
       "       [ 3,  3,  3,  3,  3,  3]])"
      ]
     },
     "execution_count": 20,
     "metadata": {},
     "output_type": "execute_result"
    }
   ],
   "source": [
    "b"
   ]
  },
  {
   "cell_type": "code",
   "execution_count": 21,
   "metadata": {},
   "outputs": [
    {
     "data": {
      "text/plain": [
       "array([[3, 3, 3, 3, 3, 3],\n",
       "       [3, 3, 3, 3, 3, 3]])"
      ]
     },
     "execution_count": 21,
     "metadata": {},
     "output_type": "execute_result"
    }
   ],
   "source": [
    "c"
   ]
  }
 ],
 "metadata": {
  "kernelspec": {
   "display_name": "Python 3",
   "language": "python",
   "name": "python3"
  },
  "language_info": {
   "codemirror_mode": {
    "name": "ipython",
    "version": 3
   },
   "file_extension": ".py",
   "mimetype": "text/x-python",
   "name": "python",
   "nbconvert_exporter": "python",
   "pygments_lexer": "ipython3",
   "version": "3.7.4"
  }
 },
 "nbformat": 4,
 "nbformat_minor": 4
}
