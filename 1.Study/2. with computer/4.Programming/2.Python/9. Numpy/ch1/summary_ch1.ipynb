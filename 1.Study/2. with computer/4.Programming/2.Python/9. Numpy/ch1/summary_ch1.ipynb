{
 "cells": [
  {
   "cell_type": "markdown",
   "metadata": {},
   "source": [
    "- Making ndarray\n",
    "- Information About ndarray : shape, size/itemsize, dtype\n",
    "- ndarray Indexing and Slicing\n",
    "- Reshape Resize and Vectorization"
   ]
  },
  {
   "cell_type": "markdown",
   "metadata": {},
   "source": [
    "# Quiz"
   ]
  },
  {
   "cell_type": "markdown",
   "metadata": {},
   "source": [
    "```\n",
    "[ch1]\n",
    "\n",
    "1. making ndarray 방법 5가지(entry가 무엇이든)\n",
    "2. ndarray의 information 중, entry 당 소비하는 memory 크기를 반환하는 함수는?\n",
    "3. ndarray의 information 중, entry 갯수를 반환하는 함수는?\n",
    "4. a가 3x4의 list type일 때, (1,1) entry를 인덱싱하는 방법은? / a가 ndarray라면?\n",
    "5. ndarray.resize((3,4)) / ndarray.reshape((3,4)) 의 차이점은?\n",
    "\n",
    "```"
   ]
  },
  {
   "cell_type": "code",
   "execution_count": null,
   "metadata": {},
   "outputs": [],
   "source": []
  },
  {
   "cell_type": "code",
   "execution_count": null,
   "metadata": {},
   "outputs": [],
   "source": []
  },
  {
   "cell_type": "code",
   "execution_count": null,
   "metadata": {},
   "outputs": [],
   "source": []
  },
  {
   "cell_type": "code",
   "execution_count": null,
   "metadata": {},
   "outputs": [],
   "source": []
  },
  {
   "cell_type": "code",
   "execution_count": null,
   "metadata": {},
   "outputs": [],
   "source": []
  },
  {
   "cell_type": "code",
   "execution_count": null,
   "metadata": {},
   "outputs": [],
   "source": []
  },
  {
   "cell_type": "code",
   "execution_count": null,
   "metadata": {},
   "outputs": [],
   "source": []
  },
  {
   "cell_type": "code",
   "execution_count": null,
   "metadata": {},
   "outputs": [],
   "source": []
  },
  {
   "cell_type": "code",
   "execution_count": null,
   "metadata": {},
   "outputs": [],
   "source": []
  },
  {
   "cell_type": "code",
   "execution_count": null,
   "metadata": {},
   "outputs": [],
   "source": []
  },
  {
   "cell_type": "code",
   "execution_count": null,
   "metadata": {},
   "outputs": [],
   "source": []
  },
  {
   "cell_type": "markdown",
   "metadata": {},
   "source": [
    "**Chapter1 ndarray_Notebook1 Making ndarray1-2**\n",
    "\n",
    "```\n",
    "1. np.array( [ ] )\n",
    "2. np.zeros( shape )\n",
    "3. np.ones( shape )\n",
    "4. np.empty( shape )\n",
    "5. np.full( shape, fill_value )\n",
    "\n",
    "```\n",
    "```\n",
    "1. np.zeros_like( ndarray )\n",
    "2. np.ones_like( ndarray )\n",
    "3. np.empty_like( ndarray )\n",
    "4. np.full_like( ndarray, fill_value )\n",
    "\n",
    "```"
   ]
  },
  {
   "cell_type": "markdown",
   "metadata": {},
   "source": [
    "**Chapter1 ndarray: Notebook3 Information About ndarray**\n",
    "\n",
    "```\n",
    "1. shape\n",
    "\n",
    "    np.array.shape\n",
    "        => return ( , )\n",
    "    \n",
    "2. size\n",
    "\n",
    "    np.array.size\n",
    "        => return \"entry 갯수\"\n",
    "        \n",
    "            ex) np.ones((2,3)).size\n",
    "                => return 6\n",
    "                \n",
    "    np.array.itemsize\n",
    "        => return \"entry 당 소비하는 memory 크기\"\n",
    "            \n",
    "            ex) np.ones((2,3), dtype=np.int)\n",
    "                => return 64\n",
    "                np.ones((2,3), dtype=np.int8)\n",
    "                => return 8\n",
    "    \n",
    "    *numpy는 기본적으로 64bit를 할당함. image데이터는 entry당 8bit이므로, default 64비트를 할당할 경우, \n",
    "     entry당 (64-8)bit의 memory loss가 발생하는 것. 따라서, 주의해서 dtype을 설정해야 함.\n",
    "\n",
    "3. dtype\n",
    "\n",
    "    np.array.dtype\n",
    "    \n",
    "    \n",
    "```"
   ]
  },
  {
   "cell_type": "markdown",
   "metadata": {},
   "source": [
    "**Chapter1 ndarray: Notebook4-5 ndarray Indexing and Slicing**\n",
    "\n",
    "```\n",
    "\n",
    "1. list 타입의 matrix indexing / slicing\n",
    "\n",
    "    a = list([[1,2],[2,3],[3,4]])\n",
    "    a[1][1]\n",
    "        => 3\n",
    "\n",
    "2. ndarray 타입의 matrix indexing / slicing\n",
    "\n",
    "    b = np.array(a)\n",
    "    b[1,1]\n",
    "        => 3\n",
    "        \n",
    "3. list / ndarray의 indexing/slicing 차이\n",
    "\n",
    "    list => 인덱싱/슬라이싱 시, 복사본을 만들어 return.\n",
    "    \n",
    "    ndarray => 인덱싱/슬라이싱 시, 원본을 그대로 참조해 return. (따라서, 원본 값이 바뀌면, 인덱싱/슬라이싱한 주머니 값도 바뀜)\n",
    "    \n",
    "        *따라서, ndarray를 인덱싱/슬라이싱 시, np.array[1:,].copy()로 list처럼 복사본을 만들어 저장하도록 하기도 함.\n",
    "        *ndarray는 워낙 큰 데이터를 다루므로, memory consumption 최소화하기 위한 철학이 깔려있는 것.\n",
    "\n",
    "\n",
    "```"
   ]
  },
  {
   "cell_type": "markdown",
   "metadata": {},
   "source": [
    "**Chapter1 ndarray: Notebook6 Reshape Resize and Vectorization**"
   ]
  },
  {
   "cell_type": "markdown",
   "metadata": {},
   "source": [
    "**reshape, resize는 같은 역할**\n",
    "```\n",
    "\n",
    "1.numpy.reshape\n",
    "2.numpy.resize\n",
    "3.ndarray.reshape\n",
    "4.ndarray.resize\n",
    "\n",
    "```\n",
    "\n",
    "[차이점]\n",
    "1. resize => in_place 연산이라는 점이 차이\n",
    "2. reshape => return 값이 본 데이터의 참조값. 따라서, 원본이 바뀌면 reshape한 데이터도 바뀜\n",
    "\n",
    "    *원본 바뀌어도 reshape 데이터 영향 받길 원치 않으면, np.array.reshape( () ).copy() 로 '.copy()'활용\n",
    "\n",
    "    ex)\n",
    "        a = np.full((2,6), fill_value=2)\n",
    "        b = a.reshape((4,3))\n",
    "        a[1] = 10\n",
    "            => b(reshape된)도 바뀜\n",
    "\n",
    "\n"
   ]
  },
  {
   "cell_type": "code",
   "execution_count": 17,
   "metadata": {},
   "outputs": [
    {
     "data": {
      "text/plain": [
       "array([[3, 3, 3, 3],\n",
       "       [3, 3, 3, 3],\n",
       "       [3, 3, 3, 3]])"
      ]
     },
     "execution_count": 17,
     "metadata": {},
     "output_type": "execute_result"
    }
   ],
   "source": [
    "a = np.full((3,4), fill_value=3)\n",
    "a"
   ]
  },
  {
   "cell_type": "code",
   "execution_count": 18,
   "metadata": {},
   "outputs": [
    {
     "data": {
      "text/plain": [
       "array([[3, 3, 3, 3, 3, 3],\n",
       "       [3, 3, 3, 3, 3, 3]])"
      ]
     },
     "execution_count": 18,
     "metadata": {},
     "output_type": "execute_result"
    }
   ],
   "source": [
    "b = a.reshape((2,6))\n",
    "c = a.reshape((2,6)).copy()\n",
    "b"
   ]
  },
  {
   "cell_type": "code",
   "execution_count": 19,
   "metadata": {},
   "outputs": [],
   "source": [
    "a[0] = 10"
   ]
  },
  {
   "cell_type": "code",
   "execution_count": 20,
   "metadata": {},
   "outputs": [
    {
     "data": {
      "text/plain": [
       "array([[10, 10, 10, 10,  3,  3],\n",
       "       [ 3,  3,  3,  3,  3,  3]])"
      ]
     },
     "execution_count": 20,
     "metadata": {},
     "output_type": "execute_result"
    }
   ],
   "source": [
    "b"
   ]
  },
  {
   "cell_type": "code",
   "execution_count": 21,
   "metadata": {},
   "outputs": [
    {
     "data": {
      "text/plain": [
       "array([[3, 3, 3, 3, 3, 3],\n",
       "       [3, 3, 3, 3, 3, 3]])"
      ]
     },
     "execution_count": 21,
     "metadata": {},
     "output_type": "execute_result"
    }
   ],
   "source": [
    "c"
   ]
  }
 ],
 "metadata": {
  "kernelspec": {
   "display_name": "Python 3",
   "language": "python",
   "name": "python3"
  },
  "language_info": {
   "codemirror_mode": {
    "name": "ipython",
    "version": 3
   },
   "file_extension": ".py",
   "mimetype": "text/x-python",
   "name": "python",
   "nbconvert_exporter": "python",
   "pygments_lexer": "ipython3",
   "version": "3.7.4"
  }
 },
 "nbformat": 4,
 "nbformat_minor": 4
}
