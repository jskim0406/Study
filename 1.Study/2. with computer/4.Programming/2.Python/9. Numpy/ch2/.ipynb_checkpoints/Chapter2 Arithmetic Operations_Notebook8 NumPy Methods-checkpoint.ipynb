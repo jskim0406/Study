{
 "cells": [
  {
   "cell_type": "markdown",
   "metadata": {},
   "source": [
    "```\n",
    "[ndarray의 method]\n",
    "\n",
    "1. ndarray.max()\n",
    "2. ndarray.min()\n",
    "3. ndarray.argmax()\n",
    "4. ndarray.argmin()\n",
    "5. ndarray.mean()\n",
    "6. ndarray.std()\n",
    "7. ndarray.var()\n",
    "8. ndarray.T\n",
    "9. ndarray.squeeze()\n",
    "10. ndarray.dot()\n",
    "\n",
    "```"
   ]
  },
  {
   "cell_type": "markdown",
   "metadata": {},
   "source": [
    "```\n",
    "[numpy의 method]\n",
    "\n",
    "1. np.max(ndarray)\n",
    "2. np.min(ndarray)\n",
    "3. np.argmax(ndarray)\n",
    "4. np.argmin(ndarray)\n",
    "5. np.mean(ndarray)\n",
    "6. np.std(ndarray)\n",
    "7. np.var(ndarray)\n",
    "8. np.transpose(ndarray)\n",
    "9. np.squeeze(ndarray)\n",
    "10. np.dot(ndarray1, ndarray2)\n",
    "```"
   ]
  },
  {
   "cell_type": "markdown",
   "metadata": {},
   "source": [
    "**기능은 같음. numpy의 method 양식으로 더 자주 사용함**\n",
    "\n",
    "```\n",
    "\n",
    ".dot : 점곱 (MxN.dot(Nx1))\n",
    "@    : 점곱 (MxN @ Nx1)\n",
    "*    : hadamard product\n",
    "\n",
    "```"
   ]
  }
 ],
 "metadata": {
  "kernelspec": {
   "display_name": "Python 3",
   "language": "python",
   "name": "python3"
  },
  "language_info": {
   "codemirror_mode": {
    "name": "ipython",
    "version": 3
   },
   "file_extension": ".py",
   "mimetype": "text/x-python",
   "name": "python",
   "nbconvert_exporter": "python",
   "pygments_lexer": "ipython3",
   "version": "3.7.4"
  }
 },
 "nbformat": 4,
 "nbformat_minor": 4
}
