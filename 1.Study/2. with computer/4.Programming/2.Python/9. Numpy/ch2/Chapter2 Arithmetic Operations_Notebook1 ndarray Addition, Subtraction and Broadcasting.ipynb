{
 "cells": [
  {
   "cell_type": "markdown",
   "metadata": {},
   "source": [
    "### 1. vector operation(+, -)"
   ]
  },
  {
   "cell_type": "markdown",
   "metadata": {},
   "source": [
    "**python list + : concatenation (근본적으로 벡터 / 행렬 연산과 거리가 먼 자료구조)**\n",
    "\n",
    "**ndarray + : entry addition**"
   ]
  },
  {
   "cell_type": "code",
   "execution_count": 3,
   "metadata": {},
   "outputs": [
    {
     "data": {
      "text/plain": [
       "[1, 2, 3, 4, 10, 20, 30, 40]"
      ]
     },
     "execution_count": 3,
     "metadata": {},
     "output_type": "execute_result"
    }
   ],
   "source": [
    "a = [1,2,3,4]\n",
    "b = [10,20,30,40]\n",
    "\n",
    "a+b"
   ]
  },
  {
   "cell_type": "code",
   "execution_count": 2,
   "metadata": {},
   "outputs": [
    {
     "data": {
      "text/plain": [
       "array([11, 22, 33, 44])"
      ]
     },
     "execution_count": 2,
     "metadata": {},
     "output_type": "execute_result"
    }
   ],
   "source": [
    "c = np.array(a)\n",
    "d = np.array(b)\n",
    "\n",
    "c+d"
   ]
  },
  {
   "cell_type": "code",
   "execution_count": 4,
   "metadata": {},
   "outputs": [
    {
     "data": {
      "text/plain": [
       "array([ -9, -18, -27, -36])"
      ]
     },
     "execution_count": 4,
     "metadata": {},
     "output_type": "execute_result"
    }
   ],
   "source": [
    "c-d"
   ]
  },
  {
   "cell_type": "markdown",
   "metadata": {},
   "source": [
    "### 2. Broadcasting ( vector + scalar ) \n",
    "\n",
    "```\n",
    "vector의 모든 element에 scalar를 복제해 operation!\n",
    "```"
   ]
  },
  {
   "cell_type": "code",
   "execution_count": 5,
   "metadata": {},
   "outputs": [
    {
     "data": {
      "text/plain": [
       "array([11, 12, 13, 14])"
      ]
     },
     "execution_count": 5,
     "metadata": {},
     "output_type": "execute_result"
    }
   ],
   "source": [
    "a = np.array([1,2,3,4])\n",
    "b = 10\n",
    "\n",
    "a+b"
   ]
  },
  {
   "cell_type": "code",
   "execution_count": 6,
   "metadata": {},
   "outputs": [
    {
     "data": {
      "text/plain": [
       "array([-9, -8, -7, -6])"
      ]
     },
     "execution_count": 6,
     "metadata": {},
     "output_type": "execute_result"
    }
   ],
   "source": [
    "a-b"
   ]
  },
  {
   "cell_type": "markdown",
   "metadata": {},
   "source": [
    "### 3. Broadcasting ( matrix + vector )\n",
    "```\n",
    "matrix에 vector의 행 또는 열을 그대로 복제해 operation!\n",
    "\n",
    "ex) 3,2 mat / 3,1 vec\n",
    "==> 3,1 vec의 1열을 2열로 복제해 3,2mat + 3,2vec* 를 연산함\n",
    "```"
   ]
  },
  {
   "cell_type": "code",
   "execution_count": 12,
   "metadata": {},
   "outputs": [
    {
     "name": "stdout",
     "output_type": "stream",
     "text": [
      "a : \n",
      "[[0 3]\n",
      " [3 6]\n",
      " [9 7]], \n",
      "b: \n",
      "[[100]\n",
      " [200]\n",
      " [300]], \n",
      "a+b : \n",
      "[[100 103]\n",
      " [203 206]\n",
      " [309 307]]\n"
     ]
    }
   ],
   "source": [
    "a = np.random.randint(low=0,high=10,size=(3,2))\n",
    "b = np.array([[100],[200],[300]])\n",
    "\n",
    "print(f\"a : \\n{a}, \\nb: \\n{b}, \\na+b : \\n{a+b}\")"
   ]
  }
 ],
 "metadata": {
  "kernelspec": {
   "display_name": "Python 3",
   "language": "python",
   "name": "python3"
  },
  "language_info": {
   "codemirror_mode": {
    "name": "ipython",
    "version": 3
   },
   "file_extension": ".py",
   "mimetype": "text/x-python",
   "name": "python",
   "nbconvert_exporter": "python",
   "pygments_lexer": "ipython3",
   "version": "3.7.4"
  }
 },
 "nbformat": 4,
 "nbformat_minor": 4
}
