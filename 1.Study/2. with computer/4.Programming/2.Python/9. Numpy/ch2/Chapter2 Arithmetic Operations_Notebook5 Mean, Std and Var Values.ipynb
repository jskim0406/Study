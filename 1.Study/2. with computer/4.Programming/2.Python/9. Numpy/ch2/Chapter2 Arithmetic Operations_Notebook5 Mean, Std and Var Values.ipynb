{
 "cells": [
  {
   "cell_type": "markdown",
   "metadata": {},
   "source": [
    "# 기초통계량(mean, std, var)\n",
    "\n",
    "```\n",
    "\n",
    "1. ndarray.mean()\n",
    "2. ndarray.std()\n",
    "3. ndarray.var()\n",
    "```"
   ]
  },
  {
   "cell_type": "code",
   "execution_count": 13,
   "metadata": {},
   "outputs": [
    {
     "name": "stdout",
     "output_type": "stream",
     "text": [
      "mean : 5.5, std : 2.8722813232690143, var : 8.25\n"
     ]
    }
   ],
   "source": [
    "a = np.array([1,2,3,4,5,6,7,8,9,10])\n",
    "\n",
    "print(f\"mean : {a.mean()}, std : {a.std()}, var : {a.var()}\", sep='\\n')"
   ]
  },
  {
   "cell_type": "code",
   "execution_count": 14,
   "metadata": {},
   "outputs": [
    {
     "data": {
      "text/plain": [
       "array([[30, 79, 87],\n",
       "       [73, 97, 31],\n",
       "       [97, 52, 59],\n",
       "       [67, 35, 98],\n",
       "       [78, 76, 75],\n",
       "       [53, 78, 31],\n",
       "       [59, 52, 75],\n",
       "       [38, 78, 36],\n",
       "       [41, 52, 32],\n",
       "       [44, 61, 49]])"
      ]
     },
     "execution_count": 14,
     "metadata": {},
     "output_type": "execute_result"
    }
   ],
   "source": [
    "maths = np.random.randint(low = 30, high = 100, size = (10,))\n",
    "english = np.random.randint(low = 30, high = 100, size = (10,))\n",
    "physics = np.random.randint(low = 30, high = 100, size = (10,))\n",
    "\n",
    "score_table = np.vstack((maths,english,physics)).T\n",
    "score_table"
   ]
  },
  {
   "cell_type": "code",
   "execution_count": 15,
   "metadata": {},
   "outputs": [
    {
     "data": {
      "text/html": [
       "<div>\n",
       "<style scoped>\n",
       "    .dataframe tbody tr th:only-of-type {\n",
       "        vertical-align: middle;\n",
       "    }\n",
       "\n",
       "    .dataframe tbody tr th {\n",
       "        vertical-align: top;\n",
       "    }\n",
       "\n",
       "    .dataframe thead th {\n",
       "        text-align: right;\n",
       "    }\n",
       "</style>\n",
       "<table border=\"1\" class=\"dataframe\">\n",
       "  <thead>\n",
       "    <tr style=\"text-align: right;\">\n",
       "      <th></th>\n",
       "      <th>Math scores</th>\n",
       "      <th>English scores</th>\n",
       "      <th>Physics scores</th>\n",
       "    </tr>\n",
       "  </thead>\n",
       "  <tbody>\n",
       "    <tr>\n",
       "      <th>0</th>\n",
       "      <td>30</td>\n",
       "      <td>79</td>\n",
       "      <td>87</td>\n",
       "    </tr>\n",
       "    <tr>\n",
       "      <th>1</th>\n",
       "      <td>73</td>\n",
       "      <td>97</td>\n",
       "      <td>31</td>\n",
       "    </tr>\n",
       "    <tr>\n",
       "      <th>2</th>\n",
       "      <td>97</td>\n",
       "      <td>52</td>\n",
       "      <td>59</td>\n",
       "    </tr>\n",
       "    <tr>\n",
       "      <th>3</th>\n",
       "      <td>67</td>\n",
       "      <td>35</td>\n",
       "      <td>98</td>\n",
       "    </tr>\n",
       "    <tr>\n",
       "      <th>4</th>\n",
       "      <td>78</td>\n",
       "      <td>76</td>\n",
       "      <td>75</td>\n",
       "    </tr>\n",
       "    <tr>\n",
       "      <th>5</th>\n",
       "      <td>53</td>\n",
       "      <td>78</td>\n",
       "      <td>31</td>\n",
       "    </tr>\n",
       "    <tr>\n",
       "      <th>6</th>\n",
       "      <td>59</td>\n",
       "      <td>52</td>\n",
       "      <td>75</td>\n",
       "    </tr>\n",
       "    <tr>\n",
       "      <th>7</th>\n",
       "      <td>38</td>\n",
       "      <td>78</td>\n",
       "      <td>36</td>\n",
       "    </tr>\n",
       "    <tr>\n",
       "      <th>8</th>\n",
       "      <td>41</td>\n",
       "      <td>52</td>\n",
       "      <td>32</td>\n",
       "    </tr>\n",
       "    <tr>\n",
       "      <th>9</th>\n",
       "      <td>44</td>\n",
       "      <td>61</td>\n",
       "      <td>49</td>\n",
       "    </tr>\n",
       "  </tbody>\n",
       "</table>\n",
       "</div>"
      ],
      "text/plain": [
       "   Math scores  English scores  Physics scores\n",
       "0           30              79              87\n",
       "1           73              97              31\n",
       "2           97              52              59\n",
       "3           67              35              98\n",
       "4           78              76              75\n",
       "5           53              78              31\n",
       "6           59              52              75\n",
       "7           38              78              36\n",
       "8           41              52              32\n",
       "9           44              61              49"
      ]
     },
     "execution_count": 15,
     "metadata": {},
     "output_type": "execute_result"
    }
   ],
   "source": [
    "df = pd.DataFrame({\"Math scores\": maths, \"English scores\": english, \"Physics scores\": physics})\n",
    "df"
   ]
  },
  {
   "cell_type": "markdown",
   "metadata": {},
   "source": [
    "**row-wise, column-wise**\n",
    "\n",
    "- axis = 0 : 0차원 제외하고 shape 활용\n",
    "- axis = 1 : 1차원 제외하고 shape 활용"
   ]
  },
  {
   "cell_type": "code",
   "execution_count": 17,
   "metadata": {},
   "outputs": [
    {
     "name": "stdout",
     "output_type": "stream",
     "text": [
      "[[30 79 87]\n",
      " [73 97 31]\n",
      " [97 52 59]\n",
      " [67 35 98]\n",
      " [78 76 75]\n",
      " [53 78 31]\n",
      " [59 52 75]\n",
      " [38 78 36]\n",
      " [41 52 32]\n",
      " [44 61 49]]\n",
      "(10, 3)\n"
     ]
    }
   ],
   "source": [
    "print(score_table,score_table.shape,sep='\\n')"
   ]
  },
  {
   "cell_type": "code",
   "execution_count": 19,
   "metadata": {},
   "outputs": [
    {
     "data": {
      "text/plain": [
       "array([58. , 66. , 57.3])"
      ]
     },
     "execution_count": 19,
     "metadata": {},
     "output_type": "execute_result"
    }
   ],
   "source": [
    "score_table.mean(axis=0)"
   ]
  },
  {
   "cell_type": "code",
   "execution_count": 20,
   "metadata": {},
   "outputs": [
    {
     "data": {
      "text/plain": [
       "array([19.80403999, 17.58408371, 23.90418373])"
      ]
     },
     "execution_count": 20,
     "metadata": {},
     "output_type": "execute_result"
    }
   ],
   "source": [
    "score_table.std(axis=0)"
   ]
  },
  {
   "cell_type": "code",
   "execution_count": 21,
   "metadata": {},
   "outputs": [
    {
     "data": {
      "text/plain": [
       "array([392.2 , 309.2 , 571.41])"
      ]
     },
     "execution_count": 21,
     "metadata": {},
     "output_type": "execute_result"
    }
   ],
   "source": [
    "score_table.var(axis=0)"
   ]
  },
  {
   "cell_type": "markdown",
   "metadata": {},
   "source": [
    "**normalization**\n",
    "- (data - mean) / std"
   ]
  },
  {
   "cell_type": "code",
   "execution_count": 39,
   "metadata": {},
   "outputs": [
    {
     "data": {
      "text/plain": [
       "array([[27.07130464, 75.24660568, 84.60293007],\n",
       "       [70.07130464, 93.24660568, 28.60293007],\n",
       "       [94.07130464, 48.24660568, 56.60293007],\n",
       "       [64.07130464, 31.24660568, 95.60293007],\n",
       "       [75.07130464, 72.24660568, 72.60293007],\n",
       "       [50.07130464, 74.24660568, 28.60293007],\n",
       "       [56.07130464, 48.24660568, 72.60293007],\n",
       "       [35.07130464, 74.24660568, 33.60293007],\n",
       "       [38.07130464, 48.24660568, 29.60293007],\n",
       "       [41.07130464, 57.24660568, 46.60293007]])"
      ]
     },
     "execution_count": 39,
     "metadata": {},
     "output_type": "execute_result"
    }
   ],
   "source": [
    "normalized_data = (score_table-score_table.mean(axis=0)/score_table.std(axis=0))\n",
    "normalized_data"
   ]
  }
 ],
 "metadata": {
  "kernelspec": {
   "display_name": "Python 3",
   "language": "python",
   "name": "python3"
  },
  "language_info": {
   "codemirror_mode": {
    "name": "ipython",
    "version": 3
   },
   "file_extension": ".py",
   "mimetype": "text/x-python",
   "name": "python",
   "nbconvert_exporter": "python",
   "pygments_lexer": "ipython3",
   "version": "3.7.4"
  }
 },
 "nbformat": 4,
 "nbformat_minor": 4
}
