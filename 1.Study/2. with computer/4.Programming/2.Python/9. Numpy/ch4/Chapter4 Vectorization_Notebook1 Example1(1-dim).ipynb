{
 "cells": [
  {
   "cell_type": "markdown",
   "metadata": {},
   "source": [
    "# Vectorization - 1 dim\n",
    "\n",
    "\n",
    "- vectorization : 수를 하나씩 다루지 않고, 묶음으로 처리한다는 의미 => for-loopf를 없애는 작업\n",
    "\n",
    "    - for-loop 대신 np.mean()\n",
    "    - for-loop 대신 ndarray1.dot(ndarray2) 로 broadcasting 연산\n",
    "\n",
    "등 모두 vectorization 접근으로 볼 수 있다."
   ]
  },
  {
   "cell_type": "markdown",
   "metadata": {},
   "source": [
    "### 1. for-loop와 vectorization 의 비교 ex-1"
   ]
  },
  {
   "cell_type": "code",
   "execution_count": 6,
   "metadata": {},
   "outputs": [],
   "source": [
    "n_class = 5000000\n",
    "avg_points = np.random.randint(low=50,high=100,size=(n_class,))\n",
    "numb_students = np.random.randint(low=10,high=30,size=(n_class,))"
   ]
  },
  {
   "cell_type": "markdown",
   "metadata": {},
   "source": [
    "### 1) for-loop\n",
    "\n",
    "$전체 수학 평균 = \\frac{\\sum{학급 별 평균 수학점수 * 학급별 학생수}}{\\sum{학급별 학생수}}$"
   ]
  },
  {
   "cell_type": "code",
   "execution_count": 10,
   "metadata": {
    "scrolled": true
   },
   "outputs": [
    {
     "name": "stdout",
     "output_type": "stream",
     "text": [
      "74.50162182717916\n",
      "4.4055869579315186\n"
     ]
    }
   ],
   "source": [
    "import time\n",
    "\n",
    "ttl_sum, ttl_num=0,0\n",
    "\n",
    "st_time = time.time()\n",
    "for i in range(len(avg_points)):\n",
    "    ttl_sum += avg_points[i]*numb_students[i]\n",
    "    ttl_num += numb_students[i]\n",
    "    \n",
    "ttl_avg = ttl_sum/ttl_num\n",
    "end_time = time.time()\n",
    "\n",
    "print(ttl_avg, end_time-st_time, sep='\\n')"
   ]
  },
  {
   "cell_type": "code",
   "execution_count": 13,
   "metadata": {},
   "outputs": [
    {
     "name": "stdout",
     "output_type": "stream",
     "text": [
      "74.50162182717916\n",
      "3.929547071456909\n"
     ]
    }
   ],
   "source": [
    "import time\n",
    "\n",
    "st_time = time.time()\n",
    "\n",
    "ttl_sum = [avg_points[i]*numb_students[i] for i in range(len(avg_points))]\n",
    "ttl_num = [numb_students[i] for i in range(len(avg_points))]\n",
    "    \n",
    "ttl_avg = sum(ttl_sum)/sum(ttl_num)\n",
    "end_time = time.time()\n",
    "\n",
    "print(ttl_avg, end_time-st_time, sep='\\n')"
   ]
  },
  {
   "cell_type": "markdown",
   "metadata": {},
   "source": [
    "### 2) vectorization"
   ]
  },
  {
   "cell_type": "code",
   "execution_count": 12,
   "metadata": {},
   "outputs": [
    {
     "name": "stdout",
     "output_type": "stream",
     "text": [
      "74.50162182717916\n",
      "0.010713815689086914\n"
     ]
    }
   ],
   "source": [
    "st_time = time.time()\n",
    "\n",
    "ttl_avg = np.sum(avg_points.dot(numb_students))/np.sum(numb_students)\n",
    "\n",
    "end_time = time.time()\n",
    "\n",
    "print(ttl_avg, end_time-st_time, sep='\\n')"
   ]
  },
  {
   "cell_type": "markdown",
   "metadata": {},
   "source": [
    "## con) vectorization해 연산 시, 처리 속도가 약 400배 빠른 것을 볼 수 있다."
   ]
  }
 ],
 "metadata": {
  "kernelspec": {
   "display_name": "Python 3",
   "language": "python",
   "name": "python3"
  },
  "language_info": {
   "codemirror_mode": {
    "name": "ipython",
    "version": 3
   },
   "file_extension": ".py",
   "mimetype": "text/x-python",
   "name": "python",
   "nbconvert_exporter": "python",
   "pygments_lexer": "ipython3",
   "version": "3.7.4"
  }
 },
 "nbformat": 4,
 "nbformat_minor": 4
}
