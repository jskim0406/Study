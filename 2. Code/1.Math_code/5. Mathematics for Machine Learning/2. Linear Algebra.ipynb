{
 "cells": [
  {
   "cell_type": "markdown",
   "metadata": {},
   "source": [
    "# 2. Linear Algebra"
   ]
  },
  {
   "cell_type": "markdown",
   "metadata": {},
   "source": [
    "```\n",
    "\n",
    "2020년도에 cambirdge univ에서 출판된 'Mathematics for Machine Learning(이하 MML)'을 바탕으로, Machine Learning에 필요한 필수적이고 기초적인 수학에 대해 탐구해보는 시간을 갖도록 할 것입니다.\n",
    "MML에서 다루는 각 챕터별 필수 개념들을 실제 python 코드로 구현하며 이해를 돕는 텍스트를 만들어볼까 합니다.\n",
    "\n",
    "MML에 따르면,\n",
    "\"Linear Algebra is study of vectors and rules to manipulate vectors to solve the linear equation problem\"\n",
    "이라고 합니다.\n",
    "\n",
    "따라서, 먼저 Linear Algebra 정의의 중추를 이루는 'vector'라는 것에 대해 면밀히 살펴볼 것입니다.\n",
    "\n",
    "```"
   ]
  }
 ],
 "metadata": {
  "kernelspec": {
   "display_name": "Python 3",
   "language": "python",
   "name": "python3"
  },
  "language_info": {
   "codemirror_mode": {
    "name": "ipython",
    "version": 3
   },
   "file_extension": ".py",
   "mimetype": "text/x-python",
   "name": "python",
   "nbconvert_exporter": "python",
   "pygments_lexer": "ipython3",
   "version": "3.7.4"
  }
 },
 "nbformat": 4,
 "nbformat_minor": 4
}
