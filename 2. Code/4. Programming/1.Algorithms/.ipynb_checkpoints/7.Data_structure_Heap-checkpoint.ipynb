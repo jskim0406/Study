{
 "cells": [
  {
   "cell_type": "markdown",
   "metadata": {},
   "source": [
    "# 1. 힙\n",
    "\n",
    "### 1. 힙 (Heap) 이란?\n",
    "- 힙: 데이터에서 최대값과 최소값을 빠르게 찾기 위해 고안된 완전 이진 트리(Complete Binary Tree)\n",
    "  - 완전 이진 트리: 노드를 삽입할 때 최하단 왼쪽 노드부터 차례대로 삽입하는 트리\n",
    "\n",
    "<img src=\"https://www.fun-coding.org/00_Images/completebinarytree.png\" width=300>\n",
    "\n",
    "- 힙을 사용하는 이유\n",
    "  - 배열에 데이터를 넣고, 최대값과 최소값을 찾으려면 O(n) 이 걸림\n",
    "  - 이에 반해, 힙에 데이터를 넣고, 최대값과 최소값을 찾으면, $ O(log n) $ 이 걸림\n",
    "  - 우선순위 큐와 같이 최대값 또는 최소값을 빠르게 찾아야 하는 자료구조 및 알고리즘 구현 등에 활용됨\n",
    "  \n",
    "### 2. 힙 (Heap) 구조\n",
    "- 힙은 최대값을 구하기 위한 구조 (최대 힙, Max Heap) 와, 최소값을 구하기 위한 구조 (최소 힙, Min Heap) 로 분류할 수 있음\n",
    "- 힙은 다음과 같이 두 가지 조건을 가지고 있는 자료구조임\n",
    "  1. 각 노드의 값은 해당 노드의 자식 노드가 가진 값보다 크거나 같다. (최대 힙의 경우)\n",
    "     - 최소 힙의 경우는 각 노드의 값은 해당 노드의 자식 노드가 가진 값보다 크거나 작음\n",
    "  2. 완전 이진 트리 형태를 가짐\n",
    "\n",
    "### 힙과 이진 탐색 트리의 공통점과 차이점\n",
    "- 공통점: 힙과 이진 탐색 트리는 모두 이진 트리임\n",
    "- 차이점: \n",
    "  - 힙은 각 노드의 값이 자식 노드보다 크거나 같음(Max Heap의 경우)\n",
    "  - 이진 탐색 트리는 왼쪽 자식 노드의 값이 가장 작고, 그 다음 부모 노드, 그 다음 오른쪽 자식 노드 값이 가장 큼\n",
    "  - 힙은 이진 탐색 트리의 조건인 자식 노드에서 작은 값은 왼쪽, 큰 값은 오른쪽이라는 조건은 없음\n",
    "    - 힙의 왼쪽 및 오른쪽 자식 노드의 값은 오른쪽이 클 수도 있고, 왼쪽이 클 수도 있음\n",
    "- 이진 탐색 트리는 탐색을 위한 구조, 힙은 최대/최소값 검색을 위한 구조 중 하나로 이해하면 됨  \n",
    "<img src=\"https://www.fun-coding.org/00_Images/completebinarytree_bst.png\" width=\"800\" />\n"
   ]
  },
  {
   "cell_type": "markdown",
   "metadata": {},
   "source": [
    "### 힙에 데이터 삽입 구현 (Max Heap 예)"
   ]
  },
  {
   "cell_type": "markdown",
   "metadata": {},
   "source": [
    "- 힙 클래스 구현\n",
    "\n",
    "    1. 리스트 구현\n",
    "    2. 인덱스 0 -> None 삽입\n",
    "    3. 인덱스 1에 append"
   ]
  },
  {
   "cell_type": "code",
   "execution_count": 38,
   "metadata": {},
   "outputs": [],
   "source": [
    "class Heap:\n",
    "    def __init__(self,data):\n",
    "        self.heap_array = list()\n",
    "        self.heap_array.append(None)\n",
    "        self.heap_array.append(data)"
   ]
  },
  {
   "cell_type": "code",
   "execution_count": 39,
   "metadata": {},
   "outputs": [
    {
     "data": {
      "text/plain": [
       "[None, 1]"
      ]
     },
     "execution_count": 39,
     "metadata": {},
     "output_type": "execute_result"
    }
   ],
   "source": [
    "heap = Heap(1)\n",
    "heap.heap_array"
   ]
  },
  {
   "cell_type": "markdown",
   "metadata": {},
   "source": [
    "- 힙 클래스 구현2 - insert1\n",
    "  - 인덱스 번호는 1번부터 시작하도록 변경\n",
    "  \n",
    "      1. insert, 최하단 왼쪽에 삽입\n",
    "      2. swap, to be max heap"
   ]
  },
  {
   "cell_type": "markdown",
   "metadata": {},
   "source": [
    "- 힙 클래스 구현3 - pop\n",
    "\n",
    "    1. root 제거\n",
    "    2. last를 root로 move\n",
    "    3. swap\n",
    "        - move_down function 통해 내려갈지 말지 True/False return 시켜 활용\n",
    "        - 왼쪽 자식노드도 없을 때\n",
    "        - 왼쪽 자식노드만 있을 때\n",
    "        - 둘 다 자식노드 있을 때"
   ]
  },
  {
   "cell_type": "code",
   "execution_count": 78,
   "metadata": {},
   "outputs": [],
   "source": [
    "class Heap:\n",
    "    def __init__(self,data):\n",
    "        self.heap_array = list()\n",
    "        self.heap_array.append(None)\n",
    "        self.heap_array.append(data)\n",
    "         \n",
    "    def move_up(self,index_inserted):   # 올라가야 하는 지 판단하는 함수\n",
    "        # 여기서 틀림. 재귀용법일 땐, stop을 걸어줘야함을 잊지 말 것.\n",
    "        # index가 1이면, None을 가리키고 있는 것. 따라서, 더이상 move_up while문 돌아가게 하면 안됨 -> while문에서 오류날 것\n",
    "        # heap.heap_array[0] = None, 따라서, 그냥 시행하면, int 와 None 간에는 '>' 연산 안 된다는 error message!\n",
    "        if index_inserted <= 1:\n",
    "            return False\n",
    "        \n",
    "        if self.heap_array[index_inserted] > self.heap_array[index_inserted//2]:\n",
    "            return True\n",
    "        else:\n",
    "            return False\n",
    "        \n",
    "    def insert(self,data):\n",
    "        self.heap_array.append(data)\n",
    "        \n",
    "        index_inserted = len(self.heap_array)-1\n",
    "        while self.move_up(index_inserted):\n",
    "            # 부모와 자식 노드 교체, 인덱스 갱신\n",
    "            self.heap_array[index_inserted], self.heap_array[index_inserted//2] = self.heap_array[index_inserted//2], self.heap_array[index_inserted]\n",
    "            index_inserted = index_inserted//2\n",
    "        return True\n",
    "    \n",
    "    def move_down(self,index_popped):\n",
    "        if index_popped >= len(self.heap_array):\n",
    "            return False\n",
    "        \n",
    "        # 왼쪽 자식노드도 없을 때\n",
    "        if index_popped*2 >= len(self.heap_array):\n",
    "            return False\n",
    "        \n",
    "        # 왼쪽 노드만 있을 때\n",
    "        elif index_popped*2+1 >= len(self.heap_array):\n",
    "            if self.heap_array[index_popped*2+1] > self.heap_array[index_popped]:\n",
    "                return True\n",
    "            else:\n",
    "                return False\n",
    "            \n",
    "        # 두 노드 다 있을 때\n",
    "        else:\n",
    "            if self.heap_array[index_popped*2] > self.heap_array[index_popped*2+1]:\n",
    "                if self.heap_array[index_popped*2] > self.heap_array[index_popped]:\n",
    "                    return True\n",
    "                else:\n",
    "                    return False\n",
    "            else:\n",
    "                if self.heap_array[index_popped*2+1] > self.heap_array[index_popped]:\n",
    "                    return True\n",
    "                else:\n",
    "                    return False\n",
    "        \n",
    "    \n",
    "    def pop(self):\n",
    "        if len(self.heap_array) <= 1:\n",
    "            return False\n",
    "        \n",
    "        returned_data = self.heap_array[1]\n",
    "        self.heap_array[1] = self.heap_array[-1]\n",
    "        del self.heap_array[-1]\n",
    "        \n",
    "        index_popped = 1\n",
    "        \n",
    "        while self.move_down(index_popped):\n",
    "            # 왼쪽 자식노드도 없을 때\n",
    "            if index_popped*2 >= len(self.heap_array):\n",
    "                return True\n",
    "            # 왼쪽 노드만 있을 때\n",
    "            elif index_popped*2+1 >= len(self.heap_array):\n",
    "                if self.heap_array[index_popped*2+1] > self.heap_array[index_popped]:\n",
    "                    self.heap_array[index_popped*2+1], self.heap_array[index_popped] = self.heap_array[index_popped], self.heap_array[index_popped*2+1]\n",
    "                    index_popped = index_popped*2+1\n",
    "                else:\n",
    "                    return True\n",
    "            # 두 노드 다 있을 때\n",
    "            else:\n",
    "                if self.heap_array[index_popped*2] > self.heap_array[index_popped*2+1]:\n",
    "                    if self.heap_array[index_popped*2] > self.heap_array[index_popped]:\n",
    "                        self.heap_array[index_popped*2], self.heap_array[index_popped] = self.heap_array[index_popped], self.heap_array[index_popped*2]\n",
    "                        index_popped = index_popped*2\n",
    "                    else:\n",
    "                        return True\n",
    "                else:\n",
    "                    if self.heap_array[index_popped*2+1] > self.heap_array[index_popped]:\n",
    "                        self.heap_array[index_popped*2+1], self.heap_array[index_popped] = self.heap_array[index_popped], self.heap_array[index_popped*2+1]\n",
    "                        index_popped = index_popped*2+1\n",
    "                    else:\n",
    "                        return True\n",
    "                    \n",
    "        return returned_data\n",
    "            "
   ]
  },
  {
   "cell_type": "code",
   "execution_count": 79,
   "metadata": {},
   "outputs": [
    {
     "data": {
      "text/plain": [
       "[None, 20, 10, 15, 5, 4, 8]"
      ]
     },
     "execution_count": 79,
     "metadata": {},
     "output_type": "execute_result"
    }
   ],
   "source": [
    "heap = Heap(15)\n",
    "heap.insert(10)\n",
    "heap.insert(8)\n",
    "heap.insert(5)\n",
    "heap.insert(4)\n",
    "heap.insert(20)\n",
    "heap.heap_array"
   ]
  },
  {
   "cell_type": "code",
   "execution_count": 80,
   "metadata": {},
   "outputs": [
    {
     "data": {
      "text/plain": [
       "[None, 20, 10, 15, 5, 4, 8]"
      ]
     },
     "execution_count": 80,
     "metadata": {},
     "output_type": "execute_result"
    }
   ],
   "source": [
    "heap = Heap(15)\n",
    "heap.insert(10)\n",
    "heap.insert(8)\n",
    "heap.insert(5)\n",
    "heap.insert(4)\n",
    "heap.insert(20)\n",
    "heap.heap_array"
   ]
  },
  {
   "cell_type": "code",
   "execution_count": 81,
   "metadata": {},
   "outputs": [
    {
     "data": {
      "text/plain": [
       "20"
      ]
     },
     "execution_count": 81,
     "metadata": {},
     "output_type": "execute_result"
    }
   ],
   "source": [
    "heap.pop()"
   ]
  },
  {
   "cell_type": "code",
   "execution_count": 82,
   "metadata": {},
   "outputs": [
    {
     "data": {
      "text/plain": [
       "[None, 15, 10, 8, 5, 4]"
      ]
     },
     "execution_count": 82,
     "metadata": {},
     "output_type": "execute_result"
    }
   ],
   "source": [
    "heap.heap_array"
   ]
  },
  {
   "cell_type": "markdown",
   "metadata": {},
   "source": [
    "### 힙 (Heap) 시간 복잡도\n",
    "  - depth (트리의 높이) 를 h라고 표기한다면,\n",
    "  - n개의 노드를 가지는 heap 에 데이터 삽입 또는 삭제시, 최악의 경우 root 노드에서 leaf 노드까지 비교해야 하므로 $h = log_2{n} $ 에 가까우므로, 시간 복잡도는 $ O(log{n}) $ \n",
    "     - 참고: 빅오 표기법에서 $log{n}$ 에서의 log의 밑은 10이 아니라, 2입니다.\n",
    "     - 한번 실행시마다, 50%의 실행할 수도 있는 명령을 제거한다는 의미. 즉 50%의 실행시간을 단축시킬 수 있다는 것을 의미함\n"
   ]
  }
 ],
 "metadata": {
  "kernelspec": {
   "display_name": "Python 3",
   "language": "python",
   "name": "python3"
  },
  "language_info": {
   "codemirror_mode": {
    "name": "ipython",
    "version": 3
   },
   "file_extension": ".py",
   "mimetype": "text/x-python",
   "name": "python",
   "nbconvert_exporter": "python",
   "pygments_lexer": "ipython3",
   "version": "3.7.4"
  }
 },
 "nbformat": 4,
 "nbformat_minor": 4
}
