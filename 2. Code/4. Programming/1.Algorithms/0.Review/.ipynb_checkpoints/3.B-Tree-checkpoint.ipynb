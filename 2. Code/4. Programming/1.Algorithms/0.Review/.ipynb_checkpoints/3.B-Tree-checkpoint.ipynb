{
 "cells": [
  {
   "cell_type": "markdown",
   "metadata": {},
   "source": [
    "#### 5.1. 노드 클래스 만들기"
   ]
  },
  {
   "cell_type": "code",
   "execution_count": null,
   "metadata": {},
   "outputs": [],
   "source": []
  },
  {
   "cell_type": "markdown",
   "metadata": {},
   "source": [
    "#### 5.2. 이진 탐색 트리에 데이터 넣기\n",
    "* 이진 탐색 트리 조건에 부합하게 데이터를 넣어야 함\n",
    "- method : insert, search"
   ]
  },
  {
   "cell_type": "code",
   "execution_count": null,
   "metadata": {},
   "outputs": [],
   "source": []
  },
  {
   "cell_type": "code",
   "execution_count": null,
   "metadata": {},
   "outputs": [],
   "source": [
    "head = Node(1)\n",
    "BST = Mgmt(head)\n",
    "BST.insert(2)"
   ]
  },
  {
   "cell_type": "code",
   "execution_count": null,
   "metadata": {},
   "outputs": [],
   "source": []
  },
  {
   "cell_type": "markdown",
   "metadata": {
    "collapsed": true
   },
   "source": [
    "#### 5.3. 이진 탐색 트리 탐색\n",
    "\n",
    "    - insert, search def"
   ]
  },
  {
   "cell_type": "code",
   "execution_count": null,
   "metadata": {},
   "outputs": [],
   "source": []
  },
  {
   "cell_type": "code",
   "execution_count": null,
   "metadata": {},
   "outputs": [],
   "source": [
    "head = Node(1)\n",
    "BST = Mgmt(head)\n",
    "BST.insert(2)\n",
    "BST.insert(3)\n",
    "BST.insert(0)\n",
    "BST.insert(4)\n",
    "BST.insert(8)"
   ]
  },
  {
   "cell_type": "code",
   "execution_count": null,
   "metadata": {},
   "outputs": [],
   "source": [
    "BST.search(-1)"
   ]
  },
  {
   "cell_type": "code",
   "execution_count": null,
   "metadata": {},
   "outputs": [],
   "source": []
  },
  {
   "cell_type": "code",
   "execution_count": null,
   "metadata": {},
   "outputs": [],
   "source": []
  },
  {
   "cell_type": "markdown",
   "metadata": {
    "collapsed": true
   },
   "source": [
    "#### 5.4 트리 삭제"
   ]
  },
  {
   "cell_type": "markdown",
   "metadata": {},
   "source": [
    "**삭제할 node 탐색**\n",
    "\n",
    "```\n",
    "1. 순회\n",
    "2. 만약, current_node == value라면, searched = True, break\n",
    "3. 만약, current_node != value라면, self.current_node.value vs value 통해, current_node 갱신 순회\n",
    "4. 순회 끝\n",
    "\n",
    "5. 만약, searched = False 라면, return return False\n",
    "```"
   ]
  },
  {
   "cell_type": "markdown",
   "metadata": {},
   "source": [
    "**삭제**\n",
    "\n",
    "**case 1 : 삭제할 node가 terminal node인 경우**\n",
    "\n",
    "1. terminal node인지 확인\n",
    "\n",
    "```python\n",
    "if self.current_node.left == None and self.current_node.right == None:\n",
    "```\n",
    "\n",
    "2. 삭제\n",
    "\n",
    "```\n",
    "2-1. 삭제할 value가 만약 parent_node 보다 크다면 -> parent_node.right = None\n",
    "\n",
    "2-2. 삭제할 value가 만약 parent_node 보다 작다면 -> parent_node.left = None\n",
    "```"
   ]
  },
  {
   "cell_type": "markdown",
   "metadata": {},
   "source": [
    "**삭제**\n",
    "\n",
    "**case 2 : 삭제할 node가 1 child node 갖는 경우**\n",
    "\n",
    "```\n",
    "1. child가 왼쪽 / 오른쪽으로 분기\n",
    "\n",
    "1-1. child가 왼쪽인 경우\n",
    "\n",
    "    1-1-1. 삭제할 node가 왼쪽인 경우\n",
    "        1-1-1-1. child - parent 간 연결\n",
    "    1-1-2. 삭제할 node가 오른쪽인 경우\n",
    "        1-1-2-1. child - parent 간 연결\n",
    "        \n",
    "1-2. child가 오른쪽인 경우\n",
    "\n",
    "    1-2-1. 삭제할 node가 왼쪽인 경우\n",
    "        1-2-1-1. child - parent 간 연결\n",
    "    1-2-2. 삭제할 node가 오른쪽인 경우\n",
    "        1-2-1-2. child - parent 간 연결\n",
    "```            "
   ]
  },
  {
   "cell_type": "markdown",
   "metadata": {},
   "source": [
    "**삭제**\n",
    "\n",
    "**case 3-1 : 삭제할 node가 parent의 왼쪽이고, 2 child node 갖는 경우**\n",
    "\n",
    "```\n",
    "1. chagne_node / change_node_parent 설정\n",
    "2. current_node.right -> 왼쪽 순회(오른쪽의 왼쪽에서 가장 큰 것으로 올리겠다) -> change_node / change_node_parent 지속 갱신\n",
    "3. 최종 change_node의 child 유무에 따른 change_node_parent와 child의 관계 설정\n",
    "4. change_node의 위 / 왼쪽 / 오른쪽 브랜치 설정\n",
    "\n",
    "```            \n",
    "\n",
    "**case 3-2 : 삭제할 node가 parent의 오른쪽이고, 2 child node 갖는 경우 (상동)**\n",
    "\n",
    "```\n",
    "1. chagne_node / change_node_parent 설정\n",
    "2. current_node.right -> 왼쪽 순회(오른쪽의 왼쪽에서 가장 큰 것으로 올리겠다) -> change_node / change_node_parent 지속 갱신\n",
    "3. 최종 change_node의 child 유무에 따른 change_node_parent와 child의 관계 설정\n",
    "4. change_node의 위 / 왼쪽 / 오른쪽 브랜치 설정\n",
    "\n",
    "```"
   ]
  },
  {
   "cell_type": "code",
   "execution_count": null,
   "metadata": {},
   "outputs": [],
   "source": []
  },
  {
   "cell_type": "code",
   "execution_count": null,
   "metadata": {},
   "outputs": [],
   "source": []
  },
  {
   "cell_type": "markdown",
   "metadata": {
    "collapsed": true
   },
   "source": [
    "#### 5.5 종합\n",
    "\n",
    "    - class 생성\n",
    "    - insert\n",
    "    - search\n",
    "    - delete"
   ]
  },
  {
   "cell_type": "code",
   "execution_count": null,
   "metadata": {},
   "outputs": [],
   "source": []
  },
  {
   "cell_type": "code",
   "execution_count": null,
   "metadata": {},
   "outputs": [],
   "source": []
  },
  {
   "cell_type": "code",
   "execution_count": null,
   "metadata": {},
   "outputs": [],
   "source": []
  },
  {
   "cell_type": "markdown",
   "metadata": {},
   "source": [
    "### 6. 검사"
   ]
  },
  {
   "cell_type": "code",
   "execution_count": null,
   "metadata": {},
   "outputs": [],
   "source": [
    "# 0 ~ 999 숫자 중에서 임의로 100개를 추출해서, 이진 탐색 트리에 입력, 검색, 삭제\n",
    "import random\n",
    "\n",
    "# 0 ~ 999 중, 100 개의 숫자 랜덤 선택o\n",
    "bst_nums = set()\n",
    "while len(bst_nums) != 100:\n",
    "    bst_nums.add(random.randint(0, 999))\n",
    "# print (bst_nums)\n",
    "\n",
    "# 선택된 100개의 숫자를 이진 탐색 트리에 입력, 임의로 루트노드는 500을 넣기로 함\n",
    "head = Node(500)\n",
    "binary_tree = Mgmt(head)\n",
    "for num in bst_nums:\n",
    "    binary_tree.insert(num)\n",
    "    \n",
    "# 입력한 100개의 숫자 검색 (검색 기능 확인)\n",
    "for num in bst_nums:\n",
    "    if binary_tree.search(num) == False:\n",
    "        print ('search failed', num)\n",
    "\n",
    "# 입력한 100개의 숫자 중 10개의 숫자를 랜덤 선택\n",
    "delete_nums = set()\n",
    "bst_nums = list(bst_nums)\n",
    "while len(delete_nums) != 10:\n",
    "    delete_nums.add(bst_nums[random.randint(0, 99)])\n",
    "\n",
    "# 선택한 10개의 숫자를 삭제 (삭제 기능 확인)\n",
    "for del_num in delete_nums:\n",
    "    if binary_tree.delete(del_num) == False:\n",
    "        print('delete failed', del_num)"
   ]
  }
 ],
 "metadata": {
  "kernelspec": {
   "display_name": "Python 3",
   "language": "python",
   "name": "python3"
  },
  "language_info": {
   "codemirror_mode": {
    "name": "ipython",
    "version": 3
   },
   "file_extension": ".py",
   "mimetype": "text/x-python",
   "name": "python",
   "nbconvert_exporter": "python",
   "pygments_lexer": "ipython3",
   "version": "3.7.4"
  }
 },
 "nbformat": 4,
 "nbformat_minor": 4
}
