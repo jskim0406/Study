{
 "cells": [
  {
   "cell_type": "markdown",
   "metadata": {},
   "source": [
    "# 힙 자료구조 복습\n",
    "\n",
    "```\n",
    "\n",
    "[노드 클래스 생성]\n",
    "\n",
    "    - 배열(리스트) 자료구조 활용\n",
    "    - 완전 이진 트리 구조 : .append 로 삽입. 최하단 왼쪽 노드부터 채워나가는 구조\n",
    "    - 힙 구조 : 최대힙, 최소힙\n",
    "        - 최대힙 : 부모노드가 항상 자식노드들 보다는 큰 힙 구조. 검색 시, root노드가 최대값\n",
    "        - 최소힙 : 부모노드가 항상 자식노드들 보다는 작읍 힙 구조. 검색 시, root노드가 최소값\n",
    "        \n",
    "    - 삽입\n",
    "        1) .append로 완전이진트리에 맞게 insert\n",
    "        2) move_up 함수 적용 -> 현 노드 vs 부모노드 비교로 최대힙 구조에 맞게 판단(T/F return)\n",
    "        3) swap + index 변경\n",
    "    \n",
    "    - 삭제\n",
    "        1) root노드 삭제 (popped index = 1) => returned_data = root노드, del root노드\n",
    "        2) move(last -> root)\n",
    "        3) move_down 함수 적용 -> 현 노드 vs 자식노드들 중 큰 노드 비교로 최대힙 구조에 맞게 판단(T/F return)\n",
    "        \n",
    "            ㄱ. 자식노드가 왼쪽도 없을 때\n",
    "            ㄴ. 자식노드가 왼쪽만 있을 때\n",
    "            ㄷ. 자식노드가 둘 다 있을 때\n",
    "            \n",
    "        4) swap + index 변경\n",
    "        \n",
    "            ㄱ. 자식노드가 왼쪽도 없을 때\n",
    "            ㄴ. 자식노드가 왼쪽만 있을 때\n",
    "            ㄷ. 자식노드가 둘 다 있을 때\n",
    "```\n"
   ]
  },
  {
   "cell_type": "code",
   "execution_count": null,
   "metadata": {},
   "outputs": [],
   "source": []
  },
  {
   "cell_type": "code",
   "execution_count": null,
   "metadata": {},
   "outputs": [],
   "source": []
  },
  {
   "cell_type": "code",
   "execution_count": 24,
   "metadata": {},
   "outputs": [
    {
     "data": {
      "text/plain": [
       "[None, 20, 10, 15, 5, 4, 8]"
      ]
     },
     "execution_count": 24,
     "metadata": {},
     "output_type": "execute_result"
    }
   ],
   "source": [
    "heap = Heap(15)\n",
    "heap.insert(10)\n",
    "heap.insert(8)\n",
    "heap.insert(5)\n",
    "heap.insert(4)\n",
    "heap.insert(20)\n",
    "heap.heap_array"
   ]
  },
  {
   "cell_type": "code",
   "execution_count": 25,
   "metadata": {},
   "outputs": [
    {
     "data": {
      "text/plain": [
       "20"
      ]
     },
     "execution_count": 25,
     "metadata": {},
     "output_type": "execute_result"
    }
   ],
   "source": [
    "heap.pop()"
   ]
  },
  {
   "cell_type": "code",
   "execution_count": 26,
   "metadata": {},
   "outputs": [
    {
     "data": {
      "text/plain": [
       "[None, 15, 10, 8, 5, 4]"
      ]
     },
     "execution_count": 26,
     "metadata": {},
     "output_type": "execute_result"
    }
   ],
   "source": [
    "heap.heap_array"
   ]
  },
  {
   "cell_type": "code",
   "execution_count": null,
   "metadata": {},
   "outputs": [],
   "source": []
  },
  {
   "cell_type": "code",
   "execution_count": null,
   "metadata": {},
   "outputs": [],
   "source": []
  },
  {
   "cell_type": "code",
   "execution_count": null,
   "metadata": {},
   "outputs": [],
   "source": []
  },
  {
   "cell_type": "code",
   "execution_count": null,
   "metadata": {},
   "outputs": [],
   "source": []
  },
  {
   "cell_type": "code",
   "execution_count": null,
   "metadata": {},
   "outputs": [],
   "source": []
  },
  {
   "cell_type": "code",
   "execution_count": null,
   "metadata": {},
   "outputs": [],
   "source": []
  }
 ],
 "metadata": {
  "kernelspec": {
   "display_name": "Python 3",
   "language": "python",
   "name": "python3"
  },
  "language_info": {
   "codemirror_mode": {
    "name": "ipython",
    "version": 3
   },
   "file_extension": ".py",
   "mimetype": "text/x-python",
   "name": "python",
   "nbconvert_exporter": "python",
   "pygments_lexer": "ipython3",
   "version": "3.7.4"
  }
 },
 "nbformat": 4,
 "nbformat_minor": 4
}
