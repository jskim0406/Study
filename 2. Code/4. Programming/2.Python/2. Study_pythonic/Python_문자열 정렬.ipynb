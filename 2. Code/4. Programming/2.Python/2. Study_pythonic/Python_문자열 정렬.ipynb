{
 "cells": [
  {
   "cell_type": "markdown",
   "metadata": {},
   "source": [
    "# 20200429\n",
    "\n",
    "python_part3\n",
    "\n",
    "\"feat: handling the string data type(sort)\""
   ]
  },
  {
   "cell_type": "markdown",
   "metadata": {},
   "source": [
    "\n",
    "\n",
    "- 문제 설명\n",
    "    - 문자열 s와 자연수 n이 입력으로 주어집니다. 문자열 s를 좌측 / 가운데 / 우측 정렬한 길이 n인 문자열을 한 줄씩 프린트해보세요.\n",
    "\n",
    "- 제한조건\n",
    "    - s의 길이는 n보다 작습니다.\n",
    "    - (n - s의 길이)는 짝수입니다.\n",
    "    - s는 알파벳과 숫자로만 이루어져 있으며, 공백 문자가 포함되어있지 않습니다.\n"
   ]
  },
  {
   "cell_type": "code",
   "execution_count": 2,
   "metadata": {},
   "outputs": [],
   "source": [
    "# 문제 해결 과정\n",
    "# 1. 입력받기 (string으로 그대로 받기)\n",
    "# 2. 문자열 / (n-s)*1/2 / (n-s)*1/2 로 리스트 만들기\n",
    "# 3. list[0], list[1], list[2]\n",
    "# 4. list[1], list[0], list[2]\n",
    "# 5. list[1], list[2], list[0] 식으로 출력\n",
    "# 또는\n",
    "# 2. 0*(n-s)*1/2*공백 + 문자열  =>  i = 0~2(n//len(문자열))"
   ]
  },
  {
   "cell_type": "code",
   "execution_count": 29,
   "metadata": {},
   "outputs": [
    {
     "name": "stdout",
     "output_type": "stream",
     "text": [
      " abc\n",
      "   abc\n",
      "     abc\n"
     ]
    }
   ],
   "source": [
    "# 오답 1 : 출력결과가 문자열이 아닌 정수형. 문자열 정렬을 만든 게 아님.\n",
    "s,n='abc','7'\n",
    "\n",
    "n = int(n)\n",
    "index = n//len(s)\n",
    "for i in range(0,index+1):\n",
    "    cnt = i*(n-len(s))/2\n",
    "    cnt = int(cnt)\n",
    "    print(' '*cnt,s)"
   ]
  },
  {
   "cell_type": "code",
   "execution_count": 26,
   "metadata": {},
   "outputs": [
    {
     "name": "stdout",
     "output_type": "stream",
     "text": [
      "abc 7\n",
      " abc\n",
      "  abc\n",
      "    abc\n",
      "   \n"
     ]
    }
   ],
   "source": [
    "# 정답 1 : not pythonic\n",
    "s,n='abc','7'\n",
    "n = int(n)\n",
    "\n",
    "answer = ''\n",
    "\n",
    "for i in range(int(n/len(s)+1)):\n",
    "    answer += ' '*i\n",
    "    print(answer,s)\n",
    "\n",
    "print(answer)"
   ]
  },
  {
   "cell_type": "code",
   "execution_count": 20,
   "metadata": {
    "scrolled": true
   },
   "outputs": [
    {
     "name": "stdout",
     "output_type": "stream",
     "text": [
      "abc 7\n",
      "abc    \n",
      "  abc  \n",
      "    abc\n"
     ]
    }
   ],
   "source": [
    "# 정답 2 : pythonic\n",
    "# ljust, center, rjust\n",
    "\n",
    "s,n='abc','7'\n",
    "n = int(n)\n",
    "\n",
    "print(s.ljust(n),s.center(n),s.rjust(n),sep='\\n')"
   ]
  },
  {
   "cell_type": "code",
   "execution_count": null,
   "metadata": {},
   "outputs": [],
   "source": []
  }
 ],
 "metadata": {
  "kernelspec": {
   "display_name": "Python 3",
   "language": "python",
   "name": "python3"
  },
  "language_info": {
   "codemirror_mode": {
    "name": "ipython",
    "version": 3
   },
   "file_extension": ".py",
   "mimetype": "text/x-python",
   "name": "python",
   "nbconvert_exporter": "python",
   "pygments_lexer": "ipython3",
   "version": "3.7.4"
  }
 },
 "nbformat": 4,
 "nbformat_minor": 4
}
