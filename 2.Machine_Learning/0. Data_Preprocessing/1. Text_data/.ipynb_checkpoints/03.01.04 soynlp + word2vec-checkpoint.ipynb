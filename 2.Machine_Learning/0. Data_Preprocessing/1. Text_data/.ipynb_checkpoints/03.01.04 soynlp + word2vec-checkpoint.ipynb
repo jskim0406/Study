{
 "cells": [
  {
   "cell_type": "markdown",
   "metadata": {},
   "source": [
    "# Soynlp\n",
    "\n",
    "    - word segmentation 기능\n",
    "    - 한국어 처리 패키지\n",
    "    \n",
    "    \n",
    "    - 지금까지는 문장이 있으면, 그걸 형태소 분석 -> 토큰화\n",
    "        *형태소 분석 : 형태소에 해당하는 단어들을 모두 단어장에 갖고 있었던 것\n",
    "        (단어장이 없으면 형태소 분석 안됨)\n",
    "        \n",
    "        \n",
    "    - Soynlp는 단어장 없이 형태소를 찾아내려는 패키지\n",
    "    - 확률적인 방법으로 접근\n",
    "    - 글자 단위로 조건부 확률을 만들어 시도함"
   ]
  },
  {
   "cell_type": "markdown",
   "metadata": {},
   "source": [
    "# 단어 임베딩, word2vec\n",
    "\n",
    "    - 단어 임베딩 : 단어 임베딩(Word Embedding)이란 텍스트를 구성하는 하나의 단어를 수치화하는 방법의 일종\n",
    "    \n",
    "    - BOW 방식 : 단어장 기반, 인덱스 지정. 단어가 나온 횟수만큼 벡터의 인덱스 위치 숫자를 증가시킴\n",
    "    \n",
    "    - 단어 임베딩 방식 : 하나의 단어를 하나의 정수가 아닌, 실수 벡터로 표시\n",
    "    ex) 'I' : 1 ===>>> 'I' : (0.3,0.2) *2차원 임베딩\n",
    "    \n",
    "    - 단어 임베딩 시, 각 단어 벡터를 합치거나(concatenation) 더하는(averaging, normalized Bag of Words) 방식으로 전체 문서의 벡터 표현을 구함\n",
    "    \n",
    "    "
   ]
  },
  {
   "cell_type": "code",
   "execution_count": 11,
   "metadata": {},
   "outputs": [
    {
     "name": "stderr",
     "output_type": "stream",
     "text": [
      "[nltk_data] Downloading package movie_reviews to\n",
      "[nltk_data]     /Users/kimjeongseob/nltk_data...\n",
      "[nltk_data]   Package movie_reviews is already up-to-date!\n"
     ]
    },
    {
     "data": {
      "text/plain": [
       "True"
      ]
     },
     "execution_count": 11,
     "metadata": {},
     "output_type": "execute_result"
    }
   ],
   "source": [
    "import nltk\n",
    "nltk.download('movie_reviews')"
   ]
  },
  {
   "cell_type": "code",
   "execution_count": 12,
   "metadata": {},
   "outputs": [],
   "source": [
    "from nltk.corpus import movie_reviews\n",
    "sentences = [list(s) for s in movie_reviews.sents()]"
   ]
  },
  {
   "cell_type": "code",
   "execution_count": 13,
   "metadata": {},
   "outputs": [],
   "source": [
    "from gensim.models.word2vec import Word2Vec\n",
    "\n",
    "model = Word2Vec(sentences)"
   ]
  },
  {
   "cell_type": "code",
   "execution_count": 14,
   "metadata": {},
   "outputs": [],
   "source": [
    "model.init_sims(replace=True)"
   ]
  },
  {
   "cell_type": "code",
   "execution_count": 16,
   "metadata": {},
   "outputs": [
    {
     "data": {
      "text/plain": [
       "0.8505142"
      ]
     },
     "execution_count": 16,
     "metadata": {},
     "output_type": "execute_result"
    }
   ],
   "source": [
    "model.wv.similarity('he','she')"
   ]
  },
  {
   "cell_type": "code",
   "execution_count": 17,
   "metadata": {},
   "outputs": [
    {
     "data": {
      "text/plain": [
       "0.21813056"
      ]
     },
     "execution_count": 17,
     "metadata": {},
     "output_type": "execute_result"
    }
   ],
   "source": [
    "model.wv.similarity('actor','she')"
   ]
  },
  {
   "cell_type": "code",
   "execution_count": 19,
   "metadata": {},
   "outputs": [
    {
     "data": {
      "text/plain": [
       "[('actress', 0.8615202903747559),\n",
       " ('villain', 0.7822855710983276),\n",
       " ('oscar', 0.7686127424240112),\n",
       " ('performance', 0.7622687220573425),\n",
       " ('role', 0.7534359693527222),\n",
       " ('talented', 0.71448814868927),\n",
       " ('director', 0.7088274955749512),\n",
       " ('nomination', 0.6755940914154053),\n",
       " ('award', 0.6636453866958618),\n",
       " ('character', 0.656873345375061)]"
      ]
     },
     "execution_count": 19,
     "metadata": {},
     "output_type": "execute_result"
    }
   ],
   "source": [
    "model.wv.most_similar('actor')"
   ]
  },
  {
   "cell_type": "markdown",
   "metadata": {},
   "source": [
    "### she + (actor - actress) = he"
   ]
  },
  {
   "cell_type": "code",
   "execution_count": 20,
   "metadata": {},
   "outputs": [
    {
     "data": {
      "text/plain": [
       "[('he', 0.3025820255279541),\n",
       " ('job', 0.1706332564353943),\n",
       " ('who', 0.16652318835258484),\n",
       " ('having', 0.16219834983348846),\n",
       " ('him', 0.15768232941627502),\n",
       " ('audience', 0.14701393246650696),\n",
       " ('character', 0.12959623336791992),\n",
       " ('film', 0.10697104036808014),\n",
       " ('them', 0.10215229541063309),\n",
       " ('by', 0.10167275369167328)]"
      ]
     },
     "execution_count": 20,
     "metadata": {},
     "output_type": "execute_result"
    }
   ],
   "source": [
    "model.wv.most_similar(positive = ['she','actor'],negative='actress')"
   ]
  }
 ],
 "metadata": {
  "kernelspec": {
   "display_name": "Python 3",
   "language": "python",
   "name": "python3"
  },
  "language_info": {
   "codemirror_mode": {
    "name": "ipython",
    "version": 3
   },
   "file_extension": ".py",
   "mimetype": "text/x-python",
   "name": "python",
   "nbconvert_exporter": "python",
   "pygments_lexer": "ipython3",
   "version": "3.7.4"
  }
 },
 "nbformat": 4,
 "nbformat_minor": 2
}
