{
 "cells": [
  {
   "cell_type": "markdown",
   "metadata": {},
   "source": [
    "# 02.02 이미지 필터링\n",
    "\n",
    "    - 이미지 변형 : 픽셀 행렬의 변형\n",
    "   \n",
    "    \n",
    "**1) 임계처리**\n",
    "\n",
    "- 픽셀 값을 기준값(threshold)를 사용해 이진화하는 가장 단순한 필터\n",
    "* threshhold 메서드 : 흑백 이미지만 가능 [흑백이미지는 0(검정)~255(흰)값을 가짐]\n",
    "\n",
    "    ex) 1 or 0 값으로 모두 이진화 (임계치 넘으면 '1', 그 외 '0')\n",
    "    \n",
    "    \n",
    "- 향후, 이미지 컨투어링 시, 경계선 추출을 위한 전처리\n",
    "\n",
    "\n",
    "```\n",
    "\n",
    "threshold(src, thresh, maxval, type)\n",
    "src : 그레이 스케일 이미지\n",
    "thresh : 기준값\n",
    "maxval : 기준값을 넘었을 때 적용할 최대값\n",
    "type : 임계처리 유형\n",
    "    THRESH_BINARY : 기준값을 넘으면 최대값 아니면 0\n",
    "    THRESH_BINARY_INV : 기준값을 넘으면 0 아니면 최대값\n",
    "    THRESH_TRUNC : 기준값을 넘으면 기준값 아니면 최대값\n",
    "    THRESH_TOZERO : 기준값을 넘으면 원래값 아니면 0\n",
    "    THRESH_TOZERO_INV : 기준값을 넘으면 0 아니면 원래값\n",
    "```"
   ]
  },
  {
   "cell_type": "code",
   "execution_count": 6,
   "metadata": {},
   "outputs": [
    {
     "ename": "ModuleNotFoundError",
     "evalue": "No module named 'cv2'",
     "output_type": "error",
     "traceback": [
      "\u001b[0;31m---------------------------------------------------------------------------\u001b[0m",
      "\u001b[0;31mModuleNotFoundError\u001b[0m                       Traceback (most recent call last)",
      "\u001b[0;32m<ipython-input-6-fb96cf0a8bfa>\u001b[0m in \u001b[0;36m<module>\u001b[0;34m\u001b[0m\n\u001b[0;32m----> 1\u001b[0;31m \u001b[0;32mimport\u001b[0m \u001b[0mcv2\u001b[0m\u001b[0;34m\u001b[0m\u001b[0;34m\u001b[0m\u001b[0m\n\u001b[0m\u001b[1;32m      2\u001b[0m \u001b[0;32mfrom\u001b[0m \u001b[0mskimage\u001b[0m\u001b[0;34m.\u001b[0m\u001b[0mdata\u001b[0m \u001b[0;32mimport\u001b[0m \u001b[0mcoins\u001b[0m\u001b[0;34m\u001b[0m\u001b[0;34m\u001b[0m\u001b[0m\n\u001b[1;32m      3\u001b[0m \u001b[0;34m\u001b[0m\u001b[0m\n\u001b[1;32m      4\u001b[0m \u001b[0mimg\u001b[0m \u001b[0;34m=\u001b[0m \u001b[0mcoins\u001b[0m\u001b[0;34m(\u001b[0m\u001b[0;34m)\u001b[0m\u001b[0;34m\u001b[0m\u001b[0;34m\u001b[0m\u001b[0m\n\u001b[1;32m      5\u001b[0m \u001b[0;34m\u001b[0m\u001b[0m\n",
      "\u001b[0;31mModuleNotFoundError\u001b[0m: No module named 'cv2'"
     ]
    }
   ],
   "source": [
    "import cv2\n",
    "from skimage.data import coins\n",
    "\n",
    "img = coins()\n",
    "\n",
    "maxval = 255\n",
    "thresh = maxval / 2\n",
    "\n",
    "_, thresh1 = cv2.threshold(img, thresh, maxval, cv2.THRESH_BINARY)\n",
    "_, thresh2 = cv2.threshold(img, thresh, maxval, cv2.THRESH_BINARY_INV)\n",
    "_, thresh3 = cv2.threshold(img, thresh, maxval, cv2.THRESH_TRUNC)\n",
    "_, thresh4 = cv2.threshold(img, thresh, maxval, cv2.THRESH_TOZERO)\n",
    "_, thresh5 = cv2.threshold(img, thresh, maxval, cv2.THRESH_TOZERO_INV)\n",
    "\n",
    "titles = ['원본이미지', 'BINARY', 'BINARY_INV', 'TRUNC', 'TOZERO', 'TOZERO_INV']\n",
    "images = [img, thresh1, thresh2, thresh3, thresh4, thresh5]\n",
    "\n",
    "plt.figure(figsize=(9, 5))\n",
    "for i in range(6):\n",
    "    plt.subplot(2, 3, i+1), plt.imshow(images[i], 'gray')\n",
    "    plt.title(titles[i], fontdict={'fontsize': 10})\n",
    "    plt.axis('off')\n",
    "\n",
    "plt.tight_layout(pad=0.7)\n",
    "plt.show()"
   ]
  },
  {
   "cell_type": "code",
   "execution_count": 5,
   "metadata": {},
   "outputs": [
    {
     "ename": "SyntaxError",
     "evalue": "invalid syntax (<ipython-input-5-5e04075ff366>, line 1)",
     "output_type": "error",
     "traceback": [
      "\u001b[0;36m  File \u001b[0;32m\"<ipython-input-5-5e04075ff366>\"\u001b[0;36m, line \u001b[0;32m1\u001b[0m\n\u001b[0;31m    sysctl kern.hv_support\u001b[0m\n\u001b[0m              ^\u001b[0m\n\u001b[0;31mSyntaxError\u001b[0m\u001b[0;31m:\u001b[0m invalid syntax\n"
     ]
    }
   ],
   "source": []
  },
  {
   "cell_type": "code",
   "execution_count": null,
   "metadata": {},
   "outputs": [],
   "source": []
  },
  {
   "cell_type": "code",
   "execution_count": 3,
   "metadata": {},
   "outputs": [
    {
     "ename": "SyntaxError",
     "evalue": "invalid syntax (<ipython-input-3-e49429a8b33b>, line 1)",
     "output_type": "error",
     "traceback": [
      "\u001b[0;36m  File \u001b[0;32m\"<ipython-input-3-e49429a8b33b>\"\u001b[0;36m, line \u001b[0;32m1\u001b[0m\n\u001b[0;31m    export ANACONDA_PATH={/Users/kimjeongseob/opt/anaconda3}\u001b[0m\n\u001b[0m                       ^\u001b[0m\n\u001b[0;31mSyntaxError\u001b[0m\u001b[0;31m:\u001b[0m invalid syntax\n"
     ]
    }
   ],
   "source": [
    "export ANACONDA_PATH={/Users/kimjeongseob/opt/anaconda3}\n",
    "export GPP={/Users/kimjeongseob/Desktop/usr/local/bin/g++}\n",
    "\n",
    "cd ~\n",
    "wget https://github.com/opencv/opencv/archive/4.1.0.zip -O opencv.zip\n",
    "wget https://github.com/opencv/opencv_contrib/archive/4.1.0.zip -O opencv_contrib.zip\n",
    "unzip opencv.zip\n",
    "unzip opencv_contrib.zip\n",
    "mv opencv-4.1.0 opencv\n",
    "mv opencv_contrib-4.1.0 opencv_contrib\n",
    "cd opencv\n",
    "mkdir build\n",
    "cd build\n",
    "cmake \\\n",
    "    -D CMAKE_CXX_COMPILER=$GPP \\\n",
    "    -D CMAKE_BUILD_TYPE=RELEASE \\\n",
    "    -D CMAKE_INSTALL_PREFIX=/usr/local \\\n",
    "    -D INSTALL_PYTHON_EXAMPLES=ON \\\n",
    "    -D INSTALL_C_EXAMPLES=OFF \\\n",
    "    -D OPENCV_ENABLE_NONFREE=ON \\\n",
    "    -D OPENCV_EXTRA_MODULES_PATH=~/opencv_contrib/modules \\\n",
    "    -D PYTHON_EXECUTABLE=$ANACONDA_PATH/bin/python \\\n",
    "    -D PYTHON3_EXECUTABLE=$ANACONDA_PATH/bin/python \\\n",
    "    -D PYTHON_INCLUDE_DIR=$ANACONDA_PATH/include/python3.7m \\\n",
    "    -D PYTHON_LIBRARY=$ANACONDA_PATH/lib/libpython3.7m.so \\\n",
    "    -D OPENCV_PYTHON3_INSTALL_PATH=$ANACONDA_PATH/lib/python3.7/site-packages \\\n",
    "    -D BUILD_EXAMPLES=OFF \\\n",
    "    -D BUILD_TESTS=OFF \\\n",
    "    ..\n",
    "make\n",
    "make install\n",
    "ldconfig"
   ]
  },
  {
   "cell_type": "code",
   "execution_count": 2,
   "metadata": {},
   "outputs": [
    {
     "ename": "SyntaxError",
     "evalue": "invalid syntax (<ipython-input-2-6ce7e0c19cf6>, line 1)",
     "output_type": "error",
     "traceback": [
      "\u001b[0;36m  File \u001b[0;32m\"<ipython-input-2-6ce7e0c19cf6>\"\u001b[0;36m, line \u001b[0;32m1\u001b[0m\n\u001b[0;31m    http://jijinlee.blogspot.com/2017/08/mac-gnu.html\u001b[0m\n\u001b[0m          ^\u001b[0m\n\u001b[0;31mSyntaxError\u001b[0m\u001b[0;31m:\u001b[0m invalid syntax\n"
     ]
    }
   ],
   "source": [
    "http://jijinlee.blogspot.com/2017/08/mac-gnu.html"
   ]
  },
  {
   "cell_type": "code",
   "execution_count": 3,
   "metadata": {},
   "outputs": [
    {
     "ename": "SyntaxError",
     "evalue": "invalid syntax (<ipython-input-3-1564631a02a0>, line 1)",
     "output_type": "error",
     "traceback": [
      "\u001b[0;36m  File \u001b[0;32m\"<ipython-input-3-1564631a02a0>\"\u001b[0;36m, line \u001b[0;32m1\u001b[0m\n\u001b[0;31m    https://datascienceschool.net/view-notebook/9af8d8e93c084bc49f0ac2bb8a20e2a4/\u001b[0m\n\u001b[0m           ^\u001b[0m\n\u001b[0;31mSyntaxError\u001b[0m\u001b[0;31m:\u001b[0m invalid syntax\n"
     ]
    }
   ],
   "source": [
    "https://datascienceschool.net/view-notebook/9af8d8e93c084bc49f0ac2bb8a20e2a4/"
   ]
  },
  {
   "cell_type": "code",
   "execution_count": 4,
   "metadata": {},
   "outputs": [
    {
     "ename": "SyntaxError",
     "evalue": "invalid syntax (<ipython-input-4-675d6e2cc6fc>, line 1)",
     "output_type": "error",
     "traceback": [
      "\u001b[0;36m  File \u001b[0;32m\"<ipython-input-4-675d6e2cc6fc>\"\u001b[0;36m, line \u001b[0;32m1\u001b[0m\n\u001b[0;31m    https://developer.apple.com/download/more/\u001b[0m\n\u001b[0m           ^\u001b[0m\n\u001b[0;31mSyntaxError\u001b[0m\u001b[0;31m:\u001b[0m invalid syntax\n"
     ]
    }
   ],
   "source": [
    "https://developer.apple.com/download/more/"
   ]
  },
  {
   "cell_type": "code",
   "execution_count": 5,
   "metadata": {},
   "outputs": [
    {
     "ename": "SyntaxError",
     "evalue": "invalid syntax (<ipython-input-5-1ac62b42532c>, line 1)",
     "output_type": "error",
     "traceback": [
      "\u001b[0;36m  File \u001b[0;32m\"<ipython-input-5-1ac62b42532c>\"\u001b[0;36m, line \u001b[0;32m1\u001b[0m\n\u001b[0;31m    https://gent.tistory.com/251\u001b[0m\n\u001b[0m           ^\u001b[0m\n\u001b[0;31mSyntaxError\u001b[0m\u001b[0;31m:\u001b[0m invalid syntax\n"
     ]
    }
   ],
   "source": [
    "https://gent.tistory.com/251"
   ]
  },
  {
   "cell_type": "code",
   "execution_count": null,
   "metadata": {},
   "outputs": [],
   "source": []
  }
 ],
 "metadata": {
  "kernelspec": {
   "display_name": "Python 3",
   "language": "python",
   "name": "python3"
  },
  "language_info": {
   "codemirror_mode": {
    "name": "ipython",
    "version": 3
   },
   "file_extension": ".py",
   "mimetype": "text/x-python",
   "name": "python",
   "nbconvert_exporter": "python",
   "pygments_lexer": "ipython3",
   "version": "3.7.4"
  }
 },
 "nbformat": 4,
 "nbformat_minor": 2
}
