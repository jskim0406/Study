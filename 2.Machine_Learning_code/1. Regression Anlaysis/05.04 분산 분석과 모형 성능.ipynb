{
 "cells": [
  {
   "cell_type": "markdown",
   "metadata": {},
   "source": [
    "# 05.04 분산 분석과 모형 성능"
   ]
  },
  {
   "cell_type": "markdown",
   "metadata": {},
   "source": [
    "## 1. 분산 분석 속성값 출력\n",
    "\n",
    "    - TSS : \"result.uncentered_tss\"\n",
    "    - ESS : \"result.mse_model\"\n",
    "    - RSS : \"result.ssr\"\n",
    "    - R squared : \"result.rsquared\""
   ]
  },
  {
   "cell_type": "code",
   "execution_count": 1,
   "metadata": {},
   "outputs": [],
   "source": [
    "from sklearn.datasets import make_regression\n",
    "\n",
    "X0, y, coef = make_regression(\n",
    "    n_samples=100, n_features=1, noise=30, coef=True, random_state=0)\n",
    "dfX0 = pd.DataFrame(X0, columns=[\"X\"])\n",
    "dfX = sm.add_constant(dfX0)\n",
    "dfy = pd.DataFrame(y, columns=[\"Y\"])\n",
    "df = pd.concat([dfX, dfy], axis=1)\n",
    "\n",
    "model = sm.OLS.from_formula(\"Y ~ X\", data=df)\n",
    "result = model.fit()"
   ]
  },
  {
   "cell_type": "code",
   "execution_count": 2,
   "metadata": {},
   "outputs": [
    {
     "name": "stdout",
     "output_type": "stream",
     "text": [
      "TSS =  291345.7578983061\n",
      "ESS =  188589.61349210914\n",
      "RSS =  102754.33755137536\n",
      "ESS + RSS =  291343.9510434845\n",
      "R squared =  0.6473091780922584\n"
     ]
    }
   ],
   "source": [
    "print(\"TSS = \", result.uncentered_tss)\n",
    "print(\"ESS = \", result.mse_model)\n",
    "print(\"RSS = \", result.ssr)\n",
    "print(\"ESS + RSS = \", result.mse_model + result.ssr)\n",
    "print(\"R squared = \", result.rsquared)"
   ]
  },
  {
   "cell_type": "markdown",
   "metadata": {},
   "source": [
    "## 2. 분산분석표 출력\n",
    "\n",
    "    - F-검정, 분산분석 속성값 확인 가능\n",
    "    - sm.stats.anova_lm( )\n",
    "    \n",
    "    - anova_lm( ) 의 F 통계량, 유의확률 == reuslt.summary() 의 F 통계량, 유의확률\n",
    "    \n",
    "    - df(자유도) : K-1 or N-K(잔차)\n",
    "    - sum_sq(카이제곱분포 변수(제곱합)) : ESS, RSS\n",
    "    - mean_sq : sum_sq/df\n",
    "    - F : F 검정 통계량\n",
    "    - PR(>F) : 유의확률값"
   ]
  },
  {
   "cell_type": "code",
   "execution_count": 3,
   "metadata": {},
   "outputs": [
    {
     "data": {
      "text/html": [
       "<div>\n",
       "<style scoped>\n",
       "    .dataframe tbody tr th:only-of-type {\n",
       "        vertical-align: middle;\n",
       "    }\n",
       "\n",
       "    .dataframe tbody tr th {\n",
       "        vertical-align: top;\n",
       "    }\n",
       "\n",
       "    .dataframe thead th {\n",
       "        text-align: right;\n",
       "    }\n",
       "</style>\n",
       "<table border=\"1\" class=\"dataframe\">\n",
       "  <thead>\n",
       "    <tr style=\"text-align: right;\">\n",
       "      <th></th>\n",
       "      <th>df</th>\n",
       "      <th>sum_sq</th>\n",
       "      <th>mean_sq</th>\n",
       "      <th>F</th>\n",
       "      <th>PR(&gt;F)</th>\n",
       "    </tr>\n",
       "  </thead>\n",
       "  <tbody>\n",
       "    <tr>\n",
       "      <th>X</th>\n",
       "      <td>1.0</td>\n",
       "      <td>188589.613492</td>\n",
       "      <td>188589.613492</td>\n",
       "      <td>179.863766</td>\n",
       "      <td>6.601482e-24</td>\n",
       "    </tr>\n",
       "    <tr>\n",
       "      <th>Residual</th>\n",
       "      <td>98.0</td>\n",
       "      <td>102754.337551</td>\n",
       "      <td>1048.513648</td>\n",
       "      <td>NaN</td>\n",
       "      <td>NaN</td>\n",
       "    </tr>\n",
       "  </tbody>\n",
       "</table>\n",
       "</div>"
      ],
      "text/plain": [
       "            df         sum_sq        mean_sq           F        PR(>F)\n",
       "X          1.0  188589.613492  188589.613492  179.863766  6.601482e-24\n",
       "Residual  98.0  102754.337551    1048.513648         NaN           NaN"
      ]
     },
     "execution_count": 3,
     "metadata": {},
     "output_type": "execute_result"
    }
   ],
   "source": [
    "# 분산분석표 출력\n",
    "\n",
    "sm.stats.anova_lm(result)"
   ]
  },
  {
   "cell_type": "code",
   "execution_count": 6,
   "metadata": {},
   "outputs": [
    {
     "name": "stdout",
     "output_type": "stream",
     "text": [
      "                            OLS Regression Results                            \n",
      "==============================================================================\n",
      "Dep. Variable:                      Y   R-squared:                       0.647\n",
      "Model:                            OLS   Adj. R-squared:                  0.644\n",
      "Method:                 Least Squares   F-statistic:                     179.9\n",
      "Date:                Mon, 18 May 2020   Prob (F-statistic):           6.60e-24\n",
      "Time:                        17:19:12   Log-Likelihood:                -488.64\n",
      "No. Observations:                 100   AIC:                             981.3\n",
      "Df Residuals:                      98   BIC:                             986.5\n",
      "Df Model:                           1                                         \n",
      "Covariance Type:            nonrobust                                         \n",
      "==============================================================================\n",
      "                 coef    std err          t      P>|t|      [0.025      0.975]\n",
      "------------------------------------------------------------------------------\n",
      "Intercept     -2.4425      3.244     -0.753      0.453      -8.880       3.995\n",
      "X             43.0873      3.213     13.411      0.000      36.712      49.463\n",
      "==============================================================================\n",
      "Omnibus:                        3.523   Durbin-Watson:                   1.984\n",
      "Prob(Omnibus):                  0.172   Jarque-Bera (JB):                2.059\n",
      "Skew:                          -0.073   Prob(JB):                        0.357\n",
      "Kurtosis:                       2.312   Cond. No.                         1.06\n",
      "==============================================================================\n",
      "\n",
      "Warnings:\n",
      "[1] Standard Errors assume that the covariance matrix of the errors is correctly specified.\n"
     ]
    }
   ],
   "source": [
    "# result.summary()\n",
    "# 모형은 유용하다. (유의확률값 = 아주 낮은 0. F검정의 귀무가설 기각)\n",
    "\n",
    "print(result.summary())"
   ]
  },
  {
   "cell_type": "markdown",
   "metadata": {},
   "source": [
    "## 3. F 검정 활용\n",
    "\n",
    "    - 두 모형의 비교 \"sm.stats.anova_lm(model_reduced.fit(), model_full.fit())\"\n",
    "    \n",
    "    - 변수의 중요성 확인 \"sm.stats.anova_lm(result_boston, typ=2)\"\n",
    "       - F검정 유의확률 = 단일계수 t검정의 유의확률(=result.summary()) (동치 성질)\n",
    "       - 대신, anova_lm으로 뽑으면, 소수점 자리가 깊게 나와 누가 더 0에 가까운지 비교 가능"
   ]
  },
  {
   "cell_type": "markdown",
   "metadata": {},
   "source": [
    "**모형 비교**"
   ]
  },
  {
   "cell_type": "code",
   "execution_count": 11,
   "metadata": {},
   "outputs": [],
   "source": [
    "from sklearn.datasets import load_boston\n",
    "\n",
    "boston = load_boston()\n",
    "dfX0_boston = pd.DataFrame(boston.data, columns=boston.feature_names)\n",
    "dfy_boston = pd.DataFrame(boston.target, columns=[\"MEDV\"])\n",
    "dfX_boston = sm.add_constant(dfX0_boston)\n",
    "df_boston = pd.concat([dfX_boston, dfy_boston], axis=1)"
   ]
  },
  {
   "cell_type": "code",
   "execution_count": 9,
   "metadata": {},
   "outputs": [
    {
     "data": {
      "text/html": [
       "<div>\n",
       "<style scoped>\n",
       "    .dataframe tbody tr th:only-of-type {\n",
       "        vertical-align: middle;\n",
       "    }\n",
       "\n",
       "    .dataframe tbody tr th {\n",
       "        vertical-align: top;\n",
       "    }\n",
       "\n",
       "    .dataframe thead th {\n",
       "        text-align: right;\n",
       "    }\n",
       "</style>\n",
       "<table border=\"1\" class=\"dataframe\">\n",
       "  <thead>\n",
       "    <tr style=\"text-align: right;\">\n",
       "      <th></th>\n",
       "      <th>df_resid</th>\n",
       "      <th>ssr</th>\n",
       "      <th>df_diff</th>\n",
       "      <th>ss_diff</th>\n",
       "      <th>F</th>\n",
       "      <th>Pr(&gt;F)</th>\n",
       "    </tr>\n",
       "  </thead>\n",
       "  <tbody>\n",
       "    <tr>\n",
       "      <th>0</th>\n",
       "      <td>494.0</td>\n",
       "      <td>11081.363952</td>\n",
       "      <td>0.0</td>\n",
       "      <td>NaN</td>\n",
       "      <td>NaN</td>\n",
       "      <td>NaN</td>\n",
       "    </tr>\n",
       "    <tr>\n",
       "      <th>1</th>\n",
       "      <td>492.0</td>\n",
       "      <td>11078.784578</td>\n",
       "      <td>2.0</td>\n",
       "      <td>2.579374</td>\n",
       "      <td>0.057274</td>\n",
       "      <td>0.944342</td>\n",
       "    </tr>\n",
       "  </tbody>\n",
       "</table>\n",
       "</div>"
      ],
      "text/plain": [
       "   df_resid           ssr  df_diff   ss_diff         F    Pr(>F)\n",
       "0     494.0  11081.363952      0.0       NaN       NaN       NaN\n",
       "1     492.0  11078.784578      2.0  2.579374  0.057274  0.944342"
      ]
     },
     "execution_count": 9,
     "metadata": {},
     "output_type": "execute_result"
    }
   ],
   "source": [
    "model_full = sm.OLS.from_formula(\n",
    "    \"MEDV ~ CRIM + ZN + INDUS + NOX + RM + AGE + DIS + RAD + TAX + PTRATIO + B + LSTAT + CHAS\", data=df_boston)\n",
    "model_reduced = sm.OLS.from_formula(\n",
    "    \"MEDV ~ CRIM + ZN + NOX + RM + DIS + RAD + TAX + PTRATIO + B + LSTAT + CHAS\", data=df_boston)\n",
    "\n",
    "sm.stats.anova_lm(model_reduced.fit(), model_full.fit())"
   ]
  },
  {
   "cell_type": "markdown",
   "metadata": {},
   "source": [
    "**변수의 중요도 확인**"
   ]
  },
  {
   "cell_type": "code",
   "execution_count": null,
   "metadata": {},
   "outputs": [],
   "source": [
    "model_full = sm.OLS.from_formula(\n",
    "    \"MEDV ~ CRIM + ZN + INDUS + NOX + RM + AGE + DIS + RAD + TAX + PTRATIO + B + LSTAT + CHAS\", data=df_boston)\n",
    "model_reduced = sm.OLS.from_formula(\n",
    "    \"MEDV ~ ZN + INDUS + NOX + RM + AGE + DIS + RAD + TAX + PTRATIO + B + LSTAT + CHAS\", data=df_boston)\n",
    "\n",
    "sm.stats.anova_lm(model_reduced.fit(), model_full.fit())"
   ]
  },
  {
   "cell_type": "code",
   "execution_count": 12,
   "metadata": {},
   "outputs": [
    {
     "data": {
      "text/html": [
       "<div>\n",
       "<style scoped>\n",
       "    .dataframe tbody tr th:only-of-type {\n",
       "        vertical-align: middle;\n",
       "    }\n",
       "\n",
       "    .dataframe tbody tr th {\n",
       "        vertical-align: top;\n",
       "    }\n",
       "\n",
       "    .dataframe thead th {\n",
       "        text-align: right;\n",
       "    }\n",
       "</style>\n",
       "<table border=\"1\" class=\"dataframe\">\n",
       "  <thead>\n",
       "    <tr style=\"text-align: right;\">\n",
       "      <th></th>\n",
       "      <th>sum_sq</th>\n",
       "      <th>df</th>\n",
       "      <th>F</th>\n",
       "      <th>PR(&gt;F)</th>\n",
       "    </tr>\n",
       "  </thead>\n",
       "  <tbody>\n",
       "    <tr>\n",
       "      <th>CRIM</th>\n",
       "      <td>243.219699</td>\n",
       "      <td>1.0</td>\n",
       "      <td>10.801193</td>\n",
       "      <td>1.086810e-03</td>\n",
       "    </tr>\n",
       "    <tr>\n",
       "      <th>ZN</th>\n",
       "      <td>257.492979</td>\n",
       "      <td>1.0</td>\n",
       "      <td>11.435058</td>\n",
       "      <td>7.781097e-04</td>\n",
       "    </tr>\n",
       "    <tr>\n",
       "      <th>INDUS</th>\n",
       "      <td>2.516668</td>\n",
       "      <td>1.0</td>\n",
       "      <td>0.111763</td>\n",
       "      <td>7.382881e-01</td>\n",
       "    </tr>\n",
       "    <tr>\n",
       "      <th>NOX</th>\n",
       "      <td>487.155674</td>\n",
       "      <td>1.0</td>\n",
       "      <td>21.634196</td>\n",
       "      <td>4.245644e-06</td>\n",
       "    </tr>\n",
       "    <tr>\n",
       "      <th>RM</th>\n",
       "      <td>1871.324082</td>\n",
       "      <td>1.0</td>\n",
       "      <td>83.104012</td>\n",
       "      <td>1.979441e-18</td>\n",
       "    </tr>\n",
       "    <tr>\n",
       "      <th>AGE</th>\n",
       "      <td>0.061834</td>\n",
       "      <td>1.0</td>\n",
       "      <td>0.002746</td>\n",
       "      <td>9.582293e-01</td>\n",
       "    </tr>\n",
       "    <tr>\n",
       "      <th>DIS</th>\n",
       "      <td>1232.412493</td>\n",
       "      <td>1.0</td>\n",
       "      <td>54.730457</td>\n",
       "      <td>6.013491e-13</td>\n",
       "    </tr>\n",
       "    <tr>\n",
       "      <th>RAD</th>\n",
       "      <td>479.153926</td>\n",
       "      <td>1.0</td>\n",
       "      <td>21.278844</td>\n",
       "      <td>5.070529e-06</td>\n",
       "    </tr>\n",
       "    <tr>\n",
       "      <th>TAX</th>\n",
       "      <td>242.257440</td>\n",
       "      <td>1.0</td>\n",
       "      <td>10.758460</td>\n",
       "      <td>1.111637e-03</td>\n",
       "    </tr>\n",
       "    <tr>\n",
       "      <th>PTRATIO</th>\n",
       "      <td>1194.233533</td>\n",
       "      <td>1.0</td>\n",
       "      <td>53.034960</td>\n",
       "      <td>1.308835e-12</td>\n",
       "    </tr>\n",
       "    <tr>\n",
       "      <th>B</th>\n",
       "      <td>270.634230</td>\n",
       "      <td>1.0</td>\n",
       "      <td>12.018651</td>\n",
       "      <td>5.728592e-04</td>\n",
       "    </tr>\n",
       "    <tr>\n",
       "      <th>LSTAT</th>\n",
       "      <td>2410.838689</td>\n",
       "      <td>1.0</td>\n",
       "      <td>107.063426</td>\n",
       "      <td>7.776912e-23</td>\n",
       "    </tr>\n",
       "    <tr>\n",
       "      <th>CHAS</th>\n",
       "      <td>218.970357</td>\n",
       "      <td>1.0</td>\n",
       "      <td>9.724299</td>\n",
       "      <td>1.925030e-03</td>\n",
       "    </tr>\n",
       "    <tr>\n",
       "      <th>Residual</th>\n",
       "      <td>11078.784578</td>\n",
       "      <td>492.0</td>\n",
       "      <td>NaN</td>\n",
       "      <td>NaN</td>\n",
       "    </tr>\n",
       "  </tbody>\n",
       "</table>\n",
       "</div>"
      ],
      "text/plain": [
       "                sum_sq     df           F        PR(>F)\n",
       "CRIM        243.219699    1.0   10.801193  1.086810e-03\n",
       "ZN          257.492979    1.0   11.435058  7.781097e-04\n",
       "INDUS         2.516668    1.0    0.111763  7.382881e-01\n",
       "NOX         487.155674    1.0   21.634196  4.245644e-06\n",
       "RM         1871.324082    1.0   83.104012  1.979441e-18\n",
       "AGE           0.061834    1.0    0.002746  9.582293e-01\n",
       "DIS        1232.412493    1.0   54.730457  6.013491e-13\n",
       "RAD         479.153926    1.0   21.278844  5.070529e-06\n",
       "TAX         242.257440    1.0   10.758460  1.111637e-03\n",
       "PTRATIO    1194.233533    1.0   53.034960  1.308835e-12\n",
       "B           270.634230    1.0   12.018651  5.728592e-04\n",
       "LSTAT      2410.838689    1.0  107.063426  7.776912e-23\n",
       "CHAS        218.970357    1.0    9.724299  1.925030e-03\n",
       "Residual  11078.784578  492.0         NaN           NaN"
      ]
     },
     "execution_count": 12,
     "metadata": {},
     "output_type": "execute_result"
    }
   ],
   "source": [
    "model_boston = sm.OLS.from_formula(\n",
    "    \"MEDV ~ CRIM + ZN + INDUS + NOX + RM + AGE + DIS + RAD + TAX + PTRATIO + B + LSTAT + CHAS\", data=df_boston)\n",
    "result_boston = model_boston.fit()\n",
    "sm.stats.anova_lm(result_boston, typ=2)"
   ]
  }
 ],
 "metadata": {
  "kernelspec": {
   "display_name": "Python 3",
   "language": "python",
   "name": "python3"
  },
  "language_info": {
   "codemirror_mode": {
    "name": "ipython",
    "version": 3
   },
   "file_extension": ".py",
   "mimetype": "text/x-python",
   "name": "python",
   "nbconvert_exporter": "python",
   "pygments_lexer": "ipython3",
   "version": "3.7.4"
  }
 },
 "nbformat": 4,
 "nbformat_minor": 2
}
