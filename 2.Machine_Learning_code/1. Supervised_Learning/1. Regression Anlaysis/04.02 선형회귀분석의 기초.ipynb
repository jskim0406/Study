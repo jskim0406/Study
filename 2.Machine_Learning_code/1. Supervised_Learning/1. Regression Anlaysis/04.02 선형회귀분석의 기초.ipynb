{
 "cells": [
  {
   "cell_type": "markdown",
   "metadata": {},
   "source": [
    "# 04.02 선형회귀분석의 기초"
   ]
  },
  {
   "cell_type": "markdown",
   "metadata": {},
   "source": [
    "회귀분석은 독립변수 $x$에 대응하는 종속변수 $y$와 가장 비슷한 값 $\\hat{y}$를 출력하는 함수 $f(x)$를 찾는 과정이다. \n",
    "\n",
    "$$ \n",
    "\\hat{y} = f \\left( x \\right) \\approx y \n",
    "$$\n",
    "\n",
    "만약 $f(x)$가 다음과 같은 선형함수면 이 함수를 **선형회귀모형(linear regression model)**이라고 한다. 선형회귀모형을 사용하는 회귀분석은 선형회귀분석이라고 한다.\n",
    "\n",
    "$$ \n",
    "\\hat{y} = w_0 + w_1 x_1 + w_2 x_2 + \\cdots + w_D x_D = w_0 + w^Tx \n",
    "$$\n",
    "\n",
    "위 식에서 독립변수 $x=(x_1, x_2, \\ldots, x_D)$는 $D$차원 벡터다. 가중치 벡터 $w=(w_0, \\cdots, w_D)$는 함수 $f(x)$의 계수(coefficient)이자 이 선형회귀모형의 **모수(parameter)**라고 한다. "
   ]
  },
  {
   "cell_type": "markdown",
   "metadata": {},
   "source": [
    "# 1. 상수항 결합\n",
    " \n",
    "$$w_0 + w^Tx$$ 식을 $$w^Tx$$ 로 간단히 표현하기 위해 상수항을 결합해 x행렬 구성\n",
    "\n",
    "```\n",
    "\n",
    "statsmodel 패키지 -> add_constant 함수 제공\n",
    "\n",
    "```"
   ]
  },
  {
   "cell_type": "code",
   "execution_count": 3,
   "metadata": {},
   "outputs": [
    {
     "data": {
      "text/plain": [
       "array([[0, 1],\n",
       "       [2, 3],\n",
       "       [4, 5],\n",
       "       [6, 7],\n",
       "       [8, 9]])"
      ]
     },
     "execution_count": 3,
     "metadata": {},
     "output_type": "execute_result"
    }
   ],
   "source": [
    "x0 = np.arange(10).reshape(5,-2)\n",
    "x0"
   ]
  },
  {
   "cell_type": "code",
   "execution_count": 5,
   "metadata": {},
   "outputs": [
    {
     "data": {
      "text/plain": [
       "array([[1., 0., 1.],\n",
       "       [1., 2., 3.],\n",
       "       [1., 4., 5.],\n",
       "       [1., 6., 7.],\n",
       "       [1., 8., 9.]])"
      ]
     },
     "execution_count": 5,
     "metadata": {},
     "output_type": "execute_result"
    }
   ],
   "source": [
    "import statsmodels.api as sm\n",
    "\n",
    "X = sm.add_constant(x0)\n",
    "X"
   ]
  },
  {
   "cell_type": "markdown",
   "metadata": {},
   "source": [
    "# 2. Numpy를 이용한 선형 회귀분석\n",
    "\n",
    "    - OLS 방법을 이용한 선형회귀분석 (RSS를 최소화하는 가중치벡터 구하기)"
   ]
  },
  {
   "cell_type": "code",
   "execution_count": 6,
   "metadata": {},
   "outputs": [],
   "source": [
    "# 1. make_regression -> 1차원 특징데이터 x, 이 값에 의존하는 완전 선형 y 생성\n",
    "\n",
    "from sklearn.datasets import make_regression\n",
    "bias = 100\n",
    "X0, y, w = make_regression(\n",
    "    n_samples=200, n_features=1, bias=bias, noise=10, coef=True, random_state=1)\n",
    "\n",
    "X = sm.add_constant(X0)\n",
    "y = y.reshape(len(y), 1)"
   ]
  },
  {
   "cell_type": "code",
   "execution_count": 7,
   "metadata": {},
   "outputs": [
    {
     "data": {
      "text/plain": [
       "array(86.44794301)"
      ]
     },
     "execution_count": 7,
     "metadata": {},
     "output_type": "execute_result"
    }
   ],
   "source": [
    "# 2. make_regression -> 모수 w 생성. 이것은 실제 가중치(맞춰야 할)\n",
    "w"
   ]
  },
  {
   "cell_type": "code",
   "execution_count": 8,
   "metadata": {},
   "outputs": [
    {
     "data": {
      "text/plain": [
       "array([[99.79150869],\n",
       "       [86.96171201]])"
      ]
     },
     "execution_count": 8,
     "metadata": {},
     "output_type": "execute_result"
    }
   ],
   "source": [
    "# 3. OLS해(가중치)를 직접 구하기\n",
    "\n",
    "w = np.linalg.inv(X.T @ X) @ X.T @ y\n",
    "w\n",
    "\n",
    "# 비슷하지만, 약간의 오차가 있음 => 잔차"
   ]
  },
  {
   "cell_type": "markdown",
   "metadata": {},
   "source": [
    "# 3. statsmodels 패키지를 사용한 선형 회귀분석\n",
    "\n",
    "\n",
    "\n",
    "\n",
    "\n",
    "statsmodels 패키지에서는 `OLS` 클래스를 사용하여 선형 회귀분석을 실시한다. `OLS` 클래스 사용법은 다음과 같다.\n",
    "\n",
    "1. 독립변수와 종속변수가 모두 포함된 데이터프레임 생성. 상수항 결함은 하지 않아도 된다. \n",
    "\n",
    "\n",
    "2. `OLS` 클래스 객체 생성. 이 때 from_formula 메서드의 인수로 종속변수와 독립변수를 지정하는 formula 문자열을 넣는다. \n",
    "   data 인수로는 독립변수와 종속변수가 모두 포함된 데이터프레임을 넣는다.\n",
    "    ```\n",
    "    model = OLS.from_formula(formula, data=df)\n",
    "    ```\n",
    "    또는 독립변수만 있는 데이터프레임 `dfX`와 종속변수만 있는 데이터프레임  `dfy`를 인수로 넣어서 만들 수도 있다. 이 때는 독립변수만 있는 데이터프레임 `dfX`가 상수항을 가지고 있어야 한다.\n",
    "    \n",
    "    ```\n",
    "    model = OLS(dfy, dfX)\n",
    "    ```\n",
    "    \n",
    "    \n",
    "3. `fit` 메서드로 모형 추정. scikit-learn 패키지와 달리 추정 결과는 별도의 `RegressionResults` 클래스 객체로 출력된다.\n",
    "    ```\n",
    "    result = model.fit()\n",
    "    ```\n",
    "\n",
    "4. `RegressionResults` 클래스 객체는 결과 리포트용 `summary` 메서드와 예측을 위한 `prediction` 메서드를 제공한다.\n",
    "    ```\n",
    "    print(result.summary())\n",
    "    \n",
    "    y_new = result.predict(x_new)\n",
    "    ```\n",
    "    이 때, 예측을 위한 데이터는 추정시와 동일하게 상수항 결합을 해 주어야 한다."
   ]
  },
  {
   "cell_type": "code",
   "execution_count": 44,
   "metadata": {},
   "outputs": [],
   "source": [
    "import statsmodels"
   ]
  },
  {
   "cell_type": "code",
   "execution_count": 75,
   "metadata": {},
   "outputs": [
    {
     "data": {
      "text/html": [
       "<div>\n",
       "<style scoped>\n",
       "    .dataframe tbody tr th:only-of-type {\n",
       "        vertical-align: middle;\n",
       "    }\n",
       "\n",
       "    .dataframe tbody tr th {\n",
       "        vertical-align: top;\n",
       "    }\n",
       "\n",
       "    .dataframe thead th {\n",
       "        text-align: right;\n",
       "    }\n",
       "</style>\n",
       "<table border=\"1\" class=\"dataframe\">\n",
       "  <thead>\n",
       "    <tr style=\"text-align: right;\">\n",
       "      <th></th>\n",
       "      <th>x</th>\n",
       "      <th>y</th>\n",
       "    </tr>\n",
       "  </thead>\n",
       "  <tbody>\n",
       "    <tr>\n",
       "      <th>0</th>\n",
       "      <td>0.232495</td>\n",
       "      <td>127.879017</td>\n",
       "    </tr>\n",
       "    <tr>\n",
       "      <th>1</th>\n",
       "      <td>-0.038696</td>\n",
       "      <td>93.032914</td>\n",
       "    </tr>\n",
       "    <tr>\n",
       "      <th>2</th>\n",
       "      <td>0.550537</td>\n",
       "      <td>161.857508</td>\n",
       "    </tr>\n",
       "    <tr>\n",
       "      <th>3</th>\n",
       "      <td>0.503185</td>\n",
       "      <td>141.692050</td>\n",
       "    </tr>\n",
       "    <tr>\n",
       "      <th>4</th>\n",
       "      <td>2.186980</td>\n",
       "      <td>283.260119</td>\n",
       "    </tr>\n",
       "    <tr>\n",
       "      <th>...</th>\n",
       "      <td>...</td>\n",
       "      <td>...</td>\n",
       "    </tr>\n",
       "    <tr>\n",
       "      <th>195</th>\n",
       "      <td>-0.172428</td>\n",
       "      <td>87.874277</td>\n",
       "    </tr>\n",
       "    <tr>\n",
       "      <th>196</th>\n",
       "      <td>-1.199268</td>\n",
       "      <td>-13.626664</td>\n",
       "    </tr>\n",
       "    <tr>\n",
       "      <th>197</th>\n",
       "      <td>1.462108</td>\n",
       "      <td>216.106619</td>\n",
       "    </tr>\n",
       "    <tr>\n",
       "      <th>198</th>\n",
       "      <td>1.131629</td>\n",
       "      <td>212.743149</td>\n",
       "    </tr>\n",
       "    <tr>\n",
       "      <th>199</th>\n",
       "      <td>0.495211</td>\n",
       "      <td>150.017589</td>\n",
       "    </tr>\n",
       "  </tbody>\n",
       "</table>\n",
       "<p>200 rows × 2 columns</p>\n",
       "</div>"
      ],
      "text/plain": [
       "            x           y\n",
       "0    0.232495  127.879017\n",
       "1   -0.038696   93.032914\n",
       "2    0.550537  161.857508\n",
       "3    0.503185  141.692050\n",
       "4    2.186980  283.260119\n",
       "..        ...         ...\n",
       "195 -0.172428   87.874277\n",
       "196 -1.199268  -13.626664\n",
       "197  1.462108  216.106619\n",
       "198  1.131629  212.743149\n",
       "199  0.495211  150.017589\n",
       "\n",
       "[200 rows x 2 columns]"
      ]
     },
     "execution_count": 75,
     "metadata": {},
     "output_type": "execute_result"
    }
   ],
   "source": [
    "# 1. 독립변수와 종속변수가 모두 포함된 데이터프레임 생성\n",
    "\n",
    "from sklearn.datasets import make_regression\n",
    "X0, y, w = make_regression(\n",
    "    n_samples=200, n_features=1, bias=bias, noise=10, coef=True, random_state=1\n",
    ")\n",
    "X = sm.add_constant(X0)\n",
    "y = y.reshape(len(y), 1)\n",
    "\n",
    "df = pd.DataFrame({\"x\":X0[:,0],'y':y[:,0]})\n",
    "df"
   ]
  },
  {
   "cell_type": "code",
   "execution_count": 78,
   "metadata": {},
   "outputs": [],
   "source": [
    "# 2. 모델 객체 만들기\n",
    "# dfx(상수항 포함), dfy를 나눠서 직접 넣는 방법 선택\n",
    "# 시리즈가 아닌 데이터프레임으로 넣어야 함! df['y'] => 시리즈 / df[['y']] => 데이터프레임\n",
    "\n",
    "dfy = df[['y']]\n",
    "dfx = sm.add_constant(df[['x']])\n",
    "model = sm.OLS(dfy,dfx)"
   ]
  },
  {
   "cell_type": "code",
   "execution_count": 79,
   "metadata": {},
   "outputs": [],
   "source": [
    "# 3. 학습시키기 (fit메서드) -> regressionresult 라는 클래스의 객체에 저장됨\n",
    "\n",
    "result = model.fit()"
   ]
  },
  {
   "cell_type": "code",
   "execution_count": 80,
   "metadata": {},
   "outputs": [
    {
     "name": "stdout",
     "output_type": "stream",
     "text": [
      "                            OLS Regression Results                            \n",
      "==============================================================================\n",
      "Dep. Variable:                      y   R-squared:                       0.985\n",
      "Model:                            OLS   Adj. R-squared:                  0.985\n",
      "Method:                 Least Squares   F-statistic:                 1.278e+04\n",
      "Date:                Thu, 14 May 2020   Prob (F-statistic):          8.17e-182\n",
      "Time:                        21:33:59   Log-Likelihood:                -741.28\n",
      "No. Observations:                 200   AIC:                             1487.\n",
      "Df Residuals:                     198   BIC:                             1493.\n",
      "Df Model:                           1                                         \n",
      "Covariance Type:            nonrobust                                         \n",
      "==============================================================================\n",
      "                 coef    std err          t      P>|t|      [0.025      0.975]\n",
      "------------------------------------------------------------------------------\n",
      "const         99.7915      0.705    141.592      0.000      98.402     101.181\n",
      "x             86.9617      0.769    113.058      0.000      85.445      88.479\n",
      "==============================================================================\n",
      "Omnibus:                        1.418   Durbin-Watson:                   1.690\n",
      "Prob(Omnibus):                  0.492   Jarque-Bera (JB):                1.059\n",
      "Skew:                           0.121   Prob(JB):                        0.589\n",
      "Kurtosis:                       3.262   Cond. No.                         1.16\n",
      "==============================================================================\n",
      "\n",
      "Warnings:\n",
      "[1] Standard Errors assume that the covariance matrix of the errors is correctly specified.\n"
     ]
    }
   ],
   "source": [
    "# 4. 결과 출력\n",
    "\n",
    "print(result.summary())"
   ]
  },
  {
   "cell_type": "code",
   "execution_count": 81,
   "metadata": {},
   "outputs": [
    {
     "data": {
      "text/plain": [
       "const    99.791509\n",
       "x        86.961712\n",
       "dtype: float64"
      ]
     },
     "execution_count": 81,
     "metadata": {},
     "output_type": "execute_result"
    }
   ],
   "source": [
    "# 5. result 객체에 저장된 내용 : 계수, 잔차벡터\n",
    "\n",
    "result.params"
   ]
  },
  {
   "cell_type": "code",
   "execution_count": 82,
   "metadata": {},
   "outputs": [
    {
     "data": {
      "text/plain": [
       "<matplotlib.axes._subplots.AxesSubplot at 0x1220de990>"
      ]
     },
     "execution_count": 82,
     "metadata": {},
     "output_type": "execute_result"
    },
    {
     "data": {
      "image/png": "[encoded data removed]",
      "text/plain": [
       "<Figure size 432x288 with 1 Axes>"
      ]
     },
     "metadata": {
      "needs_background": "light"
     },
     "output_type": "display_data"
    }
   ],
   "source": [
    "result.resid.plot(style='o')"
   ]
  },
  {
   "cell_type": "code",
   "execution_count": 83,
   "metadata": {},
   "outputs": [
    {
     "data": {
      "text/plain": [
       "7.034373084024992e-13"
      ]
     },
     "execution_count": 83,
     "metadata": {},
     "output_type": "execute_result"
    }
   ],
   "source": [
    "# 직교방정식의 성질 확인\n",
    "# 1. 잔차의 합 = 0\n",
    "\n",
    "result.resid.sum()"
   ]
  },
  {
   "cell_type": "markdown",
   "metadata": {},
   "source": [
    "# 4. 보스턴 집값 데이터 예제\n"
   ]
  },
  {
   "cell_type": "code",
   "execution_count": 89,
   "metadata": {},
   "outputs": [],
   "source": [
    "from sklearn.datasets import load_boston\n",
    "\n",
    "boston = load_boston()\n",
    "\n",
    "dfX0 = pd.DataFrame(boston.data, columns = boston.feature_names)\n",
    "dfx = sm.add_constant(dfX0)\n",
    "dfy = pd.DataFrame(boston.target, columns = ['MEDV'])"
   ]
  },
  {
   "cell_type": "code",
   "execution_count": 90,
   "metadata": {},
   "outputs": [
    {
     "name": "stdout",
     "output_type": "stream",
     "text": [
      "                            OLS Regression Results                            \n",
      "==============================================================================\n",
      "Dep. Variable:                   MEDV   R-squared:                       0.741\n",
      "Model:                            OLS   Adj. R-squared:                  0.734\n",
      "Method:                 Least Squares   F-statistic:                     108.1\n",
      "Date:                Thu, 14 May 2020   Prob (F-statistic):          6.72e-135\n",
      "Time:                        21:38:22   Log-Likelihood:                -1498.8\n",
      "No. Observations:                 506   AIC:                             3026.\n",
      "Df Residuals:                     492   BIC:                             3085.\n",
      "Df Model:                          13                                         \n",
      "Covariance Type:            nonrobust                                         \n",
      "==============================================================================\n",
      "                 coef    std err          t      P>|t|      [0.025      0.975]\n",
      "------------------------------------------------------------------------------\n",
      "const         36.4595      5.103      7.144      0.000      26.432      46.487\n",
      "CRIM          -0.1080      0.033     -3.287      0.001      -0.173      -0.043\n",
      "ZN             0.0464      0.014      3.382      0.001       0.019       0.073\n",
      "INDUS          0.0206      0.061      0.334      0.738      -0.100       0.141\n",
      "CHAS           2.6867      0.862      3.118      0.002       0.994       4.380\n",
      "NOX          -17.7666      3.820     -4.651      0.000     -25.272     -10.262\n",
      "RM             3.8099      0.418      9.116      0.000       2.989       4.631\n",
      "AGE            0.0007      0.013      0.052      0.958      -0.025       0.027\n",
      "DIS           -1.4756      0.199     -7.398      0.000      -1.867      -1.084\n",
      "RAD            0.3060      0.066      4.613      0.000       0.176       0.436\n",
      "TAX           -0.0123      0.004     -3.280      0.001      -0.020      -0.005\n",
      "PTRATIO       -0.9527      0.131     -7.283      0.000      -1.210      -0.696\n",
      "B              0.0093      0.003      3.467      0.001       0.004       0.015\n",
      "LSTAT         -0.5248      0.051    -10.347      0.000      -0.624      -0.425\n",
      "==============================================================================\n",
      "Omnibus:                      178.041   Durbin-Watson:                   1.078\n",
      "Prob(Omnibus):                  0.000   Jarque-Bera (JB):              783.126\n",
      "Skew:                           1.521   Prob(JB):                    8.84e-171\n",
      "Kurtosis:                       8.281   Cond. No.                     1.51e+04\n",
      "==============================================================================\n",
      "\n",
      "Warnings:\n",
      "[1] Standard Errors assume that the covariance matrix of the errors is correctly specified.\n",
      "[2] The condition number is large, 1.51e+04. This might indicate that there are\n",
      "strong multicollinearity or other numerical problems.\n"
     ]
    }
   ],
   "source": [
    "model = sm.OLS(dfy,dfx)\n",
    "result = model.fit()\n",
    "\n",
    "print(result.summary())"
   ]
  }
 ],
 "metadata": {
  "kernelspec": {
   "display_name": "Python 3",
   "language": "python",
   "name": "python3"
  },
  "language_info": {
   "codemirror_mode": {
    "name": "ipython",
    "version": 3
   },
   "file_extension": ".py",
   "mimetype": "text/x-python",
   "name": "python",
   "nbconvert_exporter": "python",
   "pygments_lexer": "ipython3",
   "version": "3.7.4"
  }
 },
 "nbformat": 4,
 "nbformat_minor": 2
}
