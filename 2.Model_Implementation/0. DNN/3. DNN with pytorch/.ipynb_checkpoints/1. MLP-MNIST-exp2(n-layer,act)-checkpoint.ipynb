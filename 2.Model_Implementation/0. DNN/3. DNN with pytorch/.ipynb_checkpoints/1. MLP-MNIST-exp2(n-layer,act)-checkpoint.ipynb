{
 "cells": [
  {
   "cell_type": "code",
   "execution_count": null,
   "metadata": {
    "colab": {},
    "colab_type": "code",
    "id": "Y8KXyq_Sts5B"
   },
   "outputs": [],
   "source": [
    "# pip install torch==1.5.1+cu101 torchvision==0.6.1+cu101 -f https://download.pytorch.org/whl/torch_stable.html"
   ]
  },
  {
   "cell_type": "code",
   "execution_count": 1,
   "metadata": {
    "colab": {},
    "colab_type": "code",
    "executionInfo": {
     "elapsed": 1310,
     "status": "ok",
     "timestamp": 1599644963653,
     "user": {
      "displayName": "김정섭",
      "photoUrl": "",
      "userId": "03104285111645443112"
     },
     "user_tz": -540
    },
    "id": "9Pg5qi5oo1Xn"
   },
   "outputs": [],
   "source": [
    "# import torch\n",
    "# print(torch.rand(1, device=\"cuda\"))\n",
    "# !nvcc --version"
   ]
  },
  {
   "cell_type": "code",
   "execution_count": 2,
   "metadata": {
    "colab": {
     "base_uri": "https://localhost:8080/",
     "height": 34
    },
    "colab_type": "code",
    "executionInfo": {
     "elapsed": 1932,
     "status": "ok",
     "timestamp": 1599644964294,
     "user": {
      "displayName": "김정섭",
      "photoUrl": "",
      "userId": "03104285111645443112"
     },
     "user_tz": -540
    },
    "id": "lVMF4sA5fMwI",
    "outputId": "f5c55995-6a68-4cfc-8b10-0d6f184b72b4"
   },
   "outputs": [
    {
     "name": "stdout",
     "output_type": "stream",
     "text": [
      "sample_data\n"
     ]
    }
   ],
   "source": [
    "!ls"
   ]
  },
  {
   "cell_type": "code",
   "execution_count": 3,
   "metadata": {
    "colab": {},
    "colab_type": "code",
    "executionInfo": {
     "elapsed": 2406,
     "status": "ok",
     "timestamp": 1599644964781,
     "user": {
      "displayName": "김정섭",
      "photoUrl": "",
      "userId": "03104285111645443112"
     },
     "user_tz": -540
    },
    "id": "bF2Oh-6IfMwR"
   },
   "outputs": [],
   "source": [
    "!mkdir results"
   ]
  },
  {
   "cell_type": "code",
   "execution_count": 4,
   "metadata": {
    "colab": {
     "base_uri": "https://localhost:8080/",
     "height": 34
    },
    "colab_type": "code",
    "executionInfo": {
     "elapsed": 2397,
     "status": "ok",
     "timestamp": 1599644964782,
     "user": {
      "displayName": "김정섭",
      "photoUrl": "",
      "userId": "03104285111645443112"
     },
     "user_tz": -540
    },
    "id": "arQVIxHTfMwY",
    "outputId": "70d2ff9b-35b3-4b16-af6c-255cfe137667"
   },
   "outputs": [
    {
     "name": "stdout",
     "output_type": "stream",
     "text": [
      "results  sample_data\n"
     ]
    }
   ],
   "source": [
    "!ls"
   ]
  },
  {
   "cell_type": "code",
   "execution_count": 5,
   "metadata": {
    "colab": {},
    "colab_type": "code",
    "executionInfo": {
     "elapsed": 6084,
     "status": "ok",
     "timestamp": 1599644968471,
     "user": {
      "displayName": "김정섭",
      "photoUrl": "",
      "userId": "03104285111645443112"
     },
     "user_tz": -540
    },
    "id": "WfoEYrn0fMwc"
   },
   "outputs": [],
   "source": [
    "%matplotlib inline\n",
    "import torch\n",
    "import torch.nn as nn\n",
    "import torch.optim as optim\n",
    "import torchvision\n",
    "import torchvision.transforms as transforms\n",
    "import matplotlib.pyplot as plt\n",
    "import numpy as np\n",
    "import time\n",
    "\n",
    "import argparse\n",
    "from copy import deepcopy # Add Deepcopy for args"
   ]
  },
  {
   "cell_type": "code",
   "execution_count": 6,
   "metadata": {
    "colab": {
     "base_uri": "https://localhost:8080/",
     "height": 100,
     "referenced_widgets": [
      "53980509a2c147b8aff53e61f738303f",
      "a8d581abfc334b42bd22776ad734819e",
      "66f3fa06754d4b52853fba01ac6580ac",
      "61a426ba21374fb0905521f5e5f2f314",
      "aa71872776d141c9b02c6217d38eda0d",
      "c0d98c326cdb49d39c9fbddf5bbcb413",
      "fb283c3e12494f4f80c8ac78ae1f07dc",
      "afa6f6126807492991c0864dab2527ad"
     ]
    },
    "colab_type": "code",
    "executionInfo": {
     "elapsed": 15880,
     "status": "ok",
     "timestamp": 1599644978278,
     "user": {
      "displayName": "김정섭",
      "photoUrl": "",
      "userId": "03104285111645443112"
     },
     "user_tz": -540
    },
    "id": "zxb5gJzqfMwg",
    "outputId": "25f37d7b-117d-49ff-d21c-827887f4367c"
   },
   "outputs": [
    {
     "name": "stdout",
     "output_type": "stream",
     "text": [
      "Downloading https://www.cs.toronto.edu/~kriz/cifar-10-python.tar.gz to ./data/cifar-10-python.tar.gz\n"
     ]
    },
    {
     "data": {
      "application/vnd.jupyter.widget-view+json": {
       "model_id": "53980509a2c147b8aff53e61f738303f",
       "version_major": 2,
       "version_minor": 0
      },
      "text/plain": [
       "HBox(children=(FloatProgress(value=1.0, bar_style='info', max=1.0), HTML(value='')))"
      ]
     },
     "metadata": {
      "tags": []
     },
     "output_type": "display_data"
    },
    {
     "name": "stdout",
     "output_type": "stream",
     "text": [
      "Extracting ./data/cifar-10-python.tar.gz to ./data\n",
      "Files already downloaded and verified\n"
     ]
    }
   ],
   "source": [
    "transform = transforms.Compose(\n",
    "    [transforms.ToTensor(),\n",
    "     transforms.Normalize((0.5, 0.5, 0.5), (0.5, 0.5, 0.5))])\n",
    "\n",
    "trainset = torchvision.datasets.CIFAR10(root='./data', train=True,\n",
    "                                        download=True, transform=transform)\n",
    "trainset, valset = torch.utils.data.random_split(trainset, [40000, 10000])\n",
    "testset = torchvision.datasets.CIFAR10(root='./data', train=False,\n",
    "                                       download=True, transform=transform)\n",
    "partition = {'train': trainset, 'val':valset, 'test':testset}"
   ]
  },
  {
   "cell_type": "code",
   "execution_count": 7,
   "metadata": {
    "colab": {
     "base_uri": "https://localhost:8080/",
     "height": 34
    },
    "colab_type": "code",
    "executionInfo": {
     "elapsed": 16301,
     "status": "ok",
     "timestamp": 1599644978710,
     "user": {
      "displayName": "김정섭",
      "photoUrl": "",
      "userId": "03104285111645443112"
     },
     "user_tz": -540
    },
    "id": "9kOH52CAfMw2",
    "outputId": "17cb013d-29af-4f26-cfc3-3ea8ba2a7457"
   },
   "outputs": [
    {
     "name": "stdout",
     "output_type": "stream",
     "text": [
      "현재 device : cuda\n"
     ]
    }
   ],
   "source": [
    "device = 'cuda' if torch.cuda.is_available() else 'cpu'\n",
    "\n",
    "torch.manual_seed(777)\n",
    "if device=='cuda':\n",
    "    torch.cuda.manual_seed_all(777)\n",
    "\n",
    "print('현재 device :', device)"
   ]
  },
  {
   "cell_type": "markdown",
   "metadata": {
    "colab_type": "text",
    "id": "41b2OLtDfMw5"
   },
   "source": [
    "# 1. model"
   ]
  },
  {
   "cell_type": "code",
   "execution_count": 8,
   "metadata": {
    "colab": {},
    "colab_type": "code",
    "executionInfo": {
     "elapsed": 16301,
     "status": "ok",
     "timestamp": 1599644978711,
     "user": {
      "displayName": "김정섭",
      "photoUrl": "",
      "userId": "03104285111645443112"
     },
     "user_tz": -540
    },
    "id": "kcIn1q9OfMw6"
   },
   "outputs": [],
   "source": [
    "class MLP(nn.Module):\n",
    "    \n",
    "    def __init__(self, in_dim, out_dim, hid_dim, n_layer, act, batch_normal, dropout_p, weight_init):\n",
    "        super(MLP,self).__init__()\n",
    "        self.in_dim = in_dim\n",
    "        self.out_dim = out_dim\n",
    "        self.hid_dim = hid_dim\n",
    "        self.n_layer = n_layer  # n_layer = hid_dim(1) + ... + hid_dim(n-1) + out_dim(n)\n",
    "        self.act = act\n",
    "        self.batch_normal = batch_normal\n",
    "        self.dropout = dropout_p\n",
    "        \n",
    "        #===Create sequence space===#\n",
    "        self.linears = nn.ModuleList()\n",
    "        self.batch_normals = nn.ModuleList()\n",
    "        \n",
    "        self.fc1 = nn.Linear(self.in_dim, self.hid_dim)\n",
    "        for idx in range(n_layer-1):\n",
    "            self.linears.append(nn.Linear(self.hid_dim, self.hid_dim))\n",
    "            # 레이어 마다 batch_normalization 시행 예정-> [linear - BN - activation] 반복\n",
    "            if self.batch_normal == True:\n",
    "                self.batch_normals.append(nn.BatchNorm1d(hid_dim))\n",
    "        self.fc2 = nn.Linear(self.hid_dim, self.out_dim)\n",
    "        \n",
    "        #===Create Activation Function===#\n",
    "        if self.act == 'sigmoid':\n",
    "            self.act = nn.Sigmoid()\n",
    "        elif self.act == 'relu':\n",
    "            self.act = nn.ReLU()\n",
    "        elif self.act == 'tanh':\n",
    "            self.act = nn.Tanh()\n",
    "        elif self.act == 'leaky_relu':\n",
    "            self.act = nn.LeakyReLU()\n",
    "        else:\n",
    "            raise ValueError(\"no valid activation function selected(sigmoid, relu, leaky_relu, tanh)\")\n",
    "            \n",
    "        #===Create Regularization layer===#\n",
    "        # dropout\n",
    "        self.dropout = nn.Dropout(self.dropout)\n",
    "        # weight_initialization\n",
    "        if weight_init == 'xavier':\n",
    "            self.xavier_init()\n",
    "        elif weight_init == 'he':\n",
    "            self.he_init()\n",
    "        else:\n",
    "            raise ValueError(\"no valid weight_initializer selected(xavier, he)\")\n",
    "            \n",
    "    def xavier_init(self):\n",
    "        for linear in self.linears:\n",
    "            nn.init.xavier_normal_(linear.weight)\n",
    "            linear.bias.data.fill_(0.01)\n",
    "    \n",
    "    def he_init(self):\n",
    "        for linear in self.linears:\n",
    "            torch.nn.init.kaiming_normal_(linear.weight)\n",
    "            linear.bias.data.fill_(0.01)\n",
    "        \n",
    "    def forward(self,x):\n",
    "        out = self.act(self.fc1(x))\n",
    "        \n",
    "                                        #===hidden layer===#\n",
    "        # 레이어 마다 batch_normalization 시행 예정-> [weight_init - linear - BN - activation - dropout] 반복\n",
    "        # batch_norm, dropout 은 model.train()에서만 ON\n",
    "        # batch_norm, dropout 은 hidden layer에서만 적용해야 함!\n",
    "        for idx in range(len(self.linears)):\n",
    "            out = self.linears[idx](out)\n",
    "            if self.batch_normals:\n",
    "                out = self.batch_normals[idx](out)\n",
    "            out = self.act(out)\n",
    "            out = self.dropout(out)\n",
    "                                        #===hidden layer===#\n",
    "        \n",
    "        out = self.fc2(out)\n",
    "        return out\n",
    "  "
   ]
  },
  {
   "cell_type": "code",
   "execution_count": 9,
   "metadata": {
    "colab": {},
    "colab_type": "code",
    "executionInfo": {
     "elapsed": 16298,
     "status": "ok",
     "timestamp": 1599644978711,
     "user": {
      "displayName": "김정섭",
      "photoUrl": "",
      "userId": "03104285111645443112"
     },
     "user_tz": -540
    },
    "id": "fhqpcgMDfMw8"
   },
   "outputs": [],
   "source": [
    "# __init__(self, in_dim, out_dim, hid_dim, n_layer, act, batch_normal, dropout_p, weight_init):\n",
    "\n",
    "model = MLP(3072,10,100,4,'leaky_relu',batch_normal=True,dropout_p=0.1,weight_init='he')"
   ]
  },
  {
   "cell_type": "markdown",
   "metadata": {
    "colab_type": "text",
    "id": "ONuCrPPGfMxE"
   },
   "source": [
    "# 2. Train"
   ]
  },
  {
   "cell_type": "code",
   "execution_count": 10,
   "metadata": {
    "colab": {},
    "colab_type": "code",
    "executionInfo": {
     "elapsed": 16297,
     "status": "ok",
     "timestamp": 1599644978712,
     "user": {
      "displayName": "김정섭",
      "photoUrl": "",
      "userId": "03104285111645443112"
     },
     "user_tz": -540
    },
    "id": "deY00ArPfMxE"
   },
   "outputs": [],
   "source": [
    "def train(model, partition, optimizer, criterion, args):\n",
    "    # input data preparation\n",
    "    trainloader = torch.utils.data.DataLoader(partition['train'], \n",
    "                                              batch_size=args.train_batch_size, \n",
    "                                              shuffle=True, num_workers=2)\n",
    "    model.train()\n",
    "    \n",
    "    train_loss = 0.0\n",
    "    accuracy_batch = 0.0\n",
    "    total_sample = 0 \n",
    "    for i, samples in enumerate(trainloader):\n",
    "        x_data, y_label = samples\n",
    "        x_data = x_data.view(-1,3072)\n",
    "        x_data = x_data.to(device)\n",
    "        y_label = y_label.to(device)\n",
    "        \n",
    "        # forward\n",
    "        output = model(x_data)\n",
    "        cost = criterion(output, y_label)\n",
    "        \n",
    "        # backward\n",
    "        optimizer.zero_grad()\n",
    "        cost.backward()\n",
    "        optimizer.step()\n",
    "        \n",
    "        train_loss += cost.item()\n",
    "        _, predicted_label = torch.max(output, dim=1)\n",
    "        correct = predicted_label == y_label\n",
    "        accuracy_batch += correct.float().sum().item()\n",
    "        \n",
    "        total_sample += y_label.size(0)\n",
    "    \n",
    "    \n",
    "    # batch 당 평균 loss( len(trainloader) == batch 갯수 )\n",
    "    train_loss_batch = train_loss / len(trainloader) \n",
    "    # 모든 sample의 평균 accuracy\n",
    "    train_acc_batch = (accuracy_batch / total_sample)*100\n",
    "\n",
    "    # 학습 후의 model을 return해서, 이후 validate 등에 넣어 활용할 예정\n",
    "    return model, train_loss_batch, train_acc_batch\n",
    "  "
   ]
  },
  {
   "cell_type": "markdown",
   "metadata": {
    "colab_type": "text",
    "id": "TXA-JwSyfMxG"
   },
   "source": [
    "# 3. Validate"
   ]
  },
  {
   "cell_type": "code",
   "execution_count": 11,
   "metadata": {
    "colab": {},
    "colab_type": "code",
    "executionInfo": {
     "elapsed": 16294,
     "status": "ok",
     "timestamp": 1599644978712,
     "user": {
      "displayName": "김정섭",
      "photoUrl": "",
      "userId": "03104285111645443112"
     },
     "user_tz": -540
    },
    "id": "S51iLVX3fMxH"
   },
   "outputs": [],
   "source": [
    "def validate(model, partition, criterion, args):\n",
    "    valloader = torch.utils.data.DataLoader(partition['val'], \n",
    "                                            batch_size=args.test_batch_size, \n",
    "                                            shuffle=False, num_workers=2)\n",
    "    model.eval()\n",
    "    \n",
    "    val_loss = 0.0\n",
    "    accuracy_batch = 0.0\n",
    "    total_sample = 0\n",
    "    with torch.no_grad():\n",
    "        for samples in valloader:\n",
    "            x_data, y_label = samples\n",
    "            x_data = x_data.view(-1,3072)\n",
    "            x_data = x_data.to(device)\n",
    "            y_label = y_label.to(device)\n",
    "            \n",
    "            # forward\n",
    "            output = model(x_data)\n",
    "            cost = criterion(output, y_label)\n",
    "            \n",
    "            # backward (X)\n",
    "            \n",
    "            val_loss += cost.item()\n",
    "            _, predicted_label = torch.max(output, dim=1)\n",
    "            correct = predicted_label == y_label\n",
    "            accuracy_batch += correct.float().sum().item()\n",
    "            \n",
    "            total_sample += y_label.size(0)\n",
    "            \n",
    "        val_loss_batch = val_loss / len(valloader) \n",
    "        val_acc_batch = (accuracy_batch / total_sample)*100\n",
    "    \n",
    "    return val_loss_batch, val_acc_batch"
   ]
  },
  {
   "cell_type": "markdown",
   "metadata": {
    "colab_type": "text",
    "id": "xhXZI2ktfMxJ"
   },
   "source": [
    "# 4. Test"
   ]
  },
  {
   "cell_type": "code",
   "execution_count": 12,
   "metadata": {
    "colab": {},
    "colab_type": "code",
    "executionInfo": {
     "elapsed": 16293,
     "status": "ok",
     "timestamp": 1599644978713,
     "user": {
      "displayName": "김정섭",
      "photoUrl": "",
      "userId": "03104285111645443112"
     },
     "user_tz": -540
    },
    "id": "D9BKPXWSfMxK"
   },
   "outputs": [],
   "source": [
    "def test(model, partition, args):\n",
    "    testloader = torch.utils.data.DataLoader(partition['test'], \n",
    "                                             batch_size=args.test_batch_size, \n",
    "                                             shuffle=False, num_workers=2)\n",
    "    model.eval()\n",
    "    \n",
    "    accuracy_batch = 0.0\n",
    "    total_sample = 0\n",
    "    with torch.no_grad():\n",
    "        for samples in testloader:\n",
    "            x_data, y_label = samples\n",
    "            x_data = x_data.view(-1,3072)\n",
    "            x_data = x_data.to(device)\n",
    "            y_label = y_label.to(device)\n",
    "            \n",
    "            # forward (X)\n",
    "\n",
    "            # backward (X)\n",
    "            \n",
    "            output = model(x_data)\n",
    "            _, predicted_label = torch.max(output, dim=1)\n",
    "            correct = predicted_label == y_label\n",
    "            accuracy_batch += correct.float().sum().item()\n",
    "            \n",
    "            total_sample += y_label.size(0)\n",
    "            \n",
    "        test_acc_batch = (accuracy_batch / total_sample)*100\n",
    "    \n",
    "    return test_acc_batch"
   ]
  },
  {
   "cell_type": "markdown",
   "metadata": {
    "colab_type": "text",
    "id": "eVKqv-8ifMxN"
   },
   "source": [
    "# 5. Experiment"
   ]
  },
  {
   "cell_type": "code",
   "execution_count": 13,
   "metadata": {
    "colab": {},
    "colab_type": "code",
    "executionInfo": {
     "elapsed": 16290,
     "status": "ok",
     "timestamp": 1599644978713,
     "user": {
      "displayName": "김정섭",
      "photoUrl": "",
      "userId": "03104285111645443112"
     },
     "user_tz": -540
    },
    "id": "PtX-1ejtfMxO"
   },
   "outputs": [],
   "source": [
    "def experiment(partition,args):\n",
    "    \n",
    "    model = MLP(args.in_dim, args.out_dim, args.hid_dim,\n",
    "                args.n_layer, args.act,\n",
    "                args.batch_normal, args.dropout_p, args.weight_init)\n",
    "    \n",
    "    model.to(device)\n",
    "    \n",
    "    # Loss function\n",
    "    criterion = nn.CrossEntropyLoss()\n",
    "    \n",
    "    # Optimizer\n",
    "    if args.optim == 'SGD':\n",
    "        optimizer = optim.SGD(model.parameters(), lr = args.lr, weight_decay = args.l2)\n",
    "    elif args.optim == 'RMSprop':\n",
    "        optimizer = optim.RMSprop(model.parameters(), lr = args.lr, weight_decay = args.l2)\n",
    "    elif args.optim == 'ADAM':\n",
    "        optimizer = optim.Adam(model.parameters(), lr=args.lr, weight_decay=args.l2)\n",
    "    else:\n",
    "        raise ValueError(\"no valid optimizer selected(SGD, RMSprop, ADAM)\")\n",
    "        \n",
    "    # Create loss, accuracy list for visualization(seaborn)\n",
    "    # epoch-wise loss, accuracy\n",
    "    train_losses, val_losses = [], []\n",
    "    train_accs, val_accs = [], []\n",
    "    \n",
    "    # loop (train / val)\n",
    "    for epoch in range(args.epoch+1):\n",
    "        ts = time.time()\n",
    "        \n",
    "        model, train_loss_batch, train_acc_batch = train(model, partition, optimizer, criterion, args)\n",
    "        val_loss_batch, val_acc_batch = validate(model, partition, criterion, args)\n",
    "        \n",
    "        te = time.time()\n",
    "        \n",
    "        train_losses.append(train_loss_batch)\n",
    "        val_losses.append(val_loss_batch)\n",
    "        train_accs.append(train_acc_batch)\n",
    "        val_accs.append(val_acc_batch)\n",
    "        \n",
    "        print('Epoch {}, Acc(train/val): {:2.2f}/{:2.2f}, Loss(train/val) {:2.2f}/{:2.2f}.\\\n",
    "              Took {:2.2f} sec'.format(epoch, train_acc_batch, val_acc_batch, train_loss_batch, val_loss_batch, te-ts))\n",
    "    \n",
    "    test_acc_batch = test(model, partition, args)\n",
    "    \n",
    "    # to keep track of the result of each experiment\n",
    "    result = {}\n",
    "    result['train_losses'] = train_losses\n",
    "    result['val_losses'] = val_losses\n",
    "    result['train_accs'] = train_accs\n",
    "    result['val_accs'] = val_accs\n",
    "    result['train_acc'] = train_acc_batch\n",
    "    result['val_acc'] = val_acc_batch\n",
    "    result['test_acc'] = test_acc_batch\n",
    "    \n",
    "    # vars(object) : object가 갖는 attribute를 return! (result의 experiment arguments를 return하기 위함\n",
    "    # vars(object) : object의 attribute를 dictionary 로 return!\n",
    "    return vars(args), result"
   ]
  },
  {
   "cell_type": "markdown",
   "metadata": {
    "colab_type": "text",
    "id": "5xME1B0LfMxQ"
   },
   "source": [
    "# 6. Manage Results as a File"
   ]
  },
  {
   "cell_type": "code",
   "execution_count": 14,
   "metadata": {
    "colab": {},
    "colab_type": "code",
    "executionInfo": {
     "elapsed": 16290,
     "status": "ok",
     "timestamp": 1599644978714,
     "user": {
      "displayName": "김정섭",
      "photoUrl": "",
      "userId": "03104285111645443112"
     },
     "user_tz": -540
    },
    "id": "YkQ1D2IgfMxR"
   },
   "outputs": [],
   "source": [
    "import hashlib\n",
    "import json\n",
    "from os import listdir\n",
    "from os.path import isfile, join\n",
    "import pandas as pd\n",
    "\n",
    "def save_exp_result(setting, result):\n",
    "    exp_name = setting['exp_name']\n",
    "    del setting['epoch']\n",
    "    del setting['test_batch_size']\n",
    "\n",
    "    hash_key = hashlib.sha1(str(setting).encode()).hexdigest()[:6]\n",
    "    filename = './results/{}-{}.json'.format(exp_name, hash_key)\n",
    "    # .updata : dictionary의 append와 같음 (result.update(setting) : result dict + setting dict)\n",
    "    result.update(setting)\n",
    "    with open(filename, 'w') as f:\n",
    "        json.dump(result, f)\n",
    "\n",
    "    \n",
    "def load_exp_result(exp_name):\n",
    "    dir_path = './results'\n",
    "    filenames = [f for f in listdir(dir_path) if isfile(join(dir_path, f)) if '.json' in f]\n",
    "    list_result = []\n",
    "    for filename in filenames:\n",
    "        if exp_name in filename:\n",
    "            with open(join(dir_path, filename), 'r') as infile:\n",
    "                results = json.load(infile)\n",
    "                list_result.append(results)\n",
    "    df = pd.DataFrame(list_result) # .drop(columns=[])\n",
    "    return df"
   ]
  },
  {
   "cell_type": "markdown",
   "metadata": {
    "colab_type": "text",
    "id": "TZPI_SdCfMxT"
   },
   "source": [
    "# 7. Experiement "
   ]
  },
  {
   "cell_type": "code",
   "execution_count": 15,
   "metadata": {
    "colab": {
     "base_uri": "https://localhost:8080/",
     "height": 1000
    },
    "colab_type": "code",
    "executionInfo": {
     "elapsed": 769399,
     "status": "ok",
     "timestamp": 1599645731834,
     "user": {
      "displayName": "김정섭",
      "photoUrl": "",
      "userId": "03104285111645443112"
     },
     "user_tz": -540
    },
    "id": "FBRqpS_zfMxT",
    "outputId": "a56bf19b-bb88-435e-a930-d03ed973a88b"
   },
   "outputs": [
    {
     "name": "stdout",
     "output_type": "stream",
     "text": [
      "Namespace(act='relu', batch_normal=True, dropout_p=0.2, epoch=10, exp_name='exp1_n_layer_hid_dim', hid_dim=100, in_dim=3072, l2=1e-05, lr=0.0015, n_layer=3, optim='ADAM', out_dim=10, test_batch_size=1024, train_batch_size=256, weight_init='he')\n",
      "Epoch 0, Acc(train/val): 35.39/42.37, Loss(train/val) 1.81/1.62.              Took 10.87 sec\n",
      "Epoch 1, Acc(train/val): 43.41/46.50, Loss(train/val) 1.58/1.50.              Took 10.75 sec\n",
      "Epoch 2, Acc(train/val): 47.40/47.61, Loss(train/val) 1.48/1.47.              Took 10.75 sec\n",
      "Epoch 3, Acc(train/val): 49.23/49.26, Loss(train/val) 1.41/1.43.              Took 10.77 sec\n",
      "Epoch 4, Acc(train/val): 51.50/50.04, Loss(train/val) 1.36/1.41.              Took 10.95 sec\n",
      "Epoch 5, Acc(train/val): 53.11/50.68, Loss(train/val) 1.32/1.40.              Took 10.71 sec\n",
      "Epoch 6, Acc(train/val): 54.11/50.66, Loss(train/val) 1.28/1.39.              Took 10.83 sec\n",
      "Epoch 7, Acc(train/val): 55.39/51.44, Loss(train/val) 1.25/1.38.              Took 10.84 sec\n",
      "Epoch 8, Acc(train/val): 56.91/51.29, Loss(train/val) 1.21/1.38.              Took 10.67 sec\n",
      "Epoch 9, Acc(train/val): 57.44/51.35, Loss(train/val) 1.19/1.38.              Took 10.83 sec\n",
      "Epoch 10, Acc(train/val): 58.36/51.51, Loss(train/val) 1.16/1.37.              Took 10.89 sec\n",
      "Namespace(act='leaky_relu', batch_normal=True, dropout_p=0.2, epoch=10, exp_name='exp1_n_layer_hid_dim', hid_dim=100, in_dim=3072, l2=1e-05, lr=0.0015, n_layer=3, optim='ADAM', out_dim=10, test_batch_size=1024, train_batch_size=256, weight_init='he')\n",
      "Epoch 0, Acc(train/val): 35.17/42.14, Loss(train/val) 1.81/1.61.              Took 10.89 sec\n",
      "Epoch 1, Acc(train/val): 44.01/45.74, Loss(train/val) 1.58/1.51.              Took 10.85 sec\n",
      "Epoch 2, Acc(train/val): 47.23/47.54, Loss(train/val) 1.48/1.45.              Took 10.80 sec\n",
      "Epoch 3, Acc(train/val): 49.48/49.20, Loss(train/val) 1.41/1.42.              Took 10.99 sec\n",
      "Epoch 4, Acc(train/val): 51.48/50.05, Loss(train/val) 1.36/1.40.              Took 10.76 sec\n",
      "Epoch 5, Acc(train/val): 52.94/50.32, Loss(train/val) 1.32/1.39.              Took 10.84 sec\n",
      "Epoch 6, Acc(train/val): 54.10/51.18, Loss(train/val) 1.28/1.38.              Took 10.98 sec\n",
      "Epoch 7, Acc(train/val): 55.77/51.91, Loss(train/val) 1.24/1.36.              Took 10.88 sec\n",
      "Epoch 8, Acc(train/val): 56.47/50.57, Loss(train/val) 1.22/1.39.              Took 10.76 sec\n",
      "Epoch 9, Acc(train/val): 57.55/52.07, Loss(train/val) 1.19/1.36.              Took 11.09 sec\n",
      "Epoch 10, Acc(train/val): 58.54/51.48, Loss(train/val) 1.16/1.38.              Took 10.71 sec\n",
      "Namespace(act='relu', batch_normal=True, dropout_p=0.2, epoch=10, exp_name='exp1_n_layer_hid_dim', hid_dim=100, in_dim=3072, l2=1e-05, lr=0.0015, n_layer=4, optim='ADAM', out_dim=10, test_batch_size=1024, train_batch_size=256, weight_init='he')\n",
      "Epoch 0, Acc(train/val): 32.67/40.89, Loss(train/val) 1.87/1.64.              Took 11.09 sec\n",
      "Epoch 1, Acc(train/val): 41.79/44.37, Loss(train/val) 1.63/1.54.              Took 11.20 sec\n",
      "Epoch 2, Acc(train/val): 45.07/45.90, Loss(train/val) 1.54/1.49.              Took 10.98 sec\n",
      "Epoch 3, Acc(train/val): 47.57/47.43, Loss(train/val) 1.47/1.46.              Took 11.06 sec\n",
      "Epoch 4, Acc(train/val): 49.62/48.17, Loss(train/val) 1.42/1.44.              Took 11.10 sec\n",
      "Epoch 5, Acc(train/val): 51.48/49.13, Loss(train/val) 1.37/1.42.              Took 11.21 sec\n",
      "Epoch 6, Acc(train/val): 52.53/50.43, Loss(train/val) 1.33/1.39.              Took 11.14 sec\n",
      "Epoch 7, Acc(train/val): 53.42/49.77, Loss(train/val) 1.31/1.41.              Took 11.27 sec\n",
      "Epoch 8, Acc(train/val): 54.80/50.84, Loss(train/val) 1.27/1.39.              Took 10.93 sec\n",
      "Epoch 9, Acc(train/val): 55.59/51.70, Loss(train/val) 1.24/1.37.              Took 11.05 sec\n",
      "Epoch 10, Acc(train/val): 56.79/51.88, Loss(train/val) 1.22/1.37.              Took 11.13 sec\n",
      "Namespace(act='leaky_relu', batch_normal=True, dropout_p=0.2, epoch=10, exp_name='exp1_n_layer_hid_dim', hid_dim=100, in_dim=3072, l2=1e-05, lr=0.0015, n_layer=4, optim='ADAM', out_dim=10, test_batch_size=1024, train_batch_size=256, weight_init='he')\n",
      "Epoch 0, Acc(train/val): 32.48/41.10, Loss(train/val) 1.87/1.64.              Took 11.17 sec\n",
      "Epoch 1, Acc(train/val): 42.08/44.10, Loss(train/val) 1.63/1.56.              Took 10.99 sec\n",
      "Epoch 2, Acc(train/val): 45.58/46.94, Loss(train/val) 1.53/1.48.              Took 11.22 sec\n",
      "Epoch 3, Acc(train/val): 48.34/48.50, Loss(train/val) 1.45/1.43.              Took 11.11 sec\n",
      "Epoch 4, Acc(train/val): 50.56/49.07, Loss(train/val) 1.40/1.43.              Took 11.01 sec\n",
      "Epoch 5, Acc(train/val): 51.71/50.13, Loss(train/val) 1.36/1.40.              Took 11.11 sec\n",
      "Epoch 6, Acc(train/val): 52.88/50.35, Loss(train/val) 1.33/1.39.              Took 11.29 sec\n",
      "Epoch 7, Acc(train/val): 54.44/51.06, Loss(train/val) 1.29/1.37.              Took 11.08 sec\n",
      "Epoch 8, Acc(train/val): 55.52/50.80, Loss(train/val) 1.26/1.39.              Took 10.98 sec\n",
      "Epoch 9, Acc(train/val): 56.57/50.90, Loss(train/val) 1.23/1.39.              Took 11.28 sec\n",
      "Epoch 10, Acc(train/val): 57.47/51.48, Loss(train/val) 1.21/1.36.              Took 11.11 sec\n",
      "Namespace(act='relu', batch_normal=True, dropout_p=0.2, epoch=10, exp_name='exp1_n_layer_hid_dim', hid_dim=100, in_dim=3072, l2=1e-05, lr=0.0015, n_layer=5, optim='ADAM', out_dim=10, test_batch_size=1024, train_batch_size=256, weight_init='he')\n",
      "Epoch 0, Acc(train/val): 30.75/39.18, Loss(train/val) 1.91/1.68.              Took 11.36 sec\n",
      "Epoch 1, Acc(train/val): 40.24/44.13, Loss(train/val) 1.67/1.56.              Took 11.40 sec\n",
      "Epoch 2, Acc(train/val): 43.59/44.55, Loss(train/val) 1.57/1.54.              Took 11.21 sec\n",
      "Epoch 3, Acc(train/val): 45.96/46.85, Loss(train/val) 1.51/1.49.              Took 11.41 sec\n",
      "Epoch 4, Acc(train/val): 48.28/48.10, Loss(train/val) 1.46/1.45.              Took 11.27 sec\n",
      "Epoch 5, Acc(train/val): 50.15/48.76, Loss(train/val) 1.41/1.44.              Took 11.27 sec\n",
      "Epoch 6, Acc(train/val): 51.50/49.20, Loss(train/val) 1.37/1.42.              Took 11.41 sec\n",
      "Epoch 7, Acc(train/val): 52.65/50.30, Loss(train/val) 1.34/1.41.              Took 11.12 sec\n",
      "Epoch 8, Acc(train/val): 53.95/50.60, Loss(train/val) 1.31/1.39.              Took 11.26 sec\n",
      "Epoch 9, Acc(train/val): 54.89/51.54, Loss(train/val) 1.28/1.38.              Took 11.22 sec\n",
      "Epoch 10, Acc(train/val): 55.66/50.72, Loss(train/val) 1.26/1.39.              Took 11.29 sec\n",
      "Namespace(act='leaky_relu', batch_normal=True, dropout_p=0.2, epoch=10, exp_name='exp1_n_layer_hid_dim', hid_dim=100, in_dim=3072, l2=1e-05, lr=0.0015, n_layer=5, optim='ADAM', out_dim=10, test_batch_size=1024, train_batch_size=256, weight_init='he')\n",
      "Epoch 0, Acc(train/val): 29.89/38.84, Loss(train/val) 1.93/1.68.              Took 11.33 sec\n",
      "Epoch 1, Acc(train/val): 40.30/43.51, Loss(train/val) 1.67/1.58.              Took 11.52 sec\n",
      "Epoch 2, Acc(train/val): 44.03/46.51, Loss(train/val) 1.58/1.51.              Took 11.19 sec\n",
      "Epoch 3, Acc(train/val): 46.49/46.78, Loss(train/val) 1.51/1.49.              Took 11.36 sec\n",
      "Epoch 4, Acc(train/val): 48.74/48.39, Loss(train/val) 1.45/1.46.              Took 11.21 sec\n",
      "Epoch 5, Acc(train/val): 49.89/48.96, Loss(train/val) 1.41/1.43.              Took 11.53 sec\n",
      "Epoch 6, Acc(train/val): 51.71/49.78, Loss(train/val) 1.37/1.41.              Took 11.26 sec\n",
      "Epoch 7, Acc(train/val): 52.60/51.13, Loss(train/val) 1.33/1.38.              Took 11.42 sec\n",
      "Epoch 8, Acc(train/val): 54.43/50.90, Loss(train/val) 1.30/1.40.              Took 11.47 sec\n",
      "Epoch 9, Acc(train/val): 55.34/51.10, Loss(train/val) 1.27/1.39.              Took 11.37 sec\n",
      "Epoch 10, Acc(train/val): 56.08/51.91, Loss(train/val) 1.25/1.38.              Took 11.44 sec\n"
     ]
    }
   ],
   "source": [
    "# ====== Random Seed Initialization ====== #\n",
    "seed = 123\n",
    "np.random.seed(seed)\n",
    "torch.manual_seed(seed)\n",
    "\n",
    "parser = argparse.ArgumentParser()\n",
    "args = parser.parse_args(\"\")\n",
    "args.exp_name = \"exp1_n_layer_hid_dim\"\n",
    "\n",
    "# ====== Model Capacity ====== #\n",
    "args.in_dim = 3072\n",
    "args.out_dim = 10\n",
    "args.hid_dim = 100\n",
    "args.act = 'relu'\n",
    "\n",
    "# ====== Regularization ======= #\n",
    "args.dropout_p = 0.2\n",
    "args.batch_normal = True\n",
    "args.l2 = 0.00001\n",
    "args.weight_init = 'he'\n",
    "\n",
    "# ====== Optimizer & Training ====== #\n",
    "args.optim = 'ADAM' #'RMSprop' #SGD, RMSprop, ADAM...\n",
    "args.lr = 0.0015\n",
    "args.epoch = 10\n",
    "\n",
    "args.train_batch_size = 256\n",
    "args.test_batch_size = 1024\n",
    "\n",
    "# ====== Experiment Variable ====== #\n",
    "name_var1 = 'n_layer'\n",
    "name_var2 = 'act'\n",
    "list_var1 = [3, 4, 5]\n",
    "list_var2 = ['relu','leaky_relu']\n",
    "\n",
    "\n",
    "for var1 in list_var1:\n",
    "    for var2 in list_var2:\n",
    "        setattr(args, name_var1, var1)\n",
    "        setattr(args, name_var2, var2)\n",
    "        print(args)\n",
    "                \n",
    "        setting, result = experiment(partition, deepcopy(args))\n",
    "        save_exp_result(setting, result)"
   ]
  },
  {
   "cell_type": "markdown",
   "metadata": {
    "colab_type": "text",
    "id": "qvBwJELhfMxV"
   },
   "source": [
    "# 8. Visualize"
   ]
  },
  {
   "cell_type": "code",
   "execution_count": 19,
   "metadata": {
    "colab": {
     "base_uri": "https://localhost:8080/",
     "height": 406
    },
    "colab_type": "code",
    "executionInfo": {
     "elapsed": 1620,
     "status": "ok",
     "timestamp": 1599646197813,
     "user": {
      "displayName": "김정섭",
      "photoUrl": "",
      "userId": "03104285111645443112"
     },
     "user_tz": -540
    },
    "id": "oDLjA4ArfMxV",
    "outputId": "efe36633-ebc9-4d1f-eb05-7a032aa53c12"
   },
   "outputs": [
    {
     "data": {
      "text/plain": [
       "<matplotlib.axes._subplots.AxesSubplot at 0x7fc600fd1be0>"
      ]
     },
     "execution_count": 19,
     "metadata": {
      "tags": []
     },
     "output_type": "execute_result"
    },
    {
     "data": {
      "image/png": "[encoded data removed]",
      "text/plain": [
       "<Figure size 1080x432 with 3 Axes>"
      ]
     },
     "metadata": {
      "tags": []
     },
     "output_type": "display_data"
    }
   ],
   "source": [
    "import seaborn as sns \n",
    "import matplotlib.pyplot as plt\n",
    "\n",
    "df = load_exp_result('exp1')\n",
    "\n",
    "fig, ax = plt.subplots(1, 3)\n",
    "fig.set_size_inches(15, 6)\n",
    "sns.set_style(\"darkgrid\", {\"axes.facecolor\": \".9\"})\n",
    "\n",
    "sns.barplot(x='n_layer', y='train_acc', hue='act', data=df, ax=ax[0])\n",
    "sns.barplot(x='n_layer', y='val_acc', hue='act', data=df, ax=ax[1])\n",
    "sns.barplot(x='n_layer', y='test_acc', hue='act', data=df, ax=ax[2])"
   ]
  },
  {
   "cell_type": "code",
   "execution_count": 20,
   "metadata": {
    "colab": {
     "base_uri": "https://localhost:8080/",
     "height": 443
    },
    "colab_type": "code",
    "executionInfo": {
     "elapsed": 4488,
     "status": "ok",
     "timestamp": 1599646215221,
     "user": {
      "displayName": "김정섭",
      "photoUrl": "",
      "userId": "03104285111645443112"
     },
     "user_tz": -540
    },
    "id": "MPSnAoQofMxb",
    "outputId": "28d3af5a-29f4-43d8-b9a4-0dcd289b2947"
   },
   "outputs": [
    {
     "data": {
      "image/png": "[encoded data removed]",
      "text/plain": [
       "<Figure size 707.375x432 with 6 Axes>"
      ]
     },
     "metadata": {
      "tags": []
     },
     "output_type": "display_data"
    }
   ],
   "source": [
    "var1 = 'n_layer'\n",
    "var2 = 'act'\n",
    "\n",
    "df = load_exp_result('exp1')\n",
    "list_v1 = df[var1].unique()\n",
    "list_v2 = df[var2].unique()\n",
    "list_data = []\n",
    "\n",
    "for value1 in list_v1:\n",
    "    for value2 in list_v2:\n",
    "        row = df.loc[df[var1]==value1]\n",
    "        row = row.loc[df[var2]==value2]\n",
    "        \n",
    "        train_losses = list(row.train_losses)[0]\n",
    "        val_losses = list(row.val_losses)[0]\n",
    "        \n",
    "        for epoch, train_loss in enumerate(train_losses):\n",
    "            list_data.append({'type':'train', 'loss':train_loss, 'epoch':epoch, var1:value1, var2:value2})\n",
    "        for epoch, val_loss in enumerate(val_losses):\n",
    "            list_data.append({'type':'val', 'loss':val_loss, 'epoch':epoch, var1:value1, var2:value2})\n",
    "        \n",
    "df = pd.DataFrame(list_data)\n",
    "g = sns.FacetGrid(df, row=var2, col=var1, hue='type', margin_titles=True, sharey=False)\n",
    "g = g.map(plt.plot, 'epoch', 'loss', marker='.')\n",
    "g.add_legend()\n",
    "g.fig.suptitle('Train loss vs Val loss')\n",
    "plt.subplots_adjust(top=0.89)"
   ]
  },
  {
   "cell_type": "code",
   "execution_count": 21,
   "metadata": {
    "colab": {
     "base_uri": "https://localhost:8080/",
     "height": 443
    },
    "colab_type": "code",
    "executionInfo": {
     "elapsed": 5433,
     "status": "ok",
     "timestamp": 1599646225670,
     "user": {
      "displayName": "김정섭",
      "photoUrl": "",
      "userId": "03104285111645443112"
     },
     "user_tz": -540
    },
    "id": "RhmURDR7fMxd",
    "outputId": "4abda290-527a-4e60-9007-019b7dae5994"
   },
   "outputs": [
    {
     "data": {
      "image/png": "[encoded data removed]",
      "text/plain": [
       "<Figure size 707.375x432 with 6 Axes>"
      ]
     },
     "metadata": {
      "tags": []
     },
     "output_type": "display_data"
    }
   ],
   "source": [
    "var1 = 'n_layer'\n",
    "var2 = 'act'\n",
    "\n",
    "df = load_exp_result('exp1')\n",
    "list_v1 = df[var1].unique()\n",
    "list_v2 = df[var2].unique()\n",
    "list_data = []\n",
    "\n",
    "for value1 in list_v1:\n",
    "    for value2 in list_v2:\n",
    "        row = df.loc[df[var1]==value1]\n",
    "        row = row.loc[df[var2]==value2]\n",
    "        \n",
    "        train_accs = list(row.train_accs)[0]\n",
    "        val_accs = list(row.val_accs)[0]\n",
    "        test_acc = list(row.test_acc)[0]\n",
    "        \n",
    "        for epoch, train_acc in enumerate(train_accs):\n",
    "            list_data.append({'type':'train', 'Acc':train_acc, 'test_acc':test_acc, 'epoch':epoch, var1:value1, var2:value2})\n",
    "        for epoch, val_acc in enumerate(val_accs):\n",
    "            list_data.append({'type':'val', 'Acc':val_acc, 'test_acc':test_acc, 'epoch':epoch, var1:value1, var2:value2})\n",
    "        \n",
    "df = pd.DataFrame(list_data)\n",
    "g = sns.FacetGrid(df, row=var2, col=var1, hue='type', margin_titles=True, sharey=False)\n",
    "g = g.map(plt.plot, 'epoch', 'Acc', marker='.')\n",
    "\n",
    "def show_acc(x, y, metric, **kwargs):\n",
    "    plt.scatter(x, y, alpha=0.3, s=1)\n",
    "    metric = \"Test Acc: {:1.3f}\".format(list(metric.values)[0])\n",
    "    plt.text(0.05, 0.95, metric,  horizontalalignment='left', verticalalignment='center', transform=plt.gca().transAxes, bbox=dict(facecolor='yellow', alpha=0.5, boxstyle=\"round,pad=0.1\"))\n",
    "g = g.map(show_acc, 'epoch', 'Acc', 'test_acc')\n",
    "\n",
    "g.add_legend()\n",
    "g.fig.suptitle('Train Accuracy vs Val Accuracy')\n",
    "\n",
    "\n",
    "\n",
    "plt.subplots_adjust(top=0.89)"
   ]
  }
 ],
 "metadata": {
  "accelerator": "GPU",
  "colab": {
   "collapsed_sections": [],
   "name": "1. MLP-MNIST-exp2(n-layer,act).ipynb",
   "provenance": []
  },
  "kernelspec": {
   "display_name": "Python 3",
   "language": "python",
   "name": "python3"
  },
  "language_info": {
   "codemirror_mode": {
    "name": "ipython",
    "version": 3
   },
   "file_extension": ".py",
   "mimetype": "text/x-python",
   "name": "python",
   "nbconvert_exporter": "python",
   "pygments_lexer": "ipython3",
   "version": "3.7.4"
  },
  "widgets": {
   "application/vnd.jupyter.widget-state+json": {
    "53980509a2c147b8aff53e61f738303f": {
     "model_module": "@jupyter-widgets/controls",
     "model_name": "HBoxModel",
     "state": {
      "_dom_classes": [],
      "_model_module": "@jupyter-widgets/controls",
      "_model_module_version": "1.5.0",
      "_model_name": "HBoxModel",
      "_view_count": null,
      "_view_module": "@jupyter-widgets/controls",
      "_view_module_version": "1.5.0",
      "_view_name": "HBoxView",
      "box_style": "",
      "children": [
       "IPY_MODEL_66f3fa06754d4b52853fba01ac6580ac",
       "IPY_MODEL_61a426ba21374fb0905521f5e5f2f314"
      ],
      "layout": "IPY_MODEL_a8d581abfc334b42bd22776ad734819e"
     }
    },
    "61a426ba21374fb0905521f5e5f2f314": {
     "model_module": "@jupyter-widgets/controls",
     "model_name": "HTMLModel",
     "state": {
      "_dom_classes": [],
      "_model_module": "@jupyter-widgets/controls",
      "_model_module_version": "1.5.0",
      "_model_name": "HTMLModel",
      "_view_count": null,
      "_view_module": "@jupyter-widgets/controls",
      "_view_module_version": "1.5.0",
      "_view_name": "HTMLView",
      "description": "",
      "description_tooltip": null,
      "layout": "IPY_MODEL_afa6f6126807492991c0864dab2527ad",
      "placeholder": "​",
      "style": "IPY_MODEL_fb283c3e12494f4f80c8ac78ae1f07dc",
      "value": " 170500096/? [00:20&lt;00:00, 33810218.64it/s]"
     }
    },
    "66f3fa06754d4b52853fba01ac6580ac": {
     "model_module": "@jupyter-widgets/controls",
     "model_name": "FloatProgressModel",
     "state": {
      "_dom_classes": [],
      "_model_module": "@jupyter-widgets/controls",
      "_model_module_version": "1.5.0",
      "_model_name": "FloatProgressModel",
      "_view_count": null,
      "_view_module": "@jupyter-widgets/controls",
      "_view_module_version": "1.5.0",
      "_view_name": "ProgressView",
      "bar_style": "info",
      "description": "",
      "description_tooltip": null,
      "layout": "IPY_MODEL_c0d98c326cdb49d39c9fbddf5bbcb413",
      "max": 1,
      "min": 0,
      "orientation": "horizontal",
      "style": "IPY_MODEL_aa71872776d141c9b02c6217d38eda0d",
      "value": 1
     }
    },
    "a8d581abfc334b42bd22776ad734819e": {
     "model_module": "@jupyter-widgets/base",
     "model_name": "LayoutModel",
     "state": {
      "_model_module": "@jupyter-widgets/base",
      "_model_module_version": "1.2.0",
      "_model_name": "LayoutModel",
      "_view_count": null,
      "_view_module": "@jupyter-widgets/base",
      "_view_module_version": "1.2.0",
      "_view_name": "LayoutView",
      "align_content": null,
      "align_items": null,
      "align_self": null,
      "border": null,
      "bottom": null,
      "display": null,
      "flex": null,
      "flex_flow": null,
      "grid_area": null,
      "grid_auto_columns": null,
      "grid_auto_flow": null,
      "grid_auto_rows": null,
      "grid_column": null,
      "grid_gap": null,
      "grid_row": null,
      "grid_template_areas": null,
      "grid_template_columns": null,
      "grid_template_rows": null,
      "height": null,
      "justify_content": null,
      "justify_items": null,
      "left": null,
      "margin": null,
      "max_height": null,
      "max_width": null,
      "min_height": null,
      "min_width": null,
      "object_fit": null,
      "object_position": null,
      "order": null,
      "overflow": null,
      "overflow_x": null,
      "overflow_y": null,
      "padding": null,
      "right": null,
      "top": null,
      "visibility": null,
      "width": null
     }
    },
    "aa71872776d141c9b02c6217d38eda0d": {
     "model_module": "@jupyter-widgets/controls",
     "model_name": "ProgressStyleModel",
     "state": {
      "_model_module": "@jupyter-widgets/controls",
      "_model_module_version": "1.5.0",
      "_model_name": "ProgressStyleModel",
      "_view_count": null,
      "_view_module": "@jupyter-widgets/base",
      "_view_module_version": "1.2.0",
      "_view_name": "StyleView",
      "bar_color": null,
      "description_width": "initial"
     }
    },
    "afa6f6126807492991c0864dab2527ad": {
     "model_module": "@jupyter-widgets/base",
     "model_name": "LayoutModel",
     "state": {
      "_model_module": "@jupyter-widgets/base",
      "_model_module_version": "1.2.0",
      "_model_name": "LayoutModel",
      "_view_count": null,
      "_view_module": "@jupyter-widgets/base",
      "_view_module_version": "1.2.0",
      "_view_name": "LayoutView",
      "align_content": null,
      "align_items": null,
      "align_self": null,
      "border": null,
      "bottom": null,
      "display": null,
      "flex": null,
      "flex_flow": null,
      "grid_area": null,
      "grid_auto_columns": null,
      "grid_auto_flow": null,
      "grid_auto_rows": null,
      "grid_column": null,
      "grid_gap": null,
      "grid_row": null,
      "grid_template_areas": null,
      "grid_template_columns": null,
      "grid_template_rows": null,
      "height": null,
      "justify_content": null,
      "justify_items": null,
      "left": null,
      "margin": null,
      "max_height": null,
      "max_width": null,
      "min_height": null,
      "min_width": null,
      "object_fit": null,
      "object_position": null,
      "order": null,
      "overflow": null,
      "overflow_x": null,
      "overflow_y": null,
      "padding": null,
      "right": null,
      "top": null,
      "visibility": null,
      "width": null
     }
    },
    "c0d98c326cdb49d39c9fbddf5bbcb413": {
     "model_module": "@jupyter-widgets/base",
     "model_name": "LayoutModel",
     "state": {
      "_model_module": "@jupyter-widgets/base",
      "_model_module_version": "1.2.0",
      "_model_name": "LayoutModel",
      "_view_count": null,
      "_view_module": "@jupyter-widgets/base",
      "_view_module_version": "1.2.0",
      "_view_name": "LayoutView",
      "align_content": null,
      "align_items": null,
      "align_self": null,
      "border": null,
      "bottom": null,
      "display": null,
      "flex": null,
      "flex_flow": null,
      "grid_area": null,
      "grid_auto_columns": null,
      "grid_auto_flow": null,
      "grid_auto_rows": null,
      "grid_column": null,
      "grid_gap": null,
      "grid_row": null,
      "grid_template_areas": null,
      "grid_template_columns": null,
      "grid_template_rows": null,
      "height": null,
      "justify_content": null,
      "justify_items": null,
      "left": null,
      "margin": null,
      "max_height": null,
      "max_width": null,
      "min_height": null,
      "min_width": null,
      "object_fit": null,
      "object_position": null,
      "order": null,
      "overflow": null,
      "overflow_x": null,
      "overflow_y": null,
      "padding": null,
      "right": null,
      "top": null,
      "visibility": null,
      "width": null
     }
    },
    "fb283c3e12494f4f80c8ac78ae1f07dc": {
     "model_module": "@jupyter-widgets/controls",
     "model_name": "DescriptionStyleModel",
     "state": {
      "_model_module": "@jupyter-widgets/controls",
      "_model_module_version": "1.5.0",
      "_model_name": "DescriptionStyleModel",
      "_view_count": null,
      "_view_module": "@jupyter-widgets/base",
      "_view_module_version": "1.2.0",
      "_view_name": "StyleView",
      "description_width": ""
     }
    }
   }
  }
 },
 "nbformat": 4,
 "nbformat_minor": 1
}
