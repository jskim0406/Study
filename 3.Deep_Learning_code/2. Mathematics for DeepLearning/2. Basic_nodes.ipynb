{
 "cells": [
  {
   "cell_type": "markdown",
   "metadata": {},
   "source": [
    "### 1. plus_node"
   ]
  },
  {
   "cell_type": "code",
   "execution_count": 1,
   "metadata": {},
   "outputs": [],
   "source": [
    "class plus_node:\n",
    "    def __init__(self):\n",
    "        self._x, self._y = None, None\n",
    "        self._z = None\n",
    "        \n",
    "    def forward(self,x,y):\n",
    "        self._x, self._y = x, y\n",
    "        self._z = self._x + self._y\n",
    "        return self._z\n",
    "    \n",
    "    def backward(self,dz):\n",
    "        return dz, dz"
   ]
  },
  {
   "cell_type": "markdown",
   "metadata": {},
   "source": [
    "### 2. minus_node"
   ]
  },
  {
   "cell_type": "code",
   "execution_count": 2,
   "metadata": {},
   "outputs": [],
   "source": [
    "class minus_node:\n",
    "    def __init__(self):\n",
    "        self._x, self._y = None, None\n",
    "        self._z = None\n",
    "        \n",
    "    def forward(self,x,y):\n",
    "        self._x, self._y = x, y\n",
    "        self._z = self._x + self._y\n",
    "        return self._z\n",
    "    \n",
    "    def backward(self,dz):\n",
    "        return dz, (-1)*dz"
   ]
  },
  {
   "cell_type": "markdown",
   "metadata": {},
   "source": [
    "### 3. mul_node"
   ]
  },
  {
   "cell_type": "code",
   "execution_count": 3,
   "metadata": {},
   "outputs": [],
   "source": [
    "class mul_node:\n",
    "    def __init__(self):\n",
    "        self._x, self._y = None, None\n",
    "        self._z = None\n",
    "        \n",
    "    def forward(self,x,y):\n",
    "        self._x, self._y = x, y\n",
    "        self._z = self._x * self._y\n",
    "        return self._z\n",
    "    \n",
    "    def backward(self,dz):\n",
    "        return dz*(self._y), dz*(self._x)"
   ]
  },
  {
   "cell_type": "markdown",
   "metadata": {},
   "source": [
    "### 4. square_node"
   ]
  },
  {
   "cell_type": "code",
   "execution_count": 4,
   "metadata": {},
   "outputs": [],
   "source": [
    "class square_node:\n",
    "    def __init__(self):\n",
    "        self._x = None\n",
    "        self._z = None\n",
    "        \n",
    "    def forward(self,x,y):\n",
    "        self._x = x\n",
    "        self._z = self._x * self._x\n",
    "        return self._z\n",
    "    \n",
    "    def backward(self,dz):\n",
    "        return dz*2*self._x"
   ]
  },
  {
   "cell_type": "markdown",
   "metadata": {},
   "source": [
    "### 5. mean_node"
   ]
  },
  {
   "cell_type": "code",
   "execution_count": 5,
   "metadata": {},
   "outputs": [],
   "source": [
    "class mean_node:\n",
    "    def __init__(self):\n",
    "        self._x = None\n",
    "        self._z = None\n",
    "        \n",
    "    def forward(self,x):\n",
    "        self._x = x\n",
    "        self._z = np.mean(self._x)\n",
    "        return self._z\n",
    "    \n",
    "    def backward(self,dz):\n",
    "        dx = dz * (1/len(self._x)) * np.ones_like(self._x)"
   ]
  },
  {
   "cell_type": "markdown",
   "metadata": {},
   "source": [
    "#### np.ones_like( list ) 이해\n",
    "\n",
    "- 리스트를 받아, 그 리스트를 다 1로 채우는 것\n",
    "- np.ones_like( list )"
   ]
  },
  {
   "cell_type": "code",
   "execution_count": 15,
   "metadata": {},
   "outputs": [
    {
     "data": {
      "text/plain": [
       "array([1, 1, 1, 1, 1])"
      ]
     },
     "execution_count": 15,
     "metadata": {},
     "output_type": "execute_result"
    }
   ],
   "source": [
    "np.ones_like([1,2,3,4,5])"
   ]
  },
  {
   "cell_type": "markdown",
   "metadata": {},
   "source": [
    "### 종합 : basic_nodes"
   ]
  },
  {
   "cell_type": "code",
   "execution_count": 16,
   "metadata": {},
   "outputs": [],
   "source": [
    "class plus_node:\n",
    "    def __init__(self):\n",
    "        self._x, self._y = None, None\n",
    "        self._z = None\n",
    "        \n",
    "    def forward(self,x,y):\n",
    "        self._x, self._y = x, y\n",
    "        self._z = self._x + self._y\n",
    "        return self._z\n",
    "    \n",
    "    def backward(self,dz):\n",
    "        return dz, dz\n",
    "    \n",
    "class minus_node:\n",
    "    def __init__(self):\n",
    "        self._x, self._y = None, None\n",
    "        self._z = None\n",
    "        \n",
    "    def forward(self,x,y):\n",
    "        self._x, self._y = x, y\n",
    "        self._z = self._x + self._y\n",
    "        return self._z\n",
    "    \n",
    "    def backward(self,dz):\n",
    "        return dz, (-1)*dz\n",
    "    \n",
    "class mul_node:\n",
    "    def __init__(self):\n",
    "        self._x, self._y = None, None\n",
    "        self._z = None\n",
    "        \n",
    "    def forward(self,x,y):\n",
    "        self._x, self._y = x, y\n",
    "        self._z = self._x * self._y\n",
    "        return self._z\n",
    "    \n",
    "    def backward(self,dz):\n",
    "        return dz*(self._y), dz*(self._x)\n",
    "    \n",
    "class square_node:\n",
    "    def __init__(self):\n",
    "        self._x = None\n",
    "        self._z = None\n",
    "        \n",
    "    def forward(self,x,y):\n",
    "        self._x = x\n",
    "        self._z = self._x * self._x\n",
    "        return self._z\n",
    "    \n",
    "    def backward(self,dz):\n",
    "        return dz*2*self._x\n",
    "    \n",
    "class mean_node:\n",
    "    def __init__(self):\n",
    "        self._x = None\n",
    "        self._z = None\n",
    "        \n",
    "    def forward(self,x):\n",
    "        self._x = x\n",
    "        self._z = np.mean(self._x)\n",
    "        return self._z\n",
    "    \n",
    "    def backward(self,dz):\n",
    "        dx = dz * (1/len(self._x)) * np.ones_like(self._x)"
   ]
  }
 ],
 "metadata": {
  "kernelspec": {
   "display_name": "Python 3",
   "language": "python",
   "name": "python3"
  },
  "language_info": {
   "codemirror_mode": {
    "name": "ipython",
    "version": 3
   },
   "file_extension": ".py",
   "mimetype": "text/x-python",
   "name": "python",
   "nbconvert_exporter": "python",
   "pygments_lexer": "ipython3",
   "version": "3.7.4"
  }
 },
 "nbformat": 4,
 "nbformat_minor": 4
}
