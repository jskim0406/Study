{
 "cells": [
  {
   "cell_type": "markdown",
   "metadata": {},
   "source": [
    "# 1. Python review"
   ]
  },
  {
   "cell_type": "markdown",
   "metadata": {},
   "source": [
    "### 1. List는 ndarray와 달리 element-wise 연산을 제공하지 않는다. (벡터 연산은 ndarray로 numpy로 실시)"
   ]
  },
  {
   "cell_type": "code",
   "execution_count": 1,
   "metadata": {},
   "outputs": [
    {
     "data": {
      "text/plain": [
       "[1, 2, 3, 10, 20, 30]"
      ]
     },
     "execution_count": 1,
     "metadata": {},
     "output_type": "execute_result"
    }
   ],
   "source": [
    "a = [1,2,3]\n",
    "b = [10,20,30]\n",
    "a+b"
   ]
  },
  {
   "cell_type": "markdown",
   "metadata": {},
   "source": [
    "### 2. [-3:] 의 의미"
   ]
  },
  {
   "cell_type": "code",
   "execution_count": 2,
   "metadata": {},
   "outputs": [
    {
     "data": {
      "text/plain": [
       "'txt'"
      ]
     },
     "execution_count": 2,
     "metadata": {},
     "output_type": "execute_result"
    }
   ],
   "source": [
    "a_ = 'abcde.txt'\n",
    "a_[-3:]"
   ]
  },
  {
   "cell_type": "markdown",
   "metadata": {},
   "source": [
    "### 3. list는 거의 모든 data type을 element로 가질 수 있다. 심지어 class도"
   ]
  },
  {
   "cell_type": "code",
   "execution_count": 3,
   "metadata": {},
   "outputs": [
    {
     "data": {
      "text/plain": [
       "[1, 2, 3, __main__.temp]"
      ]
     },
     "execution_count": 3,
     "metadata": {},
     "output_type": "execute_result"
    }
   ],
   "source": [
    "class temp():\n",
    "    pass\n",
    "\n",
    "a__ = [1,2,3,temp]\n",
    "a__"
   ]
  },
  {
   "cell_type": "markdown",
   "metadata": {},
   "source": [
    "### 4. list comprehension\n",
    "\n",
    "- list comprehension은 하는 일이 1가지 뿐 : 리스트를 만드는 것.\n",
    "- 따라서, list comprehension이 훨씬 더 명확함. 협업 시 상대방이 읽는 입장에서 더 명확하게 이해 가능"
   ]
  },
  {
   "cell_type": "code",
   "execution_count": 4,
   "metadata": {},
   "outputs": [
    {
     "data": {
      "text/plain": [
       "[0, 1, 2, 3, 4, 5, 6, 7, 8, 9]"
      ]
     },
     "execution_count": 4,
     "metadata": {},
     "output_type": "execute_result"
    }
   ],
   "source": [
    "a = [i for i in range(10)]\n",
    "a"
   ]
  },
  {
   "cell_type": "markdown",
   "metadata": {},
   "source": [
    "# 2. For loop, If statement"
   ]
  },
  {
   "cell_type": "markdown",
   "metadata": {},
   "source": [
    "### 1. For loop 시, 반복 횟수를 explicit한 숫자로 적는 일은 갈수록 줄어들 것"
   ]
  },
  {
   "cell_type": "code",
   "execution_count": 5,
   "metadata": {},
   "outputs": [
    {
     "name": "stdout",
     "output_type": "stream",
     "text": [
      "10\n",
      "11\n",
      "12\n",
      "13\n",
      "14\n",
      "15\n",
      "16\n",
      "17\n",
      "18\n",
      "19\n"
     ]
    }
   ],
   "source": [
    "temp_list = [i+10 for i in range(10)]\n",
    "\n",
    "for data_index in range(10):\n",
    "    print(temp_list[data_index])"
   ]
  },
  {
   "cell_type": "markdown",
   "metadata": {},
   "source": [
    "#### range(10) 이 아니라, range( len(temp_list) )로 해줘야, temp_list변동 시, 일일이 바꿔줘야 하는 수고로움 덜 수 있다"
   ]
  },
  {
   "cell_type": "code",
   "execution_count": 7,
   "metadata": {},
   "outputs": [
    {
     "name": "stdout",
     "output_type": "stream",
     "text": [
      "0 10\n",
      "1 11\n",
      "2 12\n",
      "3 13\n",
      "4 14\n",
      "5 15\n",
      "6 16\n",
      "7 17\n",
      "8 18\n",
      "9 19\n"
     ]
    }
   ],
   "source": [
    "temp_list = [i+10 for i in range(10)]\n",
    "\n",
    "for data_index in range(len(temp_list)):\n",
    "    print(data_index,temp_list[data_index])"
   ]
  },
  {
   "cell_type": "markdown",
   "metadata": {},
   "source": [
    "### 2. enumerate"
   ]
  },
  {
   "cell_type": "code",
   "execution_count": 8,
   "metadata": {},
   "outputs": [
    {
     "name": "stdout",
     "output_type": "stream",
     "text": [
      "0 10\n",
      "1 11\n",
      "2 12\n",
      "3 13\n",
      "4 14\n",
      "5 15\n",
      "6 16\n",
      "7 17\n",
      "8 18\n",
      "9 19\n"
     ]
    }
   ],
   "source": [
    "temp_list = [i+10 for i in range(10)]\n",
    "\n",
    "for index, data in enumerate(temp_list):\n",
    "    print(index, data)"
   ]
  },
  {
   "cell_type": "markdown",
   "metadata": {},
   "source": [
    "### 3. Practice : 최대값 / 최소값 찾기"
   ]
  },
  {
   "cell_type": "markdown",
   "metadata": {},
   "source": [
    "#### 잘못된 코드"
   ]
  },
  {
   "cell_type": "code",
   "execution_count": 12,
   "metadata": {},
   "outputs": [
    {
     "name": "stdout",
     "output_type": "stream",
     "text": [
      "[0, 1, 2, 3, 4, 5, 6, 7, 8, 9]\n",
      "9\n"
     ]
    }
   ],
   "source": [
    "temp_list = [i for i in range(10)]\n",
    "\n",
    "maximum = 0\n",
    "for data in temp_list:\n",
    "    if maximum < data:\n",
    "        maximum = data\n",
    "print(temp_list)\n",
    "print(maximum)    "
   ]
  },
  {
   "cell_type": "code",
   "execution_count": 16,
   "metadata": {},
   "outputs": [
    {
     "name": "stdout",
     "output_type": "stream",
     "text": [
      "[-100, -99, -98, -97, -96, -95, -94, -93, -92, -91]\n",
      "0\n"
     ]
    }
   ],
   "source": [
    "# 최초 maximum을 0으로 잡아놓으면, 대상 데이터가 (-)음수일 경우, 최초의 maximum인 0 자체가 maximum이라 갱신되지 않는 문제가 발생함\n",
    "\n",
    "temp_list = [i-100 for i in range(10)]\n",
    "\n",
    "maximum = 0\n",
    "for data in temp_list:\n",
    "    if maximum < data:\n",
    "        maximum = data\n",
    "print(temp_list)\n",
    "print(maximum)    "
   ]
  },
  {
   "cell_type": "markdown",
   "metadata": {},
   "source": [
    "#### 제대로 된 코드"
   ]
  },
  {
   "cell_type": "code",
   "execution_count": 18,
   "metadata": {},
   "outputs": [
    {
     "name": "stdout",
     "output_type": "stream",
     "text": [
      "[-100, -99, -98, -97, -96, -95, -94, -93, -92, -91]\n",
      "-91\n"
     ]
    }
   ],
   "source": [
    "# 최초 maximum을 None으로 잡고, 최초 maximum을 음수 데이터로 잡아주면, 그 후 다시 그 음수 범위 안에서 제대로 작동을 시작함\n",
    "\n",
    "temp_list = [i-100 for i in range(10)]\n",
    "\n",
    "maximum = None ## 여기가 중요\n",
    "for data in temp_list:\n",
    "    if maximum == None or maximum < data:\n",
    "        maximum = data\n",
    "print(temp_list)\n",
    "print(maximum)"
   ]
  },
  {
   "cell_type": "markdown",
   "metadata": {},
   "source": [
    "#### 잘못된 코드 : integer와 None은 < > operation 지원 안함"
   ]
  },
  {
   "cell_type": "code",
   "execution_count": 20,
   "metadata": {},
   "outputs": [
    {
     "ename": "TypeError",
     "evalue": "'<' not supported between instances of 'NoneType' and 'int'",
     "output_type": "error",
     "traceback": [
      "\u001b[0;31m---------------------------------------------------------------------------\u001b[0m",
      "\u001b[0;31mTypeError\u001b[0m                                 Traceback (most recent call last)",
      "\u001b[0;32m<ipython-input-20-1aacac835d40>\u001b[0m in \u001b[0;36m<module>\u001b[0;34m\u001b[0m\n\u001b[1;32m      5\u001b[0m \u001b[0mmaximum\u001b[0m \u001b[0;34m=\u001b[0m \u001b[0;32mNone\u001b[0m \u001b[0;31m## 여기가 중요\u001b[0m\u001b[0;34m\u001b[0m\u001b[0;34m\u001b[0m\u001b[0m\n\u001b[1;32m      6\u001b[0m \u001b[0;32mfor\u001b[0m \u001b[0mdata\u001b[0m \u001b[0;32min\u001b[0m \u001b[0mtemp_list\u001b[0m\u001b[0;34m:\u001b[0m\u001b[0;34m\u001b[0m\u001b[0;34m\u001b[0m\u001b[0m\n\u001b[0;32m----> 7\u001b[0;31m     \u001b[0;32mif\u001b[0m \u001b[0mmaximum\u001b[0m \u001b[0;34m<\u001b[0m \u001b[0mdata\u001b[0m \u001b[0;32mor\u001b[0m \u001b[0mmaximum\u001b[0m \u001b[0;34m==\u001b[0m \u001b[0;32mNone\u001b[0m\u001b[0;34m:\u001b[0m \u001b[0;31m#최초의 maximum이 None이므로, < 연산이 해당 안됨\u001b[0m\u001b[0;34m\u001b[0m\u001b[0;34m\u001b[0m\u001b[0m\n\u001b[0m\u001b[1;32m      8\u001b[0m         \u001b[0mmaximum\u001b[0m \u001b[0;34m=\u001b[0m \u001b[0mdata\u001b[0m\u001b[0;34m\u001b[0m\u001b[0;34m\u001b[0m\u001b[0m\n\u001b[1;32m      9\u001b[0m \u001b[0mprint\u001b[0m\u001b[0;34m(\u001b[0m\u001b[0mtemp_list\u001b[0m\u001b[0;34m)\u001b[0m\u001b[0;34m\u001b[0m\u001b[0;34m\u001b[0m\u001b[0m\n",
      "\u001b[0;31mTypeError\u001b[0m: '<' not supported between instances of 'NoneType' and 'int'"
     ]
    }
   ],
   "source": [
    "# 최초 maximum을 None으로 잡고, 최초 maximum을 음수 데이터로 잡아주면, 그 후 다시 그 음수 범위 안에서 제대로 작동을 시작함\n",
    "\n",
    "temp_list = [i-100 for i in range(10)]\n",
    "\n",
    "maximum = None ## 여기가 중요\n",
    "for data in temp_list:\n",
    "    if maximum < data or maximum == None: #최초의 maximum이 None이므로, < 연산이 해당 안됨\n",
    "        maximum = data\n",
    "print(temp_list)\n",
    "print(maximum)"
   ]
  },
  {
   "cell_type": "markdown",
   "metadata": {},
   "source": [
    "### 4. if / elif / else 중 else는 예외처리 용도로 많이 사용됨"
   ]
  },
  {
   "cell_type": "code",
   "execution_count": 25,
   "metadata": {},
   "outputs": [
    {
     "name": "stdout",
     "output_type": "stream",
     "text": [
      "Invalid score\n",
      "[10, 10, 70]\n"
     ]
    }
   ],
   "source": [
    "score_list = [(i+10) for i in range(90)] + [-1]\n",
    "\n",
    "grade_list = [0,0,0]\n",
    "\n",
    "for score in score_list:\n",
    "    if score>=90 and score<100:\n",
    "        grade_list[0] += 1\n",
    "        \n",
    "    elif score>=80 and score<90:\n",
    "        grade_list[1] += 1\n",
    "        \n",
    "    elif score<80 and score>=0:\n",
    "        grade_list[2] += 1\n",
    "        \n",
    "    else:\n",
    "        print(\"Invalid score\")\n",
    "\n",
    "print(grade_list)"
   ]
  },
  {
   "cell_type": "markdown",
   "metadata": {},
   "source": [
    "# 3. Dictionary"
   ]
  },
  {
   "cell_type": "markdown",
   "metadata": {},
   "source": [
    "### 1. key-value 페어\n",
    "\n",
    "dict.key(a,b) : a라는 키가 dict안에 없으면, b를 return 해줘라"
   ]
  },
  {
   "cell_type": "markdown",
   "metadata": {},
   "source": [
    "# 4. Class"
   ]
  },
  {
   "cell_type": "markdown",
   "metadata": {},
   "source": [
    "### 1. Initializer(생성자x), Instanciation\n",
    "\n",
    "    - instanciation시, 바로 실행되는 게 class 내 initializer(__init__)"
   ]
  },
  {
   "cell_type": "markdown",
   "metadata": {},
   "source": [
    "### 1-1. instance variable\n",
    "\n",
    "    - self.x, self.y 처럼, tmp객체(instance)가 갖는 variable\n",
    "    - class 내에서 instance variable(self.x, self.y)은 공유가능!"
   ]
  },
  {
   "cell_type": "code",
   "execution_count": 27,
   "metadata": {},
   "outputs": [
    {
     "name": "stdout",
     "output_type": "stream",
     "text": [
      "10 20\n"
     ]
    }
   ],
   "source": [
    "class test_class():\n",
    "    def __init__(self,x,y):\n",
    "        self.x = x\n",
    "        self.y = y\n",
    "        \n",
    "tmp = test_class(10,20)\n",
    "print(tmp.x,tmp.y)"
   ]
  },
  {
   "cell_type": "markdown",
   "metadata": {},
   "source": [
    "### 1-2. class variable\n",
    "\n",
    "    - class 전체가 공유하는 variable"
   ]
  },
  {
   "cell_type": "code",
   "execution_count": 34,
   "metadata": {},
   "outputs": [
    {
     "name": "stdout",
     "output_type": "stream",
     "text": [
      "10 20 1\n"
     ]
    }
   ],
   "source": [
    "class node:\n",
    "    \n",
    "    # node_cnt가 class variable이다. self로 정의되는 instance가 특정해 갖는 게 아닌,\n",
    "    # class 전체에서 공유되는 variable\n",
    "    # instance를 통해 정의할 수 없음\n",
    "    # 여러 instance들이 공유할 수 있음\n",
    "    node_cnt = 0\n",
    "    \n",
    "    def __init__(self,x,y):\n",
    "        self.x, self.y = x, y\n",
    "        \n",
    "        node.node_cnt += 1\n",
    "\n",
    "node1 = node(10,20) # node1.x = 10, node1.y = 20, node1.node_cnt = 1\n",
    "print(node1.x,node1.y,node1.node_cnt)"
   ]
  },
  {
   "cell_type": "markdown",
   "metadata": {},
   "source": [
    "# 5. Dataset generator"
   ]
  },
  {
   "cell_type": "markdown",
   "metadata": {},
   "source": [
    "### 1) y = x + 1 \n",
    "\n",
    "- x는 normal distribution"
   ]
  },
  {
   "cell_type": "code",
   "execution_count": 3,
   "metadata": {},
   "outputs": [],
   "source": [
    "%matplotlib inline"
   ]
  },
  {
   "cell_type": "code",
   "execution_count": 9,
   "metadata": {},
   "outputs": [
    {
     "name": "stdout",
     "output_type": "stream",
     "text": [
      "(100, 1) (100, 1)\n"
     ]
    },
    {
     "data": {
      "image/png": "[encoded data removed]",
      "text/plain": [
       "<Figure size 720x720 with 1 Axes>"
      ]
     },
     "metadata": {},
     "output_type": "display_data"
    }
   ],
   "source": [
    "N = 100\n",
    "x_data = np.random.normal(0,1,size=(N,1))\n",
    "y_data = x_data + 1\n",
    "\n",
    "plt.style.use(\"seaborn\")\n",
    "fig, ax = plt.subplots(figsize=(10,10))\n",
    "ax.plot(x_data,y_data,'bo')\n",
    "print(x_data.shape,y_data.shape)"
   ]
  },
  {
   "cell_type": "markdown",
   "metadata": {},
   "source": [
    "### 2) y = x + 1 + noise \n",
    "\n",
    "- x, noise는 normal distribution"
   ]
  },
  {
   "cell_type": "code",
   "execution_count": 11,
   "metadata": {},
   "outputs": [
    {
     "name": "stdout",
     "output_type": "stream",
     "text": [
      "(100, 1) (100, 1)\n"
     ]
    },
    {
     "data": {
      "image/png": "[encoded data removed]",
      "text/plain": [
       "<Figure size 720x720 with 1 Axes>"
      ]
     },
     "metadata": {},
     "output_type": "display_data"
    }
   ],
   "source": [
    "N = 100\n",
    "x_data = np.random.normal(0,1,size=(N,1))\n",
    "y_data = x_data + 1 + 0.2*np.random.normal(0,1,size=(N,1))\n",
    "\n",
    "plt.style.use(\"seaborn\")\n",
    "fig, ax = plt.subplots(figsize=(10,10))\n",
    "ax.plot(x_data,y_data,'bo')\n",
    "print(x_data.shape,y_data.shape)"
   ]
  },
  {
   "cell_type": "markdown",
   "metadata": {},
   "source": [
    "### 3) y = x1 + noise\n"
   ]
  },
  {
   "cell_type": "code",
   "execution_count": 27,
   "metadata": {},
   "outputs": [
    {
     "name": "stdout",
     "output_type": "stream",
     "text": [
      "(200, 1) (200, 1)\n"
     ]
    },
    {
     "data": {
      "image/png": "[encoded data removed]",
      "text/plain": [
       "<Figure size 720x720 with 1 Axes>"
      ]
     },
     "metadata": {},
     "output_type": "display_data"
    }
   ],
   "source": [
    "class dataset_generator:\n",
    "    def __init__(self,n_sample=100,noise=0):\n",
    "        self._n_sample = n_sample\n",
    "        self._noise = noise\n",
    "        \n",
    "    def make_dataset(self):\n",
    "        x_data = np.random.normal(0,1,size=(self._n_sample,1))\n",
    "        y_data = x_data + self._noise*np.random.normal(0,1,size=(self._n_sample,1))\n",
    "        \n",
    "        return x_data,y_data\n",
    "    \n",
    "data_gen = dataset_generator(n_sample=200,noise=0.3)\n",
    "x_data, y_data = data_gen.make_dataset()\n",
    "\n",
    "plt.style.use(\"seaborn\")\n",
    "fig, ax = plt.subplots(figsize=(10,10))\n",
    "ax.plot(x_data,y_data,'bo')\n",
    "print(x_data.shape,y_data.shape)"
   ]
  },
  {
   "cell_type": "code",
   "execution_count": 28,
   "metadata": {},
   "outputs": [
    {
     "name": "stdout",
     "output_type": "stream",
     "text": [
      "(200, 1) (200, 1)\n"
     ]
    }
   ],
   "source": [
    "print(x_data.shape,y_data.shape)"
   ]
  },
  {
   "cell_type": "markdown",
   "metadata": {},
   "source": [
    "### 3) y = x1 +  ...  + bias + noise\n",
    "\n",
    "- feature dimension 추가\n",
    "- coefficient 추가 (계수는 1, bias 는 0으로 초기값 지정)\n"
   ]
  },
  {
   "cell_type": "code",
   "execution_count": 30,
   "metadata": {},
   "outputs": [
    {
     "name": "stdout",
     "output_type": "stream",
     "text": [
      "[1, 1, 1, 0]\n"
     ]
    }
   ],
   "source": [
    "class dataset_generator:\n",
    "    def __init__(self,feature_dim = 1,n_sample=100,noise=0):\n",
    "        self._n_sample = n_sample\n",
    "        self._noise = noise\n",
    "        self._feature_dim = feature_dim\n",
    "        \n",
    "        self._coefficient = None\n",
    "        self._init_set_coefficient()\n",
    "        \n",
    "    def _init_set_coefficient(self):\n",
    "        self._coefficient = [1 for _ in range(self._feature_dim)] + [0]\n",
    "        print(self._coefficient)\n",
    "        \n",
    "    def make_dataset(self):\n",
    "        x_data = np.random.normal(0,1,size=(self._n_sample,1))\n",
    "        y_data = x_data + self._noise*np.random.normal(0,1,size=(self._n_sample,1))\n",
    "        \n",
    "        return x_data,y_data\n",
    "    \n",
    "data_gen = dataset_generator(feature_dim=3,n_sample=200,noise=0.3)\n",
    "# x_data, y_data = data_gen.make_dataset()\n",
    "\n",
    "# plt.style.use(\"seaborn\")\n",
    "# fig, ax = plt.subplots(figsize=(10,10))\n",
    "# ax.plot(x_data,y_data,'bo')\n",
    "# print(x_data.shape,y_data.shape)"
   ]
  },
  {
   "cell_type": "markdown",
   "metadata": {},
   "source": [
    "### 4) y = x1 +  ...  + bias + noise\n",
    "\n",
    "- 사용자를 위한 함수 세팅\n",
    "    - 1) set_n_sample"
   ]
  },
  {
   "cell_type": "code",
   "execution_count": 34,
   "metadata": {},
   "outputs": [
    {
     "name": "stdout",
     "output_type": "stream",
     "text": [
      "[1, 1, 1, 0]\n",
      "100\n",
      "200\n"
     ]
    }
   ],
   "source": [
    "class dataset_generator:\n",
    "    def __init__(self,feature_dim = 1,n_sample=100,noise=0):\n",
    "        self._n_sample = n_sample\n",
    "        self._noise = noise\n",
    "        self._feature_dim = feature_dim\n",
    "        \n",
    "        self._coefficient = None\n",
    "        self._init_set_coefficient()\n",
    "        \n",
    "    def _init_set_coefficient(self):\n",
    "        self._coefficient = [1 for _ in range(self._feature_dim)] + [0]\n",
    "        print(self._coefficient)\n",
    "        \n",
    "    def set_n_sample(self,n_sample):\n",
    "        self._n_sample = n_sample\n",
    "        \n",
    "#     def make_dataset(self):\n",
    "#         x_data = np.random.normal(0,1,size=(self._n_sample,1))\n",
    "#         y_data = x_data + self._noise*np.random.normal(0,1,size=(self._n_sample,1))\n",
    "        \n",
    "#         return x_data,y_data\n",
    "    \n",
    "data_gen = dataset_generator(feature_dim=3,noise=0.3)\n",
    "print(data_gen._n_sample)\n",
    "data_gen.set_n_sample(200)\n",
    "print(data_gen._n_sample)"
   ]
  },
  {
   "cell_type": "markdown",
   "metadata": {},
   "source": [
    "### 4) y = x1 +  ...  + bias + noise\n",
    "\n",
    "- 사용자를 위한 함수 세팅\n",
    "\n",
    "    - 2) set_noise\n",
    "    - 3) set_coefficient"
   ]
  },
  {
   "cell_type": "code",
   "execution_count": 37,
   "metadata": {},
   "outputs": [
    {
     "name": "stdout",
     "output_type": "stream",
     "text": [
      "[1, 1, 1, 0]\n",
      "[2, -1, 3, 5]\n"
     ]
    }
   ],
   "source": [
    "class dataset_generator:\n",
    "    def __init__(self,feature_dim = 1,n_sample=100,noise=0):\n",
    "        self._n_sample = n_sample\n",
    "        self._noise = noise\n",
    "        self._feature_dim = feature_dim\n",
    "        \n",
    "        self._coefficient = None\n",
    "        self._init_set_coefficient()\n",
    "        \n",
    "    def _init_set_coefficient(self):\n",
    "        self._coefficient = [1 for _ in range(self._feature_dim)] + [0]\n",
    "        \n",
    "    def set_n_sample(self,n_sample):\n",
    "        self._n_sample = n_sample\n",
    "        \n",
    "    def set_noise(sefl,noise):\n",
    "        self._noise = noise\n",
    "\n",
    "    def set_coefficient(self,coefficient_list):\n",
    "        self._coefficient = coefficient_list        \n",
    "        \n",
    "        \n",
    "#     def make_dataset(self):\n",
    "#         x_data = np.random.normal(0,1,size=(self._n_sample,1))\n",
    "#         y_data = x_data + self._noise*np.random.normal(0,1,size=(self._n_sample,1))\n",
    "        \n",
    "#         return x_data,y_data\n",
    "    \n",
    "data_gen = dataset_generator(feature_dim=3)\n",
    "print(data_gen._coefficient)\n",
    "data_gen.set_coefficient([2,-1,3,5])\n",
    "print(data_gen._coefficient)"
   ]
  },
  {
   "cell_type": "markdown",
   "metadata": {},
   "source": [
    "#### 지금까지 data_gen 객체의 메소드 설정\n",
    "    - feature_dim 파라미터 설정 가능\n",
    "    - set_n_sample 메소드\n",
    "    - set_noise 메소드\n",
    "    - set_coefficient 메소드\n",
    "    \n",
    "#### 이제 이러한 메소드를 활용해 'def make_dataset( )' 생성 차례"
   ]
  },
  {
   "cell_type": "code",
   "execution_count": 65,
   "metadata": {},
   "outputs": [
    {
     "name": "stdout",
     "output_type": "stream",
     "text": [
      "(100, 3) (100, 1)\n"
     ]
    }
   ],
   "source": [
    "class dataset_generator:\n",
    "    def __init__(self,feature_dim = 1,n_sample=100,noise=0):\n",
    "        self._n_sample = n_sample\n",
    "        self._noise = noise\n",
    "        self._feature_dim = feature_dim\n",
    "        \n",
    "        self._coefficient = None\n",
    "        self._init_set_coefficient()\n",
    "        \n",
    "    def _init_set_coefficient(self):\n",
    "        self._coefficient = [1 for _ in range(self._feature_dim)] + [0]\n",
    "        \n",
    "    def set_n_sample(self,n_sample):\n",
    "        self._n_sample = n_sample\n",
    "        \n",
    "    def set_noise(sefl,noise):\n",
    "        self._noise = noise\n",
    "\n",
    "    def set_coefficient(self,coefficient_list):\n",
    "        self._coefficient = coefficient_list        \n",
    "        \n",
    "        \n",
    "    def make_dataset(self):\n",
    "        x_data = np.random.normal(0,1,size=(self._n_sample,self._feature_dim))\n",
    "        \n",
    "        y_data = np.zeros(shape=(self._n_sample,1))\n",
    "        \n",
    "        for feature_idx in range(self._feature_dim):\n",
    "            # .reshape(-1,1) 을 붙이지 않으면, x_data가 (100,) 로 됨. \n",
    "            # .reshape(-1,1) 붙여서 (100,1)이 되어야 x_data에 broadcasting 가능\n",
    "            y_data += self._coefficient[feature_idx]*x_data[:,feature_idx].reshape(-1,1)\n",
    "            \n",
    "        # bias 붙이기 (y_data에)\n",
    "        y_data += self._coefficient[-1]\n",
    "        # nosie 붙이기 (y_data에)\n",
    "        y_data += self._noise * np.random.normal(0,1,size=(self._n_sample,1))\n",
    "            \n",
    "        return x_data,y_data\n",
    "    \n",
    "    \n",
    "data_gen = dataset_generator(feature_dim=3)\n",
    "data_gen.set_coefficient([2,-1,3,5])\n",
    "x_data,y_data = data_gen.make_dataset()\n",
    "print(x_data.shape,y_data.shape)\n"
   ]
  },
  {
   "cell_type": "markdown",
   "metadata": {},
   "source": [
    "#### visualizer 메소드 생성"
   ]
  },
  {
   "cell_type": "code",
   "execution_count": 66,
   "metadata": {
    "scrolled": true
   },
   "outputs": [
    {
     "ename": "feature_dim_error",
     "evalue": "Visualization is valid for only feature_dim == 1",
     "output_type": "error",
     "traceback": [
      "\u001b[0;31m---------------------------------------------------------------------------\u001b[0m",
      "\u001b[0;31mfeature_dim_error\u001b[0m                         Traceback (most recent call last)",
      "\u001b[0;32m<ipython-input-66-36df7a6dddac>\u001b[0m in \u001b[0;36m<module>\u001b[0;34m\u001b[0m\n\u001b[1;32m     50\u001b[0m \u001b[0mdata_gen\u001b[0m\u001b[0;34m.\u001b[0m\u001b[0mset_coefficient\u001b[0m\u001b[0;34m(\u001b[0m\u001b[0;34m[\u001b[0m\u001b[0;36m2\u001b[0m\u001b[0;34m,\u001b[0m\u001b[0;34m-\u001b[0m\u001b[0;36m1\u001b[0m\u001b[0;34m,\u001b[0m\u001b[0;36m3\u001b[0m\u001b[0;34m,\u001b[0m\u001b[0;36m5\u001b[0m\u001b[0;34m]\u001b[0m\u001b[0;34m)\u001b[0m\u001b[0;34m\u001b[0m\u001b[0;34m\u001b[0m\u001b[0m\n\u001b[1;32m     51\u001b[0m \u001b[0mx_data\u001b[0m\u001b[0;34m,\u001b[0m\u001b[0my_data\u001b[0m \u001b[0;34m=\u001b[0m \u001b[0mdata_gen\u001b[0m\u001b[0;34m.\u001b[0m\u001b[0mmake_dataset\u001b[0m\u001b[0;34m(\u001b[0m\u001b[0;34m)\u001b[0m\u001b[0;34m\u001b[0m\u001b[0;34m\u001b[0m\u001b[0m\n\u001b[0;32m---> 52\u001b[0;31m \u001b[0mdata_gen\u001b[0m\u001b[0;34m.\u001b[0m\u001b[0mdataset_visualizer\u001b[0m\u001b[0;34m(\u001b[0m\u001b[0;34m)\u001b[0m\u001b[0;34m\u001b[0m\u001b[0;34m\u001b[0m\u001b[0m\n\u001b[0m",
      "\u001b[0;32m<ipython-input-66-36df7a6dddac>\u001b[0m in \u001b[0;36mdataset_visualizer\u001b[0;34m(self)\u001b[0m\n\u001b[1;32m     44\u001b[0m             \u001b[0;32mclass\u001b[0m \u001b[0mfeature_dim_error\u001b[0m\u001b[0;34m(\u001b[0m\u001b[0mException\u001b[0m\u001b[0;34m)\u001b[0m\u001b[0;34m:\u001b[0m\u001b[0;34m\u001b[0m\u001b[0;34m\u001b[0m\u001b[0m\n\u001b[1;32m     45\u001b[0m                 \u001b[0;32mpass\u001b[0m\u001b[0;34m\u001b[0m\u001b[0;34m\u001b[0m\u001b[0m\n\u001b[0;32m---> 46\u001b[0;31m             \u001b[0;32mraise\u001b[0m \u001b[0mfeature_dim_error\u001b[0m\u001b[0;34m(\u001b[0m\u001b[0;34m\"Visualization is valid for only feature_dim == 1\"\u001b[0m\u001b[0;34m)\u001b[0m\u001b[0;34m\u001b[0m\u001b[0;34m\u001b[0m\u001b[0m\n\u001b[0m\u001b[1;32m     47\u001b[0m \u001b[0;34m\u001b[0m\u001b[0m\n\u001b[1;32m     48\u001b[0m \u001b[0;34m\u001b[0m\u001b[0m\n",
      "\u001b[0;31mfeature_dim_error\u001b[0m: Visualization is valid for only feature_dim == 1"
     ]
    }
   ],
   "source": [
    "class dataset_generator:\n",
    "    def __init__(self,feature_dim = 1,n_sample=100,noise=0):\n",
    "        self._n_sample = n_sample\n",
    "        self._noise = noise\n",
    "        self._feature_dim = feature_dim\n",
    "        \n",
    "        self._coefficient = None\n",
    "        self._init_set_coefficient()\n",
    "        \n",
    "    def _init_set_coefficient(self):\n",
    "        self._coefficient = [1 for _ in range(self._feature_dim)] + [0]\n",
    "        \n",
    "    def set_n_sample(self,n_sample):\n",
    "        self._n_sample = n_sample\n",
    "        \n",
    "    def set_noise(sefl,noise):\n",
    "        self._noise = noise\n",
    "\n",
    "    def set_coefficient(self,coefficient_list):\n",
    "        self._coefficient = coefficient_list        \n",
    "        \n",
    "        \n",
    "    def make_dataset(self):\n",
    "        x_data = np.random.normal(0,1,size=(self._n_sample,self._feature_dim))\n",
    "        \n",
    "        y_data = np.zeros(shape=(self._n_sample,1))\n",
    "        \n",
    "        for feature_idx in range(self._feature_dim):\n",
    "            # .reshape(-1,1) 을 붙이지 않으면, x_data가 (100,) 로 됨. \n",
    "            # .reshape(-1,1) 붙여서 (100,1)이 되어야 x_data에 broadcasting 가능\n",
    "            y_data += self._coefficient[feature_idx]*x_data[:,feature_idx].reshape(-1,1)\n",
    "            \n",
    "        # bias 붙이기 (y_data에)\n",
    "        y_data += self._coefficient[-1]\n",
    "        # nosie 붙이기 (y_data에)\n",
    "        y_data += self._noise * np.random.normal(0,1,size=(self._n_sample,1))\n",
    "            \n",
    "        return x_data,y_data\n",
    "    \n",
    "    def dataset_visualizer(self):\n",
    "        if self._feature_dim == 1:\n",
    "            pass\n",
    "        else:\n",
    "            class feature_dim_error(Exception):\n",
    "                pass\n",
    "            raise feature_dim_error(\"Visualization is valid for only feature_dim == 1\")\n",
    "        \n",
    "\n",
    "data_gen = dataset_generator(feature_dim=3)\n",
    "data_gen.set_coefficient([2,-1,3,5])\n",
    "x_data,y_data = data_gen.make_dataset()\n",
    "data_gen.dataset_visualizer()\n"
   ]
  }
 ],
 "metadata": {
  "kernelspec": {
   "display_name": "Python 3",
   "language": "python",
   "name": "python3"
  },
  "language_info": {
   "codemirror_mode": {
    "name": "ipython",
    "version": 3
   },
   "file_extension": ".py",
   "mimetype": "text/x-python",
   "name": "python",
   "nbconvert_exporter": "python",
   "pygments_lexer": "ipython3",
   "version": "3.7.4"
  }
 },
 "nbformat": 4,
 "nbformat_minor": 4
}
