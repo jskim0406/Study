{
 "cells": [
  {
   "cell_type": "code",
   "execution_count": 1,
   "metadata": {},
   "outputs": [],
   "source": [
    "import torch"
   ]
  },
  {
   "cell_type": "markdown",
   "metadata": {},
   "source": [
    "# 1. PyTorch Tensor Shape Convention"
   ]
  },
  {
   "cell_type": "markdown",
   "metadata": {},
   "source": [
    "## 1) 2-D tensor convention\n",
    "\n",
    "$$|t| = (batchsize, dim)$$\n",
    "\n",
    "- 행의 크기 : batch-size\n",
    "- 열의 크기 : dim"
   ]
  },
  {
   "cell_type": "markdown",
   "metadata": {},
   "source": [
    "- ex) 2x3 텐서라면, 파이토치에선 |t| = (2,3) = (batch size = 2, dim = 3) 이라 표현한다.\n",
    "\n",
    "```\n",
    "만약,\n",
    "\n",
    "데이터 갯수 : 3,000\n",
    "데이터의 feature 수 : 256\n",
    "\n",
    "matrix = (3000, 256) ==>> batch-size = 3,000, dim = 256\n",
    "\n",
    "하지만,\n",
    "**컴퓨터는 보통 데이터를 하나씩 보다는 묶어서 한번에 처리하는 경우가 많음**\n",
    "데이터를 한 번에 30개씩 묶어서 처리한다면(batch-size)\n",
    "컴퓨터가 한번에 처리하는 텐서의 사이즈는\n",
    "\n",
    "|t| = (30,256) ==>> batch-size = 30, dim = 256\n",
    "\n",
    "이 된다.\n",
    "```"
   ]
  },
  {
   "cell_type": "code",
   "execution_count": null,
   "metadata": {},
   "outputs": [],
   "source": []
  },
  {
   "cell_type": "code",
   "execution_count": null,
   "metadata": {},
   "outputs": [],
   "source": []
  },
  {
   "cell_type": "code",
   "execution_count": null,
   "metadata": {},
   "outputs": [],
   "source": []
  },
  {
   "cell_type": "code",
   "execution_count": null,
   "metadata": {},
   "outputs": [],
   "source": []
  },
  {
   "cell_type": "code",
   "execution_count": null,
   "metadata": {},
   "outputs": [],
   "source": []
  }
 ],
 "metadata": {
  "kernelspec": {
   "display_name": "Python 3",
   "language": "python",
   "name": "python3"
  },
  "language_info": {
   "codemirror_mode": {
    "name": "ipython",
    "version": 3
   },
   "file_extension": ".py",
   "mimetype": "text/x-python",
   "name": "python",
   "nbconvert_exporter": "python",
   "pygments_lexer": "ipython3",
   "version": "3.7.4"
  }
 },
 "nbformat": 4,
 "nbformat_minor": 4
}
