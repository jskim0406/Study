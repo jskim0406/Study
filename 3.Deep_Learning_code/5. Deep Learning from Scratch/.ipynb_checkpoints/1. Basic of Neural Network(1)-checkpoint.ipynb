{
 "cells": [
  {
   "cell_type": "markdown",
   "metadata": {},
   "source": [
    "# 1. Numpy\n",
    "\n",
    "- Numpy는 element-wise 연산 기능 제공"
   ]
  },
  {
   "cell_type": "code",
   "execution_count": 2,
   "metadata": {},
   "outputs": [
    {
     "name": "stdout",
     "output_type": "stream",
     "text": [
      "a+b : [1, 2, 3, 4, 5, 6]\n",
      "a*b : 파이썬 리스트에 대해 a*b와 같은 연산을 할 수 없음\n",
      "\n",
      "a+b : [5 7 9]\n",
      "a*b : [ 4 10 18]\n"
     ]
    }
   ],
   "source": [
    "a = [1,2,3]\n",
    "b = [4,5,6]\n",
    "print(\"a+b :\",a+b)\n",
    "try:\n",
    "    print(a*b)\n",
    "except TypeError:\n",
    "    print(\"a*b : 파이썬 리스트에 대해 a*b와 같은 연산을 할 수 없음\")\n",
    "    \n",
    "print()\n",
    "a = np.array([1,2,3])\n",
    "b = np.array([4,5,6])\n",
    "print(\"a+b :\",a+b)\n",
    "print(\"a*b :\",a*b)"
   ]
  },
  {
   "cell_type": "markdown",
   "metadata": {},
   "source": [
    "**ndarray의 axis**\n",
    "- axis 0 : 열 기준\n",
    "- axis 1 : 행 기준\n",
    "\n",
    "    - ndarray.sum(axis=0) : 열 기준으로 sum 후 차원 축소"
   ]
  },
  {
   "cell_type": "code",
   "execution_count": 7,
   "metadata": {},
   "outputs": [
    {
     "name": "stdout",
     "output_type": "stream",
     "text": [
      "[[1 2]\n",
      " [3 4]]\n",
      "a.sum(axis=0): [4 6]\n",
      "a.sum(axis=1): [3 7]\n"
     ]
    }
   ],
   "source": [
    "a = np.array([[1,2],[3,4]])\n",
    "print(a)\n",
    "print('a.sum(axis=0):',a.sum(axis=0))\n",
    "print('a.sum(axis=1):',a.sum(axis=1))"
   ]
  },
  {
   "cell_type": "code",
   "execution_count": 9,
   "metadata": {},
   "outputs": [
    {
     "name": "stdout",
     "output_type": "stream",
     "text": [
      "a+b:\n",
      " [[11 22 33]\n",
      " [14 25 36]]\n"
     ]
    }
   ],
   "source": [
    "a = np.array([[1,2,3],\n",
    "              [4,5,6]])\n",
    "b = np.array([10,20,30])\n",
    "print('a+b:\\n', a+b)"
   ]
  },
  {
   "cell_type": "code",
   "execution_count": 20,
   "metadata": {},
   "outputs": [],
   "source": [
    "from typing import Callable\n",
    "\n",
    "def deriv(func: Callable[[np.ndarray],np.ndarray],\n",
    "         input_: np.ndarray,\n",
    "         delta: float = 0.001) -> np.ndarray:\n",
    "    \n",
    "    '''\n",
    "    배열의 input의 각 요소에 대해 함수 func의 도함수값 계산\n",
    "    '''\n",
    "    return (func(input_+delta) - func(input_-delta))/(2*delta)"
   ]
  },
  {
   "cell_type": "code",
   "execution_count": 97,
   "metadata": {},
   "outputs": [],
   "source": [
    "def square(x: np.ndarray) -> np.ndarray:\n",
    "    return np.power(x,2)\n",
    "\n",
    "def leaky_relu(x: np.ndarray) -> np.ndarray:\n",
    "    return np.max(0.2*x,x)\n",
    "\n",
    "def sigmoid(x: np.ndarray) -> np.ndarray:\n",
    "    return 1/(1+np.exp(-x))"
   ]
  },
  {
   "cell_type": "markdown",
   "metadata": {},
   "source": [
    "**함성함수**\n",
    "\n",
    "- assert : 방어적 조건문 프로그래밍\n",
    "    - assert condition, \"메시지\"\n",
    "        - 방어하고자 하는 조건 : condition, 만약 condition이 아니면 \"메시지\" 출력"
   ]
  },
  {
   "cell_type": "code",
   "execution_count": 50,
   "metadata": {},
   "outputs": [],
   "source": [
    "from typing import*\n",
    "\n",
    "# ndarray를 인자로 받고 ndarray를 반환하는 함수\n",
    "Array_function = Callable[[np.ndarray],np.ndarray]\n",
    "\n",
    "# chain은 함수의 리스트\n",
    "Chain = List[Array_function]\n",
    "\n",
    "def chain_length_2(chain: Chain,\n",
    "                  a: np.ndarray) -> np.ndarray:\n",
    "    '''\n",
    "    두 함수를 chain 평가\n",
    "    '''\n",
    "    assert len(chain) == 2,\\\n",
    "    \"인자 chain 의 길이는 2여야 함\"\n",
    "    \n",
    "    f1 = chain[0]\n",
    "    f2 = chain[1]\n",
    "    \n",
    "    return f2(f1(x))"
   ]
  },
  {
   "cell_type": "markdown",
   "metadata": {},
   "source": [
    "**Callable 이해**\n",
    "\n",
    "- callable(a) : a라는 object가 callable 한지 확인(return boolean)\n",
    "- Callable[[np.ndarray],np.ndarray] : 호출 가능한 자료형으로 만든 것"
   ]
  },
  {
   "cell_type": "code",
   "execution_count": 86,
   "metadata": {},
   "outputs": [],
   "source": [
    "class temp():\n",
    "    def __init__(self):\n",
    "        self.x = 1\n",
    "        \n",
    "    def __call__(self):\n",
    "        return \"호출가능\"\n",
    "    \n",
    "class temp_notcallable():\n",
    "    def __init__(self):\n",
    "        self.x = 1"
   ]
  },
  {
   "cell_type": "code",
   "execution_count": 92,
   "metadata": {},
   "outputs": [],
   "source": [
    "temp_test = temp()\n",
    "temp_test_notcallabe = temp_notcallable()"
   ]
  },
  {
   "cell_type": "code",
   "execution_count": 93,
   "metadata": {},
   "outputs": [
    {
     "data": {
      "text/plain": [
       "True"
      ]
     },
     "execution_count": 93,
     "metadata": {},
     "output_type": "execute_result"
    }
   ],
   "source": [
    "callable(temp)"
   ]
  },
  {
   "cell_type": "code",
   "execution_count": 94,
   "metadata": {
    "scrolled": true
   },
   "outputs": [
    {
     "data": {
      "text/plain": [
       "'호출가능'"
      ]
     },
     "execution_count": 94,
     "metadata": {},
     "output_type": "execute_result"
    }
   ],
   "source": [
    "temp_test()"
   ]
  },
  {
   "cell_type": "code",
   "execution_count": 60,
   "metadata": {},
   "outputs": [
    {
     "data": {
      "text/plain": [
       "True"
      ]
     },
     "execution_count": 60,
     "metadata": {},
     "output_type": "execute_result"
    }
   ],
   "source": [
    "callable(temp_test)"
   ]
  },
  {
   "cell_type": "code",
   "execution_count": 48,
   "metadata": {},
   "outputs": [
    {
     "data": {
      "text/plain": [
       "True"
      ]
     },
     "execution_count": 48,
     "metadata": {},
     "output_type": "execute_result"
    }
   ],
   "source": [
    "callable(temp_notcallable)"
   ]
  },
  {
   "cell_type": "code",
   "execution_count": 49,
   "metadata": {},
   "outputs": [
    {
     "data": {
      "text/plain": [
       "False"
      ]
     },
     "execution_count": 49,
     "metadata": {},
     "output_type": "execute_result"
    }
   ],
   "source": [
    "callable(temp_test_notcallabe)"
   ]
  },
  {
   "cell_type": "markdown",
   "metadata": {},
   "source": [
    "**Chain-rule**"
   ]
  },
  {
   "cell_type": "code",
   "execution_count": 96,
   "metadata": {},
   "outputs": [],
   "source": [
    "def chain_deriv_2(chain: Chain,\n",
    "                 input_range: np.ndarray) -> np.ndarray:\n",
    "    '''\n",
    "    두 함수로 구성된 합성함수의 도함수를 구하기 위해, Chain-rule을 사용함\n",
    "    (f2(f1(x))' = f2'(f1(x)) * f1'(x)\n",
    "    '''\n",
    "    \n",
    "    assert len(chain) == 2,\\\n",
    "    \"인자 chain의 길이는 2여야 함(2개 함수의 합성을 다룸)\"\n",
    "    \n",
    "    assert input_range.ndim == 1,\\\n",
    "    \"input_range는 1차원 ndarray여야 함(단변수 함수를 다룸)\"\n",
    "    \n",
    "    f1 = chain[0]\n",
    "    f2 = chain[1]\n",
    "    \n",
    "    # (df2/df1) * (df1/dx)\n",
    "    # df1/dx\n",
    "    df1_dx = deriv(f1,input_range)\n",
    "    df2_df1 = deriv(f2,f1(input_range))\n",
    "    \n",
    "    return df2_df1*df1_dx"
   ]
  },
  {
   "cell_type": "code",
   "execution_count": null,
   "metadata": {},
   "outputs": [],
   "source": []
  },
  {
   "cell_type": "code",
   "execution_count": null,
   "metadata": {},
   "outputs": [],
   "source": []
  },
  {
   "cell_type": "code",
   "execution_count": null,
   "metadata": {},
   "outputs": [],
   "source": []
  },
  {
   "cell_type": "code",
   "execution_count": null,
   "metadata": {},
   "outputs": [],
   "source": []
  },
  {
   "cell_type": "code",
   "execution_count": null,
   "metadata": {},
   "outputs": [],
   "source": []
  }
 ],
 "metadata": {
  "kernelspec": {
   "display_name": "Python 3",
   "language": "python",
   "name": "python3"
  },
  "language_info": {
   "codemirror_mode": {
    "name": "ipython",
    "version": 3
   },
   "file_extension": ".py",
   "mimetype": "text/x-python",
   "name": "python",
   "nbconvert_exporter": "python",
   "pygments_lexer": "ipython3",
   "version": "3.7.4"
  }
 },
 "nbformat": 4,
 "nbformat_minor": 4
}
